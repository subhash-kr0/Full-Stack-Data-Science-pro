{
  "nbformat": 4,
  "nbformat_minor": 0,
  "metadata": {
    "colab": {
      "provenance": []
    },
    "kernelspec": {
      "name": "python3",
      "display_name": "Python 3"
    },
    "language_info": {
      "name": "python"
    }
  },
  "cells": [
    {
      "cell_type": "code",
      "execution_count": null,
      "metadata": {
        "id": "SgnN8lKYdOKe"
      },
      "outputs": [],
      "source": [
        "import tensorflow as tf\n",
        "resnet_model=tf.keras.applications.ResNet50(weights='imagenet',include_top=False,input_shape=(224,224,3))\n",
        "resnet_model.trainable=False\n",
        "\n",
        "model_ouput=resnet_model.output\n",
        "flat=tf.keras.layers.Flatten()(model_ouput)\n",
        "#Classification Head\n",
        "\n",
        "x1=tf.keras.layers.Dense(128,activation='relu')(flat)\n",
        "x1=tf.keras.layers.Dense(64,activation='relu')(x1)\n",
        "x1=tf.keras.layers.Dense(32,activation='relu')(x1)\n",
        "out=tf.keras.layers.Dense(3,activation='softmax',name='classification_head')(x1)\n",
        "#this head is to detect the class of the object of interest (single) in the image MC problem with 3 classes\n",
        "\n",
        "#Regression Head\n",
        "x1=tf.keras.layers.Dense(128,activation='relu')(flat)\n",
        "x1=tf.keras.layers.Dense(64,activation='relu')(x1)\n",
        "x1=tf.keras.layers.Dense(32,activation='relu')(x1)\n",
        "\n",
        "x1=tf.keras.layers.Dense(4,name='reg_head')(x1)\n",
        "\n",
        "#this head is to detect the bx, by, bh,bw of the bounding box\n",
        "\n",
        "model_out=tf.keras.models.Model(inputs=resnet_model.input,outputs=[out,x1])\n",
        "\n"
      ]
    },
    {
      "cell_type": "code",
      "source": [
        "losses={\"classification_head\":\"categorical_crossentropy\",\"reg_head\":\"mse\"}\n",
        "metrics={\"classification_head\":\"accuracy\",\"reg_head\":\"mse\"}\n",
        "model_out.compile(optimizer='adam',loss=losses,metrics=metrics)\n",
        "\n",
        "\n",
        "model.fit(x,[y1,y2])"
      ],
      "metadata": {
        "id": "AFVjayTJi3Nj"
      },
      "execution_count": null,
      "outputs": []
    }
  ]
}