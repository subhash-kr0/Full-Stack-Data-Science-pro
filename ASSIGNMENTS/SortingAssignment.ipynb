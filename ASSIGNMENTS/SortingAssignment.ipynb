{
 "cells": [
  {
   "cell_type": "markdown",
   "metadata": {},
   "source": [
    "Problem 1.Given an array of n numbers, give an algorithm which gives the element appearing maximum\n",
    "number of times?"
   ]
  },
  {
   "cell_type": "code",
   "execution_count": 4,
   "metadata": {
    "ExecuteTime": {
     "end_time": "2024-02-26T08:59:46.243747900Z",
     "start_time": "2024-02-26T08:59:46.179886200Z"
    }
   },
   "outputs": [
    {
     "name": "stdout",
     "output_type": "stream",
     "text": [
      "4\n"
     ]
    }
   ],
   "source": [
    "def find_max_occurrence(nums):\n",
    "    count = {}\n",
    "    max_count = 0\n",
    "    max_item = None\n",
    "\n",
    "    for num in nums:\n",
    "        if num not in count:\n",
    "            count[num] = 1\n",
    "\n",
    "        else:\n",
    "            count[num] += 1\n",
    "\n",
    "        if count[num] > max_count:\n",
    "            max_count = count[num]\n",
    "            max_item = num\n",
    "\n",
    "    return max_item\n",
    "\n",
    "# Test the function\n",
    "nums = [1, 2, 2, 3, 3, 3, 4, 4, 4, 4]\n",
    "print(find_max_occurrence(nums))\n",
    "\n"
   ]
  },
  {
   "cell_type": "markdown",
   "metadata": {},
   "source": [
    "Problem 2 : We are given a list of n-1 integers and these integers are in the range of 1 to n . There are no\n",
    "duplicates in the list. One of the integers is missing in the list. Give an algorithm to find that element Ex:\n",
    "[1,2,4,6,3,7,8] 5 is the missing num."
   ]
  },
  {
   "cell_type": "code",
   "execution_count": 11,
   "metadata": {},
   "outputs": [
    {
     "name": "stdout",
     "output_type": "stream",
     "text": [
      "5\n"
     ]
    }
   ],
   "source": [
    "def find_missing(nums):\n",
    "    n = len(nums) + 1\n",
    "    total = n * (n + 1) // 2\n",
    "    return total - sum(nums)\n",
    "\n",
    "# Test the function\n",
    "nums = [1, 2, 4, 6, 3, 7, 8]\n",
    "print(find_missing(nums))\n"
   ]
  },
  {
   "cell_type": "markdown",
   "metadata": {},
   "source": [
    "Problem 3 : Given an array of n positive numbers. All numbers occurs even number of times except 1 which\n",
    "occurs odd number of times. Find that number in O(n) time and O(1) space. Ex: [1,2,3,2,3,1,3]. 3 is repeats odd\n",
    "times."
   ]
  },
  {
   "cell_type": "code",
   "execution_count": 10,
   "metadata": {},
   "outputs": [
    {
     "name": "stdout",
     "output_type": "stream",
     "text": [
      "3\n"
     ]
    }
   ],
   "source": [
    "def find_odd(nums):\n",
    "    res = 0\n",
    "    for num in nums:\n",
    "        res ^= num\n",
    "    return res\n",
    "\n",
    "# Test the function\n",
    "nums = [1, 2, 3, 2, 3, 1, 3]\n",
    "print(find_odd(nums))\n"
   ]
  },
  {
   "cell_type": "markdown",
   "metadata": {},
   "source": [
    "Problem 4 : Given an array of n elements. Find two elements in the array such that their sum is equal to given\n",
    "element K."
   ]
  },
  {
   "cell_type": "code",
   "execution_count": 9,
   "metadata": {},
   "outputs": [
    {
     "name": "stdout",
     "output_type": "stream",
     "text": [
      "(3, 4)\n"
     ]
    }
   ],
   "source": [
    "def find_elements(nums, K):\n",
    "    seen = {}\n",
    "\n",
    "    for num in nums:\n",
    "        complement = K - num\n",
    "        if complement in seen:\n",
    "            return (complement, num)\n",
    "        seen[num] = True\n",
    "\n",
    "    return \"No such elements found\"\n",
    "\n",
    "# Test the function\n",
    "nums = [1, 2, 3, 4, 5]\n",
    "K = 7\n",
    "print(find_elements(nums, K))\n"
   ]
  },
  {
   "cell_type": "markdown",
   "metadata": {},
   "source": [
    "Problem 5 : Given an array of both positive and negative numbers, find two numbers such that their sum is\n",
    "closest to 0. Ex: [ 1 ,60 ,-10, 70, -80,85]. Ans : -80,85."
   ]
  },
  {
   "cell_type": "code",
   "execution_count": 8,
   "metadata": {},
   "outputs": [
    {
     "name": "stdout",
     "output_type": "stream",
     "text": [
      "(-80, 85)\n"
     ]
    }
   ],
   "source": [
    "def find_elements(nums):\n",
    "    nums.sort()\n",
    "    l, r = 0, len(nums) - 1\n",
    "    min_sum = float('inf')\n",
    "    min_l = l\n",
    "    min_r = r\n",
    "\n",
    "    while l < r:\n",
    "        total = nums[l] + nums[r]\n",
    "\n",
    "        if abs(total) < abs(min_sum):\n",
    "            min_sum = total\n",
    "            min_l = l\n",
    "            min_r = r\n",
    "\n",
    "        if total < 0:\n",
    "            l += 1\n",
    "        else:\n",
    "            r -= 1\n",
    "\n",
    "    return (nums[min_l], nums[min_r])\n",
    "\n",
    "# Test the function\n",
    "nums = [1, 60, -10, 70, -80, 85]\n",
    "print(find_elements(nums))\n"
   ]
  },
  {
   "cell_type": "markdown",
   "metadata": {},
   "source": [
    "Problem 6 : Given an array of n elements . Find three elements such that their sum is equal to the given\n",
    "number."
   ]
  },
  {
   "cell_type": "code",
   "execution_count": 7,
   "metadata": {},
   "outputs": [
    {
     "name": "stdout",
     "output_type": "stream",
     "text": [
      "(4, 8, 10)\n"
     ]
    }
   ],
   "source": [
    "def find_elements(nums, target):\n",
    "    nums.sort()\n",
    "\n",
    "    for i in range(len(nums) - 2):\n",
    "        if i > 0 and nums[i] == nums[i - 1]:\n",
    "            continue\n",
    "\n",
    "        l, r = i + 1, len(nums) - 1\n",
    "        while l < r:\n",
    "            total = nums[i] + nums[l] + nums[r]\n",
    "\n",
    "            if total == target:\n",
    "                return (nums[i], nums[l], nums[r])\n",
    "            elif total < target:\n",
    "                l += 1\n",
    "            else:\n",
    "                r -= 1\n",
    "\n",
    "    return \"No such elements found\"\n",
    "\n",
    "# Test the function\n",
    "nums = [1, 4, 45, 6, 10, 8]\n",
    "target = 22\n",
    "print(find_elements(nums, target))\n"
   ]
  },
  {
   "cell_type": "markdown",
   "metadata": {},
   "source": [
    "Problem 7 : Given an array of n elements . Find three elements i, j, k in the array such that\n",
    "i * i + j * j = k*k."
   ]
  },
  {
   "cell_type": "code",
   "execution_count": 6,
   "metadata": {},
   "outputs": [
    {
     "name": "stdout",
     "output_type": "stream",
     "text": [
      "(3.0, 4.0, 5.0)\n"
     ]
    }
   ],
   "source": [
    "def find_elements(nums):\n",
    "    # Square each element and sort the array\n",
    "    nums = [num * num for num in nums]\n",
    "    nums.sort()\n",
    "\n",
    "    # For each element 'c' in the array\n",
    "    for i in range(len(nums) - 1, 1, -1):\n",
    "        c = nums[i]\n",
    "\n",
    "        # Check if there exist elements 'a' and 'b' such that 'a + b = c'\n",
    "        j = 0\n",
    "        k = i - 1\n",
    "        while j < k:\n",
    "            if nums[j] + nums[k] == c:\n",
    "                return (nums[j]**0.5, nums[k]**0.5, c**0.5)\n",
    "            elif nums[j] + nums[k] < c:\n",
    "                j += 1\n",
    "            else:\n",
    "                k -= 1\n",
    "\n",
    "    return \"No such elements found\"\n",
    "\n",
    "# Test the function\n",
    "nums = [3, 1, 4, 6, 5]\n",
    "print(find_elements(nums))\n"
   ]
  },
  {
   "cell_type": "markdown",
   "metadata": {},
   "source": [
    "Problem 8 : An element is a majority if it appears more than n/2 times. Give an algorithm takes an array of n\n",
    "element as argument and identifies a majority (if it exists)."
   ]
  },
  {
   "cell_type": "code",
   "execution_count": 5,
   "metadata": {},
   "outputs": [
    {
     "name": "stdout",
     "output_type": "stream",
     "text": [
      "2\n"
     ]
    }
   ],
   "source": [
    "def find_majority(nums):\n",
    "    count = 0\n",
    "    candidate = None\n",
    "\n",
    "    for num in nums:\n",
    "        if count == 0:\n",
    "            candidate = num\n",
    "        count += (1 if num == candidate else -1)\n",
    "\n",
    "    # Verify if the candidate is the majority element\n",
    "    if nums.count(candidate) > len(nums) // 2:\n",
    "        return candidate\n",
    "    else:\n",
    "        return \"No Majority Element\"\n",
    "\n",
    "# Test the function\n",
    "nums = [2, 2, 1, 1, 1, 2, 2]\n",
    "print(find_majority(nums))\n"
   ]
  },
  {
   "cell_type": "markdown",
   "metadata": {},
   "source": [
    "Problem 9 : Given n × n matrix, and in each row all 1’s are followed by 0’s. Find the row with the maximum\n",
    "number of 0’s."
   ]
  },
  {
   "cell_type": "code",
   "execution_count": 4,
   "metadata": {},
   "outputs": [
    {
     "name": "stdout",
     "output_type": "stream",
     "text": [
      "2\n"
     ]
    }
   ],
   "source": [
    "def row_with_max_zeros(matrix):\n",
    "    n = len(matrix)\n",
    "    max_row_index = 0\n",
    "    j = n - 1  # Start from the last column\n",
    "\n",
    "    for i in range(n):\n",
    "        # Move towards the left until a 1 is encountered\n",
    "        while matrix[i][j] == 0 and j >= 0:\n",
    "            j -= 1\n",
    "            max_row_index = i  # Update the row index\n",
    "\n",
    "    return max_row_index\n",
    "\n",
    "# Test the function\n",
    "matrix = [[1, 1, 1, 0],\n",
    "          [1, 1, 0, 0],\n",
    "          [1, 0, 0, 0],\n",
    "          [1, 1, 1, 1]]\n",
    "print(row_with_max_zeros(matrix))\n"
   ]
  },
  {
   "cell_type": "markdown",
   "metadata": {},
   "source": [
    "Problem 10 : Sort an array of 0’s, 1’s and 2’s [or R’s, G’s and B’s]: Given an array A[] consisting of 0’s, 1’s and\n",
    "2’s, give an algorithm for sorting A[].The algorithm should put all 0’s first, then all 1’s and finally all 2’s at the\n",
    "end. Example Input = {0,1,1,0,1,2,1,2,0,0,0,1}, Output = {0,0,0,0,0,1,1,1,1,1,2,2}"
   ]
  },
  {
   "cell_type": "code",
   "execution_count": 3,
   "metadata": {},
   "outputs": [
    {
     "name": "stdout",
     "output_type": "stream",
     "text": [
      "[0, 0, 0, 0, 0, 1, 1, 1, 1, 1, 2, 2]\n"
     ]
    }
   ],
   "source": [
    "def sort_array(nums):\n",
    "    low, mid, high = 0, 0, len(nums) - 1\n",
    "\n",
    "    while mid <= high:\n",
    "        if nums[mid] == 0:\n",
    "            nums[low], nums[mid] = nums[mid], nums[low]\n",
    "            low += 1\n",
    "            mid += 1\n",
    "        elif nums[mid] == 1:\n",
    "            mid += 1\n",
    "        else:\n",
    "            nums[mid], nums[high] = nums[high], nums[mid]\n",
    "            high -= 1\n",
    "    return nums\n",
    "\n",
    "# Test the function\n",
    "input_array = [0,1,1,0,1,2,1,2,0,0,0,1]\n",
    "print(sort_array(input_array))\n"
   ]
  }
 ],
 "metadata": {
  "kernelspec": {
   "display_name": "Python 3",
   "language": "python",
   "name": "python3"
  },
  "language_info": {
   "codemirror_mode": {
    "name": "ipython",
    "version": 3
   },
   "file_extension": ".py",
   "mimetype": "text/x-python",
   "name": "python",
   "nbconvert_exporter": "python",
   "pygments_lexer": "ipython3",
   "version": "3.12.1"
  }
 },
 "nbformat": 4,
 "nbformat_minor": 2
}
