{
 "cells": [
  {
   "cell_type": "markdown",
   "id": "6bad987c",
   "metadata": {},
   "source": [
    "# AMAZON DATASET"
   ]
  },
  {
   "cell_type": "code",
   "execution_count": 2,
   "id": "c20cec9c",
   "metadata": {},
   "outputs": [],
   "source": [
    "import pandas as pd\n",
    "import numpy as np\n",
    "import matplotlib.pyplot as plt\n",
    "import seaborn as sns\n",
    "%matplotlib inline\n",
    "from warnings import filterwarnings\n",
    "filterwarnings(\"ignore\")"
   ]
  },
  {
   "cell_type": "code",
   "execution_count": 9,
   "id": "081b4897",
   "metadata": {},
   "outputs": [
    {
     "data": {
      "text/html": [
       "<div>\n",
       "<style scoped>\n",
       "    .dataframe tbody tr th:only-of-type {\n",
       "        vertical-align: middle;\n",
       "    }\n",
       "\n",
       "    .dataframe tbody tr th {\n",
       "        vertical-align: top;\n",
       "    }\n",
       "\n",
       "    .dataframe thead th {\n",
       "        text-align: right;\n",
       "    }\n",
       "</style>\n",
       "<table border=\"1\" class=\"dataframe\">\n",
       "  <thead>\n",
       "    <tr style=\"text-align: right;\">\n",
       "      <th></th>\n",
       "      <th>product_id</th>\n",
       "      <th>product_name</th>\n",
       "      <th>category</th>\n",
       "      <th>discounted_price</th>\n",
       "      <th>actual_price</th>\n",
       "      <th>discount_percentage</th>\n",
       "      <th>rating</th>\n",
       "      <th>rating_count</th>\n",
       "      <th>about_product</th>\n",
       "      <th>user_id</th>\n",
       "      <th>user_name</th>\n",
       "      <th>review_id</th>\n",
       "      <th>review_title</th>\n",
       "      <th>review_content</th>\n",
       "      <th>img_link</th>\n",
       "      <th>product_link</th>\n",
       "    </tr>\n",
       "  </thead>\n",
       "  <tbody>\n",
       "    <tr>\n",
       "      <th>0</th>\n",
       "      <td>B07JW9H4J1</td>\n",
       "      <td>Wayona Nylon Braided USB to Lightning Fast Cha...</td>\n",
       "      <td>Computers&amp;Accessories|Accessories&amp;Peripherals|...</td>\n",
       "      <td>₹399</td>\n",
       "      <td>₹1,099</td>\n",
       "      <td>64%</td>\n",
       "      <td>4.2</td>\n",
       "      <td>24,269</td>\n",
       "      <td>High Compatibility : Compatible With iPhone 12...</td>\n",
       "      <td>AG3D6O4STAQKAY2UVGEUV46KN35Q,AHMY5CWJMMK5BJRBB...</td>\n",
       "      <td>Manav,Adarsh gupta,Sundeep,S.Sayeed Ahmed,jasp...</td>\n",
       "      <td>R3HXWT0LRP0NMF,R2AJM3LFTLZHFO,R6AQJGUP6P86,R1K...</td>\n",
       "      <td>Satisfied,Charging is really fast,Value for mo...</td>\n",
       "      <td>Looks durable Charging is fine tooNo complains...</td>\n",
       "      <td>https://m.media-amazon.com/images/W/WEBP_40237...</td>\n",
       "      <td>https://www.amazon.in/Wayona-Braided-WN3LG1-Sy...</td>\n",
       "    </tr>\n",
       "    <tr>\n",
       "      <th>1</th>\n",
       "      <td>B098NS6PVG</td>\n",
       "      <td>Ambrane Unbreakable 60W / 3A Fast Charging 1.5...</td>\n",
       "      <td>Computers&amp;Accessories|Accessories&amp;Peripherals|...</td>\n",
       "      <td>₹199</td>\n",
       "      <td>₹349</td>\n",
       "      <td>43%</td>\n",
       "      <td>4.0</td>\n",
       "      <td>43,994</td>\n",
       "      <td>Compatible with all Type C enabled devices, be...</td>\n",
       "      <td>AECPFYFQVRUWC3KGNLJIOREFP5LQ,AGYYVPDD7YG7FYNBX...</td>\n",
       "      <td>ArdKn,Nirbhay kumar,Sagar Viswanathan,Asp,Plac...</td>\n",
       "      <td>RGIQEG07R9HS2,R1SMWZQ86XIN8U,R2J3Y1WL29GWDE,RY...</td>\n",
       "      <td>A Good Braided Cable for Your Type C Device,Go...</td>\n",
       "      <td>I ordered this cable to connect my phone to An...</td>\n",
       "      <td>https://m.media-amazon.com/images/W/WEBP_40237...</td>\n",
       "      <td>https://www.amazon.in/Ambrane-Unbreakable-Char...</td>\n",
       "    </tr>\n",
       "    <tr>\n",
       "      <th>2</th>\n",
       "      <td>B096MSW6CT</td>\n",
       "      <td>Sounce Fast Phone Charging Cable &amp; Data Sync U...</td>\n",
       "      <td>Computers&amp;Accessories|Accessories&amp;Peripherals|...</td>\n",
       "      <td>₹199</td>\n",
       "      <td>₹1,899</td>\n",
       "      <td>90%</td>\n",
       "      <td>3.9</td>\n",
       "      <td>7,928</td>\n",
       "      <td>【 Fast Charger&amp; Data Sync】-With built-in safet...</td>\n",
       "      <td>AGU3BBQ2V2DDAMOAKGFAWDDQ6QHA,AESFLDV2PT363T2AQ...</td>\n",
       "      <td>Kunal,Himanshu,viswanath,sai niharka,saqib mal...</td>\n",
       "      <td>R3J3EQQ9TZI5ZJ,R3E7WBGK7ID0KV,RWU79XKQ6I1QF,R2...</td>\n",
       "      <td>Good speed for earlier versions,Good Product,W...</td>\n",
       "      <td>Not quite durable and sturdy,https://m.media-a...</td>\n",
       "      <td>https://m.media-amazon.com/images/W/WEBP_40237...</td>\n",
       "      <td>https://www.amazon.in/Sounce-iPhone-Charging-C...</td>\n",
       "    </tr>\n",
       "    <tr>\n",
       "      <th>3</th>\n",
       "      <td>B08HDJ86NZ</td>\n",
       "      <td>boAt Deuce USB 300 2 in 1 Type-C &amp; Micro USB S...</td>\n",
       "      <td>Computers&amp;Accessories|Accessories&amp;Peripherals|...</td>\n",
       "      <td>₹329</td>\n",
       "      <td>₹699</td>\n",
       "      <td>53%</td>\n",
       "      <td>4.2</td>\n",
       "      <td>94,363</td>\n",
       "      <td>The boAt Deuce USB 300 2 in 1 cable is compati...</td>\n",
       "      <td>AEWAZDZZJLQUYVOVGBEUKSLXHQ5A,AG5HTSFRRE6NL3M5S...</td>\n",
       "      <td>Omkar dhale,JD,HEMALATHA,Ajwadh a.,amar singh ...</td>\n",
       "      <td>R3EEUZKKK9J36I,R3HJVYCLYOY554,REDECAZ7AMPQC,R1...</td>\n",
       "      <td>Good product,Good one,Nice,Really nice product...</td>\n",
       "      <td>Good product,long wire,Charges good,Nice,I bou...</td>\n",
       "      <td>https://m.media-amazon.com/images/I/41V5FtEWPk...</td>\n",
       "      <td>https://www.amazon.in/Deuce-300-Resistant-Tang...</td>\n",
       "    </tr>\n",
       "    <tr>\n",
       "      <th>4</th>\n",
       "      <td>B08CF3B7N1</td>\n",
       "      <td>Portronics Konnect L 1.2M Fast Charging 3A 8 P...</td>\n",
       "      <td>Computers&amp;Accessories|Accessories&amp;Peripherals|...</td>\n",
       "      <td>₹154</td>\n",
       "      <td>₹399</td>\n",
       "      <td>61%</td>\n",
       "      <td>4.2</td>\n",
       "      <td>16,905</td>\n",
       "      <td>[CHARGE &amp; SYNC FUNCTION]- This cable comes wit...</td>\n",
       "      <td>AE3Q6KSUK5P75D5HFYHCRAOLODSA,AFUGIFH5ZAFXRDSZH...</td>\n",
       "      <td>rahuls6099,Swasat Borah,Ajay Wadke,Pranali,RVK...</td>\n",
       "      <td>R1BP4L2HH9TFUP,R16PVJEXKV6QZS,R2UPDB81N66T4P,R...</td>\n",
       "      <td>As good as original,Decent,Good one for second...</td>\n",
       "      <td>Bought this instead of original apple, does th...</td>\n",
       "      <td>https://m.media-amazon.com/images/W/WEBP_40237...</td>\n",
       "      <td>https://www.amazon.in/Portronics-Konnect-POR-1...</td>\n",
       "    </tr>\n",
       "  </tbody>\n",
       "</table>\n",
       "</div>"
      ],
      "text/plain": [
       "   product_id                                       product_name  \\\n",
       "0  B07JW9H4J1  Wayona Nylon Braided USB to Lightning Fast Cha...   \n",
       "1  B098NS6PVG  Ambrane Unbreakable 60W / 3A Fast Charging 1.5...   \n",
       "2  B096MSW6CT  Sounce Fast Phone Charging Cable & Data Sync U...   \n",
       "3  B08HDJ86NZ  boAt Deuce USB 300 2 in 1 Type-C & Micro USB S...   \n",
       "4  B08CF3B7N1  Portronics Konnect L 1.2M Fast Charging 3A 8 P...   \n",
       "\n",
       "                                            category discounted_price  \\\n",
       "0  Computers&Accessories|Accessories&Peripherals|...             ₹399   \n",
       "1  Computers&Accessories|Accessories&Peripherals|...             ₹199   \n",
       "2  Computers&Accessories|Accessories&Peripherals|...             ₹199   \n",
       "3  Computers&Accessories|Accessories&Peripherals|...             ₹329   \n",
       "4  Computers&Accessories|Accessories&Peripherals|...             ₹154   \n",
       "\n",
       "  actual_price discount_percentage  rating rating_count  \\\n",
       "0       ₹1,099                 64%     4.2       24,269   \n",
       "1         ₹349                 43%     4.0       43,994   \n",
       "2       ₹1,899                 90%     3.9        7,928   \n",
       "3         ₹699                 53%     4.2       94,363   \n",
       "4         ₹399                 61%     4.2       16,905   \n",
       "\n",
       "                                       about_product  \\\n",
       "0  High Compatibility : Compatible With iPhone 12...   \n",
       "1  Compatible with all Type C enabled devices, be...   \n",
       "2  【 Fast Charger& Data Sync】-With built-in safet...   \n",
       "3  The boAt Deuce USB 300 2 in 1 cable is compati...   \n",
       "4  [CHARGE & SYNC FUNCTION]- This cable comes wit...   \n",
       "\n",
       "                                             user_id  \\\n",
       "0  AG3D6O4STAQKAY2UVGEUV46KN35Q,AHMY5CWJMMK5BJRBB...   \n",
       "1  AECPFYFQVRUWC3KGNLJIOREFP5LQ,AGYYVPDD7YG7FYNBX...   \n",
       "2  AGU3BBQ2V2DDAMOAKGFAWDDQ6QHA,AESFLDV2PT363T2AQ...   \n",
       "3  AEWAZDZZJLQUYVOVGBEUKSLXHQ5A,AG5HTSFRRE6NL3M5S...   \n",
       "4  AE3Q6KSUK5P75D5HFYHCRAOLODSA,AFUGIFH5ZAFXRDSZH...   \n",
       "\n",
       "                                           user_name  \\\n",
       "0  Manav,Adarsh gupta,Sundeep,S.Sayeed Ahmed,jasp...   \n",
       "1  ArdKn,Nirbhay kumar,Sagar Viswanathan,Asp,Plac...   \n",
       "2  Kunal,Himanshu,viswanath,sai niharka,saqib mal...   \n",
       "3  Omkar dhale,JD,HEMALATHA,Ajwadh a.,amar singh ...   \n",
       "4  rahuls6099,Swasat Borah,Ajay Wadke,Pranali,RVK...   \n",
       "\n",
       "                                           review_id  \\\n",
       "0  R3HXWT0LRP0NMF,R2AJM3LFTLZHFO,R6AQJGUP6P86,R1K...   \n",
       "1  RGIQEG07R9HS2,R1SMWZQ86XIN8U,R2J3Y1WL29GWDE,RY...   \n",
       "2  R3J3EQQ9TZI5ZJ,R3E7WBGK7ID0KV,RWU79XKQ6I1QF,R2...   \n",
       "3  R3EEUZKKK9J36I,R3HJVYCLYOY554,REDECAZ7AMPQC,R1...   \n",
       "4  R1BP4L2HH9TFUP,R16PVJEXKV6QZS,R2UPDB81N66T4P,R...   \n",
       "\n",
       "                                        review_title  \\\n",
       "0  Satisfied,Charging is really fast,Value for mo...   \n",
       "1  A Good Braided Cable for Your Type C Device,Go...   \n",
       "2  Good speed for earlier versions,Good Product,W...   \n",
       "3  Good product,Good one,Nice,Really nice product...   \n",
       "4  As good as original,Decent,Good one for second...   \n",
       "\n",
       "                                      review_content  \\\n",
       "0  Looks durable Charging is fine tooNo complains...   \n",
       "1  I ordered this cable to connect my phone to An...   \n",
       "2  Not quite durable and sturdy,https://m.media-a...   \n",
       "3  Good product,long wire,Charges good,Nice,I bou...   \n",
       "4  Bought this instead of original apple, does th...   \n",
       "\n",
       "                                            img_link  \\\n",
       "0  https://m.media-amazon.com/images/W/WEBP_40237...   \n",
       "1  https://m.media-amazon.com/images/W/WEBP_40237...   \n",
       "2  https://m.media-amazon.com/images/W/WEBP_40237...   \n",
       "3  https://m.media-amazon.com/images/I/41V5FtEWPk...   \n",
       "4  https://m.media-amazon.com/images/W/WEBP_40237...   \n",
       "\n",
       "                                        product_link  \n",
       "0  https://www.amazon.in/Wayona-Braided-WN3LG1-Sy...  \n",
       "1  https://www.amazon.in/Ambrane-Unbreakable-Char...  \n",
       "2  https://www.amazon.in/Sounce-iPhone-Charging-C...  \n",
       "3  https://www.amazon.in/Deuce-300-Resistant-Tang...  \n",
       "4  https://www.amazon.in/Portronics-Konnect-POR-1...  "
      ]
     },
     "execution_count": 9,
     "metadata": {},
     "output_type": "execute_result"
    }
   ],
   "source": [
    "# Load the data\n",
    "amazon_df = pd.read_csv('amazon.csv')\n",
    "amazon_df['rating'] = pd.to_numeric(amazon_df['rating'], errors='coerce')\n",
    "amazon_df.head()"
   ]
  },
  {
   "cell_type": "code",
   "execution_count": 5,
   "id": "79556edd",
   "metadata": {},
   "outputs": [
    {
     "name": "stdout",
     "output_type": "stream",
     "text": [
      "product_id             0\n",
      "product_name           0\n",
      "category               0\n",
      "discounted_price       0\n",
      "actual_price           0\n",
      "discount_percentage    0\n",
      "rating                 0\n",
      "rating_count           2\n",
      "about_product          0\n",
      "user_id                0\n",
      "user_name              0\n",
      "review_id              0\n",
      "review_title           0\n",
      "review_content         0\n",
      "img_link               0\n",
      "product_link           0\n",
      "dtype: int64\n"
     ]
    }
   ],
   "source": [
    "# Check for missing values\n",
    "print(amazon_df.isnull().sum())"
   ]
  },
  {
   "cell_type": "code",
   "execution_count": 6,
   "id": "a66667f9",
   "metadata": {},
   "outputs": [],
   "source": [
    "# Remove duplicate rows if necessary\n",
    "amazon_df.drop_duplicates(inplace=True)"
   ]
  },
  {
   "cell_type": "markdown",
   "id": "4eca9357",
   "metadata": {},
   "source": [
    "#### The dataset has 10683 rows and 11 Columns"
   ]
  },
  {
   "cell_type": "code",
   "execution_count": 10,
   "id": "98cfd01e",
   "metadata": {},
   "outputs": [
    {
     "name": "stdout",
     "output_type": "stream",
     "text": [
      "Average Rating per Category:\n",
      "category\n",
      "Car&Motorbike|CarAccessories|InteriorAccessories|AirPurifiers&Ionizers                                                    3.800000\n",
      "Computers&Accessories|Accessories&Peripherals|Adapters|USBtoUSBAdapters                                                   4.150000\n",
      "Computers&Accessories|Accessories&Peripherals|Audio&VideoAccessories|PCHeadsets                                           3.500000\n",
      "Computers&Accessories|Accessories&Peripherals|Audio&VideoAccessories|PCMicrophones                                        3.600000\n",
      "Computers&Accessories|Accessories&Peripherals|Audio&VideoAccessories|PCSpeakers                                           4.050000\n",
      "                                                                                                                            ...   \n",
      "OfficeProducts|OfficePaperProducts|Paper|Stationery|Pens,Pencils&WritingSupplies|Pens&Refills|GelInkRollerballPens        4.250000\n",
      "OfficeProducts|OfficePaperProducts|Paper|Stationery|Pens,Pencils&WritingSupplies|Pens&Refills|LiquidInkRollerballPens     4.150000\n",
      "OfficeProducts|OfficePaperProducts|Paper|Stationery|Pens,Pencils&WritingSupplies|Pens&Refills|RetractableBallpointPens    4.300000\n",
      "OfficeProducts|OfficePaperProducts|Paper|Stationery|Pens,Pencils&WritingSupplies|Pens&Refills|StickBallpointPens          4.133333\n",
      "Toys&Games|Arts&Crafts|Drawing&PaintingSupplies|ColouringPens&Markers                                                     4.300000\n",
      "Name: rating, Length: 211, dtype: float64\n"
     ]
    }
   ],
   "source": [
    "# Calculate the average rating for each product category\n",
    "avg_rating_per_category = amazon_df.groupby('category')['rating'].mean()\n",
    "print(\"Average Rating per Category:\")\n",
    "print(avg_rating_per_category)"
   ]
  },
  {
   "cell_type": "code",
   "execution_count": 11,
   "id": "7ce5e41d",
   "metadata": {},
   "outputs": [
    {
     "name": "stdout",
     "output_type": "stream",
     "text": [
      "Top Products by Rating Count in Each Category:\n",
      "      product_id                                       product_name  \\\n",
      "1157  B0912WJ87V  Reffair AX30 [MAX] Portable Air Purifier for C...   \n",
      "695   B097C564GC  rts [2 Pack] Mini USB C Type C Adapter Plug, T...   \n",
      "906   B009LJ2BXA  Hp Wired On Ear Headphones With Mic With 3.5 M...   \n",
      "772   B08HD7JQHX  HUMBLE Dynamic Lapel Collar Mic Voice Recordin...   \n",
      "844   B08K9PX15C  Zebronics Zeb Wonderbar 10 USB Powered 2.0 Com...   \n",
      "...          ...                                                ...   \n",
      "616   B07KCMR8D6  Classmate Octane Neon- Blue Gel Pens(Pack of 5...   \n",
      "993   B00S2SEV7K  Pilot Frixion Clicker Roller Pen (Blue), (9000...   \n",
      "765   B00LM4W1N2             Parker Classic Gold Gold Trim Ball Pen   \n",
      "850   B07SBGFDX9     Pentonic Multicolor Ball Point Pen, Pack of 10   \n",
      "924   B00DJ5N9VK  Faber-Castell Connector Pen Set - Pack of 25 (...   \n",
      "\n",
      "                                               category discounted_price  \\\n",
      "1157  Car&Motorbike|CarAccessories|InteriorAccessori...           ₹2,339   \n",
      "695   Computers&Accessories|Accessories&Peripherals|...             ₹294   \n",
      "906   Computers&Accessories|Accessories&Peripherals|...             ₹649   \n",
      "772   Computers&Accessories|Accessories&Peripherals|...             ₹199   \n",
      "844   Computers&Accessories|Accessories&Peripherals|...             ₹849   \n",
      "...                                                 ...              ...   \n",
      "616   OfficeProducts|OfficePaperProducts|Paper|Stati...              ₹50   \n",
      "993   OfficeProducts|OfficePaperProducts|Paper|Stati...              ₹90   \n",
      "765   OfficeProducts|OfficePaperProducts|Paper|Stati...             ₹480   \n",
      "850   OfficeProducts|OfficePaperProducts|Paper|Stati...             ₹120   \n",
      "924   Toys&Games|Arts&Crafts|Drawing&PaintingSupplie...             ₹150   \n",
      "\n",
      "     actual_price discount_percentage  rating rating_count  \\\n",
      "1157       ₹4,000                 42%     3.8        1,118   \n",
      "695        ₹4,999                 94%     4.3        4,426   \n",
      "906          ₹999                 35%     3.5        7,222   \n",
      "772          ₹499                 60%     3.3        2,804   \n",
      "844        ₹1,499                 43%     4.0        7,352   \n",
      "...           ...                 ...     ...          ...   \n",
      "616           ₹50                  0%     4.3        5,792   \n",
      "993          ₹100                 10%     4.1        6,199   \n",
      "765          ₹600                 20%     4.3        5,719   \n",
      "850          ₹120                  0%     4.1        4,308   \n",
      "924          ₹150                  0%     4.3       15,867   \n",
      "\n",
      "                                          about_product  \\\n",
      "1157  [NEW LAUNCH - INNOVATIVE DESIGN] EFFICIENT PUR...   \n",
      "695   【WIDER COMPATIBILITY】This USB C Female to USB ...   \n",
      "906   Powerful bass and clear treble sounds|Wired co...   \n",
      "772   SOUND RECORDING: With the Miracle Sound Microp...   \n",
      "844   The 2.0 speaker has a versatile design that ca...   \n",
      "...                                                 ...   \n",
      "616   5 vibrant Neon body color|Smooth and fast writ...   \n",
      "993   Unique patented thermo-sensitive Frixion Ink|A...   \n",
      "765   Parker Classic Gold GT has a tungsten carbide ...   \n",
      "850   0.7 mm tip size|Black Body, Multicolor Ink(Bla...   \n",
      "924   Simply draw and color or clip these pens toget...   \n",
      "\n",
      "                                                user_id  \\\n",
      "1157  AG6W5HESRSDLBX3NCYOOUGFOWERA,AED4U5CF37HVSYPMD...   \n",
      "695   AGO5SRT3ESLNL5WTRQFD5BSIYPQA,AGGNODUMRADB3PQQT...   \n",
      "906   AFIZUD4UBB67LGWY6CVLRHKA75IA,AG2TD3527KNZZNE46...   \n",
      "772   AFILRU3X2FCDPDW5UKLT6C7OPJSA,AFWTGD4FCS2E2U2TD...   \n",
      "844   AFC7Q5Q64XM2Y64FT7Y3L2YVALRA,AG7C5TFPIBMWQQC2S...   \n",
      "...                                                 ...   \n",
      "616   AEVPRYZLGHNMEZA5BYGIX36LYZXA,AEZPOZQEEBFFXZ2EQ...   \n",
      "993   AFSJUWV2I4CD53EPCRMOQJ3CWR3Q,AGLYAYWTFPPMLELDG...   \n",
      "765   AEWRRSZJ7PFNPLN3PDWMWQJ2UEIA,AHWNKLMNWM55LSYHS...   \n",
      "850   AGK76H5VGHDWFQD7JTHVKZNQ5BHA,AHWXK2FU23OBRZZUA...   \n",
      "924   AE5D3EMPETKIA4VU4SZU5UIHXKQA,AFF76KWKCMR6GNPUX...   \n",
      "\n",
      "                                              user_name  \\\n",
      "1157  Arivazhagan,Ajit,swanand pandit,Venkatesh S.,S...   \n",
      "695   Naga Sai Gadagottu,Neha Sharma,Amazon Customer...   \n",
      "906   Deepthi,Nitin Mishra,Raju Chacko,A.VISWANATHAR...   \n",
      "772   Afrina Hasnat,BKBasu,Ayush Raghuvanshi,Wilfrie...   \n",
      "844   Balamurugan Trivandrum,prathmesh sawant,Pravee...   \n",
      "...                                                 ...   \n",
      "616   Gatij saini,Biswajit Kundu,Altaf Khan,Agam Sar...   \n",
      "993   Abhay Gupta,vimal rastogi,Sughnesha,Prityush,A...   \n",
      "765   Diksha Wankhede,Sam,Shafi Nagani,Unified Excel...   \n",
      "850   Parul S.,Prateek Tiwari,kateriki,golla ramesh,...   \n",
      "924   Aradhna Aadhya,sonali ghosh,Sam,VGRK,Surfer007...   \n",
      "\n",
      "                                              review_id  \\\n",
      "1157  R3TOOFPX256D59,R1PR50BDQOEIIO,R392FI4QWXWOX5,R...   \n",
      "695   R3CUNCZTU43JPP,RSO46BN8S4OSU,R2UD5D7T4DZRE5,R2...   \n",
      "906   R392ZYXC6D3GY0,R1MJHZXZ09ETAE,R20PJKJTCF9RXN,R...   \n",
      "772   REQ74ZVYY2I01,R15RS7QIKMBY5Z,RCYHKHTW0MAL8,R1A...   \n",
      "844   R2USVKN5VQX7ZL,R36O11JTBG8NKH,R1OC5OKQ1ZHRT4,R...   \n",
      "...                                                 ...   \n",
      "616   RZAAQFY7BDSWC,R3604ZO2AA4PK5,R3C8K6Z6W9MDTQ,R3...   \n",
      "993   R1QL22IXTM3HYM,R2BCCQQCMW4X56,R8MW9P91PIMJ3,R1...   \n",
      "765   R18AG9M9HHC6RB,R3AQT2WK20V0JD,R10LMVOXP4TLSA,R...   \n",
      "850   R1FXYA8WISUWTK,R2C5SUFAIFCKV9,RD87PA0KNH3GQ,R1...   \n",
      "924   R39PYNXMLNEIYW,R3AMNR0LJWNAUU,R2P5M80U8OL9OQ,R...   \n",
      "\n",
      "                                           review_title  \\\n",
      "1157  Liked it,User friendly and effective,Not as pe...   \n",
      "695   Tiny helping hand,Good product,As a whole good...   \n",
      "906   Headset,Overall a good product. Sound quality ...   \n",
      "772   No TRRS to TRS converter in the box,Not suitab...   \n",
      "844   Nice product from Zebronics... Using for lapto...   \n",
      "...                                                 ...   \n",
      "616   Nice ball pen,Good product,Average,Nice Pen,It...   \n",
      "993   Good... 😊,Nice pen but it has some problems.,A...   \n",
      "765   So good ,nice looking,Value for money and a ni...   \n",
      "850   Average,I like the 'Pentonic' pens,which is wh...   \n",
      "924   As this was my 2nd order for same product.2nd ...   \n",
      "\n",
      "                                         review_content  \\\n",
      "1157  As of now its working fine, but don't expect m...   \n",
      "695   This eliminates the need to buy chargers for t...   \n",
      "906   Not a perfect fit for long usage,One problem y...   \n",
      "772   This mic's sound quality is very good but if y...   \n",
      "844   Zebronics Product is always good. I bought thi...   \n",
      "...                                                 ...   \n",
      "616   Very nice ball pen,Thank you Amazon,Easy to ho...   \n",
      "993   Bahut aacha hai ye pen sach me likhne ke Baad ...   \n",
      "765   Easy to hold and to good in this price,The qua...   \n",
      "850   It's good, but they give 2 different shades of...   \n",
      "924   Torn packing.dekhne me product used lg rha tha...   \n",
      "\n",
      "                                               img_link  \\\n",
      "1157  https://m.media-amazon.com/images/W/WEBP_40237...   \n",
      "695   https://m.media-amazon.com/images/W/WEBP_40237...   \n",
      "906   https://m.media-amazon.com/images/I/31eE6slx4E...   \n",
      "772   https://m.media-amazon.com/images/I/41T3Z43M4y...   \n",
      "844   https://m.media-amazon.com/images/W/WEBP_40237...   \n",
      "...                                                 ...   \n",
      "616   https://m.media-amazon.com/images/W/WEBP_40237...   \n",
      "993   https://m.media-amazon.com/images/I/21t8TMvuq6...   \n",
      "765   https://m.media-amazon.com/images/I/41Ae67XZAC...   \n",
      "850   https://m.media-amazon.com/images/I/410DCX0vt4...   \n",
      "924   https://m.media-amazon.com/images/I/41rJGx-w9i...   \n",
      "\n",
      "                                           product_link  \n",
      "1157  https://www.amazon.in/Reffair-AX30-MAX-Interna...  \n",
      "695   https://www.amazon.in/rts-Adapter-Charging-Con...  \n",
      "906   https://www.amazon.in/HP-B4B09PA-Headphones-wi...  \n",
      "772   https://www.amazon.in/HUMBLE-Dynamic-Recording...  \n",
      "844   https://www.amazon.in/Zebronics-Wonderbar-Powe...  \n",
      "...                                                 ...  \n",
      "616   https://www.amazon.in/Classmate-Octane-Neon-Pa...  \n",
      "993   https://www.amazon.in/Pilot-Frixion-Clicker-Ro...  \n",
      "765   https://www.amazon.in/Parker-Classic-Gold-Ball...  \n",
      "850   https://www.amazon.in/Linc-Ball-Point-Pentonic...  \n",
      "924   https://www.amazon.in/Faber-Castell-Connector-...  \n",
      "\n",
      "[211 rows x 16 columns]\n"
     ]
    }
   ],
   "source": [
    "# Identify the top products by rating count in each category\n",
    "top_products_by_category = amazon_df.loc[amazon_df.groupby('category')['rating_count'].idxmax()]\n",
    "print(\"Top Products by Rating Count in Each Category:\")\n",
    "print(top_products_by_category)"
   ]
  },
  {
   "cell_type": "markdown",
   "id": "6e898e64",
   "metadata": {},
   "source": [
    "### Observation\n",
    "\n",
    "- The Prices Range from 1759 - 79512\n",
    "- Average prices of the ticket is 9087"
   ]
  },
  {
   "cell_type": "code",
   "execution_count": 13,
   "id": "515f4645",
   "metadata": {},
   "outputs": [
    {
     "data": {
      "image/png": "[encoded data removed]",
      "text/plain": [
       "<Figure size 1000x500 with 1 Axes>"
      ]
     },
     "metadata": {},
     "output_type": "display_data"
    }
   ],
   "source": [
    "# Analyze the distribution of discounted prices vs. actual prices\n",
    "plt.figure(figsize=(10, 5))\n",
    "sns.histplot(amazon_df['discounted_price'], label='Discounted Price', color='blue', kde=True)\n",
    "sns.histplot(amazon_df['actual_price'], label='Actual Price', color='red', kde=True)\n",
    "plt.legend()\n",
    "plt.title('Distribution of Discounted Prices vs. Actual Prices')\n",
    "plt.show()"
   ]
  },
  {
   "cell_type": "code",
   "execution_count": 15,
   "id": "21b45c6e",
   "metadata": {},
   "outputs": [
    {
     "name": "stdout",
     "output_type": "stream",
     "text": [
      "Average Discount Percentage per Category:\n",
      "category\n",
      "Car&Motorbike|CarAccessories|InteriorAccessories|AirPurifiers&Ionizers                                                    42.0\n",
      "Computers&Accessories|Accessories&Peripherals|Adapters|USBtoUSBAdapters                                                   78.5\n",
      "Computers&Accessories|Accessories&Peripherals|Audio&VideoAccessories|PCHeadsets                                           35.0\n",
      "Computers&Accessories|Accessories&Peripherals|Audio&VideoAccessories|PCMicrophones                                        56.5\n",
      "Computers&Accessories|Accessories&Peripherals|Audio&VideoAccessories|PCSpeakers                                           46.5\n",
      "                                                                                                                          ... \n",
      "OfficeProducts|OfficePaperProducts|Paper|Stationery|Pens,Pencils&WritingSupplies|Pens&Refills|GelInkRollerballPens         0.0\n",
      "OfficeProducts|OfficePaperProducts|Paper|Stationery|Pens,Pencils&WritingSupplies|Pens&Refills|LiquidInkRollerballPens      5.0\n",
      "OfficeProducts|OfficePaperProducts|Paper|Stationery|Pens,Pencils&WritingSupplies|Pens&Refills|RetractableBallpointPens    17.5\n",
      "OfficeProducts|OfficePaperProducts|Paper|Stationery|Pens,Pencils&WritingSupplies|Pens&Refills|StickBallpointPens          13.0\n",
      "Toys&Games|Arts&Crafts|Drawing&PaintingSupplies|ColouringPens&Markers                                                      0.0\n",
      "Name: discount_percentage, Length: 211, dtype: float64\n"
     ]
    }
   ],
   "source": [
    "# Convert 'discount_percentage' to numeric by removing the '%' sign\n",
    "amazon_df['discount_percentage'] = amazon_df['discount_percentage'].str.rstrip('%').astype('float')\n",
    "\n",
    "# Calculate the average discount percentage per category\n",
    "avg_discount_per_category = amazon_df.groupby('category')['discount_percentage'].mean()\n",
    "print(\"Average Discount Percentage per Category:\")\n",
    "print(avg_discount_per_category)"
   ]
  },
  {
   "cell_type": "markdown",
   "id": "808e833e",
   "metadata": {},
   "source": [
    "- Any point which lie outside the wicks of the boxplot are termed to be outliers.\n",
    "- There are many outiers in the dataset\n",
    "- As per the box plot we can see there are many point outside the region of the box plot they are termed to be as outliers\n",
    "- Outliers can impact your analysis by skewing results, affecting statistical measures like the mean and standard deviation, and potentially misleading interpretations.\n",
    "- The points that lie outside the whisker may indicate unusual or extreme values in the dataset."
   ]
  },
  {
   "cell_type": "code",
   "execution_count": 16,
   "id": "c7b8fc92",
   "metadata": {},
   "outputs": [
    {
     "name": "stdout",
     "output_type": "stream",
     "text": [
      "Most Popular Product Names:\n",
      "product_name\n",
      "Fire-Boltt Ninja Call Pro Plus 1.83\" Smart Watch with Bluetooth Calling, AI Voice Assistance, 100 Sports Modes IP67 Rating, 240*280 Pixel High Resolution                                     5\n",
      "Fire-Boltt Phoenix Smart Watch with Bluetooth Calling 1.3\",120+ Sports Modes, 240*240 PX High Res with SpO2, Heart Rate Monitoring & IP67 Rating                                              4\n",
      "Flix Micro Usb Cable For Smartphone (Black)                                                                                                                                                   3\n",
      "boAt Micro USB 55 Tangle-free, Sturdy Micro USB Cable with 3A Fast Charging & 480mbps Data Transmission (Black)                                                                               3\n",
      "Portronics Konnect CL 20W POR-1067 Type-C to 8 Pin USB 1.2M Cable with Power Delivery & 3A Quick Charge Support, Nylon Braided for All Type-C and 8 Pin Devices, Green                        3\n",
      "Portronics Konnect L 1.2M POR-1401 Fast Charging 3A 8 Pin USB Cable with Charge & Sync Function (White)                                                                                       3\n",
      "MI Braided USB Type-C Cable for Charging Adapter (Red)                                                                                                                                        3\n",
      "Ambrane 2 in 1 Type-C & Micro USB Cable with 60W / 3A Fast Charging, 480 mbps High Data, PD Technology & Quick Charge 3.0, Compatible with All Type-C & Micro USB Devices (ABDC-10, Black)    3\n",
      "Amazon Basics USB Type-C to USB-A 2.0 Male Fast Charging Cable for Laptop - 3 Feet (0.9 Meters), Black                                                                                        3\n",
      "Pinnaclz Original Combo of 2 Micro USB Fast Charging Cable, USB Charging Cable for Data Transfer Perfect for Android Smart Phones White 1.2 Meter Made in India (Pack of 2)                   3\n",
      "Name: count, dtype: int64\n"
     ]
    }
   ],
   "source": [
    "# Identify the most popular product names\n",
    "most_popular_products = amazon_df['product_name'].value_counts().head(10)\n",
    "print(\"Most Popular Product Names:\")\n",
    "print(most_popular_products)\n"
   ]
  },
  {
   "cell_type": "code",
   "execution_count": 17,
   "id": "cfc51900",
   "metadata": {},
   "outputs": [
    {
     "name": "stdout",
     "output_type": "stream",
     "text": [
      "Most Popular Product Keywords:\n",
      "keywords\n",
      "and     5003\n",
      "the     3553\n",
      "to      3551\n",
      "with    2805\n",
      "for     2275\n",
      "of      2013\n",
      "your    1722\n",
      "a       1702\n",
      "|       1431\n",
      "is      1425\n",
      "Name: count, dtype: int64\n"
     ]
    }
   ],
   "source": [
    "\n",
    "# Identify the most popular product keywords\n",
    "# Assuming keywords can be extracted from the 'about_product' column\n",
    "amazon_df['keywords'] = amazon_df['about_product'].str.split()\n",
    "keywords_series = amazon_df['keywords'].explode().value_counts().head(10)\n",
    "print(\"Most Popular Product Keywords:\")\n",
    "print(keywords_series)"
   ]
  },
  {
   "cell_type": "code",
   "execution_count": 18,
   "id": "9841321b",
   "metadata": {},
   "outputs": [
    {
     "name": "stdout",
     "output_type": "stream",
     "text": [
      "Most Popular Product Reviews:\n",
      "review_content\n",
      "I am not big on camera usage, personally. I was even mentally prepared for a bad camera, based on some reviews here. But I was pleasantly surprised that camera clicks good photos. They are not awesome, but they are decent photos that can even be shared.Now coming to my biggest grouse; heating issue. The phone started heating up while charging, but it was just a little and so I could have ignored it. But then it started heating up more and got me very concerned. I even ordered a replacement thinking I got a defective piece. But then, after further tests, I found that it is heating more when I download huge amounts of data, for example, when I restore data of my old phone, from back up. This is ok with me as, I don't perform huge data loads regularly, definitely not on phone. Then I tested by running tasks I usually perform such as checking office mails, attending office meeting on phone, watching a video from Amazon Prime, and so on. The phone did not heat up even a little. Personally, this is good for me.At this price range, this is a good phone. But if you are camera heavy user and expect to perform heavy downloads frequently, this phone may not for you. I am personally satisfied with this phone as it works for my type of usage. I will not go into plus points of this phone as they are covered by other reviews already. I am only attempting to clarify about how this phone can suit you (or not) in terms of camera and heating. I had many questions about these aspects before buying. Perhaps this review will help you make an informed decision to buy (or avoid). Cheers.,Display - BeautyCamera - decentPerformance - AmazingBattery - ok (in 5000mah u expect more tbh)Overall good phone...Also after 1day of use, i found some network connectivity issue in my jiosim, which I'm using right now in this phone, but I'll keep update this review after 1month of usage!,It's a decent mobile under this price but few things worried me , weight of the phone, too many procedure to change some settings, no screen casting. Apart from that it has good touch, a decent camera for day light , battery life is good.,I bought this smartphone for my mom. Samusung interface is very handful for easy use. Battery is superb, last whole day. Camera is mediocre but provide original colour pictures. All in all satisfied with this smartphone that i got in sale for 9499.,Unable to do video call within same service provider as in VOLTE within same service provider video call feature is available.,Product is fine.  Nothing Fancy but for the budget it is a good phone.,BATTERY : more than enough for normal use  Not sure in gamingCAMERA : good in this segment , can record  videos in FHD 30fpsDISPLAY : since it's a LCD display the quality is  a bit less , but goodV RAM : you can add upto 2gb of virtual ram  but have to sacrifice your storage  Space to use it  OVERALL A GOOD BUDGET PHONE,Finger print is working speedy battery backup is good camera quality is also good                                                                                                                                                                                                                                                                                                                                                                                                                                                                                                                                                                                                                                                                                                                                                                                                                                                                                                                                                                                                                                                                                                                                                                                                                                                                                                                                                                                                                                                                                                                                                                                                                                                                                                                                                                                                                                                                                                                                                                                                                                8\n",
      "I ordered this cable to connect my phone to Android Auto of car. The cable is really strong and the connection ports are really well made. I already has a Micro USB cable from Ambrane and it's still in good shape. I connected my phone to the car using the cable and it got connected well and no issues. I also connected it to the charging port and yes it has Fast Charging support.,It quality is good at this price and the main thing is that i didn't ever thought that this cable will be so long it's good one and charging power is too good and also supports fast charging,Value for money, with extra length👍,Good, working fine,Product quality is good,Good,very good,Bought for my daughter's old phone.Brand new cable it was not charging, I already repacked and requested for replacement.I checked again, and there was some green colour paste/fungus inside the micro USB connector. I cleaned with an alcoholic and starts working again.Checked the ampere of charging speed got around 1400ma-1500ma - not bad, came with braided 1.5m long cable, pretty impressive for the price.Can't blame the manufacturer.But quality issues by the distributor, they might have stored in very humid place.                                                                                                                                                                                                                                                                                                                                                                                                                                                                                                                                                                                                                                                                                                                                                                                                                                                                                                                                                                                                                                                                                                                                                                                                                                                                                                                                                                                                                                                                                                                                                                                                                                                                                                                                                                                                                                                                                                                                                                                                                                                                                                                                                                                                                                                                                                                                                                                                                                                                                                                                                                                                                                                                                                                                                                                                                                                                                                                                                                                                                                                                                                                                                                                                                                                                                                                                                                                                                                                                                                                                                                                                                                                                                                                                                                                                                                                                                         7\n",
      "Worked on iPhone 7 and didn’t work on iPhone XR,https://m.media-amazon.com/images/I/71qFFAlV9ZL._SY88.jpg,Look-wise, I didn’t like it. Still, I use it for my work.,Product is quite good and is fast charging.Loved it.,I like it . Looks last long.,The sturdiness will depend on the manner of its use. But its speed of charging is great. Very good product for the average income group.,It's great for charging devices with various types of ports. But works best when charging one device at a time.,Good item.                                                                                                                                                                                                                                                                                                                                                                                                                                                                                                                                                                                                                                                                                                                                                                                                                                                                                                                                                                                                                                                                                                                                                                                                                                                                                                                                                                                                                                                                                                                                                                                                                                                                                                                                                                                                                                                                                                                                                                                                                                                                                                                                                                                                                                                                                                                                                                                                                                                                                                                                                                                                                                                                                                                                                                                                                                                                                                                                                                                                                                                                                                                                                                                                                                                                                                                                                                                                                                                                                                                                                                                                                                                                                                                                                                                                                                                                                                                                                                                                                                                                                                                                                                                                                                                                                                                                                                                                                                                                                                                                                                                                  7\n",
      "Good product,long wire,Charges good,Nice,I bought this cable for Rs.339 worthy product for this price, i tested it in various charger adapters 33w and 18w it supports fast charging as well.,Good,Ok,I had got this at good price on sale on Amazon and product is useful with warranty but for warranty you need to go very far not practical for such a cost and mine micro to type c connector stopped working after few days only.,I like this product                                                                                                                                                                                                                                                                                                                                                                                                                                                                                                                                                                                                                                                                                                                                                                                                                                                                                                                                                                                                                                                                                                                                                                                                                                                                                                                                                                                                                                                                                                                                                                                                                                                                                                                                                                                                                                                                                                                                                                                                                                                                                                                                                                                                                                                                                                                                                                                                                                                                                                                                                                                                                                                                                                                                                                                                                                                                                                                                                                                                                                                                                                                                                                                                                                                                                                                                                                                                                                                                                                                                                                                                                                                                                                                                                                                                                                                                                                                                                                                                                                                                                                                                                                                                                                                                                                                                                                                                                                                                                                                                                                                                                                                                7\n",
      "128GB SD Card is showing 134GBDon't buy this product,It was a bit costly but prouduct is of great quality. Could have been made little bit cheaper cost wise.,All good,Fast and smooth,Ab mujhe computer ki jarurat nahi padti,Speed is fast but not as advertise I get around read speed 70MB/s and write speed 30MB/s,Good one,Product is ok.                                                                                                                                                                                                                                                                                                                                                                                                                                                                                                                                                                                                                                                                                                                                                                                                                                                                                                                                                                                                                                                                                                                                                                                                                                                                                                                                                                                                                                                                                                                                                                                                                                                                                                                                                                                                                                                                                                                                                                                                                                                                                                                                                                                                                                                                                                                                                                                                                                                                                                                                                                                                                                                                                                                                                                                                                                                                                                                                                                                                                                                                                                                                                                                                                                                                                                                                                                                                                                                                                                                                                                                                                                                                                                                                                                                                                                                                                                                                                                                                                                                                                                                                                                                                                                                                                                                                                                                                                                                                                                                                                                                                                                                                                                                                                                            6\n",
      "I purchased the 6/128gb variant.To sum  it up in to pros and cons.Pros :-1.Good design in terms of look of the phone and it's build quality.2. Screen quality is good with little boosted colour tone.3. The new processor is very smooth and responsive.4. Speaker quality is good without too much treble.5. Camera is ok for selfie and main camera performance is above average with less noise.6. Camera in front is small so notch is not distracting while playing video.Cons :-1.Main camera struggles after 3x zoom.And video call performance of front camera  is inferior to stock selfie photo.2. 18 watt charger took 1hr30 mins to charge 80% of the phone.So charging speed is not time saving for this big battery.,Good one under This price..! One of the Best Android phone by Vivo 💚,Its super good for normal usage,Camera is ok for normal,It's working fine and no issuew. Iqoo providing quality devices compared to other brands,Camera quality is not that high,Value for money,Phone is very handy and battery is also good. Quality of phone is good.                                                                                                                                                                                                                                                                                                                                                                                                                                                                                                                                                                                                                                                                                                                                                                                                                                                                                                                                                                                                                                                                                                                                                                                                                                                                                                                                                                                                                                                                                                                                                                                                                                                                                                                                                                                                                                                                                                                                                                                                                                                                                                                                                                                                                                                                                                                                                                                                                                                                                                                                                                                                                                                                                                                                                                                                                                                                                                                                                                                                                                                                                                                                                                                                                                                                                                                                                                                                                                                                                                                                                                                                                                                                                                                                                                                                                                                                                                                                                                                                                                          6\n",
      "[Update: Sept 29] boAt seems to have heard the feedback 😀 and updated the watch faces. Now there are a few good ones to pick but a slight improvement over the ones the watch earlier had. Bit Impressed. Added one star for it.Not a very polished product. The fonts are tacky and look ugly in the watch for notification text and caller name text. The watch faces are a lazy design job. No point having 150 watch faces if only 10-20 are good or usable. Rest are useless.[UPDATE: Oct 11] boAt seems to be on a smartwatch launch spree. And thanks to that, they are constantly updating the phone app and the watch faces. Now you have many good looking watch faces to choose from. So overall, still the Smartwatch UI needs work. But atleast you have good watch faces.Good:- Screen quality- Battery life- Looks and the metallic frame- Call clarity- BT calling at the price- Reasonably accurate sensorsBad:- The UI, fonts - they are all very ugly and tacky. They could have tried to give the Chinese software some makeover. But it is a clearly lazy job by the tech team. A copy paste job to be precise of getting an outsourced software and plastering it with brand logos.- Restarts randomly when the call is going on on the watch even for 1 min or so.- Watch faces. Again a job of the design / tech / UI team. BoAt doesn't have a good team of designers and UI guys to really offer simple yet good software features like good watch faces and good watch UI.- No option to silence a call or reply with quick replies.Look for Noise Smart Watches in the Same Range. Noise Colorfit Pulse Go Buzz is cheaper and better alternative + has better watch faces and UI and quick reply to notifications and call silence and mute options for lower prices which this watch has clearly missed.You can go for boAt Wave Call also - It isn't an outright bad watch, but there are better options available for the price.boAt - If you have a team who reads and wants to improve, get some good UI and design folks in your team. Your products are good, but the UI and design is what the people see and that's what makes them feel good about your products. You have really average UI.,Boat wave call watch is best for budget.Call is too good and sound quality is also too good.Battery is good.Totally the watch is good for range.,It's good value for money smart watch.Light weight. Touch is smooth.All the features are 90-95% accurate.,a good product in this price range must buy itGOOD LOOKINGGOOD QUALITY,Good product is mst h,Average for calling good looking,I'm really happy to purchase this watch! It's very affordable having so many features. The calling feature works really well! Overall, if you're looking so good brand & good features, go for this ..,Product does not turn onPlease return the item. Please.                                                                                                                                                                                                                                                                                                                                                                                                                                                                                                                                                                                                                                                                                                                                                                                                                                                                                                                                                                                                                                                                                                                                                                                                                                                                                                                                                                                                                                                                                                                                                                                                                                                                                                                                                                                                                                                                                                                                                                                                                                                                                                                                                                                                                               5\n",
      "I liked it, worth the money, light weight and comfortable at every situation.this one i got here has stable ui,no lag even,feels premium (mainly the soft strap and the cool crown button adds up much)..the main reason I bought this because it brings all the features everyone needs today with out of the box looks.If someone feels that they have a thin wrist and it wouldn't fit them,don't worry.Even i thought it wouldn't fit me coz i have a thin wrist but it was just fine.,,In this watch, the screen does not turn on and off on double tap, for that you have to press the button and the battery also takes more than 1 hour instead of 35 minutes to get fully charged.  And the battery also lasts only 3-4 days, just hope that in the future, if I update the software, then the double tap option will come.,Watch is user friendly, UI is great.Calling feature is great.This watch is different from others in music playing in watch speaker.Great experience.Watchfaces option is good.We can add watchfaces as we can.In my other watch this feature is missing.Love this watch.,This Smartwatch is perfect for beginners who's buy first time smartwatch. ninja call pro plus is recently launched so it comes with latest features and specifications. Display Is top Notched and and brightness is enough for use at outdoor. Heart measure and Spo2 is well accurate all sensors are efficiently worked. Reading of data is accurate near 90 to 95% you can trust on it at emergency situations. It comes with 100 sports mods all types of activities and sports are coverd. Calling experience is also very nice, speaker and microphone is quite decent sufficient voice at indoor. But battery should be better it has require charge 1 time in day. 3D curved display give awasome visual experience. Strap quality is very soft and female also use it very smoothly. So overall it has best smartwatch under 2K Display, Calling, Sensors, Bulit quality, Battery Back-up, sports Mods, Waterproof, etc. You should definitely go for this one. Satisfied Product.👍🔥👍,This watch is very good but 1 problem im using this watch from 1 week and a few days back its pixels were droping, the screen was not working properly but after restarting, it was working properly and from then i didn,t face that problem again.,Nice watch with good UI interface with calling feature. Power packed with features in very low price. If you are on tight budget and looking for caling smartwatch you should definitely go for this one.,The build quality is great.The review about this watches are as follows:Good call quality and Google assistant supportThe UI experience is very smooth except the split screen feature it's a little bit laggyThe only thing that is only bad about this product is the step accuracy I feel like its a little bit lagging back but it catches up to it after a half an hourYou can buy this product if you are on a tight budget and want calling and good UI experience you can buy this product                                                                                                                                                                                                                                                                                                                                                                                                                                                                                                                                                                                                                                                                                                                                                                                                                                                                                                                                                                                                                                                                                                                                                                                                                                                                                                                                                                                                                                                                                                                                                                                                                                                                                                                                                                                                                                                                                                                                                                                                                                            5\n",
      "Everything is fine but it is bulky and hard, it should be softer and thinner.....,Thank you  Amazon very good charging cable 👍,Good,Good one,quality is good. worth for 150-200 ₹. short but durable.,Very Good product . Satisfied..,This is fast charging C pin USB!You can purchase it.,Nice product at price of below 100                                                                                                                                                                                                                                                                                                                                                                                                                                                                                                                                                                                                                                                                                                                                                                                                                                                                                                                                                                                                                                                                                                                                                                                                                                                                                                                                                                                                                                                                                                                                                                                                                                                                                                                                                                                                                                                                                                                                                                                                                                                                                                                                                                                                                                                                                                                                                                                                                                                                                                                                                                                                                                                                                                                                                                                                                                                                                                                                                                                                                                                                                                                                                                                                                                                                                                                                                                                                                                                                                                                                                                                                                                                                                                                                                                                                                                                                                                                                                                                                                                                                                                                                                                                                                                                                                                                                                                                                                                                                                                                                                                                                                                                                                                                                                                                              5\n",
      "About the TV - Wonderful---------------------------------------------------------------Probably the best TV in this price range (INR13000).Good - Google interface, loaded with features, lightweight, 55 watt power consumption, stable designAverage - Sound and Picture quality is quite good but if you compare it with premium brands then obviously not that good.Features- Most of the streaming apps available and compatible- You can connect with WiFi, LAN Cable, HDMI, Set top box, Laptop, USB, Gaming console, Old dish cable, and direct TV antenna as well- Built in chromecast to cast any compatible app directly from phone to TV over same WiFi networkWays to connect phone -1. Via cast feature on mobile apps - no password needed only need to be on the same WiFi network2. Via chromecast app - project only selected media (pics, videos) or entire phone screenWays to connect PC/Laptop -1. Windows cast option - project the entire laptop screen on TV using windows cast option ( need to be connected on same WiFi network2. Via HDMI cableAbout the Amazon installation service - Awful-------------------------------------------------------1. The technician brought a cheap hanging hook that had MRP INR116 on it and asked for INR499 for it without any receipt. He kept telling that it was not for sale and company had sent this specially. However, it clearly had MRP mentioned on it2. I went to market and bought a much better cabinet for just INR200 and for installation of that as well, technician was really adamant to drill the two required holes on top. He just drilled one on top and one on bottom and kept all the other spare screws ( which I had bought ) with him. After about half an hour of arguments, he finally drilled the other required holes. And for all this, he kept cussing me that I wasted his time. There was no assistance from the person who represented the service agency as well.This whole process took me two hours to complete that too with lots of arguments. This was the worst installation experience in my life so far.Bottomline - Please do not avail the 'so called free' installation service from Amazon. It is just a scam. Instead call the acer support. They will do the job much better.,After using it for 2 months, here are it's pros and cons:Pros :1. Great picture quality. It's awesome.2. Blacks are very good and is adjustable.3. Sound with 30db is very good4. Looks great with thin besel5. Remote comes with favorite OTT buttons.6. Content upscaling is very good.Cons:1. Remote could have been better. Can't use DTH remote to turn on both televisison and set top box.2. Remote operation is bit complex.3. Motion technology not great. There is a noticeable blur when watching moving ballson OTT, but it decreases when you switch to DTH.Overall, it's a nice buy at this price point. I think I am getting fairly better picture quality and sound. I am satisfied with the product.,Product has good picture quality. Good product at that price with 25w sound. Applications running smoothly. 3 months older & no issues yet. It's running smoothly.,You get decent features for the price you pay. Screen resolution might be. Set back as you may find pixalation. Overall it's good,I am amazed with the picture quality of this 720p (HD Ready) TV. It is truly an amazing panel. I found it suitable for a viewing distance of between 6 to 10 feet. Any nearer it may not look very crisp and any farther, it will feel like a very small size. The speakers are also very good for the price and can get very loud without any distortions. However, since the speaker is downward firing, the experience will vary based on whether the TV is wall mounted or kept on a stand.The remote is good, voice search works well for me. TV start up takes a long time in my opinion, but I have not compared it against any other 32 inch TV and hence do not know where it stands among peers.5 GHz Wifi works very well even across walls. Only negative aspect I faced is w.r.t the experience of using my bluetooth headphones/earphones. Firstly, the connection sometimes doesn't happen automatically after a  restart - which means I have to remove and re-discover the device thru the menu which is not simple. Secondly, the signal itself seems to be very weak and even at a distance of 8 feet in front of the TV, the signal breaks even if you move your head by 2-3 inches.However, I am still super happy with this TV. I got it for 8k during the launch offer and it is totally worth it and is recommended from my side.,At this price range(₹11499/-)it is good quality product on this market..acer only should work with Sound quality improvement otherwise all ok.Picture quality really impressive,wifi connectivity good,easy to install,boderless screen design is premium and also google voice support is good(sometimes lagging).No major issues found on this TV.Just go for it.,Vellu for money. Good product,Very nice productSave money    5\n",
      "Name: count, dtype: int64\n"
     ]
    }
   ],
   "source": [
    "# Identify the most popular product reviews\n",
    "most_popular_reviews = amazon_df['review_content'].value_counts().head(10)\n",
    "print(\"Most Popular Product Reviews:\")\n",
    "print(most_popular_reviews)\n"
   ]
  },
  {
   "cell_type": "code",
   "execution_count": 24,
   "id": "3f80c795",
   "metadata": {
    "scrolled": true
   },
   "outputs": [
    {
     "name": "stdout",
     "output_type": "stream",
     "text": [
      "Correlation between Discounted Price and Rating:\n",
      "0.12033741712288552\n"
     ]
    }
   ],
   "source": [
    "# Convert to string\n",
    "amazon_df['discount_percentage'] = amazon_df['discount_percentage'].astype(str)\n",
    "\n",
    "# Clean 'discount_percentage' column by removing '%' sign and convert to float\n",
    "amazon_df['discount_percentage'] = amazon_df['discount_percentage'].str.rstrip('%').astype('float')\n",
    "\n",
    "# Calculate the correlation between discounted prices and ratings\n",
    "correlation = amazon_df['discounted_price'].corr(amazon_df['rating'])\n",
    "print(\"Correlation between Discounted Price and Rating:\")\n",
    "print(correlation)\n"
   ]
  },
  {
   "cell_type": "code",
   "execution_count": 25,
   "id": "8a6de9fc",
   "metadata": {},
   "outputs": [
    {
     "name": "stdout",
     "output_type": "stream",
     "text": [
      "Top 5 Categories Based on Highest Ratings:\n",
      "category\n",
      "Computers&Accessories|Tablets                                               4.6\n",
      "Computers&Accessories|Components|Memory                                     4.5\n",
      "Computers&Accessories|NetworkingDevices|NetworkAdapters|PowerLANAdapters    4.5\n",
      "Electronics|Cameras&Photography|Accessories|Film                            4.5\n",
      "Electronics|HomeAudio|MediaStreamingDevices|StreamingClients                4.5\n",
      "Name: rating, dtype: float64\n"
     ]
    }
   ],
   "source": [
    "\n",
    "# Find the top 5 categories based on the highest ratings\n",
    "top_5_categories = amazon_df.groupby('category')['rating'].mean().nlargest(5)\n",
    "print(\"Top 5 Categories Based on Highest Ratings:\")\n",
    "print(top_5_categories)\n",
    "\n"
   ]
  },
  {
   "cell_type": "code",
   "execution_count": 20,
   "id": "6f7d2e32",
   "metadata": {},
   "outputs": [],
   "source": [
    "# Identify potential areas for improvement or optimization based on data analysis\n",
    "# Example insights:\n",
    "# - Categories with low average ratings could be explored to understand the reasons and improve product quality or customer service.\n",
    "# - High correlation between discounted price and rating might suggest that customers are"
   ]
  },
  {
   "cell_type": "markdown",
   "id": "c42da300",
   "metadata": {},
   "source": [
    "# END"
   ]
  },
  {
   "cell_type": "markdown",
   "id": "ec746756",
   "metadata": {},
   "source": [
    "# Spotify DataSet"
   ]
  },
  {
   "cell_type": "code",
   "execution_count": null,
   "id": "74fd7a77",
   "metadata": {},
   "outputs": [],
   "source": []
  },
  {
   "cell_type": "code",
   "execution_count": null,
   "id": "ab93e7e5",
   "metadata": {},
   "outputs": [],
   "source": []
  },
  {
   "cell_type": "code",
   "execution_count": null,
   "id": "16ecf11a",
   "metadata": {},
   "outputs": [],
   "source": []
  },
  {
   "cell_type": "code",
   "execution_count": null,
   "id": "5fcd0e07",
   "metadata": {},
   "outputs": [],
   "source": []
  },
  {
   "cell_type": "code",
   "execution_count": null,
   "id": "8041ceae",
   "metadata": {},
   "outputs": [],
   "source": []
  },
  {
   "cell_type": "code",
   "execution_count": null,
   "metadata": {},
   "outputs": [],
   "source": []
  },
  {
   "cell_type": "code",
   "execution_count": null,
   "id": "313de74f",
   "metadata": {},
   "outputs": [],
   "source": []
  },
  {
   "cell_type": "code",
   "execution_count": null,
   "id": "cbee5472",
   "metadata": {},
   "outputs": [],
   "source": []
  },
  {
   "cell_type": "code",
   "execution_count": null,
   "id": "b6a941fb",
   "metadata": {},
   "outputs": [],
   "source": []
  },
  {
   "cell_type": "code",
   "execution_count": null,
   "id": "62d52b0a",
   "metadata": {},
   "outputs": [],
   "source": []
  },
  {
   "cell_type": "code",
   "execution_count": null,
   "id": "21270dec",
   "metadata": {},
   "outputs": [],
   "source": []
  },
  {
   "cell_type": "code",
   "execution_count": null,
   "id": "cd61b6b6",
   "metadata": {},
   "outputs": [],
   "source": []
  },
  {
   "cell_type": "code",
   "execution_count": null,
   "id": "ea2496fa",
   "metadata": {},
   "outputs": [],
   "source": []
  }
 ],
 "metadata": {
  "kernelspec": {
   "display_name": "Python 3 (ipykernel)",
   "language": "python",
   "name": "python3"
  },
  "language_info": {
   "codemirror_mode": {
    "name": "ipython",
    "version": 3
   },
   "file_extension": ".py",
   "mimetype": "text/x-python",
   "name": "python",
   "nbconvert_exporter": "python",
   "pygments_lexer": "ipython3",
   "version": "3.12.3"
  }
 },
 "nbformat": 4,
 "nbformat_minor": 5
}
