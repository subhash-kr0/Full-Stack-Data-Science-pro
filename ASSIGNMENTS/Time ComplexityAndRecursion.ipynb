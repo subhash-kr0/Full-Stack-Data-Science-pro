{
 "cells": [
  {
   "cell_type": "markdown",
   "metadata": {},
   "source": [
    "**Find time complexity of below code blocks :**"
   ]
  },
  {
   "cell_type": "markdown",
   "metadata": {},
   "source": [
    "Problem 1 :\n",
    "def quicksort(arr):\n",
    "if len(arr) <= 1:\n",
    "return arr\n",
    "pivot = arr[len(arr) // 2]\n",
    "left = [x for x in arr if x < pivot]\n",
    "middle = [x for x in arr if x == pivot]\n",
    "right = [x for x in arr if x > pivot]\n",
    "return quicksort(left) + middle + quicksort(right)"
   ]
  },
  {
   "cell_type": "markdown",
   "metadata": {},
   "source": [
    "solution =>  The time complexity of the quicksort function is O(n log n) in the best case and average case, and O(n^2) in the worst case."
   ]
  },
  {
   "cell_type": "markdown",
   "metadata": {},
   "source": [
    "Problem 2 :\n",
    "def nested_loop_example(matrix):\n",
    "rows, cols = len(matrix), len(matrix[0])\n",
    "total = 0\n",
    "for i in range(rows):\n",
    "for j in range(cols):\n",
    "total += matrix[i][j]\n",
    "return total"
   ]
  },
  {
   "cell_type": "markdown",
   "metadata": {},
   "source": [
    "solution => The time complexity of the nested_loop_example function is O(n*m)."
   ]
  },
  {
   "cell_type": "markdown",
   "metadata": {},
   "source": [
    "\n",
    "\n",
    "\n",
    "\n",
    "\n",
    "Problem 3 :\n",
    "def example_function(arr):\n",
    "result = 0\n",
    "for element in arr:\n",
    "result += element\n",
    "return result\n",
    "\n",
    "\n",
    "\n"
   ]
  },
  {
   "cell_type": "markdown",
   "metadata": {},
   "source": [
    "solution => The time complexity of the example_function is O(n)."
   ]
  },
  {
   "cell_type": "markdown",
   "metadata": {},
   "source": [
    "Problem 4 :\n",
    "def longest_increasing_subsequence(nums):\n",
    "n = len(nums)\n",
    "lis = [1] * n\n",
    "for i in range(1, n):\n",
    "for j in range(0, i):\n",
    "if nums[i] > nums[j] and lis[i] < lis[j] + 1:\n",
    "lis[i] = lis[j] + 1\n",
    "return max(lis)"
   ]
  },
  {
   "cell_type": "markdown",
   "metadata": {},
   "source": [
    "solution => The time complexity of the longest_increasing_subsequence function is O(n^2)."
   ]
  },
  {
   "cell_type": "markdown",
   "metadata": {},
   "source": [
    "Problem 5 :\n",
    "def mysterious_function(arr):\n",
    "n = len(arr)\n",
    "result = 0\n",
    "for i in range(n):\n",
    "for j in range(i, n):\n",
    "result += arr[i] * arr[j]\n",
    "return result"
   ]
  },
  {
   "cell_type": "markdown",
   "metadata": {},
   "source": [
    "solution => The time complexity of the mysterious_function is O(n^2)."
   ]
  },
  {
   "cell_type": "markdown",
   "metadata": {},
   "source": [
    "**Solve the following problems on recursion**"
   ]
  },
  {
   "cell_type": "markdown",
   "metadata": {},
   "source": [
    "Problem 6 : Sum of Digits\n",
    "Write a recursive function to calculate the sum of digits of a given positive integer.\n",
    "sum_of_digits(123) -> 6"
   ]
  },
  {
   "cell_type": "code",
   "execution_count": 1,
   "metadata": {},
   "outputs": [
    {
     "name": "stdout",
     "output_type": "stream",
     "text": [
      "6\n"
     ]
    }
   ],
   "source": [
    "def sum_of_digits(n):\n",
    "    if n == 0:\n",
    "        return 0\n",
    "    else:\n",
    "        return n % 10 + sum_of_digits(n // 10)\n",
    "\n",
    "# Test the function\n",
    "print(sum_of_digits(123))\n"
   ]
  },
  {
   "cell_type": "markdown",
   "metadata": {},
   "source": [
    "Problem 7: Fibonacci Series\n",
    "Write a recursive function to generate the first n numbers of the Fibonacci series.\n",
    "fibonacci_series(6) -> [0, 1, 1, 2, 3, 5] "
   ]
  },
  {
   "cell_type": "code",
   "execution_count": 2,
   "metadata": {},
   "outputs": [
    {
     "name": "stdout",
     "output_type": "stream",
     "text": [
      "[0, 1, 1, 2, 3, 5]\n"
     ]
    }
   ],
   "source": [
    "def fibonacci_series(n):\n",
    "    if n <= 0:\n",
    "        return []\n",
    "    elif n == 1:\n",
    "        return [0]\n",
    "    elif n == 2:\n",
    "        return [0, 1]\n",
    "    else:\n",
    "        fib_series = fibonacci_series(n - 1)\n",
    "        fib_series.append(fib_series[-1] + fib_series[-2])\n",
    "        return fib_series\n",
    "\n",
    "# Test the function\n",
    "print(fibonacci_series(6))\n"
   ]
  },
  {
   "cell_type": "markdown",
   "metadata": {},
   "source": [
    "Problem 8 : Subset Sum\n",
    "Given a set of positive integers and a target sum, write a recursive function to determine if there exists a subset\n",
    "of the integers that adds up to the target sum.\n",
    "subset_sum([3, 34, 4, 12, 5, 2], 9) -> True\n",
    "Solve the following problems on recursion"
   ]
  },
  {
   "cell_type": "code",
   "execution_count": 3,
   "metadata": {},
   "outputs": [
    {
     "name": "stdout",
     "output_type": "stream",
     "text": [
      "True\n"
     ]
    }
   ],
   "source": [
    "def subset_sum(nums, target):\n",
    "    def helper(nums, target, index):\n",
    "        if target == 0:\n",
    "            return True\n",
    "        if target < 0 or index < 0:\n",
    "            return False\n",
    "        # Try including nums[index] in the subset\n",
    "        if helper(nums, target - nums[index], index - 1):\n",
    "            return True\n",
    "        # Try excluding nums[index] from the subset\n",
    "        return helper(nums, target, index - 1)\n",
    "\n",
    "    return helper(nums, target, len(nums) - 1)\n",
    "\n",
    "# Test the function\n",
    "print(subset_sum([3, 34, 4, 12, 5, 2], 9))\n"
   ]
  },
  {
   "cell_type": "markdown",
   "metadata": {},
   "source": [
    "Problem 9: Word Break\n",
    "Given a non-empty string and a dictionary of words, write a recursive function to determine if the string can be\n",
    "segmented into a space-separated sequence of dictionary words.\n",
    "word_break( leetcode , [ leet , code ]) -> True"
   ]
  },
  {
   "cell_type": "code",
   "execution_count": 4,
   "metadata": {},
   "outputs": [
    {
     "name": "stdout",
     "output_type": "stream",
     "text": [
      "True\n"
     ]
    }
   ],
   "source": [
    "def word_break(s, wordDict):\n",
    "    def helper(s, wordDict, memo):\n",
    "        if s in memo: return memo[s]\n",
    "        if not s: return True\n",
    "        res = False\n",
    "        for word in wordDict:\n",
    "            if not s.startswith(word):\n",
    "                continue\n",
    "            if helper(s[len(word):], wordDict, memo):\n",
    "                res = True\n",
    "                break\n",
    "        memo[s] = res\n",
    "        return res\n",
    "    return helper(s, wordDict, {})\n",
    "\n",
    "# Test the function\n",
    "print(word_break(\"leetcode\", [\"leet\", \"code\"]))\n"
   ]
  },
  {
   "cell_type": "markdown",
   "metadata": {},
   "source": [
    "Problem 10 : N-Queens\n",
    "Implement a recursive function to solve the N Queens problem, where you have to place N queens on an N×N\n",
    "chessboard in such a way that no two queens threaten each other.\n",
    "n_queens(4)\n",
    "[\n",
    "[\".Q..\",\n",
    "\"...Q\",\n",
    "\"Q...\",\n",
    "\"..Q.\"],\n",
    "[\"..Q.\",\n",
    "\"Q...\",\n",
    "\"...Q\",\n",
    "\".Q..\"]\n",
    "]"
   ]
  },
  {
   "cell_type": "code",
   "execution_count": 5,
   "metadata": {},
   "outputs": [
    {
     "name": "stdout",
     "output_type": "stream",
     "text": [
      "[['.Q..', '...Q', 'Q...', '..Q.'], ['..Q.', 'Q...', '...Q', '.Q..']]\n"
     ]
    }
   ],
   "source": [
    "def solveNQueens(n):\n",
    "    def can_place(pos, ocuppied_positions):\n",
    "        for i in range(len(ocuppied_positions)):\n",
    "            if ocuppied_positions[i] == pos or \\\n",
    "                ocuppied_positions[i] - i == pos - len(ocuppied_positions) or \\\n",
    "                ocuppied_positions[i] + i == pos + len(ocuppied_positions):\n",
    "                return False\n",
    "        return True\n",
    "\n",
    "    def place_queen(n, index, ocuppied_positions):\n",
    "        if index == n:\n",
    "            return [[\".\" * i + \"Q\" + \".\" * (n - i - 1) for i in ocuppied_positions]]\n",
    "        else:\n",
    "            result = []\n",
    "            for pos in range(n):\n",
    "                if can_place(pos, ocuppied_positions):\n",
    "                    result += place_queen(n, index + 1, ocuppied_positions + [pos])\n",
    "            return result\n",
    "\n",
    "    return place_queen(n, 0, [])\n",
    "\n",
    "# Test the function\n",
    "print(solveNQueens(4))\n"
   ]
  }
 ],
 "metadata": {
  "kernelspec": {
   "display_name": "Python 3",
   "language": "python",
   "name": "python3"
  },
  "language_info": {
   "codemirror_mode": {
    "name": "ipython",
    "version": 3
   },
   "file_extension": ".py",
   "mimetype": "text/x-python",
   "name": "python",
   "nbconvert_exporter": "python",
   "pygments_lexer": "ipython3",
   "version": "3.12.1"
  }
 },
 "nbformat": 4,
 "nbformat_minor": 2
}
