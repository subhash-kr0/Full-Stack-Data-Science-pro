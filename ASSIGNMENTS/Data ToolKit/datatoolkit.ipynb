{
 "cells": [
  {
   "cell_type": "code",
   "execution_count": 2,
   "metadata": {},
   "outputs": [
    {
     "name": "stdout",
     "output_type": "stream",
     "text": [
      "Array created using numpy.array():\n",
      "[[1 2 3]\n",
      " [4 5 6]]\n",
      "Array created using numpy.zeros():\n",
      "[[1 2 3]\n",
      " [4 5 6]]\n",
      "Array created using numpy.ones():\n",
      "[[1 2 3]\n",
      " [4 5 6]]\n"
     ]
    }
   ],
   "source": [
    "# Q1. Demonstrate three different methods for creating identical 2D arrays in NumPy. Provide the code for each method and the final output after each method\n",
    "\n",
    "#three different methods to create identical 2D arrays in NumPy:\n",
    "\n",
    "#1) Using numpy.array() method\n",
    "import numpy as np\n",
    "array1 = np.array([[1, 2, 3], [4, 5, 6]])\n",
    "print(\"Array created using numpy.array():\")\n",
    "print(array1)\n",
    "\n",
    "#2) Using numpy.zeros() method\n",
    "import numpy as np\n",
    "array2 = np.zeros((2, 3), dtype=int)\n",
    "array2[0, :] = [1, 2, 3]\n",
    "array2[1, :] = [4, 5, 6]\n",
    "print(\"Array created using numpy.zeros():\")\n",
    "print(array2)\n",
    "\n",
    "#3) Using numpy.ones() method\n",
    "import numpy as np\n",
    "array3 = np.full((2, 3), 0, dtype=int)\n",
    "array3[0, :] = [1, 2, 3]\n",
    "array3[1, :] = [4, 5, 6]\n",
    "print(\"Array created using numpy.ones():\")\n",
    "print(array3)\n"
   ]
  },
  {
   "cell_type": "code",
   "execution_count": 9,
   "metadata": {},
   "outputs": [
    {
     "name": "stdout",
     "output_type": "stream",
     "text": [
      "1D array of 100 evenly spaced numbers between 1 and 10:\n",
      "[ 1.          1.09090909  1.18181818  1.27272727  1.36363636  1.45454545\n",
      "  1.54545455  1.63636364  1.72727273  1.81818182  1.90909091  2.\n",
      "  2.09090909  2.18181818  2.27272727  2.36363636  2.45454545  2.54545455\n",
      "  2.63636364  2.72727273  2.81818182  2.90909091  3.          3.09090909\n",
      "  3.18181818  3.27272727  3.36363636  3.45454545  3.54545455  3.63636364\n",
      "  3.72727273  3.81818182  3.90909091  4.          4.09090909  4.18181818\n",
      "  4.27272727  4.36363636  4.45454545  4.54545455  4.63636364  4.72727273\n",
      "  4.81818182  4.90909091  5.          5.09090909  5.18181818  5.27272727\n",
      "  5.36363636  5.45454545  5.54545455  5.63636364  5.72727273  5.81818182\n",
      "  5.90909091  6.          6.09090909  6.18181818  6.27272727  6.36363636\n",
      "  6.45454545  6.54545455  6.63636364  6.72727273  6.81818182  6.90909091\n",
      "  7.          7.09090909  7.18181818  7.27272727  7.36363636  7.45454545\n",
      "  7.54545455  7.63636364  7.72727273  7.81818182  7.90909091  8.\n",
      "  8.09090909  8.18181818  8.27272727  8.36363636  8.45454545  8.54545455\n",
      "  8.63636364  8.72727273  8.81818182  8.90909091  9.          9.09090909\n",
      "  9.18181818  9.27272727  9.36363636  9.45454545  9.54545455  9.63636364\n",
      "  9.72727273  9.81818182  9.90909091 10.        ]\n",
      "\n",
      "Reshaped 2D array (10x10):\n",
      "[[ 1.          1.09090909  1.18181818  1.27272727  1.36363636  1.45454545\n",
      "   1.54545455  1.63636364  1.72727273  1.81818182]\n",
      " [ 1.90909091  2.          2.09090909  2.18181818  2.27272727  2.36363636\n",
      "   2.45454545  2.54545455  2.63636364  2.72727273]\n",
      " [ 2.81818182  2.90909091  3.          3.09090909  3.18181818  3.27272727\n",
      "   3.36363636  3.45454545  3.54545455  3.63636364]\n",
      " [ 3.72727273  3.81818182  3.90909091  4.          4.09090909  4.18181818\n",
      "   4.27272727  4.36363636  4.45454545  4.54545455]\n",
      " [ 4.63636364  4.72727273  4.81818182  4.90909091  5.          5.09090909\n",
      "   5.18181818  5.27272727  5.36363636  5.45454545]\n",
      " [ 5.54545455  5.63636364  5.72727273  5.81818182  5.90909091  6.\n",
      "   6.09090909  6.18181818  6.27272727  6.36363636]\n",
      " [ 6.45454545  6.54545455  6.63636364  6.72727273  6.81818182  6.90909091\n",
      "   7.          7.09090909  7.18181818  7.27272727]\n",
      " [ 7.36363636  7.45454545  7.54545455  7.63636364  7.72727273  7.81818182\n",
      "   7.90909091  8.          8.09090909  8.18181818]\n",
      " [ 8.27272727  8.36363636  8.45454545  8.54545455  8.63636364  8.72727273\n",
      "   8.81818182  8.90909091  9.          9.09090909]\n",
      " [ 9.18181818  9.27272727  9.36363636  9.45454545  9.54545455  9.63636364\n",
      "   9.72727273  9.81818182  9.90909091 10.        ]]\n"
     ]
    }
   ],
   "source": [
    "#Q2. Using the Numpy function, generate an array of 100 evenly spaced numbers between 1 and 10 and Reshape that 1D array into a 2D array\n",
    "\n",
    "import numpy as np\n",
    "\n",
    "# Generate an array of 100 evenly spaced numbers between 1 and 10\n",
    "array_1d = np.linspace(1, 10, 100)\n",
    "\n",
    "# Reshape the 1D array into a 2D array with shape (10, 10)\n",
    "array_2d = array_1d.reshape((10, 10))\n",
    "\n",
    "print(\"1D array of 100 evenly spaced numbers between 1 and 10:\")\n",
    "print(array_1d)\n",
    "\n",
    "print(\"\\nReshaped 2D array (10x10):\")\n",
    "print(array_2d)\n"
   ]
  },
  {
   "cell_type": "code",
   "execution_count": 12,
   "metadata": {},
   "outputs": [
    {
     "name": "stdout",
     "output_type": "stream",
     "text": [
      "[1 2 3]\n",
      "[1 2 3]\n",
      "[1 2 3]\n",
      "[1, 2, [5, 4]]\n",
      "[1, 2, [5, 4]]\n",
      "[1, 2, [6, 4]]\n"
     ]
    }
   ],
   "source": [
    "#Q3. Explain the following terms: \n",
    "\n",
    "# (a) The difference in np.array, np.asarray and np.asanyarray\n",
    "\"\"\"\n",
    "np.array:\n",
    "\n",
    "Purpose: Creates a new array from the input data.\n",
    "Behavior: Always makes a copy of the data unless copy=False is explicitly specified and the input is already an ndarray.\n",
    "Input: Can be any array-like object (e.g., lists, tuples, other ndarrays).\n",
    "Output: Returns a new ndarray object.\n",
    "\"\"\"\n",
    "import numpy as np\n",
    "list_data = [1, 2, 3]\n",
    "arr1 = np.array(list_data)\n",
    "print(arr1)\n",
    "\n",
    "\"\"\"\n",
    "np.asarray:\n",
    "Purpose: Converts the input to an ndarray, but avoids copying the data if the input is already an ndarray.\n",
    "Behavior: Does not copy the data if the input is already an ndarray with the same dtype.\n",
    "Input: Can be any array-like object.\n",
    "Output: Returns an ndarray object.\n",
    "\"\"\"\n",
    "arr2 = np.asarray(list_data)\n",
    "print(arr2)\n",
    "\n",
    "\"\"\"\n",
    "np.asanyarray:\n",
    "Purpose: Similar to np.asarray, but it does not force the result to be a base ndarray. If the input is a subclass of ndarray, the output will be of the same subclass.\n",
    "Behavior: Avoids copying if possible and preserves ndarray subclasses.\n",
    "Input: Can be any array-like object.\n",
    "Output: Returns an ndarray or its subclass.\n",
    "\"\"\"\n",
    "arr3 = np.asanyarray(list_data)\n",
    "print(arr3)\n",
    "\n",
    "# (b) The difference between Deep copy and shallow copy\n",
    "\"\"\"\n",
    "Shallow Copy:\n",
    "\n",
    "Definition: A shallow copy creates a new object, but inserts references into it to the objects found in the original.\n",
    "Behavior: Changes to mutable objects (like lists) within the copied object will reflect in the original object because they both reference the same underlying objects.\n",
    "\"\"\"\n",
    "import copy\n",
    "original_list = [1, 2, [3, 4]]\n",
    "shallow_copied_list = copy.copy(original_list)\n",
    "shallow_copied_list[2][0] = 5\n",
    "print(original_list)  \n",
    "\n",
    "\"\"\"\n",
    "Deep Copy:\n",
    "\n",
    "Definition: A deep copy creates a new object and recursively copies all objects found in the original, creating a fully independent clone.\n",
    "Behavior: Changes to any part of the deep-copied object do not affect the original object.\n",
    "\"\"\"\n",
    "deep_copied_list = copy.deepcopy(original_list)\n",
    "deep_copied_list[2][0] = 6\n",
    "print(original_list)  \n",
    "print(deep_copied_list)  \n",
    "\n",
    "#Insights from this problem:\n",
    "\"\"\"\n",
    "np.array always creates a new array, potentially copying data.\n",
    "\n",
    "np.asarray avoids copying if the input is already an ndarray.\n",
    "\n",
    "np.asanyarray behaves like np.asarray but preserves subclasses of ndarray.\n",
    "\n",
    "Shallow Copy: New container with references to the same objects.\n",
    "\n",
    "Deep Copy: Fully independent copy with all nested objects duplicated.\n",
    "\n",
    "\"\"\"\n"
   ]
  },
  {
   "cell_type": "code",
   "execution_count": 14,
   "metadata": {},
   "outputs": [
    {
     "name": "stdout",
     "output_type": "stream",
     "text": [
      "Random 3x3 array with floating-point numbers between 5 and 20:\n",
      "[[13.9570514  17.09213735 16.77801849]\n",
      " [13.57453281 17.21780568  8.11405024]\n",
      " [15.64752584 18.20656717  6.6037543 ]]\n",
      "\n",
      "Rounded array (2 decimal places):\n",
      "[[13.96 17.09 16.78]\n",
      " [13.57 17.22  8.11]\n",
      " [15.65 18.21  6.6 ]]\n"
     ]
    }
   ],
   "source": [
    "#Q4. Generate a 3x3 array with random floating-point numbers between 5 and 20. Then, round each number in the array to 2 decimal places\n",
    "\n",
    "#To generate a 3x3 array with random floating-point numbers between 5 and 20 and then round each number to 2 decimal places, you can use the numpy.random.uniform() function to generate the random numbers and the numpy.round() function to round them. Here is the code to achieve this:\n",
    "\n",
    "import numpy as np\n",
    "\n",
    "# Generate a 3x3 array with random floating-point numbers between 5 and 20\n",
    "random_array = np.random.uniform(5, 20, (3, 3))\n",
    "\n",
    "# Round each number in the array to 2 decimal places\n",
    "rounded_array = np.round(random_array, 2)\n",
    "\n",
    "print(\"Random 3x3 array with floating-point numbers between 5 and 20:\")\n",
    "print(random_array)\n",
    "\n",
    "print(\"\\nRounded array (2 decimal places):\")\n",
    "print(rounded_array)\n",
    "\n",
    "#Insights:\n",
    "# np.random.uniform(5, 20, (3, 3)): Generates a 3x3 array with random floating-point numbers in the range [5, 20).\n",
    "# np.round(random_array, 2): Rounds each element in random_array to 2 decimal places."
   ]
  },
  {
   "cell_type": "code",
   "execution_count": 16,
   "metadata": {},
   "outputs": [
    {
     "name": "stdout",
     "output_type": "stream",
     "text": [
      "Random 5x6 array with integers between 1 and 10:\n",
      "[[ 2  4  3 10  9  7]\n",
      " [ 1  3  6  7  6  7]\n",
      " [ 8  5  8  3  4  7]\n",
      " [ 7 10  7  5  7 10]\n",
      " [ 2  6  2 10  9  5]]\n",
      "\n",
      "Even integers extracted from the array:\n",
      "[ 2  4 10  6  6  8  8  4 10 10  2  6  2 10]\n",
      "\n",
      "Odd integers extracted from the array:\n",
      "[3 9 7 1 3 7 7 5 3 7 7 7 5 7 9 5]\n"
     ]
    }
   ],
   "source": [
    "#Q5. Create a NumPy array with random integers between 1 and 10 of shape (5, 6). After creating the array perform the following operations: a)Extract all even integers from array. b)Extract all odd integers from array\n",
    "\n",
    "#To create a NumPy array with random integers between 1 and 10 of shape (5, 6) and then extract all even and odd integers from the array, you can follow these steps:\n",
    "# Use numpy.random.randint() to generate the random integers.\n",
    "# Use Boolean indexing to extract even and odd integers.\n",
    "\n",
    "import numpy as np\n",
    "\n",
    "# Create a NumPy array with random integers between 1 and 10 of shape (5, 6)\n",
    "random_array = np.random.randint(1, 11, size=(5, 6))\n",
    "\n",
    "# Extract all even integers from the array\n",
    "even_integers = random_array[random_array % 2 == 0]\n",
    "\n",
    "# Extract all odd integers from the array\n",
    "odd_integers = random_array[random_array % 2 != 0]\n",
    "\n",
    "print(\"Random 5x6 array with integers between 1 and 10:\")\n",
    "print(random_array)\n",
    "\n",
    "print(\"\\nEven integers extracted from the array:\")\n",
    "print(even_integers)\n",
    "\n",
    "print(\"\\nOdd integers extracted from the array:\")\n",
    "print(odd_integers)\n",
    "\n",
    "#Insights:\n",
    "# np.random.randint(1, 11, size=(5, 6)): Generates a 5x6 array with random integers between 1 and 10.\n",
    "# random_array[random_array % 2 == 0]: Extracts all even integers from the array using Boolean indexing.\n",
    "# random_array[random_array % 2 != 0]: Extracts all odd integers from the array using Boolean indexing."
   ]
  },
  {
   "cell_type": "code",
   "execution_count": 1,
   "metadata": {},
   "outputs": [
    {
     "name": "stdout",
     "output_type": "stream",
     "text": [
      "Original 3D array:\n",
      "[[[ 2 10  5]\n",
      "  [ 5 10  8]\n",
      "  [ 7  4 10]]\n",
      "\n",
      " [[ 8  4  2]\n",
      "  [ 3  6  3]\n",
      "  [ 1  3  4]]\n",
      "\n",
      " [[ 5  9  3]\n",
      "  [ 3  3  3]\n",
      "  [ 1  7  9]]]\n",
      "\n",
      "Indices of the maximum values along each depth level (third axis):\n",
      "[[1 1 2]\n",
      " [0 1 2]\n",
      " [1 0 2]]\n",
      "\n",
      "Expanded indices array for element-wise multiplication:\n",
      "[[[1 1 1]\n",
      "  [1 1 1]\n",
      "  [2 2 2]]\n",
      "\n",
      " [[0 0 0]\n",
      "  [1 1 1]\n",
      "  [2 2 2]]\n",
      "\n",
      " [[1 1 1]\n",
      "  [0 0 0]\n",
      "  [2 2 2]]]\n",
      "\n",
      "Result of element-wise multiplication:\n",
      "[[[ 2 10  5]\n",
      "  [ 5 10  8]\n",
      "  [14  8 20]]\n",
      "\n",
      " [[ 0  0  0]\n",
      "  [ 3  6  3]\n",
      "  [ 2  6  8]]\n",
      "\n",
      " [[ 5  9  3]\n",
      "  [ 0  0  0]\n",
      "  [ 2 14 18]]]\n"
     ]
    }
   ],
   "source": [
    "#Q6. Create a 3D NumPy array of shape (3, 3, 3) containing random integers between 1 and 10. Perform the following operations: a) Find the indices of the maximum values along each depth level (third axis). b) Perform element-wise multiplication of between both array\n",
    "\n",
    "# Let's break down the tasks step by step:\n",
    "# Create a 3D NumPy array of shape (3, 3, 3) containing random integers between 1 and 10.\n",
    "# Find the indices of the maximum values along each depth level (third axis).\n",
    "# Perform element-wise multiplication between the original array and the array of maximum indices.\n",
    "\n",
    "import numpy as np\n",
    "\n",
    "# Step 1: Create a 3D NumPy array of shape (3, 3, 3) with random integers between 1 and 10\n",
    "array_3d = np.random.randint(1, 11, size=(3, 3, 3))\n",
    "\n",
    "# Step 2: Find the indices of the maximum values along each depth level (third axis)\n",
    "max_indices = np.argmax(array_3d, axis=2)\n",
    "\n",
    "# Step 3: Perform element-wise multiplication of the original array and the array of maximum indices\n",
    "# Since 'max_indices' shape is (3, 3), we need to expand it to (3, 3, 3) to match 'array_3d' shape for element-wise multiplication.\n",
    "expanded_max_indices = np.repeat(max_indices[:, :, np.newaxis], 3, axis=2)\n",
    "result_array = array_3d * expanded_max_indices\n",
    "\n",
    "print(\"Original 3D array:\")\n",
    "print(array_3d)\n",
    "\n",
    "print(\"\\nIndices of the maximum values along each depth level (third axis):\")\n",
    "print(max_indices)\n",
    "\n",
    "print(\"\\nExpanded indices array for element-wise multiplication:\")\n",
    "print(expanded_max_indices)\n",
    "\n",
    "print(\"\\nResult of element-wise multiplication:\")\n",
    "print(result_array)\n",
    "\n",
    "#Insights:\n",
    "# Step 1: Use np.random.randint(1, 11, size=(3, 3, 3)) to create the 3D array.\n",
    "# Step 2: Use np.argmax(array_3d, axis=2) to find the indices of the maximum values along the third axis.\n",
    "# Step 3: Expand max_indices to match the shape of array_3d using np.repeat() and perform element-wise multiplication.\n",
    "\n",
    "\n",
    "\n"
   ]
  },
  {
   "cell_type": "code",
   "execution_count": 11,
   "metadata": {},
   "outputs": [
    {
     "name": "stdout",
     "output_type": "stream",
     "text": [
      "<class 'pandas.core.frame.DataFrame'>\n",
      "RangeIndex: 1000 entries, 0 to 999\n",
      "Data columns (total 10 columns):\n",
      " #   Column         Non-Null Count  Dtype  \n",
      "---  ------         --------------  -----  \n",
      " 0   Index          1000 non-null   int64  \n",
      " 1   User Id        1000 non-null   object \n",
      " 2   First Name     1000 non-null   object \n",
      " 3   Last Name      1000 non-null   object \n",
      " 4   Gender         1000 non-null   object \n",
      " 5   Email          1000 non-null   object \n",
      " 6   Phone          979 non-null    float64\n",
      " 7   Date of birth  1000 non-null   object \n",
      " 8   Job Title      1000 non-null   object \n",
      " 9   Salary         1000 non-null   int64  \n",
      "dtypes: float64(1), int64(2), object(7)\n",
      "memory usage: 78.3+ KB\n",
      "None\n",
      "     Index          User Id First Name Last Name  Gender  \\\n",
      "0        1  8717bbf45cCDbEe     Shelia   Mahoney    Male   \n",
      "1        2  3d5AD30A4cD38ed         Jo    Rivers  Female   \n",
      "2        3  810Ce0F276Badec     Sheryl    Lowery  Female   \n",
      "3        4  BF2a889C00f0cE1    Whitney    Hooper    Male   \n",
      "4        5  9afFEafAe1CBBB9    Lindsey      Rice  Female   \n",
      "..     ...              ...        ...       ...     ...   \n",
      "995    996  fedF4c7Fd9e7cFa       Kurt    Bryant  Female   \n",
      "996    997  ECddaFEDdEc4FAB      Donna     Barry  Female   \n",
      "997    998  2adde51d8B8979E      Cathy  Mckinney  Female   \n",
      "998    999  Fb2FE369D1E171A   Jermaine    Phelps    Male   \n",
      "999   1000  8b756f6231DDC6e        Lee      Tran  Female   \n",
      "\n",
      "                             Email         Phone Date of birth  \\\n",
      "0              pwarner@example.org  8.571398e+09    27-01-2014   \n",
      "1    fergusonkatherine@example.net           NaN    26-07-1931   \n",
      "2              fhoward@example.org  5.997821e+09    25-11-2013   \n",
      "3            zjohnston@example.com           NaN    17-11-2012   \n",
      "4                 elin@example.net  3.904172e+13    15-04-1923   \n",
      "..                             ...           ...           ...   \n",
      "995         lyonsdaisy@example.net  2.177529e+08    05-01-1959   \n",
      "996        dariusbryan@example.com  1.149711e+13    06-10-2001   \n",
      "997         georgechan@example.org  1.750774e+15    13-05-1918   \n",
      "998            wanda04@example.net  9.152922e+09    31-08-1971   \n",
      "999        deannablack@example.org  7.975254e+13    24-01-1947   \n",
      "\n",
      "                           Job Title  Salary  \n",
      "0                  Probation officer   90000  \n",
      "1                             Dancer   80000  \n",
      "2                               Copy   50000  \n",
      "3           Counselling psychologist   65000  \n",
      "4                Biomedical engineer  100000  \n",
      "..                               ...     ...  \n",
      "995                Personnel officer   90000  \n",
      "996          Education administrator   50000  \n",
      "997  Commercial/residential surveyor   60000  \n",
      "998                 Ambulance person  100000  \n",
      "999       Nurse, learning disability   90000  \n",
      "\n",
      "[1000 rows x 10 columns]\n"
     ]
    }
   ],
   "source": [
    "#Q7. Clean and transform the 'Phone' column in the sample dataset to remove non-numeric characters and convert it to a numeric data type. Also display the table attributes and data types of each column\n",
    "\n",
    "#To clean and transform the 'Phone' column in the sample dataset, we'll remove non-numeric characters and convert it to a numeric data type. Then, I'll display the table attributes and data types of each column.\n",
    "import pandas as pd\n",
    "\n",
    "# Read the CSV file into a DataFrame\n",
    "df = pd.read_csv(\"People Data.csv\")\n",
    "\n",
    "# Clean and transform the 'Phone' column\n",
    "df['Phone'] = df['Phone'].replace({'\\D': ''}, regex=True).astype(float)\n",
    "\n",
    "# Display the table attributes and data types of each column\n",
    "print(df.info())\n",
    "print(df)\n",
    "\n",
    "#Insights:\n",
    "# This script will:\n",
    "# Read the CSV file into a Pandas DataFrame.\n",
    "# Clean and transform the 'Phone' column by removing non-numeric characters using regular expressions (\\D matches any non-digit character), and then converting the result to a float data type.\n",
    "# Display the table attributes and data types of each column using df.info().\n",
    "# Print the DataFrame to show the cleaned 'Phone' column."
   ]
  },
  {
   "cell_type": "code",
   "execution_count": 21,
   "metadata": {},
   "outputs": [
    {
     "name": "stdout",
     "output_type": "stream",
     "text": [
      "First 10 rows of the filtered dataset:\n",
      "  Last Name  Gender                       Email                   Phone  \\\n",
      "0    Zavala    Male        pamela64@example.net  001-859-448-9935x54536   \n",
      "1     Carey  Female   dianashepherd@example.net    001-274-739-8470x814   \n",
      "2     Hobbs  Female   ingramtiffany@example.org        241.179.9509x498   \n",
      "3    Reilly    Male  carriecrawford@example.org       207.797.8345x6177   \n",
      "4    Conrad    Male  fuentesclaudia@example.net    001-599-042-7428x143   \n",
      "5      Cole    Male      kaneaudrey@example.org            663-280-5834   \n",
      "6   Donovan    Male   rebekahsantos@example.net                     NaN   \n",
      "7    Little  Female         craig28@example.com       125.219.3673x0076   \n",
      "8    Dawson  Female  connercourtney@example.net      650-748-3069x64529   \n",
      "9      Page    Male  harrygallagher@example.com        849.500.6331x717   \n",
      "\n",
      "   Salary  \n",
      "0   80000  \n",
      "1   70000  \n",
      "2   60000  \n",
      "3  100000  \n",
      "4   50000  \n",
      "5   85000  \n",
      "6   65000  \n",
      "7   60000  \n",
      "8   60000  \n",
      "9   60000  \n",
      "\n",
      "Last 5 values of the 'Salary' column:\n",
      "945     90000\n",
      "946     50000\n",
      "947     60000\n",
      "948    100000\n",
      "949     90000\n",
      "Name: Salary, dtype: int64\n"
     ]
    }
   ],
   "source": [
    "#Q8. Perform the following tasks using people dataset: \n",
    "\n",
    "import pandas as pd\n",
    "\n",
    "#a) Read the 'data.csv' file using pandas, skipping the first 50 rows. \n",
    "df = pd.read_csv(\"People Data.csv\", skiprows=50)\n",
    "\n",
    "#b) Only read the columns: 'Last Name', ‘Gender’,’Email’,‘Phone’ and ‘Salary’ from the file. \n",
    "selected_columns = [3, 4, 5, 6, 9]\n",
    "df = df.iloc[:, selected_columns]\n",
    "df.columns = ['Last Name', 'Gender', 'Email', 'Phone', 'Salary']\n",
    "\n",
    "#c) Display the first 10 rows of the filtered dataset. \n",
    "print(\"First 10 rows of the filtered dataset:\")\n",
    "print(df.head(10))\n",
    "\n",
    "#d) Extract the ‘Salary’' column as a Series and display its last 5 values\n",
    "salary_series = df['Salary']\n",
    "print(\"\\nLast 5 values of the 'Salary' column:\")\n",
    "print(salary_series.tail(5))\n",
    "\n",
    "#Insights:\n",
    "# This script will:\n",
    "\n",
    "# a) Read the 'data.csv' file using pandas, skipping the first 50 rows.\n",
    "# b) Only read the columns: 'Last Name', ‘Gender’,’Email’,‘Phone’ and ‘Salary’ from the file.\n",
    "# c) Display the first 10 rows of the filtered dataset.\n",
    "# d) Extract the ‘Salary’ column as a Series and display its last 5 values."
   ]
  },
  {
   "cell_type": "code",
   "execution_count": 23,
   "metadata": {},
   "outputs": [
    {
     "name": "stdout",
     "output_type": "stream",
     "text": [
      "Filtered dataset:\n",
      "     Index          User Id First Name Last Name  Gender  \\\n",
      "45      46  99A502C175C4EBd     Olivia      Duke  Female   \n",
      "210    211  DF17975CC0a0373    Katrina      Duke  Female   \n",
      "457    458  dcE1B7DE83c1076      Traci      Duke  Female   \n",
      "729    730  c9b482D7aa3e682     Lonnie      Duke  Female   \n",
      "\n",
      "                        Email                   Phone Date of birth  \\\n",
      "45        diana26@example.net  001-366-475-8607x04350    13-10-1934   \n",
      "210       robin78@example.com            740.434.0212    21-09-1935   \n",
      "457  perryhoffman@example.org     +1-903-596-0995x489    11-02-1997   \n",
      "729   kevinkramer@example.net            982.692.6257    12-05-2015   \n",
      "\n",
      "           Job Title  Salary  \n",
      "45           Dentist   60000  \n",
      "210  Producer, radio   50000  \n",
      "457        Herbalist   50000  \n",
      "729     Nurse, adult   70000  \n"
     ]
    }
   ],
   "source": [
    "#Q9. Filter and select rows from the People_Dataset, where the “Last Name' column contains the name 'Duke',  'Gender' column contains the word Female and ‘Salary’ should be less than 85000\n",
    "\n",
    "import pandas as pd\n",
    "\n",
    "# Read the People_Dataset\n",
    "df = pd.read_csv(\"People Data.csv\")\n",
    "\n",
    "# Filter and select rows where 'Last Name' contains 'Duke', 'Gender' contains 'Female', and 'Salary' is less than 85000\n",
    "filtered_df = df[(df['Last Name'].str.contains('Duke', case=False)) & \n",
    "                 (df['Gender'] == 'Female') & \n",
    "                 (df['Salary'] < 85000)]\n",
    "\n",
    "# Display the filtered dataset\n",
    "print(\"Filtered dataset:\")\n",
    "print(filtered_df)\n",
    "\n",
    "#Insights:\n",
    "# We use the pd.read_csv() function to read the People_Dataset CSV file into a DataFrame.\n",
    "# We create a boolean mask to filter rows based on three conditions:\n",
    "# 'Last Name' containing the name 'Duke' (case-insensitive) using str.contains() method.\n",
    "# 'Gender' column containing the word 'Female'.\n",
    "# 'Salary' less than 85000.\n",
    "# We apply this boolean mask to the DataFrame using square brackets [] to filter out the rows meeting all conditions simultaneously.\n",
    "# The resulting DataFrame contains only the rows that satisfy all the specified conditions.\n"
   ]
  },
  {
   "cell_type": "code",
   "execution_count": 25,
   "metadata": {},
   "outputs": [
    {
     "name": "stdout",
     "output_type": "stream",
     "text": [
      "7x5 DataFrame:\n",
      "   0  1  2  3  4\n",
      "0  4  6  5  5  2\n",
      "1  4  4  2  2  1\n",
      "2  5  4  5  1  3\n",
      "3  6  1  5  1  6\n",
      "4  5  2  6  1  4\n",
      "5  5  6  6  3  3\n",
      "6  6  5  6  5  5\n"
     ]
    }
   ],
   "source": [
    "#Q10. Create a 7*5 Dataframe in Pandas using a series generated from 35 random integers between 1 to 6?\n",
    "\n",
    "import pandas as pd\n",
    "import numpy as np\n",
    "\n",
    "# Generate a series of 35 random integers between 1 to 6\n",
    "random_integers = np.random.randint(1, 7, size=35)\n",
    "\n",
    "# Reshape the series into a 7x5 shape\n",
    "reshaped_array = random_integers.reshape(7, 5)\n",
    "\n",
    "# Create a DataFrame using the reshaped series\n",
    "df = pd.DataFrame(reshaped_array)\n",
    "\n",
    "# Display the DataFrame\n",
    "print(\"7x5 DataFrame:\")\n",
    "print(df)\n",
    "\n",
    "#Insights:\n",
    "# To create a 7x5 DataFrame in Pandas using a series generated from 35 random integers between 1 to 6\n",
    "# we can follow these steps:\n",
    "# Generate the series of 35 random integers between 1 to 6.\n",
    "# Reshape the series into a 7x5 shape.\n",
    "# Create a DataFrame using the reshaped series."
   ]
  },
  {
   "cell_type": "code",
   "execution_count": 27,
   "metadata": {},
   "outputs": [
    {
     "name": "stdout",
     "output_type": "stream",
     "text": [
      "DataFrame with two Series combined and column names changed:\n",
      "    col1  col2\n",
      "0     25   123\n",
      "1     28   828\n",
      "2     37   200\n",
      "3     10   270\n",
      "4     26   100\n",
      "5     11   108\n",
      "6     19   254\n",
      "7     19   777\n",
      "8     26   125\n",
      "9     37   561\n",
      "10    47   507\n",
      "11    10   528\n",
      "12    24   330\n",
      "13    29   884\n",
      "14    23   938\n",
      "15    35   287\n",
      "16    20   831\n",
      "17    46   391\n",
      "18    47   208\n",
      "19    43   514\n",
      "20    34   940\n",
      "21    48   232\n",
      "22    46   120\n",
      "23    40   749\n",
      "24    12   291\n",
      "25    16   463\n",
      "26    33   281\n",
      "27    17   322\n",
      "28    42   475\n",
      "29    43   817\n",
      "30    17   623\n",
      "31    49   231\n",
      "32    45   819\n",
      "33    42   682\n",
      "34    34   205\n",
      "35    35   425\n",
      "36    35   566\n",
      "37    46   367\n",
      "38    19   741\n",
      "39    31   983\n",
      "40    44   699\n",
      "41    48   971\n",
      "42    14   264\n",
      "43    46   964\n",
      "44    30   407\n",
      "45    38   130\n",
      "46    46   745\n",
      "47    12   904\n",
      "48    33   414\n",
      "49    25   853\n"
     ]
    }
   ],
   "source": [
    "#Q11. Create two different Series, each of length 50, with the following criteria: \n",
    "\n",
    "import pandas as pd\n",
    "import numpy as np\n",
    "# a) The first Series should contain random numbers ranging from 10 to 50.\n",
    "series1 = pd.Series(np.random.randint(10, 51, size=50))\n",
    "\n",
    "# b) The second Series should contain random numbers ranging from 100 to 1000. \n",
    "series2 = pd.Series(np.random.randint(100, 1001, size=50))\n",
    "\n",
    "# c) Create a DataFrame by joining these Series by column, and, change the names of the columns to 'col1', 'col2', etc\n",
    "df = pd.concat([series1, series2], axis=1)\n",
    "\n",
    "df.columns = ['col' + str(i) for i in range(1, len(df.columns) + 1)]\n",
    "\n",
    "print(\"DataFrame with two Series combined and column names changed:\")\n",
    "print(df)\n",
    "\n",
    "#Insights:\n",
    "# Data Generation: Two Series are generated using NumPy's random.randint function:\n",
    "# The first Series (series1) contains 50 random integers between 10 and 50.\n",
    "# The second Series (series2) contains 50 random integers between 100 and 1000.\n",
    "# DataFrame Creation: The two Series are combined into a DataFrame using Pandas' concat function with axis=1 to join them by column.\n",
    "# Column Names: The column names of the DataFrame are changed to 'col1', 'col2', etc. using a list comprehension and the columns attribute of the DataFrame.\n",
    "# Display: The resulting DataFrame is printed to the console, showing the combined data with the updated column names."
   ]
  },
  {
   "cell_type": "code",
   "execution_count": 30,
   "metadata": {},
   "outputs": [
    {
     "name": "stdout",
     "output_type": "stream",
     "text": [
      "Final output after deleting specified columns and rows:\n",
      "     Index          User Id First Name Last Name  Gender  \\\n",
      "0        1  8717bbf45cCDbEe     Shelia   Mahoney    Male   \n",
      "1        2  3d5AD30A4cD38ed         Jo    Rivers  Female   \n",
      "2        3  810Ce0F276Badec     Sheryl    Lowery  Female   \n",
      "3        4  BF2a889C00f0cE1    Whitney    Hooper    Male   \n",
      "4        5  9afFEafAe1CBBB9    Lindsey      Rice  Female   \n",
      "..     ...              ...        ...       ...     ...   \n",
      "995    996  fedF4c7Fd9e7cFa       Kurt    Bryant  Female   \n",
      "996    997  ECddaFEDdEc4FAB      Donna     Barry  Female   \n",
      "997    998  2adde51d8B8979E      Cathy  Mckinney  Female   \n",
      "998    999  Fb2FE369D1E171A   Jermaine    Phelps    Male   \n",
      "999   1000  8b756f6231DDC6e        Lee      Tran  Female   \n",
      "\n",
      "                           Job Title  Salary  \n",
      "0                  Probation officer   90000  \n",
      "1                             Dancer   80000  \n",
      "2                               Copy   50000  \n",
      "3           Counselling psychologist   65000  \n",
      "4                Biomedical engineer  100000  \n",
      "..                               ...     ...  \n",
      "995                Personnel officer   90000  \n",
      "996          Education administrator   50000  \n",
      "997  Commercial/residential surveyor   60000  \n",
      "998                 Ambulance person  100000  \n",
      "999       Nurse, learning disability   90000  \n",
      "\n",
      "[1000 rows x 7 columns]\n"
     ]
    }
   ],
   "source": [
    "#Q12. Perform the following operations using people data set: \n",
    "\n",
    "import pandas as pd\n",
    "\n",
    "# Read the people dataset\n",
    "df = pd.read_csv(\"People Data.csv\")\n",
    "\n",
    "# a) Delete the 'Email', 'Phone', and 'Date of birth' columns from the dataset. \n",
    "df.drop(['Email', 'Phone', 'Date of birth'], axis=1, inplace=True)\n",
    "\n",
    "# b) Delete the rows containing any missing values. \n",
    "df.dropna(inplace=True)\n",
    "\n",
    "# c) Print the final output also\n",
    "print(\"Final output after deleting specified columns and rows:\")\n",
    "print(df)\n",
    "\n",
    "#Insights:\n",
    "# This code will:\n",
    "# a) Delete the 'Email', 'Phone', and 'Date of birth' columns from the dataset using the drop method with axis=1 (columns) and inplace=True to modify the DataFrame in place.\n",
    "# b) Delete the rows containing any missing values using the dropna method with inplace=True to modify the DataFrame in place.\n",
    "# c) Print the final output, showing the DataFrame after the specified columns and rows have been deleted."
   ]
  },
  {
   "cell_type": "code",
   "execution_count": 32,
   "metadata": {},
   "outputs": [
    {
     "data": {
      "image/png": "[encoded data removed]",
      "text/plain": [
       "<Figure size 640x480 with 1 Axes>"
      ]
     },
     "metadata": {},
     "output_type": "display_data"
    }
   ],
   "source": [
    "#Q13. Create two NumPy arrays, x and y, each containing 100 random float values between 0 and 1. Perform the following tasks using Matplotlib and NumPy: \n",
    "\n",
    "import numpy as np\n",
    "import matplotlib.pyplot as plt\n",
    "\n",
    "# a) Create a scatter plot using x and y, setting the color of the points to red and the marker style to 'o'. \n",
    "x = np.random.rand(100)\n",
    "y = np.random.rand(100)\n",
    "\n",
    "# b) Add a horizontal line at y = 0.5 using a dashed line style and label it as 'y = 0.5'. \n",
    "plt.scatter(x, y, color='red', marker='o', label='Random Points')\n",
    "\n",
    "# c) Add a vertical line at x = 0.5 using a dotted line style and label it as 'x = 0.5'. \n",
    "plt.axhline(y=0.5, color='blue', linestyle='--', label='y = 0.5')\n",
    "\n",
    "# d) Label the x-axis as 'X-axis' and the y-axis as 'Y-axis'. \n",
    "plt.axvline(x=0.5, color='green', linestyle=':', label='x = 0.5')\n",
    "\n",
    "# e) Set the title of the plot as 'Advanced Scatter Plot of Random Values'. \n",
    "plt.xlabel('X-axis')\n",
    "plt.ylabel('Y-axis')\n",
    "plt.title('Advanced Scatter Plot of Random Values')\n",
    "\n",
    "# f) Display a legend for the scatter plot, the horizontal line, and the vertical line.\n",
    "plt.legend()\n",
    "\n",
    "# Show the plot\n",
    "plt.show()\n",
    "\n",
    "#Insights:\n",
    "# the legend will include entries for the scatter plot, the horizontal line, and the vertical line, with labels specified as 'Random Points', 'y = 0.5', and 'x = 0.5' respectively."
   ]
  },
  {
   "cell_type": "code",
   "execution_count": 43,
   "metadata": {},
   "outputs": [
    {
     "name": "stdout",
     "output_type": "stream",
     "text": [
      "        Date  Temperature   Humidity\n",
      "0 2024-01-01    34.902595  36.949969\n",
      "1 2024-01-02    24.726071  66.497071\n",
      "2 2024-01-03    31.992737  67.422077\n",
      "3 2024-01-04    20.567314  33.992129\n",
      "4 2024-01-05    24.773055  46.008697\n",
      "5 2024-01-06    33.606961  32.217294\n",
      "6 2024-01-07    23.038790  62.885512\n",
      "7 2024-01-08    34.294072  35.119204\n",
      "8 2024-01-09    33.548335  67.676763\n",
      "9 2024-01-10    23.509167  44.550089\n"
     ]
    },
    {
     "data": {
      "image/png": "[encoded data removed]",
      "text/plain": [
       "<Figure size 640x480 with 2 Axes>"
      ]
     },
     "metadata": {},
     "output_type": "display_data"
    }
   ],
   "source": [
    "#Q14. Create a time-series dataset in a Pandas DataFrame with columns: 'Date', 'Temperature', 'Humidity' and Perform the following tasks using Matplotlib:\n",
    "\n",
    "import pandas as pd\n",
    "import numpy as np\n",
    "import matplotlib.pyplot as plt\n",
    "\n",
    "# a) Plot the 'Temperature' and 'Humidity' on the same plot with different y-axes (left y-axis for 'Temperature' and right y-axis for 'Humidity')\n",
    "    # Create a time-series dataset\n",
    "date_rng = pd.date_range(start='2024-01-01', end='2024-01-10', freq='D')\n",
    "df = pd.DataFrame(date_rng, columns=['Date'])\n",
    "df['Temperature'] = np.random.uniform(low=20, high=35, size=(len(date_rng)))\n",
    "df['Humidity'] = np.random.uniform(low=30, high=70, size=(len(date_rng)))\n",
    "    # Check the DataFrame content\n",
    "print(df)\n",
    "    # Plot Temperature and Humidity on the same plot with different y-axes\n",
    "fig, ax1 = plt.subplots()\n",
    "\n",
    "ax1.plot(df['Date'], df['Temperature'], color='tab:red', label='Temperature')\n",
    "ax1.set_ylabel('Temperature (°C)', color='tab:red')\n",
    "ax1.tick_params(axis='y', labelcolor='tab:red')\n",
    "\n",
    "ax2 = ax1.twinx()\n",
    "ax2.plot(df['Date'], df['Humidity'], color='tab:blue', label='Humidity')\n",
    "ax2.set_ylabel('Humidity (%)', color='tab:blue')\n",
    "ax2.tick_params(axis='y', labelcolor='tab:blue')\n",
    "\n",
    "\n",
    "# b) Label the x-axis as 'Date'\n",
    "    # Label the x-axis as 'Date'\n",
    "ax1.set_xlabel('Date')\n",
    "\n",
    "\n",
    "# c) Set the title of the plot as 'Temperature and Humidity Over Time'\n",
    "    # Set the title of the plot as 'Temperature and Humidity Over Time'\n",
    "plt.title('Temperature and Humidity Over Time')\n",
    "    # Add legends\n",
    "fig.legend(loc='upper left', bbox_to_anchor=(0.1, 0.9))\n",
    "    # Display the plot\n",
    "plt.show()\n",
    "\n",
    "#Insights:\n",
    "# Data Generation:\n",
    "# pd.date_range() is used to create a range of dates.\n",
    "# np.random.uniform() generates random values for 'Temperature' and 'Humidity'.\n",
    "\n",
    "# DataFrame Creation:\n",
    "# A dictionary data is created with 'Date', 'Temperature', and 'Humidity'.\n",
    "# pd.DataFrame(data) converts the dictionary into a DataFrame.\n",
    "# df.set_index('Date', inplace=True) sets the 'Date' column as the index of the DataFrame.\n",
    "\n",
    "# Plotting:\n",
    "# fig, ax1 = plt.subplots() initializes the plot.\n",
    "# ax1.plot() plots 'Temperature' on the left y-axis with a red color.\n",
    "# ax1.set_xlabel('Date') labels the x-axis.\n",
    "# ax1.set_ylabel('Temperature (°C)', color='r') labels the left y-axis.\n",
    "# ax1.tick_params(axis='y', labelcolor='r') sets the tick parameters for the left y-axis.\n",
    "# ax2 = ax1.twinx() creates a second y-axis sharing the same x-axis.\n",
    "# ax2.plot() plots 'Humidity' on the right y-axis with a blue color.\n",
    "# ax2.set_ylabel('Humidity (%)', color='b') labels the right y-axis.\n",
    "# ax2.tick_params(axis='y', labelcolor='b') sets the tick parameters for the right y-axis.\n",
    "# plt.title('Temperature and Humidity Over Time') sets the title of the plot.\n",
    "# fig.tight_layout() adjusts the layout to prevent label overlap.\n",
    "# plt.show() displays the plot."
   ]
  },
  {
   "cell_type": "code",
   "execution_count": 46,
   "metadata": {},
   "outputs": [
    {
     "data": {
      "image/png": "[encoded data removed]",
      "text/plain": [
       "<Figure size 640x480 with 1 Axes>"
      ]
     },
     "metadata": {},
     "output_type": "display_data"
    },
    {
     "data": {
      "image/png": "[encoded data removed]",
      "text/plain": [
       "<Figure size 640x480 with 1 Axes>"
      ]
     },
     "metadata": {},
     "output_type": "display_data"
    },
    {
     "data": {
      "image/png": "[encoded data removed]",
      "text/plain": [
       "<Figure size 640x480 with 1 Axes>"
      ]
     },
     "metadata": {},
     "output_type": "display_data"
    },
    {
     "data": {
      "image/png": "[encoded data removed]",
      "text/plain": [
       "<Figure size 640x480 with 1 Axes>"
      ]
     },
     "metadata": {},
     "output_type": "display_data"
    }
   ],
   "source": [
    "#Q15. Create a NumPy array data containing 1000 samples from a normal distribution. Perform the following tasks using Matplotlib: \n",
    "\n",
    "import numpy as np\n",
    "import matplotlib.pyplot as plt\n",
    "\n",
    "# Create a NumPy array with 1000 samples from a normal distribution\n",
    "data = np.random.normal(loc=0, scale=1, size=1000)\n",
    "\n",
    "# a) Plot a histogram of the data with 30 bins. \n",
    "    # Plot a histogram of the data with 30 bins\n",
    "plt.hist(data, bins=30, alpha=0.6, color='g')\n",
    "\n",
    "    # Show the plot\n",
    "plt.show()\n",
    "\n",
    "# b) Overlay a line plot representing the normal distribution's probability density function (PDF). \n",
    "    # Plot the histogram\n",
    "count, bins, ignored = plt.hist(data, bins=30, density=True, alpha=0.6, color='g')\n",
    "\n",
    "    # Calculate the PDF\n",
    "mu, sigma = 0, 1  # Mean and standard deviation\n",
    "pdf = (1/(sigma * np.sqrt(2 * np.pi))) * np.exp(-0.5 * ((bins - mu) / sigma) ** 2)\n",
    "\n",
    "    # Overlay the PDF\n",
    "plt.plot(bins, pdf, linewidth=2, color='r')\n",
    "\n",
    "    # Show the plot\n",
    "plt.show()\n",
    "\n",
    "# c) Label the x-axis as 'Value' and the y-axis as 'Frequency/Probability'. \n",
    "    # Plot the histogram\n",
    "count, bins, ignored = plt.hist(data, bins=30, density=True, alpha=0.6, color='g')\n",
    "\n",
    "    # Calculate the PDF\n",
    "pdf = (1/(sigma * np.sqrt(2 * np.pi))) * np.exp(-0.5 * ((bins - mu) / sigma) ** 2)\n",
    "\n",
    "    # Overlay the PDF\n",
    "plt.plot(bins, pdf, linewidth=2, color='r')\n",
    "\n",
    "    # Label the x-axis and y-axis\n",
    "plt.xlabel('Value')\n",
    "plt.ylabel('Frequency/Probability')\n",
    "\n",
    "    # Show the plot\n",
    "plt.show()\n",
    "\n",
    "# d) Set the title of the plot as 'Histogram with PDF Overlay'.\n",
    "    # Plot the histogram\n",
    "count, bins, ignored = plt.hist(data, bins=30, density=True, alpha=0.6, color='g')\n",
    "\n",
    "    # Calculate the PDF\n",
    "pdf = (1/(sigma * np.sqrt(2 * np.pi))) * np.exp(-0.5 * ((bins - mu) / sigma) ** 2)\n",
    "\n",
    "    # Overlay the PDF\n",
    "plt.plot(bins, pdf, linewidth=2, color='r')\n",
    "\n",
    "    # Label the x-axis and y-axis\n",
    "plt.xlabel('Value')\n",
    "plt.ylabel('Frequency/Probability')\n",
    "\n",
    "    # Set the title of the plot\n",
    "plt.title('Histogram with PDF Overlay')\n",
    "\n",
    "    # Show the plot\n",
    "plt.show()\n",
    "\n",
    "#Insights:\n",
    "# Data Generation:\n",
    "\n",
    "# The NumPy library is used to generate 1000 samples from a normal distribution with a mean of 0 and a standard deviation of 1.\n",
    "# Histogram Plotting:\n",
    "\n",
    "# The plt.hist() function is used to create a histogram of the generated data with 30 bins.\n",
    "# The density=True parameter is set to normalize the histogram such that the area under the histogram sums to 1, making it comparable to the PDF.\n",
    "# PDF Calculation and Overlay:\n",
    "\n",
    "# The PDF for the normal distribution is calculated using the formula for the standard normal distribution.\n",
    "# The PDF is overlaid on the histogram plot using the plt.plot() function.\n",
    "# Plot Labeling:\n",
    "\n",
    "# The x-axis is labeled as 'Value', and the y-axis is labeled as 'Frequency/Probability' to provide context to the plot.\n",
    "# Plot Title:\n",
    "\n",
    "# The title of the plot is set as 'Histogram with PDF Overlay' to describe the content of the plot."
   ]
  },
  {
   "cell_type": "code",
   "execution_count": 47,
   "metadata": {},
   "outputs": [
    {
     "data": {
      "text/plain": [
       "Text(0.5, 1.0, 'Histogram with PDF Overlay')"
      ]
     },
     "execution_count": 47,
     "metadata": {},
     "output_type": "execute_result"
    },
    {
     "data": {
      "image/png": "[encoded data removed]",
      "text/plain": [
       "<Figure size 640x480 with 1 Axes>"
      ]
     },
     "metadata": {},
     "output_type": "display_data"
    }
   ],
   "source": [
    "#Q16. Set the title of the plot as 'Histogram with PDF Overlay'\n",
    "\n",
    "# Set the title of the plot\n",
    "plt.title('Histogram with PDF Overlay')\n"
   ]
  },
  {
   "cell_type": "code",
   "execution_count": 49,
   "metadata": {},
   "outputs": [
    {
     "data": {
      "image/png": "[encoded data removed]",
      "text/plain": [
       "<Figure size 640x480 with 1 Axes>"
      ]
     },
     "metadata": {},
     "output_type": "display_data"
    }
   ],
   "source": [
    "#Q17. Create a Seaborn scatter plot of two random arrays, color points based on their position relative to the origin (quadrants), add a legend, label the axes, and set the title as 'Quadrant-wise Scatter Plot'.\n",
    "\n",
    "import numpy as np\n",
    "import seaborn as sns\n",
    "import matplotlib.pyplot as plt\n",
    "\n",
    "# Generate two random arrays\n",
    "np.random.seed(0)  # for reproducibility\n",
    "x = np.random.normal(size=100)\n",
    "y = np.random.normal(size=100)\n",
    "\n",
    "# Determine the quadrant for each point\n",
    "quadrant = np.zeros_like(x, dtype=int)\n",
    "quadrant[(x > 0) & (y > 0)] = 1  # First quadrant\n",
    "quadrant[(x < 0) & (y > 0)] = 2  # Second quadrant\n",
    "quadrant[(x < 0) & (y < 0)] = 3  # Third quadrant\n",
    "quadrant[(x > 0) & (y < 0)] = 4  # Fourth quadrant\n",
    "\n",
    "# Create a Seaborn scatter plot with color based on quadrant\n",
    "sns.scatterplot(x=x, y=y, hue=quadrant, palette='Set1')\n",
    "\n",
    "# Add a legend\n",
    "plt.legend(title='Quadrant')\n",
    "\n",
    "# Label the axes\n",
    "plt.xlabel('X-axis')\n",
    "plt.ylabel('Y-axis')\n",
    "\n",
    "# Set the title of the plot\n",
    "plt.title('Quadrant-wise Scatter Plot')\n",
    "\n",
    "# Show the plot\n",
    "plt.show()\n",
    "\n",
    "#Insights:\n",
    "# To create a Seaborn scatter plot of two random arrays, color points based on their position relative to the origin (quadrants), add a legend, label the axes, and set the title as 'Quadrant-wise Scatter Plot', follow these steps:\n",
    "# Generate two random arrays.\n",
    "# Determine the quadrant for each point based on its coordinates.\n",
    "# Create a Seaborn scatter plot and use different colors for points in different quadrants.\n",
    "# Add a legend to identify the quadrants.\n",
    "# Label the axes.\n",
    "# Set the title of the plot.\n",
    "\n",
    "\n"
   ]
  },
  {
   "cell_type": "code",
   "execution_count": 54,
   "metadata": {},
   "outputs": [
    {
     "data": {
      "text/html": [
       "\n",
       "  <div id=\"c6762010-b0f7-4716-abfc-7bbbc1088c09\" data-root-id=\"p1108\" style=\"display: contents;\"></div>\n"
      ]
     },
     "metadata": {},
     "output_type": "display_data"
    },
    {
     "data": {
      "application/javascript": "(function(root) {\n  function embed_document(root) {\n  const docs_json = {\"587c7b40-48ea-4de6-a901-bdc7f8360117\":{\"version\":\"3.2.1\",\"title\":\"Bokeh Application\",\"roots\":[{\"type\":\"object\",\"name\":\"Figure\",\"id\":\"p1108\",\"attributes\":{\"x_range\":{\"type\":\"object\",\"name\":\"FactorRange\",\"id\":\"p1118\",\"attributes\":{\"factors\":[\"A\",\"B\",\"C\",\"D\",\"E\"]}},\"y_range\":{\"type\":\"object\",\"name\":\"DataRange1d\",\"id\":\"p1110\"},\"x_scale\":{\"type\":\"object\",\"name\":\"CategoricalScale\",\"id\":\"p1119\"},\"y_scale\":{\"type\":\"object\",\"name\":\"LinearScale\",\"id\":\"p1120\"},\"title\":{\"type\":\"object\",\"name\":\"Title\",\"id\":\"p1111\",\"attributes\":{\"text\":\"Random Categorical Bar Chart\"}},\"renderers\":[{\"type\":\"object\",\"name\":\"GlyphRenderer\",\"id\":\"p1137\",\"attributes\":{\"data_source\":{\"type\":\"object\",\"name\":\"ColumnDataSource\",\"id\":\"p1131\",\"attributes\":{\"selected\":{\"type\":\"object\",\"name\":\"Selection\",\"id\":\"p1132\",\"attributes\":{\"indices\":[],\"line_indices\":[]}},\"selection_policy\":{\"type\":\"object\",\"name\":\"UnionRenderers\",\"id\":\"p1133\"},\"data\":{\"type\":\"map\",\"entries\":[[\"x\",[\"A\",\"B\",\"C\",\"D\",\"E\"]],[\"top\",{\"type\":\"ndarray\",\"array\":{\"type\":\"bytes\",\"data\":\"CQAAAAMAAAAIAAAACQAAAAUAAAA=\"},\"shape\":[5],\"dtype\":\"int32\",\"order\":\"little\"}],[\"fill_color\",[\"red\",\"green\",\"blue\",\"orange\",\"purple\"]],[\"line_color\",[\"red\",\"green\",\"blue\",\"orange\",\"purple\"]],[\"hatch_color\",[\"red\",\"green\",\"blue\",\"orange\",\"purple\"]]]}}},\"view\":{\"type\":\"object\",\"name\":\"CDSView\",\"id\":\"p1138\",\"attributes\":{\"filter\":{\"type\":\"object\",\"name\":\"AllIndices\",\"id\":\"p1139\"}}},\"glyph\":{\"type\":\"object\",\"name\":\"VBar\",\"id\":\"p1134\",\"attributes\":{\"x\":{\"type\":\"field\",\"field\":\"x\"},\"width\":{\"type\":\"value\",\"value\":0.9},\"top\":{\"type\":\"field\",\"field\":\"top\"},\"line_color\":{\"type\":\"field\",\"field\":\"line_color\"},\"fill_color\":{\"type\":\"field\",\"field\":\"fill_color\"},\"hatch_color\":{\"type\":\"field\",\"field\":\"hatch_color\"}}},\"nonselection_glyph\":{\"type\":\"object\",\"name\":\"VBar\",\"id\":\"p1135\",\"attributes\":{\"x\":{\"type\":\"field\",\"field\":\"x\"},\"width\":{\"type\":\"value\",\"value\":0.9},\"top\":{\"type\":\"field\",\"field\":\"top\"},\"line_color\":{\"type\":\"field\",\"field\":\"line_color\"},\"line_alpha\":{\"type\":\"value\",\"value\":0.1},\"fill_color\":{\"type\":\"field\",\"field\":\"fill_color\"},\"fill_alpha\":{\"type\":\"value\",\"value\":0.1},\"hatch_color\":{\"type\":\"field\",\"field\":\"hatch_color\"},\"hatch_alpha\":{\"type\":\"value\",\"value\":0.1}}},\"muted_glyph\":{\"type\":\"object\",\"name\":\"VBar\",\"id\":\"p1136\",\"attributes\":{\"x\":{\"type\":\"field\",\"field\":\"x\"},\"width\":{\"type\":\"value\",\"value\":0.9},\"top\":{\"type\":\"field\",\"field\":\"top\"},\"line_color\":{\"type\":\"field\",\"field\":\"line_color\"},\"line_alpha\":{\"type\":\"value\",\"value\":0.2},\"fill_color\":{\"type\":\"field\",\"field\":\"fill_color\"},\"fill_alpha\":{\"type\":\"value\",\"value\":0.2},\"hatch_color\":{\"type\":\"field\",\"field\":\"hatch_color\"},\"hatch_alpha\":{\"type\":\"value\",\"value\":0.2}}}}}],\"toolbar\":{\"type\":\"object\",\"name\":\"Toolbar\",\"id\":\"p1117\",\"attributes\":{\"tools\":[{\"type\":\"object\",\"name\":\"HoverTool\",\"id\":\"p1140\",\"attributes\":{\"renderers\":\"auto\",\"tooltips\":[[\"Category\",\"@x\"],[\"Value\",\"@top\"]]}}]}},\"toolbar_location\":null,\"left\":[{\"type\":\"object\",\"name\":\"LinearAxis\",\"id\":\"p1126\",\"attributes\":{\"ticker\":{\"type\":\"object\",\"name\":\"BasicTicker\",\"id\":\"p1127\",\"attributes\":{\"mantissas\":[1,2,5]}},\"formatter\":{\"type\":\"object\",\"name\":\"BasicTickFormatter\",\"id\":\"p1128\"},\"axis_label\":\"Values\",\"major_label_policy\":{\"type\":\"object\",\"name\":\"AllLabels\",\"id\":\"p1129\"}}}],\"below\":[{\"type\":\"object\",\"name\":\"CategoricalAxis\",\"id\":\"p1121\",\"attributes\":{\"ticker\":{\"type\":\"object\",\"name\":\"CategoricalTicker\",\"id\":\"p1122\"},\"formatter\":{\"type\":\"object\",\"name\":\"CategoricalTickFormatter\",\"id\":\"p1123\"},\"axis_label\":\"Categories\",\"major_label_policy\":{\"type\":\"object\",\"name\":\"AllLabels\",\"id\":\"p1124\"}}}],\"center\":[{\"type\":\"object\",\"name\":\"Grid\",\"id\":\"p1125\",\"attributes\":{\"axis\":{\"id\":\"p1121\"}}},{\"type\":\"object\",\"name\":\"Grid\",\"id\":\"p1130\",\"attributes\":{\"dimension\":1,\"axis\":{\"id\":\"p1126\"}}}]}}]}};\n  const render_items = [{\"docid\":\"587c7b40-48ea-4de6-a901-bdc7f8360117\",\"roots\":{\"p1108\":\"c6762010-b0f7-4716-abfc-7bbbc1088c09\"},\"root_ids\":[\"p1108\"]}];\n  root.Bokeh.embed.embed_items_notebook(docs_json, render_items);\n  }\n  if (root.Bokeh !== undefined) {\n    embed_document(root);\n  } else {\n    let attempts = 0;\n    const timer = setInterval(function(root) {\n      if (root.Bokeh !== undefined) {\n        clearInterval(timer);\n        embed_document(root);\n      } else {\n        attempts++;\n        if (attempts > 100) {\n          clearInterval(timer);\n          console.log(\"Bokeh: ERROR: Unable to run BokehJS code because BokehJS library is missing\");\n        }\n      }\n    }, 10, root)\n  }\n})(window);",
      "application/vnd.bokehjs_exec.v0+json": ""
     },
     "metadata": {
      "application/vnd.bokehjs_exec.v0+json": {
       "id": "p1108"
      }
     },
     "output_type": "display_data"
    }
   ],
   "source": [
    "#Q19 Using Bokeh, generate a bar chart of randomly generated categorical data, color bars based on their values, add hover tooltips to display exact values, label the axes, and set the title as 'Random Categorical Bar Chart'\n",
    "\n",
    "from bokeh.plotting import figure, show\n",
    "from bokeh.models import HoverTool\n",
    "import numpy as np\n",
    "\n",
    "# Generate random categorical data and values\n",
    "categories = ['A', 'B', 'C', 'D', 'E']\n",
    "values = np.random.randint(1, 10, size=len(categories))\n",
    "\n",
    "# Create a Bokeh figure\n",
    "p = figure(x_range=categories, title='Random Categorical Bar Chart',\n",
    "           toolbar_location=None, tools='')\n",
    "\n",
    "# Add vertical bars to the plot\n",
    "p.vbar(x=categories, top=values, width=0.9, color=['red', 'green', 'blue', 'orange', 'purple'])\n",
    "\n",
    "# Define hover tooltips\n",
    "tooltips = [('Category', '@x'), ('Value', '@top')]\n",
    "p.add_tools(HoverTool(tooltips=tooltips))\n",
    "\n",
    "# Label the axes\n",
    "p.xaxis.axis_label = 'Categories'\n",
    "p.yaxis.axis_label = 'Values'\n",
    "\n",
    "# Show the plot\n",
    "show(p)\n",
    "\n",
    "\n",
    "#Insights:\n",
    "# To create a bar chart with Bokeh for randomly generated categorical data, color bars based on their values, add hover tooltips to display exact values, label the axes, and set the title, follow these steps:\n",
    "# Generate random categorical data and their corresponding values.\n",
    "# Create a Bokeh figure and add a vertical bar chart.\n",
    "# Define the hover tooltips to display the exact values.\n",
    "# Label the axes and set the title of the plot.\n",
    "# Show the plot.\n"
   ]
  },
  {
   "cell_type": "code",
   "execution_count": 56,
   "metadata": {},
   "outputs": [
    {
     "data": {
      "application/vnd.plotly.v1+json": {
       "config": {
        "plotlyServerURL": "https://plot.ly"
       },
       "data": [
        {
         "mode": "lines",
         "name": "Random Data",
         "type": "scatter",
         "x": [
          0,
          0.10101010101010101,
          0.20202020202020202,
          0.30303030303030304,
          0.40404040404040403,
          0.5050505050505051,
          0.6060606060606061,
          0.7070707070707071,
          0.8080808080808081,
          0.9090909090909091,
          1.0101010101010102,
          1.1111111111111112,
          1.2121212121212122,
          1.3131313131313131,
          1.4141414141414141,
          1.5151515151515151,
          1.6161616161616161,
          1.7171717171717171,
          1.8181818181818181,
          1.9191919191919191,
          2.0202020202020203,
          2.121212121212121,
          2.2222222222222223,
          2.323232323232323,
          2.4242424242424243,
          2.525252525252525,
          2.6262626262626263,
          2.727272727272727,
          2.8282828282828283,
          2.929292929292929,
          3.0303030303030303,
          3.131313131313131,
          3.2323232323232323,
          3.3333333333333335,
          3.4343434343434343,
          3.5353535353535355,
          3.6363636363636362,
          3.7373737373737375,
          3.8383838383838382,
          3.9393939393939394,
          4.040404040404041,
          4.141414141414141,
          4.242424242424242,
          4.343434343434343,
          4.444444444444445,
          4.545454545454545,
          4.646464646464646,
          4.747474747474747,
          4.848484848484849,
          4.94949494949495,
          5.05050505050505,
          5.151515151515151,
          5.252525252525253,
          5.353535353535354,
          5.454545454545454,
          5.555555555555555,
          5.656565656565657,
          5.757575757575758,
          5.858585858585858,
          5.959595959595959,
          6.0606060606060606,
          6.161616161616162,
          6.262626262626262,
          6.363636363636363,
          6.4646464646464645,
          6.565656565656566,
          6.666666666666667,
          6.767676767676767,
          6.8686868686868685,
          6.96969696969697,
          7.070707070707071,
          7.171717171717171,
          7.2727272727272725,
          7.373737373737374,
          7.474747474747475,
          7.575757575757575,
          7.6767676767676765,
          7.777777777777778,
          7.878787878787879,
          7.979797979797979,
          8.080808080808081,
          8.181818181818182,
          8.282828282828282,
          8.383838383838384,
          8.484848484848484,
          8.585858585858587,
          8.686868686868687,
          8.787878787878787,
          8.88888888888889,
          8.98989898989899,
          9.09090909090909,
          9.191919191919192,
          9.292929292929292,
          9.393939393939394,
          9.494949494949495,
          9.595959595959595,
          9.696969696969697,
          9.797979797979798,
          9.8989898989899,
          10
         ],
         "y": [
          1.764052345967664,
          0.4001572083672233,
          0.9787379841057392,
          2.240893199201458,
          1.8675579901499675,
          -0.977277879876411,
          0.9500884175255894,
          -0.1513572082976979,
          -0.10321885179355784,
          0.41059850193837233,
          0.144043571160878,
          1.454273506962975,
          0.7610377251469934,
          0.12167501649282841,
          0.44386323274542566,
          0.33367432737426683,
          1.4940790731576061,
          -0.20515826376580087,
          0.31306770165090136,
          -0.8540957393017248,
          -2.5529898158340787,
          0.6536185954403606,
          0.8644361988595057,
          -0.7421650204064419,
          2.2697546239876076,
          -1.4543656745987648,
          0.04575851730144607,
          -0.1871838500258336,
          1.5327792143584575,
          1.469358769900285,
          0.1549474256969163,
          0.37816251960217356,
          -0.8877857476301128,
          -1.980796468223927,
          -0.3479121493261526,
          0.15634896910398005,
          1.2302906807277207,
          1.2023798487844113,
          -0.3873268174079523,
          -0.30230275057533557,
          -1.0485529650670926,
          -1.4200179371789752,
          -1.7062701906250126,
          1.9507753952317897,
          -0.5096521817516535,
          -0.4380743016111864,
          -1.2527953600499262,
          0.7774903558319101,
          -1.6138978475579515,
          -0.2127402802139687,
          -0.8954665611936756,
          0.386902497859262,
          -0.510805137568873,
          -1.180632184122412,
          -0.028182228338654868,
          0.42833187053041766,
          0.06651722238316789,
          0.3024718977397814,
          -0.6343220936809636,
          -0.3627411659871381,
          -0.672460447775951,
          -0.3595531615405413,
          -0.813146282044454,
          -1.7262826023316769,
          0.17742614225375283,
          -0.4017809362082619,
          -1.6301983469660446,
          0.4627822555257742,
          -0.9072983643832422,
          0.05194539579613895,
          0.7290905621775369,
          0.12898291075741067,
          1.1394006845433007,
          -1.2348258203536526,
          0.402341641177549,
          -0.6848100909403132,
          -0.8707971491818818,
          -0.5788496647644155,
          -0.31155253212737266,
          0.05616534222974544,
          -1.1651498407833565,
          0.9008264869541871,
          0.46566243973045984,
          -1.5362436862772237,
          1.4882521937955997,
          1.8958891760305832,
          1.1787795711596507,
          -0.17992483581235091,
          -1.0707526215105425,
          1.0544517269311366,
          -0.40317694697317963,
          1.2224450703824274,
          0.2082749780768603,
          0.9766390364837128,
          0.3563663971744019,
          0.7065731681919482,
          0.010500020720820478,
          1.7858704939058352,
          0.12691209270361992,
          0.40198936344470165
         ]
        }
       ],
       "layout": {
        "template": {
         "data": {
          "bar": [
           {
            "error_x": {
             "color": "#2a3f5f"
            },
            "error_y": {
             "color": "#2a3f5f"
            },
            "marker": {
             "line": {
              "color": "#E5ECF6",
              "width": 0.5
             },
             "pattern": {
              "fillmode": "overlay",
              "size": 10,
              "solidity": 0.2
             }
            },
            "type": "bar"
           }
          ],
          "barpolar": [
           {
            "marker": {
             "line": {
              "color": "#E5ECF6",
              "width": 0.5
             },
             "pattern": {
              "fillmode": "overlay",
              "size": 10,
              "solidity": 0.2
             }
            },
            "type": "barpolar"
           }
          ],
          "carpet": [
           {
            "aaxis": {
             "endlinecolor": "#2a3f5f",
             "gridcolor": "white",
             "linecolor": "white",
             "minorgridcolor": "white",
             "startlinecolor": "#2a3f5f"
            },
            "baxis": {
             "endlinecolor": "#2a3f5f",
             "gridcolor": "white",
             "linecolor": "white",
             "minorgridcolor": "white",
             "startlinecolor": "#2a3f5f"
            },
            "type": "carpet"
           }
          ],
          "choropleth": [
           {
            "colorbar": {
             "outlinewidth": 0,
             "ticks": ""
            },
            "type": "choropleth"
           }
          ],
          "contour": [
           {
            "colorbar": {
             "outlinewidth": 0,
             "ticks": ""
            },
            "colorscale": [
             [
              0,
              "#0d0887"
             ],
             [
              0.1111111111111111,
              "#46039f"
             ],
             [
              0.2222222222222222,
              "#7201a8"
             ],
             [
              0.3333333333333333,
              "#9c179e"
             ],
             [
              0.4444444444444444,
              "#bd3786"
             ],
             [
              0.5555555555555556,
              "#d8576b"
             ],
             [
              0.6666666666666666,
              "#ed7953"
             ],
             [
              0.7777777777777778,
              "#fb9f3a"
             ],
             [
              0.8888888888888888,
              "#fdca26"
             ],
             [
              1,
              "#f0f921"
             ]
            ],
            "type": "contour"
           }
          ],
          "contourcarpet": [
           {
            "colorbar": {
             "outlinewidth": 0,
             "ticks": ""
            },
            "type": "contourcarpet"
           }
          ],
          "heatmap": [
           {
            "colorbar": {
             "outlinewidth": 0,
             "ticks": ""
            },
            "colorscale": [
             [
              0,
              "#0d0887"
             ],
             [
              0.1111111111111111,
              "#46039f"
             ],
             [
              0.2222222222222222,
              "#7201a8"
             ],
             [
              0.3333333333333333,
              "#9c179e"
             ],
             [
              0.4444444444444444,
              "#bd3786"
             ],
             [
              0.5555555555555556,
              "#d8576b"
             ],
             [
              0.6666666666666666,
              "#ed7953"
             ],
             [
              0.7777777777777778,
              "#fb9f3a"
             ],
             [
              0.8888888888888888,
              "#fdca26"
             ],
             [
              1,
              "#f0f921"
             ]
            ],
            "type": "heatmap"
           }
          ],
          "heatmapgl": [
           {
            "colorbar": {
             "outlinewidth": 0,
             "ticks": ""
            },
            "colorscale": [
             [
              0,
              "#0d0887"
             ],
             [
              0.1111111111111111,
              "#46039f"
             ],
             [
              0.2222222222222222,
              "#7201a8"
             ],
             [
              0.3333333333333333,
              "#9c179e"
             ],
             [
              0.4444444444444444,
              "#bd3786"
             ],
             [
              0.5555555555555556,
              "#d8576b"
             ],
             [
              0.6666666666666666,
              "#ed7953"
             ],
             [
              0.7777777777777778,
              "#fb9f3a"
             ],
             [
              0.8888888888888888,
              "#fdca26"
             ],
             [
              1,
              "#f0f921"
             ]
            ],
            "type": "heatmapgl"
           }
          ],
          "histogram": [
           {
            "marker": {
             "pattern": {
              "fillmode": "overlay",
              "size": 10,
              "solidity": 0.2
             }
            },
            "type": "histogram"
           }
          ],
          "histogram2d": [
           {
            "colorbar": {
             "outlinewidth": 0,
             "ticks": ""
            },
            "colorscale": [
             [
              0,
              "#0d0887"
             ],
             [
              0.1111111111111111,
              "#46039f"
             ],
             [
              0.2222222222222222,
              "#7201a8"
             ],
             [
              0.3333333333333333,
              "#9c179e"
             ],
             [
              0.4444444444444444,
              "#bd3786"
             ],
             [
              0.5555555555555556,
              "#d8576b"
             ],
             [
              0.6666666666666666,
              "#ed7953"
             ],
             [
              0.7777777777777778,
              "#fb9f3a"
             ],
             [
              0.8888888888888888,
              "#fdca26"
             ],
             [
              1,
              "#f0f921"
             ]
            ],
            "type": "histogram2d"
           }
          ],
          "histogram2dcontour": [
           {
            "colorbar": {
             "outlinewidth": 0,
             "ticks": ""
            },
            "colorscale": [
             [
              0,
              "#0d0887"
             ],
             [
              0.1111111111111111,
              "#46039f"
             ],
             [
              0.2222222222222222,
              "#7201a8"
             ],
             [
              0.3333333333333333,
              "#9c179e"
             ],
             [
              0.4444444444444444,
              "#bd3786"
             ],
             [
              0.5555555555555556,
              "#d8576b"
             ],
             [
              0.6666666666666666,
              "#ed7953"
             ],
             [
              0.7777777777777778,
              "#fb9f3a"
             ],
             [
              0.8888888888888888,
              "#fdca26"
             ],
             [
              1,
              "#f0f921"
             ]
            ],
            "type": "histogram2dcontour"
           }
          ],
          "mesh3d": [
           {
            "colorbar": {
             "outlinewidth": 0,
             "ticks": ""
            },
            "type": "mesh3d"
           }
          ],
          "parcoords": [
           {
            "line": {
             "colorbar": {
              "outlinewidth": 0,
              "ticks": ""
             }
            },
            "type": "parcoords"
           }
          ],
          "pie": [
           {
            "automargin": true,
            "type": "pie"
           }
          ],
          "scatter": [
           {
            "fillpattern": {
             "fillmode": "overlay",
             "size": 10,
             "solidity": 0.2
            },
            "type": "scatter"
           }
          ],
          "scatter3d": [
           {
            "line": {
             "colorbar": {
              "outlinewidth": 0,
              "ticks": ""
             }
            },
            "marker": {
             "colorbar": {
              "outlinewidth": 0,
              "ticks": ""
             }
            },
            "type": "scatter3d"
           }
          ],
          "scattercarpet": [
           {
            "marker": {
             "colorbar": {
              "outlinewidth": 0,
              "ticks": ""
             }
            },
            "type": "scattercarpet"
           }
          ],
          "scattergeo": [
           {
            "marker": {
             "colorbar": {
              "outlinewidth": 0,
              "ticks": ""
             }
            },
            "type": "scattergeo"
           }
          ],
          "scattergl": [
           {
            "marker": {
             "colorbar": {
              "outlinewidth": 0,
              "ticks": ""
             }
            },
            "type": "scattergl"
           }
          ],
          "scattermapbox": [
           {
            "marker": {
             "colorbar": {
              "outlinewidth": 0,
              "ticks": ""
             }
            },
            "type": "scattermapbox"
           }
          ],
          "scatterpolar": [
           {
            "marker": {
             "colorbar": {
              "outlinewidth": 0,
              "ticks": ""
             }
            },
            "type": "scatterpolar"
           }
          ],
          "scatterpolargl": [
           {
            "marker": {
             "colorbar": {
              "outlinewidth": 0,
              "ticks": ""
             }
            },
            "type": "scatterpolargl"
           }
          ],
          "scatterternary": [
           {
            "marker": {
             "colorbar": {
              "outlinewidth": 0,
              "ticks": ""
             }
            },
            "type": "scatterternary"
           }
          ],
          "surface": [
           {
            "colorbar": {
             "outlinewidth": 0,
             "ticks": ""
            },
            "colorscale": [
             [
              0,
              "#0d0887"
             ],
             [
              0.1111111111111111,
              "#46039f"
             ],
             [
              0.2222222222222222,
              "#7201a8"
             ],
             [
              0.3333333333333333,
              "#9c179e"
             ],
             [
              0.4444444444444444,
              "#bd3786"
             ],
             [
              0.5555555555555556,
              "#d8576b"
             ],
             [
              0.6666666666666666,
              "#ed7953"
             ],
             [
              0.7777777777777778,
              "#fb9f3a"
             ],
             [
              0.8888888888888888,
              "#fdca26"
             ],
             [
              1,
              "#f0f921"
             ]
            ],
            "type": "surface"
           }
          ],
          "table": [
           {
            "cells": {
             "fill": {
              "color": "#EBF0F8"
             },
             "line": {
              "color": "white"
             }
            },
            "header": {
             "fill": {
              "color": "#C8D4E3"
             },
             "line": {
              "color": "white"
             }
            },
            "type": "table"
           }
          ]
         },
         "layout": {
          "annotationdefaults": {
           "arrowcolor": "#2a3f5f",
           "arrowhead": 0,
           "arrowwidth": 1
          },
          "autotypenumbers": "strict",
          "coloraxis": {
           "colorbar": {
            "outlinewidth": 0,
            "ticks": ""
           }
          },
          "colorscale": {
           "diverging": [
            [
             0,
             "#8e0152"
            ],
            [
             0.1,
             "#c51b7d"
            ],
            [
             0.2,
             "#de77ae"
            ],
            [
             0.3,
             "#f1b6da"
            ],
            [
             0.4,
             "#fde0ef"
            ],
            [
             0.5,
             "#f7f7f7"
            ],
            [
             0.6,
             "#e6f5d0"
            ],
            [
             0.7,
             "#b8e186"
            ],
            [
             0.8,
             "#7fbc41"
            ],
            [
             0.9,
             "#4d9221"
            ],
            [
             1,
             "#276419"
            ]
           ],
           "sequential": [
            [
             0,
             "#0d0887"
            ],
            [
             0.1111111111111111,
             "#46039f"
            ],
            [
             0.2222222222222222,
             "#7201a8"
            ],
            [
             0.3333333333333333,
             "#9c179e"
            ],
            [
             0.4444444444444444,
             "#bd3786"
            ],
            [
             0.5555555555555556,
             "#d8576b"
            ],
            [
             0.6666666666666666,
             "#ed7953"
            ],
            [
             0.7777777777777778,
             "#fb9f3a"
            ],
            [
             0.8888888888888888,
             "#fdca26"
            ],
            [
             1,
             "#f0f921"
            ]
           ],
           "sequentialminus": [
            [
             0,
             "#0d0887"
            ],
            [
             0.1111111111111111,
             "#46039f"
            ],
            [
             0.2222222222222222,
             "#7201a8"
            ],
            [
             0.3333333333333333,
             "#9c179e"
            ],
            [
             0.4444444444444444,
             "#bd3786"
            ],
            [
             0.5555555555555556,
             "#d8576b"
            ],
            [
             0.6666666666666666,
             "#ed7953"
            ],
            [
             0.7777777777777778,
             "#fb9f3a"
            ],
            [
             0.8888888888888888,
             "#fdca26"
            ],
            [
             1,
             "#f0f921"
            ]
           ]
          },
          "colorway": [
           "#636efa",
           "#EF553B",
           "#00cc96",
           "#ab63fa",
           "#FFA15A",
           "#19d3f3",
           "#FF6692",
           "#B6E880",
           "#FF97FF",
           "#FECB52"
          ],
          "font": {
           "color": "#2a3f5f"
          },
          "geo": {
           "bgcolor": "white",
           "lakecolor": "white",
           "landcolor": "#E5ECF6",
           "showlakes": true,
           "showland": true,
           "subunitcolor": "white"
          },
          "hoverlabel": {
           "align": "left"
          },
          "hovermode": "closest",
          "mapbox": {
           "style": "light"
          },
          "paper_bgcolor": "white",
          "plot_bgcolor": "#E5ECF6",
          "polar": {
           "angularaxis": {
            "gridcolor": "white",
            "linecolor": "white",
            "ticks": ""
           },
           "bgcolor": "#E5ECF6",
           "radialaxis": {
            "gridcolor": "white",
            "linecolor": "white",
            "ticks": ""
           }
          },
          "scene": {
           "xaxis": {
            "backgroundcolor": "#E5ECF6",
            "gridcolor": "white",
            "gridwidth": 2,
            "linecolor": "white",
            "showbackground": true,
            "ticks": "",
            "zerolinecolor": "white"
           },
           "yaxis": {
            "backgroundcolor": "#E5ECF6",
            "gridcolor": "white",
            "gridwidth": 2,
            "linecolor": "white",
            "showbackground": true,
            "ticks": "",
            "zerolinecolor": "white"
           },
           "zaxis": {
            "backgroundcolor": "#E5ECF6",
            "gridcolor": "white",
            "gridwidth": 2,
            "linecolor": "white",
            "showbackground": true,
            "ticks": "",
            "zerolinecolor": "white"
           }
          },
          "shapedefaults": {
           "line": {
            "color": "#2a3f5f"
           }
          },
          "ternary": {
           "aaxis": {
            "gridcolor": "white",
            "linecolor": "white",
            "ticks": ""
           },
           "baxis": {
            "gridcolor": "white",
            "linecolor": "white",
            "ticks": ""
           },
           "bgcolor": "#E5ECF6",
           "caxis": {
            "gridcolor": "white",
            "linecolor": "white",
            "ticks": ""
           }
          },
          "title": {
           "x": 0.05
          },
          "xaxis": {
           "automargin": true,
           "gridcolor": "white",
           "linecolor": "white",
           "ticks": "",
           "title": {
            "standoff": 15
           },
           "zerolinecolor": "white",
           "zerolinewidth": 2
          },
          "yaxis": {
           "automargin": true,
           "gridcolor": "white",
           "linecolor": "white",
           "ticks": "",
           "title": {
            "standoff": 15
           },
           "zerolinecolor": "white",
           "zerolinewidth": 2
          }
         }
        },
        "title": {
         "text": "Simple Line Plot"
        },
        "xaxis": {
         "title": {
          "text": "X-axis"
         }
        },
        "yaxis": {
         "title": {
          "text": "Y-axis"
         }
        }
       }
      }
     },
     "metadata": {},
     "output_type": "display_data"
    }
   ],
   "source": [
    "#Q20. Using Plotly, create a basic line plot of a randomly generated dataset, label the axes, and set the title as 'Simple Line Plot'\n",
    "\n",
    "import plotly.graph_objs as go\n",
    "import plotly.io as pio\n",
    "import numpy as np\n",
    "\n",
    "# Generate random data\n",
    "np.random.seed(0)  # For reproducibility\n",
    "x = np.linspace(0, 10, 100)\n",
    "y = np.random.randn(100)\n",
    "\n",
    "# Create a line plot\n",
    "trace = go.Scatter(x=x, y=y, mode='lines', name='Random Data')\n",
    "\n",
    "# Define the layout\n",
    "layout = go.Layout(\n",
    "    title='Simple Line Plot',\n",
    "    xaxis=dict(title='X-axis'),\n",
    "    yaxis=dict(title='Y-axis')\n",
    ")\n",
    "\n",
    "# Create the figure\n",
    "fig = go.Figure(data=[trace], layout=layout)\n",
    "\n",
    "# Display the plot\n",
    "pio.show(fig)\n",
    "\n",
    "#Insights:\n",
    "# This code will generate a simple line plot using Plotly, with random data points on the x and y axes. \n",
    "# The axes are labeled accordingly, and the title of the plot is set as 'Simple Line Plot'. \n",
    "# Finally, the plot is displayed using Plotly's show() function."
   ]
  },
  {
   "cell_type": "code",
   "execution_count": 55,
   "metadata": {},
   "outputs": [
    {
     "data": {
      "application/vnd.plotly.v1+json": {
       "config": {
        "plotlyServerURL": "https://plot.ly"
       },
       "data": [
        {
         "hoverinfo": "label+percent",
         "labels": [
          "Category A",
          "Category B",
          "Category C",
          "Category D"
         ],
         "textfont": {
          "size": 20
         },
         "textinfo": "percent",
         "type": "pie",
         "values": [
          50,
          88,
          31,
          55
         ]
        }
       ],
       "layout": {
        "template": {
         "data": {
          "bar": [
           {
            "error_x": {
             "color": "#2a3f5f"
            },
            "error_y": {
             "color": "#2a3f5f"
            },
            "marker": {
             "line": {
              "color": "#E5ECF6",
              "width": 0.5
             },
             "pattern": {
              "fillmode": "overlay",
              "size": 10,
              "solidity": 0.2
             }
            },
            "type": "bar"
           }
          ],
          "barpolar": [
           {
            "marker": {
             "line": {
              "color": "#E5ECF6",
              "width": 0.5
             },
             "pattern": {
              "fillmode": "overlay",
              "size": 10,
              "solidity": 0.2
             }
            },
            "type": "barpolar"
           }
          ],
          "carpet": [
           {
            "aaxis": {
             "endlinecolor": "#2a3f5f",
             "gridcolor": "white",
             "linecolor": "white",
             "minorgridcolor": "white",
             "startlinecolor": "#2a3f5f"
            },
            "baxis": {
             "endlinecolor": "#2a3f5f",
             "gridcolor": "white",
             "linecolor": "white",
             "minorgridcolor": "white",
             "startlinecolor": "#2a3f5f"
            },
            "type": "carpet"
           }
          ],
          "choropleth": [
           {
            "colorbar": {
             "outlinewidth": 0,
             "ticks": ""
            },
            "type": "choropleth"
           }
          ],
          "contour": [
           {
            "colorbar": {
             "outlinewidth": 0,
             "ticks": ""
            },
            "colorscale": [
             [
              0,
              "#0d0887"
             ],
             [
              0.1111111111111111,
              "#46039f"
             ],
             [
              0.2222222222222222,
              "#7201a8"
             ],
             [
              0.3333333333333333,
              "#9c179e"
             ],
             [
              0.4444444444444444,
              "#bd3786"
             ],
             [
              0.5555555555555556,
              "#d8576b"
             ],
             [
              0.6666666666666666,
              "#ed7953"
             ],
             [
              0.7777777777777778,
              "#fb9f3a"
             ],
             [
              0.8888888888888888,
              "#fdca26"
             ],
             [
              1,
              "#f0f921"
             ]
            ],
            "type": "contour"
           }
          ],
          "contourcarpet": [
           {
            "colorbar": {
             "outlinewidth": 0,
             "ticks": ""
            },
            "type": "contourcarpet"
           }
          ],
          "heatmap": [
           {
            "colorbar": {
             "outlinewidth": 0,
             "ticks": ""
            },
            "colorscale": [
             [
              0,
              "#0d0887"
             ],
             [
              0.1111111111111111,
              "#46039f"
             ],
             [
              0.2222222222222222,
              "#7201a8"
             ],
             [
              0.3333333333333333,
              "#9c179e"
             ],
             [
              0.4444444444444444,
              "#bd3786"
             ],
             [
              0.5555555555555556,
              "#d8576b"
             ],
             [
              0.6666666666666666,
              "#ed7953"
             ],
             [
              0.7777777777777778,
              "#fb9f3a"
             ],
             [
              0.8888888888888888,
              "#fdca26"
             ],
             [
              1,
              "#f0f921"
             ]
            ],
            "type": "heatmap"
           }
          ],
          "heatmapgl": [
           {
            "colorbar": {
             "outlinewidth": 0,
             "ticks": ""
            },
            "colorscale": [
             [
              0,
              "#0d0887"
             ],
             [
              0.1111111111111111,
              "#46039f"
             ],
             [
              0.2222222222222222,
              "#7201a8"
             ],
             [
              0.3333333333333333,
              "#9c179e"
             ],
             [
              0.4444444444444444,
              "#bd3786"
             ],
             [
              0.5555555555555556,
              "#d8576b"
             ],
             [
              0.6666666666666666,
              "#ed7953"
             ],
             [
              0.7777777777777778,
              "#fb9f3a"
             ],
             [
              0.8888888888888888,
              "#fdca26"
             ],
             [
              1,
              "#f0f921"
             ]
            ],
            "type": "heatmapgl"
           }
          ],
          "histogram": [
           {
            "marker": {
             "pattern": {
              "fillmode": "overlay",
              "size": 10,
              "solidity": 0.2
             }
            },
            "type": "histogram"
           }
          ],
          "histogram2d": [
           {
            "colorbar": {
             "outlinewidth": 0,
             "ticks": ""
            },
            "colorscale": [
             [
              0,
              "#0d0887"
             ],
             [
              0.1111111111111111,
              "#46039f"
             ],
             [
              0.2222222222222222,
              "#7201a8"
             ],
             [
              0.3333333333333333,
              "#9c179e"
             ],
             [
              0.4444444444444444,
              "#bd3786"
             ],
             [
              0.5555555555555556,
              "#d8576b"
             ],
             [
              0.6666666666666666,
              "#ed7953"
             ],
             [
              0.7777777777777778,
              "#fb9f3a"
             ],
             [
              0.8888888888888888,
              "#fdca26"
             ],
             [
              1,
              "#f0f921"
             ]
            ],
            "type": "histogram2d"
           }
          ],
          "histogram2dcontour": [
           {
            "colorbar": {
             "outlinewidth": 0,
             "ticks": ""
            },
            "colorscale": [
             [
              0,
              "#0d0887"
             ],
             [
              0.1111111111111111,
              "#46039f"
             ],
             [
              0.2222222222222222,
              "#7201a8"
             ],
             [
              0.3333333333333333,
              "#9c179e"
             ],
             [
              0.4444444444444444,
              "#bd3786"
             ],
             [
              0.5555555555555556,
              "#d8576b"
             ],
             [
              0.6666666666666666,
              "#ed7953"
             ],
             [
              0.7777777777777778,
              "#fb9f3a"
             ],
             [
              0.8888888888888888,
              "#fdca26"
             ],
             [
              1,
              "#f0f921"
             ]
            ],
            "type": "histogram2dcontour"
           }
          ],
          "mesh3d": [
           {
            "colorbar": {
             "outlinewidth": 0,
             "ticks": ""
            },
            "type": "mesh3d"
           }
          ],
          "parcoords": [
           {
            "line": {
             "colorbar": {
              "outlinewidth": 0,
              "ticks": ""
             }
            },
            "type": "parcoords"
           }
          ],
          "pie": [
           {
            "automargin": true,
            "type": "pie"
           }
          ],
          "scatter": [
           {
            "fillpattern": {
             "fillmode": "overlay",
             "size": 10,
             "solidity": 0.2
            },
            "type": "scatter"
           }
          ],
          "scatter3d": [
           {
            "line": {
             "colorbar": {
              "outlinewidth": 0,
              "ticks": ""
             }
            },
            "marker": {
             "colorbar": {
              "outlinewidth": 0,
              "ticks": ""
             }
            },
            "type": "scatter3d"
           }
          ],
          "scattercarpet": [
           {
            "marker": {
             "colorbar": {
              "outlinewidth": 0,
              "ticks": ""
             }
            },
            "type": "scattercarpet"
           }
          ],
          "scattergeo": [
           {
            "marker": {
             "colorbar": {
              "outlinewidth": 0,
              "ticks": ""
             }
            },
            "type": "scattergeo"
           }
          ],
          "scattergl": [
           {
            "marker": {
             "colorbar": {
              "outlinewidth": 0,
              "ticks": ""
             }
            },
            "type": "scattergl"
           }
          ],
          "scattermapbox": [
           {
            "marker": {
             "colorbar": {
              "outlinewidth": 0,
              "ticks": ""
             }
            },
            "type": "scattermapbox"
           }
          ],
          "scatterpolar": [
           {
            "marker": {
             "colorbar": {
              "outlinewidth": 0,
              "ticks": ""
             }
            },
            "type": "scatterpolar"
           }
          ],
          "scatterpolargl": [
           {
            "marker": {
             "colorbar": {
              "outlinewidth": 0,
              "ticks": ""
             }
            },
            "type": "scatterpolargl"
           }
          ],
          "scatterternary": [
           {
            "marker": {
             "colorbar": {
              "outlinewidth": 0,
              "ticks": ""
             }
            },
            "type": "scatterternary"
           }
          ],
          "surface": [
           {
            "colorbar": {
             "outlinewidth": 0,
             "ticks": ""
            },
            "colorscale": [
             [
              0,
              "#0d0887"
             ],
             [
              0.1111111111111111,
              "#46039f"
             ],
             [
              0.2222222222222222,
              "#7201a8"
             ],
             [
              0.3333333333333333,
              "#9c179e"
             ],
             [
              0.4444444444444444,
              "#bd3786"
             ],
             [
              0.5555555555555556,
              "#d8576b"
             ],
             [
              0.6666666666666666,
              "#ed7953"
             ],
             [
              0.7777777777777778,
              "#fb9f3a"
             ],
             [
              0.8888888888888888,
              "#fdca26"
             ],
             [
              1,
              "#f0f921"
             ]
            ],
            "type": "surface"
           }
          ],
          "table": [
           {
            "cells": {
             "fill": {
              "color": "#EBF0F8"
             },
             "line": {
              "color": "white"
             }
            },
            "header": {
             "fill": {
              "color": "#C8D4E3"
             },
             "line": {
              "color": "white"
             }
            },
            "type": "table"
           }
          ]
         },
         "layout": {
          "annotationdefaults": {
           "arrowcolor": "#2a3f5f",
           "arrowhead": 0,
           "arrowwidth": 1
          },
          "autotypenumbers": "strict",
          "coloraxis": {
           "colorbar": {
            "outlinewidth": 0,
            "ticks": ""
           }
          },
          "colorscale": {
           "diverging": [
            [
             0,
             "#8e0152"
            ],
            [
             0.1,
             "#c51b7d"
            ],
            [
             0.2,
             "#de77ae"
            ],
            [
             0.3,
             "#f1b6da"
            ],
            [
             0.4,
             "#fde0ef"
            ],
            [
             0.5,
             "#f7f7f7"
            ],
            [
             0.6,
             "#e6f5d0"
            ],
            [
             0.7,
             "#b8e186"
            ],
            [
             0.8,
             "#7fbc41"
            ],
            [
             0.9,
             "#4d9221"
            ],
            [
             1,
             "#276419"
            ]
           ],
           "sequential": [
            [
             0,
             "#0d0887"
            ],
            [
             0.1111111111111111,
             "#46039f"
            ],
            [
             0.2222222222222222,
             "#7201a8"
            ],
            [
             0.3333333333333333,
             "#9c179e"
            ],
            [
             0.4444444444444444,
             "#bd3786"
            ],
            [
             0.5555555555555556,
             "#d8576b"
            ],
            [
             0.6666666666666666,
             "#ed7953"
            ],
            [
             0.7777777777777778,
             "#fb9f3a"
            ],
            [
             0.8888888888888888,
             "#fdca26"
            ],
            [
             1,
             "#f0f921"
            ]
           ],
           "sequentialminus": [
            [
             0,
             "#0d0887"
            ],
            [
             0.1111111111111111,
             "#46039f"
            ],
            [
             0.2222222222222222,
             "#7201a8"
            ],
            [
             0.3333333333333333,
             "#9c179e"
            ],
            [
             0.4444444444444444,
             "#bd3786"
            ],
            [
             0.5555555555555556,
             "#d8576b"
            ],
            [
             0.6666666666666666,
             "#ed7953"
            ],
            [
             0.7777777777777778,
             "#fb9f3a"
            ],
            [
             0.8888888888888888,
             "#fdca26"
            ],
            [
             1,
             "#f0f921"
            ]
           ]
          },
          "colorway": [
           "#636efa",
           "#EF553B",
           "#00cc96",
           "#ab63fa",
           "#FFA15A",
           "#19d3f3",
           "#FF6692",
           "#B6E880",
           "#FF97FF",
           "#FECB52"
          ],
          "font": {
           "color": "#2a3f5f"
          },
          "geo": {
           "bgcolor": "white",
           "lakecolor": "white",
           "landcolor": "#E5ECF6",
           "showlakes": true,
           "showland": true,
           "subunitcolor": "white"
          },
          "hoverlabel": {
           "align": "left"
          },
          "hovermode": "closest",
          "mapbox": {
           "style": "light"
          },
          "paper_bgcolor": "white",
          "plot_bgcolor": "#E5ECF6",
          "polar": {
           "angularaxis": {
            "gridcolor": "white",
            "linecolor": "white",
            "ticks": ""
           },
           "bgcolor": "#E5ECF6",
           "radialaxis": {
            "gridcolor": "white",
            "linecolor": "white",
            "ticks": ""
           }
          },
          "scene": {
           "xaxis": {
            "backgroundcolor": "#E5ECF6",
            "gridcolor": "white",
            "gridwidth": 2,
            "linecolor": "white",
            "showbackground": true,
            "ticks": "",
            "zerolinecolor": "white"
           },
           "yaxis": {
            "backgroundcolor": "#E5ECF6",
            "gridcolor": "white",
            "gridwidth": 2,
            "linecolor": "white",
            "showbackground": true,
            "ticks": "",
            "zerolinecolor": "white"
           },
           "zaxis": {
            "backgroundcolor": "#E5ECF6",
            "gridcolor": "white",
            "gridwidth": 2,
            "linecolor": "white",
            "showbackground": true,
            "ticks": "",
            "zerolinecolor": "white"
           }
          },
          "shapedefaults": {
           "line": {
            "color": "#2a3f5f"
           }
          },
          "ternary": {
           "aaxis": {
            "gridcolor": "white",
            "linecolor": "white",
            "ticks": ""
           },
           "baxis": {
            "gridcolor": "white",
            "linecolor": "white",
            "ticks": ""
           },
           "bgcolor": "#E5ECF6",
           "caxis": {
            "gridcolor": "white",
            "linecolor": "white",
            "ticks": ""
           }
          },
          "title": {
           "x": 0.05
          },
          "xaxis": {
           "automargin": true,
           "gridcolor": "white",
           "linecolor": "white",
           "ticks": "",
           "title": {
            "standoff": 15
           },
           "zerolinecolor": "white",
           "zerolinewidth": 2
          },
          "yaxis": {
           "automargin": true,
           "gridcolor": "white",
           "linecolor": "white",
           "ticks": "",
           "title": {
            "standoff": 15
           },
           "zerolinecolor": "white",
           "zerolinewidth": 2
          }
         }
        },
        "title": {
         "text": "Interactive Pie Chart"
        }
       }
      }
     },
     "metadata": {},
     "output_type": "display_data"
    }
   ],
   "source": [
    "#Q21. Using Plotly, create an interactive pie chart of randomly generated data, add labels and percentages, set the title as 'Interactive Pie Chart'\n",
    "\n",
    "import plotly.graph_objs as go\n",
    "import plotly.io as pio\n",
    "import numpy as np\n",
    "\n",
    "# Generate random data for the pie chart\n",
    "labels = ['Category A', 'Category B', 'Category C', 'Category D']\n",
    "values = np.random.randint(1, 100, size=len(labels))\n",
    "\n",
    "# Create a pie chart\n",
    "trace = go.Pie(labels=labels, values=values, hoverinfo='label+percent', textinfo='percent', textfont_size=20)\n",
    "\n",
    "# Define the layout\n",
    "layout = go.Layout(\n",
    "    title='Interactive Pie Chart'\n",
    ")\n",
    "\n",
    "# Create the figure\n",
    "fig = go.Figure(data=[trace], layout=layout)\n",
    "\n",
    "# Display the plot\n",
    "pio.show(fig)\n",
    "\n",
    "\n",
    "#Insights:\n",
    "# This code will generate an interactive pie chart using Plotly, with randomly generated data for different categories. \n",
    "# The labels and percentages are displayed when hovering over each section of the pie chart. \n",
    "# The title of the plot is set as 'Interactive Pie Chart', and the plot is displayed using Plotly's show() function."
   ]
  }
 ],
 "metadata": {
  "kernelspec": {
   "display_name": "base",
   "language": "python",
   "name": "python3"
  },
  "language_info": {
   "codemirror_mode": {
    "name": "ipython",
    "version": 3
   },
   "file_extension": ".py",
   "mimetype": "text/x-python",
   "name": "python",
   "nbconvert_exporter": "python",
   "pygments_lexer": "ipython3",
   "version": "3.11.5"
  }
 },
 "nbformat": 4,
 "nbformat_minor": 2
}
