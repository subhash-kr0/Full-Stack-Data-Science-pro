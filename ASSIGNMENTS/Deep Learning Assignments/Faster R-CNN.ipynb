{
 "cells": [
  {
   "cell_type": "markdown",
   "metadata": {},
   "source": [
    "1. Explain the architecture of Faster R-CNN and its components. Discuss the role of each component in the object detection pipeline. "
   ]
  },
  {
   "cell_type": "markdown",
   "metadata": {},
   "source": []
  },
  {
   "cell_type": "markdown",
   "metadata": {},
   "source": [
    "2. Discuss the advantages of using the Region Proposal Network (RPN) in Faster R-CNN compared to traditional object detection approaches"
   ]
  },
  {
   "cell_type": "markdown",
   "metadata": {},
   "source": []
  },
  {
   "cell_type": "markdown",
   "metadata": {},
   "source": [
    "3. Explain the training process of Faster R-CNN. How are the region proposal network (RPN) and the Fast R-CNN detector trained jointly?"
   ]
  },
  {
   "cell_type": "markdown",
   "metadata": {},
   "source": []
  },
  {
   "cell_type": "markdown",
   "metadata": {},
   "source": [
    "4. Discuss the role of anchor boxes in the Region Proposal Network (RPN) of Faster R-CNN. How are anchor boxes used to generate region proposals?"
   ]
  },
  {
   "cell_type": "markdown",
   "metadata": {},
   "source": []
  },
  {
   "cell_type": "markdown",
   "metadata": {},
   "source": [
    "5. Evaluate the performance of Faster R-CNN on standard object detection benchmarks such as COCO and Pascal VOC. Discuss its strengths, limitations, and potential areas for improvement."
   ]
  },
  {
   "cell_type": "markdown",
   "metadata": {},
   "source": []
  }
 ],
 "metadata": {
  "language_info": {
   "name": "python"
  }
 },
 "nbformat": 4,
 "nbformat_minor": 2
}
