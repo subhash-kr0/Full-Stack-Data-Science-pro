{
 "cells": [
  {
   "cell_type": "markdown",
   "metadata": {},
   "source": [
    "1. Explain the architecture of GoogleNet (Inception) and its significance in the field of deep learning"
   ]
  },
  {
   "cell_type": "markdown",
   "metadata": {},
   "source": [
    "2. Discuss the motivation behind the inception modules in GoogleNet. How do they address the limitations of previous architectures?"
   ]
  },
  {
   "cell_type": "markdown",
   "metadata": {},
   "source": [
    "3. Explain the concept of transfer learning in deep learning. How does it leverage pre-trained models to improve performance on new tasks or datasets?"
   ]
  },
  {
   "cell_type": "markdown",
   "metadata": {},
   "source": [
    "4. Discuss the different approaches to transfer learning, including feature extraction and fine-tuning. When is each approach suitable, and what are their advantages and limitations?"
   ]
  },
  {
   "cell_type": "markdown",
   "metadata": {},
   "source": [
    "5. Examine the practical applications of transfer learning in various domains, such as computer vision, natural language processing, and healthcare. Provide examples of how transfer learning has been successfully applied in real-world scenarios."
   ]
  }
 ],
 "metadata": {
  "language_info": {
   "name": "python"
  }
 },
 "nbformat": 4,
 "nbformat_minor": 2
}
