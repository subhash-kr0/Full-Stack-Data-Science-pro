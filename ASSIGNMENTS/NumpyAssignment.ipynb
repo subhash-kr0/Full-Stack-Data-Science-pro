{
 "cells": [
  {
   "cell_type": "markdown",
   "metadata": {},
   "source": [
    "1. What is a Python library? Why do we use Python libraries?"
   ]
  },
  {
   "cell_type": "markdown",
   "metadata": {},
   "source": [
    "solution =>\n",
    "\n",
    "A Python library is a collection of related modules12. It contains bundles of code that can be used repeatedly in different programs1. Each module in a library is a file containing Python definitions and statements3. The library makes Python programming simpler and more convenient for the programmer, as they don’t need to write the same code again and again for different programs1.\n",
    "\n",
    "We use Python libraries for several reasons:\n",
    "\n",
    "Code Reusability: Libraries contain precompiled codes that can be used later on in a program for some specific well-defined operations1. This increases code reusability as the same code can be used in various relevant projects and operations2.\n",
    "\n",
    "Efficiency: Libraries provide pre-written and optimized code, which can make your programs more efficient and faster1.\n",
    "\n",
    "Simplicity: Libraries often have functions that simplify complex coding tasks, making it easier for programmers to implement functionality without having to worry about the details1."
   ]
  },
  {
   "cell_type": "markdown",
   "metadata": {},
   "source": [
    "2. What is the difference between Numpy array and List?"
   ]
  },
  {
   "cell_type": "markdown",
   "metadata": {},
   "source": [
    "solution =>\n",
    "\n",
    "The main differences between a Numpy array and a Python list:\n",
    "\n",
    "1. Data Type:\n",
    "Numpy Array: It is a homogeneous array, which means all elements in the array must be of the same data type12.\n",
    "\n",
    "Python List: It can be heterogeneous, meaning it can hold different data types1.\n",
    "\n",
    "2. Memory Usage and Performance:\n",
    "Numpy Array: It stores elements of the same data type, making them more compact and memory-efficient than lists1. It also facilitates advanced mathematical and other types of operations on large numbers of data1. These operations are executed more efficiently and with less code than is possible using Python’s built-in sequences1.\n",
    "\n",
    "Python List: Lists in Python store additional information about each element, such as its type and reference count1. This overhead can be significant when dealing with a large number of elements1. Lists may not store elements in contiguous memory locations, causing memory fragmentation and inefficiency1.\n",
    "\n",
    "3. Operations:\n",
    "Numpy Array: Element-wise operation is possible1. It has various functions, methods, and variables, to ease our task of matrix computation1.\n",
    "Python List: Element-wise operation is not possible on the list1.\n",
    "\n",
    "4.Dimension:\n",
    "Numpy Array: We can create an N-dimensional array in Python using Numpy1.\n",
    "Python List: Python list is by default 1-dimensional. But we can create an N-Dimensional list1.\n",
    "\n",
    "5. Size:\n",
    "Numpy Array: You can’t change the size of a numpy array without making a full copy34.\n",
    "Python List: You can append elements to a list34."
   ]
  },
  {
   "cell_type": "markdown",
   "metadata": {},
   "source": [
    "3. Find the shape, size and dimension of the following array?\n",
    "[[1, 2, 3, 4]\n",
    "[5, 6, 7, 8],\n",
    "[9, 10, 11, 12]]"
   ]
  },
  {
   "cell_type": "code",
   "execution_count": 6,
   "metadata": {},
   "outputs": [
    {
     "name": "stdout",
     "output_type": "stream",
     "text": [
      "Shape: (3, 4), Size: 12, Dimension: 2\n"
     ]
    }
   ],
   "source": [
    "import numpy as np\n",
    "\n",
    "# Your array\n",
    "array = np.array([[1, 2, 3, 4],\n",
    "                  [5, 6, 7, 8],\n",
    "                  [9, 10, 11, 12]])\n",
    "\n",
    "# Find shape\n",
    "shape = array.shape\n",
    "\n",
    "# Find size\n",
    "size = array.size\n",
    "\n",
    "# Find dimension\n",
    "dimension = array.ndim\n",
    "\n",
    "print(f\"Shape: {shape}, Size: {size}, Dimension: {dimension}\")\n"
   ]
  },
  {
   "cell_type": "markdown",
   "metadata": {},
   "source": [
    "4. Write python code to access the first row of the following array?\n",
    "[[1, 2, 3, 4]\n",
    "[5, 6, 7, 8],\n",
    "[9, 10, 11, 12]]"
   ]
  },
  {
   "cell_type": "code",
   "execution_count": 7,
   "metadata": {},
   "outputs": [
    {
     "name": "stdout",
     "output_type": "stream",
     "text": [
      "[1 2 3 4]\n"
     ]
    }
   ],
   "source": [
    "import numpy as np\n",
    "\n",
    "# Your array\n",
    "array = np.array([[1, 2, 3, 4],\n",
    "                  [5, 6, 7, 8],\n",
    "                  [9, 10, 11, 12]])\n",
    "\n",
    "# Access first row\n",
    "first_row = array[0]\n",
    "\n",
    "print(first_row)\n"
   ]
  },
  {
   "cell_type": "markdown",
   "metadata": {},
   "source": [
    "5. How do you access the element at the third row and fourth column from the given numpy array?\n",
    "[[1, 2, 3, 4]\n",
    "[5, 6, 7, 8],\n",
    "[9, 10, 11, 12]]"
   ]
  },
  {
   "cell_type": "markdown",
   "metadata": {},
   "source": []
  },
  {
   "cell_type": "markdown",
   "metadata": {},
   "source": [
    "6. Write code to extract all odd-indexed elements from the given numpy array?\n",
    "[[1, 2, 3, 4]\n",
    "[5, 6, 7, 8],\n",
    "[9, 10, 11, 12]]"
   ]
  },
  {
   "cell_type": "code",
   "execution_count": 9,
   "metadata": {},
   "outputs": [
    {
     "name": "stdout",
     "output_type": "stream",
     "text": [
      "[[ 2  4]\n",
      " [10 12]]\n"
     ]
    }
   ],
   "source": [
    "import numpy as np\n",
    "\n",
    "# Your array\n",
    "array = np.array([[1, 2, 3, 4],\n",
    "                  [5, 6, 7, 8],\n",
    "                  [9, 10, 11, 12]])\n",
    "\n",
    "# Extract odd-indexed elements\n",
    "odd_indexed_elements = array[::2, 1::2]\n",
    "\n",
    "print(odd_indexed_elements)\n"
   ]
  },
  {
   "cell_type": "markdown",
   "metadata": {},
   "source": [
    "7. How can you generate a random 3x3 matrix with values between 0 and 1?"
   ]
  },
  {
   "cell_type": "code",
   "execution_count": 11,
   "metadata": {},
   "outputs": [
    {
     "name": "stdout",
     "output_type": "stream",
     "text": [
      "[[0.06763995 0.96535763 0.7175871 ]\n",
      " [0.31729045 0.97576733 0.32481441]\n",
      " [0.84803441 0.78658359 0.6780126 ]]\n"
     ]
    }
   ],
   "source": [
    "# we can generate a random 3x3 matrix with values between 0 and 1 using the numpy.random.rand function\n",
    "\n",
    "import numpy as np\n",
    "\n",
    "# Generate a random 3x3 matrix with values between 0 and 1\n",
    "matrix = np.random.rand(3, 3)\n",
    "\n",
    "print(matrix)\n"
   ]
  },
  {
   "cell_type": "markdown",
   "metadata": {},
   "source": [
    "8. Describe the difference between np.random.rand and np.random.randn?"
   ]
  },
  {
   "cell_type": "markdown",
   "metadata": {},
   "source": [
    "solution => \n",
    "\n",
    "The differences between numpy.random.rand and numpy.random.randn:\n",
    "\n",
    "numpy.random.rand: This function generates random numbers from a uniform distribution in the range [0, 1)12. In a uniform distribution, all values within the given interval are equally likely to be drawn2.\n",
    "\n",
    "numpy.random.randn: This function generates random numbers from a normal (Gaussian) distribution with a mean of 0 and a variance of 112. In a normal distribution, values are more likely to be closer to the mean, with the likelihood decreasing as you move away from the mean2."
   ]
  },
  {
   "cell_type": "markdown",
   "metadata": {},
   "source": [
    "9. Write code to increase the dimension of the following array?\n",
    "[[1, 2, 3, 4]\n",
    "[5, 6, 7, 8],\n",
    "[9, 10, 11, 12]]"
   ]
  },
  {
   "cell_type": "code",
   "execution_count": 5,
   "metadata": {},
   "outputs": [
    {
     "name": "stdout",
     "output_type": "stream",
     "text": [
      "[[[ 1]\n",
      "  [ 2]\n",
      "  [ 3]\n",
      "  [ 4]]\n",
      "\n",
      " [[ 5]\n",
      "  [ 6]\n",
      "  [ 7]\n",
      "  [ 8]]\n",
      "\n",
      " [[ 9]\n",
      "  [10]\n",
      "  [11]\n",
      "  [12]]]\n"
     ]
    }
   ],
   "source": [
    "import numpy as np\n",
    "\n",
    "# Your original 2D array\n",
    "array_2d = np.array([[1, 2, 3, 4],\n",
    "                     [5, 6, 7, 8],\n",
    "                     [9, 10, 11, 12]])\n",
    "\n",
    "# Increase dimension\n",
    "array_3d = array_2d[:, :, np.newaxis]\n",
    "\n",
    "print(array_3d)\n"
   ]
  },
  {
   "cell_type": "markdown",
   "metadata": {},
   "source": [
    "10. How to transpose the following array in NumPy?\n",
    "[[1, 2, 3, 4]\n",
    "[5, 6, 7, 8],\n",
    "[9, 10, 11, 12]]"
   ]
  },
  {
   "cell_type": "code",
   "execution_count": 4,
   "metadata": {},
   "outputs": [
    {
     "name": "stdout",
     "output_type": "stream",
     "text": [
      "[[ 1  5  9]\n",
      " [ 2  6 10]\n",
      " [ 3  7 11]\n",
      " [ 4  8 12]]\n"
     ]
    }
   ],
   "source": [
    "# You can use the numpy.transpose function or the T attribute of a NumPy array to transpose a matrix. Here’s how you can do it:\n",
    "\n",
    "import numpy as np\n",
    "\n",
    "# Define the matrix\n",
    "matrix = np.array([[1, 2, 3, 4], [5, 6, 7, 8], [9, 10, 11, 12]])\n",
    "\n",
    "# Transpose the matrix\n",
    "transposed_matrix = matrix.T\n",
    "\n",
    "print(transposed_matrix)"
   ]
  },
  {
   "cell_type": "markdown",
   "metadata": {},
   "source": [
    "11. Consider the following matrix:\n",
    "Matrix A2 [[1, 2, 3, 4] [5, 6, 7, 8],[9, 10, 11, 12]]\n",
    "Matrix B2 [[1, 2, 3, 4] [5, 6, 7, 8],[9, 10, 11, 12]]\n",
    "Perform the following operation using Python1\n",
    ",+ I(dex wiLe multiplicatio'\n",
    "]+ Matix multiplicatio'\n",
    "+ Add both the maticK\n",
    "-+ Subtact matix B om \n",
    "+ Diide Matix B by A"
   ]
  },
  {
   "cell_type": "code",
   "execution_count": 3,
   "metadata": {},
   "outputs": [
    {
     "name": "stdout",
     "output_type": "stream",
     "text": [
      "Element-wise multiplication:\n",
      " [[  1   4   9  16]\n",
      " [ 25  36  49  64]\n",
      " [ 81 100 121 144]]\n",
      "Matrix multiplication:\n",
      " [[ 30  70 110]\n",
      " [ 70 174 278]\n",
      " [110 278 446]]\n",
      "Addition of both matrices:\n",
      " [[ 2  4  6  8]\n",
      " [10 12 14 16]\n",
      " [18 20 22 24]]\n",
      "Subtraction of B2 from A2:\n",
      " [[0 0 0 0]\n",
      " [0 0 0 0]\n",
      " [0 0 0 0]]\n",
      "Division of B2 by A2:\n",
      " [[1. 1. 1. 1.]\n",
      " [1. 1. 1. 1.]\n",
      " [1. 1. 1. 1.]]\n"
     ]
    }
   ],
   "source": [
    "import numpy as np\n",
    "\n",
    "# Define the matrices\n",
    "A2 = np.array([[1, 2, 3, 4], [5, 6, 7, 8], [9, 10, 11, 12]])\n",
    "B2 = np.array([[1, 2, 3, 4], [5, 6, 7, 8], [9, 10, 11, 12]])\n",
    "\n",
    "# Element-wise multiplication\n",
    "elementwise_product = np.multiply(A2, B2)\n",
    "\n",
    "# Matrix multiplication\n",
    "matrix_product = np.matmul(A2, B2.T)  # We transpose B2 because A2 and B2 are not compatible for multiplication as they are\n",
    "\n",
    "# Addition\n",
    "sum_of_matrices = np.add(A2, B2)\n",
    "\n",
    "# Subtraction of B2 from A2\n",
    "difference = np.subtract(A2, B2)\n",
    "\n",
    "# Division of B2 by A2\n",
    "division = np.divide(B2, A2)\n",
    "\n",
    "print(\"Element-wise multiplication:\\n\", elementwise_product)\n",
    "print(\"Matrix multiplication:\\n\", matrix_product)\n",
    "print(\"Addition of both matrices:\\n\", sum_of_matrices)\n",
    "print(\"Subtraction of B2 from A2:\\n\", difference)\n",
    "print(\"Division of B2 by A2:\\n\", division)\n"
   ]
  },
  {
   "cell_type": "markdown",
   "metadata": {},
   "source": [
    "12. Which function in Numpy can be used to swap the byte order of an array?"
   ]
  },
  {
   "cell_type": "markdown",
   "metadata": {},
   "source": [
    "solution =>\n",
    "\n",
    "The function numpy.ndarray.byteswap is used to swap the byte order of an array."
   ]
  },
  {
   "cell_type": "markdown",
   "metadata": {},
   "source": [
    "13. What is the significance of the np.linalg.inv function?"
   ]
  },
  {
   "cell_type": "markdown",
   "metadata": {},
   "source": [
    "solution => \n",
    "\n",
    "The np.linalg.inv function in NumPy is used to compute the (multiplicative) inverse of a matrix.\n",
    "\n",
    "Given a square matrix A, the inverse A^-1 is such that when A is multiplied by A^-1, the result is the identity matrix I. In other words, A * A^-1 = A^-1 * A = I.\n",
    "\n",
    "Here’s an example of how to use np.linalg.inv:\n",
    "\n",
    "import numpy as np\n",
    "\n",
    "Define a square matrix\n",
    "\n",
    "A = np.array([[1, 2], [3, 4]])\n",
    "\n",
    "Compute its inverse\n",
    "\n",
    "A_inv = np.linalg.inv(A)\n",
    "\n",
    "print(\"A:\\n\", A)\n",
    "\n",
    "print(\"Inverse of A:\\n\", A_inv)"
   ]
  },
  {
   "cell_type": "markdown",
   "metadata": {},
   "source": [
    "14. What does the np.reshape function do, and how is it used?"
   ]
  },
  {
   "cell_type": "markdown",
   "metadata": {},
   "source": [
    "solution =>\n",
    "\n",
    "The np.reshape function in NumPy is used to give a new shape to an array without changing its data. Here is the basic usage:\n",
    "\n",
    "\n",
    "\n",
    "import numpy as np\n",
    "\n",
    "Create a 1D array\n",
    "\n",
    "arr = np.array([1, 2, 3, 4, 5, 6, 7, 8])\n",
    "\n",
    "Reshape it to a 2D array with 2 rows and 4 columns\n",
    "\n",
    "reshaped_arr = np.reshape(arr, (2, 4))\n",
    "\n",
    "print(reshaped_arr)\n",
    "\n",
    "This will output:\n",
    "\n",
    "[[1 2 3 4]\n",
    " [5 6 7 8]]\n",
    "\n",
    "In this example, we reshaped a 1D array with 8 elements into a 2D array with 2 rows and 4 columns."
   ]
  },
  {
   "cell_type": "markdown",
   "metadata": {},
   "source": [
    "15. What is broadcasting in Numpy?"
   ]
  },
  {
   "cell_type": "markdown",
   "metadata": {},
   "source": [
    "solution => \n",
    "\n",
    "Broadcasting in NumPy is a powerful feature that allows arrays of different shapes to be used in arithmetic operations. It does this by automatically expanding the dimensions of the smaller array to match the larger one, without making copies of the data.\n",
    "\n",
    "Here’s a simple example:\n",
    "\n",
    "\n",
    "import numpy as np\n",
    "\n",
    "a = np.array([1, 2, 3])\n",
    "\n",
    "b = 2\n",
    "\n",
    "print(a * b)  # Outputs: array([2, 4, 6])"
   ]
  }
 ],
 "metadata": {
  "kernelspec": {
   "display_name": "Python 3",
   "language": "python",
   "name": "python3"
  },
  "language_info": {
   "codemirror_mode": {
    "name": "ipython",
    "version": 3
   },
   "file_extension": ".py",
   "mimetype": "text/x-python",
   "name": "python",
   "nbconvert_exporter": "python",
   "pygments_lexer": "ipython3",
   "version": "3.12.1"
  }
 },
 "nbformat": 4,
 "nbformat_minor": 2
}
