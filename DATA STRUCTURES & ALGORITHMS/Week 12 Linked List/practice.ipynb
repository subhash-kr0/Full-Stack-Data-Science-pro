{
 "cells": [
  {
   "cell_type": "code",
   "execution_count": 1,
   "metadata": {},
   "outputs": [],
   "source": [
    "#Define the ListNode\n",
    "\n",
    "class Node :\n",
    "\n",
    "  def __init__(self,data=None, next=None):\n",
    "    self.data = data\n",
    "    self.next = next\n",
    "\n",
    "  #Method to set the data value\n",
    "  def setData(self,data):\n",
    "    self.data = data\n",
    "\n",
    "  #method to get the data value\n",
    "  def getData(self):\n",
    "    return self.data\n",
    "\n",
    "  #Method of set the next\n",
    "  def setNext(self, next):\n",
    "    self.next = next\n",
    "\n",
    "  #Method to get the next\n",
    "  def getNext(self):\n",
    "    return self.nextc"
   ]
  }
 ],
 "metadata": {
  "kernelspec": {
   "display_name": "Python 3",
   "language": "python",
   "name": "python3"
  },
  "language_info": {
   "codemirror_mode": {
    "name": "ipython",
    "version": 3
   },
   "file_extension": ".py",
   "mimetype": "text/x-python",
   "name": "python",
   "nbconvert_exporter": "python",
   "pygments_lexer": "ipython3",
   "version": "3.12.3"
  }
 },
 "nbformat": 4,
 "nbformat_minor": 2
}
