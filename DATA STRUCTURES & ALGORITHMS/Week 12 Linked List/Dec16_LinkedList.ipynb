{
  "cells": [
    {
      "cell_type": "code",
      "execution_count": null,
      "metadata": {
        "id": "tQrC-buCqoI7"
      },
      "outputs": [],
      "source": [
        "#Define the ListNode\n",
        "\n",
        "class Node :\n",
        "\n",
        "  def __init__(self,data=None, next=None):\n",
        "    self.data = data\n",
        "    self.next = next\n",
        "\n",
        "  #Method to set the data value\n",
        "  def setData(self,data):\n",
        "    self.data = data\n",
        "\n",
        "  #method to get the data value\n",
        "  def getData(self):\n",
        "    return self.data\n",
        "\n",
        "  #Method of set the next\n",
        "  def setNext(self, next):\n",
        "    self.next = next\n",
        "\n",
        "  #Method to get the next\n",
        "  def getNext(self):\n",
        "    return self.nextc"
      ]
    },
    {
      "cell_type": "code",
      "execution_count": null,
      "metadata": {
        "colab": {
          "base_uri": "https://localhost:8080/"
        },
        "id": "iqPqyXQsDCTB",
        "outputId": "92e89db3-9591-4980-d424-63f1fa82cfaa"
      },
      "outputs": [
        {
          "name": "stdout",
          "output_type": "stream",
          "text": [
            "1->2->3->4->4->"
          ]
        }
      ],
      "source": [
        "#Create a linked list -> collection of list nodes\n",
        "\n",
        "head = Node(1)\n",
        "node2 = Node(2)\n",
        "node3 = Node(3)\n",
        "node4 = Node(4)\n",
        "node5 = Node(4)\n",
        "\n",
        "#Creating the linkage\n",
        "head.setNext(node2)\n",
        "node2.setNext(node3)\n",
        "node3.setNext(node4)\n",
        "node4.setNext(node5)\n",
        "\n",
        "\n",
        "def traverse(head):\n",
        "  temp = head\n",
        "  while(temp):\n",
        "    print(temp.getData(),end=\"->\")\n",
        "    temp = temp.getNext() #jump to the next node\n",
        "\n",
        "traverse(head)"
      ]
    },
    {
      "cell_type": "code",
      "execution_count": null,
      "metadata": {
        "colab": {
          "base_uri": "https://localhost:8080/"
        },
        "id": "qHYHqT8IGFIL",
        "outputId": "a69559cc-b357-41e0-e21d-76ba4fb531a9"
      },
      "outputs": [
        {
          "name": "stdout",
          "output_type": "stream",
          "text": [
            "1->2->3->4->4->"
          ]
        }
      ],
      "source": [
        "def traverse_recursive(node):\n",
        "    if not node:\n",
        "        return\n",
        "    print(node.getData(), end=\"->\")\n",
        "    traverse_recursive(node.getNext())\n",
        "\n",
        "traverse_recursive(head)\n"
      ]
    },
    {
      "cell_type": "code",
      "execution_count": null,
      "metadata": {
        "colab": {
          "base_uri": "https://localhost:8080/"
        },
        "id": "d0go5XbXIA38",
        "outputId": "a0195889-298a-42c9-b8a8-3fcc66014574"
      },
      "outputs": [
        {
          "name": "stdout",
          "output_type": "stream",
          "text": [
            "5\n"
          ]
        }
      ],
      "source": [
        "\n",
        "#Find the length/size of linkedList... Input head\n",
        "def length(head):\n",
        "  len =0\n",
        "  while(head):\n",
        "    len +=1\n",
        "    head = head.getNext()\n",
        "  return len\n",
        "\n",
        "\n",
        "print(length(head))"
      ]
    },
    {
      "cell_type": "code",
      "execution_count": null,
      "metadata": {
        "colab": {
          "base_uri": "https://localhost:8080/"
        },
        "id": "vGtKSGBUKq3m",
        "outputId": "a301009c-0ae0-4214-96c8-aa2bd5399ee9"
      },
      "outputs": [
        {
          "name": "stdout",
          "output_type": "stream",
          "text": [
            "5\n"
          ]
        }
      ],
      "source": [
        "def length_rec(head):\n",
        "  if not head :\n",
        "    return 0\n",
        "  return 1 + length_rec(head.getNext())\n",
        "\n",
        "\n",
        "print(length_rec(head))"
      ]
    },
    {
      "cell_type": "code",
      "execution_count": null,
      "metadata": {
        "id": "YNSe97JPL214"
      },
      "outputs": [],
      "source": [
        "def length(head):\n",
        "  temp = head\n",
        "  count = 0\n",
        "  if temp == None:\n",
        "    return\n",
        "  else:\n",
        "    length(temp.getNext())\n",
        "    count+=1\n",
        "    return count"
      ]
    },
    {
      "cell_type": "code",
      "execution_count": null,
      "metadata": {
        "colab": {
          "base_uri": "https://localhost:8080/"
        },
        "id": "dwFejBBbPW6H",
        "outputId": "3dacd7ff-9eb3-4702-fbfb-8f3b55903c56"
      },
      "outputs": [
        {
          "name": "stdout",
          "output_type": "stream",
          "text": [
            "1->2->3->4->5->\n",
            "1->2->3->8->4->5->"
          ]
        }
      ],
      "source": [
        "def insertNode(head,data,k):\n",
        "  #If the k is valid\n",
        "  if (k > length(head) or k <0):\n",
        "    print(\"Argument k passed is not valid\")\n",
        "    return head\n",
        "\n",
        "  #Create new node for data\n",
        "  newNode = Node(data) #Create the new node object\n",
        "\n",
        "  if( k==0):\n",
        "    #We need to insert at the begining\n",
        "    #We need to update the head\n",
        "    newNode.setNext(head)\n",
        "    head = newNode\n",
        "  else :\n",
        "    #When not in begining\n",
        "    # We need to jump to the prev node of the postion\n",
        "    prev = head\n",
        "    i=0\n",
        "    while(i<k-1):\n",
        "      prev = prev.getNext()\n",
        "      i+=1\n",
        "\n",
        "    #prev will be one position left of kth position\n",
        "    newNode.setNext(prev.getNext())\n",
        "    prev.setNext(newNode)\n",
        "  return head\n",
        "\n",
        "\n",
        "\n",
        "head = Node(1)\n",
        "node2 = Node(2)\n",
        "node3 = Node(3)\n",
        "node4 = Node(4)\n",
        "node5 = Node(5)\n",
        "\n",
        "#Creating the linkage\n",
        "head.setNext(node2)\n",
        "node2.setNext(node3)\n",
        "node3.setNext(node4)\n",
        "node4.setNext(node5)\n",
        "\n",
        "traverse(head)\n",
        "print()\n",
        "\n",
        "head = insertNode(head,8,3)\n",
        "\n",
        "traverse(head)"
      ]
    },
    {
      "cell_type": "code",
      "execution_count": null,
      "metadata": {
        "id": "z73UKMqyWo3D"
      },
      "outputs": [],
      "source": [
        "def deleteNode(head,k):\n",
        "  pass\n",
        "  #Implement this funcy"
      ]
    },
    {
      "cell_type": "code",
      "execution_count": null,
      "metadata": {
        "colab": {
          "base_uri": "https://localhost:8080/"
        },
        "id": "Yzv8OKQ7qb5o",
        "outputId": "5c7e70cf-b19f-4062-ddcd-62e77c855bc6"
      },
      "outputs": [
        {
          "name": "stdout",
          "output_type": "stream",
          "text": [
            "1->2->3->4->5->6->\n",
            "9->1->2->3->4->5->6->"
          ]
        }
      ],
      "source": [
        "#Student code\n",
        "def insertNode(head, data, k):\n",
        "    if (k > length(head) or k < 0):\n",
        "        print(\"Argument k passed is not valid\")\n",
        "        return head\n",
        "    newNode = Node(data)\n",
        "    if(k == 0):\n",
        "        newNode.setNext(head)\n",
        "        head = newNode\n",
        "    else:\n",
        "        prev = head\n",
        "        i = 0\n",
        "        while(i < k - 1):\n",
        "            prev = prev.getNext()\n",
        "            i += 1\n",
        "        newNode.setNext(prev.getNext())\n",
        "        prev.setNext(newNode)\n",
        "    return head\n",
        "\n",
        "head = Node(1)\n",
        "node2 = Node(2)\n",
        "node3 = Node(3)\n",
        "node4 = Node(4)\n",
        "node5 = Node(5)\n",
        "node6 = Node(6)\n",
        "\n",
        "head.setNext(node2)\n",
        "node2.setNext(node3)\n",
        "node3.setNext(node4)\n",
        "node4.setNext(node5)\n",
        "node5.setNext(node6)\n",
        "\n",
        "traverse(head)\n",
        "head = insertNode(head,9,0)\n",
        "print()\n",
        "traverse(head)"
      ]
    },
    {
      "cell_type": "code",
      "execution_count": null,
      "metadata": {
        "id": "q6Jzmds8q93-"
      },
      "outputs": [],
      "source": [
        "def length_rec(head):\n",
        "  if not head :\n",
        "    return 0\n",
        "  return 1 + length_rec(head.getNext())\n",
        "\n",
        "\n",
        "print(length_rec(head))"
      ]
    }
  ],
  "metadata": {
    "colab": {
      "provenance": []
    },
    "kernelspec": {
      "display_name": "Python 3",
      "name": "python3"
    },
    "language_info": {
      "name": "python"
    }
  },
  "nbformat": 4,
  "nbformat_minor": 0
}
