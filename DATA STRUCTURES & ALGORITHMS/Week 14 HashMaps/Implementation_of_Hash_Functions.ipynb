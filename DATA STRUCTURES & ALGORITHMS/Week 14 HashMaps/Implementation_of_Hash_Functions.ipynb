{
  "nbformat": 4,
  "nbformat_minor": 0,
  "metadata": {
    "colab": {
      "provenance": []
    },
    "kernelspec": {
      "name": "python3",
      "display_name": "Python 3"
    },
    "language_info": {
      "name": "python"
    },
    "accelerator": "GPU"
  },
  "cells": [
    {
      "cell_type": "markdown",
      "metadata": {
        "id": "OBgqczuvmbqI"
      },
      "source": [
        "**Implementation of HashTable**"
      ]
    },
    {
      "cell_type": "code",
      "metadata": {
        "id": "BfDTeLFWkUqc"
      },
      "source": [
        "student_score = []\n",
        "with open(\"/content/Student Record - Sheet1.csv\",\"r\") as f:\n",
        "    for line in f:\n",
        "        tokens = line.split(',')\n",
        "        roll_num = tokens[0]\n",
        "        score = float(tokens[1])\n",
        "        student_score.append([roll_num,score])"
      ],
      "execution_count": 1,
      "outputs": []
    },
    {
      "cell_type": "markdown",
      "source": [
        "**List which contains the student roll number and the corresponding score**"
      ],
      "metadata": {
        "id": "codlRZUq0yOR"
      }
    },
    {
      "cell_type": "code",
      "metadata": {
        "colab": {
          "base_uri": "https://localhost:8080/"
        },
        "id": "yydVxEMRlE48",
        "outputId": "d4b07c8e-fa7a-41af-9e41-b505d0bdab53"
      },
      "source": [
        "student_score"
      ],
      "execution_count": 2,
      "outputs": [
        {
          "output_type": "execute_result",
          "data": {
            "text/plain": [
              "[['AI20MTECH12021', 56.0],\n",
              " ['AI20MTECH12013', 67.0],\n",
              " ['AI20MTECH14010', 78.0],\n",
              " ['AI20MTECH14011', 89.0],\n",
              " ['AI20MTECH14012', 45.0],\n",
              " ['AI20MTECH14015', 62.0],\n",
              " ['AI20MTECH14016', 92.0],\n",
              " ['AI20MTECH14017', 78.0],\n",
              " ['AI20MTECH14018', 57.0]]"
            ]
          },
          "metadata": {},
          "execution_count": 2
        }
      ]
    },
    {
      "cell_type": "code",
      "metadata": {
        "colab": {
          "base_uri": "https://localhost:8080/"
        },
        "id": "MBBg_Y-DlKfP",
        "outputId": "4f36a33d-d042-49bb-a265-fe02d0da8fc5"
      },
      "source": [
        "student_score[4]"
      ],
      "execution_count": 3,
      "outputs": [
        {
          "output_type": "execute_result",
          "data": {
            "text/plain": [
              "['AI20MTECH14012', 45.0]"
            ]
          },
          "metadata": {},
          "execution_count": 3
        }
      ]
    },
    {
      "cell_type": "code",
      "source": [
        "student_score[0]"
      ],
      "metadata": {
        "colab": {
          "base_uri": "https://localhost:8080/"
        },
        "id": "Y-i-zwDT1ChB",
        "outputId": "b9026733-ae63-4192-c866-8120173e727e"
      },
      "execution_count": 4,
      "outputs": [
        {
          "output_type": "execute_result",
          "data": {
            "text/plain": [
              "['AI20MTECH12021', 56.0]"
            ]
          },
          "metadata": {},
          "execution_count": 4
        }
      ]
    },
    {
      "cell_type": "markdown",
      "metadata": {
        "id": "yWQNOq0al7ya"
      },
      "source": [
        "**Find the score of student having roll number 'AI20MTECH14015'**"
      ]
    },
    {
      "cell_type": "code",
      "metadata": {
        "colab": {
          "base_uri": "https://localhost:8080/"
        },
        "id": "jO03kqo4l15n",
        "outputId": "d15593d3-c305-4d29-fd9a-652efc44b3c1"
      },
      "source": [
        "## loop \n",
        "for records in student_score:\n",
        "  ## comparison\n",
        "  if records[0] == 'AI20MTECH14015':\n",
        "    print(records[1])"
      ],
      "execution_count": 5,
      "outputs": [
        {
          "output_type": "stream",
          "name": "stdout",
          "text": [
            "62.0\n"
          ]
        }
      ]
    },
    {
      "cell_type": "markdown",
      "metadata": {
        "id": "320Sm6oSmPWV"
      },
      "source": [
        "**Time Complexity of getting the score of a particular student is O(n)**"
      ]
    },
    {
      "cell_type": "markdown",
      "metadata": {
        "id": "KwuDecKcmrhX"
      },
      "source": [
        "**Implementation of above task using Python Dictionary**"
      ]
    },
    {
      "cell_type": "code",
      "metadata": {
        "id": "hQBNx5LdmMtl"
      },
      "source": [
        "student_data = {} \n",
        "with open('/content/Student Record - Sheet1.csv','r') as f:\n",
        "  for line in f:\n",
        "    tokens = line.split(',')\n",
        "    roll_num = tokens[0]\n",
        "    score = float(tokens[1])\n",
        "    student_data[roll_num] = score"
      ],
      "execution_count": 6,
      "outputs": []
    },
    {
      "cell_type": "code",
      "metadata": {
        "colab": {
          "base_uri": "https://localhost:8080/"
        },
        "id": "8IPNLnw-nJ7d",
        "outputId": "23e66690-411a-4ac7-9118-ca28d37bb066"
      },
      "source": [
        "student_data"
      ],
      "execution_count": 7,
      "outputs": [
        {
          "output_type": "execute_result",
          "data": {
            "text/plain": [
              "{'AI20MTECH12021': 56.0,\n",
              " 'AI20MTECH12013': 67.0,\n",
              " 'AI20MTECH14010': 78.0,\n",
              " 'AI20MTECH14011': 89.0,\n",
              " 'AI20MTECH14012': 45.0,\n",
              " 'AI20MTECH14015': 62.0,\n",
              " 'AI20MTECH14016': 92.0,\n",
              " 'AI20MTECH14017': 78.0,\n",
              " 'AI20MTECH14018': 57.0}"
            ]
          },
          "metadata": {},
          "execution_count": 7
        }
      ]
    },
    {
      "cell_type": "code",
      "metadata": {
        "colab": {
          "base_uri": "https://localhost:8080/"
        },
        "id": "Fdi-dSXnnLQ8",
        "outputId": "dade85be-b1dc-40c6-c300-cd592d193967"
      },
      "source": [
        "student_data['AI20MTECH14015']"
      ],
      "execution_count": 8,
      "outputs": [
        {
          "output_type": "execute_result",
          "data": {
            "text/plain": [
              "62.0"
            ]
          },
          "metadata": {},
          "execution_count": 8
        }
      ]
    },
    {
      "cell_type": "markdown",
      "metadata": {
        "id": "624YublUnYfb"
      },
      "source": [
        "**Time Complexity of getting the score of a particular student is O(1)**"
      ]
    },
    {
      "cell_type": "markdown",
      "metadata": {
        "id": "9LbU3GcNnl3m"
      },
      "source": [
        "**Internal Implementation of Python Dictionary - Hashing Data Structure**"
      ]
    },
    {
      "cell_type": "markdown",
      "source": [
        "**ord function in python returns the ASCII value of every character**"
      ],
      "metadata": {
        "id": "P51zDesE3btJ"
      }
    },
    {
      "cell_type": "code",
      "source": [
        "ord('a')"
      ],
      "metadata": {
        "colab": {
          "base_uri": "https://localhost:8080/"
        },
        "id": "-giVB2Nd3W27",
        "outputId": "12e2f109-b925-48e6-b8ff-a9a30f7b21b9"
      },
      "execution_count": 9,
      "outputs": [
        {
          "output_type": "execute_result",
          "data": {
            "text/plain": [
              "97"
            ]
          },
          "metadata": {},
          "execution_count": 9
        }
      ]
    },
    {
      "cell_type": "code",
      "source": [
        "ord('A')"
      ],
      "metadata": {
        "colab": {
          "base_uri": "https://localhost:8080/"
        },
        "id": "zVuaMJrL3aB9",
        "outputId": "9a78d105-b4e9-45a3-fdc2-25728104237c"
      },
      "execution_count": 10,
      "outputs": [
        {
          "output_type": "execute_result",
          "data": {
            "text/plain": [
              "65"
            ]
          },
          "metadata": {},
          "execution_count": 10
        }
      ]
    },
    {
      "cell_type": "code",
      "metadata": {
        "id": "etQHbPvfDyw2"
      },
      "source": [
        "## Modulo Hash Function\n",
        "def get_hash(self, key):\n",
        "  hash = 0\n",
        "  for char in key:\n",
        "  ## ord function in python helps us to get ascii value of \n",
        "  ## any character\n",
        "    hash += ord(char)\n",
        "  return hash % self.MAX"
      ],
      "execution_count": 11,
      "outputs": []
    },
    {
      "cell_type": "code",
      "metadata": {
        "id": "Nxzi9elqnTWu"
      },
      "source": [
        "class HashTable:  \n",
        "    def __init__(self):\n",
        "        self.MAX = 10\n",
        "        ## List Comprehension\n",
        "        self.arr = [None for i in range(self.MAX)]\n",
        "\n",
        "    ## Method to calculate the hash function for a given value \n",
        "    def get_hash(self, key):\n",
        "        hash = 0\n",
        "        for char in key:\n",
        "            ## ord function in python helps us to get ascii value of \n",
        "            ## any character\n",
        "            hash += ord(char)\n",
        "        return hash % self.MAX\n",
        "    \n",
        "    ## Method definition of standard operators as functions in Python\n",
        "    ## getitem - to fetch the value of given index inside hash table\n",
        "    def __getitem__(self, index):\n",
        "        h = self.get_hash(index)\n",
        "        return self.arr[h]\n",
        "\n",
        "    ## setitem - to set the value corresponding to key inside hash table\n",
        "    def __setitem__(self, key, val):\n",
        "        h = self.get_hash(key)\n",
        "        self.arr[h] = val  \n",
        "          \n",
        "    ## delitem - to delete the values inside the hash table for a given key  \n",
        "    def __delitem__(self, key):\n",
        "        h = self.get_hash(key)\n",
        "        self.arr[h] = None"
      ],
      "execution_count": 12,
      "outputs": []
    },
    {
      "cell_type": "code",
      "metadata": {
        "id": "L2_mFtMXsxSL"
      },
      "source": [
        "h = HashTable()\n",
        "## setitem funcion called\n",
        "h['AI20MTECH14015'] = 60\n",
        "h['AI20MTECH15092'] = 70\n",
        "#h['AI20MTECH12013'] = 20"
      ],
      "execution_count": 13,
      "outputs": []
    },
    {
      "cell_type": "code",
      "metadata": {
        "colab": {
          "base_uri": "https://localhost:8080/"
        },
        "id": "YGeLUEUvtBxn",
        "outputId": "cfa4cad3-50a7-4314-b10a-bf57a44f4259"
      },
      "source": [
        "h.arr"
      ],
      "execution_count": 14,
      "outputs": [
        {
          "output_type": "execute_result",
          "data": {
            "text/plain": [
              "[None, None, 70, None, None, None, 60, None, None, None]"
            ]
          },
          "metadata": {},
          "execution_count": 14
        }
      ]
    },
    {
      "cell_type": "code",
      "metadata": {
        "id": "bGlpET4fJ1h2",
        "colab": {
          "base_uri": "https://localhost:8080/"
        },
        "outputId": "c818a77b-f5fc-4ddd-f447-795c8dc882c1"
      },
      "source": [
        "h['AI20MTECH14015']"
      ],
      "execution_count": 15,
      "outputs": [
        {
          "output_type": "execute_result",
          "data": {
            "text/plain": [
              "60"
            ]
          },
          "metadata": {},
          "execution_count": 15
        }
      ]
    },
    {
      "cell_type": "code",
      "metadata": {
        "colab": {
          "base_uri": "https://localhost:8080/"
        },
        "id": "C0p7RglJtDRL",
        "outputId": "87d066c9-bbe4-41fc-f664-74f98209dbaf"
      },
      "source": [
        "h.get_hash('AI20MTECH14015')"
      ],
      "execution_count": 16,
      "outputs": [
        {
          "output_type": "execute_result",
          "data": {
            "text/plain": [
              "6"
            ]
          },
          "metadata": {},
          "execution_count": 16
        }
      ]
    },
    {
      "cell_type": "code",
      "metadata": {
        "colab": {
          "base_uri": "https://localhost:8080/"
        },
        "id": "AtNMzdP0Gg83",
        "outputId": "7451a98b-158c-4e8d-85a4-908d22a875ef"
      },
      "source": [
        "h.get_hash('AI20MTECH15092')"
      ],
      "execution_count": 17,
      "outputs": [
        {
          "output_type": "execute_result",
          "data": {
            "text/plain": [
              "2"
            ]
          },
          "metadata": {},
          "execution_count": 17
        }
      ]
    },
    {
      "cell_type": "code",
      "metadata": {
        "id": "Bsq3rykttTn5"
      },
      "source": [
        "## delitem method is called\n",
        "del h['AI20MTECH14015']"
      ],
      "execution_count": 18,
      "outputs": []
    },
    {
      "cell_type": "code",
      "metadata": {
        "colab": {
          "base_uri": "https://localhost:8080/"
        },
        "id": "_IYbKTzGtjNF",
        "outputId": "5727727e-6b4f-4ccf-fd7a-e899a4725c69"
      },
      "source": [
        "h.arr"
      ],
      "execution_count": 19,
      "outputs": [
        {
          "output_type": "execute_result",
          "data": {
            "text/plain": [
              "[None, None, 70, None, None, None, None, None, None, None]"
            ]
          },
          "metadata": {},
          "execution_count": 19
        }
      ]
    },
    {
      "cell_type": "code",
      "metadata": {
        "id": "CFCuf-AhJNtI",
        "colab": {
          "base_uri": "https://localhost:8080/"
        },
        "outputId": "4223e4f5-3117-4026-d30f-129ec6ac610e"
      },
      "source": [
        "h.get_hash('AI20MTECH12013')"
      ],
      "execution_count": 20,
      "outputs": [
        {
          "output_type": "execute_result",
          "data": {
            "text/plain": [
              "2"
            ]
          },
          "metadata": {},
          "execution_count": 20
        }
      ]
    },
    {
      "cell_type": "markdown",
      "source": [
        "**AI20MTECH12013 and AI20MTECH15092 both contains the same key. So, value overrides here**"
      ],
      "metadata": {
        "id": "D7laG3TJ4vav"
      }
    },
    {
      "cell_type": "markdown",
      "source": [
        "**Concept of Collision in Hashing**"
      ],
      "metadata": {
        "id": "rgxdszMU44ni"
      }
    },
    {
      "cell_type": "code",
      "source": [
        "h['AI20MTECH12013'] = 20"
      ],
      "metadata": {
        "id": "FeCmP3RG9ZAb"
      },
      "execution_count": 21,
      "outputs": []
    },
    {
      "cell_type": "code",
      "source": [
        "h.arr"
      ],
      "metadata": {
        "colab": {
          "base_uri": "https://localhost:8080/"
        },
        "id": "7y_tZm1u4oL4",
        "outputId": "8ebabb50-87f2-4ef7-beba-c5dc7bd8adbb"
      },
      "execution_count": 22,
      "outputs": [
        {
          "output_type": "execute_result",
          "data": {
            "text/plain": [
              "[None, None, 20, None, None, None, None, None, None, None]"
            ]
          },
          "metadata": {},
          "execution_count": 22
        }
      ]
    },
    {
      "cell_type": "code",
      "source": [],
      "metadata": {
        "id": "gtDCG1PY4qRw"
      },
      "execution_count": null,
      "outputs": []
    }
  ]
}