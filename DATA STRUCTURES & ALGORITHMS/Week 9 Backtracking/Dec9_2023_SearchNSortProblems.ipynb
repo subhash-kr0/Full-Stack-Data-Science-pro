{
  "nbformat": 4,
  "nbformat_minor": 0,
  "metadata": {
    "colab": {
      "provenance": []
    },
    "kernelspec": {
      "name": "python3",
      "display_name": "Python 3"
    },
    "language_info": {
      "name": "python"
    }
  },
  "cells": [
    {
      "cell_type": "markdown",
      "source": [
        "**Problem 1 :**\n",
        "Find the Rotation Count in Rotated Sorted array\n",
        "Input: arr[] = {15, 18, 2, 3, 6, 12}\n",
        "Output: 2\n",
        "Explanation: Initial array must be {2, 3, 6, 12, 15, 18}.\n",
        "We get the given array after rotating the initial array twice."
      ],
      "metadata": {
        "id": "-R2eljGLiuL1"
      }
    },
    {
      "cell_type": "code",
      "source": [
        "def countRotations(arr):\n",
        "  min = arr[0]\n",
        "  min_index = 0\n",
        "\n",
        "  for i in range(1,len(arr)):\n",
        "    if(min > arr[i]):\n",
        "      min = arr[i]\n",
        "      min_index = i\n",
        "  return min_index\n",
        "\n",
        "print(countRotations([15,18,2,3,6,12]))"
      ],
      "metadata": {
        "colab": {
          "base_uri": "https://localhost:8080/"
        },
        "id": "S60zBRC5tvN6",
        "outputId": "ce40d8f6-8fb1-461f-d976-163738217e59"
      },
      "execution_count": null,
      "outputs": [
        {
          "output_type": "stream",
          "name": "stdout",
          "text": [
            "2\n"
          ]
        }
      ]
    },
    {
      "cell_type": "code",
      "source": [],
      "metadata": {
        "id": "ba0Jg5MmrA9X"
      },
      "execution_count": null,
      "outputs": []
    },
    {
      "cell_type": "markdown",
      "source": [
        "Assignment 1 : Solve the same above problem with linear search approach | Tier 2 companies"
      ],
      "metadata": {
        "id": "6y4nKM7ez5U2"
      }
    },
    {
      "cell_type": "markdown",
      "source": [
        "Assignment 2: Solve the same problem with Binary Search Approach | FAANG"
      ],
      "metadata": {
        "id": "BOlbQ3wB2Iwa"
      }
    },
    {
      "cell_type": "code",
      "source": [
        "def binary_count_rotations(arr):\n",
        "  low = 0\n",
        "  high = len(arr)-1\n",
        "  while(low <= high):\n",
        "    mid = int(low + (high-low)/2)\n",
        "    if arr[mid] < arr[mid-1] and arr[mid] < arr[mid+1]:\n",
        "      return mid\n",
        "    elif arr[mid] > arr[high]:\n",
        "      low = mid+1\n",
        "    else:\n",
        "      high = mid-1\n",
        "\n",
        "#print(binary_count_rotations([15,18,2,3,6,12]))\n",
        "#print(binary_count_rotations([12,15,18,2,3,6]))\n",
        "#print(binary_count_rotations([6,12,15,18,2,3]))\n",
        "#print(binary_count_rotations([3,6,12,15,18,2]))\n",
        "#print(binary_count_rotations([2,3,6,12,15,18]))\n",
        "print(binary_count_rotations([12,15,18,2,3,6]))"
      ],
      "metadata": {
        "colab": {
          "base_uri": "https://localhost:8080/",
          "height": 332
        },
        "id": "9NkhLcIU2Hv0",
        "outputId": "266c36e0-faa7-4375-bf48-f52412d58315"
      },
      "execution_count": null,
      "outputs": [
        {
          "output_type": "error",
          "ename": "IndexError",
          "evalue": "ignored",
          "traceback": [
            "\u001b[0;31m---------------------------------------------------------------------------\u001b[0m",
            "\u001b[0;31mIndexError\u001b[0m                                Traceback (most recent call last)",
            "\u001b[0;32m<ipython-input-12-a4ad2724d990>\u001b[0m in \u001b[0;36m<cell line: 18>\u001b[0;34m()\u001b[0m\n\u001b[1;32m     16\u001b[0m \u001b[0;31m#print(binary_count_rotations([3,6,12,15,18,2]))\u001b[0m\u001b[0;34m\u001b[0m\u001b[0;34m\u001b[0m\u001b[0m\n\u001b[1;32m     17\u001b[0m \u001b[0;31m#print(binary_count_rotations([2,3,6,12,15,18]))\u001b[0m\u001b[0;34m\u001b[0m\u001b[0;34m\u001b[0m\u001b[0m\n\u001b[0;32m---> 18\u001b[0;31m \u001b[0mprint\u001b[0m\u001b[0;34m(\u001b[0m\u001b[0mbinary_count_rotations\u001b[0m\u001b[0;34m(\u001b[0m\u001b[0;34m[\u001b[0m\u001b[0;36m3\u001b[0m\u001b[0;34m,\u001b[0m\u001b[0;36m6\u001b[0m\u001b[0;34m,\u001b[0m\u001b[0;36m12\u001b[0m\u001b[0;34m,\u001b[0m\u001b[0;36m15\u001b[0m\u001b[0;34m,\u001b[0m\u001b[0;36m18\u001b[0m\u001b[0;34m,\u001b[0m\u001b[0;36m2\u001b[0m\u001b[0;34m]\u001b[0m\u001b[0;34m)\u001b[0m\u001b[0;34m)\u001b[0m\u001b[0;34m\u001b[0m\u001b[0;34m\u001b[0m\u001b[0m\n\u001b[0m",
            "\u001b[0;32m<ipython-input-12-a4ad2724d990>\u001b[0m in \u001b[0;36mbinary_count_rotations\u001b[0;34m(arr)\u001b[0m\n\u001b[1;32m      4\u001b[0m   \u001b[0;32mwhile\u001b[0m\u001b[0;34m(\u001b[0m\u001b[0mlow\u001b[0m \u001b[0;34m<=\u001b[0m \u001b[0mhigh\u001b[0m\u001b[0;34m)\u001b[0m\u001b[0;34m:\u001b[0m\u001b[0;34m\u001b[0m\u001b[0;34m\u001b[0m\u001b[0m\n\u001b[1;32m      5\u001b[0m     \u001b[0mmid\u001b[0m \u001b[0;34m=\u001b[0m \u001b[0mint\u001b[0m\u001b[0;34m(\u001b[0m\u001b[0mlow\u001b[0m \u001b[0;34m+\u001b[0m \u001b[0;34m(\u001b[0m\u001b[0mhigh\u001b[0m\u001b[0;34m-\u001b[0m\u001b[0mlow\u001b[0m\u001b[0;34m)\u001b[0m\u001b[0;34m/\u001b[0m\u001b[0;36m2\u001b[0m\u001b[0;34m)\u001b[0m\u001b[0;34m\u001b[0m\u001b[0;34m\u001b[0m\u001b[0m\n\u001b[0;32m----> 6\u001b[0;31m     \u001b[0;32mif\u001b[0m \u001b[0marr\u001b[0m\u001b[0;34m[\u001b[0m\u001b[0mmid\u001b[0m\u001b[0;34m]\u001b[0m \u001b[0;34m<\u001b[0m \u001b[0marr\u001b[0m\u001b[0;34m[\u001b[0m\u001b[0mmid\u001b[0m\u001b[0;34m-\u001b[0m\u001b[0;36m1\u001b[0m\u001b[0;34m]\u001b[0m \u001b[0;32mand\u001b[0m \u001b[0marr\u001b[0m\u001b[0;34m[\u001b[0m\u001b[0mmid\u001b[0m\u001b[0;34m]\u001b[0m \u001b[0;34m<\u001b[0m \u001b[0marr\u001b[0m\u001b[0;34m[\u001b[0m\u001b[0mmid\u001b[0m\u001b[0;34m+\u001b[0m\u001b[0;36m1\u001b[0m\u001b[0;34m]\u001b[0m\u001b[0;34m:\u001b[0m\u001b[0;34m\u001b[0m\u001b[0;34m\u001b[0m\u001b[0m\n\u001b[0m\u001b[1;32m      7\u001b[0m       \u001b[0;32mreturn\u001b[0m \u001b[0mmid\u001b[0m\u001b[0;34m\u001b[0m\u001b[0;34m\u001b[0m\u001b[0m\n\u001b[1;32m      8\u001b[0m     \u001b[0;32melif\u001b[0m \u001b[0marr\u001b[0m\u001b[0;34m[\u001b[0m\u001b[0mmid\u001b[0m\u001b[0;34m]\u001b[0m \u001b[0;34m>\u001b[0m \u001b[0marr\u001b[0m\u001b[0;34m[\u001b[0m\u001b[0mhigh\u001b[0m\u001b[0;34m]\u001b[0m\u001b[0;34m:\u001b[0m\u001b[0;34m\u001b[0m\u001b[0;34m\u001b[0m\u001b[0m\n",
            "\u001b[0;31mIndexError\u001b[0m: list index out of range"
          ]
        }
      ]
    },
    {
      "cell_type": "code",
      "source": [
        "def countOfRotations(arr):\n",
        "  start = 0\n",
        "  n = len(arr)\n",
        "  end = n-1\n",
        "\n",
        "  while(start<=end):\n",
        "\n",
        "    mid = int(start+(end-start)/2)\n",
        "\n",
        "    prev = (mid-1+n)%n #ensure the prev index is always correct\n",
        "    next = (mid+1)%n #ensure the next index is always in range\n",
        "\n",
        "    if arr[mid] <arr[prev] and arr[mid]<arr[next]:\n",
        "      return mid\n",
        "    elif arr[mid]<arr[end]:\n",
        "      end = mid-1\n",
        "    else:\n",
        "      start= mid+1\n",
        "\n",
        "\n",
        "\n",
        "print(countOfRotations([2,3,6,12,15,18]))\n"
      ],
      "metadata": {
        "colab": {
          "base_uri": "https://localhost:8080/"
        },
        "id": "xgezmb6hz4KD",
        "outputId": "3fe66a1f-4821-4df0-ff4f-20fc26b8a985"
      },
      "execution_count": null,
      "outputs": [
        {
          "output_type": "stream",
          "name": "stdout",
          "text": [
            "0\n"
          ]
        }
      ]
    },
    {
      "cell_type": "markdown",
      "source": [
        "**Problem 2 :**\n",
        "Given an array of integers, print the array in such a way that the first element is first maximum and second element is first minimum and so on.\n",
        "Examples :\n",
        "Input : arr[] = {7, 1, 2, 3, 4, 5, 6}\n",
        "Output : 7 1 6 2 5 3 4\n"
      ],
      "metadata": {
        "id": "cWshM0fXiivP"
      }
    },
    {
      "cell_type": "code",
      "source": [
        "def bubbleSort(arr):\n",
        "    for i in range(len(arr)-1,0,-1):\n",
        "        for j in range(i):\n",
        "            if arr[j]>arr[j+1]:\n",
        "                arr[j],arr[j+1]=arr[j+1],arr[j]\n",
        "\n",
        "def printInOrder(arr):\n",
        "  bubbleSort(arr)\n",
        "  left=0\n",
        "  right=len(arr)-1\n",
        "  while left<=right:\n",
        "    if left == right :\n",
        "      print(arr[left], end=\" \")\n",
        "    else :\n",
        "      print(arr[right], end=\" \")\n",
        "      print(arr[left], end=\" \")\n",
        "    left+=1\n",
        "    right-=1\n",
        "\n",
        "printInOrder([3,5,1,2,8,6,4])\n",
        "\n"
      ],
      "metadata": {
        "colab": {
          "base_uri": "https://localhost:8080/"
        },
        "id": "9UcfC_Z99DbZ",
        "outputId": "594b50bc-2a25-419d-807a-b24ae396624f"
      },
      "execution_count": null,
      "outputs": [
        {
          "output_type": "stream",
          "name": "stdout",
          "text": [
            "8 1 6 2 5 3 4 "
          ]
        }
      ]
    },
    {
      "cell_type": "markdown",
      "source": [
        "**Problem 3 :** Sort an array in wave form\n",
        "Given an unsorted array of integers, sort the array into a wave like array. An array ‘arr[0..n-1]’ is sorted in wave form if arr[0] >= arr[1] <= arr[2] >= arr[3] <= arr[4] >= …..\n",
        "Examples:\n",
        " Input:  arr[] = {10, 5, 6, 3, 2, 20, 100, 80}\n",
        " Output: arr[] = {10, 5, 6, 2, 20, 3, 100, 80} OR\n",
        "             \t{20, 5, 10, 2, 80, 6, 100, 3} OR\n",
        "             \tany other array that is in wave form"
      ],
      "metadata": {
        "id": "UVegKW5zjBPT"
      }
    },
    {
      "cell_type": "code",
      "source": [
        "def sortInWave(arr):\n",
        "\n",
        "  for i in range(0, len(arr)-1, 2):\n",
        "\n",
        "    #Comparing with left eleement\n",
        "    if( i>0 and arr[i]>arr[i-1]):\n",
        "      arr[i] , arr[i-1] = arr[i-1],arr[i]\n",
        "\n",
        "    #Compare with the right element\n",
        "    if(i<len(arr)-1 and arr[i] > arr[i+1]):\n",
        "      arr[i],arr[i+1]=arr[i+1],arr[i]\n",
        "\n",
        "arr = [10,90,49,2,3,1,5,23]\n",
        "sortInWave(arr)\n",
        "print(arr)\n"
      ],
      "metadata": {
        "colab": {
          "base_uri": "https://localhost:8080/"
        },
        "id": "pYOXByFNLcuE",
        "outputId": "dd438c7e-b9fe-4ab8-c300-d7c7d412f73f"
      },
      "execution_count": null,
      "outputs": [
        {
          "output_type": "stream",
          "name": "stdout",
          "text": [
            "[10, 90, 2, 49, 1, 5, 3, 23]\n"
          ]
        }
      ]
    },
    {
      "cell_type": "markdown",
      "source": [
        "Assignment 3 : Write the code we discussed in class woth O(n2) complexity"
      ],
      "metadata": {
        "id": "aQr_PUYrG4cL"
      }
    },
    {
      "cell_type": "markdown",
      "source": [
        "**Problem 4 :**\n",
        "Merge an array of size n into another array of size m+n in sorted order"
      ],
      "metadata": {
        "id": "ghOPBztXkE2t"
      }
    },
    {
      "cell_type": "code",
      "source": [
        "def mergeArrays(arr1,m, arr2,n):\n",
        "  #Size of the arr1 is m+n and it's first m elements are having numbers\n",
        "\n",
        "  i= m-1\n",
        "  j= n-1\n",
        "  k= m+n-1\n",
        "\n",
        "  while(i>=0 and j>=0):\n",
        "    if(arr1[i]>arr2[j]):\n",
        "      arr1[k]=arr1[i]\n",
        "      i -=1\n",
        "    else :\n",
        "      arr1[k]=arr2[j]\n",
        "      j -=1\n",
        "    k -=1\n",
        "\n",
        "  while(i>=0):\n",
        "    arr1[k]=arr1[i]\n",
        "    k -= 1\n",
        "    i -= 1\n",
        "\n",
        "  while(j>=0):\n",
        "   arr1[k]=arr2[j]\n",
        "   k -=1\n",
        "   j -=1\n",
        "\n",
        "  print(arr1)\n",
        "\n",
        "arr1 = [2,6,8,-1,-1]\n",
        "\n",
        "print(arr1)\n",
        "\n",
        "arr2 = [1,7]\n",
        "print(arr2)\n",
        "\n",
        "mergeArrays(arr1,3, arr2,2)\n",
        "\n",
        "print(arr1)"
      ],
      "metadata": {
        "colab": {
          "base_uri": "https://localhost:8080/"
        },
        "id": "UpEfl9XsTUAn",
        "outputId": "8fa8e889-d126-478f-c871-5a240f36e69d"
      },
      "execution_count": null,
      "outputs": [
        {
          "output_type": "stream",
          "name": "stdout",
          "text": [
            "[2, 6, 8, -1, -1]\n",
            "[1, 7]\n",
            "[1, 2, 6, 7, 8]\n",
            "[1, 2, 6, 7, 8]\n"
          ]
        }
      ]
    },
    {
      "cell_type": "markdown",
      "source": [
        "Assignment\n",
        "**Problem 5 :** Sort an array containing two types of elements\n",
        "We are given an array of 0s and 1s in random order. Segregate 0s on left side and 1s on right side of the array. Traverse array only once.\n",
        "Examples:\n",
        "Input :  arr[] = [0, 1, 0, 1, 0, 0, 1, 1, 1, 0]\n",
        "Output : arr[] = [0, 0, 0, 0, 0, 1, 1, 1, 1, 1]\n"
      ],
      "metadata": {
        "id": "jOMwuGOTkRyn"
      }
    },
    {
      "cell_type": "code",
      "source": [
        "def sort_0_1(arr):\n",
        "    left_pointer = 0\n",
        "    right_pointer = len(arr) - 1\n",
        "\n",
        "    while left_pointer < right_pointer:\n",
        "        # Move left pointer to the right until a 1 is encountered\n",
        "        while arr[left_pointer] == 0 and left_pointer < right_pointer:\n",
        "            left_pointer += 1\n",
        "\n",
        "        # Move right pointer to the left until a 0 is encountered\n",
        "        while arr[right_pointer] == 1 and left_pointer < right_pointer:\n",
        "            right_pointer -= 1\n",
        "\n",
        "        # Swap the elements at left and right pointers\n",
        "        if left_pointer < right_pointer:\n",
        "            arr[left_pointer], arr[right_pointer] = arr[right_pointer], arr[left_pointer]\n",
        "            left_pointer += 1\n",
        "            right_pointer -= 1\n",
        "\n",
        "arr = [0, 1, 0, 1, 0, 0, 1, 1, 1, 0]\n",
        "sort_0_1(arr)\n",
        "print(arr)"
      ],
      "metadata": {
        "colab": {
          "base_uri": "https://localhost:8080/"
        },
        "id": "LlF2dbTmlfFG",
        "outputId": "f179e675-49ee-4abb-bd6a-934e104c4992"
      },
      "execution_count": null,
      "outputs": [
        {
          "output_type": "stream",
          "name": "stdout",
          "text": [
            "[0, 0, 0, 0, 0, 1, 1, 1, 1, 1]\n"
          ]
        }
      ]
    },
    {
      "cell_type": "code",
      "source": [
        "def sort(arr):\n",
        "  left = 0\n",
        "  right = len(arr)-1\n",
        "  while(left<right):\n",
        "    if arr[left]==1 and arr[right]==0: #swap 0 and 1 if the condition satisfied\n",
        "      arr[left],arr[right]=arr[right],arr[left]\n",
        "      left += 1\n",
        "      right -=1\n",
        "    elif arr[left]!=1: #move left pointer if it is not equals to 1\n",
        "      left+=1\n",
        "    else: #move right pointer if it is not equals to 0\n",
        "      right -=1\n",
        "\n",
        "arr = [1,0,1,0,0,1,1,1,0,0,0]\n",
        "sort(arr)\n",
        "print(arr)"
      ],
      "metadata": {
        "colab": {
          "base_uri": "https://localhost:8080/"
        },
        "id": "PevZe83OnWyt",
        "outputId": "c7b44bab-5afc-4d85-c5c2-d2726edcff28"
      },
      "execution_count": null,
      "outputs": [
        {
          "output_type": "stream",
          "name": "stdout",
          "text": [
            "[0, 0, 0, 0, 0, 0, 1, 1, 1, 1, 1]\n"
          ]
        }
      ]
    },
    {
      "cell_type": "code",
      "source": [
        "#Doubts of the class\n",
        "for i in range(5,0,-1):\n",
        "  print(i)"
      ],
      "metadata": {
        "colab": {
          "base_uri": "https://localhost:8080/"
        },
        "id": "QTMd7QxXi42F",
        "outputId": "155ad5c0-825d-4bc4-ca40-f38253d66786"
      },
      "execution_count": null,
      "outputs": [
        {
          "output_type": "stream",
          "name": "stdout",
          "text": [
            "5\n",
            "4\n",
            "3\n",
            "2\n",
            "1\n"
          ]
        }
      ]
    },
    {
      "cell_type": "code",
      "source": [
        "print(abs(-5))"
      ],
      "metadata": {
        "colab": {
          "base_uri": "https://localhost:8080/"
        },
        "id": "MNZXR64LlKlN",
        "outputId": "faff7f7b-f2ba-436b-892f-7277c3f15151"
      },
      "execution_count": null,
      "outputs": [
        {
          "output_type": "stream",
          "name": "stdout",
          "text": [
            "5\n"
          ]
        }
      ]
    },
    {
      "cell_type": "code",
      "source": [
        "#Class doubts\n",
        "def countRotations(arr):\n",
        "  min_index = 0\n",
        "  n = len(arr)\n",
        "  for i in range(len(arr)):\n",
        "    if (arr[(i-1+n)%n] > arr[i]) and (arr[(i+1)%n] > arr[i]) :\n",
        "      min_index = i\n",
        "\n",
        "  return min_index\n",
        "print(countRotations([2,3,6,12,15,18]))\n",
        "\n",
        "print(countRotations([3,6,12,15,18,2]))\n",
        "\n",
        "print(countRotations([6,12,15,18,2,3]))\n",
        "\n",
        "print(countRotations([15,18,2,3,6,12]))\n"
      ],
      "metadata": {
        "colab": {
          "base_uri": "https://localhost:8080/"
        },
        "id": "ovATtiCgyN_0",
        "outputId": "ac288875-bc90-4504-bb22-927193204ffb"
      },
      "execution_count": null,
      "outputs": [
        {
          "output_type": "stream",
          "name": "stdout",
          "text": [
            "0\n",
            "5\n",
            "4\n",
            "2\n"
          ]
        }
      ]
    }
  ]
}