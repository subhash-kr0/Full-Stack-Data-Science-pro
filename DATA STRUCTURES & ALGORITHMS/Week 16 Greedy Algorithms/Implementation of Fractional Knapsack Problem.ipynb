{
 "cells": [
  {
   "cell_type": "code",
   "execution_count": 6,
   "id": "4962fb39",
   "metadata": {},
   "outputs": [
    {
     "name": "stdout",
     "output_type": "stream",
     "text": [
      "50 4 12.5\n",
      "90 9 10.0\n",
      "30 3 10.0\n",
      "100 12 8.333333333333334\n",
      "75 10 7.5\n",
      "45 7 6.428571428571429\n",
      "25 5 5.0\n",
      "Maximum Profit using greedy algorithm is 337.5\n"
     ]
    }
   ],
   "source": [
    "## create a class for the objects which contains profit and the weight\n",
    "class Item:\n",
    "    def __init__(self, profit, weight):\n",
    "        self.profit = profit\n",
    "        self.weight = weight\n",
    "        \n",
    "## fractionalKnapsack method definition\n",
    "def fractionalKnapsack(arr, M):\n",
    "    ## sort(descending) on the basis of profit/weight\n",
    "    arr.sort(key = lambda x:(x.profit/x.weight), reverse=True)\n",
    "    for item in arr:\n",
    "        print(item.profit, item.weight, item.profit/item.weight)\n",
    "    maxProfit = 0.0\n",
    "    ## decrementing the capacity and increment of the maxProfit\n",
    "    for item in arr:\n",
    "        if item.weight <= M:\n",
    "            M -= item.weight\n",
    "            maxProfit += item.profit\n",
    "        else:\n",
    "            maxProfit += item.profit * M/item.weight\n",
    "            break\n",
    "    return maxProfit\n",
    "            \n",
    "## Driver code\n",
    "M = 37\n",
    "arr = [Item(25, 5), Item(75, 10), Item(100, 12), Item(50, 4), Item(45, 7), Item(90, 9), Item(30, 3)]\n",
    "\n",
    "## function call\n",
    "maxProfit = fractionalKnapsack(arr, M)\n",
    "print(\"Maximum Profit using greedy algorithm is\", maxProfit)"
   ]
  },
  {
   "cell_type": "code",
   "execution_count": null,
   "id": "5716b140",
   "metadata": {},
   "outputs": [],
   "source": []
  }
 ],
 "metadata": {
  "kernelspec": {
   "display_name": "Python 3 (ipykernel)",
   "language": "python",
   "name": "python3"
  },
  "language_info": {
   "codemirror_mode": {
    "name": "ipython",
    "version": 3
   },
   "file_extension": ".py",
   "mimetype": "text/x-python",
   "name": "python",
   "nbconvert_exporter": "python",
   "pygments_lexer": "ipython3",
   "version": "3.9.12"
  }
 },
 "nbformat": 4,
 "nbformat_minor": 5
}
