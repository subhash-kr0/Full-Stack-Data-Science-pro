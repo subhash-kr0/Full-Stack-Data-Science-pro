{
 "cells": [
  {
   "cell_type": "code",
   "execution_count": 2,
   "id": "db7fe19a",
   "metadata": {},
   "outputs": [
    {
     "name": "stdout",
     "output_type": "stream",
     "text": [
      "Maximum profit is: 8\n"
     ]
    }
   ],
   "source": [
    "## Time complexity - O(m*n)\n",
    "## Approach - Tabulation (Bottom-up manner) Dynamic Programming\n",
    "def knapSack(W, wt, val, n):\n",
    "    K = [[0 for x in range(W + 1)] for x in range(n + 1)]\n",
    "\n",
    "    # Build table K[][] in bottom up manner\n",
    "    for i in range(n + 1):\n",
    "        for w in range(W + 1):\n",
    "            if i == 0 or w == 0:\n",
    "                K[i][w] = 0\n",
    "            elif wt[i-1] <= w:\n",
    "                K[i][w] = max(val[i-1] + K[i-1][w-wt[i-1]],K[i-1][w])\n",
    "            else:\n",
    "                K[i][w] = K[i-1][w]\n",
    "\n",
    "    return K[n][W]\n",
    "\n",
    "# Driver code\n",
    "profit = [1, 2, 5, 6]\n",
    "## wt = [0, 1, 2, 3]\n",
    "wt = [2, 3, 4, 5]\n",
    "M = 8\n",
    "n = len(profit)\n",
    "print(\"Maximum profit is:\",knapSack(M, wt, profit, n))"
   ]
  },
  {
   "cell_type": "code",
   "execution_count": null,
   "id": "08a4fa5e",
   "metadata": {},
   "outputs": [],
   "source": []
  }
 ],
 "metadata": {
  "kernelspec": {
   "display_name": "Python 3 (ipykernel)",
   "language": "python",
   "name": "python3"
  },
  "language_info": {
   "codemirror_mode": {
    "name": "ipython",
    "version": 3
   },
   "file_extension": ".py",
   "mimetype": "text/x-python",
   "name": "python",
   "nbconvert_exporter": "python",
   "pygments_lexer": "ipython3",
   "version": "3.9.12"
  }
 },
 "nbformat": 4,
 "nbformat_minor": 5
}
