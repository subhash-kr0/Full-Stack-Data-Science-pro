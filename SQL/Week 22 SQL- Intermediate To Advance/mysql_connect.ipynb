{
 "cells": [
  {
   "cell_type": "code",
   "execution_count": null,
   "metadata": {},
   "outputs": [],
   "source": [
    "import mysql.connector\n",
    "\n",
    "# Connect to MySQL database\n",
    "conn = mysql.connector.connect(\n",
    "    host=\"localhost\",\n",
    "    user=\"your_username\",\n",
    "    password=\"your_password\",\n",
    "    database=\"your_database\"\n",
    ")\n",
    "\n",
    "# Create a cursor object\n",
    "cursor = conn.cursor()\n",
    "\n",
    "# Example: Create a table (if not exists)\n",
    "cursor.execute('''CREATE TABLE IF NOT EXISTS users (\n",
    "                    id INT AUTO_INCREMENT PRIMARY KEY,\n",
    "                    username VARCHAR(50) NOT NULL,\n",
    "                    email VARCHAR(100) NOT NULL\n",
    "                )''')\n",
    "\n",
    "# Example: Insert data\n",
    "sql_insert = \"INSERT INTO users (username, email) VALUES (%s, %s)\"\n",
    "values = (\"Alice\", \"alice@example.com\")\n",
    "cursor.execute(sql_insert, values)\n",
    "conn.commit()\n",
    "\n",
    "# Example: Select data\n",
    "cursor.execute(\"SELECT * FROM users\")\n",
    "rows = cursor.fetchall()\n",
    "\n",
    "print(\"All users:\")\n",
    "for row in rows:\n",
    "    print(row)\n",
    "\n",
    "# Close cursor and connection\n",
    "cursor.close()\n",
    "conn.close()\n",
    "\n"
   ]
  }
 ],
 "metadata": {
  "language_info": {
   "name": "python"
  }
 },
 "nbformat": 4,
 "nbformat_minor": 2
}
