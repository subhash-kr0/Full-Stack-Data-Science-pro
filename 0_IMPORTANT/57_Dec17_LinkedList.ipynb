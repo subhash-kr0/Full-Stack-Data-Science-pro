{
  "nbformat": 4,
  "nbformat_minor": 0,
  "metadata": {
    "colab": {
      "provenance": []
    },
    "kernelspec": {
      "name": "python3",
      "display_name": "Python 3"
    },
    "language_info": {
      "name": "python"
    }
  },
  "cells": [
    {
      "cell_type": "code",
      "execution_count": null,
      "metadata": {
        "id": "6rnAIOKm7lFd"
      },
      "outputs": [],
      "source": [
        "class Node :\n",
        "\n",
        "  def __init__(self,data=None, next=None):\n",
        "    self.data = data\n",
        "    self.next = next\n",
        "\n",
        "  #Method to set the data value\n",
        "  def setData(self,data):\n",
        "    self.data = data\n",
        "\n",
        "  #method to get the data value\n",
        "  def getData(self):\n",
        "    return self.data\n",
        "\n",
        "  #Method of set the next\n",
        "  def setNext(self, next):\n",
        "    self.next = next\n",
        "\n",
        "  #Method to get the next\n",
        "  def getNext(self):\n",
        "    return self.next"
      ]
    },
    {
      "cell_type": "code",
      "source": [
        "def traverse(head):\n",
        "  temp = head\n",
        "  while(temp):\n",
        "    print(temp.getData(),end=\"->\")\n",
        "    temp = temp.getNext() #jump to the next node"
      ],
      "metadata": {
        "id": "fVrNxtWPDHf5"
      },
      "execution_count": null,
      "outputs": []
    },
    {
      "cell_type": "code",
      "source": [
        "#Find the length/size of linkedList... Input head\n",
        "def length(head):\n",
        "  len =0\n",
        "  while(head):\n",
        "    len +=1\n",
        "    head = head.getNext()\n",
        "  return len\n"
      ],
      "metadata": {
        "id": "0oJxd_i4DloC"
      },
      "execution_count": null,
      "outputs": []
    },
    {
      "cell_type": "code",
      "source": [
        "#Code for deleting/removing the Node from the LinkedList\n",
        "\n",
        "def remove(head,k):  #Supposed to return the new head of the transformed LL ( by removing kth node)\n",
        "  #Check if k is valid\n",
        "  if(k<0 or k>= length(head) or not head):\n",
        "    return head\n",
        "\n",
        "  if(k==0):\n",
        "    # We are removing the first element\n",
        "    head = head.getNext()\n",
        "  else :\n",
        "\n",
        "    # We jump to k-1th position\n",
        "    i=0\n",
        "    prev = head\n",
        "    while(i< k-1):\n",
        "      prev = prev.getNext()\n",
        "      i +=1\n",
        "    #prev will be pointing to the node left of the kth position\n",
        "    prev.setNext(prev.getNext().getNext())\n",
        "\n",
        "  return head\n",
        "\n",
        "head = Node(1)\n",
        "node2 = Node(2)\n",
        "node3 = Node(3)\n",
        "node4 = Node(4)\n",
        "node5 = Node(5)\n",
        "node6 = Node(6)\n",
        "node7 = Node(7)\n",
        "\n",
        "#Creating the linkage\n",
        "head.setNext(node2)\n",
        "node2.setNext(node3)\n",
        "node3.setNext(node4)\n",
        "node4.setNext(node5)\n",
        "node5.setNext(node6)\n",
        "node6.setNext(node7)\n",
        "\n",
        "traverse(head)\n",
        "print()\n",
        "head = remove(head,3)\n",
        "traverse(head)"
      ],
      "metadata": {
        "colab": {
          "base_uri": "https://localhost:8080/"
        },
        "id": "lGBaS1fqDLie",
        "outputId": "61c8a245-4d01-43b9-e687-c9c589417075"
      },
      "execution_count": null,
      "outputs": [
        {
          "output_type": "stream",
          "name": "stdout",
          "text": [
            "1->2->3->4->5->6->7->\n",
            "1->2->3->5->6->7->"
          ]
        }
      ]
    },
    {
      "cell_type": "code",
      "source": [
        "#Find the middle element in the linkedlist\n",
        "\n",
        "def findMidPoint(head):\n",
        "  slow = head\n",
        "  fast = head\n",
        "\n",
        "  while(fast !=None and fast.getNext()!= None):\n",
        "    slow = slow.getNext()\n",
        "    fast = fast.getNext().getNext()\n",
        "\n",
        "  return slow.getData()\n",
        "\n",
        "head = Node(1)\n",
        "node2 = Node(2)\n",
        "node3 = Node(3)\n",
        "node4 = Node(4)\n",
        "node5 = Node(5)\n",
        "node6 = Node(6)\n",
        "\n",
        "#Creating the linkage\n",
        "head.setNext(node2)\n",
        "node2.setNext(node3)\n",
        "node3.setNext(node4)\n",
        "node4.setNext(node5)\n",
        "node5.setNext(node6)\n",
        "\n",
        "traverse(head)\n",
        "print()\n",
        "print(findMidPoint(head))\n",
        "\n",
        "\n"
      ],
      "metadata": {
        "colab": {
          "base_uri": "https://localhost:8080/"
        },
        "id": "jXMrJ1QBRN2F",
        "outputId": "9f0f1c0c-c39f-4357-c056-a0c2a05a795f"
      },
      "execution_count": null,
      "outputs": [
        {
          "output_type": "stream",
          "name": "stdout",
          "text": [
            "1->2->3->4->5->6->\n",
            "4\n"
          ]
        }
      ]
    },
    {
      "cell_type": "code",
      "source": [
        "#Detect the cycle in the loop\n",
        "def isCyclePresent(head):\n",
        "  slow = head\n",
        "  fast = head\n",
        "\n",
        "  while(fast and fast.getNext()):\n",
        "    slow = slow.getNext()\n",
        "    fast = fast.getNext().getNext()\n",
        "\n",
        "    if fast and slow.getData() == fast.getData():\n",
        "      return True #cycle exists\n",
        "\n",
        "  return False #Cycle doesn't exist\n",
        "\n",
        "\n",
        "head = Node(1)\n",
        "node2 = Node(2)\n",
        "node3 = Node(3)\n",
        "node4 = Node(4)\n",
        "node5 = Node(5)\n",
        "node6 = Node(6)\n",
        "\n",
        "#Creating the linkage\n",
        "head.setNext(node2)\n",
        "node2.setNext(node3)\n",
        "node3.setNext(node4)\n",
        "node4.setNext(node5)\n",
        "node5.setNext(node6)\n",
        "node6.setNext(node3)\n",
        "\n",
        "print(isCyclePresent(head))\n"
      ],
      "metadata": {
        "colab": {
          "base_uri": "https://localhost:8080/"
        },
        "id": "g_Wbbsu6X9G3",
        "outputId": "fd9549c6-9de3-450e-e8a3-4a9d5d340175"
      },
      "execution_count": null,
      "outputs": [
        {
          "output_type": "stream",
          "name": "stdout",
          "text": [
            "True\n"
          ]
        }
      ]
    },
    {
      "cell_type": "code",
      "source": [
        "#Find the starting point of the loop\n",
        "def startingPointOfCycle(head):\n",
        "  slow = head\n",
        "  fast = head\n",
        "  isCyclePresent = False\n",
        "  while( fast and fast.getNext()):\n",
        "    slow = slow.getNext()\n",
        "    fast = fast.getNext().getNext()\n",
        "\n",
        "    if(fast and slow.getData() == fast.getData()):\n",
        "      isCyclePresent = True\n",
        "      break\n",
        "\n",
        "  if not isCyclePresent :\n",
        "    return None\n",
        "\n",
        "  temp = head\n",
        "  while(temp.getData() != slow.getData()):\n",
        "    temp = temp.getNext()\n",
        "    slow = slow.getNext()\n",
        "\n",
        "  return temp.getData()\n",
        "\n",
        "head = Node(1)\n",
        "node2 = Node(2)\n",
        "node3 = Node(3)\n",
        "node4 = Node(4)\n",
        "node5 = Node(5)\n",
        "node6 = Node(6)\n",
        "\n",
        "#Creating the linkage\n",
        "head.setNext(node2)\n",
        "node2.setNext(node3)\n",
        "node3.setNext(node4)\n",
        "node4.setNext(node5)\n",
        "node5.setNext(node6)\n",
        "node6.setNext(node3)\n",
        "\n",
        "print(startingPointOfCycle(head))\n",
        "\n"
      ],
      "metadata": {
        "colab": {
          "base_uri": "https://localhost:8080/"
        },
        "id": "xuipe1fmffoL",
        "outputId": "7face289-12ee-4d1e-b795-7df0dd6d8093"
      },
      "execution_count": null,
      "outputs": [
        {
          "output_type": "stream",
          "name": "stdout",
          "text": [
            "3\n"
          ]
        }
      ]
    },
    {
      "cell_type": "code",
      "source": [
        "#Make the above code for finding loop work for duplicate nodes"
      ],
      "metadata": {
        "id": "mlbhtMNRhFTQ"
      },
      "execution_count": null,
      "outputs": []
    },
    {
      "cell_type": "code",
      "source": [
        "def reverse(head):\n",
        "\n",
        "  # 1->2->3->4->5.  5->4->3->2->1"
      ],
      "metadata": {
        "id": "UVVOKzmdhLCh"
      },
      "execution_count": null,
      "outputs": []
    }
  ]
}