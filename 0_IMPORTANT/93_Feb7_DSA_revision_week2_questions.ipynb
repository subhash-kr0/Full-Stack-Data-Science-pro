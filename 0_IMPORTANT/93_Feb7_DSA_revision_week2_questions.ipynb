{
  "nbformat": 4,
  "nbformat_minor": 0,
  "metadata": {
    "colab": {
      "provenance": []
    },
    "kernelspec": {
      "name": "python3",
      "display_name": "Python 3"
    },
    "language_info": {
      "name": "python"
    }
  },
  "cells": [
    {
      "cell_type": "code",
      "execution_count": null,
      "metadata": {
        "colab": {
          "base_uri": "https://localhost:8080/"
        },
        "id": "WebzoUw_AFCL",
        "outputId": "4466f4e4-526b-4bf6-96a2-39e04e07689b"
      },
      "outputs": [
        {
          "output_type": "stream",
          "name": "stdout",
          "text": [
            "Hello Students\n"
          ]
        }
      ],
      "source": [
        "print(\"Hello Students\")"
      ]
    },
    {
      "cell_type": "code",
      "source": [
        "def mergeSort(arr):  # this fn sorts the arr passed as argument\n",
        "\n",
        "  if (len(arr)<=1):\n",
        "    return\n",
        "  # Divide into two parts\n",
        "  mid = len(arr)//2\n",
        "\n",
        "  #Left half of the arr\n",
        "  left = arr[:mid]\n",
        "\n",
        "  #Rught half of the arr\n",
        "  right = arr[mid:]\n",
        "\n",
        "  #sort the left part\n",
        "  mergeSort(left)\n",
        "\n",
        "  #sort the right part\n",
        "  mergeSort(right)\n",
        "\n",
        "  #logic to merge both individually sorted left and right\n",
        "  merge(left, right, arr )\n",
        "\n",
        "\n",
        "def merge(left, right, arr):\n",
        "  i=0 #index of left array\n",
        "  j=0 #index of right array\n",
        "  k=0 # index of the result arr\n",
        "\n",
        "  while i<len(left) and j<len(right):\n",
        "    if(left[i]<= right[j]):\n",
        "      arr[k] = left[i]\n",
        "      i +=1\n",
        "    else :\n",
        "      arr[k] = right[j]\n",
        "      j+=1\n",
        "    k +=1\n",
        "\n",
        "  #Check if any element is left in left array\n",
        "  while i < len(left):\n",
        "    arr[k] = left[i]\n",
        "    i +=1\n",
        "    k +=1\n",
        "  #Check if any element is left in right array\n",
        "  while j < len(right):\n",
        "    arr[k] = right[j]\n",
        "    j +=1\n",
        "    k +=1"
      ],
      "metadata": {
        "id": "yiYG7Y4nFFEo"
      },
      "execution_count": null,
      "outputs": []
    },
    {
      "cell_type": "code",
      "source": [
        "l1 = [12,11,13,5,6,7]\n",
        "mergeSort(l1)\n",
        "print(l1)"
      ],
      "metadata": {
        "colab": {
          "base_uri": "https://localhost:8080/"
        },
        "id": "zi2JiIa0J0X1",
        "outputId": "ec997ff1-cb9b-45e8-be5e-3c0aff70abb6"
      },
      "execution_count": null,
      "outputs": [
        {
          "output_type": "stream",
          "name": "stdout",
          "text": [
            "[5, 6, 7, 11, 12, 13]\n"
          ]
        }
      ]
    },
    {
      "cell_type": "code",
      "source": [
        "#Code for the quick sort\n",
        "\n",
        "# We to find the pivot element and re-arrange the entire array around pivot\n",
        "\n",
        "# Once recursively done for the entire array - sorted array with us\n",
        "\n",
        "def quickSort(arr, low, high):\n",
        "  # Base condition\n",
        "  if low >=high :\n",
        "    return\n",
        "\n",
        "  #find the pivot point and re-arrange the array around it\n",
        "  pi = partition(arr, low, high)\n",
        "\n",
        "  # pi index, left all small, right all big\n",
        "  #left of pi will be all small\n",
        "  # right of pi will be all big\n",
        "\n",
        "  #sort the left part\n",
        "  quickSort(arr, low, pi-1)\n",
        "\n",
        "  #sort the right part\n",
        "  quickSort(arr,pi+1, high)\n",
        "\n",
        "\n",
        "def partition(arr, low , high):\n",
        "  #We choose right most element as the pivot element\n",
        "  pivot = arr[high]\n",
        "\n",
        "  # Traverse through the entire array\n",
        "  # Compare the elements with the pivot element\n",
        "  i = low-1 # i indicate the available index for the smaller elements than pivot\n",
        "  for j in range(low,high):\n",
        "    if(arr[j]<= pivot):\n",
        "      #We need to set it in the left part of the array\n",
        "      i = i+1 # position where arr[j] should be\n",
        "\n",
        "      #swap arr[j] and i index elements\n",
        "      arr[i],arr[j] = arr[j],arr[i]\n",
        "\n",
        "  #Swap the pivot element with the next greater element of i\n",
        "  arr[i+1],arr[high] = arr[high],arr[i+1]\n",
        "\n",
        "  return i+1"
      ],
      "metadata": {
        "id": "IJWXi4SuQZ8h"
      },
      "execution_count": null,
      "outputs": []
    },
    {
      "cell_type": "code",
      "source": [
        "l1 = [12,11,13,5,6,7]\n",
        "quickSort(l1,0,len(l1)-1)\n",
        "print(l1)"
      ],
      "metadata": {
        "colab": {
          "base_uri": "https://localhost:8080/"
        },
        "id": "sS-kh7zjZr01",
        "outputId": "629122a1-cba5-4143-a7e5-cf978fc4adfb"
      },
      "execution_count": null,
      "outputs": [
        {
          "output_type": "stream",
          "name": "stdout",
          "text": [
            "[5, 6, 7, 11, 12, 13]\n"
          ]
        }
      ]
    }
  ]
}