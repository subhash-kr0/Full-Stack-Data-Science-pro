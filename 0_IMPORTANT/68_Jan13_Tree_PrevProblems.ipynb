{
  "nbformat": 4,
  "nbformat_minor": 0,
  "metadata": {
    "colab": {
      "provenance": []
    },
    "kernelspec": {
      "name": "python3",
      "display_name": "Python 3"
    },
    "language_info": {
      "name": "python"
    }
  },
  "cells": [
    {
      "cell_type": "code",
      "execution_count": null,
      "metadata": {
        "id": "sV702iG8Hebc"
      },
      "outputs": [],
      "source": [
        "class Node :\n",
        "\n",
        "  def __init__(self, data, next=None):\n",
        "    self.data = data\n",
        "    self.next = next\n",
        "\n",
        "  def getData(self):\n",
        "    return self.data\n",
        "\n",
        "  def setData(self, data):\n",
        "    self.data = data\n",
        "\n",
        "  def setNext(self, next):\n",
        "    self.next = next\n",
        "\n",
        "  def getNext(self):\n",
        "    return self.next"
      ]
    },
    {
      "cell_type": "code",
      "source": [
        "class Queue :\n",
        "  def __init__(self):\n",
        "    self.head = None\n",
        "    self.tail = None\n",
        "    self.size =0\n",
        "\n",
        "  def isEmpty(self):\n",
        "    return self.head == None # self.tail == None\n",
        "\n",
        "  def enQue(self, data):\n",
        "    node = Node(data)\n",
        "\n",
        "    if self.isEmpty():\n",
        "      self.head = node\n",
        "      self.tail = node\n",
        "    else :\n",
        "      self.tail.setNext(node)\n",
        "      self.tail = self.tail.getNext()\n",
        "    self.size +=1\n",
        "\n",
        "  def deQueue(self):\n",
        "    if self.isEmpty():\n",
        "      print(\"Queue underflow\")\n",
        "      return\n",
        "    data = self.head.getData()\n",
        "\n",
        "    #chek if it's the only element\n",
        "    if(self.head == self.tail):\n",
        "      self.head = None\n",
        "      self.tail= None #Becase after deQue, Queue will be empty\n",
        "    else:\n",
        "      self.head = self.head.getNext()\n",
        "    self.size -= 1\n",
        "    return data\n",
        "\n",
        "  def traverse(self):\n",
        "    temp = self.head\n",
        "    while(temp ):\n",
        "      print(temp.getData(), end=\"->\")\n",
        "      temp = temp.getNext()\n",
        "    print()\n",
        "\n",
        "\n",
        "\n"
      ],
      "metadata": {
        "id": "lQADPl2bMmcX"
      },
      "execution_count": null,
      "outputs": []
    },
    {
      "cell_type": "code",
      "source": [
        "#Implement Stack using Queue\n",
        "class stack :\n",
        "  def __init__(self):\n",
        "    self.q1 = Queue() # it will act as the main queue\n",
        "    self.q2 = Queue()\n",
        "\n",
        "  def isEmpty(self):\n",
        "    return self.q1.isEmpty()\n",
        "\n",
        "  def push(self , data):\n",
        "    self.q1.enQue(data)\n",
        "\n",
        "  def pop(self):\n",
        "    if self.isEmpty():\n",
        "      print(\"Stack underflow error\")\n",
        "    # We need to pick the last element added\n",
        "    data = None\n",
        "    while not self.q1.isEmpty():\n",
        "      data = self.q1.deQueue()\n",
        "      if( not self.q1.isEmpty()):\n",
        "        self.q2.enQue(data)\n",
        "    self.q1, self.q2 = self.q2,self.q1\n",
        "    return data\n",
        "\n",
        "  def traverse(self):\n",
        "    self.q1.traverse()"
      ],
      "metadata": {
        "id": "HhLKGiIlMtcU"
      },
      "execution_count": null,
      "outputs": []
    },
    {
      "cell_type": "code",
      "source": [
        "s = stackQ()"
      ],
      "metadata": {
        "id": "DK_pTTAMPZuj"
      },
      "execution_count": null,
      "outputs": []
    },
    {
      "cell_type": "code",
      "source": [
        "print(s.isEmpty())"
      ],
      "metadata": {
        "colab": {
          "base_uri": "https://localhost:8080/"
        },
        "id": "HThI_JgRPeVP",
        "outputId": "bc212854-b693-4234-bca5-d4f8165856b1"
      },
      "execution_count": null,
      "outputs": [
        {
          "output_type": "stream",
          "name": "stdout",
          "text": [
            "True\n"
          ]
        }
      ]
    },
    {
      "cell_type": "code",
      "source": [
        "s.push(5)\n",
        "s.push(9)\n",
        "s.push(3)\n",
        "s.push(2)"
      ],
      "metadata": {
        "id": "ibBnO6pjPhTV"
      },
      "execution_count": null,
      "outputs": []
    },
    {
      "cell_type": "code",
      "source": [
        "s.traverse()"
      ],
      "metadata": {
        "colab": {
          "base_uri": "https://localhost:8080/"
        },
        "id": "giqWeDG3PpG4",
        "outputId": "c0972af8-df7a-4264-9828-cb854799041d"
      },
      "execution_count": null,
      "outputs": [
        {
          "output_type": "stream",
          "name": "stdout",
          "text": [
            "5->9->3->2->\n"
          ]
        }
      ]
    },
    {
      "cell_type": "code",
      "source": [
        "print(s.pop())"
      ],
      "metadata": {
        "colab": {
          "base_uri": "https://localhost:8080/"
        },
        "id": "mWNsUJCNPrnx",
        "outputId": "d8f060ef-73e6-4fe2-d4d7-6da0b51ff18d"
      },
      "execution_count": null,
      "outputs": [
        {
          "output_type": "stream",
          "name": "stdout",
          "text": [
            "2\n"
          ]
        }
      ]
    },
    {
      "cell_type": "code",
      "source": [
        "#Implement Queue using Stack\n",
        "\n",
        "class QueueS :\n",
        "  def __init__(self):\n",
        "    self.s1 = stack()\n",
        "    self.s2 = stack()\n",
        "\n",
        "  def enQue(self, data):\n",
        "    self.s1.push(data)\n",
        "\n",
        "\n",
        "  def isEmpty(self):\n",
        "    return self.s1.isEmpty()\n",
        "\n",
        "  def deQue(self):\n",
        "    if( self.s1.isEmpty()):\n",
        "      print(\"Queue underflow exception\")\n",
        "      return\n",
        "    data = None\n",
        "    while not self.s1.isEmpty():\n",
        "      data = self.s1.pop()\n",
        "      if( not self.s1.isEmpty()):\n",
        "        self.s2.push(data)\n",
        "\n",
        "    while not self.s2.isEmpty():\n",
        "      self.s1.push(self.s2.pop())\n",
        "    return data\n",
        "\n",
        "  def traverse(self):\n",
        "    self.s1.traverse()\n",
        "\n",
        "\n",
        "\n"
      ],
      "metadata": {
        "id": "MenyTL2IT4dj"
      },
      "execution_count": null,
      "outputs": []
    },
    {
      "cell_type": "code",
      "source": [
        "q = QueueS()"
      ],
      "metadata": {
        "id": "YQLK6_fgUDw3"
      },
      "execution_count": null,
      "outputs": []
    },
    {
      "cell_type": "code",
      "source": [
        "print(q.isEmpty())"
      ],
      "metadata": {
        "colab": {
          "base_uri": "https://localhost:8080/"
        },
        "id": "-NIhTojs3WYr",
        "outputId": "7a412ef3-7842-4577-cb2b-61ae4492b5b3"
      },
      "execution_count": null,
      "outputs": [
        {
          "output_type": "stream",
          "name": "stdout",
          "text": [
            "True\n"
          ]
        }
      ]
    },
    {
      "cell_type": "code",
      "source": [
        "q.enQue(5)\n",
        "q.enQue(7)\n",
        "q.enQue(3)"
      ],
      "metadata": {
        "id": "18CWstoQ3ZrK"
      },
      "execution_count": null,
      "outputs": []
    },
    {
      "cell_type": "code",
      "source": [
        "q.traverse()"
      ],
      "metadata": {
        "colab": {
          "base_uri": "https://localhost:8080/"
        },
        "id": "jfRtFDSO3jFe",
        "outputId": "7d253e21-95f5-478e-92a1-e32c6c9a29b1"
      },
      "execution_count": null,
      "outputs": [
        {
          "output_type": "stream",
          "name": "stdout",
          "text": [
            "5->7->3->\n"
          ]
        }
      ]
    },
    {
      "cell_type": "code",
      "source": [
        "print(q.deQue())"
      ],
      "metadata": {
        "colab": {
          "base_uri": "https://localhost:8080/"
        },
        "id": "DcXCHKOc3lpt",
        "outputId": "0e8258b3-e34c-422d-efe6-b974dbe8ad15"
      },
      "execution_count": null,
      "outputs": [
        {
          "output_type": "stream",
          "name": "stdout",
          "text": [
            "Queue underflow exception\n",
            "None\n"
          ]
        }
      ]
    }
  ]
}