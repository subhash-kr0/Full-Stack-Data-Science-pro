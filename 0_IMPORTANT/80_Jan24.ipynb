{
  "nbformat": 4,
  "nbformat_minor": 0,
  "metadata": {
    "colab": {
      "provenance": []
    },
    "kernelspec": {
      "name": "python3",
      "display_name": "Python 3"
    },
    "language_info": {
      "name": "python"
    }
  },
  "cells": [
    {
      "cell_type": "code",
      "execution_count": null,
      "metadata": {
        "id": "wYDPjxQF4_vU"
      },
      "outputs": [],
      "source": [
        "# N Queen Problem\n",
        "# Return True if it's safe to place queen on the board\n",
        "def isSafeToPlaceQueen(board , row , col , n):\n",
        "\n",
        "  # Check in the left side\n",
        "  for i in range(col):\n",
        "    if board[row][i]==1 :\n",
        "      return False\n",
        "\n",
        "  #Check in the upper left diagonal\n",
        "  for i, j in zip(range(row,-1,-1),range(col,-1,-1)):\n",
        "    if board[i][j] ==1:\n",
        "      return False\n",
        "\n",
        "  #Check in the lower left diagonal\n",
        "  for i,j in zip(range(row,n,1 ), range(col, -1,-1)):\n",
        "    if board[i][j]==1:\n",
        "      return False\n",
        "\n",
        "  return True\n",
        "\n",
        "\n",
        "def solveNQ(board,n):\n",
        "\n",
        "  if not solveNQUtil(board,0,n):\n",
        "    print(\"Solution doesn't exist\")\n",
        "    return\n",
        "\n",
        "  printBoard(board,n)\n",
        "\n",
        "# Should return True if we are able to place all the queens\n",
        "def solveNQUtil(board , col , n):\n",
        "  if(col >=n): #Base condition\n",
        "    return True  # Means we have bee able to put queens in all the columns\n",
        "\n",
        "  # Check for all the rows\n",
        "  for row in range(n) :\n",
        "    if isSafeToPlaceQueen(board,row,col, n) :\n",
        "      board[row][col]= 1 #Set the queen\n",
        "\n",
        "      #Recursively try for the next columns\n",
        "      if solveNQUtil(board,col+1,n):\n",
        "        return True\n",
        "      #Back Tracking\n",
        "      board[row][col]= 0 # Queen can't be set here\n",
        "\n",
        "  return False #Won't be able to place the queen\n",
        "\n",
        "\n",
        "def printBoard(board,n):\n",
        "  for i in range(n):\n",
        "    for j in range(n):\n",
        "      if board[i][j]==1 :\n",
        "        print(\"Q\",end=\" \")\n",
        "      else :\n",
        "        print(\".\",end=\" \")\n",
        "    print()\n"
      ]
    },
    {
      "cell_type": "code",
      "source": [
        "board = [[0,0,0,0],\n",
        "         [0,0,0,0],\n",
        "         [0,0,0,0],\n",
        "         [0,0,0,0]\n",
        "         ]\n",
        "board8 = [[0,0,0,0,0,0,0,0],\n",
        "          [0,0,0,0,0,0,0,0],\n",
        "          [0,0,0,0,0,0,0,0],\n",
        "          [0,0,0,0,0,0,0,0],\n",
        "          [0,0,0,0,0,0,0,0],\n",
        "          [0,0,0,0,0,0,0,0],\n",
        "          [0,0,0,0,0,0,0,0],\n",
        "          [0,0,0,0,0,0,0,0]\n",
        "          ]\n",
        "solveNQ(board8,8)"
      ],
      "metadata": {
        "colab": {
          "base_uri": "https://localhost:8080/"
        },
        "id": "sAyYxLR5IulI",
        "outputId": "ed16d1e6-bb94-4519-d911-7b8eea93f02e"
      },
      "execution_count": null,
      "outputs": [
        {
          "output_type": "stream",
          "name": "stdout",
          "text": [
            "Q . . . . . . . \n",
            ". . . . . . Q . \n",
            ". . . . Q . . . \n",
            ". . . . . . . Q \n",
            ". Q . . . . . . \n",
            ". . . Q . . . . \n",
            ". . . . . Q . . \n",
            ". . Q . . . . . \n"
          ]
        }
      ]
    },
    {
      "cell_type": "code",
      "source": [
        "a = [\"Vishwa\", \"Mohan\", \"Hello\"]\n",
        "b = [1,2,3]\n",
        "res = zip(a,b)\n",
        "\n",
        "for i in res :\n",
        "  print(i)"
      ],
      "metadata": {
        "colab": {
          "base_uri": "https://localhost:8080/"
        },
        "id": "dDlFNmbU_h8u",
        "outputId": "63702a6b-f0ea-4376-b01a-341ee9d7cf91"
      },
      "execution_count": null,
      "outputs": [
        {
          "output_type": "stream",
          "name": "stdout",
          "text": [
            "('Vishwa', 1)\n",
            "('Mohan', 2)\n",
            "('Hello', 3)\n"
          ]
        }
      ]
    },
    {
      "cell_type": "code",
      "source": [
        "def wordBreak(wordList , word):\n",
        "  if word == \"\":\n",
        "    return True\n",
        "  else :\n",
        "    wordLen = len(word)\n",
        "    for i in range(1, wordLen+1):\n",
        "      if word[:i] in wordList and wordBreak(wordList, word[i:]):\n",
        "        return True\n",
        "    return False"
      ],
      "metadata": {
        "id": "-yWUf6CHPKNY"
      },
      "execution_count": null,
      "outputs": []
    },
    {
      "cell_type": "code",
      "source": [
        "print(wordBreak([\"leet\",\"code\"], \"leetcodes\"))\n",
        "print(wordBreak([\"I\",\"am\", \"sam\", \"sung\", \"love\", \"vishwa\"], \"Vishwalovesamsung\"))"
      ],
      "metadata": {
        "colab": {
          "base_uri": "https://localhost:8080/"
        },
        "id": "JDQVBRTfPRTi",
        "outputId": "12cebcb8-35eb-401a-9ef9-f4401a83e180"
      },
      "execution_count": null,
      "outputs": [
        {
          "output_type": "stream",
          "name": "stdout",
          "text": [
            "False\n",
            "False\n"
          ]
        }
      ]
    },
    {
      "cell_type": "markdown",
      "source": [
        "List : ordered, mutable, c"
      ],
      "metadata": {
        "id": "I6qVdXHU64qw"
      }
    }
  ]
}