{
 "cells": [
  {
   "cell_type": "code",
   "execution_count": 1,
   "id": "72fe55df",
   "metadata": {},
   "outputs": [
    {
     "data": {
      "text/plain": [
       "[1, 2, 3, 4, 5]"
      ]
     },
     "execution_count": 1,
     "metadata": {},
     "output_type": "execute_result"
    }
   ],
   "source": [
    "data = [1, 2, 3, 4, 5]\n",
    "data"
   ]
  },
  {
   "cell_type": "code",
   "execution_count": 2,
   "id": "7b8ea3b4",
   "metadata": {},
   "outputs": [],
   "source": [
    "import pandas as pd\n",
    "import numpy as np\n",
    "import seaborn as sns"
   ]
  },
  {
   "cell_type": "code",
   "execution_count": 3,
   "id": "57b821b5",
   "metadata": {},
   "outputs": [
    {
     "data": {
      "text/plain": [
       "3.0"
      ]
     },
     "execution_count": 3,
     "metadata": {},
     "output_type": "execute_result"
    }
   ],
   "source": [
    "#measures of central tendency\n",
    "np.mean(data)"
   ]
  },
  {
   "cell_type": "code",
   "execution_count": 4,
   "id": "db685e2c",
   "metadata": {},
   "outputs": [
    {
     "data": {
      "text/html": [
       "<div>\n",
       "<style scoped>\n",
       "    .dataframe tbody tr th:only-of-type {\n",
       "        vertical-align: middle;\n",
       "    }\n",
       "\n",
       "    .dataframe tbody tr th {\n",
       "        vertical-align: top;\n",
       "    }\n",
       "\n",
       "    .dataframe thead th {\n",
       "        text-align: right;\n",
       "    }\n",
       "</style>\n",
       "<table border=\"1\" class=\"dataframe\">\n",
       "  <thead>\n",
       "    <tr style=\"text-align: right;\">\n",
       "      <th></th>\n",
       "      <th>total_bill</th>\n",
       "      <th>tip</th>\n",
       "      <th>sex</th>\n",
       "      <th>smoker</th>\n",
       "      <th>day</th>\n",
       "      <th>time</th>\n",
       "      <th>size</th>\n",
       "    </tr>\n",
       "  </thead>\n",
       "  <tbody>\n",
       "    <tr>\n",
       "      <th>0</th>\n",
       "      <td>16.99</td>\n",
       "      <td>1.01</td>\n",
       "      <td>Female</td>\n",
       "      <td>No</td>\n",
       "      <td>Sun</td>\n",
       "      <td>Dinner</td>\n",
       "      <td>2</td>\n",
       "    </tr>\n",
       "    <tr>\n",
       "      <th>1</th>\n",
       "      <td>10.34</td>\n",
       "      <td>1.66</td>\n",
       "      <td>Male</td>\n",
       "      <td>No</td>\n",
       "      <td>Sun</td>\n",
       "      <td>Dinner</td>\n",
       "      <td>3</td>\n",
       "    </tr>\n",
       "    <tr>\n",
       "      <th>2</th>\n",
       "      <td>21.01</td>\n",
       "      <td>3.50</td>\n",
       "      <td>Male</td>\n",
       "      <td>No</td>\n",
       "      <td>Sun</td>\n",
       "      <td>Dinner</td>\n",
       "      <td>3</td>\n",
       "    </tr>\n",
       "    <tr>\n",
       "      <th>3</th>\n",
       "      <td>23.68</td>\n",
       "      <td>3.31</td>\n",
       "      <td>Male</td>\n",
       "      <td>No</td>\n",
       "      <td>Sun</td>\n",
       "      <td>Dinner</td>\n",
       "      <td>2</td>\n",
       "    </tr>\n",
       "    <tr>\n",
       "      <th>4</th>\n",
       "      <td>24.59</td>\n",
       "      <td>3.61</td>\n",
       "      <td>Female</td>\n",
       "      <td>No</td>\n",
       "      <td>Sun</td>\n",
       "      <td>Dinner</td>\n",
       "      <td>4</td>\n",
       "    </tr>\n",
       "    <tr>\n",
       "      <th>...</th>\n",
       "      <td>...</td>\n",
       "      <td>...</td>\n",
       "      <td>...</td>\n",
       "      <td>...</td>\n",
       "      <td>...</td>\n",
       "      <td>...</td>\n",
       "      <td>...</td>\n",
       "    </tr>\n",
       "    <tr>\n",
       "      <th>239</th>\n",
       "      <td>29.03</td>\n",
       "      <td>5.92</td>\n",
       "      <td>Male</td>\n",
       "      <td>No</td>\n",
       "      <td>Sat</td>\n",
       "      <td>Dinner</td>\n",
       "      <td>3</td>\n",
       "    </tr>\n",
       "    <tr>\n",
       "      <th>240</th>\n",
       "      <td>27.18</td>\n",
       "      <td>2.00</td>\n",
       "      <td>Female</td>\n",
       "      <td>Yes</td>\n",
       "      <td>Sat</td>\n",
       "      <td>Dinner</td>\n",
       "      <td>2</td>\n",
       "    </tr>\n",
       "    <tr>\n",
       "      <th>241</th>\n",
       "      <td>22.67</td>\n",
       "      <td>2.00</td>\n",
       "      <td>Male</td>\n",
       "      <td>Yes</td>\n",
       "      <td>Sat</td>\n",
       "      <td>Dinner</td>\n",
       "      <td>2</td>\n",
       "    </tr>\n",
       "    <tr>\n",
       "      <th>242</th>\n",
       "      <td>17.82</td>\n",
       "      <td>1.75</td>\n",
       "      <td>Male</td>\n",
       "      <td>No</td>\n",
       "      <td>Sat</td>\n",
       "      <td>Dinner</td>\n",
       "      <td>2</td>\n",
       "    </tr>\n",
       "    <tr>\n",
       "      <th>243</th>\n",
       "      <td>18.78</td>\n",
       "      <td>3.00</td>\n",
       "      <td>Female</td>\n",
       "      <td>No</td>\n",
       "      <td>Thur</td>\n",
       "      <td>Dinner</td>\n",
       "      <td>2</td>\n",
       "    </tr>\n",
       "  </tbody>\n",
       "</table>\n",
       "<p>244 rows × 7 columns</p>\n",
       "</div>"
      ],
      "text/plain": [
       "     total_bill   tip     sex smoker   day    time  size\n",
       "0         16.99  1.01  Female     No   Sun  Dinner     2\n",
       "1         10.34  1.66    Male     No   Sun  Dinner     3\n",
       "2         21.01  3.50    Male     No   Sun  Dinner     3\n",
       "3         23.68  3.31    Male     No   Sun  Dinner     2\n",
       "4         24.59  3.61  Female     No   Sun  Dinner     4\n",
       "..          ...   ...     ...    ...   ...     ...   ...\n",
       "239       29.03  5.92    Male     No   Sat  Dinner     3\n",
       "240       27.18  2.00  Female    Yes   Sat  Dinner     2\n",
       "241       22.67  2.00    Male    Yes   Sat  Dinner     2\n",
       "242       17.82  1.75    Male     No   Sat  Dinner     2\n",
       "243       18.78  3.00  Female     No  Thur  Dinner     2\n",
       "\n",
       "[244 rows x 7 columns]"
      ]
     },
     "execution_count": 4,
     "metadata": {},
     "output_type": "execute_result"
    }
   ],
   "source": [
    "df = sns.load_dataset('tips')\n",
    "df"
   ]
  },
  {
   "cell_type": "code",
   "execution_count": 5,
   "id": "6471883c",
   "metadata": {},
   "outputs": [
    {
     "data": {
      "text/plain": [
       "19.78594262295082"
      ]
     },
     "execution_count": 5,
     "metadata": {},
     "output_type": "execute_result"
    }
   ],
   "source": [
    "np.mean(df['total_bill'])"
   ]
  },
  {
   "cell_type": "code",
   "execution_count": 6,
   "id": "d31663a3",
   "metadata": {},
   "outputs": [
    {
     "data": {
      "text/html": [
       "<div>\n",
       "<style scoped>\n",
       "    .dataframe tbody tr th:only-of-type {\n",
       "        vertical-align: middle;\n",
       "    }\n",
       "\n",
       "    .dataframe tbody tr th {\n",
       "        vertical-align: top;\n",
       "    }\n",
       "\n",
       "    .dataframe thead th {\n",
       "        text-align: right;\n",
       "    }\n",
       "</style>\n",
       "<table border=\"1\" class=\"dataframe\">\n",
       "  <thead>\n",
       "    <tr style=\"text-align: right;\">\n",
       "      <th></th>\n",
       "      <th>total_bill</th>\n",
       "      <th>tip</th>\n",
       "      <th>size</th>\n",
       "    </tr>\n",
       "  </thead>\n",
       "  <tbody>\n",
       "    <tr>\n",
       "      <th>count</th>\n",
       "      <td>244.000000</td>\n",
       "      <td>244.000000</td>\n",
       "      <td>244.000000</td>\n",
       "    </tr>\n",
       "    <tr>\n",
       "      <th>mean</th>\n",
       "      <td>19.785943</td>\n",
       "      <td>2.998279</td>\n",
       "      <td>2.569672</td>\n",
       "    </tr>\n",
       "    <tr>\n",
       "      <th>std</th>\n",
       "      <td>8.902412</td>\n",
       "      <td>1.383638</td>\n",
       "      <td>0.951100</td>\n",
       "    </tr>\n",
       "    <tr>\n",
       "      <th>min</th>\n",
       "      <td>3.070000</td>\n",
       "      <td>1.000000</td>\n",
       "      <td>1.000000</td>\n",
       "    </tr>\n",
       "    <tr>\n",
       "      <th>25%</th>\n",
       "      <td>13.347500</td>\n",
       "      <td>2.000000</td>\n",
       "      <td>2.000000</td>\n",
       "    </tr>\n",
       "    <tr>\n",
       "      <th>50%</th>\n",
       "      <td>17.795000</td>\n",
       "      <td>2.900000</td>\n",
       "      <td>2.000000</td>\n",
       "    </tr>\n",
       "    <tr>\n",
       "      <th>75%</th>\n",
       "      <td>24.127500</td>\n",
       "      <td>3.562500</td>\n",
       "      <td>3.000000</td>\n",
       "    </tr>\n",
       "    <tr>\n",
       "      <th>max</th>\n",
       "      <td>50.810000</td>\n",
       "      <td>10.000000</td>\n",
       "      <td>6.000000</td>\n",
       "    </tr>\n",
       "  </tbody>\n",
       "</table>\n",
       "</div>"
      ],
      "text/plain": [
       "       total_bill         tip        size\n",
       "count  244.000000  244.000000  244.000000\n",
       "mean    19.785943    2.998279    2.569672\n",
       "std      8.902412    1.383638    0.951100\n",
       "min      3.070000    1.000000    1.000000\n",
       "25%     13.347500    2.000000    2.000000\n",
       "50%     17.795000    2.900000    2.000000\n",
       "75%     24.127500    3.562500    3.000000\n",
       "max     50.810000   10.000000    6.000000"
      ]
     },
     "execution_count": 6,
     "metadata": {},
     "output_type": "execute_result"
    }
   ],
   "source": [
    "df.describe()"
   ]
  },
  {
   "cell_type": "code",
   "execution_count": 7,
   "id": "086b1706",
   "metadata": {},
   "outputs": [
    {
     "data": {
      "text/plain": [
       "[1, 2, 3, 4, 5]"
      ]
     },
     "execution_count": 7,
     "metadata": {},
     "output_type": "execute_result"
    }
   ],
   "source": [
    "data"
   ]
  },
  {
   "cell_type": "code",
   "execution_count": 8,
   "id": "9e5dabe3",
   "metadata": {},
   "outputs": [
    {
     "data": {
      "text/plain": [
       "3.0"
      ]
     },
     "execution_count": 8,
     "metadata": {},
     "output_type": "execute_result"
    }
   ],
   "source": [
    "np.median(data)"
   ]
  },
  {
   "cell_type": "code",
   "execution_count": 9,
   "id": "cf7765aa",
   "metadata": {},
   "outputs": [],
   "source": [
    "data = [1, 2, 3, 4, 500]"
   ]
  },
  {
   "cell_type": "code",
   "execution_count": 10,
   "id": "1a4ed9d6",
   "metadata": {},
   "outputs": [
    {
     "data": {
      "text/plain": [
       "102.0"
      ]
     },
     "execution_count": 10,
     "metadata": {},
     "output_type": "execute_result"
    }
   ],
   "source": [
    "np.mean(data)"
   ]
  },
  {
   "cell_type": "code",
   "execution_count": 11,
   "id": "24bf4d33",
   "metadata": {},
   "outputs": [
    {
     "data": {
      "text/plain": [
       "3.0"
      ]
     },
     "execution_count": 11,
     "metadata": {},
     "output_type": "execute_result"
    }
   ],
   "source": [
    "np.median(data)"
   ]
  },
  {
   "cell_type": "code",
   "execution_count": 12,
   "id": "d2dec696",
   "metadata": {},
   "outputs": [],
   "source": [
    "#mean is inflated by outliers but median not"
   ]
  },
  {
   "cell_type": "code",
   "execution_count": 13,
   "id": "e37a4402",
   "metadata": {},
   "outputs": [
    {
     "data": {
      "text/plain": [
       "17.795"
      ]
     },
     "execution_count": 13,
     "metadata": {},
     "output_type": "execute_result"
    }
   ],
   "source": [
    "\n",
    "np.median(df['total_bill'])"
   ]
  },
  {
   "cell_type": "code",
   "execution_count": 14,
   "id": "1a8cce00",
   "metadata": {},
   "outputs": [],
   "source": [
    "data = [1, 2,3, 3, 3, 3, 4, 500]"
   ]
  },
  {
   "cell_type": "code",
   "execution_count": 15,
   "id": "f4e59039",
   "metadata": {},
   "outputs": [
    {
     "data": {
      "text/plain": [
       "[1, 2, 3, 3, 3, 3, 4, 500]"
      ]
     },
     "execution_count": 15,
     "metadata": {},
     "output_type": "execute_result"
    }
   ],
   "source": [
    "data"
   ]
  },
  {
   "cell_type": "code",
   "execution_count": 16,
   "id": "7e31fefd",
   "metadata": {},
   "outputs": [],
   "source": [
    "# np.mode(data)#this will throw error"
   ]
  },
  {
   "cell_type": "code",
   "execution_count": 17,
   "id": "a5d4094a",
   "metadata": {},
   "outputs": [
    {
     "data": {
      "text/plain": [
       "3"
      ]
     },
     "execution_count": 17,
     "metadata": {},
     "output_type": "execute_result"
    }
   ],
   "source": [
    "import statistics\n",
    "statistics.mode(data)"
   ]
  },
  {
   "cell_type": "code",
   "execution_count": 18,
   "id": "ee73bdbb",
   "metadata": {},
   "outputs": [
    {
     "data": {
      "text/plain": [
       "[1, 2, 3, 3, 3, 3, 4, 500]"
      ]
     },
     "execution_count": 18,
     "metadata": {},
     "output_type": "execute_result"
    }
   ],
   "source": [
    "data"
   ]
  },
  {
   "cell_type": "code",
   "execution_count": 19,
   "id": "d3a29630",
   "metadata": {},
   "outputs": [
    {
     "data": {
      "text/plain": [
       "array([2.75])"
      ]
     },
     "execution_count": 19,
     "metadata": {},
     "output_type": "execute_result"
    }
   ],
   "source": [
    "np.percentile(data, [25]) #25 percentage of the data is below 2.75"
   ]
  },
  {
   "cell_type": "code",
   "execution_count": 20,
   "id": "41c40458",
   "metadata": {},
   "outputs": [
    {
     "data": {
      "text/plain": [
       "array([  2.75,   3.  ,   3.25, 326.4 , 361.12, 395.84, 430.56, 465.28,\n",
       "       500.  ])"
      ]
     },
     "execution_count": 20,
     "metadata": {},
     "output_type": "execute_result"
    }
   ],
   "source": [
    "np.percentile(data, [25, 50, 75, 95, 96, 97, 98, 99, 100])"
   ]
  },
  {
   "cell_type": "code",
   "execution_count": 21,
   "id": "775dd4af",
   "metadata": {},
   "outputs": [
    {
     "data": {
      "text/plain": [
       "[1, 2, 3, 3, 3, 3, 4, 500]"
      ]
     },
     "execution_count": 21,
     "metadata": {},
     "output_type": "execute_result"
    }
   ],
   "source": [
    "data"
   ]
  },
  {
   "cell_type": "code",
   "execution_count": 22,
   "id": "e38e30af",
   "metadata": {},
   "outputs": [],
   "source": [
    "data.append(-500)"
   ]
  },
  {
   "cell_type": "code",
   "execution_count": 23,
   "id": "fd9e9c4d",
   "metadata": {},
   "outputs": [],
   "source": [
    "data = [1, 2, 3, 3, 3, 3, 4, 20, -20]"
   ]
  },
  {
   "cell_type": "code",
   "execution_count": 24,
   "id": "1e25a47f",
   "metadata": {},
   "outputs": [],
   "source": [
    "#outliers"
   ]
  },
  {
   "cell_type": "code",
   "execution_count": 25,
   "id": "4860716c",
   "metadata": {},
   "outputs": [
    {
     "data": {
      "text/plain": [
       "<Axes: >"
      ]
     },
     "execution_count": 25,
     "metadata": {},
     "output_type": "execute_result"
    },
    {
     "data": {
      "image/png": "[encoded data removed]",
      "text/plain": [
       "<Figure size 640x480 with 1 Axes>"
      ]
     },
     "metadata": {},
     "output_type": "display_data"
    }
   ],
   "source": [
    "sns.boxplot(data)"
   ]
  },
  {
   "cell_type": "code",
   "execution_count": 26,
   "id": "89c285ba",
   "metadata": {},
   "outputs": [
    {
     "data": {
      "text/plain": [
       "[1, 2, 3, 3, 3, 3, 4, 20, -20]"
      ]
     },
     "execution_count": 26,
     "metadata": {},
     "output_type": "execute_result"
    }
   ],
   "source": [
    "#measures of dispersion\n",
    "data"
   ]
  },
  {
   "cell_type": "code",
   "execution_count": 27,
   "id": "97568cf0",
   "metadata": {},
   "outputs": [
    {
     "data": {
      "text/plain": [
       "90.76543209876543"
      ]
     },
     "execution_count": 27,
     "metadata": {},
     "output_type": "execute_result"
    }
   ],
   "source": [
    "np.var(data)"
   ]
  },
  {
   "cell_type": "code",
   "execution_count": 28,
   "id": "c4b52180",
   "metadata": {},
   "outputs": [
    {
     "data": {
      "text/plain": [
       "9.527089382322673"
      ]
     },
     "execution_count": 28,
     "metadata": {},
     "output_type": "execute_result"
    }
   ],
   "source": [
    "np.std(data)"
   ]
  },
  {
   "cell_type": "code",
   "execution_count": 29,
   "id": "c71e1dc3",
   "metadata": {},
   "outputs": [
    {
     "data": {
      "text/plain": [
       "102.11111111111111"
      ]
     },
     "execution_count": 29,
     "metadata": {},
     "output_type": "execute_result"
    }
   ],
   "source": [
    "statistics.variance(data) #sample variance (n-1)"
   ]
  },
  {
   "cell_type": "code",
   "execution_count": 30,
   "id": "466c56e7",
   "metadata": {},
   "outputs": [
    {
     "data": {
      "text/plain": [
       "90.76543209876543"
      ]
     },
     "execution_count": 30,
     "metadata": {},
     "output_type": "execute_result"
    }
   ],
   "source": [
    "statistics.pvariance(data) #population variance"
   ]
  },
  {
   "cell_type": "code",
   "execution_count": 31,
   "id": "c753eedb",
   "metadata": {},
   "outputs": [
    {
     "data": {
      "text/plain": [
       "10.105004260816079"
      ]
     },
     "execution_count": 31,
     "metadata": {},
     "output_type": "execute_result"
    }
   ],
   "source": [
    "import math\n",
    "math.sqrt(statistics.variance(data))"
   ]
  },
  {
   "cell_type": "code",
   "execution_count": 32,
   "id": "b228c990",
   "metadata": {},
   "outputs": [
    {
     "data": {
      "text/plain": [
       "[1, 2, 3, 3, 3, 3, 4, 20, -20]"
      ]
     },
     "execution_count": 32,
     "metadata": {},
     "output_type": "execute_result"
    }
   ],
   "source": [
    "data"
   ]
  },
  {
   "cell_type": "code",
   "execution_count": 33,
   "id": "562c9097",
   "metadata": {},
   "outputs": [
    {
     "data": {
      "text/plain": [
       "9"
      ]
     },
     "execution_count": 33,
     "metadata": {},
     "output_type": "execute_result"
    }
   ],
   "source": [
    "len(data)"
   ]
  },
  {
   "cell_type": "code",
   "execution_count": 34,
   "id": "ea32ca8c",
   "metadata": {},
   "outputs": [
    {
     "data": {
      "text/html": [
       "<div>\n",
       "<style scoped>\n",
       "    .dataframe tbody tr th:only-of-type {\n",
       "        vertical-align: middle;\n",
       "    }\n",
       "\n",
       "    .dataframe tbody tr th {\n",
       "        vertical-align: top;\n",
       "    }\n",
       "\n",
       "    .dataframe thead th {\n",
       "        text-align: right;\n",
       "    }\n",
       "</style>\n",
       "<table border=\"1\" class=\"dataframe\">\n",
       "  <thead>\n",
       "    <tr style=\"text-align: right;\">\n",
       "      <th></th>\n",
       "      <th>total_bill</th>\n",
       "      <th>tip</th>\n",
       "      <th>sex</th>\n",
       "      <th>smoker</th>\n",
       "      <th>day</th>\n",
       "      <th>time</th>\n",
       "      <th>size</th>\n",
       "    </tr>\n",
       "  </thead>\n",
       "  <tbody>\n",
       "    <tr>\n",
       "      <th>0</th>\n",
       "      <td>16.99</td>\n",
       "      <td>1.01</td>\n",
       "      <td>Female</td>\n",
       "      <td>No</td>\n",
       "      <td>Sun</td>\n",
       "      <td>Dinner</td>\n",
       "      <td>2</td>\n",
       "    </tr>\n",
       "    <tr>\n",
       "      <th>1</th>\n",
       "      <td>10.34</td>\n",
       "      <td>1.66</td>\n",
       "      <td>Male</td>\n",
       "      <td>No</td>\n",
       "      <td>Sun</td>\n",
       "      <td>Dinner</td>\n",
       "      <td>3</td>\n",
       "    </tr>\n",
       "    <tr>\n",
       "      <th>2</th>\n",
       "      <td>21.01</td>\n",
       "      <td>3.50</td>\n",
       "      <td>Male</td>\n",
       "      <td>No</td>\n",
       "      <td>Sun</td>\n",
       "      <td>Dinner</td>\n",
       "      <td>3</td>\n",
       "    </tr>\n",
       "    <tr>\n",
       "      <th>3</th>\n",
       "      <td>23.68</td>\n",
       "      <td>3.31</td>\n",
       "      <td>Male</td>\n",
       "      <td>No</td>\n",
       "      <td>Sun</td>\n",
       "      <td>Dinner</td>\n",
       "      <td>2</td>\n",
       "    </tr>\n",
       "    <tr>\n",
       "      <th>4</th>\n",
       "      <td>24.59</td>\n",
       "      <td>3.61</td>\n",
       "      <td>Female</td>\n",
       "      <td>No</td>\n",
       "      <td>Sun</td>\n",
       "      <td>Dinner</td>\n",
       "      <td>4</td>\n",
       "    </tr>\n",
       "    <tr>\n",
       "      <th>...</th>\n",
       "      <td>...</td>\n",
       "      <td>...</td>\n",
       "      <td>...</td>\n",
       "      <td>...</td>\n",
       "      <td>...</td>\n",
       "      <td>...</td>\n",
       "      <td>...</td>\n",
       "    </tr>\n",
       "    <tr>\n",
       "      <th>239</th>\n",
       "      <td>29.03</td>\n",
       "      <td>5.92</td>\n",
       "      <td>Male</td>\n",
       "      <td>No</td>\n",
       "      <td>Sat</td>\n",
       "      <td>Dinner</td>\n",
       "      <td>3</td>\n",
       "    </tr>\n",
       "    <tr>\n",
       "      <th>240</th>\n",
       "      <td>27.18</td>\n",
       "      <td>2.00</td>\n",
       "      <td>Female</td>\n",
       "      <td>Yes</td>\n",
       "      <td>Sat</td>\n",
       "      <td>Dinner</td>\n",
       "      <td>2</td>\n",
       "    </tr>\n",
       "    <tr>\n",
       "      <th>241</th>\n",
       "      <td>22.67</td>\n",
       "      <td>2.00</td>\n",
       "      <td>Male</td>\n",
       "      <td>Yes</td>\n",
       "      <td>Sat</td>\n",
       "      <td>Dinner</td>\n",
       "      <td>2</td>\n",
       "    </tr>\n",
       "    <tr>\n",
       "      <th>242</th>\n",
       "      <td>17.82</td>\n",
       "      <td>1.75</td>\n",
       "      <td>Male</td>\n",
       "      <td>No</td>\n",
       "      <td>Sat</td>\n",
       "      <td>Dinner</td>\n",
       "      <td>2</td>\n",
       "    </tr>\n",
       "    <tr>\n",
       "      <th>243</th>\n",
       "      <td>18.78</td>\n",
       "      <td>3.00</td>\n",
       "      <td>Female</td>\n",
       "      <td>No</td>\n",
       "      <td>Thur</td>\n",
       "      <td>Dinner</td>\n",
       "      <td>2</td>\n",
       "    </tr>\n",
       "  </tbody>\n",
       "</table>\n",
       "<p>244 rows × 7 columns</p>\n",
       "</div>"
      ],
      "text/plain": [
       "     total_bill   tip     sex smoker   day    time  size\n",
       "0         16.99  1.01  Female     No   Sun  Dinner     2\n",
       "1         10.34  1.66    Male     No   Sun  Dinner     3\n",
       "2         21.01  3.50    Male     No   Sun  Dinner     3\n",
       "3         23.68  3.31    Male     No   Sun  Dinner     2\n",
       "4         24.59  3.61  Female     No   Sun  Dinner     4\n",
       "..          ...   ...     ...    ...   ...     ...   ...\n",
       "239       29.03  5.92    Male     No   Sat  Dinner     3\n",
       "240       27.18  2.00  Female    Yes   Sat  Dinner     2\n",
       "241       22.67  2.00    Male    Yes   Sat  Dinner     2\n",
       "242       17.82  1.75    Male     No   Sat  Dinner     2\n",
       "243       18.78  3.00  Female     No  Thur  Dinner     2\n",
       "\n",
       "[244 rows x 7 columns]"
      ]
     },
     "execution_count": 34,
     "metadata": {},
     "output_type": "execute_result"
    }
   ],
   "source": [
    "df"
   ]
  },
  {
   "cell_type": "code",
   "execution_count": 35,
   "id": "c26e159b",
   "metadata": {},
   "outputs": [
    {
     "data": {
      "text/html": [
       "<div>\n",
       "<style scoped>\n",
       "    .dataframe tbody tr th:only-of-type {\n",
       "        vertical-align: middle;\n",
       "    }\n",
       "\n",
       "    .dataframe tbody tr th {\n",
       "        vertical-align: top;\n",
       "    }\n",
       "\n",
       "    .dataframe thead th {\n",
       "        text-align: right;\n",
       "    }\n",
       "</style>\n",
       "<table border=\"1\" class=\"dataframe\">\n",
       "  <thead>\n",
       "    <tr style=\"text-align: right;\">\n",
       "      <th></th>\n",
       "      <th>total_bill</th>\n",
       "      <th>tip</th>\n",
       "      <th>sex</th>\n",
       "      <th>smoker</th>\n",
       "      <th>day</th>\n",
       "      <th>time</th>\n",
       "      <th>size</th>\n",
       "    </tr>\n",
       "  </thead>\n",
       "  <tbody>\n",
       "    <tr>\n",
       "      <th>0</th>\n",
       "      <td>16.99</td>\n",
       "      <td>1.01</td>\n",
       "      <td>Female</td>\n",
       "      <td>No</td>\n",
       "      <td>Sun</td>\n",
       "      <td>Dinner</td>\n",
       "      <td>2</td>\n",
       "    </tr>\n",
       "    <tr>\n",
       "      <th>1</th>\n",
       "      <td>10.34</td>\n",
       "      <td>1.66</td>\n",
       "      <td>Male</td>\n",
       "      <td>No</td>\n",
       "      <td>Sun</td>\n",
       "      <td>Dinner</td>\n",
       "      <td>3</td>\n",
       "    </tr>\n",
       "    <tr>\n",
       "      <th>2</th>\n",
       "      <td>21.01</td>\n",
       "      <td>3.50</td>\n",
       "      <td>Male</td>\n",
       "      <td>No</td>\n",
       "      <td>Sun</td>\n",
       "      <td>Dinner</td>\n",
       "      <td>3</td>\n",
       "    </tr>\n",
       "    <tr>\n",
       "      <th>3</th>\n",
       "      <td>23.68</td>\n",
       "      <td>3.31</td>\n",
       "      <td>Male</td>\n",
       "      <td>No</td>\n",
       "      <td>Sun</td>\n",
       "      <td>Dinner</td>\n",
       "      <td>2</td>\n",
       "    </tr>\n",
       "    <tr>\n",
       "      <th>4</th>\n",
       "      <td>24.59</td>\n",
       "      <td>3.61</td>\n",
       "      <td>Female</td>\n",
       "      <td>No</td>\n",
       "      <td>Sun</td>\n",
       "      <td>Dinner</td>\n",
       "      <td>4</td>\n",
       "    </tr>\n",
       "    <tr>\n",
       "      <th>...</th>\n",
       "      <td>...</td>\n",
       "      <td>...</td>\n",
       "      <td>...</td>\n",
       "      <td>...</td>\n",
       "      <td>...</td>\n",
       "      <td>...</td>\n",
       "      <td>...</td>\n",
       "    </tr>\n",
       "    <tr>\n",
       "      <th>239</th>\n",
       "      <td>29.03</td>\n",
       "      <td>5.92</td>\n",
       "      <td>Male</td>\n",
       "      <td>No</td>\n",
       "      <td>Sat</td>\n",
       "      <td>Dinner</td>\n",
       "      <td>3</td>\n",
       "    </tr>\n",
       "    <tr>\n",
       "      <th>240</th>\n",
       "      <td>27.18</td>\n",
       "      <td>2.00</td>\n",
       "      <td>Female</td>\n",
       "      <td>Yes</td>\n",
       "      <td>Sat</td>\n",
       "      <td>Dinner</td>\n",
       "      <td>2</td>\n",
       "    </tr>\n",
       "    <tr>\n",
       "      <th>241</th>\n",
       "      <td>22.67</td>\n",
       "      <td>2.00</td>\n",
       "      <td>Male</td>\n",
       "      <td>Yes</td>\n",
       "      <td>Sat</td>\n",
       "      <td>Dinner</td>\n",
       "      <td>2</td>\n",
       "    </tr>\n",
       "    <tr>\n",
       "      <th>242</th>\n",
       "      <td>17.82</td>\n",
       "      <td>1.75</td>\n",
       "      <td>Male</td>\n",
       "      <td>No</td>\n",
       "      <td>Sat</td>\n",
       "      <td>Dinner</td>\n",
       "      <td>2</td>\n",
       "    </tr>\n",
       "    <tr>\n",
       "      <th>243</th>\n",
       "      <td>18.78</td>\n",
       "      <td>3.00</td>\n",
       "      <td>Female</td>\n",
       "      <td>No</td>\n",
       "      <td>Thur</td>\n",
       "      <td>Dinner</td>\n",
       "      <td>2</td>\n",
       "    </tr>\n",
       "  </tbody>\n",
       "</table>\n",
       "<p>244 rows × 7 columns</p>\n",
       "</div>"
      ],
      "text/plain": [
       "     total_bill   tip     sex smoker   day    time  size\n",
       "0         16.99  1.01  Female     No   Sun  Dinner     2\n",
       "1         10.34  1.66    Male     No   Sun  Dinner     3\n",
       "2         21.01  3.50    Male     No   Sun  Dinner     3\n",
       "3         23.68  3.31    Male     No   Sun  Dinner     2\n",
       "4         24.59  3.61  Female     No   Sun  Dinner     4\n",
       "..          ...   ...     ...    ...   ...     ...   ...\n",
       "239       29.03  5.92    Male     No   Sat  Dinner     3\n",
       "240       27.18  2.00  Female    Yes   Sat  Dinner     2\n",
       "241       22.67  2.00    Male    Yes   Sat  Dinner     2\n",
       "242       17.82  1.75    Male     No   Sat  Dinner     2\n",
       "243       18.78  3.00  Female     No  Thur  Dinner     2\n",
       "\n",
       "[244 rows x 7 columns]"
      ]
     },
     "execution_count": 35,
     "metadata": {},
     "output_type": "execute_result"
    }
   ],
   "source": [
    "#how to know the relationship between two features\n",
    "#correlation and covariance\n",
    "\n",
    "df"
   ]
  },
  {
   "cell_type": "code",
   "execution_count": 36,
   "id": "d2b155d7",
   "metadata": {},
   "outputs": [],
   "source": [
    "corr = df[['total_bill', 'tip', 'size']].corr()"
   ]
  },
  {
   "cell_type": "code",
   "execution_count": 37,
   "id": "22a9ae8f",
   "metadata": {},
   "outputs": [
    {
     "data": {
      "text/html": [
       "<div>\n",
       "<style scoped>\n",
       "    .dataframe tbody tr th:only-of-type {\n",
       "        vertical-align: middle;\n",
       "    }\n",
       "\n",
       "    .dataframe tbody tr th {\n",
       "        vertical-align: top;\n",
       "    }\n",
       "\n",
       "    .dataframe thead th {\n",
       "        text-align: right;\n",
       "    }\n",
       "</style>\n",
       "<table border=\"1\" class=\"dataframe\">\n",
       "  <thead>\n",
       "    <tr style=\"text-align: right;\">\n",
       "      <th></th>\n",
       "      <th>total_bill</th>\n",
       "      <th>tip</th>\n",
       "      <th>size</th>\n",
       "    </tr>\n",
       "  </thead>\n",
       "  <tbody>\n",
       "    <tr>\n",
       "      <th>total_bill</th>\n",
       "      <td>1.000000</td>\n",
       "      <td>0.675734</td>\n",
       "      <td>0.598315</td>\n",
       "    </tr>\n",
       "    <tr>\n",
       "      <th>tip</th>\n",
       "      <td>0.675734</td>\n",
       "      <td>1.000000</td>\n",
       "      <td>0.489299</td>\n",
       "    </tr>\n",
       "    <tr>\n",
       "      <th>size</th>\n",
       "      <td>0.598315</td>\n",
       "      <td>0.489299</td>\n",
       "      <td>1.000000</td>\n",
       "    </tr>\n",
       "  </tbody>\n",
       "</table>\n",
       "</div>"
      ],
      "text/plain": [
       "            total_bill       tip      size\n",
       "total_bill    1.000000  0.675734  0.598315\n",
       "tip           0.675734  1.000000  0.489299\n",
       "size          0.598315  0.489299  1.000000"
      ]
     },
     "execution_count": 37,
     "metadata": {},
     "output_type": "execute_result"
    }
   ],
   "source": [
    "corr"
   ]
  },
  {
   "cell_type": "code",
   "execution_count": 38,
   "id": "310663ef",
   "metadata": {},
   "outputs": [
    {
     "data": {
      "text/html": [
       "<div>\n",
       "<style scoped>\n",
       "    .dataframe tbody tr th:only-of-type {\n",
       "        vertical-align: middle;\n",
       "    }\n",
       "\n",
       "    .dataframe tbody tr th {\n",
       "        vertical-align: top;\n",
       "    }\n",
       "\n",
       "    .dataframe thead th {\n",
       "        text-align: right;\n",
       "    }\n",
       "</style>\n",
       "<table border=\"1\" class=\"dataframe\">\n",
       "  <thead>\n",
       "    <tr style=\"text-align: right;\">\n",
       "      <th></th>\n",
       "      <th>total_bill</th>\n",
       "      <th>tip</th>\n",
       "      <th>size</th>\n",
       "    </tr>\n",
       "  </thead>\n",
       "  <tbody>\n",
       "    <tr>\n",
       "      <th>total_bill</th>\n",
       "      <td>1.000000</td>\n",
       "      <td>0.675734</td>\n",
       "      <td>0.598315</td>\n",
       "    </tr>\n",
       "    <tr>\n",
       "      <th>tip</th>\n",
       "      <td>0.675734</td>\n",
       "      <td>1.000000</td>\n",
       "      <td>0.489299</td>\n",
       "    </tr>\n",
       "    <tr>\n",
       "      <th>size</th>\n",
       "      <td>0.598315</td>\n",
       "      <td>0.489299</td>\n",
       "      <td>1.000000</td>\n",
       "    </tr>\n",
       "  </tbody>\n",
       "</table>\n",
       "</div>"
      ],
      "text/plain": [
       "            total_bill       tip      size\n",
       "total_bill    1.000000  0.675734  0.598315\n",
       "tip           0.675734  1.000000  0.489299\n",
       "size          0.598315  0.489299  1.000000"
      ]
     },
     "execution_count": 38,
     "metadata": {},
     "output_type": "execute_result"
    }
   ],
   "source": [
    "df.corr(numeric_only = True)"
   ]
  },
  {
   "cell_type": "code",
   "execution_count": 39,
   "id": "1787cc7b",
   "metadata": {},
   "outputs": [],
   "source": [
    "#if there is one unit increase in total bill then there is 67 percent chance that tip will increase in tip"
   ]
  },
  {
   "cell_type": "code",
   "execution_count": 40,
   "id": "f8207c34",
   "metadata": {},
   "outputs": [
    {
     "data": {
      "text/plain": [
       "<Axes: >"
      ]
     },
     "execution_count": 40,
     "metadata": {},
     "output_type": "execute_result"
    },
    {
     "data": {
      "image/png": "[encoded data removed]",
      "text/plain": [
       "<Figure size 640x480 with 2 Axes>"
      ]
     },
     "metadata": {},
     "output_type": "display_data"
    }
   ],
   "source": [
    "sns.heatmap(corr, annot = True)"
   ]
  },
  {
   "cell_type": "code",
   "execution_count": 41,
   "id": "2ea35248",
   "metadata": {},
   "outputs": [
    {
     "data": {
      "text/html": [
       "<div>\n",
       "<style scoped>\n",
       "    .dataframe tbody tr th:only-of-type {\n",
       "        vertical-align: middle;\n",
       "    }\n",
       "\n",
       "    .dataframe tbody tr th {\n",
       "        vertical-align: top;\n",
       "    }\n",
       "\n",
       "    .dataframe thead th {\n",
       "        text-align: right;\n",
       "    }\n",
       "</style>\n",
       "<table border=\"1\" class=\"dataframe\">\n",
       "  <thead>\n",
       "    <tr style=\"text-align: right;\">\n",
       "      <th></th>\n",
       "      <th>total_bill</th>\n",
       "      <th>tip</th>\n",
       "      <th>size</th>\n",
       "    </tr>\n",
       "  </thead>\n",
       "  <tbody>\n",
       "    <tr>\n",
       "      <th>total_bill</th>\n",
       "      <td>79.252939</td>\n",
       "      <td>8.323502</td>\n",
       "      <td>5.065983</td>\n",
       "    </tr>\n",
       "    <tr>\n",
       "      <th>tip</th>\n",
       "      <td>8.323502</td>\n",
       "      <td>1.914455</td>\n",
       "      <td>0.643906</td>\n",
       "    </tr>\n",
       "    <tr>\n",
       "      <th>size</th>\n",
       "      <td>5.065983</td>\n",
       "      <td>0.643906</td>\n",
       "      <td>0.904591</td>\n",
       "    </tr>\n",
       "  </tbody>\n",
       "</table>\n",
       "</div>"
      ],
      "text/plain": [
       "            total_bill       tip      size\n",
       "total_bill   79.252939  8.323502  5.065983\n",
       "tip           8.323502  1.914455  0.643906\n",
       "size          5.065983  0.643906  0.904591"
      ]
     },
     "execution_count": 41,
     "metadata": {},
     "output_type": "execute_result"
    }
   ],
   "source": [
    "df.cov(numeric_only = True)"
   ]
  },
  {
   "cell_type": "code",
   "execution_count": 42,
   "id": "5ea4aa91",
   "metadata": {},
   "outputs": [
    {
     "name": "stderr",
     "output_type": "stream",
     "text": [
      "C:\\Users\\ajayk\\anaconda3\\Lib\\site-packages\\seaborn\\_oldcore.py:1119: FutureWarning: use_inf_as_na option is deprecated and will be removed in a future version. Convert inf values to NaN before operating instead.\n",
      "  with pd.option_context('mode.use_inf_as_na', True):\n",
      "C:\\Users\\ajayk\\anaconda3\\Lib\\site-packages\\seaborn\\_oldcore.py:1119: FutureWarning: use_inf_as_na option is deprecated and will be removed in a future version. Convert inf values to NaN before operating instead.\n",
      "  with pd.option_context('mode.use_inf_as_na', True):\n",
      "C:\\Users\\ajayk\\anaconda3\\Lib\\site-packages\\seaborn\\_oldcore.py:1119: FutureWarning: use_inf_as_na option is deprecated and will be removed in a future version. Convert inf values to NaN before operating instead.\n",
      "  with pd.option_context('mode.use_inf_as_na', True):\n"
     ]
    },
    {
     "data": {
      "text/plain": [
       "<seaborn.axisgrid.PairGrid at 0x1fe3227c2d0>"
      ]
     },
     "execution_count": 42,
     "metadata": {},
     "output_type": "execute_result"
    },
    {
     "data": {
      "image/png": "[encoded data removed]",
      "text/plain": [
       "<Figure size 750x750 with 12 Axes>"
      ]
     },
     "metadata": {},
     "output_type": "display_data"
    }
   ],
   "source": [
    "sns.pairplot(df)"
   ]
  },
  {
   "cell_type": "code",
   "execution_count": 43,
   "id": "9653a641",
   "metadata": {},
   "outputs": [
    {
     "name": "stderr",
     "output_type": "stream",
     "text": [
      "C:\\Users\\ajayk\\anaconda3\\Lib\\site-packages\\seaborn\\_oldcore.py:1119: FutureWarning: use_inf_as_na option is deprecated and will be removed in a future version. Convert inf values to NaN before operating instead.\n",
      "  with pd.option_context('mode.use_inf_as_na', True):\n"
     ]
    },
    {
     "data": {
      "text/plain": [
       "<Axes: ylabel='Count'>"
      ]
     },
     "execution_count": 43,
     "metadata": {},
     "output_type": "execute_result"
    },
    {
     "data": {
      "image/png": "[encoded data removed]",
      "text/plain": [
       "<Figure size 640x480 with 1 Axes>"
      ]
     },
     "metadata": {},
     "output_type": "display_data"
    }
   ],
   "source": [
    "sns.histplot(data, kde = True)"
   ]
  },
  {
   "cell_type": "code",
   "execution_count": 44,
   "id": "3e147148",
   "metadata": {},
   "outputs": [
    {
     "name": "stderr",
     "output_type": "stream",
     "text": [
      "C:\\Users\\ajayk\\anaconda3\\Lib\\site-packages\\seaborn\\_oldcore.py:1119: FutureWarning: use_inf_as_na option is deprecated and will be removed in a future version. Convert inf values to NaN before operating instead.\n",
      "  with pd.option_context('mode.use_inf_as_na', True):\n"
     ]
    },
    {
     "data": {
      "text/plain": [
       "<Axes: xlabel='total_bill', ylabel='Count'>"
      ]
     },
     "execution_count": 44,
     "metadata": {},
     "output_type": "execute_result"
    },
    {
     "data": {
      "image/png": "[encoded data removed]",
      "text/plain": [
       "<Figure size 640x480 with 1 Axes>"
      ]
     },
     "metadata": {},
     "output_type": "display_data"
    }
   ],
   "source": [
    "sns.histplot(df['total_bill'], kde = True)"
   ]
  },
  {
   "cell_type": "code",
   "execution_count": 45,
   "id": "6d9b8cd7",
   "metadata": {},
   "outputs": [],
   "source": [
    "data1 = np.random.normal(0.5, 0.2, 1000)"
   ]
  },
  {
   "cell_type": "code",
   "execution_count": 46,
   "id": "34502d02",
   "metadata": {},
   "outputs": [
    {
     "name": "stderr",
     "output_type": "stream",
     "text": [
      "C:\\Users\\ajayk\\AppData\\Local\\Temp\\ipykernel_13152\\1727590720.py:1: UserWarning: \n",
      "\n",
      "`distplot` is a deprecated function and will be removed in seaborn v0.14.0.\n",
      "\n",
      "Please adapt your code to use either `displot` (a figure-level function with\n",
      "similar flexibility) or `histplot` (an axes-level function for histograms).\n",
      "\n",
      "For a guide to updating your code to use the new functions, please see\n",
      "https://gist.github.com/mwaskom/de44147ed2974457ad6372750bbe5751\n",
      "\n",
      "  sns.distplot(data1)\n",
      "C:\\Users\\ajayk\\anaconda3\\Lib\\site-packages\\seaborn\\_oldcore.py:1119: FutureWarning: use_inf_as_na option is deprecated and will be removed in a future version. Convert inf values to NaN before operating instead.\n",
      "  with pd.option_context('mode.use_inf_as_na', True):\n"
     ]
    },
    {
     "data": {
      "text/plain": [
       "<Axes: ylabel='Density'>"
      ]
     },
     "execution_count": 46,
     "metadata": {},
     "output_type": "execute_result"
    },
    {
     "data": {
      "image/png": "[encoded data removed]",
      "text/plain": [
       "<Figure size 640x480 with 1 Axes>"
      ]
     },
     "metadata": {},
     "output_type": "display_data"
    }
   ],
   "source": [
    "sns.distplot(data1)"
   ]
  },
  {
   "cell_type": "code",
   "execution_count": 47,
   "id": "0350f83f",
   "metadata": {},
   "outputs": [],
   "source": [
    "population = np.random.randint(10, 20, 50)"
   ]
  },
  {
   "cell_type": "code",
   "execution_count": 48,
   "id": "b38bb1d5",
   "metadata": {},
   "outputs": [
    {
     "data": {
      "text/plain": [
       "array([16, 16, 14, 10, 11, 17, 13, 10, 15, 11, 16, 19, 19, 10, 10, 15, 14,\n",
       "       18, 18, 15, 11, 19, 17, 10, 15, 17, 15, 15, 18, 18, 17, 16, 13, 16,\n",
       "       10, 16, 17, 16, 17, 14, 14, 13, 18, 18, 17, 11, 16, 15, 15, 18])"
      ]
     },
     "execution_count": 48,
     "metadata": {},
     "output_type": "execute_result"
    }
   ],
   "source": [
    "population"
   ]
  },
  {
   "cell_type": "code",
   "execution_count": 49,
   "id": "6b99b411",
   "metadata": {},
   "outputs": [
    {
     "data": {
      "text/plain": [
       "50"
      ]
     },
     "execution_count": 49,
     "metadata": {},
     "output_type": "execute_result"
    }
   ],
   "source": [
    "len(population)"
   ]
  },
  {
   "cell_type": "code",
   "execution_count": 50,
   "id": "0266a7c6",
   "metadata": {},
   "outputs": [
    {
     "data": {
      "text/plain": [
       "16"
      ]
     },
     "execution_count": 50,
     "metadata": {},
     "output_type": "execute_result"
    }
   ],
   "source": [
    "statistics.mode(population)"
   ]
  },
  {
   "cell_type": "code",
   "execution_count": 51,
   "id": "2c5f5f50",
   "metadata": {},
   "outputs": [
    {
     "data": {
      "text/plain": [
       "14.98"
      ]
     },
     "execution_count": 51,
     "metadata": {},
     "output_type": "execute_result"
    }
   ],
   "source": [
    "np.mean(population)"
   ]
  },
  {
   "cell_type": "code",
   "execution_count": 52,
   "id": "127fda38",
   "metadata": {},
   "outputs": [],
   "source": [
    "sample1 = np.random.choice(population, 20)\n",
    "sample2 = np.random.choice(population, 20)\n",
    "sample3 = np.random.choice(population, 20)\n",
    "sample4 = np.random.choice(population, 20)"
   ]
  },
  {
   "cell_type": "code",
   "execution_count": 53,
   "id": "afc85ab2",
   "metadata": {},
   "outputs": [
    {
     "data": {
      "text/plain": [
       "array([13, 18, 17, 15, 17, 14, 19, 13, 10, 10, 11, 16, 17, 17, 17, 15, 16,\n",
       "       13, 18, 11])"
      ]
     },
     "execution_count": 53,
     "metadata": {},
     "output_type": "execute_result"
    }
   ],
   "source": [
    "sample1"
   ]
  },
  {
   "cell_type": "code",
   "execution_count": 54,
   "id": "2f7aa1d5",
   "metadata": {},
   "outputs": [
    {
     "data": {
      "text/plain": [
       "array([18, 14, 14, 18, 19, 18, 18, 17, 16, 16, 14, 17, 15, 18, 10, 10, 15,\n",
       "       10, 11, 15])"
      ]
     },
     "execution_count": 54,
     "metadata": {},
     "output_type": "execute_result"
    }
   ],
   "source": [
    "sample2"
   ]
  },
  {
   "cell_type": "code",
   "execution_count": 55,
   "id": "b1d18f48",
   "metadata": {},
   "outputs": [],
   "source": [
    "mean_of_samples = []\n",
    "all_samples = [sample1, sample2, sample3, sample4]\n",
    "\n",
    "for sample in all_samples:\n",
    "    mean_of_samples.append(np.mean(sample))"
   ]
  },
  {
   "cell_type": "code",
   "execution_count": 56,
   "id": "191a5cc8",
   "metadata": {},
   "outputs": [
    {
     "data": {
      "text/plain": [
       "[14.85, 15.15, 14.45, 15.55]"
      ]
     },
     "execution_count": 56,
     "metadata": {},
     "output_type": "execute_result"
    }
   ],
   "source": [
    "mean_of_samples"
   ]
  },
  {
   "cell_type": "code",
   "execution_count": 57,
   "id": "56086d09",
   "metadata": {},
   "outputs": [],
   "source": [
    "#central limit theorem >> for any distribution the sample mean will be approximated to normal distribution given sample size >= 30 and no of samples should be sufficiently large"
   ]
  },
  {
   "cell_type": "code",
   "execution_count": 58,
   "id": "95ffe906",
   "metadata": {},
   "outputs": [],
   "source": [
    "population = np.random.binomial(10, 0.5, 10000)"
   ]
  },
  {
   "cell_type": "code",
   "execution_count": 59,
   "id": "7bd7a32c",
   "metadata": {},
   "outputs": [
    {
     "data": {
      "text/plain": [
       "array([3, 4, 3, ..., 5, 5, 4])"
      ]
     },
     "execution_count": 59,
     "metadata": {},
     "output_type": "execute_result"
    }
   ],
   "source": [
    "population"
   ]
  },
  {
   "cell_type": "code",
   "execution_count": 60,
   "id": "e475259e",
   "metadata": {},
   "outputs": [
    {
     "name": "stderr",
     "output_type": "stream",
     "text": [
      "C:\\Users\\ajayk\\AppData\\Local\\Temp\\ipykernel_13152\\2958836585.py:1: UserWarning: \n",
      "\n",
      "`distplot` is a deprecated function and will be removed in seaborn v0.14.0.\n",
      "\n",
      "Please adapt your code to use either `displot` (a figure-level function with\n",
      "similar flexibility) or `histplot` (an axes-level function for histograms).\n",
      "\n",
      "For a guide to updating your code to use the new functions, please see\n",
      "https://gist.github.com/mwaskom/de44147ed2974457ad6372750bbe5751\n",
      "\n",
      "  sns.distplot(population)\n",
      "C:\\Users\\ajayk\\anaconda3\\Lib\\site-packages\\seaborn\\_oldcore.py:1119: FutureWarning: use_inf_as_na option is deprecated and will be removed in a future version. Convert inf values to NaN before operating instead.\n",
      "  with pd.option_context('mode.use_inf_as_na', True):\n"
     ]
    },
    {
     "data": {
      "text/plain": [
       "<Axes: ylabel='Density'>"
      ]
     },
     "execution_count": 60,
     "metadata": {},
     "output_type": "execute_result"
    },
    {
     "data": {
      "image/png": "[encoded data removed]",
      "text/plain": [
       "<Figure size 640x480 with 1 Axes>"
      ]
     },
     "metadata": {},
     "output_type": "display_data"
    }
   ],
   "source": [
    "sns.distplot(population)"
   ]
  },
  {
   "cell_type": "code",
   "execution_count": 61,
   "id": "ee489359",
   "metadata": {},
   "outputs": [],
   "source": [
    "sample_size = 3000\n",
    "\n",
    "mean_of_samples = []\n",
    "\n",
    "for i in range(1, 10000):\n",
    "    sample = np.random.choice(population, size = sample_size)\n",
    "    mean_of_samples.append(np.mean(sample))\n"
   ]
  },
  {
   "cell_type": "code",
   "execution_count": 62,
   "id": "8f936d08",
   "metadata": {},
   "outputs": [
    {
     "name": "stderr",
     "output_type": "stream",
     "text": [
      "C:\\Users\\ajayk\\AppData\\Local\\Temp\\ipykernel_13152\\1517309143.py:1: UserWarning: \n",
      "\n",
      "`distplot` is a deprecated function and will be removed in seaborn v0.14.0.\n",
      "\n",
      "Please adapt your code to use either `displot` (a figure-level function with\n",
      "similar flexibility) or `histplot` (an axes-level function for histograms).\n",
      "\n",
      "For a guide to updating your code to use the new functions, please see\n",
      "https://gist.github.com/mwaskom/de44147ed2974457ad6372750bbe5751\n",
      "\n",
      "  sns.distplot(mean_of_samples, kde = True, color = 'red')\n",
      "C:\\Users\\ajayk\\anaconda3\\Lib\\site-packages\\seaborn\\_oldcore.py:1119: FutureWarning: use_inf_as_na option is deprecated and will be removed in a future version. Convert inf values to NaN before operating instead.\n",
      "  with pd.option_context('mode.use_inf_as_na', True):\n"
     ]
    },
    {
     "data": {
      "text/plain": [
       "<Axes: ylabel='Density'>"
      ]
     },
     "execution_count": 62,
     "metadata": {},
     "output_type": "execute_result"
    },
    {
     "data": {
      "image/png": "[encoded data removed]",
      "text/plain": [
       "<Figure size 640x480 with 1 Axes>"
      ]
     },
     "metadata": {},
     "output_type": "display_data"
    }
   ],
   "source": [
    "sns.distplot(mean_of_samples, kde = True, color = 'red')"
   ]
  },
  {
   "cell_type": "code",
   "execution_count": 63,
   "id": "37f64042",
   "metadata": {},
   "outputs": [
    {
     "data": {
      "text/plain": [
       "4.991314631463146"
      ]
     },
     "execution_count": 63,
     "metadata": {},
     "output_type": "execute_result"
    }
   ],
   "source": [
    "np.mean(mean_of_samples)"
   ]
  },
  {
   "cell_type": "code",
   "execution_count": 64,
   "id": "56aee12a",
   "metadata": {},
   "outputs": [
    {
     "data": {
      "text/plain": [
       "4.992"
      ]
     },
     "execution_count": 64,
     "metadata": {},
     "output_type": "execute_result"
    }
   ],
   "source": [
    "np.median(mean_of_samples)"
   ]
  },
  {
   "cell_type": "code",
   "execution_count": 65,
   "id": "c47b6764",
   "metadata": {},
   "outputs": [
    {
     "data": {
      "text/plain": [
       "4.993333333333333"
      ]
     },
     "execution_count": 65,
     "metadata": {},
     "output_type": "execute_result"
    }
   ],
   "source": [
    "statistics.mode(mean_of_samples)"
   ]
  },
  {
   "cell_type": "code",
   "execution_count": 66,
   "id": "51878552",
   "metadata": {},
   "outputs": [],
   "source": [
    "#hence mean=median=mode\n",
    "\n",
    "\n",
    "import scipy.stats as stats"
   ]
  },
  {
   "cell_type": "code",
   "execution_count": 67,
   "id": "ce810364",
   "metadata": {},
   "outputs": [
    {
     "data": {
      "text/plain": [
       "[5.004666666666667,\n",
       " 4.984333333333334,\n",
       " 4.959333333333333,\n",
       " 4.984666666666667,\n",
       " 5.015333333333333,\n",
       " 4.911333333333333,\n",
       " 5.016,\n",
       " 5.006666666666667,\n",
       " 4.974333333333333,\n",
       " 4.973333333333334,\n",
       " 4.9943333333333335,\n",
       " 5.02,\n",
       " 5.012,\n",
       " 5.01,\n",
       " 5.039666666666666,\n",
       " 4.9623333333333335,\n",
       " 5.069333333333334,\n",
       " 4.977333333333333,\n",
       " 5.0343333333333335,\n",
       " 4.988,\n",
       " 4.990666666666667,\n",
       " 5.035666666666667,\n",
       " 4.940333333333333,\n",
       " 5.025666666666667,\n",
       " 5.005333333333334,\n",
       " 4.972333333333333,\n",
       " 5.0616666666666665,\n",
       " 4.991333333333333,\n",
       " 4.988333333333333,\n",
       " 4.975333333333333,\n",
       " 4.99,\n",
       " 4.9943333333333335,\n",
       " 5.023,\n",
       " 4.967666666666666,\n",
       " 4.972333333333333,\n",
       " 4.985,\n",
       " 4.989333333333334,\n",
       " 5.011333333333333,\n",
       " 4.986,\n",
       " 5.0216666666666665,\n",
       " 5.001333333333333,\n",
       " 5.012333333333333,\n",
       " 4.905333333333333,\n",
       " 4.978,\n",
       " 4.989,\n",
       " 4.966666666666667,\n",
       " 5.001,\n",
       " 5.0023333333333335,\n",
       " 4.984666666666667,\n",
       " 5.035333333333333,\n",
       " 4.957,\n",
       " 5.030666666666667,\n",
       " 5.004666666666667,\n",
       " 4.955,\n",
       " 4.988666666666667,\n",
       " 5.041,\n",
       " 4.9816666666666665,\n",
       " 5.012333333333333,\n",
       " 4.95,\n",
       " 5.042333333333334,\n",
       " 4.987333333333333,\n",
       " 4.990333333333333,\n",
       " 5.003333333333333,\n",
       " 4.941666666666666,\n",
       " 4.937,\n",
       " 4.917333333333334,\n",
       " 4.966,\n",
       " 5.004333333333333,\n",
       " 5.046666666666667,\n",
       " 5.023333333333333,\n",
       " 4.99,\n",
       " 4.9543333333333335,\n",
       " 5.057,\n",
       " 4.98,\n",
       " 5.008666666666667,\n",
       " 4.995333333333333,\n",
       " 4.964,\n",
       " 5.005333333333334,\n",
       " 4.943,\n",
       " 4.975666666666666,\n",
       " 4.956666666666667,\n",
       " 5.001333333333333,\n",
       " 5.028,\n",
       " 4.923,\n",
       " 5.04,\n",
       " 5.028666666666667,\n",
       " 4.976666666666667,\n",
       " 5.02,\n",
       " 5.012333333333333,\n",
       " 5.002666666666666,\n",
       " 4.961666666666667,\n",
       " 5.006666666666667,\n",
       " 4.9366666666666665,\n",
       " 4.999,\n",
       " 5.015666666666666,\n",
       " 5.047666666666666,\n",
       " 4.979666666666667,\n",
       " 4.994,\n",
       " 4.995,\n",
       " 4.981333333333334,\n",
       " 4.935,\n",
       " 5.023,\n",
       " 5.0,\n",
       " 5.000666666666667,\n",
       " 4.92,\n",
       " 5.016333333333334,\n",
       " 4.956333333333333,\n",
       " 5.066666666666666,\n",
       " 5.018666666666666,\n",
       " 4.947666666666667,\n",
       " 4.945,\n",
       " 5.043,\n",
       " 4.9896666666666665,\n",
       " 5.0343333333333335,\n",
       " 4.919333333333333,\n",
       " 4.973,\n",
       " 4.977333333333333,\n",
       " 5.000666666666667,\n",
       " 4.983,\n",
       " 5.000333333333334,\n",
       " 5.009333333333333,\n",
       " 4.963333333333333,\n",
       " 4.989,\n",
       " 5.004666666666667,\n",
       " 4.989333333333334,\n",
       " 5.035666666666667,\n",
       " 5.049,\n",
       " 5.008666666666667,\n",
       " 4.958,\n",
       " 4.962666666666666,\n",
       " 4.952333333333334,\n",
       " 4.998666666666667,\n",
       " 5.032333333333334,\n",
       " 5.0216666666666665,\n",
       " 4.956666666666667,\n",
       " 5.014,\n",
       " 4.995,\n",
       " 4.960333333333334,\n",
       " 4.977333333333333,\n",
       " 5.027333333333333,\n",
       " 5.02,\n",
       " 4.921333333333333,\n",
       " 4.946666666666666,\n",
       " 4.999333333333333,\n",
       " 5.031,\n",
       " 4.968666666666667,\n",
       " 5.030333333333333,\n",
       " 4.9736666666666665,\n",
       " 4.955333333333333,\n",
       " 5.083666666666667,\n",
       " 4.957666666666666,\n",
       " 5.009333333333333,\n",
       " 5.017,\n",
       " 5.017333333333333,\n",
       " 4.982666666666667,\n",
       " 4.997,\n",
       " 5.032666666666667,\n",
       " 5.001333333333333,\n",
       " 4.987333333333333,\n",
       " 4.955,\n",
       " 5.024,\n",
       " 5.014333333333333,\n",
       " 4.951666666666667,\n",
       " 4.9703333333333335,\n",
       " 5.019,\n",
       " 4.983666666666666,\n",
       " 5.01,\n",
       " 5.008,\n",
       " 4.934,\n",
       " 4.929666666666667,\n",
       " 4.993666666666667,\n",
       " 5.044333333333333,\n",
       " 4.938,\n",
       " 4.950333333333333,\n",
       " 4.996666666666667,\n",
       " 4.993,\n",
       " 4.986666666666666,\n",
       " 4.959333333333333,\n",
       " 4.9383333333333335,\n",
       " 4.934666666666667,\n",
       " 5.021,\n",
       " 5.011666666666667,\n",
       " 4.976,\n",
       " 5.026,\n",
       " 4.983333333333333,\n",
       " 5.052,\n",
       " 4.983333333333333,\n",
       " 4.990666666666667,\n",
       " 4.9366666666666665,\n",
       " 4.9816666666666665,\n",
       " 4.972666666666667,\n",
       " 4.972,\n",
       " 4.923666666666667,\n",
       " 5.0136666666666665,\n",
       " 4.938,\n",
       " 4.999666666666666,\n",
       " 4.967666666666666,\n",
       " 5.000333333333334,\n",
       " 4.988,\n",
       " 4.995666666666667,\n",
       " 5.0263333333333335,\n",
       " 4.979,\n",
       " 5.028333333333333,\n",
       " 4.9943333333333335,\n",
       " 4.965333333333334,\n",
       " 5.017,\n",
       " 4.991333333333333,\n",
       " 5.013333333333334,\n",
       " 4.9943333333333335,\n",
       " 4.9783333333333335,\n",
       " 4.963333333333333,\n",
       " 4.975666666666666,\n",
       " 5.011,\n",
       " 4.937666666666667,\n",
       " 4.987666666666667,\n",
       " 4.9703333333333335,\n",
       " 4.959,\n",
       " 5.0,\n",
       " 4.958,\n",
       " 4.941,\n",
       " 4.999666666666666,\n",
       " 4.964666666666667,\n",
       " 4.9623333333333335,\n",
       " 5.02,\n",
       " 4.974666666666667,\n",
       " 5.0263333333333335,\n",
       " 4.973333333333334,\n",
       " 5.002,\n",
       " 5.024333333333334,\n",
       " 5.010666666666666,\n",
       " 5.004,\n",
       " 5.005333333333334,\n",
       " 4.991333333333333,\n",
       " 4.976,\n",
       " 4.977,\n",
       " 5.019333333333333,\n",
       " 4.956,\n",
       " 5.0023333333333335,\n",
       " 5.0136666666666665,\n",
       " 5.032333333333334,\n",
       " 4.958666666666667,\n",
       " 5.014333333333333,\n",
       " 4.978,\n",
       " 5.002666666666666,\n",
       " 4.963666666666667,\n",
       " 5.022,\n",
       " 5.002666666666666,\n",
       " 4.972666666666667,\n",
       " 5.049,\n",
       " 5.0216666666666665,\n",
       " 5.000333333333334,\n",
       " 4.987333333333333,\n",
       " 4.964333333333333,\n",
       " 5.004333333333333,\n",
       " 4.959333333333333,\n",
       " 5.010666666666666,\n",
       " 5.017666666666667,\n",
       " 4.993333333333333,\n",
       " 5.0,\n",
       " 5.013,\n",
       " 5.001333333333333,\n",
       " 5.038,\n",
       " 4.9943333333333335,\n",
       " 5.007333333333333,\n",
       " 4.998,\n",
       " 5.007,\n",
       " 5.035,\n",
       " 5.028333333333333,\n",
       " 4.978666666666666,\n",
       " 5.020666666666667,\n",
       " 4.979666666666667,\n",
       " 4.987,\n",
       " 4.994666666666666,\n",
       " 4.959,\n",
       " 5.033666666666667,\n",
       " 4.994,\n",
       " 4.941333333333334,\n",
       " 5.010666666666666,\n",
       " 5.031666666666666,\n",
       " 4.992666666666667,\n",
       " 4.945,\n",
       " 5.02,\n",
       " 5.035,\n",
       " 4.9126666666666665,\n",
       " 5.0023333333333335,\n",
       " 4.9783333333333335,\n",
       " 4.984333333333334,\n",
       " 5.0183333333333335,\n",
       " 4.987666666666667,\n",
       " 4.989,\n",
       " 4.974666666666667,\n",
       " 4.996666666666667,\n",
       " 5.0056666666666665,\n",
       " 5.033666666666667,\n",
       " 5.013333333333334,\n",
       " 5.003,\n",
       " 5.020333333333333,\n",
       " 5.008,\n",
       " 5.017,\n",
       " 4.959333333333333,\n",
       " 5.004333333333333,\n",
       " 4.973,\n",
       " 5.005,\n",
       " 5.0023333333333335,\n",
       " 4.962666666666666,\n",
       " 4.967333333333333,\n",
       " 4.998333333333333,\n",
       " 4.9976666666666665,\n",
       " 4.96,\n",
       " 5.020333333333333,\n",
       " 4.946,\n",
       " 5.0,\n",
       " 4.982333333333333,\n",
       " 5.030333333333333,\n",
       " 4.972666666666667,\n",
       " 4.959333333333333,\n",
       " 4.974,\n",
       " 4.965,\n",
       " 4.979333333333333,\n",
       " 4.983666666666666,\n",
       " 4.988666666666667,\n",
       " 4.942666666666667,\n",
       " 4.958666666666667,\n",
       " 4.9463333333333335,\n",
       " 5.012,\n",
       " 5.019333333333333,\n",
       " 4.983333333333333,\n",
       " 4.971333333333333,\n",
       " 5.025333333333333,\n",
       " 5.031666666666666,\n",
       " 5.006666666666667,\n",
       " 4.990666666666667,\n",
       " 5.003333333333333,\n",
       " 4.985,\n",
       " 4.933333333333334,\n",
       " 4.9976666666666665,\n",
       " 4.956333333333333,\n",
       " 5.019,\n",
       " 4.984333333333334,\n",
       " 5.0136666666666665,\n",
       " 4.999,\n",
       " 4.983,\n",
       " 5.012666666666667,\n",
       " 4.956666666666667,\n",
       " 4.970666666666666,\n",
       " 4.992,\n",
       " 4.968333333333334,\n",
       " 4.991333333333333,\n",
       " 5.032333333333334,\n",
       " 4.966666666666667,\n",
       " 5.014,\n",
       " 4.998,\n",
       " 4.972,\n",
       " 5.010666666666666,\n",
       " 4.993333333333333,\n",
       " 5.042,\n",
       " 4.974,\n",
       " 5.025333333333333,\n",
       " 5.031,\n",
       " 5.019333333333333,\n",
       " 5.021,\n",
       " 4.980666666666667,\n",
       " 4.999,\n",
       " 4.993666666666667,\n",
       " 4.992333333333334,\n",
       " 5.005333333333334,\n",
       " 5.002,\n",
       " 5.024333333333334,\n",
       " 5.008,\n",
       " 5.028333333333333,\n",
       " 4.944,\n",
       " 5.024333333333334,\n",
       " 4.984666666666667,\n",
       " 5.009,\n",
       " 4.948,\n",
       " 5.002,\n",
       " 5.02,\n",
       " 4.996,\n",
       " 4.967,\n",
       " 4.934666666666667,\n",
       " 4.954,\n",
       " 4.988666666666667,\n",
       " 4.957333333333334,\n",
       " 4.987666666666667,\n",
       " 4.994,\n",
       " 4.954,\n",
       " 5.026,\n",
       " 5.019,\n",
       " 5.019333333333333,\n",
       " 4.995666666666667,\n",
       " 5.015,\n",
       " 4.939666666666667,\n",
       " 4.967666666666666,\n",
       " 5.016,\n",
       " 4.997,\n",
       " 5.0376666666666665,\n",
       " 4.991666666666666,\n",
       " 5.003333333333333,\n",
       " 4.984,\n",
       " 5.011,\n",
       " 4.964666666666667,\n",
       " 5.036,\n",
       " 5.007,\n",
       " 5.030333333333333,\n",
       " 4.976,\n",
       " 4.981,\n",
       " 5.023,\n",
       " 4.995666666666667,\n",
       " 5.014,\n",
       " 4.975666666666666,\n",
       " 5.017,\n",
       " 4.97,\n",
       " 5.000333333333334,\n",
       " 4.985,\n",
       " 5.020666666666667,\n",
       " 5.027333333333333,\n",
       " 5.005,\n",
       " 5.030333333333333,\n",
       " 4.9526666666666666,\n",
       " 4.995333333333333,\n",
       " 4.975666666666666,\n",
       " 4.9463333333333335,\n",
       " 4.954,\n",
       " 5.01,\n",
       " 4.992666666666667,\n",
       " 4.951666666666667,\n",
       " 5.008666666666667,\n",
       " 4.988,\n",
       " 5.002,\n",
       " 5.017,\n",
       " 4.983666666666666,\n",
       " 5.003333333333333,\n",
       " 4.993333333333333,\n",
       " 4.967,\n",
       " 5.0056666666666665,\n",
       " 4.989,\n",
       " 5.014,\n",
       " 4.952,\n",
       " 4.966,\n",
       " 4.970666666666666,\n",
       " 5.028333333333333,\n",
       " 4.988666666666667,\n",
       " 4.983333333333333,\n",
       " 5.038333333333333,\n",
       " 5.012,\n",
       " 4.966333333333333,\n",
       " 4.971333333333333,\n",
       " 4.988666666666667,\n",
       " 5.027333333333333,\n",
       " 5.036333333333333,\n",
       " 5.020666666666667,\n",
       " 4.980666666666667,\n",
       " 4.977666666666667,\n",
       " 4.954666666666666,\n",
       " 4.963333333333333,\n",
       " 5.024666666666667,\n",
       " 4.963666666666667,\n",
       " 4.993,\n",
       " 4.993666666666667,\n",
       " 4.939333333333333,\n",
       " 4.999,\n",
       " 5.0023333333333335,\n",
       " 4.965333333333334,\n",
       " 5.0136666666666665,\n",
       " 4.999333333333333,\n",
       " 5.016333333333334,\n",
       " 5.009,\n",
       " 4.968,\n",
       " 5.0023333333333335,\n",
       " 4.979,\n",
       " 4.946666666666666,\n",
       " 5.029,\n",
       " 4.984666666666667,\n",
       " 5.032666666666667,\n",
       " 4.988333333333333,\n",
       " 4.993333333333333,\n",
       " 4.962666666666666,\n",
       " 4.9446666666666665,\n",
       " 5.012,\n",
       " 4.960333333333334,\n",
       " 4.999333333333333,\n",
       " 4.9623333333333335,\n",
       " 5.000333333333334,\n",
       " 4.976,\n",
       " 4.979666666666667,\n",
       " 5.0023333333333335,\n",
       " 5.010666666666666,\n",
       " 5.017666666666667,\n",
       " 5.010666666666666,\n",
       " 5.02,\n",
       " 4.957333333333334,\n",
       " 4.967666666666666,\n",
       " 4.997,\n",
       " 4.998333333333333,\n",
       " 5.030666666666667,\n",
       " 5.032333333333334,\n",
       " 4.989333333333334,\n",
       " 4.994666666666666,\n",
       " 4.989,\n",
       " 5.012,\n",
       " 5.012,\n",
       " 4.963666666666667,\n",
       " 4.959666666666666,\n",
       " 5.041,\n",
       " 5.004,\n",
       " 4.979333333333333,\n",
       " 4.979333333333333,\n",
       " 4.958,\n",
       " 5.003,\n",
       " 4.94,\n",
       " 5.008666666666667,\n",
       " 4.966,\n",
       " 5.024,\n",
       " 5.047666666666666,\n",
       " 4.956333333333333,\n",
       " 5.003,\n",
       " 4.957,\n",
       " 4.956666666666667,\n",
       " 5.004,\n",
       " 4.988,\n",
       " 4.997,\n",
       " 4.959666666666666,\n",
       " 4.967,\n",
       " 4.974666666666667,\n",
       " 4.961,\n",
       " 4.984666666666667,\n",
       " 5.004666666666667,\n",
       " 5.059666666666667,\n",
       " 5.042,\n",
       " 5.024333333333334,\n",
       " 4.989,\n",
       " 4.983333333333333,\n",
       " 5.006,\n",
       " 5.038333333333333,\n",
       " 4.969,\n",
       " 4.979666666666667,\n",
       " 4.958333333333333,\n",
       " 4.932333333333333,\n",
       " 5.007333333333333,\n",
       " 4.991666666666666,\n",
       " 4.958666666666667,\n",
       " 4.977333333333333,\n",
       " 5.006333333333333,\n",
       " 4.967,\n",
       " 4.992,\n",
       " 5.018666666666666,\n",
       " 5.019333333333333,\n",
       " 4.954666666666666,\n",
       " 4.987333333333333,\n",
       " 4.934666666666667,\n",
       " 4.966333333333333,\n",
       " 4.925333333333334,\n",
       " 4.981,\n",
       " 5.040666666666667,\n",
       " 4.955333333333333,\n",
       " 5.026,\n",
       " 5.022,\n",
       " 4.975666666666666,\n",
       " 4.97,\n",
       " 5.029,\n",
       " 4.953333333333333,\n",
       " 5.029,\n",
       " 5.0183333333333335,\n",
       " 4.956333333333333,\n",
       " 5.005,\n",
       " 4.984333333333334,\n",
       " 5.000333333333334,\n",
       " 4.985666666666667,\n",
       " 4.977666666666667,\n",
       " 5.007,\n",
       " 5.051333333333333,\n",
       " 5.0136666666666665,\n",
       " 4.981,\n",
       " 5.012666666666667,\n",
       " 4.988333333333333,\n",
       " 4.973333333333334,\n",
       " 4.963666666666667,\n",
       " 4.973333333333334,\n",
       " 5.059,\n",
       " 4.961,\n",
       " 4.984666666666667,\n",
       " 4.9736666666666665,\n",
       " 4.981,\n",
       " 4.999666666666666,\n",
       " 5.007666666666666,\n",
       " 4.986,\n",
       " 4.919,\n",
       " 5.067666666666667,\n",
       " 5.012333333333333,\n",
       " 4.999333333333333,\n",
       " 4.968333333333334,\n",
       " 4.965333333333334,\n",
       " 4.951,\n",
       " 4.988333333333333,\n",
       " 5.000333333333334,\n",
       " 4.988333333333333,\n",
       " 4.987,\n",
       " 4.977666666666667,\n",
       " 4.981333333333334,\n",
       " 5.023333333333333,\n",
       " 4.968333333333334,\n",
       " 4.991666666666666,\n",
       " 5.007666666666666,\n",
       " 5.018666666666666,\n",
       " 5.057666666666667,\n",
       " 4.965,\n",
       " 4.973333333333334,\n",
       " 5.017333333333333,\n",
       " 4.9863333333333335,\n",
       " 4.996666666666667,\n",
       " 4.965333333333334,\n",
       " 4.973,\n",
       " 4.986,\n",
       " 4.9736666666666665,\n",
       " 4.985,\n",
       " 5.003,\n",
       " 4.996,\n",
       " 5.017666666666667,\n",
       " 4.9656666666666665,\n",
       " 4.971666666666667,\n",
       " 4.980666666666667,\n",
       " 4.992,\n",
       " 4.931,\n",
       " 5.002666666666666,\n",
       " 5.038666666666667,\n",
       " 4.996,\n",
       " 4.972,\n",
       " 5.008666666666667,\n",
       " 4.993666666666667,\n",
       " 5.02,\n",
       " 4.945333333333333,\n",
       " 4.959,\n",
       " 5.031333333333333,\n",
       " 4.996333333333333,\n",
       " 5.057333333333333,\n",
       " 5.014666666666667,\n",
       " 4.972333333333333,\n",
       " 5.001,\n",
       " 4.9223333333333334,\n",
       " 4.963333333333333,\n",
       " 4.972,\n",
       " 4.942333333333333,\n",
       " 5.006,\n",
       " 5.031666666666666,\n",
       " 4.979666666666667,\n",
       " 4.968,\n",
       " 5.013333333333334,\n",
       " 5.025,\n",
       " 5.027,\n",
       " 5.035666666666667,\n",
       " 4.955666666666667,\n",
       " 5.015666666666666,\n",
       " 4.982333333333333,\n",
       " 4.967,\n",
       " 4.929666666666667,\n",
       " 4.981333333333334,\n",
       " 4.929,\n",
       " 4.9736666666666665,\n",
       " 5.012,\n",
       " 5.017,\n",
       " 4.976,\n",
       " 4.991333333333333,\n",
       " 4.927333333333333,\n",
       " 5.044333333333333,\n",
       " 4.942666666666667,\n",
       " 5.025666666666667,\n",
       " 4.997,\n",
       " 4.983,\n",
       " 4.980666666666667,\n",
       " 4.991,\n",
       " 5.022333333333333,\n",
       " 4.977666666666667,\n",
       " 5.003333333333333,\n",
       " 4.948666666666667,\n",
       " 4.935,\n",
       " 5.0103333333333335,\n",
       " 4.974333333333333,\n",
       " 4.979666666666667,\n",
       " 4.963666666666667,\n",
       " 4.996666666666667,\n",
       " 4.996666666666667,\n",
       " 5.012,\n",
       " 4.954,\n",
       " 4.929,\n",
       " 4.960666666666667,\n",
       " 4.992,\n",
       " 4.960666666666667,\n",
       " 4.964333333333333,\n",
       " 5.0023333333333335,\n",
       " 4.955,\n",
       " 4.932333333333333,\n",
       " 4.9816666666666665,\n",
       " 4.971,\n",
       " 4.972,\n",
       " 4.977,\n",
       " 4.9943333333333335,\n",
       " 5.027666666666667,\n",
       " 5.001,\n",
       " 5.014666666666667,\n",
       " 4.981333333333334,\n",
       " 5.029,\n",
       " 5.03,\n",
       " 4.932666666666667,\n",
       " 4.992333333333334,\n",
       " 4.9816666666666665,\n",
       " 4.998,\n",
       " 4.985666666666667,\n",
       " 4.970666666666666,\n",
       " 4.996,\n",
       " 4.994666666666666,\n",
       " 4.9943333333333335,\n",
       " 5.015333333333333,\n",
       " 5.002,\n",
       " 5.023,\n",
       " 5.046333333333333,\n",
       " 4.925666666666666,\n",
       " 4.956333333333333,\n",
       " 4.939,\n",
       " 4.978666666666666,\n",
       " 4.97,\n",
       " 4.983666666666666,\n",
       " 5.031333333333333,\n",
       " 4.924666666666667,\n",
       " 4.978,\n",
       " 4.963333333333333,\n",
       " 4.967333333333333,\n",
       " 4.987333333333333,\n",
       " 4.9703333333333335,\n",
       " 5.01,\n",
       " 4.981333333333334,\n",
       " 4.982,\n",
       " 5.005,\n",
       " 5.04,\n",
       " 4.973,\n",
       " 4.988666666666667,\n",
       " 4.947333333333333,\n",
       " 4.997,\n",
       " 5.031666666666666,\n",
       " 4.963,\n",
       " 5.022666666666667,\n",
       " 4.989333333333334,\n",
       " 4.997333333333334,\n",
       " 5.016333333333334,\n",
       " 5.013,\n",
       " 4.969,\n",
       " 4.980666666666667,\n",
       " 4.998,\n",
       " 4.977,\n",
       " 4.957,\n",
       " 4.952333333333334,\n",
       " 4.972,\n",
       " 4.988333333333333,\n",
       " 4.97,\n",
       " 5.006666666666667,\n",
       " 4.938666666666666,\n",
       " 5.038333333333333,\n",
       " 5.0136666666666665,\n",
       " 5.0296666666666665,\n",
       " 4.985,\n",
       " 5.031,\n",
       " 4.988333333333333,\n",
       " 4.985,\n",
       " 4.938666666666666,\n",
       " 5.015,\n",
       " 4.990666666666667,\n",
       " 4.981,\n",
       " 4.993333333333333,\n",
       " 5.0296666666666665,\n",
       " 5.021,\n",
       " 5.0376666666666665,\n",
       " 4.942666666666667,\n",
       " 4.993666666666667,\n",
       " 5.077333333333334,\n",
       " 4.993333333333333,\n",
       " 5.022333333333333,\n",
       " 5.000666666666667,\n",
       " 5.002,\n",
       " 5.004,\n",
       " 4.985666666666667,\n",
       " 5.0056666666666665,\n",
       " 4.958,\n",
       " 4.972666666666667,\n",
       " 4.917333333333334,\n",
       " 4.996666666666667,\n",
       " 4.959,\n",
       " 5.01,\n",
       " 4.979333333333333,\n",
       " 4.949666666666666,\n",
       " 5.053333333333334,\n",
       " 4.978666666666666,\n",
       " 5.023,\n",
       " 5.013333333333334,\n",
       " 5.0263333333333335,\n",
       " 5.0136666666666665,\n",
       " 4.985333333333333,\n",
       " 4.989333333333334,\n",
       " 5.0056666666666665,\n",
       " 5.044,\n",
       " 4.969333333333333,\n",
       " 4.982333333333333,\n",
       " 4.995333333333333,\n",
       " 5.022666666666667,\n",
       " 4.982,\n",
       " 5.008333333333334,\n",
       " 4.994,\n",
       " 4.967333333333333,\n",
       " 5.026,\n",
       " 4.968333333333334,\n",
       " 4.974666666666667,\n",
       " 5.012666666666667,\n",
       " 4.984666666666667,\n",
       " 5.009,\n",
       " 4.966666666666667,\n",
       " 5.006666666666667,\n",
       " 5.03,\n",
       " 5.0023333333333335,\n",
       " 5.028333333333333,\n",
       " 5.016333333333334,\n",
       " 5.004333333333333,\n",
       " 5.0023333333333335,\n",
       " 4.972666666666667,\n",
       " 5.0263333333333335,\n",
       " 4.972,\n",
       " 4.985333333333333,\n",
       " 5.004333333333333,\n",
       " 4.972333333333333,\n",
       " 4.9736666666666665,\n",
       " 4.981,\n",
       " 5.039666666666666,\n",
       " 5.011666666666667,\n",
       " 4.982,\n",
       " 5.016333333333334,\n",
       " 4.952333333333334,\n",
       " 5.008,\n",
       " 4.944333333333334,\n",
       " 5.012,\n",
       " 4.974,\n",
       " 4.982666666666667,\n",
       " 4.9976666666666665,\n",
       " 4.993666666666667,\n",
       " 4.971333333333333,\n",
       " 4.929,\n",
       " 4.971666666666667,\n",
       " 5.010666666666666,\n",
       " 4.961666666666667,\n",
       " 4.978666666666666,\n",
       " 4.976,\n",
       " 5.059666666666667,\n",
       " 5.002,\n",
       " 4.996666666666667,\n",
       " 4.964666666666667,\n",
       " 5.001666666666667,\n",
       " 4.9303333333333335,\n",
       " 4.953333333333333,\n",
       " 4.949666666666666,\n",
       " 4.972,\n",
       " 5.019666666666667,\n",
       " 4.995666666666667,\n",
       " 5.004,\n",
       " 5.033666666666667,\n",
       " 5.036666666666667,\n",
       " 4.983,\n",
       " 4.987666666666667,\n",
       " 4.98,\n",
       " 5.012,\n",
       " 5.023,\n",
       " 5.023666666666666,\n",
       " 5.0776666666666666,\n",
       " 4.999333333333333,\n",
       " 4.948,\n",
       " 4.958333333333333,\n",
       " 4.98,\n",
       " 4.965333333333334,\n",
       " 4.968,\n",
       " 4.973,\n",
       " 5.031333333333333,\n",
       " 4.998666666666667,\n",
       " 4.918,\n",
       " 4.969,\n",
       " 4.997,\n",
       " 5.003,\n",
       " 4.995666666666667,\n",
       " 4.974666666666667,\n",
       " 4.939333333333333,\n",
       " 4.975666666666666,\n",
       " 5.053333333333334,\n",
       " 4.996666666666667,\n",
       " 5.009,\n",
       " 4.963666666666667,\n",
       " 5.018666666666666,\n",
       " 5.0056666666666665,\n",
       " 4.999333333333333,\n",
       " 4.954,\n",
       " 4.991666666666666,\n",
       " 5.011,\n",
       " 4.9736666666666665,\n",
       " 4.998333333333333,\n",
       " 4.955333333333333,\n",
       " 5.007,\n",
       " 4.99,\n",
       " 4.987333333333333,\n",
       " 4.977666666666667,\n",
       " 4.997333333333334,\n",
       " 4.995,\n",
       " 5.032666666666667,\n",
       " 5.0023333333333335,\n",
       " 5.006333333333333,\n",
       " 4.931666666666667,\n",
       " 4.97,\n",
       " 5.024,\n",
       " 5.047666666666666,\n",
       " 5.024333333333334,\n",
       " 5.031666666666666,\n",
       " 5.027666666666667,\n",
       " 4.989333333333334,\n",
       " 4.974,\n",
       " 4.999,\n",
       " 4.9736666666666665,\n",
       " 5.000333333333334,\n",
       " 4.952333333333334,\n",
       " 4.968333333333334,\n",
       " 5.012,\n",
       " 4.986,\n",
       " 5.004666666666667,\n",
       " 4.979,\n",
       " 4.941333333333334,\n",
       " 5.001666666666667,\n",
       " 5.061333333333334,\n",
       " 4.915666666666667,\n",
       " 4.979666666666667,\n",
       " 4.933666666666666,\n",
       " 4.985,\n",
       " 4.976333333333334,\n",
       " 5.004666666666667,\n",
       " 5.046,\n",
       " 5.028,\n",
       " 5.019,\n",
       " 4.980666666666667,\n",
       " 4.981,\n",
       " 4.957,\n",
       " 4.977333333333333,\n",
       " 4.934666666666667,\n",
       " 5.035666666666667,\n",
       " 5.007666666666666,\n",
       " 5.027,\n",
       " 5.020666666666667,\n",
       " 4.985666666666667,\n",
       " 4.923,\n",
       " 5.005,\n",
       " 5.023666666666666,\n",
       " 4.961,\n",
       " 4.988333333333333,\n",
       " 4.990333333333333,\n",
       " 5.0263333333333335,\n",
       " 5.005,\n",
       " 4.961,\n",
       " 5.007,\n",
       " 4.963,\n",
       " 4.995666666666667,\n",
       " 4.997,\n",
       " 4.923333333333333,\n",
       " 4.9863333333333335,\n",
       " 4.974666666666667,\n",
       " 5.001333333333333,\n",
       " 4.982333333333333,\n",
       " 4.982333333333333,\n",
       " 4.988666666666667,\n",
       " 4.958333333333333,\n",
       " 5.006,\n",
       " 5.085666666666667,\n",
       " 4.981333333333334,\n",
       " 4.966,\n",
       " 5.005,\n",
       " 4.975666666666666,\n",
       " 4.953666666666667,\n",
       " 5.038666666666667,\n",
       " 5.027,\n",
       " 4.947,\n",
       " 4.999333333333333,\n",
       " 4.993333333333333,\n",
       " 4.990666666666667,\n",
       " 5.035333333333333,\n",
       " 4.968666666666667,\n",
       " 5.011666666666667,\n",
       " 4.991333333333333,\n",
       " 4.993333333333333,\n",
       " 4.987666666666667,\n",
       " 5.023333333333333,\n",
       " 4.987666666666667,\n",
       " 4.956,\n",
       " 5.005,\n",
       " 4.964,\n",
       " 5.034666666666666,\n",
       " 5.026666666666666,\n",
       " 4.992666666666667,\n",
       " 5.0,\n",
       " 4.957333333333334,\n",
       " 5.003333333333333,\n",
       " 4.9446666666666665,\n",
       " 4.974333333333333,\n",
       " ...]"
      ]
     },
     "execution_count": 67,
     "metadata": {},
     "output_type": "execute_result"
    }
   ],
   "source": [
    "mean_of_samples"
   ]
  },
  {
   "cell_type": "code",
   "execution_count": 68,
   "id": "da9411aa",
   "metadata": {},
   "outputs": [
    {
     "data": {
      "text/plain": [
       "1.959963984540054"
      ]
     },
     "execution_count": 68,
     "metadata": {},
     "output_type": "execute_result"
    }
   ],
   "source": [
    "z_critical = stats.norm.ppf(q = 0.975)\n",
    "z_critical\n",
    "#zcritical for give alpha, ztable"
   ]
  },
  {
   "cell_type": "code",
   "execution_count": 69,
   "id": "6e47781e",
   "metadata": {},
   "outputs": [
    {
     "data": {
      "text/plain": [
       "1.973994288847133"
      ]
     },
     "execution_count": 69,
     "metadata": {},
     "output_type": "execute_result"
    }
   ],
   "source": [
    "#t critical for give alpha, ttable\n",
    "stats.t.ppf(df = 24, q = 0.97)"
   ]
  },
  {
   "cell_type": "code",
   "execution_count": 70,
   "id": "40c4bc1d",
   "metadata": {},
   "outputs": [],
   "source": [
    "#margin of error\n",
    "margin_of_error = z_critical * np.std(mean_of_samples) / np.sqrt(20)"
   ]
  },
  {
   "cell_type": "code",
   "execution_count": 71,
   "id": "3fdce0d7",
   "metadata": {},
   "outputs": [
    {
     "data": {
      "text/plain": [
       "0.012664734902717955"
      ]
     },
     "execution_count": 71,
     "metadata": {},
     "output_type": "execute_result"
    }
   ],
   "source": [
    "margin_of_error"
   ]
  },
  {
   "cell_type": "code",
   "execution_count": 72,
   "id": "3609abd3",
   "metadata": {},
   "outputs": [
    {
     "data": {
      "text/plain": [
       "[5.004666666666667,\n",
       " 4.984333333333334,\n",
       " 4.959333333333333,\n",
       " 4.984666666666667,\n",
       " 5.015333333333333,\n",
       " 4.911333333333333,\n",
       " 5.016,\n",
       " 5.006666666666667,\n",
       " 4.974333333333333,\n",
       " 4.973333333333334,\n",
       " 4.9943333333333335,\n",
       " 5.02,\n",
       " 5.012,\n",
       " 5.01,\n",
       " 5.039666666666666,\n",
       " 4.9623333333333335,\n",
       " 5.069333333333334,\n",
       " 4.977333333333333,\n",
       " 5.0343333333333335,\n",
       " 4.988,\n",
       " 4.990666666666667,\n",
       " 5.035666666666667,\n",
       " 4.940333333333333,\n",
       " 5.025666666666667,\n",
       " 5.005333333333334,\n",
       " 4.972333333333333,\n",
       " 5.0616666666666665,\n",
       " 4.991333333333333,\n",
       " 4.988333333333333,\n",
       " 4.975333333333333,\n",
       " 4.99,\n",
       " 4.9943333333333335,\n",
       " 5.023,\n",
       " 4.967666666666666,\n",
       " 4.972333333333333,\n",
       " 4.985,\n",
       " 4.989333333333334,\n",
       " 5.011333333333333,\n",
       " 4.986,\n",
       " 5.0216666666666665,\n",
       " 5.001333333333333,\n",
       " 5.012333333333333,\n",
       " 4.905333333333333,\n",
       " 4.978,\n",
       " 4.989,\n",
       " 4.966666666666667,\n",
       " 5.001,\n",
       " 5.0023333333333335,\n",
       " 4.984666666666667,\n",
       " 5.035333333333333,\n",
       " 4.957,\n",
       " 5.030666666666667,\n",
       " 5.004666666666667,\n",
       " 4.955,\n",
       " 4.988666666666667,\n",
       " 5.041,\n",
       " 4.9816666666666665,\n",
       " 5.012333333333333,\n",
       " 4.95,\n",
       " 5.042333333333334,\n",
       " 4.987333333333333,\n",
       " 4.990333333333333,\n",
       " 5.003333333333333,\n",
       " 4.941666666666666,\n",
       " 4.937,\n",
       " 4.917333333333334,\n",
       " 4.966,\n",
       " 5.004333333333333,\n",
       " 5.046666666666667,\n",
       " 5.023333333333333,\n",
       " 4.99,\n",
       " 4.9543333333333335,\n",
       " 5.057,\n",
       " 4.98,\n",
       " 5.008666666666667,\n",
       " 4.995333333333333,\n",
       " 4.964,\n",
       " 5.005333333333334,\n",
       " 4.943,\n",
       " 4.975666666666666,\n",
       " 4.956666666666667,\n",
       " 5.001333333333333,\n",
       " 5.028,\n",
       " 4.923,\n",
       " 5.04,\n",
       " 5.028666666666667,\n",
       " 4.976666666666667,\n",
       " 5.02,\n",
       " 5.012333333333333,\n",
       " 5.002666666666666,\n",
       " 4.961666666666667,\n",
       " 5.006666666666667,\n",
       " 4.9366666666666665,\n",
       " 4.999,\n",
       " 5.015666666666666,\n",
       " 5.047666666666666,\n",
       " 4.979666666666667,\n",
       " 4.994,\n",
       " 4.995,\n",
       " 4.981333333333334,\n",
       " 4.935,\n",
       " 5.023,\n",
       " 5.0,\n",
       " 5.000666666666667,\n",
       " 4.92,\n",
       " 5.016333333333334,\n",
       " 4.956333333333333,\n",
       " 5.066666666666666,\n",
       " 5.018666666666666,\n",
       " 4.947666666666667,\n",
       " 4.945,\n",
       " 5.043,\n",
       " 4.9896666666666665,\n",
       " 5.0343333333333335,\n",
       " 4.919333333333333,\n",
       " 4.973,\n",
       " 4.977333333333333,\n",
       " 5.000666666666667,\n",
       " 4.983,\n",
       " 5.000333333333334,\n",
       " 5.009333333333333,\n",
       " 4.963333333333333,\n",
       " 4.989,\n",
       " 5.004666666666667,\n",
       " 4.989333333333334,\n",
       " 5.035666666666667,\n",
       " 5.049,\n",
       " 5.008666666666667,\n",
       " 4.958,\n",
       " 4.962666666666666,\n",
       " 4.952333333333334,\n",
       " 4.998666666666667,\n",
       " 5.032333333333334,\n",
       " 5.0216666666666665,\n",
       " 4.956666666666667,\n",
       " 5.014,\n",
       " 4.995,\n",
       " 4.960333333333334,\n",
       " 4.977333333333333,\n",
       " 5.027333333333333,\n",
       " 5.02,\n",
       " 4.921333333333333,\n",
       " 4.946666666666666,\n",
       " 4.999333333333333,\n",
       " 5.031,\n",
       " 4.968666666666667,\n",
       " 5.030333333333333,\n",
       " 4.9736666666666665,\n",
       " 4.955333333333333,\n",
       " 5.083666666666667,\n",
       " 4.957666666666666,\n",
       " 5.009333333333333,\n",
       " 5.017,\n",
       " 5.017333333333333,\n",
       " 4.982666666666667,\n",
       " 4.997,\n",
       " 5.032666666666667,\n",
       " 5.001333333333333,\n",
       " 4.987333333333333,\n",
       " 4.955,\n",
       " 5.024,\n",
       " 5.014333333333333,\n",
       " 4.951666666666667,\n",
       " 4.9703333333333335,\n",
       " 5.019,\n",
       " 4.983666666666666,\n",
       " 5.01,\n",
       " 5.008,\n",
       " 4.934,\n",
       " 4.929666666666667,\n",
       " 4.993666666666667,\n",
       " 5.044333333333333,\n",
       " 4.938,\n",
       " 4.950333333333333,\n",
       " 4.996666666666667,\n",
       " 4.993,\n",
       " 4.986666666666666,\n",
       " 4.959333333333333,\n",
       " 4.9383333333333335,\n",
       " 4.934666666666667,\n",
       " 5.021,\n",
       " 5.011666666666667,\n",
       " 4.976,\n",
       " 5.026,\n",
       " 4.983333333333333,\n",
       " 5.052,\n",
       " 4.983333333333333,\n",
       " 4.990666666666667,\n",
       " 4.9366666666666665,\n",
       " 4.9816666666666665,\n",
       " 4.972666666666667,\n",
       " 4.972,\n",
       " 4.923666666666667,\n",
       " 5.0136666666666665,\n",
       " 4.938,\n",
       " 4.999666666666666,\n",
       " 4.967666666666666,\n",
       " 5.000333333333334,\n",
       " 4.988,\n",
       " 4.995666666666667,\n",
       " 5.0263333333333335,\n",
       " 4.979,\n",
       " 5.028333333333333,\n",
       " 4.9943333333333335,\n",
       " 4.965333333333334,\n",
       " 5.017,\n",
       " 4.991333333333333,\n",
       " 5.013333333333334,\n",
       " 4.9943333333333335,\n",
       " 4.9783333333333335,\n",
       " 4.963333333333333,\n",
       " 4.975666666666666,\n",
       " 5.011,\n",
       " 4.937666666666667,\n",
       " 4.987666666666667,\n",
       " 4.9703333333333335,\n",
       " 4.959,\n",
       " 5.0,\n",
       " 4.958,\n",
       " 4.941,\n",
       " 4.999666666666666,\n",
       " 4.964666666666667,\n",
       " 4.9623333333333335,\n",
       " 5.02,\n",
       " 4.974666666666667,\n",
       " 5.0263333333333335,\n",
       " 4.973333333333334,\n",
       " 5.002,\n",
       " 5.024333333333334,\n",
       " 5.010666666666666,\n",
       " 5.004,\n",
       " 5.005333333333334,\n",
       " 4.991333333333333,\n",
       " 4.976,\n",
       " 4.977,\n",
       " 5.019333333333333,\n",
       " 4.956,\n",
       " 5.0023333333333335,\n",
       " 5.0136666666666665,\n",
       " 5.032333333333334,\n",
       " 4.958666666666667,\n",
       " 5.014333333333333,\n",
       " 4.978,\n",
       " 5.002666666666666,\n",
       " 4.963666666666667,\n",
       " 5.022,\n",
       " 5.002666666666666,\n",
       " 4.972666666666667,\n",
       " 5.049,\n",
       " 5.0216666666666665,\n",
       " 5.000333333333334,\n",
       " 4.987333333333333,\n",
       " 4.964333333333333,\n",
       " 5.004333333333333,\n",
       " 4.959333333333333,\n",
       " 5.010666666666666,\n",
       " 5.017666666666667,\n",
       " 4.993333333333333,\n",
       " 5.0,\n",
       " 5.013,\n",
       " 5.001333333333333,\n",
       " 5.038,\n",
       " 4.9943333333333335,\n",
       " 5.007333333333333,\n",
       " 4.998,\n",
       " 5.007,\n",
       " 5.035,\n",
       " 5.028333333333333,\n",
       " 4.978666666666666,\n",
       " 5.020666666666667,\n",
       " 4.979666666666667,\n",
       " 4.987,\n",
       " 4.994666666666666,\n",
       " 4.959,\n",
       " 5.033666666666667,\n",
       " 4.994,\n",
       " 4.941333333333334,\n",
       " 5.010666666666666,\n",
       " 5.031666666666666,\n",
       " 4.992666666666667,\n",
       " 4.945,\n",
       " 5.02,\n",
       " 5.035,\n",
       " 4.9126666666666665,\n",
       " 5.0023333333333335,\n",
       " 4.9783333333333335,\n",
       " 4.984333333333334,\n",
       " 5.0183333333333335,\n",
       " 4.987666666666667,\n",
       " 4.989,\n",
       " 4.974666666666667,\n",
       " 4.996666666666667,\n",
       " 5.0056666666666665,\n",
       " 5.033666666666667,\n",
       " 5.013333333333334,\n",
       " 5.003,\n",
       " 5.020333333333333,\n",
       " 5.008,\n",
       " 5.017,\n",
       " 4.959333333333333,\n",
       " 5.004333333333333,\n",
       " 4.973,\n",
       " 5.005,\n",
       " 5.0023333333333335,\n",
       " 4.962666666666666,\n",
       " 4.967333333333333,\n",
       " 4.998333333333333,\n",
       " 4.9976666666666665,\n",
       " 4.96,\n",
       " 5.020333333333333,\n",
       " 4.946,\n",
       " 5.0,\n",
       " 4.982333333333333,\n",
       " 5.030333333333333,\n",
       " 4.972666666666667,\n",
       " 4.959333333333333,\n",
       " 4.974,\n",
       " 4.965,\n",
       " 4.979333333333333,\n",
       " 4.983666666666666,\n",
       " 4.988666666666667,\n",
       " 4.942666666666667,\n",
       " 4.958666666666667,\n",
       " 4.9463333333333335,\n",
       " 5.012,\n",
       " 5.019333333333333,\n",
       " 4.983333333333333,\n",
       " 4.971333333333333,\n",
       " 5.025333333333333,\n",
       " 5.031666666666666,\n",
       " 5.006666666666667,\n",
       " 4.990666666666667,\n",
       " 5.003333333333333,\n",
       " 4.985,\n",
       " 4.933333333333334,\n",
       " 4.9976666666666665,\n",
       " 4.956333333333333,\n",
       " 5.019,\n",
       " 4.984333333333334,\n",
       " 5.0136666666666665,\n",
       " 4.999,\n",
       " 4.983,\n",
       " 5.012666666666667,\n",
       " 4.956666666666667,\n",
       " 4.970666666666666,\n",
       " 4.992,\n",
       " 4.968333333333334,\n",
       " 4.991333333333333,\n",
       " 5.032333333333334,\n",
       " 4.966666666666667,\n",
       " 5.014,\n",
       " 4.998,\n",
       " 4.972,\n",
       " 5.010666666666666,\n",
       " 4.993333333333333,\n",
       " 5.042,\n",
       " 4.974,\n",
       " 5.025333333333333,\n",
       " 5.031,\n",
       " 5.019333333333333,\n",
       " 5.021,\n",
       " 4.980666666666667,\n",
       " 4.999,\n",
       " 4.993666666666667,\n",
       " 4.992333333333334,\n",
       " 5.005333333333334,\n",
       " 5.002,\n",
       " 5.024333333333334,\n",
       " 5.008,\n",
       " 5.028333333333333,\n",
       " 4.944,\n",
       " 5.024333333333334,\n",
       " 4.984666666666667,\n",
       " 5.009,\n",
       " 4.948,\n",
       " 5.002,\n",
       " 5.02,\n",
       " 4.996,\n",
       " 4.967,\n",
       " 4.934666666666667,\n",
       " 4.954,\n",
       " 4.988666666666667,\n",
       " 4.957333333333334,\n",
       " 4.987666666666667,\n",
       " 4.994,\n",
       " 4.954,\n",
       " 5.026,\n",
       " 5.019,\n",
       " 5.019333333333333,\n",
       " 4.995666666666667,\n",
       " 5.015,\n",
       " 4.939666666666667,\n",
       " 4.967666666666666,\n",
       " 5.016,\n",
       " 4.997,\n",
       " 5.0376666666666665,\n",
       " 4.991666666666666,\n",
       " 5.003333333333333,\n",
       " 4.984,\n",
       " 5.011,\n",
       " 4.964666666666667,\n",
       " 5.036,\n",
       " 5.007,\n",
       " 5.030333333333333,\n",
       " 4.976,\n",
       " 4.981,\n",
       " 5.023,\n",
       " 4.995666666666667,\n",
       " 5.014,\n",
       " 4.975666666666666,\n",
       " 5.017,\n",
       " 4.97,\n",
       " 5.000333333333334,\n",
       " 4.985,\n",
       " 5.020666666666667,\n",
       " 5.027333333333333,\n",
       " 5.005,\n",
       " 5.030333333333333,\n",
       " 4.9526666666666666,\n",
       " 4.995333333333333,\n",
       " 4.975666666666666,\n",
       " 4.9463333333333335,\n",
       " 4.954,\n",
       " 5.01,\n",
       " 4.992666666666667,\n",
       " 4.951666666666667,\n",
       " 5.008666666666667,\n",
       " 4.988,\n",
       " 5.002,\n",
       " 5.017,\n",
       " 4.983666666666666,\n",
       " 5.003333333333333,\n",
       " 4.993333333333333,\n",
       " 4.967,\n",
       " 5.0056666666666665,\n",
       " 4.989,\n",
       " 5.014,\n",
       " 4.952,\n",
       " 4.966,\n",
       " 4.970666666666666,\n",
       " 5.028333333333333,\n",
       " 4.988666666666667,\n",
       " 4.983333333333333,\n",
       " 5.038333333333333,\n",
       " 5.012,\n",
       " 4.966333333333333,\n",
       " 4.971333333333333,\n",
       " 4.988666666666667,\n",
       " 5.027333333333333,\n",
       " 5.036333333333333,\n",
       " 5.020666666666667,\n",
       " 4.980666666666667,\n",
       " 4.977666666666667,\n",
       " 4.954666666666666,\n",
       " 4.963333333333333,\n",
       " 5.024666666666667,\n",
       " 4.963666666666667,\n",
       " 4.993,\n",
       " 4.993666666666667,\n",
       " 4.939333333333333,\n",
       " 4.999,\n",
       " 5.0023333333333335,\n",
       " 4.965333333333334,\n",
       " 5.0136666666666665,\n",
       " 4.999333333333333,\n",
       " 5.016333333333334,\n",
       " 5.009,\n",
       " 4.968,\n",
       " 5.0023333333333335,\n",
       " 4.979,\n",
       " 4.946666666666666,\n",
       " 5.029,\n",
       " 4.984666666666667,\n",
       " 5.032666666666667,\n",
       " 4.988333333333333,\n",
       " 4.993333333333333,\n",
       " 4.962666666666666,\n",
       " 4.9446666666666665,\n",
       " 5.012,\n",
       " 4.960333333333334,\n",
       " 4.999333333333333,\n",
       " 4.9623333333333335,\n",
       " 5.000333333333334,\n",
       " 4.976,\n",
       " 4.979666666666667,\n",
       " 5.0023333333333335,\n",
       " 5.010666666666666,\n",
       " 5.017666666666667,\n",
       " 5.010666666666666,\n",
       " 5.02,\n",
       " 4.957333333333334,\n",
       " 4.967666666666666,\n",
       " 4.997,\n",
       " 4.998333333333333,\n",
       " 5.030666666666667,\n",
       " 5.032333333333334,\n",
       " 4.989333333333334,\n",
       " 4.994666666666666,\n",
       " 4.989,\n",
       " 5.012,\n",
       " 5.012,\n",
       " 4.963666666666667,\n",
       " 4.959666666666666,\n",
       " 5.041,\n",
       " 5.004,\n",
       " 4.979333333333333,\n",
       " 4.979333333333333,\n",
       " 4.958,\n",
       " 5.003,\n",
       " 4.94,\n",
       " 5.008666666666667,\n",
       " 4.966,\n",
       " 5.024,\n",
       " 5.047666666666666,\n",
       " 4.956333333333333,\n",
       " 5.003,\n",
       " 4.957,\n",
       " 4.956666666666667,\n",
       " 5.004,\n",
       " 4.988,\n",
       " 4.997,\n",
       " 4.959666666666666,\n",
       " 4.967,\n",
       " 4.974666666666667,\n",
       " 4.961,\n",
       " 4.984666666666667,\n",
       " 5.004666666666667,\n",
       " 5.059666666666667,\n",
       " 5.042,\n",
       " 5.024333333333334,\n",
       " 4.989,\n",
       " 4.983333333333333,\n",
       " 5.006,\n",
       " 5.038333333333333,\n",
       " 4.969,\n",
       " 4.979666666666667,\n",
       " 4.958333333333333,\n",
       " 4.932333333333333,\n",
       " 5.007333333333333,\n",
       " 4.991666666666666,\n",
       " 4.958666666666667,\n",
       " 4.977333333333333,\n",
       " 5.006333333333333,\n",
       " 4.967,\n",
       " 4.992,\n",
       " 5.018666666666666,\n",
       " 5.019333333333333,\n",
       " 4.954666666666666,\n",
       " 4.987333333333333,\n",
       " 4.934666666666667,\n",
       " 4.966333333333333,\n",
       " 4.925333333333334,\n",
       " 4.981,\n",
       " 5.040666666666667,\n",
       " 4.955333333333333,\n",
       " 5.026,\n",
       " 5.022,\n",
       " 4.975666666666666,\n",
       " 4.97,\n",
       " 5.029,\n",
       " 4.953333333333333,\n",
       " 5.029,\n",
       " 5.0183333333333335,\n",
       " 4.956333333333333,\n",
       " 5.005,\n",
       " 4.984333333333334,\n",
       " 5.000333333333334,\n",
       " 4.985666666666667,\n",
       " 4.977666666666667,\n",
       " 5.007,\n",
       " 5.051333333333333,\n",
       " 5.0136666666666665,\n",
       " 4.981,\n",
       " 5.012666666666667,\n",
       " 4.988333333333333,\n",
       " 4.973333333333334,\n",
       " 4.963666666666667,\n",
       " 4.973333333333334,\n",
       " 5.059,\n",
       " 4.961,\n",
       " 4.984666666666667,\n",
       " 4.9736666666666665,\n",
       " 4.981,\n",
       " 4.999666666666666,\n",
       " 5.007666666666666,\n",
       " 4.986,\n",
       " 4.919,\n",
       " 5.067666666666667,\n",
       " 5.012333333333333,\n",
       " 4.999333333333333,\n",
       " 4.968333333333334,\n",
       " 4.965333333333334,\n",
       " 4.951,\n",
       " 4.988333333333333,\n",
       " 5.000333333333334,\n",
       " 4.988333333333333,\n",
       " 4.987,\n",
       " 4.977666666666667,\n",
       " 4.981333333333334,\n",
       " 5.023333333333333,\n",
       " 4.968333333333334,\n",
       " 4.991666666666666,\n",
       " 5.007666666666666,\n",
       " 5.018666666666666,\n",
       " 5.057666666666667,\n",
       " 4.965,\n",
       " 4.973333333333334,\n",
       " 5.017333333333333,\n",
       " 4.9863333333333335,\n",
       " 4.996666666666667,\n",
       " 4.965333333333334,\n",
       " 4.973,\n",
       " 4.986,\n",
       " 4.9736666666666665,\n",
       " 4.985,\n",
       " 5.003,\n",
       " 4.996,\n",
       " 5.017666666666667,\n",
       " 4.9656666666666665,\n",
       " 4.971666666666667,\n",
       " 4.980666666666667,\n",
       " 4.992,\n",
       " 4.931,\n",
       " 5.002666666666666,\n",
       " 5.038666666666667,\n",
       " 4.996,\n",
       " 4.972,\n",
       " 5.008666666666667,\n",
       " 4.993666666666667,\n",
       " 5.02,\n",
       " 4.945333333333333,\n",
       " 4.959,\n",
       " 5.031333333333333,\n",
       " 4.996333333333333,\n",
       " 5.057333333333333,\n",
       " 5.014666666666667,\n",
       " 4.972333333333333,\n",
       " 5.001,\n",
       " 4.9223333333333334,\n",
       " 4.963333333333333,\n",
       " 4.972,\n",
       " 4.942333333333333,\n",
       " 5.006,\n",
       " 5.031666666666666,\n",
       " 4.979666666666667,\n",
       " 4.968,\n",
       " 5.013333333333334,\n",
       " 5.025,\n",
       " 5.027,\n",
       " 5.035666666666667,\n",
       " 4.955666666666667,\n",
       " 5.015666666666666,\n",
       " 4.982333333333333,\n",
       " 4.967,\n",
       " 4.929666666666667,\n",
       " 4.981333333333334,\n",
       " 4.929,\n",
       " 4.9736666666666665,\n",
       " 5.012,\n",
       " 5.017,\n",
       " 4.976,\n",
       " 4.991333333333333,\n",
       " 4.927333333333333,\n",
       " 5.044333333333333,\n",
       " 4.942666666666667,\n",
       " 5.025666666666667,\n",
       " 4.997,\n",
       " 4.983,\n",
       " 4.980666666666667,\n",
       " 4.991,\n",
       " 5.022333333333333,\n",
       " 4.977666666666667,\n",
       " 5.003333333333333,\n",
       " 4.948666666666667,\n",
       " 4.935,\n",
       " 5.0103333333333335,\n",
       " 4.974333333333333,\n",
       " 4.979666666666667,\n",
       " 4.963666666666667,\n",
       " 4.996666666666667,\n",
       " 4.996666666666667,\n",
       " 5.012,\n",
       " 4.954,\n",
       " 4.929,\n",
       " 4.960666666666667,\n",
       " 4.992,\n",
       " 4.960666666666667,\n",
       " 4.964333333333333,\n",
       " 5.0023333333333335,\n",
       " 4.955,\n",
       " 4.932333333333333,\n",
       " 4.9816666666666665,\n",
       " 4.971,\n",
       " 4.972,\n",
       " 4.977,\n",
       " 4.9943333333333335,\n",
       " 5.027666666666667,\n",
       " 5.001,\n",
       " 5.014666666666667,\n",
       " 4.981333333333334,\n",
       " 5.029,\n",
       " 5.03,\n",
       " 4.932666666666667,\n",
       " 4.992333333333334,\n",
       " 4.9816666666666665,\n",
       " 4.998,\n",
       " 4.985666666666667,\n",
       " 4.970666666666666,\n",
       " 4.996,\n",
       " 4.994666666666666,\n",
       " 4.9943333333333335,\n",
       " 5.015333333333333,\n",
       " 5.002,\n",
       " 5.023,\n",
       " 5.046333333333333,\n",
       " 4.925666666666666,\n",
       " 4.956333333333333,\n",
       " 4.939,\n",
       " 4.978666666666666,\n",
       " 4.97,\n",
       " 4.983666666666666,\n",
       " 5.031333333333333,\n",
       " 4.924666666666667,\n",
       " 4.978,\n",
       " 4.963333333333333,\n",
       " 4.967333333333333,\n",
       " 4.987333333333333,\n",
       " 4.9703333333333335,\n",
       " 5.01,\n",
       " 4.981333333333334,\n",
       " 4.982,\n",
       " 5.005,\n",
       " 5.04,\n",
       " 4.973,\n",
       " 4.988666666666667,\n",
       " 4.947333333333333,\n",
       " 4.997,\n",
       " 5.031666666666666,\n",
       " 4.963,\n",
       " 5.022666666666667,\n",
       " 4.989333333333334,\n",
       " 4.997333333333334,\n",
       " 5.016333333333334,\n",
       " 5.013,\n",
       " 4.969,\n",
       " 4.980666666666667,\n",
       " 4.998,\n",
       " 4.977,\n",
       " 4.957,\n",
       " 4.952333333333334,\n",
       " 4.972,\n",
       " 4.988333333333333,\n",
       " 4.97,\n",
       " 5.006666666666667,\n",
       " 4.938666666666666,\n",
       " 5.038333333333333,\n",
       " 5.0136666666666665,\n",
       " 5.0296666666666665,\n",
       " 4.985,\n",
       " 5.031,\n",
       " 4.988333333333333,\n",
       " 4.985,\n",
       " 4.938666666666666,\n",
       " 5.015,\n",
       " 4.990666666666667,\n",
       " 4.981,\n",
       " 4.993333333333333,\n",
       " 5.0296666666666665,\n",
       " 5.021,\n",
       " 5.0376666666666665,\n",
       " 4.942666666666667,\n",
       " 4.993666666666667,\n",
       " 5.077333333333334,\n",
       " 4.993333333333333,\n",
       " 5.022333333333333,\n",
       " 5.000666666666667,\n",
       " 5.002,\n",
       " 5.004,\n",
       " 4.985666666666667,\n",
       " 5.0056666666666665,\n",
       " 4.958,\n",
       " 4.972666666666667,\n",
       " 4.917333333333334,\n",
       " 4.996666666666667,\n",
       " 4.959,\n",
       " 5.01,\n",
       " 4.979333333333333,\n",
       " 4.949666666666666,\n",
       " 5.053333333333334,\n",
       " 4.978666666666666,\n",
       " 5.023,\n",
       " 5.013333333333334,\n",
       " 5.0263333333333335,\n",
       " 5.0136666666666665,\n",
       " 4.985333333333333,\n",
       " 4.989333333333334,\n",
       " 5.0056666666666665,\n",
       " 5.044,\n",
       " 4.969333333333333,\n",
       " 4.982333333333333,\n",
       " 4.995333333333333,\n",
       " 5.022666666666667,\n",
       " 4.982,\n",
       " 5.008333333333334,\n",
       " 4.994,\n",
       " 4.967333333333333,\n",
       " 5.026,\n",
       " 4.968333333333334,\n",
       " 4.974666666666667,\n",
       " 5.012666666666667,\n",
       " 4.984666666666667,\n",
       " 5.009,\n",
       " 4.966666666666667,\n",
       " 5.006666666666667,\n",
       " 5.03,\n",
       " 5.0023333333333335,\n",
       " 5.028333333333333,\n",
       " 5.016333333333334,\n",
       " 5.004333333333333,\n",
       " 5.0023333333333335,\n",
       " 4.972666666666667,\n",
       " 5.0263333333333335,\n",
       " 4.972,\n",
       " 4.985333333333333,\n",
       " 5.004333333333333,\n",
       " 4.972333333333333,\n",
       " 4.9736666666666665,\n",
       " 4.981,\n",
       " 5.039666666666666,\n",
       " 5.011666666666667,\n",
       " 4.982,\n",
       " 5.016333333333334,\n",
       " 4.952333333333334,\n",
       " 5.008,\n",
       " 4.944333333333334,\n",
       " 5.012,\n",
       " 4.974,\n",
       " 4.982666666666667,\n",
       " 4.9976666666666665,\n",
       " 4.993666666666667,\n",
       " 4.971333333333333,\n",
       " 4.929,\n",
       " 4.971666666666667,\n",
       " 5.010666666666666,\n",
       " 4.961666666666667,\n",
       " 4.978666666666666,\n",
       " 4.976,\n",
       " 5.059666666666667,\n",
       " 5.002,\n",
       " 4.996666666666667,\n",
       " 4.964666666666667,\n",
       " 5.001666666666667,\n",
       " 4.9303333333333335,\n",
       " 4.953333333333333,\n",
       " 4.949666666666666,\n",
       " 4.972,\n",
       " 5.019666666666667,\n",
       " 4.995666666666667,\n",
       " 5.004,\n",
       " 5.033666666666667,\n",
       " 5.036666666666667,\n",
       " 4.983,\n",
       " 4.987666666666667,\n",
       " 4.98,\n",
       " 5.012,\n",
       " 5.023,\n",
       " 5.023666666666666,\n",
       " 5.0776666666666666,\n",
       " 4.999333333333333,\n",
       " 4.948,\n",
       " 4.958333333333333,\n",
       " 4.98,\n",
       " 4.965333333333334,\n",
       " 4.968,\n",
       " 4.973,\n",
       " 5.031333333333333,\n",
       " 4.998666666666667,\n",
       " 4.918,\n",
       " 4.969,\n",
       " 4.997,\n",
       " 5.003,\n",
       " 4.995666666666667,\n",
       " 4.974666666666667,\n",
       " 4.939333333333333,\n",
       " 4.975666666666666,\n",
       " 5.053333333333334,\n",
       " 4.996666666666667,\n",
       " 5.009,\n",
       " 4.963666666666667,\n",
       " 5.018666666666666,\n",
       " 5.0056666666666665,\n",
       " 4.999333333333333,\n",
       " 4.954,\n",
       " 4.991666666666666,\n",
       " 5.011,\n",
       " 4.9736666666666665,\n",
       " 4.998333333333333,\n",
       " 4.955333333333333,\n",
       " 5.007,\n",
       " 4.99,\n",
       " 4.987333333333333,\n",
       " 4.977666666666667,\n",
       " 4.997333333333334,\n",
       " 4.995,\n",
       " 5.032666666666667,\n",
       " 5.0023333333333335,\n",
       " 5.006333333333333,\n",
       " 4.931666666666667,\n",
       " 4.97,\n",
       " 5.024,\n",
       " 5.047666666666666,\n",
       " 5.024333333333334,\n",
       " 5.031666666666666,\n",
       " 5.027666666666667,\n",
       " 4.989333333333334,\n",
       " 4.974,\n",
       " 4.999,\n",
       " 4.9736666666666665,\n",
       " 5.000333333333334,\n",
       " 4.952333333333334,\n",
       " 4.968333333333334,\n",
       " 5.012,\n",
       " 4.986,\n",
       " 5.004666666666667,\n",
       " 4.979,\n",
       " 4.941333333333334,\n",
       " 5.001666666666667,\n",
       " 5.061333333333334,\n",
       " 4.915666666666667,\n",
       " 4.979666666666667,\n",
       " 4.933666666666666,\n",
       " 4.985,\n",
       " 4.976333333333334,\n",
       " 5.004666666666667,\n",
       " 5.046,\n",
       " 5.028,\n",
       " 5.019,\n",
       " 4.980666666666667,\n",
       " 4.981,\n",
       " 4.957,\n",
       " 4.977333333333333,\n",
       " 4.934666666666667,\n",
       " 5.035666666666667,\n",
       " 5.007666666666666,\n",
       " 5.027,\n",
       " 5.020666666666667,\n",
       " 4.985666666666667,\n",
       " 4.923,\n",
       " 5.005,\n",
       " 5.023666666666666,\n",
       " 4.961,\n",
       " 4.988333333333333,\n",
       " 4.990333333333333,\n",
       " 5.0263333333333335,\n",
       " 5.005,\n",
       " 4.961,\n",
       " 5.007,\n",
       " 4.963,\n",
       " 4.995666666666667,\n",
       " 4.997,\n",
       " 4.923333333333333,\n",
       " 4.9863333333333335,\n",
       " 4.974666666666667,\n",
       " 5.001333333333333,\n",
       " 4.982333333333333,\n",
       " 4.982333333333333,\n",
       " 4.988666666666667,\n",
       " 4.958333333333333,\n",
       " 5.006,\n",
       " 5.085666666666667,\n",
       " 4.981333333333334,\n",
       " 4.966,\n",
       " 5.005,\n",
       " 4.975666666666666,\n",
       " 4.953666666666667,\n",
       " 5.038666666666667,\n",
       " 5.027,\n",
       " 4.947,\n",
       " 4.999333333333333,\n",
       " 4.993333333333333,\n",
       " 4.990666666666667,\n",
       " 5.035333333333333,\n",
       " 4.968666666666667,\n",
       " 5.011666666666667,\n",
       " 4.991333333333333,\n",
       " 4.993333333333333,\n",
       " 4.987666666666667,\n",
       " 5.023333333333333,\n",
       " 4.987666666666667,\n",
       " 4.956,\n",
       " 5.005,\n",
       " 4.964,\n",
       " 5.034666666666666,\n",
       " 5.026666666666666,\n",
       " 4.992666666666667,\n",
       " 5.0,\n",
       " 4.957333333333334,\n",
       " 5.003333333333333,\n",
       " 4.9446666666666665,\n",
       " 4.974333333333333,\n",
       " ...]"
      ]
     },
     "execution_count": 72,
     "metadata": {},
     "output_type": "execute_result"
    }
   ],
   "source": [
    "mean_of_samples"
   ]
  },
  {
   "cell_type": "code",
   "execution_count": 73,
   "id": "9cc71629",
   "metadata": {},
   "outputs": [
    {
     "data": {
      "text/plain": [
       "(4.978649896560428, 5.003979366365864)"
      ]
     },
     "execution_count": 73,
     "metadata": {},
     "output_type": "execute_result"
    }
   ],
   "source": [
    "#confidence intervl\n",
    "np.mean(mean_of_samples)-margin_of_error, np.mean(mean_of_samples)+margin_of_error"
   ]
  },
  {
   "cell_type": "code",
   "execution_count": 74,
   "id": "7fb02b19",
   "metadata": {},
   "outputs": [
    {
     "data": {
      "text/plain": [
       "array([ 1.49763747e+00, -2.71004749e+00, -1.46854399e+00,  1.37892912e-01,\n",
       "        1.29537083e+00,  1.49093164e+00, -2.54388592e-01,  9.35772682e-01,\n",
       "       -5.66107320e-01, -1.01878101e+00,  8.97862628e-01,  1.60143861e+00,\n",
       "       -2.83799412e-01,  8.13924522e-01,  2.74058079e-01,  8.51590407e-01,\n",
       "       -1.41372891e-01, -2.16474512e+00, -1.64423439e+00, -5.89768730e-01,\n",
       "        1.92994302e+00, -8.63358628e-01, -7.69898068e-01,  1.48609391e+00,\n",
       "        2.94246948e-01, -6.78232992e-01,  4.40894185e-01, -3.65830673e-01,\n",
       "       -2.28910773e-01, -5.67145107e-01, -4.65890709e-02,  7.04049624e-01,\n",
       "       -2.88887214e-01, -8.10674281e-01,  8.11075324e-01,  2.49580250e-01,\n",
       "       -2.13779349e-01,  6.48205544e-01,  1.69690523e+00,  4.71512528e-02,\n",
       "        5.14649409e-01, -2.75248460e-01,  3.37322433e-01, -3.58071542e-01,\n",
       "        1.27901619e-01,  1.03801342e+00, -2.24541236e+00, -6.39318246e-01,\n",
       "        8.01014486e-01,  6.84632614e-01, -8.87126280e-01,  1.43239830e+00,\n",
       "        2.00683960e-01, -1.67647316e-02,  1.12883940e+00,  2.70677814e-01,\n",
       "        8.59356265e-01,  1.19182062e+00, -8.85170027e-01, -1.23631101e+00,\n",
       "       -8.80775468e-01, -3.45414386e-01,  1.03904640e+00, -4.05307514e-01,\n",
       "       -3.89331168e-01,  1.34230436e+00, -4.92208032e-01,  6.67285147e-01,\n",
       "        1.51224247e-01,  2.13928381e-01,  9.84055448e-01,  2.33017287e-01,\n",
       "        2.05170961e+00,  1.40667856e+00,  1.82322847e-01, -1.78264508e+00,\n",
       "       -1.15467912e+00, -8.26842903e-01, -4.95598685e-01,  5.04129761e-01,\n",
       "       -1.91727599e-01,  9.44755343e-02, -4.82903810e-01, -1.63936926e+00,\n",
       "        1.23344671e-01, -4.31636447e-01, -1.15479055e+00,  6.10517185e-01,\n",
       "        9.00680464e-01,  3.97858407e-01,  6.72000600e-01, -2.00606049e+00,\n",
       "       -6.02535827e-01, -1.23716774e+00, -4.69148172e-02, -2.73136096e-02,\n",
       "       -6.61285905e-01,  8.74289762e-01,  2.83414125e-01,  1.74819478e-01,\n",
       "       -6.17957082e-01, -5.00283508e-01, -1.46705679e-02,  1.04774555e+00,\n",
       "        6.37113654e-01, -1.29896882e+00,  2.11136239e+00, -4.06976260e-01,\n",
       "        2.83110559e-01, -6.07391617e-02, -1.50606659e+00, -1.04056645e+00,\n",
       "        6.09383513e-01, -3.69864472e-01,  1.33771656e+00,  1.43974835e+00,\n",
       "       -3.47127939e-01,  1.05235362e-01,  2.15083952e+00, -1.18625736e+00,\n",
       "       -4.97665039e-01, -1.52580407e-01, -9.20199474e-01, -2.12301429e+00,\n",
       "       -7.98355898e-01, -8.70538527e-01,  7.40078448e-01,  1.76944902e-01,\n",
       "       -8.33779350e-01,  3.08394714e-01, -9.00208797e-01, -7.01451801e-01,\n",
       "        4.85294952e-02,  1.51266275e-01,  3.98091713e-01,  9.12279302e-01,\n",
       "        5.80835587e-01, -9.42877198e-01, -2.60834269e-01,  4.16639829e-01,\n",
       "       -2.51526961e-01, -1.12634622e-01, -1.79530198e-01, -1.74691602e-01,\n",
       "       -5.59384469e-01,  7.06087266e-01, -1.56654333e+00,  9.07164778e-01,\n",
       "        1.47304895e-02,  8.96475100e-02,  1.91702220e+00, -8.04770678e-01,\n",
       "        1.31285270e+00,  1.39829623e+00,  3.50919453e-01,  1.18823338e-01,\n",
       "        1.49403624e-01, -4.30835066e-01,  8.19750898e-01,  5.76581910e-05,\n",
       "        8.54088847e-01, -1.93223281e+00,  1.86628803e+00,  2.93624054e-01,\n",
       "       -3.27041128e-01,  9.68916854e-01,  1.52623546e-01, -9.61347464e-01,\n",
       "        1.00734507e-02, -2.01253703e-02,  8.54804988e-01, -4.14800386e-01,\n",
       "       -9.46289304e-02,  6.22041047e-01,  6.70759973e-01,  7.23686248e-01,\n",
       "        4.32007821e-01, -1.63562064e-01,  1.23052317e+00,  5.17724788e-01,\n",
       "       -1.56060751e+00,  3.66822969e-02,  2.50253925e-01,  1.41704935e-01,\n",
       "       -6.68387647e-01,  2.60994576e-01,  2.28204965e+00, -1.73598075e-01,\n",
       "        3.36306863e-01,  1.30954067e+00, -1.26120665e+00, -1.72840411e-01,\n",
       "        1.39059030e+00, -4.03644840e-01, -6.47169124e-01, -7.90220443e-01,\n",
       "       -3.40371291e-01,  1.58001708e+00, -4.64634628e-01,  4.61980628e-01,\n",
       "       -8.27360360e-02, -1.28717166e+00,  7.67516385e-01, -5.71729957e-01,\n",
       "        1.40579387e+00,  3.79452511e-01, -8.30564575e-01, -1.92603770e+00,\n",
       "       -2.10189307e+00,  5.17822858e-01,  4.47708743e-02,  6.57250339e-01,\n",
       "       -5.44013388e-01, -2.24316613e-01,  4.86622998e-01,  1.16359648e+00,\n",
       "       -2.47276376e+00,  1.41695860e+00,  2.11739587e+00,  8.12224231e-01,\n",
       "        1.81035759e-01, -2.12287251e-01,  1.53733971e+00, -6.81324045e-01,\n",
       "       -2.66532026e-01, -1.47132494e+00, -3.78768744e-01,  7.63634960e-01,\n",
       "       -3.06113169e-01,  2.08082941e+00, -1.00119630e+00, -1.12765370e+00,\n",
       "        8.47881748e-01,  1.59252222e+00,  4.56713167e-01,  1.15772384e+00,\n",
       "       -1.19473767e+00, -7.15377000e-01, -1.18346219e+00,  1.77999664e-01,\n",
       "       -3.71174503e-01,  2.02044174e-01, -7.40920239e-01,  1.16686231e+00,\n",
       "       -1.31781355e+00,  1.69947308e-01, -9.92461755e-01,  1.43869116e-01,\n",
       "        1.63410927e+00, -1.57909240e+00, -2.65221022e-01, -3.03610378e-01,\n",
       "        9.62854466e-01, -1.19624197e+00,  1.16245762e+00,  1.61418634e+00,\n",
       "       -1.07793446e-01,  7.59117001e-01, -1.38038886e+00,  5.41936071e-01,\n",
       "        9.70022280e-01, -1.33489867e-01, -1.71533966e-01,  6.06906659e-01,\n",
       "        4.36931677e-01,  1.15832532e-01,  5.25864578e-01,  2.96505348e-02,\n",
       "        9.10727820e-02, -4.38055048e-01, -3.50068388e-01,  8.55496700e-02,\n",
       "       -9.37715001e-01,  8.88710582e-01,  9.36836877e-01, -1.48076725e+00,\n",
       "       -3.70189735e-02,  7.12897301e-01, -4.29244930e-01, -1.15897220e-01,\n",
       "       -1.39309349e+00, -5.27845984e-01,  1.42529734e+00,  6.89456586e-01,\n",
       "        1.33190215e+00, -4.70795222e-02,  8.75924985e-01,  3.52608925e-01,\n",
       "        1.93246146e+00,  2.79752149e-01, -2.03339516e-02, -9.75438889e-01,\n",
       "        9.70605992e-01,  1.16969031e+00, -8.71776624e-01,  1.01520724e+00,\n",
       "        6.67445796e-01,  4.88191056e-01,  1.98403599e-01, -1.13111180e+00,\n",
       "       -5.96957749e-01,  1.91331331e-02,  5.68728032e-01,  1.67769114e-01,\n",
       "       -2.10988589e+00,  4.74515924e-01, -5.06469577e-01, -1.10538028e+00,\n",
       "        1.09576983e+00,  9.01514190e-01, -4.28674253e-01,  8.10343085e-01,\n",
       "       -1.64661248e-01, -1.62676240e+00, -8.99019243e-01, -3.08852420e-01,\n",
       "        4.69195332e-01, -1.28943387e+00,  6.54579225e-01,  1.41039064e+00,\n",
       "        1.26830631e-01, -3.24842188e-01, -8.76341676e-01,  6.66768623e-01,\n",
       "        3.77650918e-01,  1.24628373e+00, -1.03305342e+00,  5.37298365e-02,\n",
       "        1.49049780e+00,  1.56676453e+00,  9.33940057e-01, -4.86414713e-01,\n",
       "       -2.50141590e-01,  8.60109235e-02, -9.64444552e-01, -1.02943444e+00,\n",
       "       -9.16207631e-01,  4.87516426e-01,  1.65227537e-01,  3.93713591e-03,\n",
       "       -2.16829139e+00,  1.83142882e-02, -7.09945669e-01, -1.30409784e+00,\n",
       "        8.11215835e-01,  1.02443216e+00, -1.22153584e-01, -2.11988075e+00,\n",
       "       -7.58270691e-01, -1.11314930e+00, -6.53952683e-02,  6.57787647e-01,\n",
       "       -7.44614440e-01,  5.38465234e-01,  1.08962951e+00, -1.11556504e+00,\n",
       "        1.21857551e+00,  2.03566679e-02,  1.16256923e+00, -2.33700785e-01,\n",
       "       -9.79093613e-01,  6.82271312e-01,  6.86082075e-01, -1.92381807e-01,\n",
       "       -9.66019714e-01, -2.83749529e-01,  3.29074088e-01, -1.56417211e-01,\n",
       "        4.48956143e-02,  1.76918376e+00,  7.50067321e-02, -3.92252114e-01,\n",
       "        1.01881185e+00, -1.19640830e+00,  5.33163507e-01,  7.21213995e-01,\n",
       "        3.47550779e-01,  1.70548263e+00,  1.96181803e-01, -2.03295392e-01,\n",
       "        2.86300097e-01, -1.37698953e-01, -1.40962034e+00,  3.42168254e-01,\n",
       "       -6.37704910e-01, -1.67188962e+00,  8.44916700e-01, -2.93091318e-01,\n",
       "        1.09587426e+00, -7.72899779e-01,  7.58267403e-01, -2.17086592e+00,\n",
       "       -5.00452817e-01, -1.16210961e+00,  6.28538614e-01,  3.46487535e-01,\n",
       "        1.36363921e+00,  5.84346061e-01,  1.26319570e+00, -1.55510761e+00,\n",
       "        1.37756193e-01, -9.64079525e-01, -4.04145385e-01,  7.31617757e-01,\n",
       "       -3.14550277e-01,  1.22161400e+00,  2.18875127e+00,  7.09752293e-01,\n",
       "        3.42261500e-01,  9.63042181e-01,  2.90316274e-01, -1.15916328e+00,\n",
       "        6.09714108e-01,  2.10310084e+00,  1.92982713e+00,  1.11626476e-01,\n",
       "       -6.73672134e-01,  5.52224792e-01, -2.84926138e-02, -6.12649454e-02,\n",
       "       -2.85917665e-01, -2.31113478e-01,  1.65017575e+00, -9.64003287e-01,\n",
       "       -8.68197122e-01, -4.63328022e-01, -8.74901363e-02,  5.55606085e-02,\n",
       "        8.40083621e-01, -8.29065543e-01, -1.50112818e+00,  1.18360666e+00,\n",
       "       -4.31831161e-01, -8.07243405e-01, -1.20365274e-01,  1.64652386e+00,\n",
       "        1.62565991e+00,  1.53620888e-01,  3.21367494e-01,  7.87731898e-01,\n",
       "       -4.26021084e-01,  6.96846552e-01,  6.06066000e-01,  1.07704190e+00,\n",
       "       -1.58319414e-01, -2.41890127e-01, -2.96267733e-01, -2.79418431e+00,\n",
       "        1.27675930e+00, -1.83208246e-01, -1.42303946e+00, -2.10563072e+00,\n",
       "       -1.10061501e+00, -8.27632789e-01, -1.38895743e+00, -1.32875462e-01,\n",
       "        2.86097567e+00, -9.00782342e-01,  8.38701506e-01,  4.37302613e-02,\n",
       "       -8.26271370e-01,  2.27511260e-01, -4.07345808e-01, -1.77003560e-01,\n",
       "       -4.59099928e-01,  3.23235607e-01,  6.59849390e-01, -2.08650612e+00,\n",
       "       -7.44172816e-02,  4.38972585e-01, -2.95002421e-01, -9.74304175e-01,\n",
       "       -5.22679437e-01,  9.08521561e-02,  1.01958237e+00, -1.77284224e+00,\n",
       "       -1.44929156e+00, -4.43084717e-01, -1.45112771e-01, -3.66603614e-01,\n",
       "       -1.25320063e+00, -1.71745608e+00, -6.57521675e-01,  7.26699542e-01,\n",
       "       -1.34382756e+00, -5.43493955e-01, -6.01454309e-01,  3.33743238e-01,\n",
       "       -2.13385293e+00, -1.35782165e+00, -1.39135447e+00, -2.72444407e-01,\n",
       "       -1.55120587e+00,  1.01211384e+00, -5.44006403e-01, -1.51539771e+00,\n",
       "       -2.05936528e-01,  6.83618836e-01, -8.72213680e-01, -2.07178103e-01,\n",
       "       -1.04912228e+00,  1.00039392e+00, -1.05493083e+00,  1.32479742e+00,\n",
       "        3.71629793e-01,  1.85767446e-01, -1.01794929e+00,  8.52491181e-01,\n",
       "       -2.95575469e-01, -2.15523062e-01, -1.02792852e+00,  1.35893698e+00,\n",
       "       -1.04626647e+00, -2.53505178e-01,  1.36947060e-01, -1.96898651e-01,\n",
       "        2.11192894e-01,  1.06079389e+00,  8.15861382e-01,  3.68413560e-01,\n",
       "       -6.95588103e-01,  5.84965444e-01, -3.99393299e-01, -2.83283048e-01,\n",
       "        1.85786072e+00,  8.08570315e-01, -1.53906147e+00, -1.02655864e+00,\n",
       "       -3.68382427e-01,  3.40533810e-01, -7.95853097e-01, -9.54791829e-02,\n",
       "       -9.22598723e-01, -2.71603379e-01,  8.95584764e-01,  1.23558620e+00,\n",
       "       -8.79811294e-01,  6.30709708e-01, -1.73143725e+00,  1.16158681e+00,\n",
       "        3.92771843e-01,  5.36097270e-01,  4.52664905e-01,  1.92800590e-02,\n",
       "        3.18403702e-01, -1.36775167e+00,  7.73894649e-01, -4.36785834e-01,\n",
       "        9.49357425e-01,  4.40450434e-01,  1.00771406e+00, -5.50210225e-01,\n",
       "       -1.04265903e+00, -1.28967743e-01,  2.08136679e+00,  6.60755375e-01,\n",
       "       -7.18160012e-01, -2.04405980e-01,  2.63027508e-01, -1.24345856e+00,\n",
       "        1.09638632e+00,  9.14566124e-01, -8.68133089e-01, -1.81062962e-01,\n",
       "        3.28095905e-01,  1.49094607e+00, -1.26620753e+00,  1.63316894e+00,\n",
       "        3.04173394e-01, -2.60782598e-01,  1.33523193e+00, -8.75029073e-01,\n",
       "       -2.98529830e-02, -1.09660577e-01, -7.17738972e-01, -2.16494855e+00,\n",
       "        1.30703827e-01,  4.87974438e-02, -6.88052193e-01, -1.96228400e+00,\n",
       "        1.40070121e+00,  7.80952066e-01,  1.12395163e+00, -9.71443123e-01,\n",
       "        1.91842793e-01,  7.29046922e-01,  1.84272826e+00, -6.07962112e-01,\n",
       "        1.46708255e+00,  1.02494826e+00, -1.58381476e+00, -1.85813033e+00,\n",
       "        1.77524477e+00,  2.63724698e+00,  1.08675487e+00,  2.02618841e+00,\n",
       "        2.95464815e-01,  7.75647048e-01,  8.35045781e-01, -1.36854334e+00,\n",
       "       -1.10560323e+00, -2.95856574e+00, -6.88508545e-01,  1.82123858e+00,\n",
       "        5.51779903e-01, -3.52845630e-01,  6.56537837e-01, -1.15522604e+00,\n",
       "       -2.46513650e-02, -8.83363733e-01,  7.98671025e-01,  3.64216141e-01,\n",
       "        4.79386963e-01,  1.61094333e+00, -1.02889322e+00,  1.45967872e+00,\n",
       "       -1.48412159e+00, -4.21590040e-01, -4.27914360e-01, -6.74664581e-01,\n",
       "        7.35567031e-01, -6.55121677e-01,  2.23137120e+00, -8.17059052e-01,\n",
       "        7.20472588e-01,  2.16602365e+00, -7.18362663e-01, -1.54638770e+00,\n",
       "        1.57351679e+00,  7.33217602e-01, -7.69058767e-01, -2.11470620e+00,\n",
       "       -6.89329305e-01, -4.77575857e-01,  1.27720081e-03, -4.57409742e-01,\n",
       "        7.46507852e-01,  2.74681329e-01,  1.29860281e+00, -1.53260902e+00,\n",
       "        1.89086779e+00,  1.28061527e-01, -7.68787015e-01, -9.35569610e-01,\n",
       "        1.05919954e+00,  6.48051651e-01, -5.96315935e-01,  1.15115141e+00,\n",
       "       -8.87814128e-01, -2.31183067e-01, -6.84848180e-01,  5.02960926e-01,\n",
       "       -1.95823416e+00,  1.25922456e+00,  5.40699781e-01,  1.94756156e-01,\n",
       "        9.93482235e-01,  9.47466287e-01,  1.98716835e+00, -2.82140849e-01,\n",
       "        7.97277846e-02, -6.99278924e-01, -1.13384354e+00, -1.00546196e+00,\n",
       "        1.21290017e+00,  1.17381920e+00,  1.38300278e+00, -7.49339123e-01,\n",
       "       -1.90308377e+00,  1.17285020e+00, -8.75268062e-02, -2.08573688e+00,\n",
       "       -4.30764545e-01,  1.00828481e+00, -1.70975928e+00,  4.34894364e-01,\n",
       "       -5.53724581e-01, -1.13495511e+00, -3.12218980e-01,  5.59391752e-01,\n",
       "        5.98103786e-01,  1.17144390e+00, -5.98700581e-01, -1.15881214e-01,\n",
       "       -2.09383411e+00,  6.59996218e-01,  6.34264071e-01, -8.10685237e-01,\n",
       "        3.25461781e-01, -1.46143998e+00, -3.60918874e-01,  3.50814373e-01,\n",
       "       -1.28927368e+00,  1.32200906e+00,  3.59812871e-01,  1.07835516e-01,\n",
       "        1.77736008e+00, -1.90413119e+00,  5.56586791e-01, -3.67404528e-01,\n",
       "        1.64075912e+00, -5.60655988e-01,  6.36566679e-01, -2.35347551e-01,\n",
       "        8.78674114e-02,  9.18815648e-02, -1.14458906e+00, -8.95068122e-01,\n",
       "        4.08863562e-01,  1.34366367e+00, -4.95837509e-01,  5.54861845e-01,\n",
       "       -6.78831386e-01, -1.84165866e+00, -7.29056268e-01, -5.96445810e-01,\n",
       "       -1.27550867e-01, -3.50056817e-01,  2.10081478e+00,  5.44380989e-01,\n",
       "        2.09984028e-01, -1.09613243e+00, -2.20611076e+00,  1.04287423e+00,\n",
       "       -2.37105489e-01,  1.95966192e-01, -7.43313128e-01,  1.11169150e-01,\n",
       "        4.19728072e-01,  2.98677367e-01, -7.06412364e-01,  1.07458791e+00,\n",
       "        5.27969376e-01,  3.28661339e-03, -5.28920897e-01, -1.37412200e-01,\n",
       "       -1.01501272e+00, -2.79044850e-01,  1.17629268e+00,  3.42669518e-01,\n",
       "        7.83413497e-01,  7.50400713e-01,  5.32181761e-01,  4.50728652e-01,\n",
       "       -3.74214375e-01,  9.90810850e-01,  1.55008645e+00, -5.27822817e-01,\n",
       "        4.75992237e-01,  4.71470061e-01,  8.08569496e-01,  6.13202582e-01,\n",
       "        1.04279039e+00,  1.03032873e+00,  2.89722057e-01, -2.06875272e-01,\n",
       "        1.65048549e-01,  5.46770245e-01,  4.34970752e-01, -1.10796078e-01,\n",
       "       -2.90514814e-01, -1.29220730e-01, -8.31657253e-01, -9.46205260e-02,\n",
       "       -8.27388239e-01, -3.00290605e-01,  5.73304124e-01, -1.73546621e+00,\n",
       "        4.14450950e-01,  1.04071171e-01,  1.08450127e+00,  9.02701944e-01,\n",
       "        4.39107673e-01,  9.05841450e-02, -1.44483873e+00, -1.82843705e-01,\n",
       "       -3.66718415e-01, -4.13429379e-01, -1.04231794e+00, -1.61050054e+00,\n",
       "       -2.04114373e+00,  1.06672303e+00,  3.79036461e-01, -1.74839276e-02,\n",
       "       -1.66829962e-01, -6.17401094e-01, -8.87142666e-01, -1.34011022e+00,\n",
       "        1.38411730e+00,  6.05070560e-01,  1.65248698e+00,  1.70163291e+00,\n",
       "        5.59691247e-02, -1.29161229e-01, -9.72840771e-02,  9.47881720e-01,\n",
       "       -5.08179386e-01,  6.30038885e-01,  1.32503593e+00, -7.87446966e-01,\n",
       "        7.95438058e-01, -2.30086573e-01, -1.08841745e+00,  3.57555615e-01,\n",
       "       -2.99723172e-02, -7.56318505e-01, -1.76840545e+00,  2.35129934e-01,\n",
       "        7.38507768e-01, -9.60225636e-01, -4.37589366e-01,  1.79942212e-01,\n",
       "        1.00345567e-01, -1.36551193e+00, -8.57721760e-01,  5.71176447e-01,\n",
       "        4.77718458e-01,  1.17519132e+00,  8.61643365e-01, -9.01268853e-01,\n",
       "        8.98913365e-01,  3.16771091e-01, -1.42348620e+00,  7.76899615e-01,\n",
       "        5.59204740e-01, -3.11323617e-01, -7.14849812e-01,  1.09996503e+00,\n",
       "       -4.85675110e-01,  3.47462965e-01,  1.35850914e+00,  1.14282784e+00,\n",
       "       -1.11006764e+00,  1.70613708e-01,  1.04538098e+00,  1.90546086e+00,\n",
       "       -1.05030592e+00, -1.61364973e+00, -3.55946727e-01, -4.67319873e-01,\n",
       "       -6.63337477e-03,  7.32842952e-01, -1.31186063e-01, -8.75761204e-02,\n",
       "       -6.83344325e-01, -1.60977526e+00,  8.67935351e-01,  8.45166279e-01,\n",
       "       -2.52285785e+00,  2.39307201e-01,  1.03001398e+00, -1.70156518e+00,\n",
       "       -3.67937334e-01,  9.55508055e-01, -2.18274488e+00,  6.09243314e-01,\n",
       "        5.25885870e-01, -8.18027681e-01,  4.32905552e-01,  1.39559072e+00,\n",
       "        4.42175827e-01,  1.38293055e+00, -1.63339249e+00,  1.87084612e+00,\n",
       "        5.47951511e-01,  2.01836787e-01,  9.19476660e-02,  7.11719985e-02,\n",
       "       -1.13886300e+00,  1.84734821e+00,  2.08468440e+00, -2.61702310e-01,\n",
       "       -7.82704230e-01,  2.26925757e-01, -1.94070339e+00, -1.58215660e+00,\n",
       "        1.85311994e+00,  1.60312884e+00, -2.39190514e+00,  8.15637528e-01,\n",
       "       -1.54064337e+00,  4.16240078e-01,  1.22208347e-01,  1.00458910e+00,\n",
       "        7.42702086e-01, -9.23130976e-01,  2.76484751e-02,  5.60770983e-01,\n",
       "       -6.67452899e-01,  1.55441166e-01, -1.13025604e-01,  5.28662680e-01,\n",
       "        3.92193115e-01, -2.22886840e-01,  3.21858935e-01, -2.92010083e-01,\n",
       "       -3.29092618e-01, -6.35005044e-01, -1.88615215e+00,  2.87579723e-01,\n",
       "        2.14405906e-01,  2.06279252e-01,  2.68562943e-01,  9.85864650e-03,\n",
       "        5.32353321e-01,  3.59588833e-02,  5.57607844e-01, -7.42157480e-01,\n",
       "       -1.26968858e+00,  1.31794596e-01, -1.23872613e+00, -1.31913885e-01,\n",
       "        5.03704968e-01, -3.20936676e-01, -1.60394240e+00,  2.58584473e+00,\n",
       "        2.91632899e-01, -1.11705979e+00, -8.84843554e-01,  8.20907947e-01,\n",
       "       -1.43248034e+00,  1.04406123e+00,  9.61785321e-01,  2.21342001e-01,\n",
       "       -1.13196810e+00, -1.34913824e+00,  1.14684129e-01, -1.85987309e+00,\n",
       "       -2.15248925e-01,  8.61601052e-01,  2.30647177e-01,  6.13392458e-01,\n",
       "        1.17287979e+00,  6.93831334e-01,  2.58836216e-01,  3.92680787e-01,\n",
       "       -1.56887469e+00,  3.23544407e-02, -2.07672522e-01,  9.58823081e-02,\n",
       "        3.63084774e-01, -6.09469263e-01,  1.31707224e+00,  1.70147197e+00,\n",
       "       -1.81107411e+00, -1.50554827e+00, -6.61273546e-03,  1.02049463e+00,\n",
       "        5.31984729e-01, -1.71083261e-01, -1.13064113e+00,  2.58018899e-01,\n",
       "        7.68517744e-01,  3.46762594e-01, -2.97507101e-01,  1.41566261e+00,\n",
       "       -7.05023421e-01,  1.83371147e-02, -4.11352577e-01,  8.28790283e-01,\n",
       "       -1.43100483e+00,  7.83303538e-01, -1.99813859e-01,  2.73272521e-01,\n",
       "        1.66345507e+00, -1.18694932e+00,  1.10238379e+00,  1.27481416e-01,\n",
       "       -1.29759365e+00, -7.65703987e-01,  8.65713825e-01,  1.07432029e+00,\n",
       "        9.73933933e-01, -1.70507281e+00,  9.08405660e-01, -2.39229151e+00,\n",
       "       -1.32908708e+00,  1.36262953e+00,  1.08519846e+00, -7.43941668e-01,\n",
       "        8.21086562e-01,  1.31726328e+00,  7.11762467e-01, -2.98265099e-01,\n",
       "        6.83411950e-01,  3.96030332e-01,  1.12972050e+00, -1.55792351e-01,\n",
       "       -1.19078905e+00, -1.28954717e+00, -5.00471573e-01, -7.13730279e-01,\n",
       "        2.69320347e-01, -1.36202724e+00,  7.44936656e-01, -4.83351599e-02,\n",
       "        4.51722539e-01,  1.03885843e+00,  4.86773300e-01,  2.46615744e-01])"
      ]
     },
     "execution_count": 74,
     "metadata": {},
     "output_type": "execute_result"
    }
   ],
   "source": [
    "#Ztest\n",
    "population = np.random.randn(1000)\n",
    "population"
   ]
  },
  {
   "cell_type": "code",
   "execution_count": 75,
   "id": "13862526",
   "metadata": {},
   "outputs": [
    {
     "name": "stderr",
     "output_type": "stream",
     "text": [
      "C:\\Users\\ajayk\\AppData\\Local\\Temp\\ipykernel_13152\\2958836585.py:1: UserWarning: \n",
      "\n",
      "`distplot` is a deprecated function and will be removed in seaborn v0.14.0.\n",
      "\n",
      "Please adapt your code to use either `displot` (a figure-level function with\n",
      "similar flexibility) or `histplot` (an axes-level function for histograms).\n",
      "\n",
      "For a guide to updating your code to use the new functions, please see\n",
      "https://gist.github.com/mwaskom/de44147ed2974457ad6372750bbe5751\n",
      "\n",
      "  sns.distplot(population)\n",
      "C:\\Users\\ajayk\\anaconda3\\Lib\\site-packages\\seaborn\\_oldcore.py:1119: FutureWarning: use_inf_as_na option is deprecated and will be removed in a future version. Convert inf values to NaN before operating instead.\n",
      "  with pd.option_context('mode.use_inf_as_na', True):\n"
     ]
    },
    {
     "data": {
      "text/plain": [
       "<Axes: ylabel='Density'>"
      ]
     },
     "execution_count": 75,
     "metadata": {},
     "output_type": "execute_result"
    },
    {
     "data": {
      "image/png": "[encoded data removed]",
      "text/plain": [
       "<Figure size 640x480 with 1 Axes>"
      ]
     },
     "metadata": {},
     "output_type": "display_data"
    }
   ],
   "source": [
    "sns.distplot(population)"
   ]
  },
  {
   "cell_type": "code",
   "execution_count": 76,
   "id": "d00e7460",
   "metadata": {},
   "outputs": [
    {
     "data": {
      "text/plain": [
       "(0.011503095117883324, 0.9787521847460315)"
      ]
     },
     "execution_count": 76,
     "metadata": {},
     "output_type": "execute_result"
    }
   ],
   "source": [
    "np.mean(population), np.std(population)"
   ]
  },
  {
   "cell_type": "code",
   "execution_count": 77,
   "id": "31d00228",
   "metadata": {},
   "outputs": [],
   "source": [
    "null_mean = 0.05 #claim\n",
    "#if pvalue <= 0.05 -- reject null hypothesis\n",
    "#if p value > 0.05 -- fail to reject null hypothesis\n",
    "\n",
    "\n",
    "from statsmodels.stats.weightstats import ztest"
   ]
  },
  {
   "cell_type": "code",
   "execution_count": 78,
   "id": "1ecfe957",
   "metadata": {},
   "outputs": [],
   "source": [
    "zscore, pvalue = ztest(population, value = null_mean, alternative = 'larger') #here alternative means, mean is greater than null mean"
   ]
  },
  {
   "cell_type": "code",
   "execution_count": 79,
   "id": "c3df70f6",
   "metadata": {},
   "outputs": [
    {
     "data": {
      "text/plain": [
       "-1.2431851495679596"
      ]
     },
     "execution_count": 79,
     "metadata": {},
     "output_type": "execute_result"
    }
   ],
   "source": [
    "zscore"
   ]
  },
  {
   "cell_type": "code",
   "execution_count": 80,
   "id": "57da2a68",
   "metadata": {},
   "outputs": [
    {
     "data": {
      "text/plain": [
       "0.8931001931054761"
      ]
     },
     "execution_count": 80,
     "metadata": {},
     "output_type": "execute_result"
    }
   ],
   "source": [
    "pvalue"
   ]
  },
  {
   "cell_type": "code",
   "execution_count": 81,
   "id": "f0961ffb",
   "metadata": {},
   "outputs": [
    {
     "name": "stdout",
     "output_type": "stream",
     "text": [
      "fail to reject the H0\n"
     ]
    }
   ],
   "source": [
    "if pvalue <= 0.05:\n",
    "    print(\"Reject the H0\")\n",
    "else:\n",
    "    print(\"fail to reject the H0\")"
   ]
  },
  {
   "cell_type": "raw",
   "id": "bce771b3",
   "metadata": {},
   "source": [
    "#A school calculated iq scores of 50 students, the average iq  turned out to be 100. the mean of population iq is 90 \n",
    "#and the std deviation 16. \\\n",
    "#state whether the claim by school \n",
    "#that IQ increases if student study more than avg of school with 5% of significance level\n",
    "\n",
    "#null hypothesis : mean_iq = 90\n",
    "#Alternate: mean_iq > 90"
   ]
  },
  {
   "cell_type": "code",
   "execution_count": 82,
   "id": "b9d7efd3",
   "metadata": {},
   "outputs": [],
   "source": [
    "#zcritical approach\n",
    "import scipy.stats as stats\n",
    "\n",
    "sample_mean = 100\n",
    "population_mean = 90\n",
    "population_std = 16\n",
    "sample_size = 50\n",
    "alpha = 0.05"
   ]
  },
  {
   "cell_type": "code",
   "execution_count": 83,
   "id": "63b64208",
   "metadata": {},
   "outputs": [],
   "source": [
    "zscore = (sample_mean - population_mean)/(population_std/np.sqrt(sample_size))"
   ]
  },
  {
   "cell_type": "code",
   "execution_count": 84,
   "id": "325385a5",
   "metadata": {},
   "outputs": [
    {
     "data": {
      "text/plain": [
       "4.419417382415922"
      ]
     },
     "execution_count": 84,
     "metadata": {},
     "output_type": "execute_result"
    }
   ],
   "source": [
    "zscore"
   ]
  },
  {
   "cell_type": "code",
   "execution_count": 85,
   "id": "b7e72746",
   "metadata": {},
   "outputs": [],
   "source": [
    "#stats module in scipy>>zcritical\n",
    "#percent point function>>inverse of cdf\n",
    "zcritical = stats.norm.ppf(1-alpha)"
   ]
  },
  {
   "cell_type": "code",
   "execution_count": 86,
   "id": "200af89f",
   "metadata": {},
   "outputs": [
    {
     "data": {
      "text/plain": [
       "1.6448536269514722"
      ]
     },
     "execution_count": 86,
     "metadata": {},
     "output_type": "execute_result"
    }
   ],
   "source": [
    "zcritical"
   ]
  },
  {
   "cell_type": "code",
   "execution_count": 87,
   "id": "f3b4ba91",
   "metadata": {},
   "outputs": [
    {
     "name": "stdout",
     "output_type": "stream",
     "text": [
      "Reject the h0\n"
     ]
    }
   ],
   "source": [
    "if zscore >= zcritical:\n",
    "    print(\"Reject the h0\")\n",
    "else:\n",
    "    print(\"fail to reject the h0\")"
   ]
  },
  {
   "cell_type": "code",
   "execution_count": 88,
   "id": "10b1bf37",
   "metadata": {},
   "outputs": [
    {
     "data": {
      "text/plain": [
       "4.948367312573865e-06"
      ]
     },
     "execution_count": 88,
     "metadata": {},
     "output_type": "execute_result"
    }
   ],
   "source": [
    "#pvalue approach using scipy\n",
    "\n",
    "pvalue = 1-stats.norm.cdf(zscore)\n",
    "pvalue"
   ]
  },
  {
   "cell_type": "code",
   "execution_count": 89,
   "id": "65ea3093",
   "metadata": {},
   "outputs": [
    {
     "name": "stdout",
     "output_type": "stream",
     "text": [
      "Reject the H0\n"
     ]
    }
   ],
   "source": [
    "if pvalue <= alpha:\n",
    "    print(\"Reject the H0\")\n",
    "else:\n",
    "    print(\"Fail to reject H0\")"
   ]
  },
  {
   "cell_type": "code",
   "execution_count": 90,
   "id": "92d0dbb4",
   "metadata": {},
   "outputs": [],
   "source": [
    "#how to know if the given data is normally distributed or not\n",
    "#distribution plot, q-q plot\n",
    "#statistical test"
   ]
  },
  {
   "cell_type": "code",
   "execution_count": 91,
   "id": "f124b7f2",
   "metadata": {},
   "outputs": [],
   "source": [
    "data = pd.read_csv(\"https://raw.githubusercontent.com/shrikant-temburwar/Wine-Quality-Dataset/master/winequality-red.csv\", sep = \";\")"
   ]
  },
  {
   "cell_type": "code",
   "execution_count": 92,
   "id": "6801450d",
   "metadata": {},
   "outputs": [
    {
     "data": {
      "text/html": [
       "<div>\n",
       "<style scoped>\n",
       "    .dataframe tbody tr th:only-of-type {\n",
       "        vertical-align: middle;\n",
       "    }\n",
       "\n",
       "    .dataframe tbody tr th {\n",
       "        vertical-align: top;\n",
       "    }\n",
       "\n",
       "    .dataframe thead th {\n",
       "        text-align: right;\n",
       "    }\n",
       "</style>\n",
       "<table border=\"1\" class=\"dataframe\">\n",
       "  <thead>\n",
       "    <tr style=\"text-align: right;\">\n",
       "      <th></th>\n",
       "      <th>fixed acidity</th>\n",
       "      <th>volatile acidity</th>\n",
       "      <th>citric acid</th>\n",
       "      <th>residual sugar</th>\n",
       "      <th>chlorides</th>\n",
       "      <th>free sulfur dioxide</th>\n",
       "      <th>total sulfur dioxide</th>\n",
       "      <th>density</th>\n",
       "      <th>pH</th>\n",
       "      <th>sulphates</th>\n",
       "      <th>alcohol</th>\n",
       "      <th>quality</th>\n",
       "    </tr>\n",
       "  </thead>\n",
       "  <tbody>\n",
       "    <tr>\n",
       "      <th>0</th>\n",
       "      <td>7.4</td>\n",
       "      <td>0.700</td>\n",
       "      <td>0.00</td>\n",
       "      <td>1.9</td>\n",
       "      <td>0.076</td>\n",
       "      <td>11.0</td>\n",
       "      <td>34.0</td>\n",
       "      <td>0.99780</td>\n",
       "      <td>3.51</td>\n",
       "      <td>0.56</td>\n",
       "      <td>9.4</td>\n",
       "      <td>5</td>\n",
       "    </tr>\n",
       "    <tr>\n",
       "      <th>1</th>\n",
       "      <td>7.8</td>\n",
       "      <td>0.880</td>\n",
       "      <td>0.00</td>\n",
       "      <td>2.6</td>\n",
       "      <td>0.098</td>\n",
       "      <td>25.0</td>\n",
       "      <td>67.0</td>\n",
       "      <td>0.99680</td>\n",
       "      <td>3.20</td>\n",
       "      <td>0.68</td>\n",
       "      <td>9.8</td>\n",
       "      <td>5</td>\n",
       "    </tr>\n",
       "    <tr>\n",
       "      <th>2</th>\n",
       "      <td>7.8</td>\n",
       "      <td>0.760</td>\n",
       "      <td>0.04</td>\n",
       "      <td>2.3</td>\n",
       "      <td>0.092</td>\n",
       "      <td>15.0</td>\n",
       "      <td>54.0</td>\n",
       "      <td>0.99700</td>\n",
       "      <td>3.26</td>\n",
       "      <td>0.65</td>\n",
       "      <td>9.8</td>\n",
       "      <td>5</td>\n",
       "    </tr>\n",
       "    <tr>\n",
       "      <th>3</th>\n",
       "      <td>11.2</td>\n",
       "      <td>0.280</td>\n",
       "      <td>0.56</td>\n",
       "      <td>1.9</td>\n",
       "      <td>0.075</td>\n",
       "      <td>17.0</td>\n",
       "      <td>60.0</td>\n",
       "      <td>0.99800</td>\n",
       "      <td>3.16</td>\n",
       "      <td>0.58</td>\n",
       "      <td>9.8</td>\n",
       "      <td>6</td>\n",
       "    </tr>\n",
       "    <tr>\n",
       "      <th>4</th>\n",
       "      <td>7.4</td>\n",
       "      <td>0.700</td>\n",
       "      <td>0.00</td>\n",
       "      <td>1.9</td>\n",
       "      <td>0.076</td>\n",
       "      <td>11.0</td>\n",
       "      <td>34.0</td>\n",
       "      <td>0.99780</td>\n",
       "      <td>3.51</td>\n",
       "      <td>0.56</td>\n",
       "      <td>9.4</td>\n",
       "      <td>5</td>\n",
       "    </tr>\n",
       "    <tr>\n",
       "      <th>...</th>\n",
       "      <td>...</td>\n",
       "      <td>...</td>\n",
       "      <td>...</td>\n",
       "      <td>...</td>\n",
       "      <td>...</td>\n",
       "      <td>...</td>\n",
       "      <td>...</td>\n",
       "      <td>...</td>\n",
       "      <td>...</td>\n",
       "      <td>...</td>\n",
       "      <td>...</td>\n",
       "      <td>...</td>\n",
       "    </tr>\n",
       "    <tr>\n",
       "      <th>1594</th>\n",
       "      <td>6.2</td>\n",
       "      <td>0.600</td>\n",
       "      <td>0.08</td>\n",
       "      <td>2.0</td>\n",
       "      <td>0.090</td>\n",
       "      <td>32.0</td>\n",
       "      <td>44.0</td>\n",
       "      <td>0.99490</td>\n",
       "      <td>3.45</td>\n",
       "      <td>0.58</td>\n",
       "      <td>10.5</td>\n",
       "      <td>5</td>\n",
       "    </tr>\n",
       "    <tr>\n",
       "      <th>1595</th>\n",
       "      <td>5.9</td>\n",
       "      <td>0.550</td>\n",
       "      <td>0.10</td>\n",
       "      <td>2.2</td>\n",
       "      <td>0.062</td>\n",
       "      <td>39.0</td>\n",
       "      <td>51.0</td>\n",
       "      <td>0.99512</td>\n",
       "      <td>3.52</td>\n",
       "      <td>0.76</td>\n",
       "      <td>11.2</td>\n",
       "      <td>6</td>\n",
       "    </tr>\n",
       "    <tr>\n",
       "      <th>1596</th>\n",
       "      <td>6.3</td>\n",
       "      <td>0.510</td>\n",
       "      <td>0.13</td>\n",
       "      <td>2.3</td>\n",
       "      <td>0.076</td>\n",
       "      <td>29.0</td>\n",
       "      <td>40.0</td>\n",
       "      <td>0.99574</td>\n",
       "      <td>3.42</td>\n",
       "      <td>0.75</td>\n",
       "      <td>11.0</td>\n",
       "      <td>6</td>\n",
       "    </tr>\n",
       "    <tr>\n",
       "      <th>1597</th>\n",
       "      <td>5.9</td>\n",
       "      <td>0.645</td>\n",
       "      <td>0.12</td>\n",
       "      <td>2.0</td>\n",
       "      <td>0.075</td>\n",
       "      <td>32.0</td>\n",
       "      <td>44.0</td>\n",
       "      <td>0.99547</td>\n",
       "      <td>3.57</td>\n",
       "      <td>0.71</td>\n",
       "      <td>10.2</td>\n",
       "      <td>5</td>\n",
       "    </tr>\n",
       "    <tr>\n",
       "      <th>1598</th>\n",
       "      <td>6.0</td>\n",
       "      <td>0.310</td>\n",
       "      <td>0.47</td>\n",
       "      <td>3.6</td>\n",
       "      <td>0.067</td>\n",
       "      <td>18.0</td>\n",
       "      <td>42.0</td>\n",
       "      <td>0.99549</td>\n",
       "      <td>3.39</td>\n",
       "      <td>0.66</td>\n",
       "      <td>11.0</td>\n",
       "      <td>6</td>\n",
       "    </tr>\n",
       "  </tbody>\n",
       "</table>\n",
       "<p>1599 rows × 12 columns</p>\n",
       "</div>"
      ],
      "text/plain": [
       "      fixed acidity  volatile acidity  citric acid  residual sugar  chlorides  \\\n",
       "0               7.4             0.700         0.00             1.9      0.076   \n",
       "1               7.8             0.880         0.00             2.6      0.098   \n",
       "2               7.8             0.760         0.04             2.3      0.092   \n",
       "3              11.2             0.280         0.56             1.9      0.075   \n",
       "4               7.4             0.700         0.00             1.9      0.076   \n",
       "...             ...               ...          ...             ...        ...   \n",
       "1594            6.2             0.600         0.08             2.0      0.090   \n",
       "1595            5.9             0.550         0.10             2.2      0.062   \n",
       "1596            6.3             0.510         0.13             2.3      0.076   \n",
       "1597            5.9             0.645         0.12             2.0      0.075   \n",
       "1598            6.0             0.310         0.47             3.6      0.067   \n",
       "\n",
       "      free sulfur dioxide  total sulfur dioxide  density    pH  sulphates  \\\n",
       "0                    11.0                  34.0  0.99780  3.51       0.56   \n",
       "1                    25.0                  67.0  0.99680  3.20       0.68   \n",
       "2                    15.0                  54.0  0.99700  3.26       0.65   \n",
       "3                    17.0                  60.0  0.99800  3.16       0.58   \n",
       "4                    11.0                  34.0  0.99780  3.51       0.56   \n",
       "...                   ...                   ...      ...   ...        ...   \n",
       "1594                 32.0                  44.0  0.99490  3.45       0.58   \n",
       "1595                 39.0                  51.0  0.99512  3.52       0.76   \n",
       "1596                 29.0                  40.0  0.99574  3.42       0.75   \n",
       "1597                 32.0                  44.0  0.99547  3.57       0.71   \n",
       "1598                 18.0                  42.0  0.99549  3.39       0.66   \n",
       "\n",
       "      alcohol  quality  \n",
       "0         9.4        5  \n",
       "1         9.8        5  \n",
       "2         9.8        5  \n",
       "3         9.8        6  \n",
       "4         9.4        5  \n",
       "...       ...      ...  \n",
       "1594     10.5        5  \n",
       "1595     11.2        6  \n",
       "1596     11.0        6  \n",
       "1597     10.2        5  \n",
       "1598     11.0        6  \n",
       "\n",
       "[1599 rows x 12 columns]"
      ]
     },
     "execution_count": 92,
     "metadata": {},
     "output_type": "execute_result"
    }
   ],
   "source": [
    "data"
   ]
  },
  {
   "cell_type": "code",
   "execution_count": 93,
   "id": "49beff4a",
   "metadata": {},
   "outputs": [
    {
     "name": "stderr",
     "output_type": "stream",
     "text": [
      "C:\\Users\\ajayk\\AppData\\Local\\Temp\\ipykernel_13152\\2270182375.py:2: UserWarning: \n",
      "\n",
      "`distplot` is a deprecated function and will be removed in seaborn v0.14.0.\n",
      "\n",
      "Please adapt your code to use either `displot` (a figure-level function with\n",
      "similar flexibility) or `histplot` (an axes-level function for histograms).\n",
      "\n",
      "For a guide to updating your code to use the new functions, please see\n",
      "https://gist.github.com/mwaskom/de44147ed2974457ad6372750bbe5751\n",
      "\n",
      "  sns.distplot(pop)\n",
      "C:\\Users\\ajayk\\anaconda3\\Lib\\site-packages\\seaborn\\_oldcore.py:1119: FutureWarning: use_inf_as_na option is deprecated and will be removed in a future version. Convert inf values to NaN before operating instead.\n",
      "  with pd.option_context('mode.use_inf_as_na', True):\n"
     ]
    },
    {
     "data": {
      "text/plain": [
       "<Axes: ylabel='Density'>"
      ]
     },
     "execution_count": 93,
     "metadata": {},
     "output_type": "execute_result"
    },
    {
     "data": {
      "image/png": "[encoded data removed]",
      "text/plain": [
       "<Figure size 640x480 with 1 Axes>"
      ]
     },
     "metadata": {},
     "output_type": "display_data"
    }
   ],
   "source": [
    "pop = np.random.randn(100000)\n",
    "sns.distplot(pop)"
   ]
  },
  {
   "cell_type": "code",
   "execution_count": 94,
   "id": "c4efff59",
   "metadata": {},
   "outputs": [
    {
     "data": {
      "text/plain": [
       "ShapiroResult(statistic=0.9970560073852539, pvalue=0.06270549446344376)"
      ]
     },
     "execution_count": 94,
     "metadata": {},
     "output_type": "execute_result"
    }
   ],
   "source": [
    "from scipy import stats\n",
    "stats.shapiro(population)"
   ]
  },
  {
   "cell_type": "code",
   "execution_count": 95,
   "id": "416ba9af",
   "metadata": {},
   "outputs": [
    {
     "name": "stderr",
     "output_type": "stream",
     "text": [
      "C:\\Users\\ajayk\\AppData\\Local\\Temp\\ipykernel_13152\\3678522696.py:1: UserWarning: \n",
      "\n",
      "`distplot` is a deprecated function and will be removed in seaborn v0.14.0.\n",
      "\n",
      "Please adapt your code to use either `displot` (a figure-level function with\n",
      "similar flexibility) or `histplot` (an axes-level function for histograms).\n",
      "\n",
      "For a guide to updating your code to use the new functions, please see\n",
      "https://gist.github.com/mwaskom/de44147ed2974457ad6372750bbe5751\n",
      "\n",
      "  sns.distplot(data['citric acid'])\n",
      "C:\\Users\\ajayk\\anaconda3\\Lib\\site-packages\\seaborn\\_oldcore.py:1119: FutureWarning: use_inf_as_na option is deprecated and will be removed in a future version. Convert inf values to NaN before operating instead.\n",
      "  with pd.option_context('mode.use_inf_as_na', True):\n"
     ]
    },
    {
     "data": {
      "text/plain": [
       "<Axes: xlabel='citric acid', ylabel='Density'>"
      ]
     },
     "execution_count": 95,
     "metadata": {},
     "output_type": "execute_result"
    },
    {
     "data": {
      "image/png": "[encoded data removed]",
      "text/plain": [
       "<Figure size 640x480 with 1 Axes>"
      ]
     },
     "metadata": {},
     "output_type": "display_data"
    }
   ],
   "source": [
    "sns.distplot(data['citric acid'])"
   ]
  },
  {
   "cell_type": "code",
   "execution_count": 96,
   "id": "af280b33",
   "metadata": {},
   "outputs": [
    {
     "data": {
      "text/plain": [
       "ShapiroResult(statistic=0.955294668674469, pvalue=1.0233944777578548e-21)"
      ]
     },
     "execution_count": 96,
     "metadata": {},
     "output_type": "execute_result"
    }
   ],
   "source": [
    "stats.shapiro(data['citric acid'])"
   ]
  },
  {
   "cell_type": "raw",
   "id": "bcd332d1",
   "metadata": {},
   "source": [
    "#pvalue is less than 0.05 and hence reject the h0 that the sample is drawn from a normal dist population"
   ]
  },
  {
   "cell_type": "code",
   "execution_count": 97,
   "id": "d6f69e0b",
   "metadata": {},
   "outputs": [],
   "source": [
    "#T test >> ss < 30 or sigma of pop is not given\n",
    "#one sample t test (wrt one independent sample)\n",
    "#two sample t test (wrt two independent sample)\n",
    "#paired t test(two samples from same population from different time interval)"
   ]
  },
  {
   "cell_type": "code",
   "execution_count": 98,
   "id": "e973da2e",
   "metadata": {},
   "outputs": [],
   "source": [
    "#one sample t test"
   ]
  },
  {
   "cell_type": "code",
   "execution_count": 99,
   "id": "fe5beed6",
   "metadata": {},
   "outputs": [],
   "source": [
    "population = np.random.randint(10, 50, 50)"
   ]
  },
  {
   "cell_type": "code",
   "execution_count": 100,
   "id": "00a24dca",
   "metadata": {},
   "outputs": [
    {
     "data": {
      "text/plain": [
       "array([23, 22, 26, 33, 28, 49, 33, 47, 29, 12, 46, 11, 13, 28, 18, 38, 17,\n",
       "       18, 27, 44, 43, 45, 48, 11, 30, 45, 15, 42, 21, 12, 22, 10, 44, 23,\n",
       "       23, 11, 14, 12, 42, 30, 40, 37, 44, 37, 48, 37, 21, 10, 41, 17])"
      ]
     },
     "execution_count": 100,
     "metadata": {},
     "output_type": "execute_result"
    }
   ],
   "source": [
    "population"
   ]
  },
  {
   "cell_type": "code",
   "execution_count": 101,
   "id": "09ea332d",
   "metadata": {},
   "outputs": [],
   "source": [
    "sample = np.random.choice(population, 20)"
   ]
  },
  {
   "cell_type": "code",
   "execution_count": 102,
   "id": "5adbcc7e",
   "metadata": {},
   "outputs": [
    {
     "data": {
      "text/plain": [
       "22.65"
      ]
     },
     "execution_count": 102,
     "metadata": {},
     "output_type": "execute_result"
    }
   ],
   "source": [
    "np.mean(sample)"
   ]
  },
  {
   "cell_type": "code",
   "execution_count": 103,
   "id": "ff2d01e9",
   "metadata": {},
   "outputs": [
    {
     "data": {
      "text/plain": [
       "TtestResult(statistic=-0.7681485255386873, pvalue=0.4518411536588306, df=19)"
      ]
     },
     "execution_count": 103,
     "metadata": {},
     "output_type": "execute_result"
    }
   ],
   "source": [
    "null_value = 25 #(the mean of population is 25)\n",
    "import scipy\n",
    "scipy.stats.ttest_1samp(sample, null_value)"
   ]
  },
  {
   "cell_type": "code",
   "execution_count": 104,
   "id": "2c3e6c28",
   "metadata": {},
   "outputs": [],
   "source": [
    "#if pvalue>0.05, fail to reject the ho"
   ]
  },
  {
   "cell_type": "code",
   "execution_count": 105,
   "id": "7f78b02c",
   "metadata": {},
   "outputs": [],
   "source": [
    "#two sample t test"
   ]
  },
  {
   "cell_type": "code",
   "execution_count": 106,
   "id": "6d14db3f",
   "metadata": {},
   "outputs": [],
   "source": [
    "virat_kohli_score = np.random.choice(population, 20)"
   ]
  },
  {
   "cell_type": "code",
   "execution_count": 107,
   "id": "cb268d5d",
   "metadata": {},
   "outputs": [
    {
     "data": {
      "text/plain": [
       "array([12, 30, 43, 11, 27, 10, 37, 33, 14, 27, 21, 44, 30, 21, 23, 12, 37,\n",
       "       37, 44, 21])"
      ]
     },
     "execution_count": 107,
     "metadata": {},
     "output_type": "execute_result"
    }
   ],
   "source": [
    "virat_kohli_score"
   ]
  },
  {
   "cell_type": "code",
   "execution_count": 108,
   "id": "6fa425e9",
   "metadata": {},
   "outputs": [],
   "source": [
    "rohit_sharma_score = [13, 25, 48, 28, 19, 12, 13, 18, 98, 40, 18, 23, 34, 33, 45, 58, 46, 27, 50, 49]"
   ]
  },
  {
   "cell_type": "code",
   "execution_count": 109,
   "id": "4e67295e",
   "metadata": {},
   "outputs": [
    {
     "data": {
      "text/plain": [
       "(34.85, 26.7)"
      ]
     },
     "execution_count": 109,
     "metadata": {},
     "output_type": "execute_result"
    }
   ],
   "source": [
    "np.mean(rohit_sharma_score), np.mean(virat_kohli_score)"
   ]
  },
  {
   "cell_type": "code",
   "execution_count": 110,
   "id": "eb9b20b5",
   "metadata": {},
   "outputs": [
    {
     "data": {
      "text/plain": [
       "Ttest_indResult(statistic=-1.5503838920099315, pvalue=0.12933884127077305)"
      ]
     },
     "execution_count": 110,
     "metadata": {},
     "output_type": "execute_result"
    }
   ],
   "source": [
    "scipy.stats.ttest_ind(virat_kohli_score, rohit_sharma_score)"
   ]
  },
  {
   "cell_type": "code",
   "execution_count": 111,
   "id": "eb9a5172",
   "metadata": {},
   "outputs": [],
   "source": [
    "#if pvalue > 0.05, fail to reject the h0"
   ]
  },
  {
   "cell_type": "code",
   "execution_count": 112,
   "id": "a56f73f9",
   "metadata": {},
   "outputs": [],
   "source": [
    "#paired t test >> two sample from same population at different time interval"
   ]
  },
  {
   "cell_type": "code",
   "execution_count": 113,
   "id": "1980bbd2",
   "metadata": {},
   "outputs": [],
   "source": [
    "rohit_score_first_inning = [31, 36, 46, 24, 48, 46, 47, 47, 16, 35, 45, 37, 24, 29, 27, 42, 49, 37, 47, 46]\n",
    "rohit_score_second_inning = [31, 76, 46, 24, 48, 23, 49, 47, 37, 35, 45, 37, 74, 39, 27, 42, 49, 37, 47, 46]"
   ]
  },
  {
   "cell_type": "code",
   "execution_count": 114,
   "id": "a07e0f3b",
   "metadata": {},
   "outputs": [
    {
     "data": {
      "text/plain": [
       "(37.95, 42.95)"
      ]
     },
     "execution_count": 114,
     "metadata": {},
     "output_type": "execute_result"
    }
   ],
   "source": [
    "np.mean(rohit_score_first_inning), np.mean(rohit_score_second_inning)"
   ]
  },
  {
   "cell_type": "code",
   "execution_count": 115,
   "id": "e0e5d10a",
   "metadata": {},
   "outputs": [
    {
     "data": {
      "text/plain": [
       "TtestResult(statistic=-1.4256648712805027, pvalue=0.17018806846147658, df=19)"
      ]
     },
     "execution_count": 115,
     "metadata": {},
     "output_type": "execute_result"
    }
   ],
   "source": [
    "scipy.stats.ttest_rel(rohit_score_first_inning, rohit_score_second_inning)"
   ]
  },
  {
   "cell_type": "code",
   "execution_count": 117,
   "id": "fea0eb79",
   "metadata": {},
   "outputs": [],
   "source": [
    "#chi square test>> through two ways"
   ]
  },
  {
   "cell_type": "code",
   "execution_count": 119,
   "id": "ca37a5b9",
   "metadata": {},
   "outputs": [
    {
     "data": {
      "text/html": [
       "<div>\n",
       "<style scoped>\n",
       "    .dataframe tbody tr th:only-of-type {\n",
       "        vertical-align: middle;\n",
       "    }\n",
       "\n",
       "    .dataframe tbody tr th {\n",
       "        vertical-align: top;\n",
       "    }\n",
       "\n",
       "    .dataframe thead th {\n",
       "        text-align: right;\n",
       "    }\n",
       "</style>\n",
       "<table border=\"1\" class=\"dataframe\">\n",
       "  <thead>\n",
       "    <tr style=\"text-align: right;\">\n",
       "      <th></th>\n",
       "      <th>sex</th>\n",
       "      <th>smoker</th>\n",
       "    </tr>\n",
       "  </thead>\n",
       "  <tbody>\n",
       "    <tr>\n",
       "      <th>0</th>\n",
       "      <td>Female</td>\n",
       "      <td>No</td>\n",
       "    </tr>\n",
       "    <tr>\n",
       "      <th>1</th>\n",
       "      <td>Male</td>\n",
       "      <td>No</td>\n",
       "    </tr>\n",
       "    <tr>\n",
       "      <th>2</th>\n",
       "      <td>Male</td>\n",
       "      <td>No</td>\n",
       "    </tr>\n",
       "    <tr>\n",
       "      <th>3</th>\n",
       "      <td>Male</td>\n",
       "      <td>No</td>\n",
       "    </tr>\n",
       "    <tr>\n",
       "      <th>4</th>\n",
       "      <td>Female</td>\n",
       "      <td>No</td>\n",
       "    </tr>\n",
       "    <tr>\n",
       "      <th>...</th>\n",
       "      <td>...</td>\n",
       "      <td>...</td>\n",
       "    </tr>\n",
       "    <tr>\n",
       "      <th>239</th>\n",
       "      <td>Male</td>\n",
       "      <td>No</td>\n",
       "    </tr>\n",
       "    <tr>\n",
       "      <th>240</th>\n",
       "      <td>Female</td>\n",
       "      <td>Yes</td>\n",
       "    </tr>\n",
       "    <tr>\n",
       "      <th>241</th>\n",
       "      <td>Male</td>\n",
       "      <td>Yes</td>\n",
       "    </tr>\n",
       "    <tr>\n",
       "      <th>242</th>\n",
       "      <td>Male</td>\n",
       "      <td>No</td>\n",
       "    </tr>\n",
       "    <tr>\n",
       "      <th>243</th>\n",
       "      <td>Female</td>\n",
       "      <td>No</td>\n",
       "    </tr>\n",
       "  </tbody>\n",
       "</table>\n",
       "<p>244 rows × 2 columns</p>\n",
       "</div>"
      ],
      "text/plain": [
       "        sex smoker\n",
       "0    Female     No\n",
       "1      Male     No\n",
       "2      Male     No\n",
       "3      Male     No\n",
       "4    Female     No\n",
       "..      ...    ...\n",
       "239    Male     No\n",
       "240  Female    Yes\n",
       "241    Male    Yes\n",
       "242    Male     No\n",
       "243  Female     No\n",
       "\n",
       "[244 rows x 2 columns]"
      ]
     },
     "execution_count": 119,
     "metadata": {},
     "output_type": "execute_result"
    }
   ],
   "source": [
    "df[['sex', 'smoker']]"
   ]
  },
  {
   "cell_type": "code",
   "execution_count": 121,
   "id": "fcff1d06",
   "metadata": {},
   "outputs": [],
   "source": [
    "data_table = pd.crosstab(df['sex'], df['smoker'])"
   ]
  },
  {
   "cell_type": "code",
   "execution_count": 122,
   "id": "8230a8ab",
   "metadata": {},
   "outputs": [
    {
     "data": {
      "text/html": [
       "<div>\n",
       "<style scoped>\n",
       "    .dataframe tbody tr th:only-of-type {\n",
       "        vertical-align: middle;\n",
       "    }\n",
       "\n",
       "    .dataframe tbody tr th {\n",
       "        vertical-align: top;\n",
       "    }\n",
       "\n",
       "    .dataframe thead th {\n",
       "        text-align: right;\n",
       "    }\n",
       "</style>\n",
       "<table border=\"1\" class=\"dataframe\">\n",
       "  <thead>\n",
       "    <tr style=\"text-align: right;\">\n",
       "      <th>smoker</th>\n",
       "      <th>Yes</th>\n",
       "      <th>No</th>\n",
       "    </tr>\n",
       "    <tr>\n",
       "      <th>sex</th>\n",
       "      <th></th>\n",
       "      <th></th>\n",
       "    </tr>\n",
       "  </thead>\n",
       "  <tbody>\n",
       "    <tr>\n",
       "      <th>Male</th>\n",
       "      <td>60</td>\n",
       "      <td>97</td>\n",
       "    </tr>\n",
       "    <tr>\n",
       "      <th>Female</th>\n",
       "      <td>33</td>\n",
       "      <td>54</td>\n",
       "    </tr>\n",
       "  </tbody>\n",
       "</table>\n",
       "</div>"
      ],
      "text/plain": [
       "smoker  Yes  No\n",
       "sex            \n",
       "Male     60  97\n",
       "Female   33  54"
      ]
     },
     "execution_count": 122,
     "metadata": {},
     "output_type": "execute_result"
    }
   ],
   "source": [
    "data_table"
   ]
  },
  {
   "cell_type": "code",
   "execution_count": 125,
   "id": "056a754c",
   "metadata": {},
   "outputs": [],
   "source": [
    "#observed value and expected value\n",
    "observed_values = data_table.values"
   ]
  },
  {
   "cell_type": "code",
   "execution_count": 127,
   "id": "1a9f1c34",
   "metadata": {},
   "outputs": [],
   "source": [
    "#1st approach>>allowing chi2 itself some expected values\n",
    "stats_test, p, dof, expected_values = stats.chi2_contingency(observed_values)"
   ]
  },
  {
   "cell_type": "code",
   "execution_count": 128,
   "id": "d7702510",
   "metadata": {},
   "outputs": [
    {
     "data": {
      "text/plain": [
       "array([[59.84016393, 97.15983607],\n",
       "       [33.15983607, 53.84016393]])"
      ]
     },
     "execution_count": 128,
     "metadata": {},
     "output_type": "execute_result"
    }
   ],
   "source": [
    "expected_values"
   ]
  },
  {
   "cell_type": "code",
   "execution_count": 129,
   "id": "01b05041",
   "metadata": {},
   "outputs": [
    {
     "data": {
      "text/plain": [
       "array([[60, 97],\n",
       "       [33, 54]], dtype=int64)"
      ]
     },
     "execution_count": 129,
     "metadata": {},
     "output_type": "execute_result"
    }
   ],
   "source": [
    "observed_values"
   ]
  },
  {
   "cell_type": "code",
   "execution_count": 130,
   "id": "2dba8fac",
   "metadata": {},
   "outputs": [
    {
     "name": "stdout",
     "output_type": "stream",
     "text": [
      "(array([60, 97], dtype=int64), array([59.84016393, 97.15983607]))\n",
      "(array([33, 54], dtype=int64), array([33.15983607, 53.84016393]))\n"
     ]
    }
   ],
   "source": [
    "for i in zip(observed_values, expected_values):\n",
    "    print(i)"
   ]
  },
  {
   "cell_type": "code",
   "execution_count": 132,
   "id": "416efdc3",
   "metadata": {},
   "outputs": [],
   "source": [
    "chisquare_test = sum([(o-e)**2 / e for o, e in zip(observed_values, expected_values)])"
   ]
  },
  {
   "cell_type": "code",
   "execution_count": 134,
   "id": "67600a0b",
   "metadata": {},
   "outputs": [
    {
     "data": {
      "text/plain": [
       "0.001934818536627623"
      ]
     },
     "execution_count": 134,
     "metadata": {},
     "output_type": "execute_result"
    }
   ],
   "source": [
    "chisquare_stats = chisquare_test[0]+chisquare_test[1]\n",
    "chisquare_stats"
   ]
  },
  {
   "cell_type": "code",
   "execution_count": 135,
   "id": "0073fcd1",
   "metadata": {},
   "outputs": [
    {
     "data": {
      "text/plain": [
       "1"
      ]
     },
     "execution_count": 135,
     "metadata": {},
     "output_type": "execute_result"
    }
   ],
   "source": [
    "dof"
   ]
  },
  {
   "cell_type": "code",
   "execution_count": 136,
   "id": "301d19bb",
   "metadata": {},
   "outputs": [
    {
     "data": {
      "text/plain": [
       "0.05"
      ]
     },
     "execution_count": 136,
     "metadata": {},
     "output_type": "execute_result"
    }
   ],
   "source": [
    "alpha"
   ]
  },
  {
   "cell_type": "code",
   "execution_count": 138,
   "id": "38bb32c0",
   "metadata": {},
   "outputs": [],
   "source": [
    "chi2_critical = stats.chi2.ppf(1-alpha, df = dof)"
   ]
  },
  {
   "cell_type": "code",
   "execution_count": 139,
   "id": "c36f319a",
   "metadata": {},
   "outputs": [
    {
     "data": {
      "text/plain": [
       "3.841458820694124"
      ]
     },
     "execution_count": 139,
     "metadata": {},
     "output_type": "execute_result"
    }
   ],
   "source": [
    "chi2_critical"
   ]
  },
  {
   "cell_type": "code",
   "execution_count": 141,
   "id": "b79ceba2",
   "metadata": {},
   "outputs": [
    {
     "name": "stdout",
     "output_type": "stream",
     "text": [
      "fail to reject null hypothesis, no relationship\n"
     ]
    }
   ],
   "source": [
    "if chisquare_stats > chi2_critical:\n",
    "    print(\"Reject the null hypothesis, there is a relationship between two cat var\")\n",
    "else:\n",
    "    print(\"fail to reject null hypothesis, no relationship\")"
   ]
  },
  {
   "cell_type": "code",
   "execution_count": 143,
   "id": "90d79e51",
   "metadata": {},
   "outputs": [],
   "source": [
    "#pvalue method\n",
    "\n",
    "pvalue = 1-stats.chi2.cdf(x = chisquare_stats, df =dof)"
   ]
  },
  {
   "cell_type": "code",
   "execution_count": 144,
   "id": "6e5fdc01",
   "metadata": {},
   "outputs": [
    {
     "name": "stdout",
     "output_type": "stream",
     "text": [
      "fail to reject null hypothesis, no relationship\n"
     ]
    }
   ],
   "source": [
    "if pvalue <= alpha:\n",
    "    print(\"Reject the null hypothesis, there is a relationship between two cat var\")\n",
    "else:\n",
    "    print(\"fail to reject null hypothesis, no relationship\")"
   ]
  },
  {
   "cell_type": "code",
   "execution_count": 145,
   "id": "38f3a058",
   "metadata": {},
   "outputs": [],
   "source": [
    "#another approach\n",
    "#no of hours studies daily on a weekly basis\n",
    "#monday, tuesday.....sunday\n",
    "\n",
    "expected_data = [8, 5, 6, 8, 5, 7, 6]\n",
    "observed_data = [7, 4, 7, 9, 4, 8, 6]"
   ]
  },
  {
   "cell_type": "code",
   "execution_count": 146,
   "id": "72baad25",
   "metadata": {},
   "outputs": [
    {
     "data": {
      "text/plain": [
       "(45, 45)"
      ]
     },
     "execution_count": 146,
     "metadata": {},
     "output_type": "execute_result"
    }
   ],
   "source": [
    "sum(expected_data), sum(observed_data)"
   ]
  },
  {
   "cell_type": "code",
   "execution_count": 148,
   "id": "b0b52c24",
   "metadata": {},
   "outputs": [],
   "source": [
    "ch_stats, pvalue = stats.chisquare(observed_data, expected_data)"
   ]
  },
  {
   "cell_type": "code",
   "execution_count": 149,
   "id": "f231535f",
   "metadata": {},
   "outputs": [
    {
     "data": {
      "text/plain": [
       "0.05"
      ]
     },
     "execution_count": 149,
     "metadata": {},
     "output_type": "execute_result"
    }
   ],
   "source": [
    "#find the critical\n",
    "alpha"
   ]
  },
  {
   "cell_type": "code",
   "execution_count": 154,
   "id": "a4fd1e57",
   "metadata": {},
   "outputs": [],
   "source": [
    "dof = len(observed_data)-1"
   ]
  },
  {
   "cell_type": "code",
   "execution_count": 155,
   "id": "d56e03b7",
   "metadata": {},
   "outputs": [
    {
     "data": {
      "text/plain": [
       "6"
      ]
     },
     "execution_count": 155,
     "metadata": {},
     "output_type": "execute_result"
    }
   ],
   "source": [
    "dof"
   ]
  },
  {
   "cell_type": "code",
   "execution_count": 156,
   "id": "afd7bf19",
   "metadata": {},
   "outputs": [],
   "source": [
    "critical_value = stats.chi2.ppf(1-alpha, dof)"
   ]
  },
  {
   "cell_type": "code",
   "execution_count": 157,
   "id": "5cdf04fd",
   "metadata": {},
   "outputs": [
    {
     "data": {
      "text/plain": [
       "12.591587243743977"
      ]
     },
     "execution_count": 157,
     "metadata": {},
     "output_type": "execute_result"
    }
   ],
   "source": [
    "critical_value"
   ]
  },
  {
   "cell_type": "code",
   "execution_count": 158,
   "id": "5a70ad61",
   "metadata": {},
   "outputs": [],
   "source": [
    "if ch_stats > critical_value:\n",
    "    print(\"Reject the null hypothesis\")"
   ]
  },
  {
   "cell_type": "code",
   "execution_count": 160,
   "id": "bb5d955b",
   "metadata": {},
   "outputs": [
    {
     "data": {
      "text/plain": [
       "0.743155149934811"
      ]
     },
     "execution_count": 160,
     "metadata": {},
     "output_type": "execute_result"
    }
   ],
   "source": [
    "#Ftest\n",
    "worker1 = [18, 17, 20, 25, 27, 55, 51, 42, 46, 29]\n",
    "worker2 = [18, 16, 22, 26, 39, 51, 48, 44, 58, 12]\n",
    "\n",
    "fstats = np.var(worker1)/np.var(worker2)\n",
    "fstats"
   ]
  },
  {
   "cell_type": "code",
   "execution_count": 162,
   "id": "c9f1a418",
   "metadata": {},
   "outputs": [],
   "source": [
    "df1 = len(worker1)-1\n",
    "df2 = len(worker2)-1\n",
    "\n",
    "alpha = 0.05\n"
   ]
  },
  {
   "cell_type": "code",
   "execution_count": 163,
   "id": "df5a87d6",
   "metadata": {},
   "outputs": [
    {
     "data": {
      "text/plain": [
       "9"
      ]
     },
     "execution_count": 163,
     "metadata": {},
     "output_type": "execute_result"
    }
   ],
   "source": [
    "df1"
   ]
  },
  {
   "cell_type": "code",
   "execution_count": 164,
   "id": "145c7937",
   "metadata": {},
   "outputs": [
    {
     "data": {
      "text/plain": [
       "9"
      ]
     },
     "execution_count": 164,
     "metadata": {},
     "output_type": "execute_result"
    }
   ],
   "source": [
    "df2"
   ]
  },
  {
   "cell_type": "code",
   "execution_count": 166,
   "id": "6146bf94",
   "metadata": {},
   "outputs": [],
   "source": [
    "import scipy.stats \n",
    "critical_value = stats.f.ppf(1-alpha, dfn = df1, dfd = df2)"
   ]
  },
  {
   "cell_type": "code",
   "execution_count": 167,
   "id": "9139d567",
   "metadata": {},
   "outputs": [
    {
     "data": {
      "text/plain": [
       "3.178893104458269"
      ]
     },
     "execution_count": 167,
     "metadata": {},
     "output_type": "execute_result"
    }
   ],
   "source": [
    "critical_value"
   ]
  },
  {
   "cell_type": "code",
   "execution_count": 168,
   "id": "4993f284",
   "metadata": {},
   "outputs": [
    {
     "name": "stdout",
     "output_type": "stream",
     "text": [
      "fail to reject the null hypothesis\n"
     ]
    }
   ],
   "source": [
    "if fstats>critical_value:\n",
    "    print(\"Reject the null hyposthesis\")\n",
    "else:\n",
    "    print(\"fail to reject the null hypothesis\")"
   ]
  },
  {
   "cell_type": "code",
   "execution_count": 169,
   "id": "22dc25d7",
   "metadata": {},
   "outputs": [],
   "source": [
    "#ANOVA test"
   ]
  },
  {
   "cell_type": "code",
   "execution_count": null,
   "id": "5101d9e2",
   "metadata": {},
   "outputs": [],
   "source": [
    "#to compare two or more than two means"
   ]
  },
  {
   "cell_type": "code",
   "execution_count": 171,
   "id": "4d632cf0",
   "metadata": {},
   "outputs": [
    {
     "data": {
      "text/html": [
       "<div>\n",
       "<style scoped>\n",
       "    .dataframe tbody tr th:only-of-type {\n",
       "        vertical-align: middle;\n",
       "    }\n",
       "\n",
       "    .dataframe tbody tr th {\n",
       "        vertical-align: top;\n",
       "    }\n",
       "\n",
       "    .dataframe thead th {\n",
       "        text-align: right;\n",
       "    }\n",
       "</style>\n",
       "<table border=\"1\" class=\"dataframe\">\n",
       "  <thead>\n",
       "    <tr style=\"text-align: right;\">\n",
       "      <th></th>\n",
       "      <th>Unnamed: 0</th>\n",
       "      <th>weight</th>\n",
       "      <th>group</th>\n",
       "    </tr>\n",
       "  </thead>\n",
       "  <tbody>\n",
       "    <tr>\n",
       "      <th>0</th>\n",
       "      <td>1</td>\n",
       "      <td>4.17</td>\n",
       "      <td>ctrl</td>\n",
       "    </tr>\n",
       "    <tr>\n",
       "      <th>1</th>\n",
       "      <td>2</td>\n",
       "      <td>5.58</td>\n",
       "      <td>ctrl</td>\n",
       "    </tr>\n",
       "    <tr>\n",
       "      <th>2</th>\n",
       "      <td>3</td>\n",
       "      <td>5.18</td>\n",
       "      <td>ctrl</td>\n",
       "    </tr>\n",
       "    <tr>\n",
       "      <th>3</th>\n",
       "      <td>4</td>\n",
       "      <td>6.11</td>\n",
       "      <td>ctrl</td>\n",
       "    </tr>\n",
       "    <tr>\n",
       "      <th>4</th>\n",
       "      <td>5</td>\n",
       "      <td>4.50</td>\n",
       "      <td>ctrl</td>\n",
       "    </tr>\n",
       "    <tr>\n",
       "      <th>5</th>\n",
       "      <td>6</td>\n",
       "      <td>4.61</td>\n",
       "      <td>ctrl</td>\n",
       "    </tr>\n",
       "    <tr>\n",
       "      <th>6</th>\n",
       "      <td>7</td>\n",
       "      <td>5.17</td>\n",
       "      <td>ctrl</td>\n",
       "    </tr>\n",
       "    <tr>\n",
       "      <th>7</th>\n",
       "      <td>8</td>\n",
       "      <td>4.53</td>\n",
       "      <td>ctrl</td>\n",
       "    </tr>\n",
       "    <tr>\n",
       "      <th>8</th>\n",
       "      <td>9</td>\n",
       "      <td>5.33</td>\n",
       "      <td>ctrl</td>\n",
       "    </tr>\n",
       "    <tr>\n",
       "      <th>9</th>\n",
       "      <td>10</td>\n",
       "      <td>5.14</td>\n",
       "      <td>ctrl</td>\n",
       "    </tr>\n",
       "    <tr>\n",
       "      <th>10</th>\n",
       "      <td>11</td>\n",
       "      <td>4.81</td>\n",
       "      <td>trt1</td>\n",
       "    </tr>\n",
       "    <tr>\n",
       "      <th>11</th>\n",
       "      <td>12</td>\n",
       "      <td>4.17</td>\n",
       "      <td>trt1</td>\n",
       "    </tr>\n",
       "    <tr>\n",
       "      <th>12</th>\n",
       "      <td>13</td>\n",
       "      <td>4.41</td>\n",
       "      <td>trt1</td>\n",
       "    </tr>\n",
       "    <tr>\n",
       "      <th>13</th>\n",
       "      <td>14</td>\n",
       "      <td>3.59</td>\n",
       "      <td>trt1</td>\n",
       "    </tr>\n",
       "    <tr>\n",
       "      <th>14</th>\n",
       "      <td>15</td>\n",
       "      <td>5.87</td>\n",
       "      <td>trt1</td>\n",
       "    </tr>\n",
       "    <tr>\n",
       "      <th>15</th>\n",
       "      <td>16</td>\n",
       "      <td>3.83</td>\n",
       "      <td>trt1</td>\n",
       "    </tr>\n",
       "    <tr>\n",
       "      <th>16</th>\n",
       "      <td>17</td>\n",
       "      <td>6.03</td>\n",
       "      <td>trt1</td>\n",
       "    </tr>\n",
       "    <tr>\n",
       "      <th>17</th>\n",
       "      <td>18</td>\n",
       "      <td>4.89</td>\n",
       "      <td>trt1</td>\n",
       "    </tr>\n",
       "    <tr>\n",
       "      <th>18</th>\n",
       "      <td>19</td>\n",
       "      <td>4.32</td>\n",
       "      <td>trt1</td>\n",
       "    </tr>\n",
       "    <tr>\n",
       "      <th>19</th>\n",
       "      <td>20</td>\n",
       "      <td>4.69</td>\n",
       "      <td>trt1</td>\n",
       "    </tr>\n",
       "    <tr>\n",
       "      <th>20</th>\n",
       "      <td>21</td>\n",
       "      <td>6.31</td>\n",
       "      <td>trt2</td>\n",
       "    </tr>\n",
       "    <tr>\n",
       "      <th>21</th>\n",
       "      <td>22</td>\n",
       "      <td>5.12</td>\n",
       "      <td>trt2</td>\n",
       "    </tr>\n",
       "    <tr>\n",
       "      <th>22</th>\n",
       "      <td>23</td>\n",
       "      <td>5.54</td>\n",
       "      <td>trt2</td>\n",
       "    </tr>\n",
       "    <tr>\n",
       "      <th>23</th>\n",
       "      <td>24</td>\n",
       "      <td>5.50</td>\n",
       "      <td>trt2</td>\n",
       "    </tr>\n",
       "    <tr>\n",
       "      <th>24</th>\n",
       "      <td>25</td>\n",
       "      <td>5.37</td>\n",
       "      <td>trt2</td>\n",
       "    </tr>\n",
       "    <tr>\n",
       "      <th>25</th>\n",
       "      <td>26</td>\n",
       "      <td>5.29</td>\n",
       "      <td>trt2</td>\n",
       "    </tr>\n",
       "    <tr>\n",
       "      <th>26</th>\n",
       "      <td>27</td>\n",
       "      <td>4.92</td>\n",
       "      <td>trt2</td>\n",
       "    </tr>\n",
       "    <tr>\n",
       "      <th>27</th>\n",
       "      <td>28</td>\n",
       "      <td>6.15</td>\n",
       "      <td>trt2</td>\n",
       "    </tr>\n",
       "    <tr>\n",
       "      <th>28</th>\n",
       "      <td>29</td>\n",
       "      <td>5.80</td>\n",
       "      <td>trt2</td>\n",
       "    </tr>\n",
       "    <tr>\n",
       "      <th>29</th>\n",
       "      <td>30</td>\n",
       "      <td>5.26</td>\n",
       "      <td>trt2</td>\n",
       "    </tr>\n",
       "  </tbody>\n",
       "</table>\n",
       "</div>"
      ],
      "text/plain": [
       "    Unnamed: 0  weight group\n",
       "0            1    4.17  ctrl\n",
       "1            2    5.58  ctrl\n",
       "2            3    5.18  ctrl\n",
       "3            4    6.11  ctrl\n",
       "4            5    4.50  ctrl\n",
       "5            6    4.61  ctrl\n",
       "6            7    5.17  ctrl\n",
       "7            8    4.53  ctrl\n",
       "8            9    5.33  ctrl\n",
       "9           10    5.14  ctrl\n",
       "10          11    4.81  trt1\n",
       "11          12    4.17  trt1\n",
       "12          13    4.41  trt1\n",
       "13          14    3.59  trt1\n",
       "14          15    5.87  trt1\n",
       "15          16    3.83  trt1\n",
       "16          17    6.03  trt1\n",
       "17          18    4.89  trt1\n",
       "18          19    4.32  trt1\n",
       "19          20    4.69  trt1\n",
       "20          21    6.31  trt2\n",
       "21          22    5.12  trt2\n",
       "22          23    5.54  trt2\n",
       "23          24    5.50  trt2\n",
       "24          25    5.37  trt2\n",
       "25          26    5.29  trt2\n",
       "26          27    4.92  trt2\n",
       "27          28    6.15  trt2\n",
       "28          29    5.80  trt2\n",
       "29          30    5.26  trt2"
      ]
     },
     "execution_count": 171,
     "metadata": {},
     "output_type": "execute_result"
    }
   ],
   "source": [
    "import pandas as pd\n",
    "from scipy import stats\n",
    "df = pd.read_csv(\"plant.csv\")\n",
    "df"
   ]
  },
  {
   "cell_type": "code",
   "execution_count": 172,
   "id": "5dffd70f",
   "metadata": {},
   "outputs": [],
   "source": [
    "df.drop(\"Unnamed: 0\", axis = 1, inplace = True)"
   ]
  },
  {
   "cell_type": "code",
   "execution_count": 173,
   "id": "eccd608f",
   "metadata": {},
   "outputs": [
    {
     "data": {
      "text/html": [
       "<div>\n",
       "<style scoped>\n",
       "    .dataframe tbody tr th:only-of-type {\n",
       "        vertical-align: middle;\n",
       "    }\n",
       "\n",
       "    .dataframe tbody tr th {\n",
       "        vertical-align: top;\n",
       "    }\n",
       "\n",
       "    .dataframe thead th {\n",
       "        text-align: right;\n",
       "    }\n",
       "</style>\n",
       "<table border=\"1\" class=\"dataframe\">\n",
       "  <thead>\n",
       "    <tr style=\"text-align: right;\">\n",
       "      <th></th>\n",
       "      <th>weight</th>\n",
       "      <th>group</th>\n",
       "    </tr>\n",
       "  </thead>\n",
       "  <tbody>\n",
       "    <tr>\n",
       "      <th>0</th>\n",
       "      <td>4.17</td>\n",
       "      <td>ctrl</td>\n",
       "    </tr>\n",
       "    <tr>\n",
       "      <th>1</th>\n",
       "      <td>5.58</td>\n",
       "      <td>ctrl</td>\n",
       "    </tr>\n",
       "    <tr>\n",
       "      <th>2</th>\n",
       "      <td>5.18</td>\n",
       "      <td>ctrl</td>\n",
       "    </tr>\n",
       "    <tr>\n",
       "      <th>3</th>\n",
       "      <td>6.11</td>\n",
       "      <td>ctrl</td>\n",
       "    </tr>\n",
       "    <tr>\n",
       "      <th>4</th>\n",
       "      <td>4.50</td>\n",
       "      <td>ctrl</td>\n",
       "    </tr>\n",
       "    <tr>\n",
       "      <th>5</th>\n",
       "      <td>4.61</td>\n",
       "      <td>ctrl</td>\n",
       "    </tr>\n",
       "    <tr>\n",
       "      <th>6</th>\n",
       "      <td>5.17</td>\n",
       "      <td>ctrl</td>\n",
       "    </tr>\n",
       "    <tr>\n",
       "      <th>7</th>\n",
       "      <td>4.53</td>\n",
       "      <td>ctrl</td>\n",
       "    </tr>\n",
       "    <tr>\n",
       "      <th>8</th>\n",
       "      <td>5.33</td>\n",
       "      <td>ctrl</td>\n",
       "    </tr>\n",
       "    <tr>\n",
       "      <th>9</th>\n",
       "      <td>5.14</td>\n",
       "      <td>ctrl</td>\n",
       "    </tr>\n",
       "    <tr>\n",
       "      <th>10</th>\n",
       "      <td>4.81</td>\n",
       "      <td>trt1</td>\n",
       "    </tr>\n",
       "    <tr>\n",
       "      <th>11</th>\n",
       "      <td>4.17</td>\n",
       "      <td>trt1</td>\n",
       "    </tr>\n",
       "    <tr>\n",
       "      <th>12</th>\n",
       "      <td>4.41</td>\n",
       "      <td>trt1</td>\n",
       "    </tr>\n",
       "    <tr>\n",
       "      <th>13</th>\n",
       "      <td>3.59</td>\n",
       "      <td>trt1</td>\n",
       "    </tr>\n",
       "    <tr>\n",
       "      <th>14</th>\n",
       "      <td>5.87</td>\n",
       "      <td>trt1</td>\n",
       "    </tr>\n",
       "    <tr>\n",
       "      <th>15</th>\n",
       "      <td>3.83</td>\n",
       "      <td>trt1</td>\n",
       "    </tr>\n",
       "    <tr>\n",
       "      <th>16</th>\n",
       "      <td>6.03</td>\n",
       "      <td>trt1</td>\n",
       "    </tr>\n",
       "    <tr>\n",
       "      <th>17</th>\n",
       "      <td>4.89</td>\n",
       "      <td>trt1</td>\n",
       "    </tr>\n",
       "    <tr>\n",
       "      <th>18</th>\n",
       "      <td>4.32</td>\n",
       "      <td>trt1</td>\n",
       "    </tr>\n",
       "    <tr>\n",
       "      <th>19</th>\n",
       "      <td>4.69</td>\n",
       "      <td>trt1</td>\n",
       "    </tr>\n",
       "    <tr>\n",
       "      <th>20</th>\n",
       "      <td>6.31</td>\n",
       "      <td>trt2</td>\n",
       "    </tr>\n",
       "    <tr>\n",
       "      <th>21</th>\n",
       "      <td>5.12</td>\n",
       "      <td>trt2</td>\n",
       "    </tr>\n",
       "    <tr>\n",
       "      <th>22</th>\n",
       "      <td>5.54</td>\n",
       "      <td>trt2</td>\n",
       "    </tr>\n",
       "    <tr>\n",
       "      <th>23</th>\n",
       "      <td>5.50</td>\n",
       "      <td>trt2</td>\n",
       "    </tr>\n",
       "    <tr>\n",
       "      <th>24</th>\n",
       "      <td>5.37</td>\n",
       "      <td>trt2</td>\n",
       "    </tr>\n",
       "    <tr>\n",
       "      <th>25</th>\n",
       "      <td>5.29</td>\n",
       "      <td>trt2</td>\n",
       "    </tr>\n",
       "    <tr>\n",
       "      <th>26</th>\n",
       "      <td>4.92</td>\n",
       "      <td>trt2</td>\n",
       "    </tr>\n",
       "    <tr>\n",
       "      <th>27</th>\n",
       "      <td>6.15</td>\n",
       "      <td>trt2</td>\n",
       "    </tr>\n",
       "    <tr>\n",
       "      <th>28</th>\n",
       "      <td>5.80</td>\n",
       "      <td>trt2</td>\n",
       "    </tr>\n",
       "    <tr>\n",
       "      <th>29</th>\n",
       "      <td>5.26</td>\n",
       "      <td>trt2</td>\n",
       "    </tr>\n",
       "  </tbody>\n",
       "</table>\n",
       "</div>"
      ],
      "text/plain": [
       "    weight group\n",
       "0     4.17  ctrl\n",
       "1     5.58  ctrl\n",
       "2     5.18  ctrl\n",
       "3     6.11  ctrl\n",
       "4     4.50  ctrl\n",
       "5     4.61  ctrl\n",
       "6     5.17  ctrl\n",
       "7     4.53  ctrl\n",
       "8     5.33  ctrl\n",
       "9     5.14  ctrl\n",
       "10    4.81  trt1\n",
       "11    4.17  trt1\n",
       "12    4.41  trt1\n",
       "13    3.59  trt1\n",
       "14    5.87  trt1\n",
       "15    3.83  trt1\n",
       "16    6.03  trt1\n",
       "17    4.89  trt1\n",
       "18    4.32  trt1\n",
       "19    4.69  trt1\n",
       "20    6.31  trt2\n",
       "21    5.12  trt2\n",
       "22    5.54  trt2\n",
       "23    5.50  trt2\n",
       "24    5.37  trt2\n",
       "25    5.29  trt2\n",
       "26    4.92  trt2\n",
       "27    6.15  trt2\n",
       "28    5.80  trt2\n",
       "29    5.26  trt2"
      ]
     },
     "execution_count": 173,
     "metadata": {},
     "output_type": "execute_result"
    }
   ],
   "source": [
    "df"
   ]
  },
  {
   "cell_type": "code",
   "execution_count": 176,
   "id": "77a53405",
   "metadata": {},
   "outputs": [],
   "source": [
    "groups = df.group.unique()"
   ]
  },
  {
   "cell_type": "code",
   "execution_count": 181,
   "id": "6d2a6ddd",
   "metadata": {},
   "outputs": [],
   "source": [
    "data = {grp: df['weight'][df.group == grp] for grp in groups}"
   ]
  },
  {
   "cell_type": "code",
   "execution_count": 182,
   "id": "5b9a0e95",
   "metadata": {},
   "outputs": [
    {
     "data": {
      "text/plain": [
       "{'ctrl': 0    4.17\n",
       " 1    5.58\n",
       " 2    5.18\n",
       " 3    6.11\n",
       " 4    4.50\n",
       " 5    4.61\n",
       " 6    5.17\n",
       " 7    4.53\n",
       " 8    5.33\n",
       " 9    5.14\n",
       " Name: weight, dtype: float64,\n",
       " 'trt1': 10    4.81\n",
       " 11    4.17\n",
       " 12    4.41\n",
       " 13    3.59\n",
       " 14    5.87\n",
       " 15    3.83\n",
       " 16    6.03\n",
       " 17    4.89\n",
       " 18    4.32\n",
       " 19    4.69\n",
       " Name: weight, dtype: float64,\n",
       " 'trt2': 20    6.31\n",
       " 21    5.12\n",
       " 22    5.54\n",
       " 23    5.50\n",
       " 24    5.37\n",
       " 25    5.29\n",
       " 26    4.92\n",
       " 27    6.15\n",
       " 28    5.80\n",
       " 29    5.26\n",
       " Name: weight, dtype: float64}"
      ]
     },
     "execution_count": 182,
     "metadata": {},
     "output_type": "execute_result"
    }
   ],
   "source": [
    "data"
   ]
  },
  {
   "cell_type": "code",
   "execution_count": 183,
   "id": "b9fb5f37",
   "metadata": {},
   "outputs": [
    {
     "data": {
      "text/plain": [
       "0    4.17\n",
       "1    5.58\n",
       "2    5.18\n",
       "3    6.11\n",
       "4    4.50\n",
       "5    4.61\n",
       "6    5.17\n",
       "7    4.53\n",
       "8    5.33\n",
       "9    5.14\n",
       "Name: weight, dtype: float64"
      ]
     },
     "execution_count": 183,
     "metadata": {},
     "output_type": "execute_result"
    }
   ],
   "source": [
    "data['ctrl']"
   ]
  },
  {
   "cell_type": "code",
   "execution_count": 185,
   "id": "bec0b32b",
   "metadata": {},
   "outputs": [],
   "source": [
    "fstats, pvalue = stats.f_oneway(data['ctrl'], data['trt1'], data['trt2'])"
   ]
  },
  {
   "cell_type": "code",
   "execution_count": 187,
   "id": "1ece9571",
   "metadata": {},
   "outputs": [
    {
     "name": "stdout",
     "output_type": "stream",
     "text": [
      "reject the null hypothesis\n"
     ]
    }
   ],
   "source": [
    "if pvalue <= 0.05:\n",
    "    print(\"reject the null hypothesis\")\n",
    "else:\n",
    "    print(\"fail to reject\")"
   ]
  },
  {
   "cell_type": "code",
   "execution_count": null,
   "id": "4a76687c",
   "metadata": {},
   "outputs": [],
   "source": []
  }
 ],
 "metadata": {
  "kernelspec": {
   "display_name": "Python 3 (ipykernel)",
   "language": "python",
   "name": "python3"
  },
  "language_info": {
   "codemirror_mode": {
    "name": "ipython",
    "version": 3
   },
   "file_extension": ".py",
   "mimetype": "text/x-python",
   "name": "python",
   "nbconvert_exporter": "python",
   "pygments_lexer": "ipython3",
   "version": "3.11.4"
  }
 },
 "nbformat": 4,
 "nbformat_minor": 5
}
