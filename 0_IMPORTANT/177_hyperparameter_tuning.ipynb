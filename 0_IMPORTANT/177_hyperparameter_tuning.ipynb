{
 "cells": [
  {
   "cell_type": "code",
   "execution_count": 1,
   "id": "072239f3-bbfc-49a9-8340-e4f4352fd0a5",
   "metadata": {},
   "outputs": [],
   "source": [
    "from sklearn.datasets import make_classification\n",
    "from sklearn.linear_model import LogisticRegression\n",
    "X, y = make_classification(n_samples=1000, n_features=10, n_informative=5, n_redundant=5, n_classes=2, random_state=1)\n",
    "\n",
    "from sklearn.model_selection import train_test_split\n",
    "X_train, X_test, y_train, y_test = train_test_split(X, y, test_size=0.20, random_state=1)"
   ]
  },
  {
   "cell_type": "code",
   "execution_count": 2,
   "id": "239d8dfe-9695-43d5-a9c9-dbacfe5d56b8",
   "metadata": {},
   "outputs": [
    {
     "data": {
      "text/plain": [
       "(array([[ 2.56999479, -0.13019997,  3.16075093, ..., -1.93094078,\n",
       "          3.26130366,  2.05692145],\n",
       "        [ 0.34129317,  2.51321418, -0.80416572, ...,  6.24734437,\n",
       "         -1.92769365,  2.9503149 ],\n",
       "        [ 2.27539972,  3.36561455,  0.17164362, ...,  2.74693781,\n",
       "          0.13492444,  2.00339547],\n",
       "        ...,\n",
       "        [ 0.5234359 ,  1.90466429,  0.93243365, ...,  1.53945231,\n",
       "          1.90646166,  1.99458587],\n",
       "        [ 1.33747921,  3.25859684,  0.78792366, ...,  5.18788314,\n",
       "         -0.82071083,  3.51411431],\n",
       "        [-0.98534299,  0.83919047,  2.5820803 , ...,  3.04705685,\n",
       "          0.66885641,  3.32838496]]),\n",
       " array([1, 0, 0, 1, 0, 1, 1, 0, 0, 0, 1, 0, 1, 1, 0, 0, 1, 1, 1, 0, 0, 1,\n",
       "        1, 0, 1, 1, 1, 0, 0, 1, 1, 0, 1, 0, 1, 1, 1, 0, 0, 0, 0, 0, 0, 1,\n",
       "        0, 1, 0, 1, 1, 1, 0, 1, 1, 0, 1, 1, 0, 1, 0, 0, 0, 1, 0, 0, 0, 0,\n",
       "        1, 1, 0, 0, 0, 1, 0, 0, 1, 0, 0, 1, 1, 0, 1, 0, 1, 1, 1, 0, 1, 0,\n",
       "        0, 1, 0, 0, 0, 1, 0, 1, 1, 1, 0, 1, 1, 1, 1, 0, 1, 0, 1, 1, 0, 0,\n",
       "        1, 0, 1, 0, 1, 0, 1, 1, 1, 1, 1, 0, 1, 0, 0, 1, 0, 0, 1, 0, 1, 0,\n",
       "        0, 0, 1, 1, 0, 0, 0, 0, 0, 1, 1, 1, 0, 1, 0, 1, 1, 1, 1, 1, 0, 1,\n",
       "        1, 0, 1, 1, 0, 0, 0, 0, 0, 0, 1, 0, 1, 1, 1, 0, 0, 0, 0, 1, 1, 0,\n",
       "        1, 0, 1, 1, 1, 0, 0, 0, 1, 1, 1, 1, 1, 1, 0, 1, 1, 0, 1, 1, 0, 0,\n",
       "        1, 1, 0, 0, 1, 0, 0, 1, 1, 1, 1, 0, 1, 1, 1, 1, 0, 0, 1, 1, 1, 0,\n",
       "        0, 1, 1, 1, 0, 0, 0, 1, 1, 1, 1, 0, 0, 1, 0, 1, 1, 0, 1, 0, 0, 1,\n",
       "        0, 0, 1, 0, 0, 1, 0, 1, 1, 0, 0, 1, 0, 0, 1, 1, 0, 1, 1, 0, 1, 0,\n",
       "        1, 1, 1, 1, 0, 1, 0, 1, 1, 0, 1, 0, 1, 1, 0, 1, 0, 1, 1, 1, 1, 0,\n",
       "        0, 0, 0, 0, 0, 1, 1, 1, 0, 1, 1, 1, 0, 1, 1, 1, 0, 0, 1, 0, 1, 1,\n",
       "        0, 1, 0, 0, 0, 1, 1, 1, 1, 0, 0, 1, 0, 1, 0, 1, 0, 0, 0, 1, 0, 1,\n",
       "        0, 0, 0, 0, 1, 0, 0, 0, 0, 0, 1, 1, 0, 0, 1, 0, 0, 1, 1, 0, 0, 0,\n",
       "        0, 1, 1, 1, 1, 1, 0, 1, 1, 0, 1, 1, 1, 1, 1, 1, 0, 0, 1, 1, 1, 0,\n",
       "        1, 0, 0, 0, 1, 0, 0, 0, 0, 1, 0, 0, 0, 1, 1, 0, 1, 1, 0, 0, 0, 1,\n",
       "        1, 1, 0, 1, 0, 0, 0, 1, 1, 0, 0, 1, 1, 1, 1, 0, 0, 0, 0, 1, 1, 0,\n",
       "        1, 1, 1, 0, 0, 1, 1, 1, 0, 0, 1, 0, 1, 1, 1, 1, 1, 0, 0, 1, 1, 1,\n",
       "        0, 1, 0, 1, 0, 1, 0, 0, 0, 1, 1, 0, 0, 0, 1, 0, 1, 1, 0, 1, 0, 0,\n",
       "        0, 1, 0, 1, 0, 0, 0, 0, 0, 0, 1, 1, 1, 1, 0, 0, 0, 1, 1, 0, 0, 1,\n",
       "        1, 1, 1, 1, 0, 0, 0, 0, 0, 0, 0, 1, 1, 0, 1, 0, 0, 0, 1, 0, 1, 1,\n",
       "        1, 1, 1, 1, 0, 0, 0, 0, 0, 1, 0, 1, 0, 1, 1, 0, 1, 0, 1, 0, 0, 0,\n",
       "        1, 0, 0, 1, 1, 1, 1, 1, 1, 0, 0, 0, 0, 1, 0, 1, 1, 0, 0, 0, 1, 0,\n",
       "        1, 0, 1, 0, 1, 1, 0, 0, 0, 1, 1, 0, 0, 0, 0, 1, 0, 1, 0, 1, 0, 1,\n",
       "        0, 0, 1, 1, 0, 0, 1, 1, 0, 1, 0, 1, 0, 1, 1, 1, 0, 1, 0, 0, 0, 1,\n",
       "        1, 1, 0, 0, 1, 0, 1, 1, 0, 1, 0, 1, 1, 1, 1, 0, 0, 1, 1, 0, 0, 1,\n",
       "        1, 0, 1, 1, 1, 0, 0, 1, 0, 0, 0, 0, 0, 0, 1, 1, 0, 0, 1, 1, 1, 1,\n",
       "        1, 1, 0, 1, 1, 1, 0, 1, 1, 0, 0, 1, 1, 0, 1, 1, 0, 0, 1, 0, 0, 1,\n",
       "        1, 1, 0, 1, 1, 1, 0, 0, 0, 1, 1, 0, 0, 1, 0, 1, 0, 0, 0, 0, 0, 0,\n",
       "        0, 0, 0, 1, 1, 1, 1, 1, 1, 0, 0, 1, 0, 1, 1, 0, 1, 0, 1, 1, 0, 1,\n",
       "        0, 0, 1, 1, 0, 0, 0, 1, 0, 0, 0, 0, 1, 0, 1, 0, 0, 0, 1, 0, 0, 0,\n",
       "        1, 0, 0, 1, 1, 0, 0, 0, 0, 1, 1, 1, 0, 1, 1, 1, 0, 1, 0, 1, 0, 0,\n",
       "        1, 1, 1, 0, 1, 0, 0, 1, 0, 1, 1, 0, 0, 1, 0, 1, 1, 0, 1, 0, 0, 0,\n",
       "        0, 0, 1, 1, 0, 1, 1, 1, 1, 0, 0, 1, 0, 1, 0, 1, 1, 1, 1, 1, 0, 0,\n",
       "        0, 0, 0, 0, 0, 0, 0, 1, 1, 1, 1, 0, 0, 1, 0, 1, 1, 1, 0, 0, 0, 0,\n",
       "        0, 0, 0, 1, 0, 1, 1, 1, 1, 0, 1, 1, 1, 0, 0, 1, 1, 0, 1, 0, 1, 0,\n",
       "        1, 0, 0, 1, 1, 0, 1, 1, 1, 1, 1, 1, 0, 0, 0, 1, 0, 1, 1, 1, 1, 0,\n",
       "        0, 1, 0, 0, 1, 0, 1, 1, 1, 0, 1, 1, 0, 1, 0, 0, 1, 0, 0, 0, 1, 0,\n",
       "        0, 1, 0, 0, 1, 0, 0, 1, 1, 1, 1, 1, 1, 0, 0, 1, 1, 0, 0, 1, 0, 1,\n",
       "        1, 0, 1, 0, 0, 0, 0, 0, 0, 0, 0, 1, 0, 1, 0, 1, 0, 1, 1, 1, 0, 1,\n",
       "        1, 1, 1, 1, 0, 0, 0, 0, 0, 0, 1, 0, 0, 1, 1, 1, 0, 0, 0, 0, 1, 1,\n",
       "        0, 0, 0, 1, 1, 0, 0, 1, 1, 0, 1, 0, 1, 0, 1, 0, 1, 0, 1, 0, 1, 0,\n",
       "        0, 1, 0, 1, 1, 1, 0, 1, 0, 0, 1, 1, 1, 0, 1, 0, 0, 1, 1, 0, 0, 1,\n",
       "        1, 0, 0, 0, 0, 1, 1, 0, 0, 0]))"
      ]
     },
     "execution_count": 2,
     "metadata": {},
     "output_type": "execute_result"
    }
   ],
   "source": [
    "X, y"
   ]
  },
  {
   "cell_type": "code",
   "execution_count": 17,
   "id": "b617398c-4bda-4feb-9095-0b8df3296c45",
   "metadata": {},
   "outputs": [],
   "source": [
    "#GridSearchCV>> take all possible\n",
    "from sklearn.model_selection import GridSearchCV\n",
    "params = {'penalty': ('l1', 'l2', 'elasticnet'), 'C': [1, 2, 3, 4, 5, 10, 20, 30, 40]}\n",
    "\n",
    "classifier = LogisticRegression()"
   ]
  },
  {
   "cell_type": "code",
   "execution_count": 18,
   "id": "367aad9f-27e3-47f9-b6d4-db7927fca77c",
   "metadata": {},
   "outputs": [],
   "source": [
    "clf = GridSearchCV(classifier, param_grid=params, cv = 5, verbose=3)"
   ]
  },
  {
   "cell_type": "code",
   "execution_count": 19,
   "id": "5bdec983-ff5e-457a-ba38-9846ef97d0a4",
   "metadata": {},
   "outputs": [
    {
     "data": {
      "text/html": [
       "<style>#sk-container-id-8 {color: black;background-color: white;}#sk-container-id-8 pre{padding: 0;}#sk-container-id-8 div.sk-toggleable {background-color: white;}#sk-container-id-8 label.sk-toggleable__label {cursor: pointer;display: block;width: 100%;margin-bottom: 0;padding: 0.3em;box-sizing: border-box;text-align: center;}#sk-container-id-8 label.sk-toggleable__label-arrow:before {content: \"▸\";float: left;margin-right: 0.25em;color: #696969;}#sk-container-id-8 label.sk-toggleable__label-arrow:hover:before {color: black;}#sk-container-id-8 div.sk-estimator:hover label.sk-toggleable__label-arrow:before {color: black;}#sk-container-id-8 div.sk-toggleable__content {max-height: 0;max-width: 0;overflow: hidden;text-align: left;background-color: #f0f8ff;}#sk-container-id-8 div.sk-toggleable__content pre {margin: 0.2em;color: black;border-radius: 0.25em;background-color: #f0f8ff;}#sk-container-id-8 input.sk-toggleable__control:checked~div.sk-toggleable__content {max-height: 200px;max-width: 100%;overflow: auto;}#sk-container-id-8 input.sk-toggleable__control:checked~label.sk-toggleable__label-arrow:before {content: \"▾\";}#sk-container-id-8 div.sk-estimator input.sk-toggleable__control:checked~label.sk-toggleable__label {background-color: #d4ebff;}#sk-container-id-8 div.sk-label input.sk-toggleable__control:checked~label.sk-toggleable__label {background-color: #d4ebff;}#sk-container-id-8 input.sk-hidden--visually {border: 0;clip: rect(1px 1px 1px 1px);clip: rect(1px, 1px, 1px, 1px);height: 1px;margin: -1px;overflow: hidden;padding: 0;position: absolute;width: 1px;}#sk-container-id-8 div.sk-estimator {font-family: monospace;background-color: #f0f8ff;border: 1px dotted black;border-radius: 0.25em;box-sizing: border-box;margin-bottom: 0.5em;}#sk-container-id-8 div.sk-estimator:hover {background-color: #d4ebff;}#sk-container-id-8 div.sk-parallel-item::after {content: \"\";width: 100%;border-bottom: 1px solid gray;flex-grow: 1;}#sk-container-id-8 div.sk-label:hover label.sk-toggleable__label {background-color: #d4ebff;}#sk-container-id-8 div.sk-serial::before {content: \"\";position: absolute;border-left: 1px solid gray;box-sizing: border-box;top: 0;bottom: 0;left: 50%;z-index: 0;}#sk-container-id-8 div.sk-serial {display: flex;flex-direction: column;align-items: center;background-color: white;padding-right: 0.2em;padding-left: 0.2em;position: relative;}#sk-container-id-8 div.sk-item {position: relative;z-index: 1;}#sk-container-id-8 div.sk-parallel {display: flex;align-items: stretch;justify-content: center;background-color: white;position: relative;}#sk-container-id-8 div.sk-item::before, #sk-container-id-8 div.sk-parallel-item::before {content: \"\";position: absolute;border-left: 1px solid gray;box-sizing: border-box;top: 0;bottom: 0;left: 50%;z-index: -1;}#sk-container-id-8 div.sk-parallel-item {display: flex;flex-direction: column;z-index: 1;position: relative;background-color: white;}#sk-container-id-8 div.sk-parallel-item:first-child::after {align-self: flex-end;width: 50%;}#sk-container-id-8 div.sk-parallel-item:last-child::after {align-self: flex-start;width: 50%;}#sk-container-id-8 div.sk-parallel-item:only-child::after {width: 0;}#sk-container-id-8 div.sk-dashed-wrapped {border: 1px dashed gray;margin: 0 0.4em 0.5em 0.4em;box-sizing: border-box;padding-bottom: 0.4em;background-color: white;}#sk-container-id-8 div.sk-label label {font-family: monospace;font-weight: bold;display: inline-block;line-height: 1.2em;}#sk-container-id-8 div.sk-label-container {text-align: center;}#sk-container-id-8 div.sk-container {/* jupyter's `normalize.less` sets `[hidden] { display: none; }` but bootstrap.min.css set `[hidden] { display: none !important; }` so we also need the `!important` here to be able to override the default hidden behavior on the sphinx rendered scikit-learn.org. See: https://github.com/scikit-learn/scikit-learn/issues/21755 */display: inline-block !important;position: relative;}#sk-container-id-8 div.sk-text-repr-fallback {display: none;}</style><div id=\"sk-container-id-8\" class=\"sk-top-container\"><div class=\"sk-text-repr-fallback\"><pre>GridSearchCV(cv=5, estimator=LogisticRegression(),\n",
       "             param_grid={&#x27;C&#x27;: [1, 2, 3, 4, 5, 10, 20, 30, 40],\n",
       "                         &#x27;penalty&#x27;: (&#x27;l1&#x27;, &#x27;l2&#x27;, &#x27;elasticnet&#x27;)},\n",
       "             verbose=3)</pre><b>In a Jupyter environment, please rerun this cell to show the HTML representation or trust the notebook. <br />On GitHub, the HTML representation is unable to render, please try loading this page with nbviewer.org.</b></div><div class=\"sk-container\" hidden><div class=\"sk-item sk-dashed-wrapped\"><div class=\"sk-label-container\"><div class=\"sk-label sk-toggleable\"><input class=\"sk-toggleable__control sk-hidden--visually\" id=\"sk-estimator-id-22\" type=\"checkbox\" ><label for=\"sk-estimator-id-22\" class=\"sk-toggleable__label sk-toggleable__label-arrow\">GridSearchCV</label><div class=\"sk-toggleable__content\"><pre>GridSearchCV(cv=5, estimator=LogisticRegression(),\n",
       "             param_grid={&#x27;C&#x27;: [1, 2, 3, 4, 5, 10, 20, 30, 40],\n",
       "                         &#x27;penalty&#x27;: (&#x27;l1&#x27;, &#x27;l2&#x27;, &#x27;elasticnet&#x27;)},\n",
       "             verbose=3)</pre></div></div></div><div class=\"sk-parallel\"><div class=\"sk-parallel-item\"><div class=\"sk-item\"><div class=\"sk-label-container\"><div class=\"sk-label sk-toggleable\"><input class=\"sk-toggleable__control sk-hidden--visually\" id=\"sk-estimator-id-23\" type=\"checkbox\" ><label for=\"sk-estimator-id-23\" class=\"sk-toggleable__label sk-toggleable__label-arrow\">estimator: LogisticRegression</label><div class=\"sk-toggleable__content\"><pre>LogisticRegression()</pre></div></div></div><div class=\"sk-serial\"><div class=\"sk-item\"><div class=\"sk-estimator sk-toggleable\"><input class=\"sk-toggleable__control sk-hidden--visually\" id=\"sk-estimator-id-24\" type=\"checkbox\" ><label for=\"sk-estimator-id-24\" class=\"sk-toggleable__label sk-toggleable__label-arrow\">LogisticRegression</label><div class=\"sk-toggleable__content\"><pre>LogisticRegression()</pre></div></div></div></div></div></div></div></div></div></div>"
      ],
      "text/plain": [
       "GridSearchCV(cv=5, estimator=LogisticRegression(),\n",
       "             param_grid={'C': [1, 2, 3, 4, 5, 10, 20, 30, 40],\n",
       "                         'penalty': ('l1', 'l2', 'elasticnet')},\n",
       "             verbose=3)"
      ]
     },
     "execution_count": 19,
     "metadata": {},
     "output_type": "execute_result"
    }
   ],
   "source": [
    "clf"
   ]
  },
  {
   "cell_type": "code",
   "execution_count": 20,
   "id": "3994ea6f-220c-4908-ae49-f2c705b1516d",
   "metadata": {},
   "outputs": [
    {
     "name": "stdout",
     "output_type": "stream",
     "text": [
      "Fitting 5 folds for each of 27 candidates, totalling 135 fits\n",
      "[CV 1/5] END .....................C=1, penalty=l1;, score=nan total time=   0.0s\n",
      "[CV 2/5] END .....................C=1, penalty=l1;, score=nan total time=   0.0s\n",
      "[CV 3/5] END .....................C=1, penalty=l1;, score=nan total time=   0.0s\n",
      "[CV 4/5] END .....................C=1, penalty=l1;, score=nan total time=   0.0s\n",
      "[CV 5/5] END .....................C=1, penalty=l1;, score=nan total time=   0.0s\n",
      "[CV 1/5] END ...................C=1, penalty=l2;, score=0.856 total time=   0.0s\n",
      "[CV 2/5] END ...................C=1, penalty=l2;, score=0.762 total time=   0.0s\n",
      "[CV 3/5] END ...................C=1, penalty=l2;, score=0.806 total time=   0.0s\n",
      "[CV 4/5] END ...................C=1, penalty=l2;, score=0.806 total time=   0.0s\n",
      "[CV 5/5] END ...................C=1, penalty=l2;, score=0.800 total time=   0.0s\n",
      "[CV 1/5] END .............C=1, penalty=elasticnet;, score=nan total time=   0.0s\n",
      "[CV 2/5] END .............C=1, penalty=elasticnet;, score=nan total time=   0.0s\n",
      "[CV 3/5] END .............C=1, penalty=elasticnet;, score=nan total time=   0.0s\n",
      "[CV 4/5] END .............C=1, penalty=elasticnet;, score=nan total time=   0.0s\n",
      "[CV 5/5] END .............C=1, penalty=elasticnet;, score=nan total time=   0.0s\n",
      "[CV 1/5] END .....................C=2, penalty=l1;, score=nan total time=   0.0s\n",
      "[CV 2/5] END .....................C=2, penalty=l1;, score=nan total time=   0.0s\n",
      "[CV 3/5] END .....................C=2, penalty=l1;, score=nan total time=   0.0s\n",
      "[CV 4/5] END .....................C=2, penalty=l1;, score=nan total time=   0.0s\n",
      "[CV 5/5] END .....................C=2, penalty=l1;, score=nan total time=   0.0s\n",
      "[CV 1/5] END ...................C=2, penalty=l2;, score=0.856 total time=   0.0s\n",
      "[CV 2/5] END ...................C=2, penalty=l2;, score=0.762 total time=   0.0s\n",
      "[CV 3/5] END ...................C=2, penalty=l2;, score=0.806 total time=   0.0s\n",
      "[CV 4/5] END ...................C=2, penalty=l2;, score=0.806 total time=   0.0s\n",
      "[CV 5/5] END ...................C=2, penalty=l2;, score=0.800 total time=   0.0s\n",
      "[CV 1/5] END .............C=2, penalty=elasticnet;, score=nan total time=   0.0s\n",
      "[CV 2/5] END .............C=2, penalty=elasticnet;, score=nan total time=   0.0s\n",
      "[CV 3/5] END .............C=2, penalty=elasticnet;, score=nan total time=   0.0s\n",
      "[CV 4/5] END .............C=2, penalty=elasticnet;, score=nan total time=   0.0s\n",
      "[CV 5/5] END .............C=2, penalty=elasticnet;, score=nan total time=   0.0s\n",
      "[CV 1/5] END .....................C=3, penalty=l1;, score=nan total time=   0.0s\n",
      "[CV 2/5] END .....................C=3, penalty=l1;, score=nan total time=   0.0s\n",
      "[CV 3/5] END .....................C=3, penalty=l1;, score=nan total time=   0.0s\n",
      "[CV 4/5] END .....................C=3, penalty=l1;, score=nan total time=   0.0s\n",
      "[CV 5/5] END .....................C=3, penalty=l1;, score=nan total time=   0.0s\n",
      "[CV 1/5] END ...................C=3, penalty=l2;, score=0.856 total time=   0.0s\n",
      "[CV 2/5] END ...................C=3, penalty=l2;, score=0.762 total time=   0.0s\n",
      "[CV 3/5] END ...................C=3, penalty=l2;, score=0.806 total time=   0.0s\n",
      "[CV 4/5] END ...................C=3, penalty=l2;, score=0.806 total time=   0.0s\n",
      "[CV 5/5] END ...................C=3, penalty=l2;, score=0.800 total time=   0.0s\n",
      "[CV 1/5] END .............C=3, penalty=elasticnet;, score=nan total time=   0.0s\n",
      "[CV 2/5] END .............C=3, penalty=elasticnet;, score=nan total time=   0.0s\n",
      "[CV 3/5] END .............C=3, penalty=elasticnet;, score=nan total time=   0.0s\n",
      "[CV 4/5] END .............C=3, penalty=elasticnet;, score=nan total time=   0.0s\n",
      "[CV 5/5] END .............C=3, penalty=elasticnet;, score=nan total time=   0.0s\n",
      "[CV 1/5] END .....................C=4, penalty=l1;, score=nan total time=   0.0s\n",
      "[CV 2/5] END .....................C=4, penalty=l1;, score=nan total time=   0.0s\n",
      "[CV 3/5] END .....................C=4, penalty=l1;, score=nan total time=   0.0s\n",
      "[CV 4/5] END .....................C=4, penalty=l1;, score=nan total time=   0.0s\n",
      "[CV 5/5] END .....................C=4, penalty=l1;, score=nan total time=   0.0s\n",
      "[CV 1/5] END ...................C=4, penalty=l2;, score=0.856 total time=   0.0s\n",
      "[CV 2/5] END ...................C=4, penalty=l2;, score=0.762 total time=   0.0s\n",
      "[CV 3/5] END ...................C=4, penalty=l2;, score=0.806 total time=   0.0s\n",
      "[CV 4/5] END ...................C=4, penalty=l2;, score=0.806 total time=   0.0s\n",
      "[CV 5/5] END ...................C=4, penalty=l2;, score=0.800 total time=   0.0s\n",
      "[CV 1/5] END .............C=4, penalty=elasticnet;, score=nan total time=   0.0s\n",
      "[CV 2/5] END .............C=4, penalty=elasticnet;, score=nan total time=   0.0s\n",
      "[CV 3/5] END .............C=4, penalty=elasticnet;, score=nan total time=   0.0s\n",
      "[CV 4/5] END .............C=4, penalty=elasticnet;, score=nan total time=   0.0s\n",
      "[CV 5/5] END .............C=4, penalty=elasticnet;, score=nan total time=   0.0s\n",
      "[CV 1/5] END .....................C=5, penalty=l1;, score=nan total time=   0.0s\n",
      "[CV 2/5] END .....................C=5, penalty=l1;, score=nan total time=   0.0s\n",
      "[CV 3/5] END .....................C=5, penalty=l1;, score=nan total time=   0.0s\n",
      "[CV 4/5] END .....................C=5, penalty=l1;, score=nan total time=   0.0s\n",
      "[CV 5/5] END .....................C=5, penalty=l1;, score=nan total time=   0.0s\n",
      "[CV 1/5] END ...................C=5, penalty=l2;, score=0.856 total time=   0.0s\n",
      "[CV 2/5] END ...................C=5, penalty=l2;, score=0.762 total time=   0.0s\n",
      "[CV 3/5] END ...................C=5, penalty=l2;, score=0.806 total time=   0.0s\n",
      "[CV 4/5] END ...................C=5, penalty=l2;, score=0.806 total time=   0.0s\n",
      "[CV 5/5] END ...................C=5, penalty=l2;, score=0.800 total time=   0.0s\n",
      "[CV 1/5] END .............C=5, penalty=elasticnet;, score=nan total time=   0.0s\n",
      "[CV 2/5] END .............C=5, penalty=elasticnet;, score=nan total time=   0.0s\n",
      "[CV 3/5] END .............C=5, penalty=elasticnet;, score=nan total time=   0.0s\n",
      "[CV 4/5] END .............C=5, penalty=elasticnet;, score=nan total time=   0.0s\n",
      "[CV 5/5] END .............C=5, penalty=elasticnet;, score=nan total time=   0.0s\n",
      "[CV 1/5] END ....................C=10, penalty=l1;, score=nan total time=   0.0s\n",
      "[CV 2/5] END ....................C=10, penalty=l1;, score=nan total time=   0.0s\n",
      "[CV 3/5] END ....................C=10, penalty=l1;, score=nan total time=   0.0s\n",
      "[CV 4/5] END ....................C=10, penalty=l1;, score=nan total time=   0.0s\n",
      "[CV 5/5] END ....................C=10, penalty=l1;, score=nan total time=   0.0s\n",
      "[CV 1/5] END ..................C=10, penalty=l2;, score=0.856 total time=   0.0s\n",
      "[CV 2/5] END ..................C=10, penalty=l2;, score=0.762 total time=   0.0s\n",
      "[CV 3/5] END ..................C=10, penalty=l2;, score=0.806 total time=   0.0s\n",
      "[CV 4/5] END ..................C=10, penalty=l2;, score=0.806 total time=   0.0s\n",
      "[CV 5/5] END ..................C=10, penalty=l2;, score=0.800 total time=   0.0s\n",
      "[CV 1/5] END ............C=10, penalty=elasticnet;, score=nan total time=   0.0s\n",
      "[CV 2/5] END ............C=10, penalty=elasticnet;, score=nan total time=   0.0s\n",
      "[CV 3/5] END ............C=10, penalty=elasticnet;, score=nan total time=   0.0s\n",
      "[CV 4/5] END ............C=10, penalty=elasticnet;, score=nan total time=   0.0s\n",
      "[CV 5/5] END ............C=10, penalty=elasticnet;, score=nan total time=   0.0s\n",
      "[CV 1/5] END ....................C=20, penalty=l1;, score=nan total time=   0.0s\n",
      "[CV 2/5] END ....................C=20, penalty=l1;, score=nan total time=   0.0s\n",
      "[CV 3/5] END ....................C=20, penalty=l1;, score=nan total time=   0.0s\n",
      "[CV 4/5] END ....................C=20, penalty=l1;, score=nan total time=   0.0s\n",
      "[CV 5/5] END ....................C=20, penalty=l1;, score=nan total time=   0.0s\n",
      "[CV 1/5] END ..................C=20, penalty=l2;, score=0.856 total time=   0.0s\n",
      "[CV 2/5] END ..................C=20, penalty=l2;, score=0.762 total time=   0.0s\n",
      "[CV 3/5] END ..................C=20, penalty=l2;, score=0.806 total time=   0.0s\n",
      "[CV 4/5] END ..................C=20, penalty=l2;, score=0.806 total time=   0.0s\n",
      "[CV 5/5] END ..................C=20, penalty=l2;, score=0.800 total time=   0.0s\n",
      "[CV 1/5] END ............C=20, penalty=elasticnet;, score=nan total time=   0.0s\n",
      "[CV 2/5] END ............C=20, penalty=elasticnet;, score=nan total time=   0.0s\n",
      "[CV 3/5] END ............C=20, penalty=elasticnet;, score=nan total time=   0.0s\n",
      "[CV 4/5] END ............C=20, penalty=elasticnet;, score=nan total time=   0.0s\n",
      "[CV 5/5] END ............C=20, penalty=elasticnet;, score=nan total time=   0.0s\n",
      "[CV 1/5] END ....................C=30, penalty=l1;, score=nan total time=   0.0s\n",
      "[CV 2/5] END ....................C=30, penalty=l1;, score=nan total time=   0.0s\n",
      "[CV 3/5] END ....................C=30, penalty=l1;, score=nan total time=   0.0s\n",
      "[CV 4/5] END ....................C=30, penalty=l1;, score=nan total time=   0.0s\n",
      "[CV 5/5] END ....................C=30, penalty=l1;, score=nan total time=   0.0s\n",
      "[CV 1/5] END ..................C=30, penalty=l2;, score=0.856 total time=   0.0s\n",
      "[CV 2/5] END ..................C=30, penalty=l2;, score=0.762 total time=   0.0s\n",
      "[CV 3/5] END ..................C=30, penalty=l2;, score=0.806 total time=   0.0s\n",
      "[CV 4/5] END ..................C=30, penalty=l2;, score=0.806 total time=   0.0s\n",
      "[CV 5/5] END ..................C=30, penalty=l2;, score=0.800 total time=   0.0s\n",
      "[CV 1/5] END ............C=30, penalty=elasticnet;, score=nan total time=   0.0s\n",
      "[CV 2/5] END ............C=30, penalty=elasticnet;, score=nan total time=   0.0s\n",
      "[CV 3/5] END ............C=30, penalty=elasticnet;, score=nan total time=   0.0s\n",
      "[CV 4/5] END ............C=30, penalty=elasticnet;, score=nan total time=   0.0s\n",
      "[CV 5/5] END ............C=30, penalty=elasticnet;, score=nan total time=   0.0s\n",
      "[CV 1/5] END ....................C=40, penalty=l1;, score=nan total time=   0.0s\n",
      "[CV 2/5] END ....................C=40, penalty=l1;, score=nan total time=   0.0s\n",
      "[CV 3/5] END ....................C=40, penalty=l1;, score=nan total time=   0.0s\n",
      "[CV 4/5] END ....................C=40, penalty=l1;, score=nan total time=   0.0s\n",
      "[CV 5/5] END ....................C=40, penalty=l1;, score=nan total time=   0.0s\n",
      "[CV 1/5] END ..................C=40, penalty=l2;, score=0.856 total time=   0.0s\n",
      "[CV 2/5] END ..................C=40, penalty=l2;, score=0.762 total time=   0.0s\n",
      "[CV 3/5] END ..................C=40, penalty=l2;, score=0.806 total time=   0.0s\n",
      "[CV 4/5] END ..................C=40, penalty=l2;, score=0.806 total time=   0.0s\n",
      "[CV 5/5] END ..................C=40, penalty=l2;, score=0.800 total time=   0.0s\n",
      "[CV 1/5] END ............C=40, penalty=elasticnet;, score=nan total time=   0.0s\n",
      "[CV 2/5] END ............C=40, penalty=elasticnet;, score=nan total time=   0.0s\n",
      "[CV 3/5] END ............C=40, penalty=elasticnet;, score=nan total time=   0.0s\n",
      "[CV 4/5] END ............C=40, penalty=elasticnet;, score=nan total time=   0.0s\n",
      "[CV 5/5] END ............C=40, penalty=elasticnet;, score=nan total time=   0.0s\n"
     ]
    },
    {
     "name": "stderr",
     "output_type": "stream",
     "text": [
      "/opt/conda/lib/python3.10/site-packages/sklearn/model_selection/_validation.py:378: FitFailedWarning: \n",
      "90 fits failed out of a total of 135.\n",
      "The score on these train-test partitions for these parameters will be set to nan.\n",
      "If these failures are not expected, you can try to debug them by setting error_score='raise'.\n",
      "\n",
      "Below are more details about the failures:\n",
      "--------------------------------------------------------------------------------\n",
      "45 fits failed with the following error:\n",
      "Traceback (most recent call last):\n",
      "  File \"/opt/conda/lib/python3.10/site-packages/sklearn/model_selection/_validation.py\", line 686, in _fit_and_score\n",
      "    estimator.fit(X_train, y_train, **fit_params)\n",
      "  File \"/opt/conda/lib/python3.10/site-packages/sklearn/linear_model/_logistic.py\", line 1162, in fit\n",
      "    solver = _check_solver(self.solver, self.penalty, self.dual)\n",
      "  File \"/opt/conda/lib/python3.10/site-packages/sklearn/linear_model/_logistic.py\", line 54, in _check_solver\n",
      "    raise ValueError(\n",
      "ValueError: Solver lbfgs supports only 'l2' or 'none' penalties, got l1 penalty.\n",
      "\n",
      "--------------------------------------------------------------------------------\n",
      "45 fits failed with the following error:\n",
      "Traceback (most recent call last):\n",
      "  File \"/opt/conda/lib/python3.10/site-packages/sklearn/model_selection/_validation.py\", line 686, in _fit_and_score\n",
      "    estimator.fit(X_train, y_train, **fit_params)\n",
      "  File \"/opt/conda/lib/python3.10/site-packages/sklearn/linear_model/_logistic.py\", line 1162, in fit\n",
      "    solver = _check_solver(self.solver, self.penalty, self.dual)\n",
      "  File \"/opt/conda/lib/python3.10/site-packages/sklearn/linear_model/_logistic.py\", line 54, in _check_solver\n",
      "    raise ValueError(\n",
      "ValueError: Solver lbfgs supports only 'l2' or 'none' penalties, got elasticnet penalty.\n",
      "\n",
      "  warnings.warn(some_fits_failed_message, FitFailedWarning)\n",
      "/opt/conda/lib/python3.10/site-packages/sklearn/model_selection/_search.py:953: UserWarning: One or more of the test scores are non-finite: [    nan 0.80625     nan     nan 0.80625     nan     nan 0.80625     nan\n",
      "     nan 0.80625     nan     nan 0.80625     nan     nan 0.80625     nan\n",
      "     nan 0.80625     nan     nan 0.80625     nan     nan 0.80625     nan]\n",
      "  warnings.warn(\n"
     ]
    },
    {
     "data": {
      "text/html": [
       "<style>#sk-container-id-9 {color: black;background-color: white;}#sk-container-id-9 pre{padding: 0;}#sk-container-id-9 div.sk-toggleable {background-color: white;}#sk-container-id-9 label.sk-toggleable__label {cursor: pointer;display: block;width: 100%;margin-bottom: 0;padding: 0.3em;box-sizing: border-box;text-align: center;}#sk-container-id-9 label.sk-toggleable__label-arrow:before {content: \"▸\";float: left;margin-right: 0.25em;color: #696969;}#sk-container-id-9 label.sk-toggleable__label-arrow:hover:before {color: black;}#sk-container-id-9 div.sk-estimator:hover label.sk-toggleable__label-arrow:before {color: black;}#sk-container-id-9 div.sk-toggleable__content {max-height: 0;max-width: 0;overflow: hidden;text-align: left;background-color: #f0f8ff;}#sk-container-id-9 div.sk-toggleable__content pre {margin: 0.2em;color: black;border-radius: 0.25em;background-color: #f0f8ff;}#sk-container-id-9 input.sk-toggleable__control:checked~div.sk-toggleable__content {max-height: 200px;max-width: 100%;overflow: auto;}#sk-container-id-9 input.sk-toggleable__control:checked~label.sk-toggleable__label-arrow:before {content: \"▾\";}#sk-container-id-9 div.sk-estimator input.sk-toggleable__control:checked~label.sk-toggleable__label {background-color: #d4ebff;}#sk-container-id-9 div.sk-label input.sk-toggleable__control:checked~label.sk-toggleable__label {background-color: #d4ebff;}#sk-container-id-9 input.sk-hidden--visually {border: 0;clip: rect(1px 1px 1px 1px);clip: rect(1px, 1px, 1px, 1px);height: 1px;margin: -1px;overflow: hidden;padding: 0;position: absolute;width: 1px;}#sk-container-id-9 div.sk-estimator {font-family: monospace;background-color: #f0f8ff;border: 1px dotted black;border-radius: 0.25em;box-sizing: border-box;margin-bottom: 0.5em;}#sk-container-id-9 div.sk-estimator:hover {background-color: #d4ebff;}#sk-container-id-9 div.sk-parallel-item::after {content: \"\";width: 100%;border-bottom: 1px solid gray;flex-grow: 1;}#sk-container-id-9 div.sk-label:hover label.sk-toggleable__label {background-color: #d4ebff;}#sk-container-id-9 div.sk-serial::before {content: \"\";position: absolute;border-left: 1px solid gray;box-sizing: border-box;top: 0;bottom: 0;left: 50%;z-index: 0;}#sk-container-id-9 div.sk-serial {display: flex;flex-direction: column;align-items: center;background-color: white;padding-right: 0.2em;padding-left: 0.2em;position: relative;}#sk-container-id-9 div.sk-item {position: relative;z-index: 1;}#sk-container-id-9 div.sk-parallel {display: flex;align-items: stretch;justify-content: center;background-color: white;position: relative;}#sk-container-id-9 div.sk-item::before, #sk-container-id-9 div.sk-parallel-item::before {content: \"\";position: absolute;border-left: 1px solid gray;box-sizing: border-box;top: 0;bottom: 0;left: 50%;z-index: -1;}#sk-container-id-9 div.sk-parallel-item {display: flex;flex-direction: column;z-index: 1;position: relative;background-color: white;}#sk-container-id-9 div.sk-parallel-item:first-child::after {align-self: flex-end;width: 50%;}#sk-container-id-9 div.sk-parallel-item:last-child::after {align-self: flex-start;width: 50%;}#sk-container-id-9 div.sk-parallel-item:only-child::after {width: 0;}#sk-container-id-9 div.sk-dashed-wrapped {border: 1px dashed gray;margin: 0 0.4em 0.5em 0.4em;box-sizing: border-box;padding-bottom: 0.4em;background-color: white;}#sk-container-id-9 div.sk-label label {font-family: monospace;font-weight: bold;display: inline-block;line-height: 1.2em;}#sk-container-id-9 div.sk-label-container {text-align: center;}#sk-container-id-9 div.sk-container {/* jupyter's `normalize.less` sets `[hidden] { display: none; }` but bootstrap.min.css set `[hidden] { display: none !important; }` so we also need the `!important` here to be able to override the default hidden behavior on the sphinx rendered scikit-learn.org. See: https://github.com/scikit-learn/scikit-learn/issues/21755 */display: inline-block !important;position: relative;}#sk-container-id-9 div.sk-text-repr-fallback {display: none;}</style><div id=\"sk-container-id-9\" class=\"sk-top-container\"><div class=\"sk-text-repr-fallback\"><pre>GridSearchCV(cv=5, estimator=LogisticRegression(),\n",
       "             param_grid={&#x27;C&#x27;: [1, 2, 3, 4, 5, 10, 20, 30, 40],\n",
       "                         &#x27;penalty&#x27;: (&#x27;l1&#x27;, &#x27;l2&#x27;, &#x27;elasticnet&#x27;)},\n",
       "             verbose=3)</pre><b>In a Jupyter environment, please rerun this cell to show the HTML representation or trust the notebook. <br />On GitHub, the HTML representation is unable to render, please try loading this page with nbviewer.org.</b></div><div class=\"sk-container\" hidden><div class=\"sk-item sk-dashed-wrapped\"><div class=\"sk-label-container\"><div class=\"sk-label sk-toggleable\"><input class=\"sk-toggleable__control sk-hidden--visually\" id=\"sk-estimator-id-25\" type=\"checkbox\" ><label for=\"sk-estimator-id-25\" class=\"sk-toggleable__label sk-toggleable__label-arrow\">GridSearchCV</label><div class=\"sk-toggleable__content\"><pre>GridSearchCV(cv=5, estimator=LogisticRegression(),\n",
       "             param_grid={&#x27;C&#x27;: [1, 2, 3, 4, 5, 10, 20, 30, 40],\n",
       "                         &#x27;penalty&#x27;: (&#x27;l1&#x27;, &#x27;l2&#x27;, &#x27;elasticnet&#x27;)},\n",
       "             verbose=3)</pre></div></div></div><div class=\"sk-parallel\"><div class=\"sk-parallel-item\"><div class=\"sk-item\"><div class=\"sk-label-container\"><div class=\"sk-label sk-toggleable\"><input class=\"sk-toggleable__control sk-hidden--visually\" id=\"sk-estimator-id-26\" type=\"checkbox\" ><label for=\"sk-estimator-id-26\" class=\"sk-toggleable__label sk-toggleable__label-arrow\">estimator: LogisticRegression</label><div class=\"sk-toggleable__content\"><pre>LogisticRegression()</pre></div></div></div><div class=\"sk-serial\"><div class=\"sk-item\"><div class=\"sk-estimator sk-toggleable\"><input class=\"sk-toggleable__control sk-hidden--visually\" id=\"sk-estimator-id-27\" type=\"checkbox\" ><label for=\"sk-estimator-id-27\" class=\"sk-toggleable__label sk-toggleable__label-arrow\">LogisticRegression</label><div class=\"sk-toggleable__content\"><pre>LogisticRegression()</pre></div></div></div></div></div></div></div></div></div></div>"
      ],
      "text/plain": [
       "GridSearchCV(cv=5, estimator=LogisticRegression(),\n",
       "             param_grid={'C': [1, 2, 3, 4, 5, 10, 20, 30, 40],\n",
       "                         'penalty': ('l1', 'l2', 'elasticnet')},\n",
       "             verbose=3)"
      ]
     },
     "execution_count": 20,
     "metadata": {},
     "output_type": "execute_result"
    }
   ],
   "source": [
    "clf.fit(X_train, y_train)"
   ]
  },
  {
   "cell_type": "code",
   "execution_count": 21,
   "id": "20bf61d3-55ae-4dc6-8677-b15dec0bd225",
   "metadata": {},
   "outputs": [
    {
     "data": {
      "text/plain": [
       "0.80625"
      ]
     },
     "execution_count": 21,
     "metadata": {},
     "output_type": "execute_result"
    }
   ],
   "source": [
    "clf.best_score_"
   ]
  },
  {
   "cell_type": "code",
   "execution_count": 22,
   "id": "66976b64-38bd-46d2-ae66-379945fe37e4",
   "metadata": {},
   "outputs": [
    {
     "data": {
      "text/plain": [
       "{'C': 1, 'penalty': 'l2'}"
      ]
     },
     "execution_count": 22,
     "metadata": {},
     "output_type": "execute_result"
    }
   ],
   "source": [
    "clf.best_params_"
   ]
  },
  {
   "cell_type": "code",
   "execution_count": 23,
   "id": "b73ab31e-b1eb-46c8-8bd2-d05ebccc1606",
   "metadata": {},
   "outputs": [
    {
     "data": {
      "text/html": [
       "<style>#sk-container-id-10 {color: black;background-color: white;}#sk-container-id-10 pre{padding: 0;}#sk-container-id-10 div.sk-toggleable {background-color: white;}#sk-container-id-10 label.sk-toggleable__label {cursor: pointer;display: block;width: 100%;margin-bottom: 0;padding: 0.3em;box-sizing: border-box;text-align: center;}#sk-container-id-10 label.sk-toggleable__label-arrow:before {content: \"▸\";float: left;margin-right: 0.25em;color: #696969;}#sk-container-id-10 label.sk-toggleable__label-arrow:hover:before {color: black;}#sk-container-id-10 div.sk-estimator:hover label.sk-toggleable__label-arrow:before {color: black;}#sk-container-id-10 div.sk-toggleable__content {max-height: 0;max-width: 0;overflow: hidden;text-align: left;background-color: #f0f8ff;}#sk-container-id-10 div.sk-toggleable__content pre {margin: 0.2em;color: black;border-radius: 0.25em;background-color: #f0f8ff;}#sk-container-id-10 input.sk-toggleable__control:checked~div.sk-toggleable__content {max-height: 200px;max-width: 100%;overflow: auto;}#sk-container-id-10 input.sk-toggleable__control:checked~label.sk-toggleable__label-arrow:before {content: \"▾\";}#sk-container-id-10 div.sk-estimator input.sk-toggleable__control:checked~label.sk-toggleable__label {background-color: #d4ebff;}#sk-container-id-10 div.sk-label input.sk-toggleable__control:checked~label.sk-toggleable__label {background-color: #d4ebff;}#sk-container-id-10 input.sk-hidden--visually {border: 0;clip: rect(1px 1px 1px 1px);clip: rect(1px, 1px, 1px, 1px);height: 1px;margin: -1px;overflow: hidden;padding: 0;position: absolute;width: 1px;}#sk-container-id-10 div.sk-estimator {font-family: monospace;background-color: #f0f8ff;border: 1px dotted black;border-radius: 0.25em;box-sizing: border-box;margin-bottom: 0.5em;}#sk-container-id-10 div.sk-estimator:hover {background-color: #d4ebff;}#sk-container-id-10 div.sk-parallel-item::after {content: \"\";width: 100%;border-bottom: 1px solid gray;flex-grow: 1;}#sk-container-id-10 div.sk-label:hover label.sk-toggleable__label {background-color: #d4ebff;}#sk-container-id-10 div.sk-serial::before {content: \"\";position: absolute;border-left: 1px solid gray;box-sizing: border-box;top: 0;bottom: 0;left: 50%;z-index: 0;}#sk-container-id-10 div.sk-serial {display: flex;flex-direction: column;align-items: center;background-color: white;padding-right: 0.2em;padding-left: 0.2em;position: relative;}#sk-container-id-10 div.sk-item {position: relative;z-index: 1;}#sk-container-id-10 div.sk-parallel {display: flex;align-items: stretch;justify-content: center;background-color: white;position: relative;}#sk-container-id-10 div.sk-item::before, #sk-container-id-10 div.sk-parallel-item::before {content: \"\";position: absolute;border-left: 1px solid gray;box-sizing: border-box;top: 0;bottom: 0;left: 50%;z-index: -1;}#sk-container-id-10 div.sk-parallel-item {display: flex;flex-direction: column;z-index: 1;position: relative;background-color: white;}#sk-container-id-10 div.sk-parallel-item:first-child::after {align-self: flex-end;width: 50%;}#sk-container-id-10 div.sk-parallel-item:last-child::after {align-self: flex-start;width: 50%;}#sk-container-id-10 div.sk-parallel-item:only-child::after {width: 0;}#sk-container-id-10 div.sk-dashed-wrapped {border: 1px dashed gray;margin: 0 0.4em 0.5em 0.4em;box-sizing: border-box;padding-bottom: 0.4em;background-color: white;}#sk-container-id-10 div.sk-label label {font-family: monospace;font-weight: bold;display: inline-block;line-height: 1.2em;}#sk-container-id-10 div.sk-label-container {text-align: center;}#sk-container-id-10 div.sk-container {/* jupyter's `normalize.less` sets `[hidden] { display: none; }` but bootstrap.min.css set `[hidden] { display: none !important; }` so we also need the `!important` here to be able to override the default hidden behavior on the sphinx rendered scikit-learn.org. See: https://github.com/scikit-learn/scikit-learn/issues/21755 */display: inline-block !important;position: relative;}#sk-container-id-10 div.sk-text-repr-fallback {display: none;}</style><div id=\"sk-container-id-10\" class=\"sk-top-container\"><div class=\"sk-text-repr-fallback\"><pre>LogisticRegression(C=1)</pre><b>In a Jupyter environment, please rerun this cell to show the HTML representation or trust the notebook. <br />On GitHub, the HTML representation is unable to render, please try loading this page with nbviewer.org.</b></div><div class=\"sk-container\" hidden><div class=\"sk-item\"><div class=\"sk-estimator sk-toggleable\"><input class=\"sk-toggleable__control sk-hidden--visually\" id=\"sk-estimator-id-28\" type=\"checkbox\" checked><label for=\"sk-estimator-id-28\" class=\"sk-toggleable__label sk-toggleable__label-arrow\">LogisticRegression</label><div class=\"sk-toggleable__content\"><pre>LogisticRegression(C=1)</pre></div></div></div></div></div>"
      ],
      "text/plain": [
       "LogisticRegression(C=1)"
      ]
     },
     "execution_count": 23,
     "metadata": {},
     "output_type": "execute_result"
    }
   ],
   "source": [
    "LogisticRegression(C=1, penalty = 'l2')"
   ]
  },
  {
   "cell_type": "code",
   "execution_count": 24,
   "id": "b43278bb-fa71-4161-987a-a5975ec42d5b",
   "metadata": {},
   "outputs": [
    {
     "name": "stdout",
     "output_type": "stream",
     "text": [
      "Fitting 5 folds for each of 10 candidates, totalling 50 fits\n",
      "[CV 1/5] END ............C=30, penalty=elasticnet;, score=nan total time=   0.0s\n",
      "[CV 2/5] END ............C=30, penalty=elasticnet;, score=nan total time=   0.0s\n",
      "[CV 3/5] END ............C=30, penalty=elasticnet;, score=nan total time=   0.0s\n",
      "[CV 4/5] END ............C=30, penalty=elasticnet;, score=nan total time=   0.0s\n",
      "[CV 5/5] END ............C=30, penalty=elasticnet;, score=nan total time=   0.0s\n",
      "[CV 1/5] END .............C=1, penalty=elasticnet;, score=nan total time=   0.0s\n",
      "[CV 2/5] END .............C=1, penalty=elasticnet;, score=nan total time=   0.0s\n",
      "[CV 3/5] END .............C=1, penalty=elasticnet;, score=nan total time=   0.0s\n",
      "[CV 4/5] END .............C=1, penalty=elasticnet;, score=nan total time=   0.0s\n",
      "[CV 5/5] END .............C=1, penalty=elasticnet;, score=nan total time=   0.0s\n",
      "[CV 1/5] END ....................C=30, penalty=l1;, score=nan total time=   0.0s\n",
      "[CV 2/5] END ....................C=30, penalty=l1;, score=nan total time=   0.0s\n",
      "[CV 3/5] END ....................C=30, penalty=l1;, score=nan total time=   0.0s\n",
      "[CV 4/5] END ....................C=30, penalty=l1;, score=nan total time=   0.0s\n",
      "[CV 5/5] END ....................C=30, penalty=l1;, score=nan total time=   0.0s\n",
      "[CV 1/5] END ..................C=40, penalty=l2;, score=0.856 total time=   0.0s\n",
      "[CV 2/5] END ..................C=40, penalty=l2;, score=0.762 total time=   0.0s\n",
      "[CV 3/5] END ..................C=40, penalty=l2;, score=0.806 total time=   0.0s\n",
      "[CV 4/5] END ..................C=40, penalty=l2;, score=0.806 total time=   0.0s\n",
      "[CV 5/5] END ..................C=40, penalty=l2;, score=0.800 total time=   0.0s\n",
      "[CV 1/5] END ............C=20, penalty=elasticnet;, score=nan total time=   0.0s\n",
      "[CV 2/5] END ............C=20, penalty=elasticnet;, score=nan total time=   0.0s\n",
      "[CV 3/5] END ............C=20, penalty=elasticnet;, score=nan total time=   0.0s\n",
      "[CV 4/5] END ............C=20, penalty=elasticnet;, score=nan total time=   0.0s\n",
      "[CV 5/5] END ............C=20, penalty=elasticnet;, score=nan total time=   0.0s\n",
      "[CV 1/5] END .....................C=3, penalty=l1;, score=nan total time=   0.0s\n",
      "[CV 2/5] END .....................C=3, penalty=l1;, score=nan total time=   0.0s\n",
      "[CV 3/5] END .....................C=3, penalty=l1;, score=nan total time=   0.0s\n",
      "[CV 4/5] END .....................C=3, penalty=l1;, score=nan total time=   0.0s\n",
      "[CV 5/5] END .....................C=3, penalty=l1;, score=nan total time=   0.0s\n",
      "[CV 1/5] END .....................C=4, penalty=l1;, score=nan total time=   0.0s\n",
      "[CV 2/5] END .....................C=4, penalty=l1;, score=nan total time=   0.0s\n",
      "[CV 3/5] END .....................C=4, penalty=l1;, score=nan total time=   0.0s\n",
      "[CV 4/5] END .....................C=4, penalty=l1;, score=nan total time=   0.0s\n",
      "[CV 5/5] END .....................C=4, penalty=l1;, score=nan total time=   0.0s\n",
      "[CV 1/5] END .............C=2, penalty=elasticnet;, score=nan total time=   0.0s\n",
      "[CV 2/5] END .............C=2, penalty=elasticnet;, score=nan total time=   0.0s\n",
      "[CV 3/5] END .............C=2, penalty=elasticnet;, score=nan total time=   0.0s\n",
      "[CV 4/5] END .............C=2, penalty=elasticnet;, score=nan total time=   0.0s\n",
      "[CV 5/5] END .............C=2, penalty=elasticnet;, score=nan total time=   0.0s\n",
      "[CV 1/5] END .............C=3, penalty=elasticnet;, score=nan total time=   0.0s\n",
      "[CV 2/5] END .............C=3, penalty=elasticnet;, score=nan total time=   0.0s\n",
      "[CV 3/5] END .............C=3, penalty=elasticnet;, score=nan total time=   0.0s\n",
      "[CV 4/5] END .............C=3, penalty=elasticnet;, score=nan total time=   0.0s\n",
      "[CV 5/5] END .............C=3, penalty=elasticnet;, score=nan total time=   0.0s\n",
      "[CV 1/5] END ..................C=30, penalty=l2;, score=0.856 total time=   0.0s\n",
      "[CV 2/5] END ..................C=30, penalty=l2;, score=0.762 total time=   0.0s\n",
      "[CV 3/5] END ..................C=30, penalty=l2;, score=0.806 total time=   0.0s\n",
      "[CV 4/5] END ..................C=30, penalty=l2;, score=0.806 total time=   0.0s\n",
      "[CV 5/5] END ..................C=30, penalty=l2;, score=0.800 total time=   0.0s\n"
     ]
    },
    {
     "name": "stderr",
     "output_type": "stream",
     "text": [
      "/opt/conda/lib/python3.10/site-packages/sklearn/model_selection/_validation.py:378: FitFailedWarning: \n",
      "40 fits failed out of a total of 50.\n",
      "The score on these train-test partitions for these parameters will be set to nan.\n",
      "If these failures are not expected, you can try to debug them by setting error_score='raise'.\n",
      "\n",
      "Below are more details about the failures:\n",
      "--------------------------------------------------------------------------------\n",
      "25 fits failed with the following error:\n",
      "Traceback (most recent call last):\n",
      "  File \"/opt/conda/lib/python3.10/site-packages/sklearn/model_selection/_validation.py\", line 686, in _fit_and_score\n",
      "    estimator.fit(X_train, y_train, **fit_params)\n",
      "  File \"/opt/conda/lib/python3.10/site-packages/sklearn/linear_model/_logistic.py\", line 1162, in fit\n",
      "    solver = _check_solver(self.solver, self.penalty, self.dual)\n",
      "  File \"/opt/conda/lib/python3.10/site-packages/sklearn/linear_model/_logistic.py\", line 54, in _check_solver\n",
      "    raise ValueError(\n",
      "ValueError: Solver lbfgs supports only 'l2' or 'none' penalties, got elasticnet penalty.\n",
      "\n",
      "--------------------------------------------------------------------------------\n",
      "15 fits failed with the following error:\n",
      "Traceback (most recent call last):\n",
      "  File \"/opt/conda/lib/python3.10/site-packages/sklearn/model_selection/_validation.py\", line 686, in _fit_and_score\n",
      "    estimator.fit(X_train, y_train, **fit_params)\n",
      "  File \"/opt/conda/lib/python3.10/site-packages/sklearn/linear_model/_logistic.py\", line 1162, in fit\n",
      "    solver = _check_solver(self.solver, self.penalty, self.dual)\n",
      "  File \"/opt/conda/lib/python3.10/site-packages/sklearn/linear_model/_logistic.py\", line 54, in _check_solver\n",
      "    raise ValueError(\n",
      "ValueError: Solver lbfgs supports only 'l2' or 'none' penalties, got l1 penalty.\n",
      "\n",
      "  warnings.warn(some_fits_failed_message, FitFailedWarning)\n",
      "/opt/conda/lib/python3.10/site-packages/sklearn/model_selection/_search.py:953: UserWarning: One or more of the test scores are non-finite: [    nan     nan     nan 0.80625     nan     nan     nan     nan     nan\n",
      " 0.80625]\n",
      "  warnings.warn(\n"
     ]
    },
    {
     "data": {
      "text/html": [
       "<style>#sk-container-id-11 {color: black;background-color: white;}#sk-container-id-11 pre{padding: 0;}#sk-container-id-11 div.sk-toggleable {background-color: white;}#sk-container-id-11 label.sk-toggleable__label {cursor: pointer;display: block;width: 100%;margin-bottom: 0;padding: 0.3em;box-sizing: border-box;text-align: center;}#sk-container-id-11 label.sk-toggleable__label-arrow:before {content: \"▸\";float: left;margin-right: 0.25em;color: #696969;}#sk-container-id-11 label.sk-toggleable__label-arrow:hover:before {color: black;}#sk-container-id-11 div.sk-estimator:hover label.sk-toggleable__label-arrow:before {color: black;}#sk-container-id-11 div.sk-toggleable__content {max-height: 0;max-width: 0;overflow: hidden;text-align: left;background-color: #f0f8ff;}#sk-container-id-11 div.sk-toggleable__content pre {margin: 0.2em;color: black;border-radius: 0.25em;background-color: #f0f8ff;}#sk-container-id-11 input.sk-toggleable__control:checked~div.sk-toggleable__content {max-height: 200px;max-width: 100%;overflow: auto;}#sk-container-id-11 input.sk-toggleable__control:checked~label.sk-toggleable__label-arrow:before {content: \"▾\";}#sk-container-id-11 div.sk-estimator input.sk-toggleable__control:checked~label.sk-toggleable__label {background-color: #d4ebff;}#sk-container-id-11 div.sk-label input.sk-toggleable__control:checked~label.sk-toggleable__label {background-color: #d4ebff;}#sk-container-id-11 input.sk-hidden--visually {border: 0;clip: rect(1px 1px 1px 1px);clip: rect(1px, 1px, 1px, 1px);height: 1px;margin: -1px;overflow: hidden;padding: 0;position: absolute;width: 1px;}#sk-container-id-11 div.sk-estimator {font-family: monospace;background-color: #f0f8ff;border: 1px dotted black;border-radius: 0.25em;box-sizing: border-box;margin-bottom: 0.5em;}#sk-container-id-11 div.sk-estimator:hover {background-color: #d4ebff;}#sk-container-id-11 div.sk-parallel-item::after {content: \"\";width: 100%;border-bottom: 1px solid gray;flex-grow: 1;}#sk-container-id-11 div.sk-label:hover label.sk-toggleable__label {background-color: #d4ebff;}#sk-container-id-11 div.sk-serial::before {content: \"\";position: absolute;border-left: 1px solid gray;box-sizing: border-box;top: 0;bottom: 0;left: 50%;z-index: 0;}#sk-container-id-11 div.sk-serial {display: flex;flex-direction: column;align-items: center;background-color: white;padding-right: 0.2em;padding-left: 0.2em;position: relative;}#sk-container-id-11 div.sk-item {position: relative;z-index: 1;}#sk-container-id-11 div.sk-parallel {display: flex;align-items: stretch;justify-content: center;background-color: white;position: relative;}#sk-container-id-11 div.sk-item::before, #sk-container-id-11 div.sk-parallel-item::before {content: \"\";position: absolute;border-left: 1px solid gray;box-sizing: border-box;top: 0;bottom: 0;left: 50%;z-index: -1;}#sk-container-id-11 div.sk-parallel-item {display: flex;flex-direction: column;z-index: 1;position: relative;background-color: white;}#sk-container-id-11 div.sk-parallel-item:first-child::after {align-self: flex-end;width: 50%;}#sk-container-id-11 div.sk-parallel-item:last-child::after {align-self: flex-start;width: 50%;}#sk-container-id-11 div.sk-parallel-item:only-child::after {width: 0;}#sk-container-id-11 div.sk-dashed-wrapped {border: 1px dashed gray;margin: 0 0.4em 0.5em 0.4em;box-sizing: border-box;padding-bottom: 0.4em;background-color: white;}#sk-container-id-11 div.sk-label label {font-family: monospace;font-weight: bold;display: inline-block;line-height: 1.2em;}#sk-container-id-11 div.sk-label-container {text-align: center;}#sk-container-id-11 div.sk-container {/* jupyter's `normalize.less` sets `[hidden] { display: none; }` but bootstrap.min.css set `[hidden] { display: none !important; }` so we also need the `!important` here to be able to override the default hidden behavior on the sphinx rendered scikit-learn.org. See: https://github.com/scikit-learn/scikit-learn/issues/21755 */display: inline-block !important;position: relative;}#sk-container-id-11 div.sk-text-repr-fallback {display: none;}</style><div id=\"sk-container-id-11\" class=\"sk-top-container\"><div class=\"sk-text-repr-fallback\"><pre>RandomizedSearchCV(cv=5, estimator=LogisticRegression(),\n",
       "                   param_distributions={&#x27;C&#x27;: [1, 2, 3, 4, 5, 10, 20, 30, 40],\n",
       "                                        &#x27;penalty&#x27;: (&#x27;l1&#x27;, &#x27;l2&#x27;, &#x27;elasticnet&#x27;)},\n",
       "                   verbose=4)</pre><b>In a Jupyter environment, please rerun this cell to show the HTML representation or trust the notebook. <br />On GitHub, the HTML representation is unable to render, please try loading this page with nbviewer.org.</b></div><div class=\"sk-container\" hidden><div class=\"sk-item sk-dashed-wrapped\"><div class=\"sk-label-container\"><div class=\"sk-label sk-toggleable\"><input class=\"sk-toggleable__control sk-hidden--visually\" id=\"sk-estimator-id-29\" type=\"checkbox\" ><label for=\"sk-estimator-id-29\" class=\"sk-toggleable__label sk-toggleable__label-arrow\">RandomizedSearchCV</label><div class=\"sk-toggleable__content\"><pre>RandomizedSearchCV(cv=5, estimator=LogisticRegression(),\n",
       "                   param_distributions={&#x27;C&#x27;: [1, 2, 3, 4, 5, 10, 20, 30, 40],\n",
       "                                        &#x27;penalty&#x27;: (&#x27;l1&#x27;, &#x27;l2&#x27;, &#x27;elasticnet&#x27;)},\n",
       "                   verbose=4)</pre></div></div></div><div class=\"sk-parallel\"><div class=\"sk-parallel-item\"><div class=\"sk-item\"><div class=\"sk-label-container\"><div class=\"sk-label sk-toggleable\"><input class=\"sk-toggleable__control sk-hidden--visually\" id=\"sk-estimator-id-30\" type=\"checkbox\" ><label for=\"sk-estimator-id-30\" class=\"sk-toggleable__label sk-toggleable__label-arrow\">estimator: LogisticRegression</label><div class=\"sk-toggleable__content\"><pre>LogisticRegression()</pre></div></div></div><div class=\"sk-serial\"><div class=\"sk-item\"><div class=\"sk-estimator sk-toggleable\"><input class=\"sk-toggleable__control sk-hidden--visually\" id=\"sk-estimator-id-31\" type=\"checkbox\" ><label for=\"sk-estimator-id-31\" class=\"sk-toggleable__label sk-toggleable__label-arrow\">LogisticRegression</label><div class=\"sk-toggleable__content\"><pre>LogisticRegression()</pre></div></div></div></div></div></div></div></div></div></div>"
      ],
      "text/plain": [
       "RandomizedSearchCV(cv=5, estimator=LogisticRegression(),\n",
       "                   param_distributions={'C': [1, 2, 3, 4, 5, 10, 20, 30, 40],\n",
       "                                        'penalty': ('l1', 'l2', 'elasticnet')},\n",
       "                   verbose=4)"
      ]
     },
     "execution_count": 24,
     "metadata": {},
     "output_type": "execute_result"
    }
   ],
   "source": [
    "#randomized search cv\n",
    "from sklearn.model_selection import RandomizedSearchCV\n",
    "clf = RandomizedSearchCV(classifier, param_distributions=params, cv = 5, n_iter=10, verbose = 4)\n",
    "clf.fit(X_train, y_train)"
   ]
  },
  {
   "cell_type": "code",
   "execution_count": 25,
   "id": "0e28fd64-58a7-478f-a161-dfc6a20a6e4f",
   "metadata": {},
   "outputs": [
    {
     "data": {
      "text/plain": [
       "0.80625"
      ]
     },
     "execution_count": 25,
     "metadata": {},
     "output_type": "execute_result"
    }
   ],
   "source": [
    "clf.best_score_"
   ]
  },
  {
   "cell_type": "code",
   "execution_count": 26,
   "id": "26e77662-80c6-4074-8c43-b918b6c7a987",
   "metadata": {},
   "outputs": [
    {
     "data": {
      "text/plain": [
       "{'penalty': 'l2', 'C': 40}"
      ]
     },
     "execution_count": 26,
     "metadata": {},
     "output_type": "execute_result"
    }
   ],
   "source": [
    "clf.best_params_"
   ]
  },
  {
   "cell_type": "code",
   "execution_count": null,
   "id": "848bf6b7-d395-48df-91c1-0133c0d72792",
   "metadata": {},
   "outputs": [],
   "source": []
  }
 ],
 "metadata": {
  "kernelspec": {
   "display_name": "Python 3 (ipykernel)",
   "language": "python",
   "name": "python3"
  },
  "language_info": {
   "codemirror_mode": {
    "name": "ipython",
    "version": 3
   },
   "file_extension": ".py",
   "mimetype": "text/x-python",
   "name": "python",
   "nbconvert_exporter": "python",
   "pygments_lexer": "ipython3",
   "version": "3.10.8"
  }
 },
 "nbformat": 4,
 "nbformat_minor": 5
}
