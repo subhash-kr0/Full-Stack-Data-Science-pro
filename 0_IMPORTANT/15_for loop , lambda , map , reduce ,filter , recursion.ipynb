{
 "cells": [
  {
   "cell_type": "code",
   "execution_count": null,
   "id": "ad1e17c0-5dd2-4197-9f6d-4042d82dbb73",
   "metadata": {},
   "outputs": [],
   "source": [
    "type()\n",
    "print()\n",
    "len()\n",
    "range()"
   ]
  },
  {
   "cell_type": "code",
   "execution_count": 1,
   "id": "8fa74fe8-680e-4075-8e3d-1231a5b376c6",
   "metadata": {},
   "outputs": [],
   "source": [
    "def test():\n",
    "    print(\"this is my first fun\")\n",
    "    "
   ]
  },
  {
   "cell_type": "code",
   "execution_count": 2,
   "id": "b1583039-42e3-4802-8e42-1e0354ac3e5d",
   "metadata": {},
   "outputs": [
    {
     "name": "stdout",
     "output_type": "stream",
     "text": [
      "this is my first fun\n"
     ]
    }
   ],
   "source": [
    "test()"
   ]
  },
  {
   "cell_type": "code",
   "execution_count": 3,
   "id": "93be5e9d-cf46-4c3b-915c-fe59fb1ca619",
   "metadata": {},
   "outputs": [
    {
     "name": "stdout",
     "output_type": "stream",
     "text": [
      "this is my first fun\n"
     ]
    }
   ],
   "source": [
    "test()"
   ]
  },
  {
   "cell_type": "code",
   "execution_count": 4,
   "id": "dcf03a93-33c5-46c7-82df-52a3639a9f1e",
   "metadata": {},
   "outputs": [],
   "source": [
    "def test1():\n",
    "    print(\"test\")"
   ]
  },
  {
   "cell_type": "code",
   "execution_count": 6,
   "id": "91d2fdb7-98a8-4eb7-8a4f-bdd50e67137d",
   "metadata": {},
   "outputs": [
    {
     "name": "stdout",
     "output_type": "stream",
     "text": [
      "test\n"
     ]
    },
    {
     "ename": "TypeError",
     "evalue": "unsupported operand type(s) for +: 'NoneType' and 'str'",
     "output_type": "error",
     "traceback": [
      "\u001b[0;31m---------------------------------------------------------------------------\u001b[0m",
      "\u001b[0;31mTypeError\u001b[0m                                 Traceback (most recent call last)",
      "Cell \u001b[0;32mIn[6], line 1\u001b[0m\n\u001b[0;32m----> 1\u001b[0m \u001b[43mtest1\u001b[49m\u001b[43m(\u001b[49m\u001b[43m)\u001b[49m\u001b[43m \u001b[49m\u001b[38;5;241;43m+\u001b[39;49m\u001b[43m \u001b[49m\u001b[38;5;124;43m\"\u001b[39;49m\u001b[38;5;124;43msudh\u001b[39;49m\u001b[38;5;124;43m\"\u001b[39;49m\n",
      "\u001b[0;31mTypeError\u001b[0m: unsupported operand type(s) for +: 'NoneType' and 'str'"
     ]
    }
   ],
   "source": [
    "test1() + \"sudh\""
   ]
  },
  {
   "cell_type": "code",
   "execution_count": 7,
   "id": "671b1b50-cbfb-450e-8620-75541fd091c8",
   "metadata": {},
   "outputs": [
    {
     "name": "stdout",
     "output_type": "stream",
     "text": [
      "test\n"
     ]
    },
    {
     "data": {
      "text/plain": [
       "NoneType"
      ]
     },
     "execution_count": 7,
     "metadata": {},
     "output_type": "execute_result"
    }
   ],
   "source": [
    "type(test1())"
   ]
  },
  {
   "cell_type": "code",
   "execution_count": 8,
   "id": "d3775f17-0448-434e-9a92-7c14301e48df",
   "metadata": {},
   "outputs": [],
   "source": [
    "def test2():\n",
    "    print(1+2)"
   ]
  },
  {
   "cell_type": "code",
   "execution_count": 10,
   "id": "ef654203-c67a-439d-b750-7289c58cbfe4",
   "metadata": {},
   "outputs": [
    {
     "name": "stdout",
     "output_type": "stream",
     "text": [
      "3\n"
     ]
    },
    {
     "ename": "TypeError",
     "evalue": "unsupported operand type(s) for +: 'NoneType' and 'int'",
     "output_type": "error",
     "traceback": [
      "\u001b[0;31m---------------------------------------------------------------------------\u001b[0m",
      "\u001b[0;31mTypeError\u001b[0m                                 Traceback (most recent call last)",
      "Cell \u001b[0;32mIn[10], line 1\u001b[0m\n\u001b[0;32m----> 1\u001b[0m \u001b[43mtest2\u001b[49m\u001b[43m(\u001b[49m\u001b[43m)\u001b[49m\u001b[43m \u001b[49m\u001b[38;5;241;43m+\u001b[39;49m\u001b[43m \u001b[49m\u001b[38;5;241;43m10\u001b[39;49m\n",
      "\u001b[0;31mTypeError\u001b[0m: unsupported operand type(s) for +: 'NoneType' and 'int'"
     ]
    }
   ],
   "source": [
    "test2() + 10"
   ]
  },
  {
   "cell_type": "code",
   "execution_count": 11,
   "id": "a781ed4c-8275-4f8e-b94b-94efb7a89442",
   "metadata": {},
   "outputs": [],
   "source": [
    "def test3():\n",
    "    return 1+2"
   ]
  },
  {
   "cell_type": "code",
   "execution_count": 13,
   "id": "98e38111-1ca9-476e-8c31-227bc4bac9ad",
   "metadata": {},
   "outputs": [
    {
     "data": {
      "text/plain": [
       "13"
      ]
     },
     "execution_count": 13,
     "metadata": {},
     "output_type": "execute_result"
    }
   ],
   "source": [
    "test3() + 10"
   ]
  },
  {
   "cell_type": "code",
   "execution_count": 14,
   "id": "4af16229-f87c-445e-a6af-e682fa4e4446",
   "metadata": {},
   "outputs": [
    {
     "data": {
      "text/plain": [
       "int"
      ]
     },
     "execution_count": 14,
     "metadata": {},
     "output_type": "execute_result"
    }
   ],
   "source": [
    "type(test3())"
   ]
  },
  {
   "cell_type": "code",
   "execution_count": 16,
   "id": "43286ec6-608c-4f81-8429-a884f28d8dce",
   "metadata": {},
   "outputs": [],
   "source": [
    "def test4():\n",
    "    return 2,\"sudh\",True,[1,2,3,4,5]"
   ]
  },
  {
   "cell_type": "code",
   "execution_count": 19,
   "id": "a3fe203d-0936-45d8-925b-ddbcd0c070c3",
   "metadata": {},
   "outputs": [
    {
     "data": {
      "text/plain": [
       "(2, 'sudh', True, [1, 2, 3, 4, 5])"
      ]
     },
     "execution_count": 19,
     "metadata": {},
     "output_type": "execute_result"
    }
   ],
   "source": [
    "test4()"
   ]
  },
  {
   "cell_type": "code",
   "execution_count": 20,
   "id": "1af71d9b-bea9-4186-9ec9-164f92a47b6a",
   "metadata": {},
   "outputs": [],
   "source": [
    "a,b,c,d = 1,\"sudh\", 34,45"
   ]
  },
  {
   "cell_type": "code",
   "execution_count": 21,
   "id": "4eaa2355-f70d-4f86-ae3f-070707cbdf2d",
   "metadata": {},
   "outputs": [],
   "source": [
    "a = 1\n",
    "b = \"sudh\"\n",
    "c = 34\n",
    "d = 45"
   ]
  },
  {
   "cell_type": "code",
   "execution_count": 22,
   "id": "9b48d62a-8897-4b6f-ba42-cb550ad7d4e1",
   "metadata": {},
   "outputs": [
    {
     "data": {
      "text/plain": [
       "tuple"
      ]
     },
     "execution_count": 22,
     "metadata": {},
     "output_type": "execute_result"
    }
   ],
   "source": [
    "type(test4())"
   ]
  },
  {
   "cell_type": "code",
   "execution_count": 23,
   "id": "3de43cf3-f041-4a0d-985a-40c2e311d856",
   "metadata": {},
   "outputs": [],
   "source": [
    "m,n,o,p = test4()"
   ]
  },
  {
   "cell_type": "code",
   "execution_count": 24,
   "id": "96247b8d-c7c6-4fd0-8750-4c32a45656d7",
   "metadata": {},
   "outputs": [
    {
     "data": {
      "text/plain": [
       "2"
      ]
     },
     "execution_count": 24,
     "metadata": {},
     "output_type": "execute_result"
    }
   ],
   "source": [
    "m"
   ]
  },
  {
   "cell_type": "code",
   "execution_count": 25,
   "id": "fe8f3404-3d57-4ecd-b30e-8f2e4e31b278",
   "metadata": {},
   "outputs": [
    {
     "data": {
      "text/plain": [
       "'sudh'"
      ]
     },
     "execution_count": 25,
     "metadata": {},
     "output_type": "execute_result"
    }
   ],
   "source": [
    "n"
   ]
  },
  {
   "cell_type": "code",
   "execution_count": 26,
   "id": "99fca300-314b-495e-b0fe-4b21cf3133ff",
   "metadata": {},
   "outputs": [
    {
     "data": {
      "text/plain": [
       "True"
      ]
     },
     "execution_count": 26,
     "metadata": {},
     "output_type": "execute_result"
    }
   ],
   "source": [
    "o"
   ]
  },
  {
   "cell_type": "code",
   "execution_count": 27,
   "id": "657db661-040c-4e8d-b0de-d07cf37d1c2d",
   "metadata": {},
   "outputs": [
    {
     "data": {
      "text/plain": [
       "[1, 2, 3, 4, 5]"
      ]
     },
     "execution_count": 27,
     "metadata": {},
     "output_type": "execute_result"
    }
   ],
   "source": [
    "p"
   ]
  },
  {
   "cell_type": "code",
   "execution_count": 29,
   "id": "0502a537-6f39-49e9-950d-008efcbcebc0",
   "metadata": {},
   "outputs": [],
   "source": [
    "def test5(x):\n",
    "    return x \n",
    "    "
   ]
  },
  {
   "cell_type": "code",
   "execution_count": 30,
   "id": "04a174d8-efe2-4c5f-8630-a1bf998979ed",
   "metadata": {},
   "outputs": [
    {
     "data": {
      "text/plain": [
       "5"
      ]
     },
     "execution_count": 30,
     "metadata": {},
     "output_type": "execute_result"
    }
   ],
   "source": [
    "test5(5)"
   ]
  },
  {
   "cell_type": "code",
   "execution_count": 31,
   "id": "0e041eb8-7031-49d3-b315-baa3d09672a7",
   "metadata": {},
   "outputs": [
    {
     "data": {
      "text/plain": [
       "'sudh'"
      ]
     },
     "execution_count": 31,
     "metadata": {},
     "output_type": "execute_result"
    }
   ],
   "source": [
    "test5(\"sudh\")"
   ]
  },
  {
   "cell_type": "code",
   "execution_count": 32,
   "id": "14ee1fce-2d00-42ce-a235-73c22aab483e",
   "metadata": {},
   "outputs": [
    {
     "data": {
      "text/plain": [
       "[2, 3, 4, 5]"
      ]
     },
     "execution_count": 32,
     "metadata": {},
     "output_type": "execute_result"
    }
   ],
   "source": [
    "test5([2,3,4,5])"
   ]
  },
  {
   "cell_type": "code",
   "execution_count": 33,
   "id": "d8a4fa37-4df2-4d18-90b0-287da12142ce",
   "metadata": {},
   "outputs": [
    {
     "ename": "TypeError",
     "evalue": "test5() takes 1 positional argument but 2 were given",
     "output_type": "error",
     "traceback": [
      "\u001b[0;31m---------------------------------------------------------------------------\u001b[0m",
      "\u001b[0;31mTypeError\u001b[0m                                 Traceback (most recent call last)",
      "Cell \u001b[0;32mIn[33], line 1\u001b[0m\n\u001b[0;32m----> 1\u001b[0m \u001b[43mtest5\u001b[49m\u001b[43m(\u001b[49m\u001b[38;5;241;43m4\u001b[39;49m\u001b[43m,\u001b[49m\u001b[38;5;241;43m5\u001b[39;49m\u001b[43m)\u001b[49m\n",
      "\u001b[0;31mTypeError\u001b[0m: test5() takes 1 positional argument but 2 were given"
     ]
    }
   ],
   "source": [
    "test5(4,5)"
   ]
  },
  {
   "cell_type": "code",
   "execution_count": 34,
   "id": "5f782690-c621-4404-8edb-de20bc3dde44",
   "metadata": {},
   "outputs": [
    {
     "ename": "TypeError",
     "evalue": "test5() missing 1 required positional argument: 'x'",
     "output_type": "error",
     "traceback": [
      "\u001b[0;31m---------------------------------------------------------------------------\u001b[0m",
      "\u001b[0;31mTypeError\u001b[0m                                 Traceback (most recent call last)",
      "Cell \u001b[0;32mIn[34], line 1\u001b[0m\n\u001b[0;32m----> 1\u001b[0m \u001b[43mtest5\u001b[49m\u001b[43m(\u001b[49m\u001b[43m)\u001b[49m\n",
      "\u001b[0;31mTypeError\u001b[0m: test5() missing 1 required positional argument: 'x'"
     ]
    }
   ],
   "source": [
    "test5()"
   ]
  },
  {
   "cell_type": "code",
   "execution_count": 35,
   "id": "b9c2d423-3e1c-46a7-81d8-47cbcc5d869f",
   "metadata": {},
   "outputs": [],
   "source": [
    "def test6(x,y):\n",
    "    return x,y"
   ]
  },
  {
   "cell_type": "code",
   "execution_count": 36,
   "id": "02390726-061f-46d8-9009-050bc3b80040",
   "metadata": {},
   "outputs": [
    {
     "data": {
      "text/plain": [
       "('sudh', [1, 2, 3, 4, 5])"
      ]
     },
     "execution_count": 36,
     "metadata": {},
     "output_type": "execute_result"
    }
   ],
   "source": [
    "test6(\"sudh\" , [1,2,3,4,5])"
   ]
  },
  {
   "cell_type": "code",
   "execution_count": 37,
   "id": "f348765b-5cfe-47cc-92a5-08dc45eeb29f",
   "metadata": {},
   "outputs": [],
   "source": [
    "def test7(a:int , b:int):\n",
    "    return a,b"
   ]
  },
  {
   "cell_type": "code",
   "execution_count": 38,
   "id": "a3631028-a688-4198-9808-babb9f531b0d",
   "metadata": {},
   "outputs": [
    {
     "data": {
      "text/plain": [
       "(4, 5)"
      ]
     },
     "execution_count": 38,
     "metadata": {},
     "output_type": "execute_result"
    }
   ],
   "source": [
    "test7(4,5)"
   ]
  },
  {
   "cell_type": "code",
   "execution_count": 39,
   "id": "26fee472-a545-4e57-adcb-10713f064847",
   "metadata": {},
   "outputs": [
    {
     "data": {
      "text/plain": [
       "('sudh', [4, 5, 6, 7])"
      ]
     },
     "execution_count": 39,
     "metadata": {},
     "output_type": "execute_result"
    }
   ],
   "source": [
    "test7(\"sudh\" , [4,5,6,7])"
   ]
  },
  {
   "cell_type": "code",
   "execution_count": 40,
   "id": "9c9557a0-5439-457c-8da6-258872d25107",
   "metadata": {},
   "outputs": [],
   "source": [
    "def test8(x:int,y:int):\n",
    "    return x/y"
   ]
  },
  {
   "cell_type": "code",
   "execution_count": 41,
   "id": "d5728ced-af00-4019-bd38-327d263f0cc0",
   "metadata": {},
   "outputs": [
    {
     "data": {
      "text/plain": [
       "0.8"
      ]
     },
     "execution_count": 41,
     "metadata": {},
     "output_type": "execute_result"
    }
   ],
   "source": [
    "test8(4,5)"
   ]
  },
  {
   "cell_type": "code",
   "execution_count": 42,
   "id": "69cb72dd-a3fb-4fd3-9eed-cb2b3cf4c4bb",
   "metadata": {},
   "outputs": [
    {
     "ename": "TypeError",
     "evalue": "unsupported operand type(s) for /: 'str' and 'str'",
     "output_type": "error",
     "traceback": [
      "\u001b[0;31m---------------------------------------------------------------------------\u001b[0m",
      "\u001b[0;31mTypeError\u001b[0m                                 Traceback (most recent call last)",
      "Cell \u001b[0;32mIn[42], line 1\u001b[0m\n\u001b[0;32m----> 1\u001b[0m \u001b[43mtest8\u001b[49m\u001b[43m(\u001b[49m\u001b[38;5;124;43m\"\u001b[39;49m\u001b[38;5;124;43msudh\u001b[39;49m\u001b[38;5;124;43m\"\u001b[39;49m\u001b[43m \u001b[49m\u001b[43m,\u001b[49m\u001b[43m \u001b[49m\u001b[38;5;124;43m\"\u001b[39;49m\u001b[38;5;124;43mkumar\u001b[39;49m\u001b[38;5;124;43m\"\u001b[39;49m\u001b[43m)\u001b[49m\n",
      "Cell \u001b[0;32mIn[40], line 2\u001b[0m, in \u001b[0;36mtest8\u001b[0;34m(x, y)\u001b[0m\n\u001b[1;32m      1\u001b[0m \u001b[38;5;28;01mdef\u001b[39;00m \u001b[38;5;21mtest8\u001b[39m(x:\u001b[38;5;28mint\u001b[39m,y:\u001b[38;5;28mint\u001b[39m):\n\u001b[0;32m----> 2\u001b[0m     \u001b[38;5;28;01mreturn\u001b[39;00m \u001b[43mx\u001b[49m\u001b[38;5;241;43m/\u001b[39;49m\u001b[43my\u001b[49m\n",
      "\u001b[0;31mTypeError\u001b[0m: unsupported operand type(s) for /: 'str' and 'str'"
     ]
    }
   ],
   "source": [
    "test8(\"sudh\" , \"kumar\")"
   ]
  },
  {
   "cell_type": "code",
   "execution_count": 44,
   "id": "96718234-f7fc-4f17-ac70-c0332507f46c",
   "metadata": {},
   "outputs": [],
   "source": [
    "def test9(c,d):\n",
    "    \"\"\"this is my funciton which can take two input and return a addition or concatination \n",
    "    \"\"\"\n",
    "    return c+d"
   ]
  },
  {
   "cell_type": "code",
   "execution_count": 47,
   "id": "d16d7c25-4c61-44fa-b790-dd57e65cebc9",
   "metadata": {},
   "outputs": [
    {
     "ename": "TypeError",
     "evalue": "test9() takes 2 positional arguments but 3 were given",
     "output_type": "error",
     "traceback": [
      "\u001b[0;31m---------------------------------------------------------------------------\u001b[0m",
      "\u001b[0;31mTypeError\u001b[0m                                 Traceback (most recent call last)",
      "Cell \u001b[0;32mIn[47], line 1\u001b[0m\n\u001b[0;32m----> 1\u001b[0m \u001b[43mtest9\u001b[49m\u001b[43m(\u001b[49m\u001b[38;5;241;43m4\u001b[39;49m\u001b[43m,\u001b[49m\u001b[38;5;241;43m5\u001b[39;49m\u001b[43m,\u001b[49m\u001b[38;5;241;43m5\u001b[39;49m\u001b[43m)\u001b[49m\n",
      "\u001b[0;31mTypeError\u001b[0m: test9() takes 2 positional arguments but 3 were given"
     ]
    }
   ],
   "source": [
    "test9(4,5,5)"
   ]
  },
  {
   "cell_type": "code",
   "execution_count": 48,
   "id": "7fdc0c8b-4a06-43e7-a91a-839007dbfaed",
   "metadata": {},
   "outputs": [],
   "source": [
    "def test10(*args):\n",
    "    return args"
   ]
  },
  {
   "cell_type": "code",
   "execution_count": 49,
   "id": "3a965791-d110-4b82-af39-cd3fb396d4e9",
   "metadata": {},
   "outputs": [
    {
     "data": {
      "text/plain": [
       "()"
      ]
     },
     "execution_count": 49,
     "metadata": {},
     "output_type": "execute_result"
    }
   ],
   "source": [
    "test10()"
   ]
  },
  {
   "cell_type": "code",
   "execution_count": 50,
   "id": "a429465a-a5de-4b74-b14e-f7bb9b511bb6",
   "metadata": {},
   "outputs": [
    {
     "data": {
      "text/plain": [
       "(2, 3, 4, 5, 6, 6)"
      ]
     },
     "execution_count": 50,
     "metadata": {},
     "output_type": "execute_result"
    }
   ],
   "source": [
    "test10(2,3,4,5,6,6)"
   ]
  },
  {
   "cell_type": "code",
   "execution_count": 51,
   "id": "9db82a28-4211-4fe6-a2d3-94e1cf58679b",
   "metadata": {},
   "outputs": [],
   "source": [
    "def test11(*sudh):\n",
    "    return sudh"
   ]
  },
  {
   "cell_type": "code",
   "execution_count": 52,
   "id": "828a12a1-a1f6-4d61-a60a-dd82d605f4ab",
   "metadata": {},
   "outputs": [
    {
     "data": {
      "text/plain": [
       "(3, 4, 56, 6)"
      ]
     },
     "execution_count": 52,
     "metadata": {},
     "output_type": "execute_result"
    }
   ],
   "source": [
    "test11(3,4,56,6)"
   ]
  },
  {
   "cell_type": "code",
   "execution_count": 53,
   "id": "0b31d393-de52-422b-a1c4-46a758c0e985",
   "metadata": {},
   "outputs": [],
   "source": [
    "def test12(**kwargs):\n",
    "    return kwargs"
   ]
  },
  {
   "cell_type": "code",
   "execution_count": 55,
   "id": "216a5613-c1d5-48a2-bbf6-5b97a7a95e95",
   "metadata": {},
   "outputs": [
    {
     "data": {
      "text/plain": [
       "{'a': 4, 'b': 5, 'c': 6}"
      ]
     },
     "execution_count": 55,
     "metadata": {},
     "output_type": "execute_result"
    }
   ],
   "source": [
    "test12(a = 4,b = 5,c = 6)"
   ]
  },
  {
   "cell_type": "code",
   "execution_count": 56,
   "id": "92dce7c1-d9cb-4c5d-abee-c906de7fd2e4",
   "metadata": {},
   "outputs": [
    {
     "data": {
      "text/plain": [
       "{'n': {'a': 4, 'b': 5, 'c': 6}}"
      ]
     },
     "execution_count": 56,
     "metadata": {},
     "output_type": "execute_result"
    }
   ],
   "source": [
    "test12(n = {'a': 4, 'b': 5, 'c': 6})"
   ]
  },
  {
   "cell_type": "code",
   "execution_count": 59,
   "id": "774e674c-8d9e-4cf1-bbb7-7b208ccaeccc",
   "metadata": {},
   "outputs": [],
   "source": [
    "def test13(b , a = 10 , c = 20):\n",
    "    return a,b,c"
   ]
  },
  {
   "cell_type": "code",
   "execution_count": 60,
   "id": "39435bd5-756b-4ea1-8aa5-a56d0abe8b5d",
   "metadata": {},
   "outputs": [
    {
     "data": {
      "text/plain": [
       "(10, 56, 20)"
      ]
     },
     "execution_count": 60,
     "metadata": {},
     "output_type": "execute_result"
    }
   ],
   "source": [
    "test13(56)"
   ]
  },
  {
   "cell_type": "code",
   "execution_count": 61,
   "id": "966e91b3-232e-40aa-b2c4-ecf7fe3f6cdb",
   "metadata": {},
   "outputs": [
    {
     "data": {
      "text/plain": [
       "(45, 34, 20)"
      ]
     },
     "execution_count": 61,
     "metadata": {},
     "output_type": "execute_result"
    }
   ],
   "source": [
    "test13(34, a = 45)"
   ]
  },
  {
   "cell_type": "code",
   "execution_count": 62,
   "id": "05c266ea-fb93-43f2-a31c-bf9849fed2eb",
   "metadata": {},
   "outputs": [],
   "source": [
    "v = test13(4,5,67)"
   ]
  },
  {
   "cell_type": "code",
   "execution_count": 63,
   "id": "35d84531-d95f-4036-bf39-0f926a22034e",
   "metadata": {},
   "outputs": [
    {
     "data": {
      "text/plain": [
       "(5, 4, 67)"
      ]
     },
     "execution_count": 63,
     "metadata": {},
     "output_type": "execute_result"
    }
   ],
   "source": [
    "v"
   ]
  },
  {
   "cell_type": "code",
   "execution_count": 64,
   "id": "df7b4409-7adb-4de6-aec0-45b564fc39fa",
   "metadata": {},
   "outputs": [],
   "source": [
    "def test14(a,b) :\n",
    "    return a+b"
   ]
  },
  {
   "cell_type": "code",
   "execution_count": 65,
   "id": "7e735afb-ee18-435f-b44e-4d3dab2d5cb7",
   "metadata": {},
   "outputs": [
    {
     "data": {
      "text/plain": [
       "11"
      ]
     },
     "execution_count": 65,
     "metadata": {},
     "output_type": "execute_result"
    }
   ],
   "source": [
    "test14(5,6)"
   ]
  },
  {
   "cell_type": "code",
   "execution_count": 66,
   "id": "5ef5ee35-bc69-4ae1-a938-b7e689dcafa3",
   "metadata": {},
   "outputs": [],
   "source": [
    "m = lambda a,b : a+b"
   ]
  },
  {
   "cell_type": "code",
   "execution_count": 67,
   "id": "b017839f-80d5-499f-afc2-7a22e2f5a0dc",
   "metadata": {},
   "outputs": [
    {
     "data": {
      "text/plain": [
       "<function __main__.<lambda>(a, b)>"
      ]
     },
     "execution_count": 67,
     "metadata": {},
     "output_type": "execute_result"
    }
   ],
   "source": [
    "m"
   ]
  },
  {
   "cell_type": "code",
   "execution_count": 68,
   "id": "f6aea698-c9ab-4ad2-b738-04486e550568",
   "metadata": {},
   "outputs": [
    {
     "data": {
      "text/plain": [
       "<function __main__.test14(a, b)>"
      ]
     },
     "execution_count": 68,
     "metadata": {},
     "output_type": "execute_result"
    }
   ],
   "source": [
    "test14"
   ]
  },
  {
   "cell_type": "code",
   "execution_count": 69,
   "id": "be7534f5-3678-4545-a6d5-aa9e955de42a",
   "metadata": {},
   "outputs": [
    {
     "data": {
      "text/plain": [
       "7"
      ]
     },
     "execution_count": 69,
     "metadata": {},
     "output_type": "execute_result"
    }
   ],
   "source": [
    "m(3,4)"
   ]
  },
  {
   "cell_type": "code",
   "execution_count": 72,
   "id": "07735b8f-cca5-4587-85f9-5c8db27ada6f",
   "metadata": {},
   "outputs": [],
   "source": [
    "def check_even(n):\n",
    "    if n%2 ==0:\n",
    "        return \"given number is an even number\"\n",
    "    else :\n",
    "        return \"given number not an even number\"\n",
    "    "
   ]
  },
  {
   "cell_type": "code",
   "execution_count": 75,
   "id": "c83526ab-bd8e-4f8e-b6f2-10dc99471a8b",
   "metadata": {},
   "outputs": [],
   "source": [
    "b = lambda n : \"given number is an even number\" if n%2 ==0 else \"given number not an even number\""
   ]
  },
  {
   "cell_type": "code",
   "execution_count": 76,
   "id": "b452d4c2-00ac-4252-89d8-15060c288782",
   "metadata": {},
   "outputs": [
    {
     "data": {
      "text/plain": [
       "'given number is an even number'"
      ]
     },
     "execution_count": 76,
     "metadata": {},
     "output_type": "execute_result"
    }
   ],
   "source": [
    "b(4)"
   ]
  },
  {
   "cell_type": "code",
   "execution_count": 77,
   "id": "4823ebab-f64c-4ddc-9307-af653e473606",
   "metadata": {},
   "outputs": [
    {
     "data": {
      "text/plain": [
       "'given number not an even number'"
      ]
     },
     "execution_count": 77,
     "metadata": {},
     "output_type": "execute_result"
    }
   ],
   "source": [
    "b(3)"
   ]
  },
  {
   "cell_type": "code",
   "execution_count": null,
   "id": "89e40f6d-f1d6-4938-bf1b-0897c470709f",
   "metadata": {},
   "outputs": [],
   "source": []
  },
  {
   "cell_type": "code",
   "execution_count": null,
   "id": "47ccceb2-6f4e-40f5-a33d-662ee2247832",
   "metadata": {},
   "outputs": [],
   "source": []
  },
  {
   "cell_type": "code",
   "execution_count": 73,
   "id": "2cc9639d-ea90-4794-9687-9cc13750e2e1",
   "metadata": {},
   "outputs": [
    {
     "data": {
      "text/plain": [
       "'given number not an even number'"
      ]
     },
     "execution_count": 73,
     "metadata": {},
     "output_type": "execute_result"
    }
   ],
   "source": [
    "check_even(3)"
   ]
  },
  {
   "cell_type": "code",
   "execution_count": 74,
   "id": "0d72afed-b436-4c00-8d1f-49f2fd94fd36",
   "metadata": {},
   "outputs": [
    {
     "data": {
      "text/plain": [
       "1"
      ]
     },
     "execution_count": 74,
     "metadata": {},
     "output_type": "execute_result"
    }
   ],
   "source": [
    "3%2"
   ]
  },
  {
   "cell_type": "code",
   "execution_count": 78,
   "id": "c726469c-29ee-4e2e-bdd1-14f58d12e235",
   "metadata": {},
   "outputs": [],
   "source": [
    "l = [3,4,5,76,3,2,3,4,5]\n",
    "min_list = lambda li : min(li)"
   ]
  },
  {
   "cell_type": "code",
   "execution_count": 79,
   "id": "1110beb6-8c88-4617-9a36-e99397505a7c",
   "metadata": {},
   "outputs": [
    {
     "data": {
      "text/plain": [
       "2"
      ]
     },
     "execution_count": 79,
     "metadata": {},
     "output_type": "execute_result"
    }
   ],
   "source": [
    "min_list(l)"
   ]
  },
  {
   "cell_type": "code",
   "execution_count": 80,
   "id": "2293bb01-bf34-4dbc-873e-7064e207417d",
   "metadata": {},
   "outputs": [],
   "source": [
    "div = lambda a,b: a/b"
   ]
  },
  {
   "cell_type": "code",
   "execution_count": 81,
   "id": "fae834d5-bbbc-41b7-8b83-bc5f42171c81",
   "metadata": {},
   "outputs": [
    {
     "data": {
      "text/plain": [
       "0.8333333333333334"
      ]
     },
     "execution_count": 81,
     "metadata": {},
     "output_type": "execute_result"
    }
   ],
   "source": [
    "div(5,6)"
   ]
  },
  {
   "cell_type": "code",
   "execution_count": 82,
   "id": "425cdab0-28f5-4381-8275-ff46086ec5c2",
   "metadata": {},
   "outputs": [],
   "source": [
    "upper = lambda s : s.upper()"
   ]
  },
  {
   "cell_type": "code",
   "execution_count": 83,
   "id": "1f2d821c-9a58-41fe-a150-e2e64a788705",
   "metadata": {},
   "outputs": [
    {
     "data": {
      "text/plain": [
       "'SUDH'"
      ]
     },
     "execution_count": 83,
     "metadata": {},
     "output_type": "execute_result"
    }
   ],
   "source": [
    "upper(\"sudh\")"
   ]
  },
  {
   "cell_type": "code",
   "execution_count": 85,
   "id": "3afcf2c0-6f52-4141-9f72-c13eea61aecc",
   "metadata": {},
   "outputs": [],
   "source": [
    "l = [3,4,5,6,7,2,3,34,5,56]\n",
    "\n",
    "def sum_odd(b):\n",
    "    l1 = []\n",
    "    for i in b :\n",
    "        if i%2!=0:\n",
    "            l1.append(i)\n",
    "    return sum(l1)   "
   ]
  },
  {
   "cell_type": "code",
   "execution_count": 89,
   "id": "0505d547-b24e-4120-977b-6d734dcb03e9",
   "metadata": {},
   "outputs": [
    {
     "data": {
      "text/plain": [
       "23"
      ]
     },
     "execution_count": 89,
     "metadata": {},
     "output_type": "execute_result"
    }
   ],
   "source": [
    "sum([i for i in l if i%2!=0])"
   ]
  },
  {
   "cell_type": "code",
   "execution_count": 92,
   "id": "534c863e-7dd9-4da7-9db0-85e133474291",
   "metadata": {},
   "outputs": [],
   "source": [
    "sum_off_lambda = lambda b : sum([i for i in b if i%2!=0])"
   ]
  },
  {
   "cell_type": "code",
   "execution_count": 91,
   "id": "d6026785-6612-4616-9b04-5f4ded6e1f25",
   "metadata": {},
   "outputs": [
    {
     "data": {
      "text/plain": [
       "23"
      ]
     },
     "execution_count": 91,
     "metadata": {},
     "output_type": "execute_result"
    }
   ],
   "source": [
    "sum_off_lambda(l)"
   ]
  },
  {
   "cell_type": "code",
   "execution_count": 86,
   "id": "91c5afa4-6824-4ee6-ae92-b8df719bba32",
   "metadata": {},
   "outputs": [
    {
     "data": {
      "text/plain": [
       "23"
      ]
     },
     "execution_count": 86,
     "metadata": {},
     "output_type": "execute_result"
    }
   ],
   "source": [
    "sum_odd(l)"
   ]
  },
  {
   "cell_type": "code",
   "execution_count": 93,
   "id": "782768b0-ead2-45a1-90ae-008047fde851",
   "metadata": {},
   "outputs": [],
   "source": [
    "def fact_number(n):\n",
    "    if n == 0 :\n",
    "        return 1 \n",
    "    else :\n",
    "        return n*fact_number(n-1)\n",
    "    "
   ]
  },
  {
   "cell_type": "code",
   "execution_count": 100,
   "id": "7a677e69-8f10-4fea-b040-031d149e5d34",
   "metadata": {},
   "outputs": [],
   "source": [
    "fact_num_lambda = lambda n : 1 if n == 0 else n*fact_num_lambda(n-1)"
   ]
  },
  {
   "cell_type": "code",
   "execution_count": 101,
   "id": "0591c659-f743-45fc-a1e1-3ba85baaa816",
   "metadata": {},
   "outputs": [
    {
     "data": {
      "text/plain": [
       "120"
      ]
     },
     "execution_count": 101,
     "metadata": {},
     "output_type": "execute_result"
    }
   ],
   "source": [
    "fact_num_lambda(5)"
   ]
  },
  {
   "cell_type": "code",
   "execution_count": null,
   "id": "f223e50a-7936-49b1-bbf3-3663a76b3956",
   "metadata": {},
   "outputs": [],
   "source": []
  },
  {
   "cell_type": "code",
   "execution_count": null,
   "id": "572d776f-c739-40fc-a30d-ba6896b13205",
   "metadata": {},
   "outputs": [],
   "source": []
  },
  {
   "cell_type": "code",
   "execution_count": 94,
   "id": "68126728-3dab-4c2a-a6d0-58f16b3cbc58",
   "metadata": {},
   "outputs": [
    {
     "data": {
      "text/plain": [
       "24"
      ]
     },
     "execution_count": 94,
     "metadata": {},
     "output_type": "execute_result"
    }
   ],
   "source": [
    "fact_number(4)"
   ]
  },
  {
   "cell_type": "code",
   "execution_count": 95,
   "id": "6d5a8323-97f9-4d2e-bf25-1eb6ccebc6d1",
   "metadata": {},
   "outputs": [
    {
     "data": {
      "text/plain": [
       "1"
      ]
     },
     "execution_count": 95,
     "metadata": {},
     "output_type": "execute_result"
    }
   ],
   "source": [
    "fact_number(0)"
   ]
  },
  {
   "cell_type": "code",
   "execution_count": 98,
   "id": "8bba4313-fbd7-4a66-a7cf-7b237139113e",
   "metadata": {},
   "outputs": [],
   "source": [
    "def fact_num(n) :\n",
    "    a = 1 \n",
    "    for i in range(1,n+1):\n",
    "        a = i*a\n",
    "    return a "
   ]
  },
  {
   "cell_type": "code",
   "execution_count": 99,
   "id": "28ac2ad1-b64c-4244-9341-a6ff4aa71375",
   "metadata": {},
   "outputs": [
    {
     "data": {
      "text/plain": [
       "24"
      ]
     },
     "execution_count": 99,
     "metadata": {},
     "output_type": "execute_result"
    }
   ],
   "source": [
    "fact_num(4)"
   ]
  },
  {
   "cell_type": "code",
   "execution_count": 102,
   "id": "05bda53f-1efe-45b9-aec5-c8dc69f141c9",
   "metadata": {},
   "outputs": [],
   "source": [
    "l = [5,6,7,8,89]\n",
    "\n",
    "l1 = []\n",
    "for i in l:\n",
    "    l1.append(i+2)"
   ]
  },
  {
   "cell_type": "code",
   "execution_count": 103,
   "id": "b9c6c819-f7d6-4ae4-80e3-7a7e02cd984c",
   "metadata": {},
   "outputs": [
    {
     "data": {
      "text/plain": [
       "[7, 8, 9, 10, 91]"
      ]
     },
     "execution_count": 103,
     "metadata": {},
     "output_type": "execute_result"
    }
   ],
   "source": [
    "l1"
   ]
  },
  {
   "cell_type": "code",
   "execution_count": 104,
   "id": "45f9453f-ca0f-4ea6-ac6e-7186a020c60e",
   "metadata": {},
   "outputs": [],
   "source": [
    "def add_list(l):\n",
    "    l1 = []\n",
    "    for i in l:\n",
    "        l1.append(i+2)\n",
    "    return l1\n",
    "        "
   ]
  },
  {
   "cell_type": "code",
   "execution_count": 105,
   "id": "274ee340-6a2a-4183-9fc8-660a8f8fe119",
   "metadata": {},
   "outputs": [
    {
     "data": {
      "text/plain": [
       "[5, 6, 7, 8, 9]"
      ]
     },
     "execution_count": 105,
     "metadata": {},
     "output_type": "execute_result"
    }
   ],
   "source": [
    "add_list([3,4,5,6,7])"
   ]
  },
  {
   "cell_type": "code",
   "execution_count": 112,
   "id": "e030a9ab-6be0-4d91-a08c-071eadd9c1b1",
   "metadata": {},
   "outputs": [
    {
     "data": {
      "text/plain": [
       "[5, 6, 7, 8, 89]"
      ]
     },
     "execution_count": 112,
     "metadata": {},
     "output_type": "execute_result"
    }
   ],
   "source": [
    "l"
   ]
  },
  {
   "cell_type": "code",
   "execution_count": 111,
   "id": "a36c5210-47f8-4334-bc3d-6badccbba480",
   "metadata": {},
   "outputs": [
    {
     "data": {
      "text/plain": [
       "[7, 8, 9, 10, 91]"
      ]
     },
     "execution_count": 111,
     "metadata": {},
     "output_type": "execute_result"
    }
   ],
   "source": [
    "list(map(lambda a : a+2,l))"
   ]
  },
  {
   "cell_type": "code",
   "execution_count": 107,
   "id": "f0620266-b1a4-445a-bbcc-5311be197ad9",
   "metadata": {},
   "outputs": [
    {
     "data": {
      "text/plain": [
       "12"
      ]
     },
     "execution_count": 107,
     "metadata": {},
     "output_type": "execute_result"
    }
   ],
   "source": [
    "v(10)"
   ]
  },
  {
   "cell_type": "code",
   "execution_count": 108,
   "id": "961fef6f-9e1e-4863-b47e-e85643e1a7cf",
   "metadata": {},
   "outputs": [
    {
     "data": {
      "text/plain": [
       "[5, 6, 7, 8, 89]"
      ]
     },
     "execution_count": 108,
     "metadata": {},
     "output_type": "execute_result"
    }
   ],
   "source": [
    "l"
   ]
  },
  {
   "cell_type": "code",
   "execution_count": 113,
   "id": "123cd1c9-2102-40ee-97b2-46579472f286",
   "metadata": {},
   "outputs": [
    {
     "data": {
      "text/plain": [
       "[5, 6, 7, 8, 89]"
      ]
     },
     "execution_count": 113,
     "metadata": {},
     "output_type": "execute_result"
    }
   ],
   "source": [
    "l"
   ]
  },
  {
   "cell_type": "code",
   "execution_count": 114,
   "id": "2da7bc6c-702d-4acb-ba81-c11b22f0e6fb",
   "metadata": {},
   "outputs": [],
   "source": [
    "def test34(c):\n",
    "    return c+2"
   ]
  },
  {
   "cell_type": "code",
   "execution_count": 116,
   "id": "f81ec831-db76-4bd6-be77-1f3490d9c835",
   "metadata": {},
   "outputs": [
    {
     "data": {
      "text/plain": [
       "[7, 8, 9, 10, 91]"
      ]
     },
     "execution_count": 116,
     "metadata": {},
     "output_type": "execute_result"
    }
   ],
   "source": [
    "list(map(test34 ,l ))"
   ]
  },
  {
   "cell_type": "code",
   "execution_count": 118,
   "id": "904ca471-355c-4cb1-826f-775b5b2f1063",
   "metadata": {},
   "outputs": [
    {
     "data": {
      "text/plain": [
       "7"
      ]
     },
     "execution_count": 118,
     "metadata": {},
     "output_type": "execute_result"
    }
   ],
   "source": [
    "test34(5)"
   ]
  },
  {
   "cell_type": "code",
   "execution_count": 119,
   "id": "d7665f14-abf8-4ecb-ae1d-65cc2c6295d8",
   "metadata": {},
   "outputs": [
    {
     "data": {
      "text/plain": [
       "8"
      ]
     },
     "execution_count": 119,
     "metadata": {},
     "output_type": "execute_result"
    }
   ],
   "source": [
    "test34(6)"
   ]
  },
  {
   "cell_type": "code",
   "execution_count": 120,
   "id": "bd6a04cb-10b3-4dea-922b-0222c170ece0",
   "metadata": {},
   "outputs": [
    {
     "data": {
      "text/plain": [
       "9"
      ]
     },
     "execution_count": 120,
     "metadata": {},
     "output_type": "execute_result"
    }
   ],
   "source": [
    "test34(7)"
   ]
  },
  {
   "cell_type": "code",
   "execution_count": 121,
   "id": "264ca1c5-513f-4dfc-a556-2d9d2e79598b",
   "metadata": {},
   "outputs": [
    {
     "data": {
      "text/plain": [
       "10"
      ]
     },
     "execution_count": 121,
     "metadata": {},
     "output_type": "execute_result"
    }
   ],
   "source": [
    "test34(8)"
   ]
  },
  {
   "cell_type": "code",
   "execution_count": 122,
   "id": "deaba6a5-7a6f-4048-b829-1ad0f5798f45",
   "metadata": {},
   "outputs": [
    {
     "data": {
      "text/plain": [
       "91"
      ]
     },
     "execution_count": 122,
     "metadata": {},
     "output_type": "execute_result"
    }
   ],
   "source": [
    "test34(89)"
   ]
  },
  {
   "cell_type": "code",
   "execution_count": 123,
   "id": "7ce43a82-6edc-4269-839e-8af182081f55",
   "metadata": {},
   "outputs": [],
   "source": [
    "l = [\"sudh\" , \"kumar\" , \"pwskills\"]"
   ]
  },
  {
   "cell_type": "code",
   "execution_count": 124,
   "id": "bf9ca58a-f6aa-4e00-a087-7cf2a836bf39",
   "metadata": {},
   "outputs": [
    {
     "data": {
      "text/plain": [
       "4"
      ]
     },
     "execution_count": 124,
     "metadata": {},
     "output_type": "execute_result"
    }
   ],
   "source": [
    "len(\"sudh\")"
   ]
  },
  {
   "cell_type": "code",
   "execution_count": 125,
   "id": "5e4caa81-b347-475e-b23b-1e8ff8ceee8c",
   "metadata": {},
   "outputs": [
    {
     "data": {
      "text/plain": [
       "5"
      ]
     },
     "execution_count": 125,
     "metadata": {},
     "output_type": "execute_result"
    }
   ],
   "source": [
    "len(\"kumar\")"
   ]
  },
  {
   "cell_type": "code",
   "execution_count": 126,
   "id": "49cf3557-f261-4079-8db8-134ea911730a",
   "metadata": {},
   "outputs": [
    {
     "data": {
      "text/plain": [
       "8"
      ]
     },
     "execution_count": 126,
     "metadata": {},
     "output_type": "execute_result"
    }
   ],
   "source": [
    "len(\"pwskills\")"
   ]
  },
  {
   "cell_type": "code",
   "execution_count": null,
   "id": "8610939f-8959-4664-b722-48d1fc9f9801",
   "metadata": {},
   "outputs": [],
   "source": [
    "[4,5,8]"
   ]
  },
  {
   "cell_type": "code",
   "execution_count": 127,
   "id": "e4654e5f-7636-4f2d-b4df-21c75e493c67",
   "metadata": {},
   "outputs": [],
   "source": [
    "l1 = []\n",
    "for i in l :\n",
    "    l1.append(len(i))"
   ]
  },
  {
   "cell_type": "code",
   "execution_count": 128,
   "id": "76332eda-912f-4619-b05c-3009af005cf9",
   "metadata": {},
   "outputs": [
    {
     "data": {
      "text/plain": [
       "[4, 5, 8]"
      ]
     },
     "execution_count": 128,
     "metadata": {},
     "output_type": "execute_result"
    }
   ],
   "source": [
    "l1"
   ]
  },
  {
   "cell_type": "code",
   "execution_count": 129,
   "id": "544f8e78-7bb3-4848-b71e-d79aa7b155f5",
   "metadata": {},
   "outputs": [],
   "source": [
    "def test35(l):\n",
    "    l1 = []\n",
    "    for i in l :\n",
    "        l1.append(len(i))\n",
    "    return l1 "
   ]
  },
  {
   "cell_type": "code",
   "execution_count": 130,
   "id": "1a7347e0-bce4-40f9-a8da-00795e48def2",
   "metadata": {},
   "outputs": [
    {
     "data": {
      "text/plain": [
       "[4, 5, 8]"
      ]
     },
     "execution_count": 130,
     "metadata": {},
     "output_type": "execute_result"
    }
   ],
   "source": [
    "test35(l)"
   ]
  },
  {
   "cell_type": "code",
   "execution_count": 131,
   "id": "54f85d00-e6dd-496d-83f3-d259c0645546",
   "metadata": {},
   "outputs": [
    {
     "data": {
      "text/plain": [
       "[4, 5, 8]"
      ]
     },
     "execution_count": 131,
     "metadata": {},
     "output_type": "execute_result"
    }
   ],
   "source": [
    "list(map(lambda c : len(c) , l))"
   ]
  },
  {
   "cell_type": "code",
   "execution_count": 132,
   "id": "50351bf6-69bb-454a-9a46-60e0f208e64a",
   "metadata": {},
   "outputs": [],
   "source": [
    "def test36(c ):\n",
    "    return len(c)"
   ]
  },
  {
   "cell_type": "code",
   "execution_count": 133,
   "id": "c3ae1b49-230f-4d88-b751-535ffbbb3c88",
   "metadata": {},
   "outputs": [
    {
     "data": {
      "text/plain": [
       "[4, 5, 8]"
      ]
     },
     "execution_count": 133,
     "metadata": {},
     "output_type": "execute_result"
    }
   ],
   "source": [
    "list(map(test36 , l))"
   ]
  },
  {
   "cell_type": "code",
   "execution_count": 134,
   "id": "8906c0ef-3a6e-41f1-bc3e-21163677a7a7",
   "metadata": {},
   "outputs": [
    {
     "data": {
      "text/plain": [
       "[4, 5, 8]"
      ]
     },
     "execution_count": 134,
     "metadata": {},
     "output_type": "execute_result"
    }
   ],
   "source": [
    "list(map(len , l))"
   ]
  },
  {
   "cell_type": "code",
   "execution_count": 135,
   "id": "0d1671ec-64ad-4878-bd0a-c0fdae61d7f2",
   "metadata": {},
   "outputs": [
    {
     "data": {
      "text/plain": [
       "['sudh', 'kumar', 'pwskills']"
      ]
     },
     "execution_count": 135,
     "metadata": {},
     "output_type": "execute_result"
    }
   ],
   "source": [
    "l"
   ]
  },
  {
   "cell_type": "code",
   "execution_count": 136,
   "id": "07bbe05f-bb0a-4036-9313-a94135d5a3b1",
   "metadata": {},
   "outputs": [
    {
     "data": {
      "text/plain": [
       "['pwskills', 'kumar', 'sudh']"
      ]
     },
     "execution_count": 136,
     "metadata": {},
     "output_type": "execute_result"
    }
   ],
   "source": [
    "l[::-1]"
   ]
  },
  {
   "cell_type": "code",
   "execution_count": 137,
   "id": "9161773c-1de2-4511-ae5d-a5b6d536ea7a",
   "metadata": {},
   "outputs": [],
   "source": [
    "s = \"sudh\""
   ]
  },
  {
   "cell_type": "code",
   "execution_count": 138,
   "id": "4db6b50b-1abd-43bb-b6a1-dfaaebe81692",
   "metadata": {},
   "outputs": [
    {
     "data": {
      "text/plain": [
       "'hdus'"
      ]
     },
     "execution_count": 138,
     "metadata": {},
     "output_type": "execute_result"
    }
   ],
   "source": [
    "s[::-1]"
   ]
  },
  {
   "cell_type": "code",
   "execution_count": 139,
   "id": "e815034b-8d2a-402d-8849-610c19b9646c",
   "metadata": {},
   "outputs": [
    {
     "data": {
      "text/plain": [
       "['hdus', 'ramuk', 'sllikswp']"
      ]
     },
     "execution_count": 139,
     "metadata": {},
     "output_type": "execute_result"
    }
   ],
   "source": [
    "list(map(lambda a : a[::-1] ,l))"
   ]
  },
  {
   "cell_type": "code",
   "execution_count": 142,
   "id": "d8afcec0-eafa-4ccb-83a9-b40e58dd0595",
   "metadata": {},
   "outputs": [],
   "source": [
    "l = [2,3,2,1,4]\n",
    "from functools import reduce"
   ]
  },
  {
   "cell_type": "code",
   "execution_count": 143,
   "id": "e6720015-940d-4b27-a0af-b93b89478a1b",
   "metadata": {},
   "outputs": [
    {
     "data": {
      "text/plain": [
       "48"
      ]
     },
     "execution_count": 143,
     "metadata": {},
     "output_type": "execute_result"
    }
   ],
   "source": [
    "reduce(lambda a,b :a*b , l)"
   ]
  },
  {
   "cell_type": "code",
   "execution_count": 144,
   "id": "41e97f68-863c-4705-a385-e0dad1e3c326",
   "metadata": {},
   "outputs": [
    {
     "data": {
      "text/plain": [
       "[2, 3, 2, 1, 4]"
      ]
     },
     "execution_count": 144,
     "metadata": {},
     "output_type": "execute_result"
    }
   ],
   "source": [
    "l"
   ]
  },
  {
   "cell_type": "code",
   "execution_count": 145,
   "id": "63f48bdb-faff-4492-a8d8-40d7ea4475a6",
   "metadata": {},
   "outputs": [
    {
     "data": {
      "text/plain": [
       "1"
      ]
     },
     "execution_count": 145,
     "metadata": {},
     "output_type": "execute_result"
    }
   ],
   "source": [
    "min(l)"
   ]
  },
  {
   "cell_type": "code",
   "execution_count": 146,
   "id": "d5cd882b-491c-48f1-afd9-070f79b170a1",
   "metadata": {},
   "outputs": [
    {
     "data": {
      "text/plain": [
       "4"
      ]
     },
     "execution_count": 146,
     "metadata": {},
     "output_type": "execute_result"
    }
   ],
   "source": [
    "max(l)"
   ]
  },
  {
   "cell_type": "code",
   "execution_count": 147,
   "id": "870f760f-6368-432d-9eaf-dc5ed7a811ad",
   "metadata": {},
   "outputs": [
    {
     "data": {
      "text/plain": [
       "[2, 3, 2, 1, 4]"
      ]
     },
     "execution_count": 147,
     "metadata": {},
     "output_type": "execute_result"
    }
   ],
   "source": [
    "l"
   ]
  },
  {
   "cell_type": "code",
   "execution_count": 148,
   "id": "9d41485a-1f04-441b-9d77-9e06c0bed630",
   "metadata": {},
   "outputs": [
    {
     "data": {
      "text/plain": [
       "4"
      ]
     },
     "execution_count": 148,
     "metadata": {},
     "output_type": "execute_result"
    }
   ],
   "source": [
    "reduce(lambda a,b : a if a>b else b , l)"
   ]
  },
  {
   "cell_type": "code",
   "execution_count": 149,
   "id": "3bbaec31-e433-4b80-a583-a8e1625fe129",
   "metadata": {},
   "outputs": [],
   "source": [
    "n  = 4 \n",
    "fact = reduce(lambda a,b :a*b ,range(1,n+1))"
   ]
  },
  {
   "cell_type": "code",
   "execution_count": 150,
   "id": "338080d8-c2ac-4286-afdc-0e68ec2b3a48",
   "metadata": {},
   "outputs": [
    {
     "data": {
      "text/plain": [
       "24"
      ]
     },
     "execution_count": 150,
     "metadata": {},
     "output_type": "execute_result"
    }
   ],
   "source": [
    "fact"
   ]
  },
  {
   "cell_type": "code",
   "execution_count": 151,
   "id": "042c719d-1589-4b37-a56d-f98194af221b",
   "metadata": {},
   "outputs": [],
   "source": [
    "def test(a,b):\n",
    "    return a*b "
   ]
  },
  {
   "cell_type": "code",
   "execution_count": 152,
   "id": "b94adfc5-8c95-440d-9376-e90572146beb",
   "metadata": {},
   "outputs": [],
   "source": [
    "fact1 = reduce(test,range(1,n+1))"
   ]
  },
  {
   "cell_type": "code",
   "execution_count": 153,
   "id": "fc6e38bd-2fe8-4fb6-8a74-0532e00a64d1",
   "metadata": {},
   "outputs": [
    {
     "data": {
      "text/plain": [
       "24"
      ]
     },
     "execution_count": 153,
     "metadata": {},
     "output_type": "execute_result"
    }
   ],
   "source": [
    "fact1"
   ]
  },
  {
   "cell_type": "code",
   "execution_count": 178,
   "id": "7da98bc3-b43f-43c4-a028-a836bfd388ba",
   "metadata": {},
   "outputs": [],
   "source": [
    "l = [2,3,2,1,4]"
   ]
  },
  {
   "cell_type": "code",
   "execution_count": 179,
   "id": "abd53f00-6b54-4a36-9856-90cdf644dbe1",
   "metadata": {},
   "outputs": [
    {
     "data": {
      "text/plain": [
       "[2, 2, 4]"
      ]
     },
     "execution_count": 179,
     "metadata": {},
     "output_type": "execute_result"
    }
   ],
   "source": [
    " [i for i in l if i%2==0]"
   ]
  },
  {
   "cell_type": "code",
   "execution_count": 156,
   "id": "09575bf8-507c-4541-b8c5-e217a28a85a7",
   "metadata": {},
   "outputs": [
    {
     "data": {
      "text/plain": [
       "16"
      ]
     },
     "execution_count": 156,
     "metadata": {},
     "output_type": "execute_result"
    }
   ],
   "source": [
    "reduce( lambda a,b : a*b,   [i for i in l if i%2==0])"
   ]
  },
  {
   "cell_type": "code",
   "execution_count": 157,
   "id": "55a1937c-1824-40df-9cd5-ba76508fcff0",
   "metadata": {},
   "outputs": [],
   "source": [
    "l = [3,4,5,6,76,3,32,2,4,5,5,5]"
   ]
  },
  {
   "cell_type": "code",
   "execution_count": 159,
   "id": "dd55aa56-dc72-42c8-8b98-96d8f81590e9",
   "metadata": {},
   "outputs": [
    {
     "data": {
      "text/plain": [
       "[4, 6, 76, 32, 2, 4]"
      ]
     },
     "execution_count": 159,
     "metadata": {},
     "output_type": "execute_result"
    }
   ],
   "source": [
    "list(filter(lambda a : a%2==0 , l))"
   ]
  },
  {
   "cell_type": "code",
   "execution_count": 160,
   "id": "e6aeac7a-fe76-4730-9477-3bced9b5a31d",
   "metadata": {},
   "outputs": [],
   "source": [
    "s = \"Pw Skills\""
   ]
  },
  {
   "cell_type": "code",
   "execution_count": 162,
   "id": "b419f9d5-5a6c-4e5a-ad74-a812b3514f3c",
   "metadata": {},
   "outputs": [
    {
     "data": {
      "text/plain": [
       "['w', 'k', 'i', 'l', 'l', 's']"
      ]
     },
     "execution_count": 162,
     "metadata": {},
     "output_type": "execute_result"
    }
   ],
   "source": [
    "list(filter(lambda a : a.islower() , s ))"
   ]
  },
  {
   "cell_type": "code",
   "execution_count": 163,
   "id": "ca75a148-9b43-4b5f-9058-88886982aa3f",
   "metadata": {},
   "outputs": [],
   "source": [
    "l = [\"pw\" , \"pwskills\" ,\"sudh\" , \"krish\"]"
   ]
  },
  {
   "cell_type": "code",
   "execution_count": 164,
   "id": "d0aa7ed9-354c-4401-8593-3fb457666f11",
   "metadata": {},
   "outputs": [
    {
     "data": {
      "text/plain": [
       "['pw', 'sudh']"
      ]
     },
     "execution_count": 164,
     "metadata": {},
     "output_type": "execute_result"
    }
   ],
   "source": [
    "list(filter(lambda a : len(a)<=4 , l))"
   ]
  },
  {
   "cell_type": "code",
   "execution_count": 165,
   "id": "291aa686-a56e-4fd0-9551-e3e49be2ebd9",
   "metadata": {},
   "outputs": [
    {
     "data": {
      "text/plain": [
       "['pw', 'pwskills', 'sudh', 'krish']"
      ]
     },
     "execution_count": 165,
     "metadata": {},
     "output_type": "execute_result"
    }
   ],
   "source": [
    "l"
   ]
  },
  {
   "cell_type": "code",
   "execution_count": 166,
   "id": "6c413c8b-33e8-47d4-a53d-7b632e16150e",
   "metadata": {},
   "outputs": [
    {
     "data": {
      "text/plain": [
       "['pw', 'pwskills']"
      ]
     },
     "execution_count": 166,
     "metadata": {},
     "output_type": "execute_result"
    }
   ],
   "source": [
    "list(filter(lambda a : a[0]=='p', l))"
   ]
  },
  {
   "cell_type": "code",
   "execution_count": 194,
   "id": "dbb48f41-d5ef-45d1-8376-fc39c95e2682",
   "metadata": {},
   "outputs": [],
   "source": [
    "def gen_fib(n) : \n",
    "    if n <=1 :\n",
    "        return n \n",
    "    else:\n",
    "        return gen_fib(n-1) + gen_fib(n-2)"
   ]
  },
  {
   "cell_type": "code",
   "execution_count": 195,
   "id": "25cb07cf-66ef-46b6-836e-8ef2f5bf9879",
   "metadata": {},
   "outputs": [
    {
     "data": {
      "text/plain": [
       "2"
      ]
     },
     "execution_count": 195,
     "metadata": {},
     "output_type": "execute_result"
    }
   ],
   "source": [
    "gen_fib(3)"
   ]
  },
  {
   "cell_type": "code",
   "execution_count": null,
   "id": "488e19a0-4c92-4269-b5d8-3ac5c699256e",
   "metadata": {},
   "outputs": [],
   "source": [
    "100 --"
   ]
  },
  {
   "cell_type": "code",
   "execution_count": 173,
   "id": "0325194e-3786-4f4f-a892-68ee9eb09e93",
   "metadata": {},
   "outputs": [],
   "source": [
    "def sum_till_n(n) : \n",
    "    if n ==1 :\n",
    "        return 1 \n",
    "    else :\n",
    "        return n+ sum_till_n(n-1)"
   ]
  },
  {
   "cell_type": "code",
   "execution_count": 174,
   "id": "d8d3019d-7898-4dee-a7fb-40d8828907ca",
   "metadata": {},
   "outputs": [
    {
     "data": {
      "text/plain": [
       "15"
      ]
     },
     "execution_count": 174,
     "metadata": {},
     "output_type": "execute_result"
    }
   ],
   "source": [
    "sum_till_n(5)"
   ]
  },
  {
   "cell_type": "code",
   "execution_count": null,
   "id": "a71fd985-83d4-46b6-8d7a-3e21bbeeb808",
   "metadata": {},
   "outputs": [],
   "source": [
    "recusssion \n",
    "while loop\n",
    "iterrator , iterable , generator \n",
    "zip \n",
    "enumeration\n",
    "decorators \n",
    "comprehension \n"
   ]
  },
  {
   "cell_type": "code",
   "execution_count": 188,
   "id": "e2756d82-4280-4485-b540-1104da5d1681",
   "metadata": {},
   "outputs": [
    {
     "name": "stdin",
     "output_type": "stream",
     "text": [
      "enter a number  89\n"
     ]
    }
   ],
   "source": [
    "a = int(input(\"enter a number \"))\n"
   ]
  },
  {
   "cell_type": "code",
   "execution_count": 186,
   "id": "7dd95f6b-904c-4cd4-87df-737366cd83a4",
   "metadata": {},
   "outputs": [],
   "source": [
    "l = []"
   ]
  },
  {
   "cell_type": "code",
   "execution_count": 189,
   "id": "b463cc86-f88e-4ef3-9391-6a324b9d8876",
   "metadata": {},
   "outputs": [],
   "source": [
    "\n",
    "l.append(a)"
   ]
  },
  {
   "cell_type": "code",
   "execution_count": 190,
   "id": "ace98d4f-c938-42e8-9cb8-9bcb43156d6b",
   "metadata": {},
   "outputs": [
    {
     "data": {
      "text/plain": [
       "[9, 89]"
      ]
     },
     "execution_count": 190,
     "metadata": {},
     "output_type": "execute_result"
    }
   ],
   "source": [
    "l"
   ]
  },
  {
   "cell_type": "code",
   "execution_count": 191,
   "id": "841be200-de20-4d2f-885c-7755a8c19318",
   "metadata": {},
   "outputs": [],
   "source": [
    "def check_prime(n):\n",
    "    if n <= 1 : \n",
    "        return False \n",
    "    elif n <=3 :\n",
    "        return  True \n",
    "    elif n%2 == 0 or n%3 == 0 :\n",
    "        return False \n",
    "    i = 5 \n",
    "    while i*i <=n:\n",
    "        if n %i == 0 or n %(i+2) == 0 :\n",
    "            return False \n",
    "        i+=6 \n",
    "    return True \n",
    "\n",
    "prime = [i for i in range(2,100) if check_prime(i)]\n",
    "        "
   ]
  },
  {
   "cell_type": "code",
   "execution_count": 192,
   "id": "2dafee7f-d2ba-480d-ac3e-aad33b70174f",
   "metadata": {},
   "outputs": [
    {
     "data": {
      "text/plain": [
       "[2,\n",
       " 3,\n",
       " 5,\n",
       " 7,\n",
       " 11,\n",
       " 13,\n",
       " 17,\n",
       " 19,\n",
       " 23,\n",
       " 29,\n",
       " 31,\n",
       " 37,\n",
       " 41,\n",
       " 43,\n",
       " 47,\n",
       " 53,\n",
       " 59,\n",
       " 61,\n",
       " 67,\n",
       " 71,\n",
       " 73,\n",
       " 79,\n",
       " 83,\n",
       " 89,\n",
       " 97]"
      ]
     },
     "execution_count": 192,
     "metadata": {},
     "output_type": "execute_result"
    }
   ],
   "source": [
    "prime"
   ]
  },
  {
   "cell_type": "code",
   "execution_count": 193,
   "id": "d2601bbb-7ebb-4db5-b592-34fe71dd1896",
   "metadata": {},
   "outputs": [
    {
     "data": {
      "text/plain": [
       "[]"
      ]
     },
     "execution_count": 193,
     "metadata": {},
     "output_type": "execute_result"
    }
   ],
   "source": [
    "lj=[\"sudg\",\"subh\",\"arac\",\"assume\"]\n",
    "list(filter(lambda a: len(a)<4, lj))\n"
   ]
  },
  {
   "cell_type": "code",
   "execution_count": 196,
   "id": "2496b1a8-747b-4701-a31d-a5aa5a1309c8",
   "metadata": {},
   "outputs": [],
   "source": [
    "l = [2,5,6]"
   ]
  },
  {
   "cell_type": "code",
   "execution_count": 197,
   "id": "9c2465f6-ba0a-41bb-be8e-0f0300d6628f",
   "metadata": {},
   "outputs": [],
   "source": [
    "l.append(\"sudh\")"
   ]
  },
  {
   "cell_type": "code",
   "execution_count": 198,
   "id": "f98b614a-6e59-4581-ae9a-206cf05e6d99",
   "metadata": {},
   "outputs": [
    {
     "data": {
      "text/plain": [
       "[2, 5, 6, 'sudh']"
      ]
     },
     "execution_count": 198,
     "metadata": {},
     "output_type": "execute_result"
    }
   ],
   "source": [
    "l"
   ]
  },
  {
   "cell_type": "code",
   "execution_count": null,
   "id": "c055fe2c-20bc-4e12-851e-3ddf845124eb",
   "metadata": {},
   "outputs": [],
   "source": []
  }
 ],
 "metadata": {
  "kernelspec": {
   "display_name": "Python 3 (ipykernel)",
   "language": "python",
   "name": "python3"
  },
  "language_info": {
   "codemirror_mode": {
    "name": "ipython",
    "version": 3
   },
   "file_extension": ".py",
   "mimetype": "text/x-python",
   "name": "python",
   "nbconvert_exporter": "python",
   "pygments_lexer": "ipython3",
   "version": "3.10.8"
  }
 },
 "nbformat": 4,
 "nbformat_minor": 5
}
