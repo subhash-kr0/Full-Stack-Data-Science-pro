{
 "cells": [
  {
   "cell_type": "code",
   "execution_count": 1,
   "id": "e9ff7e7b-d1fd-4808-a643-53453ebc45fb",
   "metadata": {},
   "outputs": [],
   "source": [
    "from sklearn.datasets import make_classification\n",
    "from sklearn.model_selection import train_test_split\n",
    "from sklearn.ensemble import GradientBoostingClassifier\n",
    "from sklearn.metrics import accuracy_score, classification_report, confusion_matrix, r2_score\n",
    "\n",
    "\n",
    "\n",
    "import warnings\n",
    "warnings.filterwarnings('ignore')"
   ]
  },
  {
   "cell_type": "code",
   "execution_count": 2,
   "id": "9d704812-c5f1-421d-a941-e207ed00b99e",
   "metadata": {},
   "outputs": [],
   "source": [
    "X, y = make_classification(n_samples=1000, n_features=20, n_classes=2, random_state=1)"
   ]
  },
  {
   "cell_type": "code",
   "execution_count": 3,
   "id": "03e8940e-ea87-420a-b5ce-6404cbdf7f08",
   "metadata": {},
   "outputs": [],
   "source": [
    "X_train, X_test, y_train, y_test = train_test_split(X, y, test_size = 0.33, random_state=1)"
   ]
  },
  {
   "cell_type": "code",
   "execution_count": 4,
   "id": "86c86b92-dbb2-4dac-8d79-e8106569e79d",
   "metadata": {},
   "outputs": [
    {
     "data": {
      "text/html": [
       "<style>#sk-container-id-1 {color: black;background-color: white;}#sk-container-id-1 pre{padding: 0;}#sk-container-id-1 div.sk-toggleable {background-color: white;}#sk-container-id-1 label.sk-toggleable__label {cursor: pointer;display: block;width: 100%;margin-bottom: 0;padding: 0.3em;box-sizing: border-box;text-align: center;}#sk-container-id-1 label.sk-toggleable__label-arrow:before {content: \"▸\";float: left;margin-right: 0.25em;color: #696969;}#sk-container-id-1 label.sk-toggleable__label-arrow:hover:before {color: black;}#sk-container-id-1 div.sk-estimator:hover label.sk-toggleable__label-arrow:before {color: black;}#sk-container-id-1 div.sk-toggleable__content {max-height: 0;max-width: 0;overflow: hidden;text-align: left;background-color: #f0f8ff;}#sk-container-id-1 div.sk-toggleable__content pre {margin: 0.2em;color: black;border-radius: 0.25em;background-color: #f0f8ff;}#sk-container-id-1 input.sk-toggleable__control:checked~div.sk-toggleable__content {max-height: 200px;max-width: 100%;overflow: auto;}#sk-container-id-1 input.sk-toggleable__control:checked~label.sk-toggleable__label-arrow:before {content: \"▾\";}#sk-container-id-1 div.sk-estimator input.sk-toggleable__control:checked~label.sk-toggleable__label {background-color: #d4ebff;}#sk-container-id-1 div.sk-label input.sk-toggleable__control:checked~label.sk-toggleable__label {background-color: #d4ebff;}#sk-container-id-1 input.sk-hidden--visually {border: 0;clip: rect(1px 1px 1px 1px);clip: rect(1px, 1px, 1px, 1px);height: 1px;margin: -1px;overflow: hidden;padding: 0;position: absolute;width: 1px;}#sk-container-id-1 div.sk-estimator {font-family: monospace;background-color: #f0f8ff;border: 1px dotted black;border-radius: 0.25em;box-sizing: border-box;margin-bottom: 0.5em;}#sk-container-id-1 div.sk-estimator:hover {background-color: #d4ebff;}#sk-container-id-1 div.sk-parallel-item::after {content: \"\";width: 100%;border-bottom: 1px solid gray;flex-grow: 1;}#sk-container-id-1 div.sk-label:hover label.sk-toggleable__label {background-color: #d4ebff;}#sk-container-id-1 div.sk-serial::before {content: \"\";position: absolute;border-left: 1px solid gray;box-sizing: border-box;top: 0;bottom: 0;left: 50%;z-index: 0;}#sk-container-id-1 div.sk-serial {display: flex;flex-direction: column;align-items: center;background-color: white;padding-right: 0.2em;padding-left: 0.2em;position: relative;}#sk-container-id-1 div.sk-item {position: relative;z-index: 1;}#sk-container-id-1 div.sk-parallel {display: flex;align-items: stretch;justify-content: center;background-color: white;position: relative;}#sk-container-id-1 div.sk-item::before, #sk-container-id-1 div.sk-parallel-item::before {content: \"\";position: absolute;border-left: 1px solid gray;box-sizing: border-box;top: 0;bottom: 0;left: 50%;z-index: -1;}#sk-container-id-1 div.sk-parallel-item {display: flex;flex-direction: column;z-index: 1;position: relative;background-color: white;}#sk-container-id-1 div.sk-parallel-item:first-child::after {align-self: flex-end;width: 50%;}#sk-container-id-1 div.sk-parallel-item:last-child::after {align-self: flex-start;width: 50%;}#sk-container-id-1 div.sk-parallel-item:only-child::after {width: 0;}#sk-container-id-1 div.sk-dashed-wrapped {border: 1px dashed gray;margin: 0 0.4em 0.5em 0.4em;box-sizing: border-box;padding-bottom: 0.4em;background-color: white;}#sk-container-id-1 div.sk-label label {font-family: monospace;font-weight: bold;display: inline-block;line-height: 1.2em;}#sk-container-id-1 div.sk-label-container {text-align: center;}#sk-container-id-1 div.sk-container {/* jupyter's `normalize.less` sets `[hidden] { display: none; }` but bootstrap.min.css set `[hidden] { display: none !important; }` so we also need the `!important` here to be able to override the default hidden behavior on the sphinx rendered scikit-learn.org. See: https://github.com/scikit-learn/scikit-learn/issues/21755 */display: inline-block !important;position: relative;}#sk-container-id-1 div.sk-text-repr-fallback {display: none;}</style><div id=\"sk-container-id-1\" class=\"sk-top-container\"><div class=\"sk-text-repr-fallback\"><pre>GradientBoostingClassifier()</pre><b>In a Jupyter environment, please rerun this cell to show the HTML representation or trust the notebook. <br />On GitHub, the HTML representation is unable to render, please try loading this page with nbviewer.org.</b></div><div class=\"sk-container\" hidden><div class=\"sk-item\"><div class=\"sk-estimator sk-toggleable\"><input class=\"sk-toggleable__control sk-hidden--visually\" id=\"sk-estimator-id-1\" type=\"checkbox\" checked><label for=\"sk-estimator-id-1\" class=\"sk-toggleable__label sk-toggleable__label-arrow\">GradientBoostingClassifier</label><div class=\"sk-toggleable__content\"><pre>GradientBoostingClassifier()</pre></div></div></div></div></div>"
      ],
      "text/plain": [
       "GradientBoostingClassifier()"
      ]
     },
     "execution_count": 4,
     "metadata": {},
     "output_type": "execute_result"
    }
   ],
   "source": [
    "classifier = GradientBoostingClassifier()\n",
    "classifier.fit(X_train, y_train)"
   ]
  },
  {
   "cell_type": "code",
   "execution_count": 5,
   "id": "811a6f3d-2e40-43c7-8a77-c957b77e142b",
   "metadata": {},
   "outputs": [
    {
     "name": "stdout",
     "output_type": "stream",
     "text": [
      "acc 0.8484848484848485\n",
      "clf_report               precision    recall  f1-score   support\n",
      "\n",
      "           0       0.82      0.86      0.84       154\n",
      "           1       0.87      0.84      0.86       176\n",
      "\n",
      "    accuracy                           0.85       330\n",
      "   macro avg       0.85      0.85      0.85       330\n",
      "weighted avg       0.85      0.85      0.85       330\n",
      "\n",
      "con_mat [[132  22]\n",
      " [ 28 148]]\n"
     ]
    }
   ],
   "source": [
    "y_pred = classifier.predict(X_test)\n",
    "print(\"acc\", accuracy_score(y_test, y_pred))\n",
    "print(\"clf_report\", classification_report(y_test, y_pred))\n",
    "print(\"con_mat\", confusion_matrix(y_test, y_pred))"
   ]
  },
  {
   "cell_type": "code",
   "execution_count": 6,
   "id": "452af886-6ca4-402c-a049-db1e01c5ce90",
   "metadata": {},
   "outputs": [
    {
     "data": {
      "text/html": [
       "<style>#sk-container-id-2 {color: black;background-color: white;}#sk-container-id-2 pre{padding: 0;}#sk-container-id-2 div.sk-toggleable {background-color: white;}#sk-container-id-2 label.sk-toggleable__label {cursor: pointer;display: block;width: 100%;margin-bottom: 0;padding: 0.3em;box-sizing: border-box;text-align: center;}#sk-container-id-2 label.sk-toggleable__label-arrow:before {content: \"▸\";float: left;margin-right: 0.25em;color: #696969;}#sk-container-id-2 label.sk-toggleable__label-arrow:hover:before {color: black;}#sk-container-id-2 div.sk-estimator:hover label.sk-toggleable__label-arrow:before {color: black;}#sk-container-id-2 div.sk-toggleable__content {max-height: 0;max-width: 0;overflow: hidden;text-align: left;background-color: #f0f8ff;}#sk-container-id-2 div.sk-toggleable__content pre {margin: 0.2em;color: black;border-radius: 0.25em;background-color: #f0f8ff;}#sk-container-id-2 input.sk-toggleable__control:checked~div.sk-toggleable__content {max-height: 200px;max-width: 100%;overflow: auto;}#sk-container-id-2 input.sk-toggleable__control:checked~label.sk-toggleable__label-arrow:before {content: \"▾\";}#sk-container-id-2 div.sk-estimator input.sk-toggleable__control:checked~label.sk-toggleable__label {background-color: #d4ebff;}#sk-container-id-2 div.sk-label input.sk-toggleable__control:checked~label.sk-toggleable__label {background-color: #d4ebff;}#sk-container-id-2 input.sk-hidden--visually {border: 0;clip: rect(1px 1px 1px 1px);clip: rect(1px, 1px, 1px, 1px);height: 1px;margin: -1px;overflow: hidden;padding: 0;position: absolute;width: 1px;}#sk-container-id-2 div.sk-estimator {font-family: monospace;background-color: #f0f8ff;border: 1px dotted black;border-radius: 0.25em;box-sizing: border-box;margin-bottom: 0.5em;}#sk-container-id-2 div.sk-estimator:hover {background-color: #d4ebff;}#sk-container-id-2 div.sk-parallel-item::after {content: \"\";width: 100%;border-bottom: 1px solid gray;flex-grow: 1;}#sk-container-id-2 div.sk-label:hover label.sk-toggleable__label {background-color: #d4ebff;}#sk-container-id-2 div.sk-serial::before {content: \"\";position: absolute;border-left: 1px solid gray;box-sizing: border-box;top: 0;bottom: 0;left: 50%;z-index: 0;}#sk-container-id-2 div.sk-serial {display: flex;flex-direction: column;align-items: center;background-color: white;padding-right: 0.2em;padding-left: 0.2em;position: relative;}#sk-container-id-2 div.sk-item {position: relative;z-index: 1;}#sk-container-id-2 div.sk-parallel {display: flex;align-items: stretch;justify-content: center;background-color: white;position: relative;}#sk-container-id-2 div.sk-item::before, #sk-container-id-2 div.sk-parallel-item::before {content: \"\";position: absolute;border-left: 1px solid gray;box-sizing: border-box;top: 0;bottom: 0;left: 50%;z-index: -1;}#sk-container-id-2 div.sk-parallel-item {display: flex;flex-direction: column;z-index: 1;position: relative;background-color: white;}#sk-container-id-2 div.sk-parallel-item:first-child::after {align-self: flex-end;width: 50%;}#sk-container-id-2 div.sk-parallel-item:last-child::after {align-self: flex-start;width: 50%;}#sk-container-id-2 div.sk-parallel-item:only-child::after {width: 0;}#sk-container-id-2 div.sk-dashed-wrapped {border: 1px dashed gray;margin: 0 0.4em 0.5em 0.4em;box-sizing: border-box;padding-bottom: 0.4em;background-color: white;}#sk-container-id-2 div.sk-label label {font-family: monospace;font-weight: bold;display: inline-block;line-height: 1.2em;}#sk-container-id-2 div.sk-label-container {text-align: center;}#sk-container-id-2 div.sk-container {/* jupyter's `normalize.less` sets `[hidden] { display: none; }` but bootstrap.min.css set `[hidden] { display: none !important; }` so we also need the `!important` here to be able to override the default hidden behavior on the sphinx rendered scikit-learn.org. See: https://github.com/scikit-learn/scikit-learn/issues/21755 */display: inline-block !important;position: relative;}#sk-container-id-2 div.sk-text-repr-fallback {display: none;}</style><div id=\"sk-container-id-2\" class=\"sk-top-container\"><div class=\"sk-text-repr-fallback\"><pre>GridSearchCV(cv=5, estimator=GradientBoostingClassifier(),\n",
       "             param_grid={&#x27;ccp_alpha&#x27;: [1, 2],\n",
       "                         &#x27;learning_rate&#x27;: [0.001, 0.1, 1, 1.5, 2, 2.5],\n",
       "                         &#x27;n_estimators&#x27;: [50, 100, 200]},\n",
       "             verbose=3)</pre><b>In a Jupyter environment, please rerun this cell to show the HTML representation or trust the notebook. <br />On GitHub, the HTML representation is unable to render, please try loading this page with nbviewer.org.</b></div><div class=\"sk-container\" hidden><div class=\"sk-item sk-dashed-wrapped\"><div class=\"sk-label-container\"><div class=\"sk-label sk-toggleable\"><input class=\"sk-toggleable__control sk-hidden--visually\" id=\"sk-estimator-id-2\" type=\"checkbox\" ><label for=\"sk-estimator-id-2\" class=\"sk-toggleable__label sk-toggleable__label-arrow\">GridSearchCV</label><div class=\"sk-toggleable__content\"><pre>GridSearchCV(cv=5, estimator=GradientBoostingClassifier(),\n",
       "             param_grid={&#x27;ccp_alpha&#x27;: [1, 2],\n",
       "                         &#x27;learning_rate&#x27;: [0.001, 0.1, 1, 1.5, 2, 2.5],\n",
       "                         &#x27;n_estimators&#x27;: [50, 100, 200]},\n",
       "             verbose=3)</pre></div></div></div><div class=\"sk-parallel\"><div class=\"sk-parallel-item\"><div class=\"sk-item\"><div class=\"sk-label-container\"><div class=\"sk-label sk-toggleable\"><input class=\"sk-toggleable__control sk-hidden--visually\" id=\"sk-estimator-id-3\" type=\"checkbox\" ><label for=\"sk-estimator-id-3\" class=\"sk-toggleable__label sk-toggleable__label-arrow\">estimator: GradientBoostingClassifier</label><div class=\"sk-toggleable__content\"><pre>GradientBoostingClassifier()</pre></div></div></div><div class=\"sk-serial\"><div class=\"sk-item\"><div class=\"sk-estimator sk-toggleable\"><input class=\"sk-toggleable__control sk-hidden--visually\" id=\"sk-estimator-id-4\" type=\"checkbox\" ><label for=\"sk-estimator-id-4\" class=\"sk-toggleable__label sk-toggleable__label-arrow\">GradientBoostingClassifier</label><div class=\"sk-toggleable__content\"><pre>GradientBoostingClassifier()</pre></div></div></div></div></div></div></div></div></div></div>"
      ],
      "text/plain": [
       "GridSearchCV(cv=5, estimator=GradientBoostingClassifier(),\n",
       "             param_grid={'ccp_alpha': [1, 2],\n",
       "                         'learning_rate': [0.001, 0.1, 1, 1.5, 2, 2.5],\n",
       "                         'n_estimators': [50, 100, 200]},\n",
       "             verbose=3)"
      ]
     },
     "execution_count": 6,
     "metadata": {},
     "output_type": "execute_result"
    }
   ],
   "source": [
    "from sklearn.model_selection import GridSearchCV\n",
    "param_grid = {\"n_estimators\": [50, 100, 200],\n",
    "             \"learning_rate\": [0.001, 0.1, 1, 1.5, 2, 2.5],\n",
    "             \"ccp_alpha\": [1, 2]}\n",
    "\n",
    "gdc =  GradientBoostingClassifier()\n",
    "\n",
    "clf = GridSearchCV(estimator=gdc, param_grid=param_grid, cv = 5, verbose = 3)\n",
    "clf"
   ]
  },
  {
   "cell_type": "code",
   "execution_count": 7,
   "id": "fa08011e-f6f5-4651-adde-e10835585f73",
   "metadata": {},
   "outputs": [
    {
     "name": "stdout",
     "output_type": "stream",
     "text": [
      "Fitting 5 folds for each of 36 candidates, totalling 180 fits\n",
      "[CV 1/5] END ccp_alpha=1, learning_rate=0.001, n_estimators=50;, score=0.515 total time=   0.3s\n",
      "[CV 2/5] END ccp_alpha=1, learning_rate=0.001, n_estimators=50;, score=0.515 total time=   0.2s\n",
      "[CV 3/5] END ccp_alpha=1, learning_rate=0.001, n_estimators=50;, score=0.515 total time=   0.2s\n",
      "[CV 4/5] END ccp_alpha=1, learning_rate=0.001, n_estimators=50;, score=0.522 total time=   0.3s\n",
      "[CV 5/5] END ccp_alpha=1, learning_rate=0.001, n_estimators=50;, score=0.522 total time=   0.3s\n",
      "[CV 1/5] END ccp_alpha=1, learning_rate=0.001, n_estimators=100;, score=0.515 total time=   0.5s\n",
      "[CV 2/5] END ccp_alpha=1, learning_rate=0.001, n_estimators=100;, score=0.515 total time=   0.5s\n",
      "[CV 3/5] END ccp_alpha=1, learning_rate=0.001, n_estimators=100;, score=0.515 total time=   0.5s\n",
      "[CV 4/5] END ccp_alpha=1, learning_rate=0.001, n_estimators=100;, score=0.522 total time=   0.5s\n",
      "[CV 5/5] END ccp_alpha=1, learning_rate=0.001, n_estimators=100;, score=0.522 total time=   0.5s\n",
      "[CV 1/5] END ccp_alpha=1, learning_rate=0.001, n_estimators=200;, score=0.515 total time=   1.0s\n",
      "[CV 2/5] END ccp_alpha=1, learning_rate=0.001, n_estimators=200;, score=0.515 total time=   1.0s\n",
      "[CV 3/5] END ccp_alpha=1, learning_rate=0.001, n_estimators=200;, score=0.515 total time=   1.0s\n",
      "[CV 4/5] END ccp_alpha=1, learning_rate=0.001, n_estimators=200;, score=0.522 total time=   1.0s\n",
      "[CV 5/5] END ccp_alpha=1, learning_rate=0.001, n_estimators=200;, score=0.522 total time=   1.0s\n",
      "[CV 1/5] END ccp_alpha=1, learning_rate=0.1, n_estimators=50;, score=0.515 total time=   0.3s\n",
      "[CV 2/5] END ccp_alpha=1, learning_rate=0.1, n_estimators=50;, score=0.515 total time=   0.3s\n",
      "[CV 3/5] END ccp_alpha=1, learning_rate=0.1, n_estimators=50;, score=0.515 total time=   0.2s\n",
      "[CV 4/5] END ccp_alpha=1, learning_rate=0.1, n_estimators=50;, score=0.522 total time=   0.3s\n",
      "[CV 5/5] END ccp_alpha=1, learning_rate=0.1, n_estimators=50;, score=0.522 total time=   0.3s\n",
      "[CV 1/5] END ccp_alpha=1, learning_rate=0.1, n_estimators=100;, score=0.515 total time=   0.5s\n",
      "[CV 2/5] END ccp_alpha=1, learning_rate=0.1, n_estimators=100;, score=0.515 total time=   0.5s\n",
      "[CV 3/5] END ccp_alpha=1, learning_rate=0.1, n_estimators=100;, score=0.515 total time=   0.5s\n",
      "[CV 4/5] END ccp_alpha=1, learning_rate=0.1, n_estimators=100;, score=0.522 total time=   0.5s\n",
      "[CV 5/5] END ccp_alpha=1, learning_rate=0.1, n_estimators=100;, score=0.522 total time=   0.5s\n",
      "[CV 1/5] END ccp_alpha=1, learning_rate=0.1, n_estimators=200;, score=0.515 total time=   1.0s\n",
      "[CV 2/5] END ccp_alpha=1, learning_rate=0.1, n_estimators=200;, score=0.515 total time=   1.0s\n",
      "[CV 3/5] END ccp_alpha=1, learning_rate=0.1, n_estimators=200;, score=0.515 total time=   1.0s\n",
      "[CV 4/5] END ccp_alpha=1, learning_rate=0.1, n_estimators=200;, score=0.522 total time=   1.0s\n",
      "[CV 5/5] END ccp_alpha=1, learning_rate=0.1, n_estimators=200;, score=0.522 total time=   1.0s\n",
      "[CV 1/5] END ccp_alpha=1, learning_rate=1, n_estimators=50;, score=0.515 total time=   0.2s\n",
      "[CV 2/5] END ccp_alpha=1, learning_rate=1, n_estimators=50;, score=0.515 total time=   0.3s\n",
      "[CV 3/5] END ccp_alpha=1, learning_rate=1, n_estimators=50;, score=0.515 total time=   0.3s\n",
      "[CV 4/5] END ccp_alpha=1, learning_rate=1, n_estimators=50;, score=0.522 total time=   0.2s\n",
      "[CV 5/5] END ccp_alpha=1, learning_rate=1, n_estimators=50;, score=0.522 total time=   0.2s\n",
      "[CV 1/5] END ccp_alpha=1, learning_rate=1, n_estimators=100;, score=0.515 total time=   0.5s\n",
      "[CV 2/5] END ccp_alpha=1, learning_rate=1, n_estimators=100;, score=0.515 total time=   0.5s\n",
      "[CV 3/5] END ccp_alpha=1, learning_rate=1, n_estimators=100;, score=0.515 total time=   0.5s\n",
      "[CV 4/5] END ccp_alpha=1, learning_rate=1, n_estimators=100;, score=0.522 total time=   0.5s\n",
      "[CV 5/5] END ccp_alpha=1, learning_rate=1, n_estimators=100;, score=0.522 total time=   0.5s\n",
      "[CV 1/5] END ccp_alpha=1, learning_rate=1, n_estimators=200;, score=0.515 total time=   1.0s\n",
      "[CV 2/5] END ccp_alpha=1, learning_rate=1, n_estimators=200;, score=0.515 total time=   1.0s\n",
      "[CV 3/5] END ccp_alpha=1, learning_rate=1, n_estimators=200;, score=0.515 total time=   1.0s\n",
      "[CV 4/5] END ccp_alpha=1, learning_rate=1, n_estimators=200;, score=0.522 total time=   1.0s\n",
      "[CV 5/5] END ccp_alpha=1, learning_rate=1, n_estimators=200;, score=0.522 total time=   1.0s\n",
      "[CV 1/5] END ccp_alpha=1, learning_rate=1.5, n_estimators=50;, score=0.515 total time=   0.3s\n",
      "[CV 2/5] END ccp_alpha=1, learning_rate=1.5, n_estimators=50;, score=0.515 total time=   0.2s\n",
      "[CV 3/5] END ccp_alpha=1, learning_rate=1.5, n_estimators=50;, score=0.515 total time=   0.3s\n",
      "[CV 4/5] END ccp_alpha=1, learning_rate=1.5, n_estimators=50;, score=0.522 total time=   0.3s\n",
      "[CV 5/5] END ccp_alpha=1, learning_rate=1.5, n_estimators=50;, score=0.522 total time=   0.3s\n",
      "[CV 1/5] END ccp_alpha=1, learning_rate=1.5, n_estimators=100;, score=0.515 total time=   0.5s\n",
      "[CV 2/5] END ccp_alpha=1, learning_rate=1.5, n_estimators=100;, score=0.515 total time=   0.5s\n",
      "[CV 3/5] END ccp_alpha=1, learning_rate=1.5, n_estimators=100;, score=0.515 total time=   0.5s\n",
      "[CV 4/5] END ccp_alpha=1, learning_rate=1.5, n_estimators=100;, score=0.522 total time=   0.5s\n",
      "[CV 5/5] END ccp_alpha=1, learning_rate=1.5, n_estimators=100;, score=0.522 total time=   0.5s\n",
      "[CV 1/5] END ccp_alpha=1, learning_rate=1.5, n_estimators=200;, score=0.515 total time=   1.0s\n",
      "[CV 2/5] END ccp_alpha=1, learning_rate=1.5, n_estimators=200;, score=0.515 total time=   1.0s\n",
      "[CV 3/5] END ccp_alpha=1, learning_rate=1.5, n_estimators=200;, score=0.515 total time=   1.0s\n",
      "[CV 4/5] END ccp_alpha=1, learning_rate=1.5, n_estimators=200;, score=0.522 total time=   1.0s\n",
      "[CV 5/5] END ccp_alpha=1, learning_rate=1.5, n_estimators=200;, score=0.522 total time=   1.0s\n",
      "[CV 1/5] END ccp_alpha=1, learning_rate=2, n_estimators=50;, score=0.515 total time=   0.2s\n",
      "[CV 2/5] END ccp_alpha=1, learning_rate=2, n_estimators=50;, score=0.515 total time=   0.3s\n",
      "[CV 3/5] END ccp_alpha=1, learning_rate=2, n_estimators=50;, score=0.515 total time=   0.2s\n",
      "[CV 4/5] END ccp_alpha=1, learning_rate=2, n_estimators=50;, score=0.522 total time=   0.3s\n",
      "[CV 5/5] END ccp_alpha=1, learning_rate=2, n_estimators=50;, score=0.522 total time=   0.3s\n",
      "[CV 1/5] END ccp_alpha=1, learning_rate=2, n_estimators=100;, score=0.515 total time=   0.5s\n",
      "[CV 2/5] END ccp_alpha=1, learning_rate=2, n_estimators=100;, score=0.515 total time=   0.5s\n",
      "[CV 3/5] END ccp_alpha=1, learning_rate=2, n_estimators=100;, score=0.515 total time=   0.5s\n",
      "[CV 4/5] END ccp_alpha=1, learning_rate=2, n_estimators=100;, score=0.522 total time=   0.5s\n",
      "[CV 5/5] END ccp_alpha=1, learning_rate=2, n_estimators=100;, score=0.522 total time=   0.5s\n",
      "[CV 1/5] END ccp_alpha=1, learning_rate=2, n_estimators=200;, score=0.515 total time=   1.0s\n",
      "[CV 2/5] END ccp_alpha=1, learning_rate=2, n_estimators=200;, score=0.515 total time=   1.0s\n",
      "[CV 3/5] END ccp_alpha=1, learning_rate=2, n_estimators=200;, score=0.515 total time=   1.0s\n",
      "[CV 4/5] END ccp_alpha=1, learning_rate=2, n_estimators=200;, score=0.522 total time=   1.0s\n",
      "[CV 5/5] END ccp_alpha=1, learning_rate=2, n_estimators=200;, score=0.522 total time=   1.0s\n",
      "[CV 1/5] END ccp_alpha=1, learning_rate=2.5, n_estimators=50;, score=0.515 total time=   0.3s\n",
      "[CV 2/5] END ccp_alpha=1, learning_rate=2.5, n_estimators=50;, score=0.515 total time=   0.3s\n",
      "[CV 3/5] END ccp_alpha=1, learning_rate=2.5, n_estimators=50;, score=0.515 total time=   0.3s\n",
      "[CV 4/5] END ccp_alpha=1, learning_rate=2.5, n_estimators=50;, score=0.522 total time=   0.2s\n",
      "[CV 5/5] END ccp_alpha=1, learning_rate=2.5, n_estimators=50;, score=0.522 total time=   0.2s\n",
      "[CV 1/5] END ccp_alpha=1, learning_rate=2.5, n_estimators=100;, score=0.485 total time=   0.5s\n",
      "[CV 2/5] END ccp_alpha=1, learning_rate=2.5, n_estimators=100;, score=0.485 total time=   0.5s\n",
      "[CV 3/5] END ccp_alpha=1, learning_rate=2.5, n_estimators=100;, score=0.485 total time=   0.5s\n",
      "[CV 4/5] END ccp_alpha=1, learning_rate=2.5, n_estimators=100;, score=0.478 total time=   0.5s\n",
      "[CV 5/5] END ccp_alpha=1, learning_rate=2.5, n_estimators=100;, score=0.478 total time=   0.5s\n",
      "[CV 1/5] END ccp_alpha=1, learning_rate=2.5, n_estimators=200;, score=0.485 total time=   1.0s\n",
      "[CV 2/5] END ccp_alpha=1, learning_rate=2.5, n_estimators=200;, score=0.485 total time=   1.0s\n",
      "[CV 3/5] END ccp_alpha=1, learning_rate=2.5, n_estimators=200;, score=0.485 total time=   1.0s\n",
      "[CV 4/5] END ccp_alpha=1, learning_rate=2.5, n_estimators=200;, score=0.478 total time=   1.0s\n",
      "[CV 5/5] END ccp_alpha=1, learning_rate=2.5, n_estimators=200;, score=0.478 total time=   1.0s\n",
      "[CV 1/5] END ccp_alpha=2, learning_rate=0.001, n_estimators=50;, score=0.515 total time=   0.2s\n",
      "[CV 2/5] END ccp_alpha=2, learning_rate=0.001, n_estimators=50;, score=0.515 total time=   0.2s\n",
      "[CV 3/5] END ccp_alpha=2, learning_rate=0.001, n_estimators=50;, score=0.515 total time=   0.2s\n",
      "[CV 4/5] END ccp_alpha=2, learning_rate=0.001, n_estimators=50;, score=0.522 total time=   0.2s\n",
      "[CV 5/5] END ccp_alpha=2, learning_rate=0.001, n_estimators=50;, score=0.522 total time=   0.2s\n",
      "[CV 1/5] END ccp_alpha=2, learning_rate=0.001, n_estimators=100;, score=0.515 total time=   0.5s\n",
      "[CV 2/5] END ccp_alpha=2, learning_rate=0.001, n_estimators=100;, score=0.515 total time=   0.5s\n",
      "[CV 3/5] END ccp_alpha=2, learning_rate=0.001, n_estimators=100;, score=0.515 total time=   0.5s\n",
      "[CV 4/5] END ccp_alpha=2, learning_rate=0.001, n_estimators=100;, score=0.522 total time=   0.5s\n",
      "[CV 5/5] END ccp_alpha=2, learning_rate=0.001, n_estimators=100;, score=0.522 total time=   0.5s\n",
      "[CV 1/5] END ccp_alpha=2, learning_rate=0.001, n_estimators=200;, score=0.515 total time=   1.0s\n",
      "[CV 2/5] END ccp_alpha=2, learning_rate=0.001, n_estimators=200;, score=0.515 total time=   1.0s\n",
      "[CV 3/5] END ccp_alpha=2, learning_rate=0.001, n_estimators=200;, score=0.515 total time=   1.0s\n",
      "[CV 4/5] END ccp_alpha=2, learning_rate=0.001, n_estimators=200;, score=0.522 total time=   1.0s\n",
      "[CV 5/5] END ccp_alpha=2, learning_rate=0.001, n_estimators=200;, score=0.522 total time=   1.0s\n",
      "[CV 1/5] END ccp_alpha=2, learning_rate=0.1, n_estimators=50;, score=0.515 total time=   0.3s\n",
      "[CV 2/5] END ccp_alpha=2, learning_rate=0.1, n_estimators=50;, score=0.515 total time=   0.2s\n",
      "[CV 3/5] END ccp_alpha=2, learning_rate=0.1, n_estimators=50;, score=0.515 total time=   0.2s\n",
      "[CV 4/5] END ccp_alpha=2, learning_rate=0.1, n_estimators=50;, score=0.522 total time=   0.2s\n",
      "[CV 5/5] END ccp_alpha=2, learning_rate=0.1, n_estimators=50;, score=0.522 total time=   0.2s\n",
      "[CV 1/5] END ccp_alpha=2, learning_rate=0.1, n_estimators=100;, score=0.515 total time=   0.5s\n",
      "[CV 2/5] END ccp_alpha=2, learning_rate=0.1, n_estimators=100;, score=0.515 total time=   0.5s\n",
      "[CV 3/5] END ccp_alpha=2, learning_rate=0.1, n_estimators=100;, score=0.515 total time=   0.5s\n",
      "[CV 4/5] END ccp_alpha=2, learning_rate=0.1, n_estimators=100;, score=0.522 total time=   0.5s\n",
      "[CV 5/5] END ccp_alpha=2, learning_rate=0.1, n_estimators=100;, score=0.522 total time=   0.5s\n",
      "[CV 1/5] END ccp_alpha=2, learning_rate=0.1, n_estimators=200;, score=0.515 total time=   1.0s\n",
      "[CV 2/5] END ccp_alpha=2, learning_rate=0.1, n_estimators=200;, score=0.515 total time=   1.0s\n",
      "[CV 3/5] END ccp_alpha=2, learning_rate=0.1, n_estimators=200;, score=0.515 total time=   1.0s\n",
      "[CV 4/5] END ccp_alpha=2, learning_rate=0.1, n_estimators=200;, score=0.522 total time=   1.0s\n",
      "[CV 5/5] END ccp_alpha=2, learning_rate=0.1, n_estimators=200;, score=0.522 total time=   1.0s\n",
      "[CV 1/5] END ccp_alpha=2, learning_rate=1, n_estimators=50;, score=0.515 total time=   0.3s\n",
      "[CV 2/5] END ccp_alpha=2, learning_rate=1, n_estimators=50;, score=0.515 total time=   0.2s\n",
      "[CV 3/5] END ccp_alpha=2, learning_rate=1, n_estimators=50;, score=0.515 total time=   0.3s\n",
      "[CV 4/5] END ccp_alpha=2, learning_rate=1, n_estimators=50;, score=0.522 total time=   0.3s\n",
      "[CV 5/5] END ccp_alpha=2, learning_rate=1, n_estimators=50;, score=0.522 total time=   0.2s\n",
      "[CV 1/5] END ccp_alpha=2, learning_rate=1, n_estimators=100;, score=0.515 total time=   0.5s\n",
      "[CV 2/5] END ccp_alpha=2, learning_rate=1, n_estimators=100;, score=0.515 total time=   0.5s\n",
      "[CV 3/5] END ccp_alpha=2, learning_rate=1, n_estimators=100;, score=0.515 total time=   0.5s\n",
      "[CV 4/5] END ccp_alpha=2, learning_rate=1, n_estimators=100;, score=0.522 total time=   0.5s\n",
      "[CV 5/5] END ccp_alpha=2, learning_rate=1, n_estimators=100;, score=0.522 total time=   0.5s\n",
      "[CV 1/5] END ccp_alpha=2, learning_rate=1, n_estimators=200;, score=0.515 total time=   1.0s\n",
      "[CV 2/5] END ccp_alpha=2, learning_rate=1, n_estimators=200;, score=0.515 total time=   1.0s\n",
      "[CV 3/5] END ccp_alpha=2, learning_rate=1, n_estimators=200;, score=0.515 total time=   1.0s\n",
      "[CV 4/5] END ccp_alpha=2, learning_rate=1, n_estimators=200;, score=0.522 total time=   1.0s\n",
      "[CV 5/5] END ccp_alpha=2, learning_rate=1, n_estimators=200;, score=0.522 total time=   1.0s\n",
      "[CV 1/5] END ccp_alpha=2, learning_rate=1.5, n_estimators=50;, score=0.515 total time=   0.2s\n",
      "[CV 2/5] END ccp_alpha=2, learning_rate=1.5, n_estimators=50;, score=0.515 total time=   0.3s\n",
      "[CV 3/5] END ccp_alpha=2, learning_rate=1.5, n_estimators=50;, score=0.515 total time=   0.3s\n",
      "[CV 4/5] END ccp_alpha=2, learning_rate=1.5, n_estimators=50;, score=0.522 total time=   0.3s\n",
      "[CV 5/5] END ccp_alpha=2, learning_rate=1.5, n_estimators=50;, score=0.522 total time=   0.3s\n",
      "[CV 1/5] END ccp_alpha=2, learning_rate=1.5, n_estimators=100;, score=0.515 total time=   0.5s\n",
      "[CV 2/5] END ccp_alpha=2, learning_rate=1.5, n_estimators=100;, score=0.515 total time=   0.5s\n",
      "[CV 3/5] END ccp_alpha=2, learning_rate=1.5, n_estimators=100;, score=0.515 total time=   0.5s\n",
      "[CV 4/5] END ccp_alpha=2, learning_rate=1.5, n_estimators=100;, score=0.522 total time=   0.5s\n",
      "[CV 5/5] END ccp_alpha=2, learning_rate=1.5, n_estimators=100;, score=0.522 total time=   0.5s\n",
      "[CV 1/5] END ccp_alpha=2, learning_rate=1.5, n_estimators=200;, score=0.515 total time=   1.0s\n",
      "[CV 2/5] END ccp_alpha=2, learning_rate=1.5, n_estimators=200;, score=0.515 total time=   1.0s\n",
      "[CV 3/5] END ccp_alpha=2, learning_rate=1.5, n_estimators=200;, score=0.515 total time=   1.0s\n",
      "[CV 4/5] END ccp_alpha=2, learning_rate=1.5, n_estimators=200;, score=0.522 total time=   1.0s\n",
      "[CV 5/5] END ccp_alpha=2, learning_rate=1.5, n_estimators=200;, score=0.522 total time=   1.0s\n",
      "[CV 1/5] END ccp_alpha=2, learning_rate=2, n_estimators=50;, score=0.515 total time=   0.3s\n",
      "[CV 2/5] END ccp_alpha=2, learning_rate=2, n_estimators=50;, score=0.515 total time=   0.3s\n",
      "[CV 3/5] END ccp_alpha=2, learning_rate=2, n_estimators=50;, score=0.515 total time=   0.2s\n",
      "[CV 4/5] END ccp_alpha=2, learning_rate=2, n_estimators=50;, score=0.522 total time=   0.3s\n",
      "[CV 5/5] END ccp_alpha=2, learning_rate=2, n_estimators=50;, score=0.522 total time=   0.2s\n",
      "[CV 1/5] END ccp_alpha=2, learning_rate=2, n_estimators=100;, score=0.515 total time=   0.5s\n",
      "[CV 2/5] END ccp_alpha=2, learning_rate=2, n_estimators=100;, score=0.515 total time=   0.5s\n",
      "[CV 3/5] END ccp_alpha=2, learning_rate=2, n_estimators=100;, score=0.515 total time=   0.5s\n",
      "[CV 4/5] END ccp_alpha=2, learning_rate=2, n_estimators=100;, score=0.522 total time=   0.5s\n",
      "[CV 5/5] END ccp_alpha=2, learning_rate=2, n_estimators=100;, score=0.522 total time=   0.5s\n",
      "[CV 1/5] END ccp_alpha=2, learning_rate=2, n_estimators=200;, score=0.515 total time=   1.0s\n",
      "[CV 2/5] END ccp_alpha=2, learning_rate=2, n_estimators=200;, score=0.515 total time=   1.0s\n",
      "[CV 3/5] END ccp_alpha=2, learning_rate=2, n_estimators=200;, score=0.515 total time=   1.0s\n",
      "[CV 4/5] END ccp_alpha=2, learning_rate=2, n_estimators=200;, score=0.522 total time=   1.0s\n",
      "[CV 5/5] END ccp_alpha=2, learning_rate=2, n_estimators=200;, score=0.522 total time=   1.0s\n",
      "[CV 1/5] END ccp_alpha=2, learning_rate=2.5, n_estimators=50;, score=0.515 total time=   0.3s\n",
      "[CV 2/5] END ccp_alpha=2, learning_rate=2.5, n_estimators=50;, score=0.515 total time=   0.3s\n",
      "[CV 3/5] END ccp_alpha=2, learning_rate=2.5, n_estimators=50;, score=0.515 total time=   0.2s\n",
      "[CV 4/5] END ccp_alpha=2, learning_rate=2.5, n_estimators=50;, score=0.522 total time=   0.3s\n",
      "[CV 5/5] END ccp_alpha=2, learning_rate=2.5, n_estimators=50;, score=0.522 total time=   0.2s\n",
      "[CV 1/5] END ccp_alpha=2, learning_rate=2.5, n_estimators=100;, score=0.485 total time=   0.5s\n",
      "[CV 2/5] END ccp_alpha=2, learning_rate=2.5, n_estimators=100;, score=0.485 total time=   0.5s\n",
      "[CV 3/5] END ccp_alpha=2, learning_rate=2.5, n_estimators=100;, score=0.485 total time=   0.5s\n",
      "[CV 4/5] END ccp_alpha=2, learning_rate=2.5, n_estimators=100;, score=0.478 total time=   0.5s\n",
      "[CV 5/5] END ccp_alpha=2, learning_rate=2.5, n_estimators=100;, score=0.478 total time=   0.5s\n",
      "[CV 1/5] END ccp_alpha=2, learning_rate=2.5, n_estimators=200;, score=0.485 total time=   1.0s\n",
      "[CV 2/5] END ccp_alpha=2, learning_rate=2.5, n_estimators=200;, score=0.485 total time=   1.0s\n",
      "[CV 3/5] END ccp_alpha=2, learning_rate=2.5, n_estimators=200;, score=0.485 total time=   1.0s\n",
      "[CV 4/5] END ccp_alpha=2, learning_rate=2.5, n_estimators=200;, score=0.478 total time=   1.0s\n",
      "[CV 5/5] END ccp_alpha=2, learning_rate=2.5, n_estimators=200;, score=0.478 total time=   1.0s\n"
     ]
    },
    {
     "data": {
      "text/html": [
       "<style>#sk-container-id-3 {color: black;background-color: white;}#sk-container-id-3 pre{padding: 0;}#sk-container-id-3 div.sk-toggleable {background-color: white;}#sk-container-id-3 label.sk-toggleable__label {cursor: pointer;display: block;width: 100%;margin-bottom: 0;padding: 0.3em;box-sizing: border-box;text-align: center;}#sk-container-id-3 label.sk-toggleable__label-arrow:before {content: \"▸\";float: left;margin-right: 0.25em;color: #696969;}#sk-container-id-3 label.sk-toggleable__label-arrow:hover:before {color: black;}#sk-container-id-3 div.sk-estimator:hover label.sk-toggleable__label-arrow:before {color: black;}#sk-container-id-3 div.sk-toggleable__content {max-height: 0;max-width: 0;overflow: hidden;text-align: left;background-color: #f0f8ff;}#sk-container-id-3 div.sk-toggleable__content pre {margin: 0.2em;color: black;border-radius: 0.25em;background-color: #f0f8ff;}#sk-container-id-3 input.sk-toggleable__control:checked~div.sk-toggleable__content {max-height: 200px;max-width: 100%;overflow: auto;}#sk-container-id-3 input.sk-toggleable__control:checked~label.sk-toggleable__label-arrow:before {content: \"▾\";}#sk-container-id-3 div.sk-estimator input.sk-toggleable__control:checked~label.sk-toggleable__label {background-color: #d4ebff;}#sk-container-id-3 div.sk-label input.sk-toggleable__control:checked~label.sk-toggleable__label {background-color: #d4ebff;}#sk-container-id-3 input.sk-hidden--visually {border: 0;clip: rect(1px 1px 1px 1px);clip: rect(1px, 1px, 1px, 1px);height: 1px;margin: -1px;overflow: hidden;padding: 0;position: absolute;width: 1px;}#sk-container-id-3 div.sk-estimator {font-family: monospace;background-color: #f0f8ff;border: 1px dotted black;border-radius: 0.25em;box-sizing: border-box;margin-bottom: 0.5em;}#sk-container-id-3 div.sk-estimator:hover {background-color: #d4ebff;}#sk-container-id-3 div.sk-parallel-item::after {content: \"\";width: 100%;border-bottom: 1px solid gray;flex-grow: 1;}#sk-container-id-3 div.sk-label:hover label.sk-toggleable__label {background-color: #d4ebff;}#sk-container-id-3 div.sk-serial::before {content: \"\";position: absolute;border-left: 1px solid gray;box-sizing: border-box;top: 0;bottom: 0;left: 50%;z-index: 0;}#sk-container-id-3 div.sk-serial {display: flex;flex-direction: column;align-items: center;background-color: white;padding-right: 0.2em;padding-left: 0.2em;position: relative;}#sk-container-id-3 div.sk-item {position: relative;z-index: 1;}#sk-container-id-3 div.sk-parallel {display: flex;align-items: stretch;justify-content: center;background-color: white;position: relative;}#sk-container-id-3 div.sk-item::before, #sk-container-id-3 div.sk-parallel-item::before {content: \"\";position: absolute;border-left: 1px solid gray;box-sizing: border-box;top: 0;bottom: 0;left: 50%;z-index: -1;}#sk-container-id-3 div.sk-parallel-item {display: flex;flex-direction: column;z-index: 1;position: relative;background-color: white;}#sk-container-id-3 div.sk-parallel-item:first-child::after {align-self: flex-end;width: 50%;}#sk-container-id-3 div.sk-parallel-item:last-child::after {align-self: flex-start;width: 50%;}#sk-container-id-3 div.sk-parallel-item:only-child::after {width: 0;}#sk-container-id-3 div.sk-dashed-wrapped {border: 1px dashed gray;margin: 0 0.4em 0.5em 0.4em;box-sizing: border-box;padding-bottom: 0.4em;background-color: white;}#sk-container-id-3 div.sk-label label {font-family: monospace;font-weight: bold;display: inline-block;line-height: 1.2em;}#sk-container-id-3 div.sk-label-container {text-align: center;}#sk-container-id-3 div.sk-container {/* jupyter's `normalize.less` sets `[hidden] { display: none; }` but bootstrap.min.css set `[hidden] { display: none !important; }` so we also need the `!important` here to be able to override the default hidden behavior on the sphinx rendered scikit-learn.org. See: https://github.com/scikit-learn/scikit-learn/issues/21755 */display: inline-block !important;position: relative;}#sk-container-id-3 div.sk-text-repr-fallback {display: none;}</style><div id=\"sk-container-id-3\" class=\"sk-top-container\"><div class=\"sk-text-repr-fallback\"><pre>GridSearchCV(cv=5, estimator=GradientBoostingClassifier(),\n",
       "             param_grid={&#x27;ccp_alpha&#x27;: [1, 2],\n",
       "                         &#x27;learning_rate&#x27;: [0.001, 0.1, 1, 1.5, 2, 2.5],\n",
       "                         &#x27;n_estimators&#x27;: [50, 100, 200]},\n",
       "             verbose=3)</pre><b>In a Jupyter environment, please rerun this cell to show the HTML representation or trust the notebook. <br />On GitHub, the HTML representation is unable to render, please try loading this page with nbviewer.org.</b></div><div class=\"sk-container\" hidden><div class=\"sk-item sk-dashed-wrapped\"><div class=\"sk-label-container\"><div class=\"sk-label sk-toggleable\"><input class=\"sk-toggleable__control sk-hidden--visually\" id=\"sk-estimator-id-5\" type=\"checkbox\" ><label for=\"sk-estimator-id-5\" class=\"sk-toggleable__label sk-toggleable__label-arrow\">GridSearchCV</label><div class=\"sk-toggleable__content\"><pre>GridSearchCV(cv=5, estimator=GradientBoostingClassifier(),\n",
       "             param_grid={&#x27;ccp_alpha&#x27;: [1, 2],\n",
       "                         &#x27;learning_rate&#x27;: [0.001, 0.1, 1, 1.5, 2, 2.5],\n",
       "                         &#x27;n_estimators&#x27;: [50, 100, 200]},\n",
       "             verbose=3)</pre></div></div></div><div class=\"sk-parallel\"><div class=\"sk-parallel-item\"><div class=\"sk-item\"><div class=\"sk-label-container\"><div class=\"sk-label sk-toggleable\"><input class=\"sk-toggleable__control sk-hidden--visually\" id=\"sk-estimator-id-6\" type=\"checkbox\" ><label for=\"sk-estimator-id-6\" class=\"sk-toggleable__label sk-toggleable__label-arrow\">estimator: GradientBoostingClassifier</label><div class=\"sk-toggleable__content\"><pre>GradientBoostingClassifier()</pre></div></div></div><div class=\"sk-serial\"><div class=\"sk-item\"><div class=\"sk-estimator sk-toggleable\"><input class=\"sk-toggleable__control sk-hidden--visually\" id=\"sk-estimator-id-7\" type=\"checkbox\" ><label for=\"sk-estimator-id-7\" class=\"sk-toggleable__label sk-toggleable__label-arrow\">GradientBoostingClassifier</label><div class=\"sk-toggleable__content\"><pre>GradientBoostingClassifier()</pre></div></div></div></div></div></div></div></div></div></div>"
      ],
      "text/plain": [
       "GridSearchCV(cv=5, estimator=GradientBoostingClassifier(),\n",
       "             param_grid={'ccp_alpha': [1, 2],\n",
       "                         'learning_rate': [0.001, 0.1, 1, 1.5, 2, 2.5],\n",
       "                         'n_estimators': [50, 100, 200]},\n",
       "             verbose=3)"
      ]
     },
     "execution_count": 7,
     "metadata": {},
     "output_type": "execute_result"
    }
   ],
   "source": [
    "clf.fit(X_train, y_train)"
   ]
  },
  {
   "cell_type": "code",
   "execution_count": 8,
   "id": "aec11ffa-5061-49f7-bb80-9fbb277b9ce3",
   "metadata": {},
   "outputs": [
    {
     "data": {
      "text/plain": [
       "{'ccp_alpha': 1, 'learning_rate': 0.001, 'n_estimators': 50}"
      ]
     },
     "execution_count": 8,
     "metadata": {},
     "output_type": "execute_result"
    }
   ],
   "source": [
    "clf.best_params_"
   ]
  },
  {
   "cell_type": "code",
   "execution_count": 9,
   "id": "2436fd0c-327a-4027-8874-9bac6689389e",
   "metadata": {},
   "outputs": [
    {
     "data": {
      "text/plain": [
       "0.5179104477611941"
      ]
     },
     "execution_count": 9,
     "metadata": {},
     "output_type": "execute_result"
    }
   ],
   "source": [
    "clf.best_score_"
   ]
  },
  {
   "cell_type": "code",
   "execution_count": 10,
   "id": "f65ef7b7-87e6-4c82-9aa7-9ed351847821",
   "metadata": {},
   "outputs": [],
   "source": [
    "best_model = clf.best_estimator_\n",
    "y_pred = best_model.predict(X_test)"
   ]
  },
  {
   "cell_type": "code",
   "execution_count": 11,
   "id": "8fbe2849-e0b7-4737-b432-9e4d3329c9a1",
   "metadata": {},
   "outputs": [
    {
     "data": {
      "text/plain": [
       "0.4666666666666667"
      ]
     },
     "execution_count": 11,
     "metadata": {},
     "output_type": "execute_result"
    }
   ],
   "source": [
    "accuracy_score(y_test, y_pred)"
   ]
  },
  {
   "cell_type": "code",
   "execution_count": 12,
   "id": "16aa128e-3703-40b3-9ae5-20385e134498",
   "metadata": {},
   "outputs": [],
   "source": [
    "#Gradient regressor\n",
    "from sklearn.datasets import make_regression\n",
    "from sklearn.model_selection import train_test_split\n",
    "from sklearn.ensemble import GradientBoostingRegressor\n",
    "\n",
    "\n"
   ]
  },
  {
   "cell_type": "code",
   "execution_count": 13,
   "id": "64bcf7bc-fd08-4f48-95d4-4415e2bf17bc",
   "metadata": {},
   "outputs": [],
   "source": [
    "X, y = make_regression(n_samples=1000, n_features=2, noise = 10, random_state=1)\n",
    "X_train, X_test, y_train, y_test = train_test_split(X, y, test_size = 0.33, random_state=1)"
   ]
  },
  {
   "cell_type": "code",
   "execution_count": 14,
   "id": "8abad70f-ce14-4416-ba9f-5124c1cabe8b",
   "metadata": {},
   "outputs": [
    {
     "data": {
      "text/html": [
       "<style>#sk-container-id-4 {color: black;background-color: white;}#sk-container-id-4 pre{padding: 0;}#sk-container-id-4 div.sk-toggleable {background-color: white;}#sk-container-id-4 label.sk-toggleable__label {cursor: pointer;display: block;width: 100%;margin-bottom: 0;padding: 0.3em;box-sizing: border-box;text-align: center;}#sk-container-id-4 label.sk-toggleable__label-arrow:before {content: \"▸\";float: left;margin-right: 0.25em;color: #696969;}#sk-container-id-4 label.sk-toggleable__label-arrow:hover:before {color: black;}#sk-container-id-4 div.sk-estimator:hover label.sk-toggleable__label-arrow:before {color: black;}#sk-container-id-4 div.sk-toggleable__content {max-height: 0;max-width: 0;overflow: hidden;text-align: left;background-color: #f0f8ff;}#sk-container-id-4 div.sk-toggleable__content pre {margin: 0.2em;color: black;border-radius: 0.25em;background-color: #f0f8ff;}#sk-container-id-4 input.sk-toggleable__control:checked~div.sk-toggleable__content {max-height: 200px;max-width: 100%;overflow: auto;}#sk-container-id-4 input.sk-toggleable__control:checked~label.sk-toggleable__label-arrow:before {content: \"▾\";}#sk-container-id-4 div.sk-estimator input.sk-toggleable__control:checked~label.sk-toggleable__label {background-color: #d4ebff;}#sk-container-id-4 div.sk-label input.sk-toggleable__control:checked~label.sk-toggleable__label {background-color: #d4ebff;}#sk-container-id-4 input.sk-hidden--visually {border: 0;clip: rect(1px 1px 1px 1px);clip: rect(1px, 1px, 1px, 1px);height: 1px;margin: -1px;overflow: hidden;padding: 0;position: absolute;width: 1px;}#sk-container-id-4 div.sk-estimator {font-family: monospace;background-color: #f0f8ff;border: 1px dotted black;border-radius: 0.25em;box-sizing: border-box;margin-bottom: 0.5em;}#sk-container-id-4 div.sk-estimator:hover {background-color: #d4ebff;}#sk-container-id-4 div.sk-parallel-item::after {content: \"\";width: 100%;border-bottom: 1px solid gray;flex-grow: 1;}#sk-container-id-4 div.sk-label:hover label.sk-toggleable__label {background-color: #d4ebff;}#sk-container-id-4 div.sk-serial::before {content: \"\";position: absolute;border-left: 1px solid gray;box-sizing: border-box;top: 0;bottom: 0;left: 50%;z-index: 0;}#sk-container-id-4 div.sk-serial {display: flex;flex-direction: column;align-items: center;background-color: white;padding-right: 0.2em;padding-left: 0.2em;position: relative;}#sk-container-id-4 div.sk-item {position: relative;z-index: 1;}#sk-container-id-4 div.sk-parallel {display: flex;align-items: stretch;justify-content: center;background-color: white;position: relative;}#sk-container-id-4 div.sk-item::before, #sk-container-id-4 div.sk-parallel-item::before {content: \"\";position: absolute;border-left: 1px solid gray;box-sizing: border-box;top: 0;bottom: 0;left: 50%;z-index: -1;}#sk-container-id-4 div.sk-parallel-item {display: flex;flex-direction: column;z-index: 1;position: relative;background-color: white;}#sk-container-id-4 div.sk-parallel-item:first-child::after {align-self: flex-end;width: 50%;}#sk-container-id-4 div.sk-parallel-item:last-child::after {align-self: flex-start;width: 50%;}#sk-container-id-4 div.sk-parallel-item:only-child::after {width: 0;}#sk-container-id-4 div.sk-dashed-wrapped {border: 1px dashed gray;margin: 0 0.4em 0.5em 0.4em;box-sizing: border-box;padding-bottom: 0.4em;background-color: white;}#sk-container-id-4 div.sk-label label {font-family: monospace;font-weight: bold;display: inline-block;line-height: 1.2em;}#sk-container-id-4 div.sk-label-container {text-align: center;}#sk-container-id-4 div.sk-container {/* jupyter's `normalize.less` sets `[hidden] { display: none; }` but bootstrap.min.css set `[hidden] { display: none !important; }` so we also need the `!important` here to be able to override the default hidden behavior on the sphinx rendered scikit-learn.org. See: https://github.com/scikit-learn/scikit-learn/issues/21755 */display: inline-block !important;position: relative;}#sk-container-id-4 div.sk-text-repr-fallback {display: none;}</style><div id=\"sk-container-id-4\" class=\"sk-top-container\"><div class=\"sk-text-repr-fallback\"><pre>GradientBoostingRegressor()</pre><b>In a Jupyter environment, please rerun this cell to show the HTML representation or trust the notebook. <br />On GitHub, the HTML representation is unable to render, please try loading this page with nbviewer.org.</b></div><div class=\"sk-container\" hidden><div class=\"sk-item\"><div class=\"sk-estimator sk-toggleable\"><input class=\"sk-toggleable__control sk-hidden--visually\" id=\"sk-estimator-id-8\" type=\"checkbox\" checked><label for=\"sk-estimator-id-8\" class=\"sk-toggleable__label sk-toggleable__label-arrow\">GradientBoostingRegressor</label><div class=\"sk-toggleable__content\"><pre>GradientBoostingRegressor()</pre></div></div></div></div></div>"
      ],
      "text/plain": [
       "GradientBoostingRegressor()"
      ]
     },
     "execution_count": 14,
     "metadata": {},
     "output_type": "execute_result"
    }
   ],
   "source": [
    "reg = GradientBoostingRegressor()\n",
    "reg"
   ]
  },
  {
   "cell_type": "code",
   "execution_count": 15,
   "id": "9f12191c-8aab-446f-8921-56f132312328",
   "metadata": {},
   "outputs": [
    {
     "data": {
      "text/html": [
       "<style>#sk-container-id-5 {color: black;background-color: white;}#sk-container-id-5 pre{padding: 0;}#sk-container-id-5 div.sk-toggleable {background-color: white;}#sk-container-id-5 label.sk-toggleable__label {cursor: pointer;display: block;width: 100%;margin-bottom: 0;padding: 0.3em;box-sizing: border-box;text-align: center;}#sk-container-id-5 label.sk-toggleable__label-arrow:before {content: \"▸\";float: left;margin-right: 0.25em;color: #696969;}#sk-container-id-5 label.sk-toggleable__label-arrow:hover:before {color: black;}#sk-container-id-5 div.sk-estimator:hover label.sk-toggleable__label-arrow:before {color: black;}#sk-container-id-5 div.sk-toggleable__content {max-height: 0;max-width: 0;overflow: hidden;text-align: left;background-color: #f0f8ff;}#sk-container-id-5 div.sk-toggleable__content pre {margin: 0.2em;color: black;border-radius: 0.25em;background-color: #f0f8ff;}#sk-container-id-5 input.sk-toggleable__control:checked~div.sk-toggleable__content {max-height: 200px;max-width: 100%;overflow: auto;}#sk-container-id-5 input.sk-toggleable__control:checked~label.sk-toggleable__label-arrow:before {content: \"▾\";}#sk-container-id-5 div.sk-estimator input.sk-toggleable__control:checked~label.sk-toggleable__label {background-color: #d4ebff;}#sk-container-id-5 div.sk-label input.sk-toggleable__control:checked~label.sk-toggleable__label {background-color: #d4ebff;}#sk-container-id-5 input.sk-hidden--visually {border: 0;clip: rect(1px 1px 1px 1px);clip: rect(1px, 1px, 1px, 1px);height: 1px;margin: -1px;overflow: hidden;padding: 0;position: absolute;width: 1px;}#sk-container-id-5 div.sk-estimator {font-family: monospace;background-color: #f0f8ff;border: 1px dotted black;border-radius: 0.25em;box-sizing: border-box;margin-bottom: 0.5em;}#sk-container-id-5 div.sk-estimator:hover {background-color: #d4ebff;}#sk-container-id-5 div.sk-parallel-item::after {content: \"\";width: 100%;border-bottom: 1px solid gray;flex-grow: 1;}#sk-container-id-5 div.sk-label:hover label.sk-toggleable__label {background-color: #d4ebff;}#sk-container-id-5 div.sk-serial::before {content: \"\";position: absolute;border-left: 1px solid gray;box-sizing: border-box;top: 0;bottom: 0;left: 50%;z-index: 0;}#sk-container-id-5 div.sk-serial {display: flex;flex-direction: column;align-items: center;background-color: white;padding-right: 0.2em;padding-left: 0.2em;position: relative;}#sk-container-id-5 div.sk-item {position: relative;z-index: 1;}#sk-container-id-5 div.sk-parallel {display: flex;align-items: stretch;justify-content: center;background-color: white;position: relative;}#sk-container-id-5 div.sk-item::before, #sk-container-id-5 div.sk-parallel-item::before {content: \"\";position: absolute;border-left: 1px solid gray;box-sizing: border-box;top: 0;bottom: 0;left: 50%;z-index: -1;}#sk-container-id-5 div.sk-parallel-item {display: flex;flex-direction: column;z-index: 1;position: relative;background-color: white;}#sk-container-id-5 div.sk-parallel-item:first-child::after {align-self: flex-end;width: 50%;}#sk-container-id-5 div.sk-parallel-item:last-child::after {align-self: flex-start;width: 50%;}#sk-container-id-5 div.sk-parallel-item:only-child::after {width: 0;}#sk-container-id-5 div.sk-dashed-wrapped {border: 1px dashed gray;margin: 0 0.4em 0.5em 0.4em;box-sizing: border-box;padding-bottom: 0.4em;background-color: white;}#sk-container-id-5 div.sk-label label {font-family: monospace;font-weight: bold;display: inline-block;line-height: 1.2em;}#sk-container-id-5 div.sk-label-container {text-align: center;}#sk-container-id-5 div.sk-container {/* jupyter's `normalize.less` sets `[hidden] { display: none; }` but bootstrap.min.css set `[hidden] { display: none !important; }` so we also need the `!important` here to be able to override the default hidden behavior on the sphinx rendered scikit-learn.org. See: https://github.com/scikit-learn/scikit-learn/issues/21755 */display: inline-block !important;position: relative;}#sk-container-id-5 div.sk-text-repr-fallback {display: none;}</style><div id=\"sk-container-id-5\" class=\"sk-top-container\"><div class=\"sk-text-repr-fallback\"><pre>GradientBoostingRegressor()</pre><b>In a Jupyter environment, please rerun this cell to show the HTML representation or trust the notebook. <br />On GitHub, the HTML representation is unable to render, please try loading this page with nbviewer.org.</b></div><div class=\"sk-container\" hidden><div class=\"sk-item\"><div class=\"sk-estimator sk-toggleable\"><input class=\"sk-toggleable__control sk-hidden--visually\" id=\"sk-estimator-id-9\" type=\"checkbox\" checked><label for=\"sk-estimator-id-9\" class=\"sk-toggleable__label sk-toggleable__label-arrow\">GradientBoostingRegressor</label><div class=\"sk-toggleable__content\"><pre>GradientBoostingRegressor()</pre></div></div></div></div></div>"
      ],
      "text/plain": [
       "GradientBoostingRegressor()"
      ]
     },
     "execution_count": 15,
     "metadata": {},
     "output_type": "execute_result"
    }
   ],
   "source": [
    "reg.fit(X_train, y_train)"
   ]
  },
  {
   "cell_type": "code",
   "execution_count": 16,
   "id": "57fb90b5-8720-47a0-b05c-96f18e5994eb",
   "metadata": {},
   "outputs": [
    {
     "data": {
      "text/plain": [
       "0.9823977355224327"
      ]
     },
     "execution_count": 16,
     "metadata": {},
     "output_type": "execute_result"
    }
   ],
   "source": [
    "y_pred = reg.predict(X_test)\n",
    "r2_score(y_test, y_pred)"
   ]
  },
  {
   "cell_type": "code",
   "execution_count": 17,
   "id": "e2218ed9-88df-4705-8438-79ed45963f7b",
   "metadata": {},
   "outputs": [
    {
     "data": {
      "text/html": [
       "<style>#sk-container-id-6 {color: black;background-color: white;}#sk-container-id-6 pre{padding: 0;}#sk-container-id-6 div.sk-toggleable {background-color: white;}#sk-container-id-6 label.sk-toggleable__label {cursor: pointer;display: block;width: 100%;margin-bottom: 0;padding: 0.3em;box-sizing: border-box;text-align: center;}#sk-container-id-6 label.sk-toggleable__label-arrow:before {content: \"▸\";float: left;margin-right: 0.25em;color: #696969;}#sk-container-id-6 label.sk-toggleable__label-arrow:hover:before {color: black;}#sk-container-id-6 div.sk-estimator:hover label.sk-toggleable__label-arrow:before {color: black;}#sk-container-id-6 div.sk-toggleable__content {max-height: 0;max-width: 0;overflow: hidden;text-align: left;background-color: #f0f8ff;}#sk-container-id-6 div.sk-toggleable__content pre {margin: 0.2em;color: black;border-radius: 0.25em;background-color: #f0f8ff;}#sk-container-id-6 input.sk-toggleable__control:checked~div.sk-toggleable__content {max-height: 200px;max-width: 100%;overflow: auto;}#sk-container-id-6 input.sk-toggleable__control:checked~label.sk-toggleable__label-arrow:before {content: \"▾\";}#sk-container-id-6 div.sk-estimator input.sk-toggleable__control:checked~label.sk-toggleable__label {background-color: #d4ebff;}#sk-container-id-6 div.sk-label input.sk-toggleable__control:checked~label.sk-toggleable__label {background-color: #d4ebff;}#sk-container-id-6 input.sk-hidden--visually {border: 0;clip: rect(1px 1px 1px 1px);clip: rect(1px, 1px, 1px, 1px);height: 1px;margin: -1px;overflow: hidden;padding: 0;position: absolute;width: 1px;}#sk-container-id-6 div.sk-estimator {font-family: monospace;background-color: #f0f8ff;border: 1px dotted black;border-radius: 0.25em;box-sizing: border-box;margin-bottom: 0.5em;}#sk-container-id-6 div.sk-estimator:hover {background-color: #d4ebff;}#sk-container-id-6 div.sk-parallel-item::after {content: \"\";width: 100%;border-bottom: 1px solid gray;flex-grow: 1;}#sk-container-id-6 div.sk-label:hover label.sk-toggleable__label {background-color: #d4ebff;}#sk-container-id-6 div.sk-serial::before {content: \"\";position: absolute;border-left: 1px solid gray;box-sizing: border-box;top: 0;bottom: 0;left: 50%;z-index: 0;}#sk-container-id-6 div.sk-serial {display: flex;flex-direction: column;align-items: center;background-color: white;padding-right: 0.2em;padding-left: 0.2em;position: relative;}#sk-container-id-6 div.sk-item {position: relative;z-index: 1;}#sk-container-id-6 div.sk-parallel {display: flex;align-items: stretch;justify-content: center;background-color: white;position: relative;}#sk-container-id-6 div.sk-item::before, #sk-container-id-6 div.sk-parallel-item::before {content: \"\";position: absolute;border-left: 1px solid gray;box-sizing: border-box;top: 0;bottom: 0;left: 50%;z-index: -1;}#sk-container-id-6 div.sk-parallel-item {display: flex;flex-direction: column;z-index: 1;position: relative;background-color: white;}#sk-container-id-6 div.sk-parallel-item:first-child::after {align-self: flex-end;width: 50%;}#sk-container-id-6 div.sk-parallel-item:last-child::after {align-self: flex-start;width: 50%;}#sk-container-id-6 div.sk-parallel-item:only-child::after {width: 0;}#sk-container-id-6 div.sk-dashed-wrapped {border: 1px dashed gray;margin: 0 0.4em 0.5em 0.4em;box-sizing: border-box;padding-bottom: 0.4em;background-color: white;}#sk-container-id-6 div.sk-label label {font-family: monospace;font-weight: bold;display: inline-block;line-height: 1.2em;}#sk-container-id-6 div.sk-label-container {text-align: center;}#sk-container-id-6 div.sk-container {/* jupyter's `normalize.less` sets `[hidden] { display: none; }` but bootstrap.min.css set `[hidden] { display: none !important; }` so we also need the `!important` here to be able to override the default hidden behavior on the sphinx rendered scikit-learn.org. See: https://github.com/scikit-learn/scikit-learn/issues/21755 */display: inline-block !important;position: relative;}#sk-container-id-6 div.sk-text-repr-fallback {display: none;}</style><div id=\"sk-container-id-6\" class=\"sk-top-container\"><div class=\"sk-text-repr-fallback\"><pre>GridSearchCV(cv=5, estimator=GradientBoostingRegressor(),\n",
       "             param_grid={&#x27;learning_rate&#x27;: [0.001, 0.1, 1, 1.5, 2, 2.5],\n",
       "                         &#x27;n_estimators&#x27;: [50, 100, 200]},\n",
       "             verbose=3)</pre><b>In a Jupyter environment, please rerun this cell to show the HTML representation or trust the notebook. <br />On GitHub, the HTML representation is unable to render, please try loading this page with nbviewer.org.</b></div><div class=\"sk-container\" hidden><div class=\"sk-item sk-dashed-wrapped\"><div class=\"sk-label-container\"><div class=\"sk-label sk-toggleable\"><input class=\"sk-toggleable__control sk-hidden--visually\" id=\"sk-estimator-id-10\" type=\"checkbox\" ><label for=\"sk-estimator-id-10\" class=\"sk-toggleable__label sk-toggleable__label-arrow\">GridSearchCV</label><div class=\"sk-toggleable__content\"><pre>GridSearchCV(cv=5, estimator=GradientBoostingRegressor(),\n",
       "             param_grid={&#x27;learning_rate&#x27;: [0.001, 0.1, 1, 1.5, 2, 2.5],\n",
       "                         &#x27;n_estimators&#x27;: [50, 100, 200]},\n",
       "             verbose=3)</pre></div></div></div><div class=\"sk-parallel\"><div class=\"sk-parallel-item\"><div class=\"sk-item\"><div class=\"sk-label-container\"><div class=\"sk-label sk-toggleable\"><input class=\"sk-toggleable__control sk-hidden--visually\" id=\"sk-estimator-id-11\" type=\"checkbox\" ><label for=\"sk-estimator-id-11\" class=\"sk-toggleable__label sk-toggleable__label-arrow\">estimator: GradientBoostingRegressor</label><div class=\"sk-toggleable__content\"><pre>GradientBoostingRegressor()</pre></div></div></div><div class=\"sk-serial\"><div class=\"sk-item\"><div class=\"sk-estimator sk-toggleable\"><input class=\"sk-toggleable__control sk-hidden--visually\" id=\"sk-estimator-id-12\" type=\"checkbox\" ><label for=\"sk-estimator-id-12\" class=\"sk-toggleable__label sk-toggleable__label-arrow\">GradientBoostingRegressor</label><div class=\"sk-toggleable__content\"><pre>GradientBoostingRegressor()</pre></div></div></div></div></div></div></div></div></div></div>"
      ],
      "text/plain": [
       "GridSearchCV(cv=5, estimator=GradientBoostingRegressor(),\n",
       "             param_grid={'learning_rate': [0.001, 0.1, 1, 1.5, 2, 2.5],\n",
       "                         'n_estimators': [50, 100, 200]},\n",
       "             verbose=3)"
      ]
     },
     "execution_count": 17,
     "metadata": {},
     "output_type": "execute_result"
    }
   ],
   "source": [
    "from sklearn.model_selection import GridSearchCV\n",
    "param_grid = {\"n_estimators\": [50, 100, 200],\n",
    "             \"learning_rate\": [0.001, 0.1, 1, 1.5, 2, 2.5],}\n",
    "\n",
    "adr =  GradientBoostingRegressor()\n",
    "\n",
    "reg = GridSearchCV(estimator=adr, param_grid=param_grid, cv = 5, verbose = 3)\n",
    "reg"
   ]
  },
  {
   "cell_type": "code",
   "execution_count": 18,
   "id": "bc9ccc23-4fb6-4560-a191-48282ef84f94",
   "metadata": {},
   "outputs": [
    {
     "name": "stdout",
     "output_type": "stream",
     "text": [
      "Fitting 5 folds for each of 18 candidates, totalling 90 fits\n",
      "[CV 1/5] END learning_rate=0.001, n_estimators=50;, score=0.058 total time=   0.1s\n",
      "[CV 2/5] END learning_rate=0.001, n_estimators=50;, score=0.054 total time=   0.1s\n",
      "[CV 3/5] END learning_rate=0.001, n_estimators=50;, score=0.093 total time=   0.1s\n",
      "[CV 4/5] END learning_rate=0.001, n_estimators=50;, score=0.088 total time=   0.1s\n",
      "[CV 5/5] END learning_rate=0.001, n_estimators=50;, score=0.085 total time=   0.1s\n",
      "[CV 1/5] END learning_rate=0.001, n_estimators=100;, score=0.139 total time=   0.1s\n",
      "[CV 2/5] END learning_rate=0.001, n_estimators=100;, score=0.135 total time=   0.1s\n",
      "[CV 3/5] END learning_rate=0.001, n_estimators=100;, score=0.176 total time=   0.1s\n",
      "[CV 4/5] END learning_rate=0.001, n_estimators=100;, score=0.170 total time=   0.1s\n",
      "[CV 5/5] END learning_rate=0.001, n_estimators=100;, score=0.166 total time=   0.1s\n",
      "[CV 1/5] END learning_rate=0.001, n_estimators=200;, score=0.278 total time=   0.2s\n",
      "[CV 2/5] END learning_rate=0.001, n_estimators=200;, score=0.277 total time=   0.2s\n",
      "[CV 3/5] END learning_rate=0.001, n_estimators=200;, score=0.317 total time=   0.2s\n",
      "[CV 4/5] END learning_rate=0.001, n_estimators=200;, score=0.309 total time=   0.2s\n",
      "[CV 5/5] END learning_rate=0.001, n_estimators=200;, score=0.307 total time=   0.2s\n",
      "[CV 1/5] END learning_rate=0.1, n_estimators=50;, score=0.984 total time=   0.1s\n",
      "[CV 2/5] END learning_rate=0.1, n_estimators=50;, score=0.978 total time=   0.1s\n",
      "[CV 3/5] END learning_rate=0.1, n_estimators=50;, score=0.986 total time=   0.1s\n",
      "[CV 4/5] END learning_rate=0.1, n_estimators=50;, score=0.984 total time=   0.1s\n",
      "[CV 5/5] END learning_rate=0.1, n_estimators=50;, score=0.982 total time=   0.1s\n",
      "[CV 1/5] END learning_rate=0.1, n_estimators=100;, score=0.985 total time=   0.1s\n",
      "[CV 2/5] END learning_rate=0.1, n_estimators=100;, score=0.979 total time=   0.1s\n",
      "[CV 3/5] END learning_rate=0.1, n_estimators=100;, score=0.986 total time=   0.1s\n",
      "[CV 4/5] END learning_rate=0.1, n_estimators=100;, score=0.984 total time=   0.1s\n",
      "[CV 5/5] END learning_rate=0.1, n_estimators=100;, score=0.984 total time=   0.1s\n",
      "[CV 1/5] END learning_rate=0.1, n_estimators=200;, score=0.984 total time=   0.2s\n",
      "[CV 2/5] END learning_rate=0.1, n_estimators=200;, score=0.979 total time=   0.2s\n",
      "[CV 3/5] END learning_rate=0.1, n_estimators=200;, score=0.986 total time=   0.2s\n",
      "[CV 4/5] END learning_rate=0.1, n_estimators=200;, score=0.982 total time=   0.2s\n",
      "[CV 5/5] END learning_rate=0.1, n_estimators=200;, score=0.984 total time=   0.2s\n",
      "[CV 1/5] END ..learning_rate=1, n_estimators=50;, score=0.973 total time=   0.1s\n",
      "[CV 2/5] END ..learning_rate=1, n_estimators=50;, score=0.974 total time=   0.1s\n",
      "[CV 3/5] END ..learning_rate=1, n_estimators=50;, score=0.970 total time=   0.1s\n",
      "[CV 4/5] END ..learning_rate=1, n_estimators=50;, score=0.968 total time=   0.1s\n",
      "[CV 5/5] END ..learning_rate=1, n_estimators=50;, score=0.974 total time=   0.1s\n",
      "[CV 1/5] END .learning_rate=1, n_estimators=100;, score=0.974 total time=   0.1s\n",
      "[CV 2/5] END .learning_rate=1, n_estimators=100;, score=0.974 total time=   0.1s\n",
      "[CV 3/5] END .learning_rate=1, n_estimators=100;, score=0.973 total time=   0.1s\n",
      "[CV 4/5] END .learning_rate=1, n_estimators=100;, score=0.967 total time=   0.1s\n",
      "[CV 5/5] END .learning_rate=1, n_estimators=100;, score=0.973 total time=   0.1s\n",
      "[CV 1/5] END .learning_rate=1, n_estimators=200;, score=0.972 total time=   0.2s\n",
      "[CV 2/5] END .learning_rate=1, n_estimators=200;, score=0.973 total time=   0.2s\n",
      "[CV 3/5] END .learning_rate=1, n_estimators=200;, score=0.972 total time=   0.2s\n",
      "[CV 4/5] END .learning_rate=1, n_estimators=200;, score=0.966 total time=   0.2s\n",
      "[CV 5/5] END .learning_rate=1, n_estimators=200;, score=0.972 total time=   0.2s\n",
      "[CV 1/5] END learning_rate=1.5, n_estimators=50;, score=0.954 total time=   0.1s\n",
      "[CV 2/5] END learning_rate=1.5, n_estimators=50;, score=0.942 total time=   0.1s\n",
      "[CV 3/5] END learning_rate=1.5, n_estimators=50;, score=0.960 total time=   0.1s\n",
      "[CV 4/5] END learning_rate=1.5, n_estimators=50;, score=0.952 total time=   0.1s\n",
      "[CV 5/5] END learning_rate=1.5, n_estimators=50;, score=0.952 total time=   0.1s\n",
      "[CV 1/5] END learning_rate=1.5, n_estimators=100;, score=0.945 total time=   0.1s\n",
      "[CV 2/5] END learning_rate=1.5, n_estimators=100;, score=0.938 total time=   0.1s\n",
      "[CV 3/5] END learning_rate=1.5, n_estimators=100;, score=0.952 total time=   0.1s\n",
      "[CV 4/5] END learning_rate=1.5, n_estimators=100;, score=0.952 total time=   0.1s\n",
      "[CV 5/5] END learning_rate=1.5, n_estimators=100;, score=0.947 total time=   0.1s\n",
      "[CV 1/5] END learning_rate=1.5, n_estimators=200;, score=0.942 total time=   0.2s\n",
      "[CV 2/5] END learning_rate=1.5, n_estimators=200;, score=0.938 total time=   0.2s\n",
      "[CV 3/5] END learning_rate=1.5, n_estimators=200;, score=0.951 total time=   0.2s\n",
      "[CV 4/5] END learning_rate=1.5, n_estimators=200;, score=0.946 total time=   0.2s\n",
      "[CV 5/5] END learning_rate=1.5, n_estimators=200;, score=0.947 total time=   0.2s\n",
      "[CV 1/5] END .learning_rate=2, n_estimators=50;, score=-0.027 total time=   0.1s\n",
      "[CV 2/5] END .learning_rate=2, n_estimators=50;, score=-0.036 total time=   0.1s\n",
      "[CV 3/5] END ..learning_rate=2, n_estimators=50;, score=0.001 total time=   0.1s\n",
      "[CV 4/5] END ..learning_rate=2, n_estimators=50;, score=0.007 total time=   0.1s\n",
      "[CV 5/5] END .learning_rate=2, n_estimators=50;, score=-0.000 total time=   0.1s\n",
      "[CV 1/5] END learning_rate=2, n_estimators=100;, score=-0.027 total time=   0.1s\n",
      "[CV 2/5] END learning_rate=2, n_estimators=100;, score=-0.036 total time=   0.1s\n",
      "[CV 3/5] END .learning_rate=2, n_estimators=100;, score=0.001 total time=   0.1s\n",
      "[CV 4/5] END .learning_rate=2, n_estimators=100;, score=0.007 total time=   0.1s\n",
      "[CV 5/5] END learning_rate=2, n_estimators=100;, score=-0.000 total time=   0.1s\n",
      "[CV 1/5] END learning_rate=2, n_estimators=200;, score=-0.027 total time=   0.2s\n",
      "[CV 2/5] END learning_rate=2, n_estimators=200;, score=-0.036 total time=   0.2s\n",
      "[CV 3/5] END .learning_rate=2, n_estimators=200;, score=0.001 total time=   0.2s\n",
      "[CV 4/5] END .learning_rate=2, n_estimators=200;, score=0.007 total time=   0.2s\n",
      "[CV 5/5] END learning_rate=2, n_estimators=200;, score=-0.000 total time=   0.2s\n",
      "[CV 1/5] END learning_rate=2.5, n_estimators=50;, score=-364903960723195456.000 total time=   0.1s\n",
      "[CV 2/5] END learning_rate=2.5, n_estimators=50;, score=-379120536746205696.000 total time=   0.1s\n",
      "[CV 3/5] END learning_rate=2.5, n_estimators=50;, score=-411847014153721536.000 total time=   0.1s\n",
      "[CV 4/5] END learning_rate=2.5, n_estimators=50;, score=-397006825561689408.000 total time=   0.1s\n",
      "[CV 5/5] END learning_rate=2.5, n_estimators=50;, score=-382846189893362240.000 total time=   0.1s\n",
      "[CV 1/5] END learning_rate=2.5, n_estimators=100;, score=-148355783941672705932991100646064128.000 total time=   0.1s\n",
      "[CV 2/5] END learning_rate=2.5, n_estimators=100;, score=-154135691840109261626548919897948160.000 total time=   0.1s\n",
      "[CV 3/5] END learning_rate=2.5, n_estimators=100;, score=-167441007059150522194406023305887744.000 total time=   0.1s\n",
      "[CV 4/5] END learning_rate=2.5, n_estimators=100;, score=-161407562502944158206764351246827520.000 total time=   0.1s\n",
      "[CV 5/5] END learning_rate=2.5, n_estimators=100;, score=-155650397782910825713945344567410688.000 total time=   0.1s\n",
      "[CV 1/5] END learning_rate=2.5, n_estimators=200;, score=-24522022915778749465981514000130768407759036776894261558214960221257728.000 total time=   0.2s\n",
      "[CV 2/5] END learning_rate=2.5, n_estimators=200;, score=-25477395400562812667886197726956196349792818430913449456876625128849408.000 total time=   0.2s\n",
      "[CV 3/5] END learning_rate=2.5, n_estimators=200;, score=-27676657445050650802645200327656425124693057744455872995462284065112064.000 total time=   0.2s\n",
      "[CV 4/5] END learning_rate=2.5, n_estimators=200;, score=-26679377381290246441372960200776795447733108309239311722513968557719552.000 total time=   0.2s\n",
      "[CV 5/5] END learning_rate=2.5, n_estimators=200;, score=-25727764161748003300805443986677577312892624070218734398099075373203456.000 total time=   0.2s\n"
     ]
    },
    {
     "data": {
      "text/html": [
       "<style>#sk-container-id-7 {color: black;background-color: white;}#sk-container-id-7 pre{padding: 0;}#sk-container-id-7 div.sk-toggleable {background-color: white;}#sk-container-id-7 label.sk-toggleable__label {cursor: pointer;display: block;width: 100%;margin-bottom: 0;padding: 0.3em;box-sizing: border-box;text-align: center;}#sk-container-id-7 label.sk-toggleable__label-arrow:before {content: \"▸\";float: left;margin-right: 0.25em;color: #696969;}#sk-container-id-7 label.sk-toggleable__label-arrow:hover:before {color: black;}#sk-container-id-7 div.sk-estimator:hover label.sk-toggleable__label-arrow:before {color: black;}#sk-container-id-7 div.sk-toggleable__content {max-height: 0;max-width: 0;overflow: hidden;text-align: left;background-color: #f0f8ff;}#sk-container-id-7 div.sk-toggleable__content pre {margin: 0.2em;color: black;border-radius: 0.25em;background-color: #f0f8ff;}#sk-container-id-7 input.sk-toggleable__control:checked~div.sk-toggleable__content {max-height: 200px;max-width: 100%;overflow: auto;}#sk-container-id-7 input.sk-toggleable__control:checked~label.sk-toggleable__label-arrow:before {content: \"▾\";}#sk-container-id-7 div.sk-estimator input.sk-toggleable__control:checked~label.sk-toggleable__label {background-color: #d4ebff;}#sk-container-id-7 div.sk-label input.sk-toggleable__control:checked~label.sk-toggleable__label {background-color: #d4ebff;}#sk-container-id-7 input.sk-hidden--visually {border: 0;clip: rect(1px 1px 1px 1px);clip: rect(1px, 1px, 1px, 1px);height: 1px;margin: -1px;overflow: hidden;padding: 0;position: absolute;width: 1px;}#sk-container-id-7 div.sk-estimator {font-family: monospace;background-color: #f0f8ff;border: 1px dotted black;border-radius: 0.25em;box-sizing: border-box;margin-bottom: 0.5em;}#sk-container-id-7 div.sk-estimator:hover {background-color: #d4ebff;}#sk-container-id-7 div.sk-parallel-item::after {content: \"\";width: 100%;border-bottom: 1px solid gray;flex-grow: 1;}#sk-container-id-7 div.sk-label:hover label.sk-toggleable__label {background-color: #d4ebff;}#sk-container-id-7 div.sk-serial::before {content: \"\";position: absolute;border-left: 1px solid gray;box-sizing: border-box;top: 0;bottom: 0;left: 50%;z-index: 0;}#sk-container-id-7 div.sk-serial {display: flex;flex-direction: column;align-items: center;background-color: white;padding-right: 0.2em;padding-left: 0.2em;position: relative;}#sk-container-id-7 div.sk-item {position: relative;z-index: 1;}#sk-container-id-7 div.sk-parallel {display: flex;align-items: stretch;justify-content: center;background-color: white;position: relative;}#sk-container-id-7 div.sk-item::before, #sk-container-id-7 div.sk-parallel-item::before {content: \"\";position: absolute;border-left: 1px solid gray;box-sizing: border-box;top: 0;bottom: 0;left: 50%;z-index: -1;}#sk-container-id-7 div.sk-parallel-item {display: flex;flex-direction: column;z-index: 1;position: relative;background-color: white;}#sk-container-id-7 div.sk-parallel-item:first-child::after {align-self: flex-end;width: 50%;}#sk-container-id-7 div.sk-parallel-item:last-child::after {align-self: flex-start;width: 50%;}#sk-container-id-7 div.sk-parallel-item:only-child::after {width: 0;}#sk-container-id-7 div.sk-dashed-wrapped {border: 1px dashed gray;margin: 0 0.4em 0.5em 0.4em;box-sizing: border-box;padding-bottom: 0.4em;background-color: white;}#sk-container-id-7 div.sk-label label {font-family: monospace;font-weight: bold;display: inline-block;line-height: 1.2em;}#sk-container-id-7 div.sk-label-container {text-align: center;}#sk-container-id-7 div.sk-container {/* jupyter's `normalize.less` sets `[hidden] { display: none; }` but bootstrap.min.css set `[hidden] { display: none !important; }` so we also need the `!important` here to be able to override the default hidden behavior on the sphinx rendered scikit-learn.org. See: https://github.com/scikit-learn/scikit-learn/issues/21755 */display: inline-block !important;position: relative;}#sk-container-id-7 div.sk-text-repr-fallback {display: none;}</style><div id=\"sk-container-id-7\" class=\"sk-top-container\"><div class=\"sk-text-repr-fallback\"><pre>GridSearchCV(cv=5, estimator=GradientBoostingRegressor(),\n",
       "             param_grid={&#x27;learning_rate&#x27;: [0.001, 0.1, 1, 1.5, 2, 2.5],\n",
       "                         &#x27;n_estimators&#x27;: [50, 100, 200]},\n",
       "             verbose=3)</pre><b>In a Jupyter environment, please rerun this cell to show the HTML representation or trust the notebook. <br />On GitHub, the HTML representation is unable to render, please try loading this page with nbviewer.org.</b></div><div class=\"sk-container\" hidden><div class=\"sk-item sk-dashed-wrapped\"><div class=\"sk-label-container\"><div class=\"sk-label sk-toggleable\"><input class=\"sk-toggleable__control sk-hidden--visually\" id=\"sk-estimator-id-13\" type=\"checkbox\" ><label for=\"sk-estimator-id-13\" class=\"sk-toggleable__label sk-toggleable__label-arrow\">GridSearchCV</label><div class=\"sk-toggleable__content\"><pre>GridSearchCV(cv=5, estimator=GradientBoostingRegressor(),\n",
       "             param_grid={&#x27;learning_rate&#x27;: [0.001, 0.1, 1, 1.5, 2, 2.5],\n",
       "                         &#x27;n_estimators&#x27;: [50, 100, 200]},\n",
       "             verbose=3)</pre></div></div></div><div class=\"sk-parallel\"><div class=\"sk-parallel-item\"><div class=\"sk-item\"><div class=\"sk-label-container\"><div class=\"sk-label sk-toggleable\"><input class=\"sk-toggleable__control sk-hidden--visually\" id=\"sk-estimator-id-14\" type=\"checkbox\" ><label for=\"sk-estimator-id-14\" class=\"sk-toggleable__label sk-toggleable__label-arrow\">estimator: GradientBoostingRegressor</label><div class=\"sk-toggleable__content\"><pre>GradientBoostingRegressor()</pre></div></div></div><div class=\"sk-serial\"><div class=\"sk-item\"><div class=\"sk-estimator sk-toggleable\"><input class=\"sk-toggleable__control sk-hidden--visually\" id=\"sk-estimator-id-15\" type=\"checkbox\" ><label for=\"sk-estimator-id-15\" class=\"sk-toggleable__label sk-toggleable__label-arrow\">GradientBoostingRegressor</label><div class=\"sk-toggleable__content\"><pre>GradientBoostingRegressor()</pre></div></div></div></div></div></div></div></div></div></div>"
      ],
      "text/plain": [
       "GridSearchCV(cv=5, estimator=GradientBoostingRegressor(),\n",
       "             param_grid={'learning_rate': [0.001, 0.1, 1, 1.5, 2, 2.5],\n",
       "                         'n_estimators': [50, 100, 200]},\n",
       "             verbose=3)"
      ]
     },
     "execution_count": 18,
     "metadata": {},
     "output_type": "execute_result"
    }
   ],
   "source": [
    "reg.fit(X_train, y_train)"
   ]
  },
  {
   "cell_type": "code",
   "execution_count": 19,
   "id": "7ec0ac24-dcfd-4cd7-a88b-8b7dc3298d4e",
   "metadata": {},
   "outputs": [
    {
     "data": {
      "text/html": [
       "<style>#sk-container-id-8 {color: black;background-color: white;}#sk-container-id-8 pre{padding: 0;}#sk-container-id-8 div.sk-toggleable {background-color: white;}#sk-container-id-8 label.sk-toggleable__label {cursor: pointer;display: block;width: 100%;margin-bottom: 0;padding: 0.3em;box-sizing: border-box;text-align: center;}#sk-container-id-8 label.sk-toggleable__label-arrow:before {content: \"▸\";float: left;margin-right: 0.25em;color: #696969;}#sk-container-id-8 label.sk-toggleable__label-arrow:hover:before {color: black;}#sk-container-id-8 div.sk-estimator:hover label.sk-toggleable__label-arrow:before {color: black;}#sk-container-id-8 div.sk-toggleable__content {max-height: 0;max-width: 0;overflow: hidden;text-align: left;background-color: #f0f8ff;}#sk-container-id-8 div.sk-toggleable__content pre {margin: 0.2em;color: black;border-radius: 0.25em;background-color: #f0f8ff;}#sk-container-id-8 input.sk-toggleable__control:checked~div.sk-toggleable__content {max-height: 200px;max-width: 100%;overflow: auto;}#sk-container-id-8 input.sk-toggleable__control:checked~label.sk-toggleable__label-arrow:before {content: \"▾\";}#sk-container-id-8 div.sk-estimator input.sk-toggleable__control:checked~label.sk-toggleable__label {background-color: #d4ebff;}#sk-container-id-8 div.sk-label input.sk-toggleable__control:checked~label.sk-toggleable__label {background-color: #d4ebff;}#sk-container-id-8 input.sk-hidden--visually {border: 0;clip: rect(1px 1px 1px 1px);clip: rect(1px, 1px, 1px, 1px);height: 1px;margin: -1px;overflow: hidden;padding: 0;position: absolute;width: 1px;}#sk-container-id-8 div.sk-estimator {font-family: monospace;background-color: #f0f8ff;border: 1px dotted black;border-radius: 0.25em;box-sizing: border-box;margin-bottom: 0.5em;}#sk-container-id-8 div.sk-estimator:hover {background-color: #d4ebff;}#sk-container-id-8 div.sk-parallel-item::after {content: \"\";width: 100%;border-bottom: 1px solid gray;flex-grow: 1;}#sk-container-id-8 div.sk-label:hover label.sk-toggleable__label {background-color: #d4ebff;}#sk-container-id-8 div.sk-serial::before {content: \"\";position: absolute;border-left: 1px solid gray;box-sizing: border-box;top: 0;bottom: 0;left: 50%;z-index: 0;}#sk-container-id-8 div.sk-serial {display: flex;flex-direction: column;align-items: center;background-color: white;padding-right: 0.2em;padding-left: 0.2em;position: relative;}#sk-container-id-8 div.sk-item {position: relative;z-index: 1;}#sk-container-id-8 div.sk-parallel {display: flex;align-items: stretch;justify-content: center;background-color: white;position: relative;}#sk-container-id-8 div.sk-item::before, #sk-container-id-8 div.sk-parallel-item::before {content: \"\";position: absolute;border-left: 1px solid gray;box-sizing: border-box;top: 0;bottom: 0;left: 50%;z-index: -1;}#sk-container-id-8 div.sk-parallel-item {display: flex;flex-direction: column;z-index: 1;position: relative;background-color: white;}#sk-container-id-8 div.sk-parallel-item:first-child::after {align-self: flex-end;width: 50%;}#sk-container-id-8 div.sk-parallel-item:last-child::after {align-self: flex-start;width: 50%;}#sk-container-id-8 div.sk-parallel-item:only-child::after {width: 0;}#sk-container-id-8 div.sk-dashed-wrapped {border: 1px dashed gray;margin: 0 0.4em 0.5em 0.4em;box-sizing: border-box;padding-bottom: 0.4em;background-color: white;}#sk-container-id-8 div.sk-label label {font-family: monospace;font-weight: bold;display: inline-block;line-height: 1.2em;}#sk-container-id-8 div.sk-label-container {text-align: center;}#sk-container-id-8 div.sk-container {/* jupyter's `normalize.less` sets `[hidden] { display: none; }` but bootstrap.min.css set `[hidden] { display: none !important; }` so we also need the `!important` here to be able to override the default hidden behavior on the sphinx rendered scikit-learn.org. See: https://github.com/scikit-learn/scikit-learn/issues/21755 */display: inline-block !important;position: relative;}#sk-container-id-8 div.sk-text-repr-fallback {display: none;}</style><div id=\"sk-container-id-8\" class=\"sk-top-container\"><div class=\"sk-text-repr-fallback\"><pre>GradientBoostingRegressor()</pre><b>In a Jupyter environment, please rerun this cell to show the HTML representation or trust the notebook. <br />On GitHub, the HTML representation is unable to render, please try loading this page with nbviewer.org.</b></div><div class=\"sk-container\" hidden><div class=\"sk-item\"><div class=\"sk-estimator sk-toggleable\"><input class=\"sk-toggleable__control sk-hidden--visually\" id=\"sk-estimator-id-16\" type=\"checkbox\" checked><label for=\"sk-estimator-id-16\" class=\"sk-toggleable__label sk-toggleable__label-arrow\">GradientBoostingRegressor</label><div class=\"sk-toggleable__content\"><pre>GradientBoostingRegressor()</pre></div></div></div></div></div>"
      ],
      "text/plain": [
       "GradientBoostingRegressor()"
      ]
     },
     "execution_count": 19,
     "metadata": {},
     "output_type": "execute_result"
    }
   ],
   "source": [
    "reg.best_estimator_"
   ]
  },
  {
   "cell_type": "code",
   "execution_count": 20,
   "id": "d1284cf4-6f6a-4393-b0cd-eaaf298f2459",
   "metadata": {},
   "outputs": [
    {
     "data": {
      "text/plain": [
       "{'learning_rate': 0.1, 'n_estimators': 100}"
      ]
     },
     "execution_count": 20,
     "metadata": {},
     "output_type": "execute_result"
    }
   ],
   "source": [
    "reg.best_params_"
   ]
  },
  {
   "cell_type": "code",
   "execution_count": 21,
   "id": "613914be-5b1c-45dd-a11f-b0b896319248",
   "metadata": {},
   "outputs": [
    {
     "data": {
      "text/plain": [
       "0.9835295843869132"
      ]
     },
     "execution_count": 21,
     "metadata": {},
     "output_type": "execute_result"
    }
   ],
   "source": [
    "reg.best_score_"
   ]
  },
  {
   "cell_type": "code",
   "execution_count": null,
   "id": "19c11a06-eb46-4445-ad0a-dfef5b4de5a6",
   "metadata": {},
   "outputs": [],
   "source": []
  }
 ],
 "metadata": {
  "kernelspec": {
   "display_name": "Python 3 (ipykernel)",
   "language": "python",
   "name": "python3"
  },
  "language_info": {
   "codemirror_mode": {
    "name": "ipython",
    "version": 3
   },
   "file_extension": ".py",
   "mimetype": "text/x-python",
   "name": "python",
   "nbconvert_exporter": "python",
   "pygments_lexer": "ipython3",
   "version": "3.10.8"
  }
 },
 "nbformat": 4,
 "nbformat_minor": 5
}
