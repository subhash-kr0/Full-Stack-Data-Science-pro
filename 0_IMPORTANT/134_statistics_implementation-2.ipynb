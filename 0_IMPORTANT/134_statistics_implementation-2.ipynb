{
 "cells": [
  {
   "cell_type": "code",
   "execution_count": 1,
   "id": "72fe55df",
   "metadata": {},
   "outputs": [
    {
     "data": {
      "text/plain": [
       "[1, 2, 3, 4, 5]"
      ]
     },
     "execution_count": 1,
     "metadata": {},
     "output_type": "execute_result"
    }
   ],
   "source": [
    "data = [1, 2, 3, 4, 5]\n",
    "data"
   ]
  },
  {
   "cell_type": "code",
   "execution_count": 2,
   "id": "7b8ea3b4",
   "metadata": {},
   "outputs": [],
   "source": [
    "import pandas as pd\n",
    "import numpy as np\n",
    "import seaborn as sns"
   ]
  },
  {
   "cell_type": "code",
   "execution_count": 3,
   "id": "57b821b5",
   "metadata": {},
   "outputs": [
    {
     "data": {
      "text/plain": [
       "3.0"
      ]
     },
     "execution_count": 3,
     "metadata": {},
     "output_type": "execute_result"
    }
   ],
   "source": [
    "#measures of central tendency\n",
    "np.mean(data)"
   ]
  },
  {
   "cell_type": "code",
   "execution_count": 4,
   "id": "db685e2c",
   "metadata": {},
   "outputs": [
    {
     "data": {
      "text/html": [
       "<div>\n",
       "<style scoped>\n",
       "    .dataframe tbody tr th:only-of-type {\n",
       "        vertical-align: middle;\n",
       "    }\n",
       "\n",
       "    .dataframe tbody tr th {\n",
       "        vertical-align: top;\n",
       "    }\n",
       "\n",
       "    .dataframe thead th {\n",
       "        text-align: right;\n",
       "    }\n",
       "</style>\n",
       "<table border=\"1\" class=\"dataframe\">\n",
       "  <thead>\n",
       "    <tr style=\"text-align: right;\">\n",
       "      <th></th>\n",
       "      <th>total_bill</th>\n",
       "      <th>tip</th>\n",
       "      <th>sex</th>\n",
       "      <th>smoker</th>\n",
       "      <th>day</th>\n",
       "      <th>time</th>\n",
       "      <th>size</th>\n",
       "    </tr>\n",
       "  </thead>\n",
       "  <tbody>\n",
       "    <tr>\n",
       "      <th>0</th>\n",
       "      <td>16.99</td>\n",
       "      <td>1.01</td>\n",
       "      <td>Female</td>\n",
       "      <td>No</td>\n",
       "      <td>Sun</td>\n",
       "      <td>Dinner</td>\n",
       "      <td>2</td>\n",
       "    </tr>\n",
       "    <tr>\n",
       "      <th>1</th>\n",
       "      <td>10.34</td>\n",
       "      <td>1.66</td>\n",
       "      <td>Male</td>\n",
       "      <td>No</td>\n",
       "      <td>Sun</td>\n",
       "      <td>Dinner</td>\n",
       "      <td>3</td>\n",
       "    </tr>\n",
       "    <tr>\n",
       "      <th>2</th>\n",
       "      <td>21.01</td>\n",
       "      <td>3.50</td>\n",
       "      <td>Male</td>\n",
       "      <td>No</td>\n",
       "      <td>Sun</td>\n",
       "      <td>Dinner</td>\n",
       "      <td>3</td>\n",
       "    </tr>\n",
       "    <tr>\n",
       "      <th>3</th>\n",
       "      <td>23.68</td>\n",
       "      <td>3.31</td>\n",
       "      <td>Male</td>\n",
       "      <td>No</td>\n",
       "      <td>Sun</td>\n",
       "      <td>Dinner</td>\n",
       "      <td>2</td>\n",
       "    </tr>\n",
       "    <tr>\n",
       "      <th>4</th>\n",
       "      <td>24.59</td>\n",
       "      <td>3.61</td>\n",
       "      <td>Female</td>\n",
       "      <td>No</td>\n",
       "      <td>Sun</td>\n",
       "      <td>Dinner</td>\n",
       "      <td>4</td>\n",
       "    </tr>\n",
       "    <tr>\n",
       "      <th>...</th>\n",
       "      <td>...</td>\n",
       "      <td>...</td>\n",
       "      <td>...</td>\n",
       "      <td>...</td>\n",
       "      <td>...</td>\n",
       "      <td>...</td>\n",
       "      <td>...</td>\n",
       "    </tr>\n",
       "    <tr>\n",
       "      <th>239</th>\n",
       "      <td>29.03</td>\n",
       "      <td>5.92</td>\n",
       "      <td>Male</td>\n",
       "      <td>No</td>\n",
       "      <td>Sat</td>\n",
       "      <td>Dinner</td>\n",
       "      <td>3</td>\n",
       "    </tr>\n",
       "    <tr>\n",
       "      <th>240</th>\n",
       "      <td>27.18</td>\n",
       "      <td>2.00</td>\n",
       "      <td>Female</td>\n",
       "      <td>Yes</td>\n",
       "      <td>Sat</td>\n",
       "      <td>Dinner</td>\n",
       "      <td>2</td>\n",
       "    </tr>\n",
       "    <tr>\n",
       "      <th>241</th>\n",
       "      <td>22.67</td>\n",
       "      <td>2.00</td>\n",
       "      <td>Male</td>\n",
       "      <td>Yes</td>\n",
       "      <td>Sat</td>\n",
       "      <td>Dinner</td>\n",
       "      <td>2</td>\n",
       "    </tr>\n",
       "    <tr>\n",
       "      <th>242</th>\n",
       "      <td>17.82</td>\n",
       "      <td>1.75</td>\n",
       "      <td>Male</td>\n",
       "      <td>No</td>\n",
       "      <td>Sat</td>\n",
       "      <td>Dinner</td>\n",
       "      <td>2</td>\n",
       "    </tr>\n",
       "    <tr>\n",
       "      <th>243</th>\n",
       "      <td>18.78</td>\n",
       "      <td>3.00</td>\n",
       "      <td>Female</td>\n",
       "      <td>No</td>\n",
       "      <td>Thur</td>\n",
       "      <td>Dinner</td>\n",
       "      <td>2</td>\n",
       "    </tr>\n",
       "  </tbody>\n",
       "</table>\n",
       "<p>244 rows × 7 columns</p>\n",
       "</div>"
      ],
      "text/plain": [
       "     total_bill   tip     sex smoker   day    time  size\n",
       "0         16.99  1.01  Female     No   Sun  Dinner     2\n",
       "1         10.34  1.66    Male     No   Sun  Dinner     3\n",
       "2         21.01  3.50    Male     No   Sun  Dinner     3\n",
       "3         23.68  3.31    Male     No   Sun  Dinner     2\n",
       "4         24.59  3.61  Female     No   Sun  Dinner     4\n",
       "..          ...   ...     ...    ...   ...     ...   ...\n",
       "239       29.03  5.92    Male     No   Sat  Dinner     3\n",
       "240       27.18  2.00  Female    Yes   Sat  Dinner     2\n",
       "241       22.67  2.00    Male    Yes   Sat  Dinner     2\n",
       "242       17.82  1.75    Male     No   Sat  Dinner     2\n",
       "243       18.78  3.00  Female     No  Thur  Dinner     2\n",
       "\n",
       "[244 rows x 7 columns]"
      ]
     },
     "execution_count": 4,
     "metadata": {},
     "output_type": "execute_result"
    }
   ],
   "source": [
    "df = sns.load_dataset('tips')\n",
    "df"
   ]
  },
  {
   "cell_type": "code",
   "execution_count": 5,
   "id": "6471883c",
   "metadata": {},
   "outputs": [
    {
     "data": {
      "text/plain": [
       "19.78594262295082"
      ]
     },
     "execution_count": 5,
     "metadata": {},
     "output_type": "execute_result"
    }
   ],
   "source": [
    "np.mean(df['total_bill'])"
   ]
  },
  {
   "cell_type": "code",
   "execution_count": 6,
   "id": "d31663a3",
   "metadata": {},
   "outputs": [
    {
     "data": {
      "text/html": [
       "<div>\n",
       "<style scoped>\n",
       "    .dataframe tbody tr th:only-of-type {\n",
       "        vertical-align: middle;\n",
       "    }\n",
       "\n",
       "    .dataframe tbody tr th {\n",
       "        vertical-align: top;\n",
       "    }\n",
       "\n",
       "    .dataframe thead th {\n",
       "        text-align: right;\n",
       "    }\n",
       "</style>\n",
       "<table border=\"1\" class=\"dataframe\">\n",
       "  <thead>\n",
       "    <tr style=\"text-align: right;\">\n",
       "      <th></th>\n",
       "      <th>total_bill</th>\n",
       "      <th>tip</th>\n",
       "      <th>size</th>\n",
       "    </tr>\n",
       "  </thead>\n",
       "  <tbody>\n",
       "    <tr>\n",
       "      <th>count</th>\n",
       "      <td>244.000000</td>\n",
       "      <td>244.000000</td>\n",
       "      <td>244.000000</td>\n",
       "    </tr>\n",
       "    <tr>\n",
       "      <th>mean</th>\n",
       "      <td>19.785943</td>\n",
       "      <td>2.998279</td>\n",
       "      <td>2.569672</td>\n",
       "    </tr>\n",
       "    <tr>\n",
       "      <th>std</th>\n",
       "      <td>8.902412</td>\n",
       "      <td>1.383638</td>\n",
       "      <td>0.951100</td>\n",
       "    </tr>\n",
       "    <tr>\n",
       "      <th>min</th>\n",
       "      <td>3.070000</td>\n",
       "      <td>1.000000</td>\n",
       "      <td>1.000000</td>\n",
       "    </tr>\n",
       "    <tr>\n",
       "      <th>25%</th>\n",
       "      <td>13.347500</td>\n",
       "      <td>2.000000</td>\n",
       "      <td>2.000000</td>\n",
       "    </tr>\n",
       "    <tr>\n",
       "      <th>50%</th>\n",
       "      <td>17.795000</td>\n",
       "      <td>2.900000</td>\n",
       "      <td>2.000000</td>\n",
       "    </tr>\n",
       "    <tr>\n",
       "      <th>75%</th>\n",
       "      <td>24.127500</td>\n",
       "      <td>3.562500</td>\n",
       "      <td>3.000000</td>\n",
       "    </tr>\n",
       "    <tr>\n",
       "      <th>max</th>\n",
       "      <td>50.810000</td>\n",
       "      <td>10.000000</td>\n",
       "      <td>6.000000</td>\n",
       "    </tr>\n",
       "  </tbody>\n",
       "</table>\n",
       "</div>"
      ],
      "text/plain": [
       "       total_bill         tip        size\n",
       "count  244.000000  244.000000  244.000000\n",
       "mean    19.785943    2.998279    2.569672\n",
       "std      8.902412    1.383638    0.951100\n",
       "min      3.070000    1.000000    1.000000\n",
       "25%     13.347500    2.000000    2.000000\n",
       "50%     17.795000    2.900000    2.000000\n",
       "75%     24.127500    3.562500    3.000000\n",
       "max     50.810000   10.000000    6.000000"
      ]
     },
     "execution_count": 6,
     "metadata": {},
     "output_type": "execute_result"
    }
   ],
   "source": [
    "df.describe()"
   ]
  },
  {
   "cell_type": "code",
   "execution_count": 7,
   "id": "086b1706",
   "metadata": {},
   "outputs": [
    {
     "data": {
      "text/plain": [
       "[1, 2, 3, 4, 5]"
      ]
     },
     "execution_count": 7,
     "metadata": {},
     "output_type": "execute_result"
    }
   ],
   "source": [
    "data"
   ]
  },
  {
   "cell_type": "code",
   "execution_count": 8,
   "id": "9e5dabe3",
   "metadata": {},
   "outputs": [
    {
     "data": {
      "text/plain": [
       "3.0"
      ]
     },
     "execution_count": 8,
     "metadata": {},
     "output_type": "execute_result"
    }
   ],
   "source": [
    "np.median(data)"
   ]
  },
  {
   "cell_type": "code",
   "execution_count": 10,
   "id": "cf7765aa",
   "metadata": {},
   "outputs": [],
   "source": [
    "data = [1, 2, 3, 4, 500]"
   ]
  },
  {
   "cell_type": "code",
   "execution_count": 11,
   "id": "1a4ed9d6",
   "metadata": {},
   "outputs": [
    {
     "data": {
      "text/plain": [
       "102.0"
      ]
     },
     "execution_count": 11,
     "metadata": {},
     "output_type": "execute_result"
    }
   ],
   "source": [
    "np.mean(data)"
   ]
  },
  {
   "cell_type": "code",
   "execution_count": 12,
   "id": "24bf4d33",
   "metadata": {},
   "outputs": [
    {
     "data": {
      "text/plain": [
       "3.0"
      ]
     },
     "execution_count": 12,
     "metadata": {},
     "output_type": "execute_result"
    }
   ],
   "source": [
    "np.median(data)"
   ]
  },
  {
   "cell_type": "code",
   "execution_count": 13,
   "id": "d2dec696",
   "metadata": {},
   "outputs": [],
   "source": [
    "#mean is inflated by outliers but median not"
   ]
  },
  {
   "cell_type": "code",
   "execution_count": 14,
   "id": "e37a4402",
   "metadata": {},
   "outputs": [
    {
     "data": {
      "text/plain": [
       "17.795"
      ]
     },
     "execution_count": 14,
     "metadata": {},
     "output_type": "execute_result"
    }
   ],
   "source": [
    "\n",
    "np.median(df['total_bill'])"
   ]
  },
  {
   "cell_type": "code",
   "execution_count": 17,
   "id": "1a8cce00",
   "metadata": {},
   "outputs": [],
   "source": [
    "data = [1, 2,3, 3, 3, 3, 4, 500]"
   ]
  },
  {
   "cell_type": "code",
   "execution_count": 18,
   "id": "f4e59039",
   "metadata": {},
   "outputs": [
    {
     "data": {
      "text/plain": [
       "[1, 2, 3, 3, 3, 3, 4, 500]"
      ]
     },
     "execution_count": 18,
     "metadata": {},
     "output_type": "execute_result"
    }
   ],
   "source": [
    "data"
   ]
  },
  {
   "cell_type": "code",
   "execution_count": 20,
   "id": "7e31fefd",
   "metadata": {},
   "outputs": [
    {
     "ename": "AttributeError",
     "evalue": "module 'numpy' has no attribute 'mode'",
     "output_type": "error",
     "traceback": [
      "\u001b[1;31m---------------------------------------------------------------------------\u001b[0m",
      "\u001b[1;31mAttributeError\u001b[0m                            Traceback (most recent call last)",
      "Cell \u001b[1;32mIn[20], line 1\u001b[0m\n\u001b[1;32m----> 1\u001b[0m np\u001b[38;5;241m.\u001b[39mmode(data)\n",
      "File \u001b[1;32m~\\anaconda3\\Lib\\site-packages\\numpy\\__init__.py:320\u001b[0m, in \u001b[0;36m__getattr__\u001b[1;34m(attr)\u001b[0m\n\u001b[0;32m    317\u001b[0m     \u001b[38;5;28;01mfrom\u001b[39;00m \u001b[38;5;21;01m.\u001b[39;00m\u001b[38;5;21;01mtesting\u001b[39;00m \u001b[38;5;28;01mimport\u001b[39;00m Tester\n\u001b[0;32m    318\u001b[0m     \u001b[38;5;28;01mreturn\u001b[39;00m Tester\n\u001b[1;32m--> 320\u001b[0m \u001b[38;5;28;01mraise\u001b[39;00m \u001b[38;5;167;01mAttributeError\u001b[39;00m(\u001b[38;5;124m\"\u001b[39m\u001b[38;5;124mmodule \u001b[39m\u001b[38;5;132;01m{!r}\u001b[39;00m\u001b[38;5;124m has no attribute \u001b[39m\u001b[38;5;124m\"\u001b[39m\n\u001b[0;32m    321\u001b[0m                      \u001b[38;5;124m\"\u001b[39m\u001b[38;5;132;01m{!r}\u001b[39;00m\u001b[38;5;124m\"\u001b[39m\u001b[38;5;241m.\u001b[39mformat(\u001b[38;5;18m__name__\u001b[39m, attr))\n",
      "\u001b[1;31mAttributeError\u001b[0m: module 'numpy' has no attribute 'mode'"
     ]
    }
   ],
   "source": [
    "np.mode(data)#this will throw error"
   ]
  },
  {
   "cell_type": "code",
   "execution_count": 21,
   "id": "a5d4094a",
   "metadata": {},
   "outputs": [
    {
     "data": {
      "text/plain": [
       "3"
      ]
     },
     "execution_count": 21,
     "metadata": {},
     "output_type": "execute_result"
    }
   ],
   "source": [
    "import statistics\n",
    "statistics.mode(data)"
   ]
  },
  {
   "cell_type": "code",
   "execution_count": 22,
   "id": "ee73bdbb",
   "metadata": {},
   "outputs": [
    {
     "data": {
      "text/plain": [
       "[1, 2, 3, 3, 3, 3, 4, 500]"
      ]
     },
     "execution_count": 22,
     "metadata": {},
     "output_type": "execute_result"
    }
   ],
   "source": [
    "data"
   ]
  },
  {
   "cell_type": "code",
   "execution_count": 23,
   "id": "d3a29630",
   "metadata": {},
   "outputs": [
    {
     "data": {
      "text/plain": [
       "array([2.75])"
      ]
     },
     "execution_count": 23,
     "metadata": {},
     "output_type": "execute_result"
    }
   ],
   "source": [
    "np.percentile(data, [25]) #25 percentage of the data is below 2.75"
   ]
  },
  {
   "cell_type": "code",
   "execution_count": 24,
   "id": "41c40458",
   "metadata": {},
   "outputs": [
    {
     "data": {
      "text/plain": [
       "array([  2.75,   3.  ,   3.25, 326.4 , 361.12, 395.84, 430.56, 465.28,\n",
       "       500.  ])"
      ]
     },
     "execution_count": 24,
     "metadata": {},
     "output_type": "execute_result"
    }
   ],
   "source": [
    "np.percentile(data, [25, 50, 75, 95, 96, 97, 98, 99, 100])"
   ]
  },
  {
   "cell_type": "code",
   "execution_count": 25,
   "id": "775dd4af",
   "metadata": {},
   "outputs": [
    {
     "data": {
      "text/plain": [
       "[1, 2, 3, 3, 3, 3, 4, 500]"
      ]
     },
     "execution_count": 25,
     "metadata": {},
     "output_type": "execute_result"
    }
   ],
   "source": [
    "data"
   ]
  },
  {
   "cell_type": "code",
   "execution_count": 26,
   "id": "e38e30af",
   "metadata": {},
   "outputs": [],
   "source": [
    "data.append(-500)"
   ]
  },
  {
   "cell_type": "code",
   "execution_count": 36,
   "id": "fd9e9c4d",
   "metadata": {},
   "outputs": [],
   "source": [
    "data = [1, 2, 3, 3, 3, 3, 4, 20, -20]"
   ]
  },
  {
   "cell_type": "code",
   "execution_count": 37,
   "id": "1e25a47f",
   "metadata": {},
   "outputs": [],
   "source": [
    "#outliers"
   ]
  },
  {
   "cell_type": "code",
   "execution_count": 38,
   "id": "4860716c",
   "metadata": {},
   "outputs": [
    {
     "data": {
      "text/plain": [
       "<Axes: >"
      ]
     },
     "execution_count": 38,
     "metadata": {},
     "output_type": "execute_result"
    },
    {
     "data": {
      "image/png": "[encoded data removed]",
      "text/plain": [
       "<Figure size 640x480 with 1 Axes>"
      ]
     },
     "metadata": {},
     "output_type": "display_data"
    }
   ],
   "source": [
    "sns.boxplot(data)"
   ]
  },
  {
   "cell_type": "code",
   "execution_count": 39,
   "id": "89c285ba",
   "metadata": {},
   "outputs": [
    {
     "data": {
      "text/plain": [
       "[1, 2, 3, 3, 3, 3, 4, 20, -20]"
      ]
     },
     "execution_count": 39,
     "metadata": {},
     "output_type": "execute_result"
    }
   ],
   "source": [
    "#measures of dispersion\n",
    "data"
   ]
  },
  {
   "cell_type": "code",
   "execution_count": 40,
   "id": "97568cf0",
   "metadata": {},
   "outputs": [
    {
     "data": {
      "text/plain": [
       "90.76543209876543"
      ]
     },
     "execution_count": 40,
     "metadata": {},
     "output_type": "execute_result"
    }
   ],
   "source": [
    "np.var(data)"
   ]
  },
  {
   "cell_type": "code",
   "execution_count": 41,
   "id": "c4b52180",
   "metadata": {},
   "outputs": [
    {
     "data": {
      "text/plain": [
       "9.527089382322673"
      ]
     },
     "execution_count": 41,
     "metadata": {},
     "output_type": "execute_result"
    }
   ],
   "source": [
    "np.std(data)"
   ]
  },
  {
   "cell_type": "code",
   "execution_count": 42,
   "id": "c71e1dc3",
   "metadata": {},
   "outputs": [
    {
     "data": {
      "text/plain": [
       "102.11111111111111"
      ]
     },
     "execution_count": 42,
     "metadata": {},
     "output_type": "execute_result"
    }
   ],
   "source": [
    "statistics.variance(data) #sample variance (n-1)"
   ]
  },
  {
   "cell_type": "code",
   "execution_count": 43,
   "id": "466c56e7",
   "metadata": {},
   "outputs": [
    {
     "data": {
      "text/plain": [
       "90.76543209876543"
      ]
     },
     "execution_count": 43,
     "metadata": {},
     "output_type": "execute_result"
    }
   ],
   "source": [
    "statistics.pvariance(data) #population variance"
   ]
  },
  {
   "cell_type": "code",
   "execution_count": 44,
   "id": "c753eedb",
   "metadata": {},
   "outputs": [
    {
     "data": {
      "text/plain": [
       "10.105004260816079"
      ]
     },
     "execution_count": 44,
     "metadata": {},
     "output_type": "execute_result"
    }
   ],
   "source": [
    "import math\n",
    "math.sqrt(statistics.variance(data))"
   ]
  },
  {
   "cell_type": "code",
   "execution_count": 45,
   "id": "b228c990",
   "metadata": {},
   "outputs": [
    {
     "data": {
      "text/plain": [
       "[1, 2, 3, 3, 3, 3, 4, 20, -20]"
      ]
     },
     "execution_count": 45,
     "metadata": {},
     "output_type": "execute_result"
    }
   ],
   "source": [
    "data"
   ]
  },
  {
   "cell_type": "code",
   "execution_count": 46,
   "id": "562c9097",
   "metadata": {},
   "outputs": [
    {
     "data": {
      "text/plain": [
       "9"
      ]
     },
     "execution_count": 46,
     "metadata": {},
     "output_type": "execute_result"
    }
   ],
   "source": [
    "len(data)"
   ]
  },
  {
   "cell_type": "code",
   "execution_count": 47,
   "id": "ea32ca8c",
   "metadata": {},
   "outputs": [
    {
     "data": {
      "text/html": [
       "<div>\n",
       "<style scoped>\n",
       "    .dataframe tbody tr th:only-of-type {\n",
       "        vertical-align: middle;\n",
       "    }\n",
       "\n",
       "    .dataframe tbody tr th {\n",
       "        vertical-align: top;\n",
       "    }\n",
       "\n",
       "    .dataframe thead th {\n",
       "        text-align: right;\n",
       "    }\n",
       "</style>\n",
       "<table border=\"1\" class=\"dataframe\">\n",
       "  <thead>\n",
       "    <tr style=\"text-align: right;\">\n",
       "      <th></th>\n",
       "      <th>total_bill</th>\n",
       "      <th>tip</th>\n",
       "      <th>sex</th>\n",
       "      <th>smoker</th>\n",
       "      <th>day</th>\n",
       "      <th>time</th>\n",
       "      <th>size</th>\n",
       "    </tr>\n",
       "  </thead>\n",
       "  <tbody>\n",
       "    <tr>\n",
       "      <th>0</th>\n",
       "      <td>16.99</td>\n",
       "      <td>1.01</td>\n",
       "      <td>Female</td>\n",
       "      <td>No</td>\n",
       "      <td>Sun</td>\n",
       "      <td>Dinner</td>\n",
       "      <td>2</td>\n",
       "    </tr>\n",
       "    <tr>\n",
       "      <th>1</th>\n",
       "      <td>10.34</td>\n",
       "      <td>1.66</td>\n",
       "      <td>Male</td>\n",
       "      <td>No</td>\n",
       "      <td>Sun</td>\n",
       "      <td>Dinner</td>\n",
       "      <td>3</td>\n",
       "    </tr>\n",
       "    <tr>\n",
       "      <th>2</th>\n",
       "      <td>21.01</td>\n",
       "      <td>3.50</td>\n",
       "      <td>Male</td>\n",
       "      <td>No</td>\n",
       "      <td>Sun</td>\n",
       "      <td>Dinner</td>\n",
       "      <td>3</td>\n",
       "    </tr>\n",
       "    <tr>\n",
       "      <th>3</th>\n",
       "      <td>23.68</td>\n",
       "      <td>3.31</td>\n",
       "      <td>Male</td>\n",
       "      <td>No</td>\n",
       "      <td>Sun</td>\n",
       "      <td>Dinner</td>\n",
       "      <td>2</td>\n",
       "    </tr>\n",
       "    <tr>\n",
       "      <th>4</th>\n",
       "      <td>24.59</td>\n",
       "      <td>3.61</td>\n",
       "      <td>Female</td>\n",
       "      <td>No</td>\n",
       "      <td>Sun</td>\n",
       "      <td>Dinner</td>\n",
       "      <td>4</td>\n",
       "    </tr>\n",
       "    <tr>\n",
       "      <th>...</th>\n",
       "      <td>...</td>\n",
       "      <td>...</td>\n",
       "      <td>...</td>\n",
       "      <td>...</td>\n",
       "      <td>...</td>\n",
       "      <td>...</td>\n",
       "      <td>...</td>\n",
       "    </tr>\n",
       "    <tr>\n",
       "      <th>239</th>\n",
       "      <td>29.03</td>\n",
       "      <td>5.92</td>\n",
       "      <td>Male</td>\n",
       "      <td>No</td>\n",
       "      <td>Sat</td>\n",
       "      <td>Dinner</td>\n",
       "      <td>3</td>\n",
       "    </tr>\n",
       "    <tr>\n",
       "      <th>240</th>\n",
       "      <td>27.18</td>\n",
       "      <td>2.00</td>\n",
       "      <td>Female</td>\n",
       "      <td>Yes</td>\n",
       "      <td>Sat</td>\n",
       "      <td>Dinner</td>\n",
       "      <td>2</td>\n",
       "    </tr>\n",
       "    <tr>\n",
       "      <th>241</th>\n",
       "      <td>22.67</td>\n",
       "      <td>2.00</td>\n",
       "      <td>Male</td>\n",
       "      <td>Yes</td>\n",
       "      <td>Sat</td>\n",
       "      <td>Dinner</td>\n",
       "      <td>2</td>\n",
       "    </tr>\n",
       "    <tr>\n",
       "      <th>242</th>\n",
       "      <td>17.82</td>\n",
       "      <td>1.75</td>\n",
       "      <td>Male</td>\n",
       "      <td>No</td>\n",
       "      <td>Sat</td>\n",
       "      <td>Dinner</td>\n",
       "      <td>2</td>\n",
       "    </tr>\n",
       "    <tr>\n",
       "      <th>243</th>\n",
       "      <td>18.78</td>\n",
       "      <td>3.00</td>\n",
       "      <td>Female</td>\n",
       "      <td>No</td>\n",
       "      <td>Thur</td>\n",
       "      <td>Dinner</td>\n",
       "      <td>2</td>\n",
       "    </tr>\n",
       "  </tbody>\n",
       "</table>\n",
       "<p>244 rows × 7 columns</p>\n",
       "</div>"
      ],
      "text/plain": [
       "     total_bill   tip     sex smoker   day    time  size\n",
       "0         16.99  1.01  Female     No   Sun  Dinner     2\n",
       "1         10.34  1.66    Male     No   Sun  Dinner     3\n",
       "2         21.01  3.50    Male     No   Sun  Dinner     3\n",
       "3         23.68  3.31    Male     No   Sun  Dinner     2\n",
       "4         24.59  3.61  Female     No   Sun  Dinner     4\n",
       "..          ...   ...     ...    ...   ...     ...   ...\n",
       "239       29.03  5.92    Male     No   Sat  Dinner     3\n",
       "240       27.18  2.00  Female    Yes   Sat  Dinner     2\n",
       "241       22.67  2.00    Male    Yes   Sat  Dinner     2\n",
       "242       17.82  1.75    Male     No   Sat  Dinner     2\n",
       "243       18.78  3.00  Female     No  Thur  Dinner     2\n",
       "\n",
       "[244 rows x 7 columns]"
      ]
     },
     "execution_count": 47,
     "metadata": {},
     "output_type": "execute_result"
    }
   ],
   "source": [
    "df"
   ]
  },
  {
   "cell_type": "code",
   "execution_count": 48,
   "id": "c26e159b",
   "metadata": {},
   "outputs": [
    {
     "data": {
      "text/html": [
       "<div>\n",
       "<style scoped>\n",
       "    .dataframe tbody tr th:only-of-type {\n",
       "        vertical-align: middle;\n",
       "    }\n",
       "\n",
       "    .dataframe tbody tr th {\n",
       "        vertical-align: top;\n",
       "    }\n",
       "\n",
       "    .dataframe thead th {\n",
       "        text-align: right;\n",
       "    }\n",
       "</style>\n",
       "<table border=\"1\" class=\"dataframe\">\n",
       "  <thead>\n",
       "    <tr style=\"text-align: right;\">\n",
       "      <th></th>\n",
       "      <th>total_bill</th>\n",
       "      <th>tip</th>\n",
       "      <th>sex</th>\n",
       "      <th>smoker</th>\n",
       "      <th>day</th>\n",
       "      <th>time</th>\n",
       "      <th>size</th>\n",
       "    </tr>\n",
       "  </thead>\n",
       "  <tbody>\n",
       "    <tr>\n",
       "      <th>0</th>\n",
       "      <td>16.99</td>\n",
       "      <td>1.01</td>\n",
       "      <td>Female</td>\n",
       "      <td>No</td>\n",
       "      <td>Sun</td>\n",
       "      <td>Dinner</td>\n",
       "      <td>2</td>\n",
       "    </tr>\n",
       "    <tr>\n",
       "      <th>1</th>\n",
       "      <td>10.34</td>\n",
       "      <td>1.66</td>\n",
       "      <td>Male</td>\n",
       "      <td>No</td>\n",
       "      <td>Sun</td>\n",
       "      <td>Dinner</td>\n",
       "      <td>3</td>\n",
       "    </tr>\n",
       "    <tr>\n",
       "      <th>2</th>\n",
       "      <td>21.01</td>\n",
       "      <td>3.50</td>\n",
       "      <td>Male</td>\n",
       "      <td>No</td>\n",
       "      <td>Sun</td>\n",
       "      <td>Dinner</td>\n",
       "      <td>3</td>\n",
       "    </tr>\n",
       "    <tr>\n",
       "      <th>3</th>\n",
       "      <td>23.68</td>\n",
       "      <td>3.31</td>\n",
       "      <td>Male</td>\n",
       "      <td>No</td>\n",
       "      <td>Sun</td>\n",
       "      <td>Dinner</td>\n",
       "      <td>2</td>\n",
       "    </tr>\n",
       "    <tr>\n",
       "      <th>4</th>\n",
       "      <td>24.59</td>\n",
       "      <td>3.61</td>\n",
       "      <td>Female</td>\n",
       "      <td>No</td>\n",
       "      <td>Sun</td>\n",
       "      <td>Dinner</td>\n",
       "      <td>4</td>\n",
       "    </tr>\n",
       "    <tr>\n",
       "      <th>...</th>\n",
       "      <td>...</td>\n",
       "      <td>...</td>\n",
       "      <td>...</td>\n",
       "      <td>...</td>\n",
       "      <td>...</td>\n",
       "      <td>...</td>\n",
       "      <td>...</td>\n",
       "    </tr>\n",
       "    <tr>\n",
       "      <th>239</th>\n",
       "      <td>29.03</td>\n",
       "      <td>5.92</td>\n",
       "      <td>Male</td>\n",
       "      <td>No</td>\n",
       "      <td>Sat</td>\n",
       "      <td>Dinner</td>\n",
       "      <td>3</td>\n",
       "    </tr>\n",
       "    <tr>\n",
       "      <th>240</th>\n",
       "      <td>27.18</td>\n",
       "      <td>2.00</td>\n",
       "      <td>Female</td>\n",
       "      <td>Yes</td>\n",
       "      <td>Sat</td>\n",
       "      <td>Dinner</td>\n",
       "      <td>2</td>\n",
       "    </tr>\n",
       "    <tr>\n",
       "      <th>241</th>\n",
       "      <td>22.67</td>\n",
       "      <td>2.00</td>\n",
       "      <td>Male</td>\n",
       "      <td>Yes</td>\n",
       "      <td>Sat</td>\n",
       "      <td>Dinner</td>\n",
       "      <td>2</td>\n",
       "    </tr>\n",
       "    <tr>\n",
       "      <th>242</th>\n",
       "      <td>17.82</td>\n",
       "      <td>1.75</td>\n",
       "      <td>Male</td>\n",
       "      <td>No</td>\n",
       "      <td>Sat</td>\n",
       "      <td>Dinner</td>\n",
       "      <td>2</td>\n",
       "    </tr>\n",
       "    <tr>\n",
       "      <th>243</th>\n",
       "      <td>18.78</td>\n",
       "      <td>3.00</td>\n",
       "      <td>Female</td>\n",
       "      <td>No</td>\n",
       "      <td>Thur</td>\n",
       "      <td>Dinner</td>\n",
       "      <td>2</td>\n",
       "    </tr>\n",
       "  </tbody>\n",
       "</table>\n",
       "<p>244 rows × 7 columns</p>\n",
       "</div>"
      ],
      "text/plain": [
       "     total_bill   tip     sex smoker   day    time  size\n",
       "0         16.99  1.01  Female     No   Sun  Dinner     2\n",
       "1         10.34  1.66    Male     No   Sun  Dinner     3\n",
       "2         21.01  3.50    Male     No   Sun  Dinner     3\n",
       "3         23.68  3.31    Male     No   Sun  Dinner     2\n",
       "4         24.59  3.61  Female     No   Sun  Dinner     4\n",
       "..          ...   ...     ...    ...   ...     ...   ...\n",
       "239       29.03  5.92    Male     No   Sat  Dinner     3\n",
       "240       27.18  2.00  Female    Yes   Sat  Dinner     2\n",
       "241       22.67  2.00    Male    Yes   Sat  Dinner     2\n",
       "242       17.82  1.75    Male     No   Sat  Dinner     2\n",
       "243       18.78  3.00  Female     No  Thur  Dinner     2\n",
       "\n",
       "[244 rows x 7 columns]"
      ]
     },
     "execution_count": 48,
     "metadata": {},
     "output_type": "execute_result"
    }
   ],
   "source": [
    "#how to know the relationship between two features\n",
    "#correlation and covariance\n",
    "\n",
    "df"
   ]
  },
  {
   "cell_type": "code",
   "execution_count": 51,
   "id": "d2b155d7",
   "metadata": {},
   "outputs": [],
   "source": [
    "corr = df[['total_bill', 'tip', 'size']].corr()"
   ]
  },
  {
   "cell_type": "code",
   "execution_count": 52,
   "id": "22a9ae8f",
   "metadata": {},
   "outputs": [
    {
     "data": {
      "text/html": [
       "<div>\n",
       "<style scoped>\n",
       "    .dataframe tbody tr th:only-of-type {\n",
       "        vertical-align: middle;\n",
       "    }\n",
       "\n",
       "    .dataframe tbody tr th {\n",
       "        vertical-align: top;\n",
       "    }\n",
       "\n",
       "    .dataframe thead th {\n",
       "        text-align: right;\n",
       "    }\n",
       "</style>\n",
       "<table border=\"1\" class=\"dataframe\">\n",
       "  <thead>\n",
       "    <tr style=\"text-align: right;\">\n",
       "      <th></th>\n",
       "      <th>total_bill</th>\n",
       "      <th>tip</th>\n",
       "      <th>size</th>\n",
       "    </tr>\n",
       "  </thead>\n",
       "  <tbody>\n",
       "    <tr>\n",
       "      <th>total_bill</th>\n",
       "      <td>1.000000</td>\n",
       "      <td>0.675734</td>\n",
       "      <td>0.598315</td>\n",
       "    </tr>\n",
       "    <tr>\n",
       "      <th>tip</th>\n",
       "      <td>0.675734</td>\n",
       "      <td>1.000000</td>\n",
       "      <td>0.489299</td>\n",
       "    </tr>\n",
       "    <tr>\n",
       "      <th>size</th>\n",
       "      <td>0.598315</td>\n",
       "      <td>0.489299</td>\n",
       "      <td>1.000000</td>\n",
       "    </tr>\n",
       "  </tbody>\n",
       "</table>\n",
       "</div>"
      ],
      "text/plain": [
       "            total_bill       tip      size\n",
       "total_bill    1.000000  0.675734  0.598315\n",
       "tip           0.675734  1.000000  0.489299\n",
       "size          0.598315  0.489299  1.000000"
      ]
     },
     "execution_count": 52,
     "metadata": {},
     "output_type": "execute_result"
    }
   ],
   "source": [
    "corr"
   ]
  },
  {
   "cell_type": "code",
   "execution_count": 53,
   "id": "310663ef",
   "metadata": {},
   "outputs": [
    {
     "data": {
      "text/html": [
       "<div>\n",
       "<style scoped>\n",
       "    .dataframe tbody tr th:only-of-type {\n",
       "        vertical-align: middle;\n",
       "    }\n",
       "\n",
       "    .dataframe tbody tr th {\n",
       "        vertical-align: top;\n",
       "    }\n",
       "\n",
       "    .dataframe thead th {\n",
       "        text-align: right;\n",
       "    }\n",
       "</style>\n",
       "<table border=\"1\" class=\"dataframe\">\n",
       "  <thead>\n",
       "    <tr style=\"text-align: right;\">\n",
       "      <th></th>\n",
       "      <th>total_bill</th>\n",
       "      <th>tip</th>\n",
       "      <th>size</th>\n",
       "    </tr>\n",
       "  </thead>\n",
       "  <tbody>\n",
       "    <tr>\n",
       "      <th>total_bill</th>\n",
       "      <td>1.000000</td>\n",
       "      <td>0.675734</td>\n",
       "      <td>0.598315</td>\n",
       "    </tr>\n",
       "    <tr>\n",
       "      <th>tip</th>\n",
       "      <td>0.675734</td>\n",
       "      <td>1.000000</td>\n",
       "      <td>0.489299</td>\n",
       "    </tr>\n",
       "    <tr>\n",
       "      <th>size</th>\n",
       "      <td>0.598315</td>\n",
       "      <td>0.489299</td>\n",
       "      <td>1.000000</td>\n",
       "    </tr>\n",
       "  </tbody>\n",
       "</table>\n",
       "</div>"
      ],
      "text/plain": [
       "            total_bill       tip      size\n",
       "total_bill    1.000000  0.675734  0.598315\n",
       "tip           0.675734  1.000000  0.489299\n",
       "size          0.598315  0.489299  1.000000"
      ]
     },
     "execution_count": 53,
     "metadata": {},
     "output_type": "execute_result"
    }
   ],
   "source": [
    "df.corr(numeric_only = True)"
   ]
  },
  {
   "cell_type": "code",
   "execution_count": null,
   "id": "1787cc7b",
   "metadata": {},
   "outputs": [],
   "source": [
    "#if there is one unit increase in total bill then there is 67 percent chance that tip will increase in tip"
   ]
  },
  {
   "cell_type": "code",
   "execution_count": 54,
   "id": "f8207c34",
   "metadata": {},
   "outputs": [
    {
     "data": {
      "text/plain": [
       "<Axes: >"
      ]
     },
     "execution_count": 54,
     "metadata": {},
     "output_type": "execute_result"
    },
    {
     "data": {
      "image/png": "[encoded data removed]",
      "text/plain": [
       "<Figure size 640x480 with 2 Axes>"
      ]
     },
     "metadata": {},
     "output_type": "display_data"
    }
   ],
   "source": [
    "sns.heatmap(corr, annot = True)"
   ]
  },
  {
   "cell_type": "code",
   "execution_count": 56,
   "id": "2ea35248",
   "metadata": {},
   "outputs": [
    {
     "data": {
      "text/html": [
       "<div>\n",
       "<style scoped>\n",
       "    .dataframe tbody tr th:only-of-type {\n",
       "        vertical-align: middle;\n",
       "    }\n",
       "\n",
       "    .dataframe tbody tr th {\n",
       "        vertical-align: top;\n",
       "    }\n",
       "\n",
       "    .dataframe thead th {\n",
       "        text-align: right;\n",
       "    }\n",
       "</style>\n",
       "<table border=\"1\" class=\"dataframe\">\n",
       "  <thead>\n",
       "    <tr style=\"text-align: right;\">\n",
       "      <th></th>\n",
       "      <th>total_bill</th>\n",
       "      <th>tip</th>\n",
       "      <th>size</th>\n",
       "    </tr>\n",
       "  </thead>\n",
       "  <tbody>\n",
       "    <tr>\n",
       "      <th>total_bill</th>\n",
       "      <td>79.252939</td>\n",
       "      <td>8.323502</td>\n",
       "      <td>5.065983</td>\n",
       "    </tr>\n",
       "    <tr>\n",
       "      <th>tip</th>\n",
       "      <td>8.323502</td>\n",
       "      <td>1.914455</td>\n",
       "      <td>0.643906</td>\n",
       "    </tr>\n",
       "    <tr>\n",
       "      <th>size</th>\n",
       "      <td>5.065983</td>\n",
       "      <td>0.643906</td>\n",
       "      <td>0.904591</td>\n",
       "    </tr>\n",
       "  </tbody>\n",
       "</table>\n",
       "</div>"
      ],
      "text/plain": [
       "            total_bill       tip      size\n",
       "total_bill   79.252939  8.323502  5.065983\n",
       "tip           8.323502  1.914455  0.643906\n",
       "size          5.065983  0.643906  0.904591"
      ]
     },
     "execution_count": 56,
     "metadata": {},
     "output_type": "execute_result"
    }
   ],
   "source": [
    "df.cov(numeric_only = True)"
   ]
  },
  {
   "cell_type": "code",
   "execution_count": 57,
   "id": "5ea4aa91",
   "metadata": {},
   "outputs": [
    {
     "name": "stderr",
     "output_type": "stream",
     "text": [
      "C:\\Users\\ajayk\\anaconda3\\Lib\\site-packages\\seaborn\\_oldcore.py:1119: FutureWarning: use_inf_as_na option is deprecated and will be removed in a future version. Convert inf values to NaN before operating instead.\n",
      "  with pd.option_context('mode.use_inf_as_na', True):\n",
      "C:\\Users\\ajayk\\anaconda3\\Lib\\site-packages\\seaborn\\_oldcore.py:1119: FutureWarning: use_inf_as_na option is deprecated and will be removed in a future version. Convert inf values to NaN before operating instead.\n",
      "  with pd.option_context('mode.use_inf_as_na', True):\n",
      "C:\\Users\\ajayk\\anaconda3\\Lib\\site-packages\\seaborn\\_oldcore.py:1119: FutureWarning: use_inf_as_na option is deprecated and will be removed in a future version. Convert inf values to NaN before operating instead.\n",
      "  with pd.option_context('mode.use_inf_as_na', True):\n"
     ]
    },
    {
     "data": {
      "text/plain": [
       "<seaborn.axisgrid.PairGrid at 0x1581b901810>"
      ]
     },
     "execution_count": 57,
     "metadata": {},
     "output_type": "execute_result"
    },
    {
     "data": {
      "image/png": "[encoded data removed]",
      "text/plain": [
       "<Figure size 750x750 with 12 Axes>"
      ]
     },
     "metadata": {},
     "output_type": "display_data"
    }
   ],
   "source": [
    "sns.pairplot(df)"
   ]
  },
  {
   "cell_type": "code",
   "execution_count": 59,
   "id": "9653a641",
   "metadata": {},
   "outputs": [
    {
     "name": "stderr",
     "output_type": "stream",
     "text": [
      "C:\\Users\\ajayk\\anaconda3\\Lib\\site-packages\\seaborn\\_oldcore.py:1119: FutureWarning: use_inf_as_na option is deprecated and will be removed in a future version. Convert inf values to NaN before operating instead.\n",
      "  with pd.option_context('mode.use_inf_as_na', True):\n"
     ]
    },
    {
     "data": {
      "text/plain": [
       "<Axes: ylabel='Count'>"
      ]
     },
     "execution_count": 59,
     "metadata": {},
     "output_type": "execute_result"
    },
    {
     "data": {
      "image/png": "[encoded data removed]",
      "text/plain": [
       "<Figure size 640x480 with 1 Axes>"
      ]
     },
     "metadata": {},
     "output_type": "display_data"
    }
   ],
   "source": [
    "sns.histplot(data, kde = True)"
   ]
  },
  {
   "cell_type": "code",
   "execution_count": 62,
   "id": "3e147148",
   "metadata": {},
   "outputs": [
    {
     "name": "stderr",
     "output_type": "stream",
     "text": [
      "C:\\Users\\ajayk\\anaconda3\\Lib\\site-packages\\seaborn\\_oldcore.py:1119: FutureWarning: use_inf_as_na option is deprecated and will be removed in a future version. Convert inf values to NaN before operating instead.\n",
      "  with pd.option_context('mode.use_inf_as_na', True):\n"
     ]
    },
    {
     "data": {
      "text/plain": [
       "<Axes: xlabel='total_bill', ylabel='Count'>"
      ]
     },
     "execution_count": 62,
     "metadata": {},
     "output_type": "execute_result"
    },
    {
     "data": {
      "image/png": "[encoded data removed]",
      "text/plain": [
       "<Figure size 640x480 with 1 Axes>"
      ]
     },
     "metadata": {},
     "output_type": "display_data"
    }
   ],
   "source": [
    "sns.histplot(df['total_bill'], kde = True)"
   ]
  },
  {
   "cell_type": "code",
   "execution_count": 64,
   "id": "6d9b8cd7",
   "metadata": {},
   "outputs": [],
   "source": [
    "data1 = np.random.normal(0.5, 0.2, 1000)"
   ]
  },
  {
   "cell_type": "code",
   "execution_count": 65,
   "id": "34502d02",
   "metadata": {},
   "outputs": [
    {
     "name": "stderr",
     "output_type": "stream",
     "text": [
      "C:\\Users\\ajayk\\AppData\\Local\\Temp\\ipykernel_3508\\1727590720.py:1: UserWarning: \n",
      "\n",
      "`distplot` is a deprecated function and will be removed in seaborn v0.14.0.\n",
      "\n",
      "Please adapt your code to use either `displot` (a figure-level function with\n",
      "similar flexibility) or `histplot` (an axes-level function for histograms).\n",
      "\n",
      "For a guide to updating your code to use the new functions, please see\n",
      "https://gist.github.com/mwaskom/de44147ed2974457ad6372750bbe5751\n",
      "\n",
      "  sns.distplot(data1)\n",
      "C:\\Users\\ajayk\\anaconda3\\Lib\\site-packages\\seaborn\\_oldcore.py:1119: FutureWarning: use_inf_as_na option is deprecated and will be removed in a future version. Convert inf values to NaN before operating instead.\n",
      "  with pd.option_context('mode.use_inf_as_na', True):\n"
     ]
    },
    {
     "data": {
      "text/plain": [
       "<Axes: ylabel='Density'>"
      ]
     },
     "execution_count": 65,
     "metadata": {},
     "output_type": "execute_result"
    },
    {
     "data": {
      "image/png": "[encoded data removed]",
      "text/plain": [
       "<Figure size 640x480 with 1 Axes>"
      ]
     },
     "metadata": {},
     "output_type": "display_data"
    }
   ],
   "source": [
    "sns.distplot(data1)"
   ]
  },
  {
   "cell_type": "code",
   "execution_count": 67,
   "id": "0350f83f",
   "metadata": {},
   "outputs": [],
   "source": [
    "population = np.random.randint(10, 20, 50)"
   ]
  },
  {
   "cell_type": "code",
   "execution_count": 72,
   "id": "b38bb1d5",
   "metadata": {},
   "outputs": [
    {
     "data": {
      "text/plain": [
       "array([12, 14, 10, 19, 13, 10, 10, 11, 19, 13, 18, 13, 14, 18, 17, 14, 14,\n",
       "       15, 10, 14, 12, 18, 19, 17, 15, 10, 11, 18, 10, 15, 11, 18, 19, 12,\n",
       "       18, 14, 12, 18, 12, 10, 10, 13, 14, 16, 13, 17, 18, 19, 11, 11])"
      ]
     },
     "execution_count": 72,
     "metadata": {},
     "output_type": "execute_result"
    }
   ],
   "source": [
    "population"
   ]
  },
  {
   "cell_type": "code",
   "execution_count": 69,
   "id": "6b99b411",
   "metadata": {},
   "outputs": [
    {
     "data": {
      "text/plain": [
       "50"
      ]
     },
     "execution_count": 69,
     "metadata": {},
     "output_type": "execute_result"
    }
   ],
   "source": [
    "len(population)"
   ]
  },
  {
   "cell_type": "code",
   "execution_count": 70,
   "id": "0266a7c6",
   "metadata": {},
   "outputs": [
    {
     "data": {
      "text/plain": [
       "10"
      ]
     },
     "execution_count": 70,
     "metadata": {},
     "output_type": "execute_result"
    }
   ],
   "source": [
    "statistics.mode(population)"
   ]
  },
  {
   "cell_type": "code",
   "execution_count": 71,
   "id": "2c5f5f50",
   "metadata": {},
   "outputs": [
    {
     "data": {
      "text/plain": [
       "14.18"
      ]
     },
     "execution_count": 71,
     "metadata": {},
     "output_type": "execute_result"
    }
   ],
   "source": [
    "np.mean(population)"
   ]
  },
  {
   "cell_type": "code",
   "execution_count": 73,
   "id": "127fda38",
   "metadata": {},
   "outputs": [],
   "source": [
    "sample1 = np.random.choice(population, 20)\n",
    "sample2 = np.random.choice(population, 20)\n",
    "sample3 = np.random.choice(population, 20)\n",
    "sample4 = np.random.choice(population, 20)"
   ]
  },
  {
   "cell_type": "code",
   "execution_count": 74,
   "id": "afc85ab2",
   "metadata": {},
   "outputs": [
    {
     "data": {
      "text/plain": [
       "array([13, 10, 13, 15, 17, 18, 13, 15, 14, 18, 17, 12, 17, 18, 11, 12, 18,\n",
       "       18, 18, 19])"
      ]
     },
     "execution_count": 74,
     "metadata": {},
     "output_type": "execute_result"
    }
   ],
   "source": [
    "sample1"
   ]
  },
  {
   "cell_type": "code",
   "execution_count": 75,
   "id": "2f7aa1d5",
   "metadata": {},
   "outputs": [
    {
     "data": {
      "text/plain": [
       "array([19, 11, 14, 12, 18, 19, 13, 10, 14, 17, 10, 10, 12, 14, 14, 12, 10,\n",
       "       17, 13, 12])"
      ]
     },
     "execution_count": 75,
     "metadata": {},
     "output_type": "execute_result"
    }
   ],
   "source": [
    "sample2"
   ]
  },
  {
   "cell_type": "code",
   "execution_count": 76,
   "id": "b1d18f48",
   "metadata": {},
   "outputs": [],
   "source": [
    "mean_of_samples = []\n",
    "all_samples = [sample1, sample2, sample3, sample4]\n",
    "\n",
    "for sample in all_samples:\n",
    "    mean_of_samples.append(np.mean(sample))"
   ]
  },
  {
   "cell_type": "code",
   "execution_count": 77,
   "id": "191a5cc8",
   "metadata": {},
   "outputs": [
    {
     "data": {
      "text/plain": [
       "[15.3, 13.55, 13.55, 14.75]"
      ]
     },
     "execution_count": 77,
     "metadata": {},
     "output_type": "execute_result"
    }
   ],
   "source": [
    "mean_of_samples"
   ]
  },
  {
   "cell_type": "code",
   "execution_count": 78,
   "id": "56086d09",
   "metadata": {},
   "outputs": [],
   "source": [
    "#central limit theorem >> for any distribution the sample mean will be approximated to normal distribution given sample size >= 30 and no of samples should be sufficiently large"
   ]
  },
  {
   "cell_type": "code",
   "execution_count": 79,
   "id": "95ffe906",
   "metadata": {},
   "outputs": [],
   "source": [
    "population = np.random.binomial(10, 0.5, 10000)"
   ]
  },
  {
   "cell_type": "code",
   "execution_count": 80,
   "id": "7bd7a32c",
   "metadata": {},
   "outputs": [
    {
     "data": {
      "text/plain": [
       "array([7, 6, 4, ..., 5, 3, 8])"
      ]
     },
     "execution_count": 80,
     "metadata": {},
     "output_type": "execute_result"
    }
   ],
   "source": [
    "population"
   ]
  },
  {
   "cell_type": "code",
   "execution_count": 81,
   "id": "e475259e",
   "metadata": {},
   "outputs": [
    {
     "name": "stderr",
     "output_type": "stream",
     "text": [
      "C:\\Users\\ajayk\\AppData\\Local\\Temp\\ipykernel_3508\\2958836585.py:1: UserWarning: \n",
      "\n",
      "`distplot` is a deprecated function and will be removed in seaborn v0.14.0.\n",
      "\n",
      "Please adapt your code to use either `displot` (a figure-level function with\n",
      "similar flexibility) or `histplot` (an axes-level function for histograms).\n",
      "\n",
      "For a guide to updating your code to use the new functions, please see\n",
      "https://gist.github.com/mwaskom/de44147ed2974457ad6372750bbe5751\n",
      "\n",
      "  sns.distplot(population)\n",
      "C:\\Users\\ajayk\\anaconda3\\Lib\\site-packages\\seaborn\\_oldcore.py:1119: FutureWarning: use_inf_as_na option is deprecated and will be removed in a future version. Convert inf values to NaN before operating instead.\n",
      "  with pd.option_context('mode.use_inf_as_na', True):\n"
     ]
    },
    {
     "data": {
      "text/plain": [
       "<Axes: ylabel='Density'>"
      ]
     },
     "execution_count": 81,
     "metadata": {},
     "output_type": "execute_result"
    },
    {
     "data": {
      "image/png": "[encoded data removed]",
      "text/plain": [
       "<Figure size 640x480 with 1 Axes>"
      ]
     },
     "metadata": {},
     "output_type": "display_data"
    }
   ],
   "source": [
    "sns.distplot(population)"
   ]
  },
  {
   "cell_type": "code",
   "execution_count": 82,
   "id": "ee489359",
   "metadata": {},
   "outputs": [],
   "source": [
    "sample_size = 3000\n",
    "\n",
    "mean_of_samples = []\n",
    "\n",
    "for i in range(1, 10000):\n",
    "    sample = np.random.choice(population, size = sample_size)\n",
    "    mean_of_samples.append(np.mean(sample))\n"
   ]
  },
  {
   "cell_type": "code",
   "execution_count": 85,
   "id": "8f936d08",
   "metadata": {},
   "outputs": [
    {
     "name": "stderr",
     "output_type": "stream",
     "text": [
      "C:\\Users\\ajayk\\AppData\\Local\\Temp\\ipykernel_3508\\1517309143.py:1: UserWarning: \n",
      "\n",
      "`distplot` is a deprecated function and will be removed in seaborn v0.14.0.\n",
      "\n",
      "Please adapt your code to use either `displot` (a figure-level function with\n",
      "similar flexibility) or `histplot` (an axes-level function for histograms).\n",
      "\n",
      "For a guide to updating your code to use the new functions, please see\n",
      "https://gist.github.com/mwaskom/de44147ed2974457ad6372750bbe5751\n",
      "\n",
      "  sns.distplot(mean_of_samples, kde = True, color = 'red')\n",
      "C:\\Users\\ajayk\\anaconda3\\Lib\\site-packages\\seaborn\\_oldcore.py:1119: FutureWarning: use_inf_as_na option is deprecated and will be removed in a future version. Convert inf values to NaN before operating instead.\n",
      "  with pd.option_context('mode.use_inf_as_na', True):\n"
     ]
    },
    {
     "data": {
      "text/plain": [
       "<Axes: ylabel='Density'>"
      ]
     },
     "execution_count": 85,
     "metadata": {},
     "output_type": "execute_result"
    },
    {
     "data": {
      "image/png": "[encoded data removed]",
      "text/plain": [
       "<Figure size 640x480 with 1 Axes>"
      ]
     },
     "metadata": {},
     "output_type": "display_data"
    }
   ],
   "source": [
    "sns.distplot(mean_of_samples, kde = True, color = 'red')"
   ]
  },
  {
   "cell_type": "code",
   "execution_count": 87,
   "id": "37f64042",
   "metadata": {},
   "outputs": [
    {
     "data": {
      "text/plain": [
       "4.971131613161316"
      ]
     },
     "execution_count": 87,
     "metadata": {},
     "output_type": "execute_result"
    }
   ],
   "source": [
    "np.mean(mean_of_samples)"
   ]
  },
  {
   "cell_type": "code",
   "execution_count": 88,
   "id": "56aee12a",
   "metadata": {},
   "outputs": [
    {
     "data": {
      "text/plain": [
       "4.971333333333333"
      ]
     },
     "execution_count": 88,
     "metadata": {},
     "output_type": "execute_result"
    }
   ],
   "source": [
    "np.median(mean_of_samples)"
   ]
  },
  {
   "cell_type": "code",
   "execution_count": 89,
   "id": "c47b6764",
   "metadata": {},
   "outputs": [
    {
     "data": {
      "text/plain": [
       "4.972333333333333"
      ]
     },
     "execution_count": 89,
     "metadata": {},
     "output_type": "execute_result"
    }
   ],
   "source": [
    "statistics.mode(mean_of_samples)"
   ]
  },
  {
   "cell_type": "code",
   "execution_count": 90,
   "id": "51878552",
   "metadata": {},
   "outputs": [],
   "source": [
    "#hence mean=median=mode\n",
    "\n",
    "\n",
    "import scipy.stats as stats"
   ]
  },
  {
   "cell_type": "code",
   "execution_count": 92,
   "id": "ce810364",
   "metadata": {},
   "outputs": [
    {
     "data": {
      "text/plain": [
       "[4.938,\n",
       " 4.937666666666667,\n",
       " 4.976666666666667,\n",
       " 4.968333333333334,\n",
       " 5.023,\n",
       " 4.990666666666667,\n",
       " 4.977333333333333,\n",
       " 4.8853333333333335,\n",
       " 4.998666666666667,\n",
       " 4.941666666666666,\n",
       " 4.968,\n",
       " 4.949333333333334,\n",
       " 4.997333333333334,\n",
       " 4.998,\n",
       " 4.962666666666666,\n",
       " 4.960333333333334,\n",
       " 4.949,\n",
       " 4.943666666666667,\n",
       " 5.001666666666667,\n",
       " 4.990666666666667,\n",
       " 5.022333333333333,\n",
       " 4.940333333333333,\n",
       " 4.99,\n",
       " 5.002,\n",
       " 4.910666666666667,\n",
       " 4.943333333333333,\n",
       " 4.960666666666667,\n",
       " 5.036333333333333,\n",
       " 4.982666666666667,\n",
       " 4.955666666666667,\n",
       " 5.019666666666667,\n",
       " 4.94,\n",
       " 4.9543333333333335,\n",
       " 4.979333333333333,\n",
       " 4.921,\n",
       " 4.982333333333333,\n",
       " 4.959333333333333,\n",
       " 4.9446666666666665,\n",
       " 4.956,\n",
       " 4.948,\n",
       " 4.953,\n",
       " 4.9703333333333335,\n",
       " 4.976666666666667,\n",
       " 4.955,\n",
       " 4.915666666666667,\n",
       " 4.986,\n",
       " 4.966333333333333,\n",
       " 5.041333333333333,\n",
       " 5.000666666666667,\n",
       " 4.964666666666667,\n",
       " 5.005,\n",
       " 4.956666666666667,\n",
       " 4.941333333333334,\n",
       " 4.960333333333334,\n",
       " 4.967333333333333,\n",
       " 4.983,\n",
       " 4.9286666666666665,\n",
       " 5.027333333333333,\n",
       " 4.946,\n",
       " 4.9736666666666665,\n",
       " 4.935333333333333,\n",
       " 4.971,\n",
       " 4.961333333333333,\n",
       " 4.972666666666667,\n",
       " 4.926,\n",
       " 5.014333333333333,\n",
       " 4.939666666666667,\n",
       " 4.974,\n",
       " 5.053333333333334,\n",
       " 4.9816666666666665,\n",
       " 4.9126666666666665,\n",
       " 4.918,\n",
       " 4.947,\n",
       " 4.979333333333333,\n",
       " 4.961333333333333,\n",
       " 4.964,\n",
       " 4.978,\n",
       " 5.0056666666666665,\n",
       " 5.021333333333334,\n",
       " 5.009,\n",
       " 4.944,\n",
       " 4.976333333333334,\n",
       " 4.966333333333333,\n",
       " 4.970666666666666,\n",
       " 4.937333333333333,\n",
       " 4.983666666666666,\n",
       " 4.967,\n",
       " 4.951,\n",
       " 4.954,\n",
       " 4.98,\n",
       " 4.937333333333333,\n",
       " 4.986,\n",
       " 5.001,\n",
       " 4.974666666666667,\n",
       " 5.065666666666667,\n",
       " 4.963,\n",
       " 4.964333333333333,\n",
       " 4.975666666666666,\n",
       " 4.993,\n",
       " 4.949333333333334,\n",
       " 4.964666666666667,\n",
       " 4.940666666666667,\n",
       " 5.019666666666667,\n",
       " 4.970666666666666,\n",
       " 4.950666666666667,\n",
       " 4.949666666666666,\n",
       " 5.020333333333333,\n",
       " 4.907,\n",
       " 4.982,\n",
       " 4.9526666666666666,\n",
       " 4.981,\n",
       " 5.064333333333333,\n",
       " 4.976666666666667,\n",
       " 5.019666666666667,\n",
       " 4.9446666666666665,\n",
       " 5.007666666666666,\n",
       " 4.992333333333334,\n",
       " 4.96,\n",
       " 4.9736666666666665,\n",
       " 4.948666666666667,\n",
       " 4.9976666666666665,\n",
       " 4.961,\n",
       " 5.001666666666667,\n",
       " 4.984,\n",
       " 4.980333333333333,\n",
       " 4.927333333333333,\n",
       " 4.972,\n",
       " 5.004666666666667,\n",
       " 4.998,\n",
       " 4.934666666666667,\n",
       " 4.959666666666666,\n",
       " 4.995,\n",
       " 4.963666666666667,\n",
       " 4.947333333333333,\n",
       " 4.980666666666667,\n",
       " 5.0263333333333335,\n",
       " 4.9863333333333335,\n",
       " 4.956333333333333,\n",
       " 4.917,\n",
       " 4.932333333333333,\n",
       " 5.0216666666666665,\n",
       " 4.976666666666667,\n",
       " 4.920333333333334,\n",
       " 4.945333333333333,\n",
       " 4.964333333333333,\n",
       " 4.919666666666667,\n",
       " 4.95,\n",
       " 4.984,\n",
       " 4.985666666666667,\n",
       " 4.924,\n",
       " 4.888333333333334,\n",
       " 4.951333333333333,\n",
       " 4.979666666666667,\n",
       " 4.965,\n",
       " 4.972333333333333,\n",
       " 4.929,\n",
       " 4.985666666666667,\n",
       " 4.952,\n",
       " 4.939666666666667,\n",
       " 4.959333333333333,\n",
       " 4.9783333333333335,\n",
       " 4.966333333333333,\n",
       " 4.942,\n",
       " 4.953333333333333,\n",
       " 4.996,\n",
       " 4.965,\n",
       " 4.978666666666666,\n",
       " 4.921333333333333,\n",
       " 4.959,\n",
       " 4.958,\n",
       " 4.972,\n",
       " 4.953,\n",
       " 4.927666666666667,\n",
       " 4.99,\n",
       " 4.971666666666667,\n",
       " 4.972,\n",
       " 4.903666666666667,\n",
       " 5.001666666666667,\n",
       " 4.9543333333333335,\n",
       " 4.975,\n",
       " 4.962666666666666,\n",
       " 4.9446666666666665,\n",
       " 4.9366666666666665,\n",
       " 4.969666666666667,\n",
       " 4.895666666666667,\n",
       " 4.956333333333333,\n",
       " 4.973,\n",
       " 5.001333333333333,\n",
       " 4.987,\n",
       " 4.984333333333334,\n",
       " 5.006,\n",
       " 4.981,\n",
       " 4.975,\n",
       " 4.927666666666667,\n",
       " 4.933333333333334,\n",
       " 4.924,\n",
       " 5.040333333333334,\n",
       " 4.977,\n",
       " 5.007666666666666,\n",
       " 4.9896666666666665,\n",
       " 5.006,\n",
       " 5.008666666666667,\n",
       " 4.969666666666667,\n",
       " 4.972,\n",
       " 4.977333333333333,\n",
       " 4.9783333333333335,\n",
       " 4.965333333333334,\n",
       " 4.975333333333333,\n",
       " 4.963666666666667,\n",
       " 5.022,\n",
       " 4.975,\n",
       " 4.965333333333334,\n",
       " 4.939,\n",
       " 4.941333333333334,\n",
       " 5.004,\n",
       " 4.9863333333333335,\n",
       " 4.965333333333334,\n",
       " 4.919,\n",
       " 4.962666666666666,\n",
       " 4.948333333333333,\n",
       " 5.008666666666667,\n",
       " 4.953,\n",
       " 4.945333333333333,\n",
       " 4.983666666666666,\n",
       " 4.939,\n",
       " 4.966333333333333,\n",
       " 4.945666666666667,\n",
       " 5.003666666666667,\n",
       " 4.962666666666666,\n",
       " 4.981,\n",
       " 4.929,\n",
       " 5.018666666666666,\n",
       " 4.926666666666667,\n",
       " 4.972333333333333,\n",
       " 4.982666666666667,\n",
       " 4.9303333333333335,\n",
       " 4.958333333333333,\n",
       " 5.003333333333333,\n",
       " 4.949333333333334,\n",
       " 4.945333333333333,\n",
       " 4.936333333333334,\n",
       " 4.962,\n",
       " 4.931,\n",
       " 4.949333333333334,\n",
       " 4.907666666666667,\n",
       " 4.9526666666666666,\n",
       " 4.969666666666667,\n",
       " 4.977666666666667,\n",
       " 4.997,\n",
       " 5.011333333333333,\n",
       " 4.9896666666666665,\n",
       " 4.985,\n",
       " 4.960333333333334,\n",
       " 4.972333333333333,\n",
       " 4.974666666666667,\n",
       " 4.969,\n",
       " 4.963,\n",
       " 4.976,\n",
       " 4.941333333333334,\n",
       " 4.961666666666667,\n",
       " 4.9656666666666665,\n",
       " 4.969666666666667,\n",
       " 4.949,\n",
       " 4.999666666666666,\n",
       " 4.9526666666666666,\n",
       " 4.979,\n",
       " 4.972,\n",
       " 4.97,\n",
       " 4.967,\n",
       " 4.943666666666667,\n",
       " 4.909,\n",
       " 4.973333333333334,\n",
       " 4.953666666666667,\n",
       " 4.985,\n",
       " 4.947333333333333,\n",
       " 4.984,\n",
       " 4.970666666666666,\n",
       " 4.921333333333333,\n",
       " 4.971333333333333,\n",
       " 4.974333333333333,\n",
       " 5.018,\n",
       " 4.897666666666667,\n",
       " 4.9943333333333335,\n",
       " 4.97,\n",
       " 4.973333333333334,\n",
       " 4.935333333333333,\n",
       " 4.957333333333334,\n",
       " 5.004666666666667,\n",
       " 4.954,\n",
       " 4.960333333333334,\n",
       " 4.965333333333334,\n",
       " 4.968666666666667,\n",
       " 4.992333333333334,\n",
       " 4.918333333333333,\n",
       " 4.934666666666667,\n",
       " 4.976,\n",
       " 4.940333333333333,\n",
       " 4.9863333333333335,\n",
       " 4.942666666666667,\n",
       " 5.030333333333333,\n",
       " 4.934,\n",
       " 4.971,\n",
       " 4.916,\n",
       " 5.003666666666667,\n",
       " 4.97,\n",
       " 4.999,\n",
       " 4.981333333333334,\n",
       " 4.938666666666666,\n",
       " 5.019666666666667,\n",
       " 4.948,\n",
       " 5.0056666666666665,\n",
       " 4.982,\n",
       " 4.955333333333333,\n",
       " 5.017666666666667,\n",
       " 5.065,\n",
       " 4.995666666666667,\n",
       " 4.999,\n",
       " 4.955,\n",
       " 4.913,\n",
       " 4.980333333333333,\n",
       " 5.018,\n",
       " 4.852333333333333,\n",
       " 4.990333333333333,\n",
       " 5.0183333333333335,\n",
       " 4.965,\n",
       " 5.022,\n",
       " 4.935333333333333,\n",
       " 4.979,\n",
       " 4.955333333333333,\n",
       " 4.995666666666667,\n",
       " 4.978,\n",
       " 4.924333333333333,\n",
       " 4.923666666666667,\n",
       " 4.992333333333334,\n",
       " 4.965333333333334,\n",
       " 5.007666666666666,\n",
       " 4.969666666666667,\n",
       " 4.9783333333333335,\n",
       " 4.964,\n",
       " 4.979666666666667,\n",
       " 4.941666666666666,\n",
       " 4.933333333333334,\n",
       " 4.951666666666667,\n",
       " 4.963333333333333,\n",
       " 4.925333333333334,\n",
       " 4.962666666666666,\n",
       " 5.056666666666667,\n",
       " 4.9463333333333335,\n",
       " 4.993333333333333,\n",
       " 4.9463333333333335,\n",
       " 5.030666666666667,\n",
       " 4.984,\n",
       " 4.929666666666667,\n",
       " 4.967,\n",
       " 4.995,\n",
       " 5.003666666666667,\n",
       " 5.023,\n",
       " 5.008,\n",
       " 4.997,\n",
       " 4.990333333333333,\n",
       " 4.97,\n",
       " 5.026666666666666,\n",
       " 4.989,\n",
       " 5.018,\n",
       " 4.941333333333334,\n",
       " 4.922,\n",
       " 4.954,\n",
       " 4.983333333333333,\n",
       " 4.947333333333333,\n",
       " 4.96,\n",
       " 4.965,\n",
       " 4.912333333333334,\n",
       " 4.964,\n",
       " 4.989333333333334,\n",
       " 4.9703333333333335,\n",
       " 5.003333333333333,\n",
       " 4.956333333333333,\n",
       " 4.943333333333333,\n",
       " 5.000333333333334,\n",
       " 4.925,\n",
       " 4.963,\n",
       " 4.988333333333333,\n",
       " 4.926666666666667,\n",
       " 4.958,\n",
       " 4.997,\n",
       " 4.908333333333333,\n",
       " 4.979666666666667,\n",
       " 4.946,\n",
       " 5.044333333333333,\n",
       " 4.985,\n",
       " 4.973333333333334,\n",
       " 5.013333333333334,\n",
       " 4.937,\n",
       " 4.996333333333333,\n",
       " 4.946666666666666,\n",
       " 5.011666666666667,\n",
       " 4.996666666666667,\n",
       " 4.949666666666666,\n",
       " 4.946,\n",
       " 4.979666666666667,\n",
       " 4.940666666666667,\n",
       " 4.99,\n",
       " 4.966333333333333,\n",
       " 4.967333333333333,\n",
       " 4.978,\n",
       " 5.003666666666667,\n",
       " 5.003,\n",
       " 5.016666666666667,\n",
       " 4.9656666666666665,\n",
       " 4.905333333333333,\n",
       " 4.976,\n",
       " 4.966333333333333,\n",
       " 4.9976666666666665,\n",
       " 4.975,\n",
       " 4.972666666666667,\n",
       " 4.958,\n",
       " 4.969666666666667,\n",
       " 4.988,\n",
       " 5.032,\n",
       " 4.982333333333333,\n",
       " 4.9656666666666665,\n",
       " 4.927333333333333,\n",
       " 5.019,\n",
       " 4.976,\n",
       " 4.960666666666667,\n",
       " 4.951333333333333,\n",
       " 5.042666666666666,\n",
       " 4.943333333333333,\n",
       " 4.988666666666667,\n",
       " 4.917333333333334,\n",
       " 4.937333333333333,\n",
       " 5.011333333333333,\n",
       " 4.987333333333333,\n",
       " 4.95,\n",
       " 5.020666666666667,\n",
       " 4.961666666666667,\n",
       " 4.984333333333334,\n",
       " 4.927,\n",
       " 5.003333333333333,\n",
       " 4.9223333333333334,\n",
       " 4.952333333333334,\n",
       " 5.016333333333334,\n",
       " 4.959666666666666,\n",
       " 4.946666666666666,\n",
       " 4.964,\n",
       " 4.961333333333333,\n",
       " 4.948333333333333,\n",
       " 4.973,\n",
       " 4.989,\n",
       " 4.949666666666666,\n",
       " 4.9783333333333335,\n",
       " 4.959666666666666,\n",
       " 4.972,\n",
       " 4.941333333333334,\n",
       " 4.977666666666667,\n",
       " 4.975333333333333,\n",
       " 4.976,\n",
       " 4.967333333333333,\n",
       " 4.956666666666667,\n",
       " 4.985666666666667,\n",
       " 4.980666666666667,\n",
       " 4.9366666666666665,\n",
       " 4.915,\n",
       " 4.984,\n",
       " 5.033333333333333,\n",
       " 4.955,\n",
       " 4.983333333333333,\n",
       " 4.922,\n",
       " 4.97,\n",
       " 4.991333333333333,\n",
       " 5.0,\n",
       " 4.981,\n",
       " 4.920333333333334,\n",
       " 4.927666666666667,\n",
       " 4.995,\n",
       " 4.991666666666666,\n",
       " 4.919333333333333,\n",
       " 4.918333333333333,\n",
       " 4.945333333333333,\n",
       " 4.886,\n",
       " 4.936,\n",
       " 4.941,\n",
       " 5.009,\n",
       " 4.937,\n",
       " 4.987666666666667,\n",
       " 4.941333333333334,\n",
       " 4.9446666666666665,\n",
       " 4.949666666666666,\n",
       " 4.9526666666666666,\n",
       " 4.960666666666667,\n",
       " 4.941,\n",
       " 4.936,\n",
       " 4.950666666666667,\n",
       " 4.992,\n",
       " 4.9656666666666665,\n",
       " 4.943333333333333,\n",
       " 4.923666666666667,\n",
       " 4.957666666666666,\n",
       " 4.968,\n",
       " 4.988,\n",
       " 4.988,\n",
       " 4.997,\n",
       " 5.006,\n",
       " 4.988,\n",
       " 4.95,\n",
       " 4.977666666666667,\n",
       " 4.950333333333333,\n",
       " 4.967333333333333,\n",
       " 4.942666666666667,\n",
       " 4.919,\n",
       " 4.9976666666666665,\n",
       " 4.935,\n",
       " 4.965,\n",
       " 4.884333333333333,\n",
       " 4.968,\n",
       " 4.995666666666667,\n",
       " 4.9656666666666665,\n",
       " 4.972333333333333,\n",
       " 4.951333333333333,\n",
       " 4.963333333333333,\n",
       " 4.949333333333334,\n",
       " 4.948666666666667,\n",
       " 4.949,\n",
       " 4.974666666666667,\n",
       " 4.99,\n",
       " 5.004333333333333,\n",
       " 4.951333333333333,\n",
       " 4.983,\n",
       " 4.916333333333333,\n",
       " 4.947,\n",
       " 4.938,\n",
       " 5.000333333333334,\n",
       " 4.945333333333333,\n",
       " 4.999,\n",
       " 4.980666666666667,\n",
       " 4.945666666666667,\n",
       " 4.956333333333333,\n",
       " 4.959333333333333,\n",
       " 4.955333333333333,\n",
       " 5.004,\n",
       " 4.987333333333333,\n",
       " 4.971333333333333,\n",
       " 4.956333333333333,\n",
       " 5.01,\n",
       " 4.926,\n",
       " 4.972666666666667,\n",
       " 5.016333333333334,\n",
       " 4.9703333333333335,\n",
       " 4.967333333333333,\n",
       " 4.983,\n",
       " 4.993,\n",
       " 4.956,\n",
       " 4.961,\n",
       " 4.971666666666667,\n",
       " 4.994,\n",
       " 4.984,\n",
       " 4.977,\n",
       " 4.9656666666666665,\n",
       " 5.006333333333333,\n",
       " 4.902333333333333,\n",
       " 4.964,\n",
       " 4.999,\n",
       " 4.935666666666667,\n",
       " 4.969333333333333,\n",
       " 4.965333333333334,\n",
       " 5.012,\n",
       " 4.947333333333333,\n",
       " 5.09,\n",
       " 5.003666666666667,\n",
       " 4.937333333333333,\n",
       " 4.949666666666666,\n",
       " 4.956333333333333,\n",
       " 4.983333333333333,\n",
       " 4.977,\n",
       " 4.985,\n",
       " 4.991666666666666,\n",
       " 4.956,\n",
       " 4.943333333333333,\n",
       " 4.996666666666667,\n",
       " 4.980333333333333,\n",
       " 4.97,\n",
       " 4.960333333333334,\n",
       " 4.915,\n",
       " 4.935333333333333,\n",
       " 5.016666666666667,\n",
       " 4.944333333333334,\n",
       " 4.971666666666667,\n",
       " 4.995666666666667,\n",
       " 4.915333333333334,\n",
       " 4.895,\n",
       " 4.970666666666666,\n",
       " 4.964,\n",
       " 4.963666666666667,\n",
       " 4.979333333333333,\n",
       " 4.995666666666667,\n",
       " 4.978666666666666,\n",
       " 4.937666666666667,\n",
       " 4.982333333333333,\n",
       " 4.954666666666666,\n",
       " 4.946,\n",
       " 4.923333333333333,\n",
       " 4.909,\n",
       " 4.949666666666666,\n",
       " 4.908333333333333,\n",
       " 4.981333333333334,\n",
       " 4.952333333333334,\n",
       " 5.02,\n",
       " 4.985666666666667,\n",
       " 4.993666666666667,\n",
       " 4.963,\n",
       " 4.998333333333333,\n",
       " 4.931666666666667,\n",
       " 4.958,\n",
       " 4.994666666666666,\n",
       " 4.984,\n",
       " 4.92,\n",
       " 4.975666666666666,\n",
       " 5.002666666666666,\n",
       " 4.980666666666667,\n",
       " 4.982666666666667,\n",
       " 4.989333333333334,\n",
       " 4.989,\n",
       " 4.929666666666667,\n",
       " 4.968333333333334,\n",
       " 4.972333333333333,\n",
       " 4.981333333333334,\n",
       " 4.938666666666666,\n",
       " 5.01,\n",
       " 5.037333333333334,\n",
       " 4.9366666666666665,\n",
       " 4.976333333333334,\n",
       " 4.951,\n",
       " 4.943333333333333,\n",
       " 4.989333333333334,\n",
       " 4.964,\n",
       " 4.942333333333333,\n",
       " 4.946,\n",
       " 4.963,\n",
       " 4.993,\n",
       " 4.958,\n",
       " 4.977333333333333,\n",
       " 4.999333333333333,\n",
       " 4.946666666666666,\n",
       " 4.945333333333333,\n",
       " 4.937666666666667,\n",
       " 4.9816666666666665,\n",
       " 5.024666666666667,\n",
       " 4.985,\n",
       " 4.960666666666667,\n",
       " 4.926666666666667,\n",
       " 5.008333333333334,\n",
       " 4.972666666666667,\n",
       " 4.972333333333333,\n",
       " 5.004333333333333,\n",
       " 4.953333333333333,\n",
       " 4.9816666666666665,\n",
       " 4.959333333333333,\n",
       " 4.971666666666667,\n",
       " 4.974666666666667,\n",
       " 4.952333333333334,\n",
       " 5.008666666666667,\n",
       " 5.001333333333333,\n",
       " 4.958333333333333,\n",
       " 4.968666666666667,\n",
       " 5.009666666666667,\n",
       " 4.971333333333333,\n",
       " 5.005,\n",
       " 4.9463333333333335,\n",
       " 5.023333333333333,\n",
       " 5.003666666666667,\n",
       " 4.981333333333334,\n",
       " 4.955,\n",
       " 4.953333333333333,\n",
       " 4.9303333333333335,\n",
       " 4.991666666666666,\n",
       " 4.9543333333333335,\n",
       " 4.975,\n",
       " 4.993333333333333,\n",
       " 4.946666666666666,\n",
       " 4.967333333333333,\n",
       " 4.961,\n",
       " 4.947333333333333,\n",
       " 4.990666666666667,\n",
       " 4.926333333333333,\n",
       " 4.939,\n",
       " 4.996333333333333,\n",
       " 4.962,\n",
       " 4.971666666666667,\n",
       " 4.968333333333334,\n",
       " 4.935,\n",
       " 5.015,\n",
       " 4.959666666666666,\n",
       " 4.9543333333333335,\n",
       " 4.958333333333333,\n",
       " 5.005,\n",
       " 4.959,\n",
       " 4.972666666666667,\n",
       " 5.008,\n",
       " 4.956,\n",
       " 4.997333333333334,\n",
       " 4.951,\n",
       " 4.974333333333333,\n",
       " 5.002,\n",
       " 5.039333333333333,\n",
       " 4.974333333333333,\n",
       " 4.927333333333333,\n",
       " 4.965333333333334,\n",
       " 4.993666666666667,\n",
       " 4.955333333333333,\n",
       " 4.950666666666667,\n",
       " 4.960333333333334,\n",
       " 4.983,\n",
       " 5.015,\n",
       " 4.975,\n",
       " 4.921666666666667,\n",
       " 4.960333333333334,\n",
       " 4.964,\n",
       " 5.007,\n",
       " 4.9783333333333335,\n",
       " 4.988666666666667,\n",
       " 4.984333333333334,\n",
       " 4.908333333333333,\n",
       " 4.943666666666667,\n",
       " 4.960666666666667,\n",
       " 4.971666666666667,\n",
       " 4.971333333333333,\n",
       " 4.997333333333334,\n",
       " 4.929,\n",
       " 4.987,\n",
       " 4.9863333333333335,\n",
       " 4.964666666666667,\n",
       " 5.006333333333333,\n",
       " 4.917666666666666,\n",
       " 4.967666666666666,\n",
       " 5.004,\n",
       " 4.963666666666667,\n",
       " 4.973333333333334,\n",
       " 4.963,\n",
       " 5.017,\n",
       " 5.049,\n",
       " 4.955,\n",
       " 4.983333333333333,\n",
       " 4.9703333333333335,\n",
       " 4.958666666666667,\n",
       " 4.929333333333333,\n",
       " 4.968666666666667,\n",
       " 4.929666666666667,\n",
       " 4.931666666666667,\n",
       " 4.964666666666667,\n",
       " 5.009666666666667,\n",
       " 4.96,\n",
       " 5.009,\n",
       " 4.978666666666666,\n",
       " 4.947666666666667,\n",
       " 5.024333333333334,\n",
       " 4.971,\n",
       " 4.941333333333334,\n",
       " 4.941333333333334,\n",
       " 4.975,\n",
       " 4.974,\n",
       " 4.950666666666667,\n",
       " 4.984333333333334,\n",
       " 4.992666666666667,\n",
       " 4.972333333333333,\n",
       " 4.953,\n",
       " 4.938666666666666,\n",
       " 4.976,\n",
       " 4.969666666666667,\n",
       " 4.997,\n",
       " 4.878333333333333,\n",
       " 4.995,\n",
       " 4.967,\n",
       " 4.963666666666667,\n",
       " 4.981333333333334,\n",
       " 4.9896666666666665,\n",
       " 4.948,\n",
       " 4.941666666666666,\n",
       " 5.055,\n",
       " 5.017333333333333,\n",
       " 4.950666666666667,\n",
       " 4.94,\n",
       " 4.938666666666666,\n",
       " 4.931666666666667,\n",
       " 4.984,\n",
       " 4.966333333333333,\n",
       " 4.987666666666667,\n",
       " 4.944333333333334,\n",
       " 5.012666666666667,\n",
       " 5.002666666666666,\n",
       " 4.9526666666666666,\n",
       " 4.980666666666667,\n",
       " 5.015333333333333,\n",
       " 4.939,\n",
       " 4.968666666666667,\n",
       " 5.005333333333334,\n",
       " 5.001666666666667,\n",
       " 5.023333333333333,\n",
       " 4.967,\n",
       " 4.996,\n",
       " 4.937666666666667,\n",
       " 4.968333333333334,\n",
       " 4.961666666666667,\n",
       " 4.962666666666666,\n",
       " 4.995666666666667,\n",
       " 4.958,\n",
       " 4.999,\n",
       " 4.959333333333333,\n",
       " 4.9286666666666665,\n",
       " 5.016,\n",
       " 4.918,\n",
       " 4.946,\n",
       " 4.975,\n",
       " 4.962,\n",
       " 4.929,\n",
       " 4.964666666666667,\n",
       " 4.977,\n",
       " 4.955333333333333,\n",
       " 5.071666666666666,\n",
       " 4.959333333333333,\n",
       " 4.9896666666666665,\n",
       " 4.960333333333334,\n",
       " 5.001,\n",
       " 5.034666666666666,\n",
       " 4.991,\n",
       " 4.901,\n",
       " 5.007666666666666,\n",
       " 4.955666666666667,\n",
       " 4.941,\n",
       " 5.013333333333334,\n",
       " 5.032,\n",
       " 4.976666666666667,\n",
       " 4.983666666666666,\n",
       " 5.015666666666666,\n",
       " 4.9526666666666666,\n",
       " 4.990333333333333,\n",
       " 4.9943333333333335,\n",
       " 4.977666666666667,\n",
       " 4.954,\n",
       " 4.953666666666667,\n",
       " 4.940666666666667,\n",
       " 4.910666666666667,\n",
       " 4.957666666666666,\n",
       " 4.9783333333333335,\n",
       " 4.947666666666667,\n",
       " 4.923333333333333,\n",
       " 5.001333333333333,\n",
       " 4.989,\n",
       " 4.992,\n",
       " 5.015666666666666,\n",
       " 4.968,\n",
       " 4.968,\n",
       " 5.004333333333333,\n",
       " 4.987333333333333,\n",
       " 4.972333333333333,\n",
       " 4.988,\n",
       " 4.995,\n",
       " 4.945333333333333,\n",
       " 5.009333333333333,\n",
       " 4.999,\n",
       " 4.955333333333333,\n",
       " 5.004666666666667,\n",
       " 4.973333333333334,\n",
       " 5.011,\n",
       " 4.979666666666667,\n",
       " 5.002666666666666,\n",
       " 4.975333333333333,\n",
       " 4.978,\n",
       " 5.028333333333333,\n",
       " 4.94,\n",
       " 4.924666666666667,\n",
       " 4.985333333333333,\n",
       " 4.909666666666666,\n",
       " 5.012333333333333,\n",
       " 4.987333333333333,\n",
       " 4.967333333333333,\n",
       " 4.9286666666666665,\n",
       " 4.951666666666667,\n",
       " 4.9543333333333335,\n",
       " 4.995333333333333,\n",
       " 5.010666666666666,\n",
       " 4.943666666666667,\n",
       " 4.974333333333333,\n",
       " 4.9783333333333335,\n",
       " 4.929666666666667,\n",
       " 4.925333333333334,\n",
       " 4.923,\n",
       " 4.972333333333333,\n",
       " 4.971666666666667,\n",
       " 4.942333333333333,\n",
       " 4.998333333333333,\n",
       " 4.938666666666666,\n",
       " 5.007666666666666,\n",
       " 5.003,\n",
       " 5.043333333333333,\n",
       " 4.997,\n",
       " 4.965333333333334,\n",
       " 4.974,\n",
       " 4.984333333333334,\n",
       " 5.015333333333333,\n",
       " 4.953666666666667,\n",
       " 4.924333333333333,\n",
       " 4.929666666666667,\n",
       " 4.992,\n",
       " 5.006,\n",
       " 4.969,\n",
       " 4.967,\n",
       " 4.955333333333333,\n",
       " 4.972333333333333,\n",
       " 4.997333333333334,\n",
       " 4.957,\n",
       " 4.982333333333333,\n",
       " 4.999333333333333,\n",
       " 4.965,\n",
       " 4.9303333333333335,\n",
       " 4.986,\n",
       " 4.982,\n",
       " 4.959,\n",
       " 4.957,\n",
       " 4.963,\n",
       " 4.931333333333333,\n",
       " 4.962666666666666,\n",
       " 4.9463333333333335,\n",
       " 4.976,\n",
       " 5.028,\n",
       " 4.974,\n",
       " 4.940333333333333,\n",
       " 5.0,\n",
       " 4.978666666666666,\n",
       " 4.959666666666666,\n",
       " 4.995,\n",
       " 4.951333333333333,\n",
       " 4.979666666666667,\n",
       " 4.973333333333334,\n",
       " 4.974333333333333,\n",
       " 4.935,\n",
       " 5.008666666666667,\n",
       " 4.985666666666667,\n",
       " 4.920333333333334,\n",
       " 4.965333333333334,\n",
       " 4.987666666666667,\n",
       " 4.964,\n",
       " 5.000333333333334,\n",
       " 5.001666666666667,\n",
       " 4.946,\n",
       " 4.953,\n",
       " 5.006666666666667,\n",
       " 4.986666666666666,\n",
       " 4.9943333333333335,\n",
       " 4.994,\n",
       " 4.982333333333333,\n",
       " 5.002666666666666,\n",
       " 4.979,\n",
       " 4.977333333333333,\n",
       " 4.980333333333333,\n",
       " 4.909,\n",
       " 4.9303333333333335,\n",
       " 4.953666666666667,\n",
       " 4.974,\n",
       " 4.913,\n",
       " 4.982,\n",
       " 4.952333333333334,\n",
       " 4.976,\n",
       " 4.955666666666667,\n",
       " 4.958,\n",
       " 4.982333333333333,\n",
       " 4.968666666666667,\n",
       " 4.932666666666667,\n",
       " 4.973333333333334,\n",
       " 4.979,\n",
       " 4.982333333333333,\n",
       " 4.934333333333333,\n",
       " 4.947,\n",
       " 4.925,\n",
       " 4.975666666666666,\n",
       " 4.962666666666666,\n",
       " 5.013,\n",
       " 4.969,\n",
       " 4.987333333333333,\n",
       " 4.940666666666667,\n",
       " 4.966333333333333,\n",
       " 4.967666666666666,\n",
       " 4.9863333333333335,\n",
       " 5.002666666666666,\n",
       " 4.936,\n",
       " 4.969333333333333,\n",
       " 4.968333333333334,\n",
       " 4.980333333333333,\n",
       " 4.928333333333334,\n",
       " 5.006,\n",
       " 4.999333333333333,\n",
       " 4.948333333333333,\n",
       " 5.047666666666666,\n",
       " 5.012,\n",
       " 4.965333333333334,\n",
       " 5.000333333333334,\n",
       " 4.972333333333333,\n",
       " 4.9543333333333335,\n",
       " 5.011666666666667,\n",
       " 4.95,\n",
       " 4.941333333333334,\n",
       " ...]"
      ]
     },
     "execution_count": 92,
     "metadata": {},
     "output_type": "execute_result"
    }
   ],
   "source": [
    "mean_of_samples"
   ]
  },
  {
   "cell_type": "code",
   "execution_count": 95,
   "id": "da9411aa",
   "metadata": {},
   "outputs": [
    {
     "data": {
      "text/plain": [
       "1.959963984540054"
      ]
     },
     "execution_count": 95,
     "metadata": {},
     "output_type": "execute_result"
    }
   ],
   "source": [
    "z_critical = stats.norm.ppf(q = 0.975)\n",
    "z_critical\n",
    "#zcritical for give alpha, ztable"
   ]
  },
  {
   "cell_type": "code",
   "execution_count": 94,
   "id": "6e47781e",
   "metadata": {},
   "outputs": [
    {
     "data": {
      "text/plain": [
       "1.973994288847133"
      ]
     },
     "execution_count": 94,
     "metadata": {},
     "output_type": "execute_result"
    }
   ],
   "source": [
    "#t critical for give alpha, ttable\n",
    "stats.t.ppf(df = 24, q = 0.97)"
   ]
  },
  {
   "cell_type": "code",
   "execution_count": 96,
   "id": "40c4bc1d",
   "metadata": {},
   "outputs": [],
   "source": [
    "#margin of error\n",
    "margin_of_error = z_critical * np.std(mean_of_samples) / np.sqrt(20)"
   ]
  },
  {
   "cell_type": "code",
   "execution_count": 97,
   "id": "3fdce0d7",
   "metadata": {},
   "outputs": [
    {
     "data": {
      "text/plain": [
       "0.01271677040988459"
      ]
     },
     "execution_count": 97,
     "metadata": {},
     "output_type": "execute_result"
    }
   ],
   "source": [
    "margin_of_error"
   ]
  },
  {
   "cell_type": "code",
   "execution_count": 98,
   "id": "3609abd3",
   "metadata": {},
   "outputs": [
    {
     "data": {
      "text/plain": [
       "[4.938,\n",
       " 4.937666666666667,\n",
       " 4.976666666666667,\n",
       " 4.968333333333334,\n",
       " 5.023,\n",
       " 4.990666666666667,\n",
       " 4.977333333333333,\n",
       " 4.8853333333333335,\n",
       " 4.998666666666667,\n",
       " 4.941666666666666,\n",
       " 4.968,\n",
       " 4.949333333333334,\n",
       " 4.997333333333334,\n",
       " 4.998,\n",
       " 4.962666666666666,\n",
       " 4.960333333333334,\n",
       " 4.949,\n",
       " 4.943666666666667,\n",
       " 5.001666666666667,\n",
       " 4.990666666666667,\n",
       " 5.022333333333333,\n",
       " 4.940333333333333,\n",
       " 4.99,\n",
       " 5.002,\n",
       " 4.910666666666667,\n",
       " 4.943333333333333,\n",
       " 4.960666666666667,\n",
       " 5.036333333333333,\n",
       " 4.982666666666667,\n",
       " 4.955666666666667,\n",
       " 5.019666666666667,\n",
       " 4.94,\n",
       " 4.9543333333333335,\n",
       " 4.979333333333333,\n",
       " 4.921,\n",
       " 4.982333333333333,\n",
       " 4.959333333333333,\n",
       " 4.9446666666666665,\n",
       " 4.956,\n",
       " 4.948,\n",
       " 4.953,\n",
       " 4.9703333333333335,\n",
       " 4.976666666666667,\n",
       " 4.955,\n",
       " 4.915666666666667,\n",
       " 4.986,\n",
       " 4.966333333333333,\n",
       " 5.041333333333333,\n",
       " 5.000666666666667,\n",
       " 4.964666666666667,\n",
       " 5.005,\n",
       " 4.956666666666667,\n",
       " 4.941333333333334,\n",
       " 4.960333333333334,\n",
       " 4.967333333333333,\n",
       " 4.983,\n",
       " 4.9286666666666665,\n",
       " 5.027333333333333,\n",
       " 4.946,\n",
       " 4.9736666666666665,\n",
       " 4.935333333333333,\n",
       " 4.971,\n",
       " 4.961333333333333,\n",
       " 4.972666666666667,\n",
       " 4.926,\n",
       " 5.014333333333333,\n",
       " 4.939666666666667,\n",
       " 4.974,\n",
       " 5.053333333333334,\n",
       " 4.9816666666666665,\n",
       " 4.9126666666666665,\n",
       " 4.918,\n",
       " 4.947,\n",
       " 4.979333333333333,\n",
       " 4.961333333333333,\n",
       " 4.964,\n",
       " 4.978,\n",
       " 5.0056666666666665,\n",
       " 5.021333333333334,\n",
       " 5.009,\n",
       " 4.944,\n",
       " 4.976333333333334,\n",
       " 4.966333333333333,\n",
       " 4.970666666666666,\n",
       " 4.937333333333333,\n",
       " 4.983666666666666,\n",
       " 4.967,\n",
       " 4.951,\n",
       " 4.954,\n",
       " 4.98,\n",
       " 4.937333333333333,\n",
       " 4.986,\n",
       " 5.001,\n",
       " 4.974666666666667,\n",
       " 5.065666666666667,\n",
       " 4.963,\n",
       " 4.964333333333333,\n",
       " 4.975666666666666,\n",
       " 4.993,\n",
       " 4.949333333333334,\n",
       " 4.964666666666667,\n",
       " 4.940666666666667,\n",
       " 5.019666666666667,\n",
       " 4.970666666666666,\n",
       " 4.950666666666667,\n",
       " 4.949666666666666,\n",
       " 5.020333333333333,\n",
       " 4.907,\n",
       " 4.982,\n",
       " 4.9526666666666666,\n",
       " 4.981,\n",
       " 5.064333333333333,\n",
       " 4.976666666666667,\n",
       " 5.019666666666667,\n",
       " 4.9446666666666665,\n",
       " 5.007666666666666,\n",
       " 4.992333333333334,\n",
       " 4.96,\n",
       " 4.9736666666666665,\n",
       " 4.948666666666667,\n",
       " 4.9976666666666665,\n",
       " 4.961,\n",
       " 5.001666666666667,\n",
       " 4.984,\n",
       " 4.980333333333333,\n",
       " 4.927333333333333,\n",
       " 4.972,\n",
       " 5.004666666666667,\n",
       " 4.998,\n",
       " 4.934666666666667,\n",
       " 4.959666666666666,\n",
       " 4.995,\n",
       " 4.963666666666667,\n",
       " 4.947333333333333,\n",
       " 4.980666666666667,\n",
       " 5.0263333333333335,\n",
       " 4.9863333333333335,\n",
       " 4.956333333333333,\n",
       " 4.917,\n",
       " 4.932333333333333,\n",
       " 5.0216666666666665,\n",
       " 4.976666666666667,\n",
       " 4.920333333333334,\n",
       " 4.945333333333333,\n",
       " 4.964333333333333,\n",
       " 4.919666666666667,\n",
       " 4.95,\n",
       " 4.984,\n",
       " 4.985666666666667,\n",
       " 4.924,\n",
       " 4.888333333333334,\n",
       " 4.951333333333333,\n",
       " 4.979666666666667,\n",
       " 4.965,\n",
       " 4.972333333333333,\n",
       " 4.929,\n",
       " 4.985666666666667,\n",
       " 4.952,\n",
       " 4.939666666666667,\n",
       " 4.959333333333333,\n",
       " 4.9783333333333335,\n",
       " 4.966333333333333,\n",
       " 4.942,\n",
       " 4.953333333333333,\n",
       " 4.996,\n",
       " 4.965,\n",
       " 4.978666666666666,\n",
       " 4.921333333333333,\n",
       " 4.959,\n",
       " 4.958,\n",
       " 4.972,\n",
       " 4.953,\n",
       " 4.927666666666667,\n",
       " 4.99,\n",
       " 4.971666666666667,\n",
       " 4.972,\n",
       " 4.903666666666667,\n",
       " 5.001666666666667,\n",
       " 4.9543333333333335,\n",
       " 4.975,\n",
       " 4.962666666666666,\n",
       " 4.9446666666666665,\n",
       " 4.9366666666666665,\n",
       " 4.969666666666667,\n",
       " 4.895666666666667,\n",
       " 4.956333333333333,\n",
       " 4.973,\n",
       " 5.001333333333333,\n",
       " 4.987,\n",
       " 4.984333333333334,\n",
       " 5.006,\n",
       " 4.981,\n",
       " 4.975,\n",
       " 4.927666666666667,\n",
       " 4.933333333333334,\n",
       " 4.924,\n",
       " 5.040333333333334,\n",
       " 4.977,\n",
       " 5.007666666666666,\n",
       " 4.9896666666666665,\n",
       " 5.006,\n",
       " 5.008666666666667,\n",
       " 4.969666666666667,\n",
       " 4.972,\n",
       " 4.977333333333333,\n",
       " 4.9783333333333335,\n",
       " 4.965333333333334,\n",
       " 4.975333333333333,\n",
       " 4.963666666666667,\n",
       " 5.022,\n",
       " 4.975,\n",
       " 4.965333333333334,\n",
       " 4.939,\n",
       " 4.941333333333334,\n",
       " 5.004,\n",
       " 4.9863333333333335,\n",
       " 4.965333333333334,\n",
       " 4.919,\n",
       " 4.962666666666666,\n",
       " 4.948333333333333,\n",
       " 5.008666666666667,\n",
       " 4.953,\n",
       " 4.945333333333333,\n",
       " 4.983666666666666,\n",
       " 4.939,\n",
       " 4.966333333333333,\n",
       " 4.945666666666667,\n",
       " 5.003666666666667,\n",
       " 4.962666666666666,\n",
       " 4.981,\n",
       " 4.929,\n",
       " 5.018666666666666,\n",
       " 4.926666666666667,\n",
       " 4.972333333333333,\n",
       " 4.982666666666667,\n",
       " 4.9303333333333335,\n",
       " 4.958333333333333,\n",
       " 5.003333333333333,\n",
       " 4.949333333333334,\n",
       " 4.945333333333333,\n",
       " 4.936333333333334,\n",
       " 4.962,\n",
       " 4.931,\n",
       " 4.949333333333334,\n",
       " 4.907666666666667,\n",
       " 4.9526666666666666,\n",
       " 4.969666666666667,\n",
       " 4.977666666666667,\n",
       " 4.997,\n",
       " 5.011333333333333,\n",
       " 4.9896666666666665,\n",
       " 4.985,\n",
       " 4.960333333333334,\n",
       " 4.972333333333333,\n",
       " 4.974666666666667,\n",
       " 4.969,\n",
       " 4.963,\n",
       " 4.976,\n",
       " 4.941333333333334,\n",
       " 4.961666666666667,\n",
       " 4.9656666666666665,\n",
       " 4.969666666666667,\n",
       " 4.949,\n",
       " 4.999666666666666,\n",
       " 4.9526666666666666,\n",
       " 4.979,\n",
       " 4.972,\n",
       " 4.97,\n",
       " 4.967,\n",
       " 4.943666666666667,\n",
       " 4.909,\n",
       " 4.973333333333334,\n",
       " 4.953666666666667,\n",
       " 4.985,\n",
       " 4.947333333333333,\n",
       " 4.984,\n",
       " 4.970666666666666,\n",
       " 4.921333333333333,\n",
       " 4.971333333333333,\n",
       " 4.974333333333333,\n",
       " 5.018,\n",
       " 4.897666666666667,\n",
       " 4.9943333333333335,\n",
       " 4.97,\n",
       " 4.973333333333334,\n",
       " 4.935333333333333,\n",
       " 4.957333333333334,\n",
       " 5.004666666666667,\n",
       " 4.954,\n",
       " 4.960333333333334,\n",
       " 4.965333333333334,\n",
       " 4.968666666666667,\n",
       " 4.992333333333334,\n",
       " 4.918333333333333,\n",
       " 4.934666666666667,\n",
       " 4.976,\n",
       " 4.940333333333333,\n",
       " 4.9863333333333335,\n",
       " 4.942666666666667,\n",
       " 5.030333333333333,\n",
       " 4.934,\n",
       " 4.971,\n",
       " 4.916,\n",
       " 5.003666666666667,\n",
       " 4.97,\n",
       " 4.999,\n",
       " 4.981333333333334,\n",
       " 4.938666666666666,\n",
       " 5.019666666666667,\n",
       " 4.948,\n",
       " 5.0056666666666665,\n",
       " 4.982,\n",
       " 4.955333333333333,\n",
       " 5.017666666666667,\n",
       " 5.065,\n",
       " 4.995666666666667,\n",
       " 4.999,\n",
       " 4.955,\n",
       " 4.913,\n",
       " 4.980333333333333,\n",
       " 5.018,\n",
       " 4.852333333333333,\n",
       " 4.990333333333333,\n",
       " 5.0183333333333335,\n",
       " 4.965,\n",
       " 5.022,\n",
       " 4.935333333333333,\n",
       " 4.979,\n",
       " 4.955333333333333,\n",
       " 4.995666666666667,\n",
       " 4.978,\n",
       " 4.924333333333333,\n",
       " 4.923666666666667,\n",
       " 4.992333333333334,\n",
       " 4.965333333333334,\n",
       " 5.007666666666666,\n",
       " 4.969666666666667,\n",
       " 4.9783333333333335,\n",
       " 4.964,\n",
       " 4.979666666666667,\n",
       " 4.941666666666666,\n",
       " 4.933333333333334,\n",
       " 4.951666666666667,\n",
       " 4.963333333333333,\n",
       " 4.925333333333334,\n",
       " 4.962666666666666,\n",
       " 5.056666666666667,\n",
       " 4.9463333333333335,\n",
       " 4.993333333333333,\n",
       " 4.9463333333333335,\n",
       " 5.030666666666667,\n",
       " 4.984,\n",
       " 4.929666666666667,\n",
       " 4.967,\n",
       " 4.995,\n",
       " 5.003666666666667,\n",
       " 5.023,\n",
       " 5.008,\n",
       " 4.997,\n",
       " 4.990333333333333,\n",
       " 4.97,\n",
       " 5.026666666666666,\n",
       " 4.989,\n",
       " 5.018,\n",
       " 4.941333333333334,\n",
       " 4.922,\n",
       " 4.954,\n",
       " 4.983333333333333,\n",
       " 4.947333333333333,\n",
       " 4.96,\n",
       " 4.965,\n",
       " 4.912333333333334,\n",
       " 4.964,\n",
       " 4.989333333333334,\n",
       " 4.9703333333333335,\n",
       " 5.003333333333333,\n",
       " 4.956333333333333,\n",
       " 4.943333333333333,\n",
       " 5.000333333333334,\n",
       " 4.925,\n",
       " 4.963,\n",
       " 4.988333333333333,\n",
       " 4.926666666666667,\n",
       " 4.958,\n",
       " 4.997,\n",
       " 4.908333333333333,\n",
       " 4.979666666666667,\n",
       " 4.946,\n",
       " 5.044333333333333,\n",
       " 4.985,\n",
       " 4.973333333333334,\n",
       " 5.013333333333334,\n",
       " 4.937,\n",
       " 4.996333333333333,\n",
       " 4.946666666666666,\n",
       " 5.011666666666667,\n",
       " 4.996666666666667,\n",
       " 4.949666666666666,\n",
       " 4.946,\n",
       " 4.979666666666667,\n",
       " 4.940666666666667,\n",
       " 4.99,\n",
       " 4.966333333333333,\n",
       " 4.967333333333333,\n",
       " 4.978,\n",
       " 5.003666666666667,\n",
       " 5.003,\n",
       " 5.016666666666667,\n",
       " 4.9656666666666665,\n",
       " 4.905333333333333,\n",
       " 4.976,\n",
       " 4.966333333333333,\n",
       " 4.9976666666666665,\n",
       " 4.975,\n",
       " 4.972666666666667,\n",
       " 4.958,\n",
       " 4.969666666666667,\n",
       " 4.988,\n",
       " 5.032,\n",
       " 4.982333333333333,\n",
       " 4.9656666666666665,\n",
       " 4.927333333333333,\n",
       " 5.019,\n",
       " 4.976,\n",
       " 4.960666666666667,\n",
       " 4.951333333333333,\n",
       " 5.042666666666666,\n",
       " 4.943333333333333,\n",
       " 4.988666666666667,\n",
       " 4.917333333333334,\n",
       " 4.937333333333333,\n",
       " 5.011333333333333,\n",
       " 4.987333333333333,\n",
       " 4.95,\n",
       " 5.020666666666667,\n",
       " 4.961666666666667,\n",
       " 4.984333333333334,\n",
       " 4.927,\n",
       " 5.003333333333333,\n",
       " 4.9223333333333334,\n",
       " 4.952333333333334,\n",
       " 5.016333333333334,\n",
       " 4.959666666666666,\n",
       " 4.946666666666666,\n",
       " 4.964,\n",
       " 4.961333333333333,\n",
       " 4.948333333333333,\n",
       " 4.973,\n",
       " 4.989,\n",
       " 4.949666666666666,\n",
       " 4.9783333333333335,\n",
       " 4.959666666666666,\n",
       " 4.972,\n",
       " 4.941333333333334,\n",
       " 4.977666666666667,\n",
       " 4.975333333333333,\n",
       " 4.976,\n",
       " 4.967333333333333,\n",
       " 4.956666666666667,\n",
       " 4.985666666666667,\n",
       " 4.980666666666667,\n",
       " 4.9366666666666665,\n",
       " 4.915,\n",
       " 4.984,\n",
       " 5.033333333333333,\n",
       " 4.955,\n",
       " 4.983333333333333,\n",
       " 4.922,\n",
       " 4.97,\n",
       " 4.991333333333333,\n",
       " 5.0,\n",
       " 4.981,\n",
       " 4.920333333333334,\n",
       " 4.927666666666667,\n",
       " 4.995,\n",
       " 4.991666666666666,\n",
       " 4.919333333333333,\n",
       " 4.918333333333333,\n",
       " 4.945333333333333,\n",
       " 4.886,\n",
       " 4.936,\n",
       " 4.941,\n",
       " 5.009,\n",
       " 4.937,\n",
       " 4.987666666666667,\n",
       " 4.941333333333334,\n",
       " 4.9446666666666665,\n",
       " 4.949666666666666,\n",
       " 4.9526666666666666,\n",
       " 4.960666666666667,\n",
       " 4.941,\n",
       " 4.936,\n",
       " 4.950666666666667,\n",
       " 4.992,\n",
       " 4.9656666666666665,\n",
       " 4.943333333333333,\n",
       " 4.923666666666667,\n",
       " 4.957666666666666,\n",
       " 4.968,\n",
       " 4.988,\n",
       " 4.988,\n",
       " 4.997,\n",
       " 5.006,\n",
       " 4.988,\n",
       " 4.95,\n",
       " 4.977666666666667,\n",
       " 4.950333333333333,\n",
       " 4.967333333333333,\n",
       " 4.942666666666667,\n",
       " 4.919,\n",
       " 4.9976666666666665,\n",
       " 4.935,\n",
       " 4.965,\n",
       " 4.884333333333333,\n",
       " 4.968,\n",
       " 4.995666666666667,\n",
       " 4.9656666666666665,\n",
       " 4.972333333333333,\n",
       " 4.951333333333333,\n",
       " 4.963333333333333,\n",
       " 4.949333333333334,\n",
       " 4.948666666666667,\n",
       " 4.949,\n",
       " 4.974666666666667,\n",
       " 4.99,\n",
       " 5.004333333333333,\n",
       " 4.951333333333333,\n",
       " 4.983,\n",
       " 4.916333333333333,\n",
       " 4.947,\n",
       " 4.938,\n",
       " 5.000333333333334,\n",
       " 4.945333333333333,\n",
       " 4.999,\n",
       " 4.980666666666667,\n",
       " 4.945666666666667,\n",
       " 4.956333333333333,\n",
       " 4.959333333333333,\n",
       " 4.955333333333333,\n",
       " 5.004,\n",
       " 4.987333333333333,\n",
       " 4.971333333333333,\n",
       " 4.956333333333333,\n",
       " 5.01,\n",
       " 4.926,\n",
       " 4.972666666666667,\n",
       " 5.016333333333334,\n",
       " 4.9703333333333335,\n",
       " 4.967333333333333,\n",
       " 4.983,\n",
       " 4.993,\n",
       " 4.956,\n",
       " 4.961,\n",
       " 4.971666666666667,\n",
       " 4.994,\n",
       " 4.984,\n",
       " 4.977,\n",
       " 4.9656666666666665,\n",
       " 5.006333333333333,\n",
       " 4.902333333333333,\n",
       " 4.964,\n",
       " 4.999,\n",
       " 4.935666666666667,\n",
       " 4.969333333333333,\n",
       " 4.965333333333334,\n",
       " 5.012,\n",
       " 4.947333333333333,\n",
       " 5.09,\n",
       " 5.003666666666667,\n",
       " 4.937333333333333,\n",
       " 4.949666666666666,\n",
       " 4.956333333333333,\n",
       " 4.983333333333333,\n",
       " 4.977,\n",
       " 4.985,\n",
       " 4.991666666666666,\n",
       " 4.956,\n",
       " 4.943333333333333,\n",
       " 4.996666666666667,\n",
       " 4.980333333333333,\n",
       " 4.97,\n",
       " 4.960333333333334,\n",
       " 4.915,\n",
       " 4.935333333333333,\n",
       " 5.016666666666667,\n",
       " 4.944333333333334,\n",
       " 4.971666666666667,\n",
       " 4.995666666666667,\n",
       " 4.915333333333334,\n",
       " 4.895,\n",
       " 4.970666666666666,\n",
       " 4.964,\n",
       " 4.963666666666667,\n",
       " 4.979333333333333,\n",
       " 4.995666666666667,\n",
       " 4.978666666666666,\n",
       " 4.937666666666667,\n",
       " 4.982333333333333,\n",
       " 4.954666666666666,\n",
       " 4.946,\n",
       " 4.923333333333333,\n",
       " 4.909,\n",
       " 4.949666666666666,\n",
       " 4.908333333333333,\n",
       " 4.981333333333334,\n",
       " 4.952333333333334,\n",
       " 5.02,\n",
       " 4.985666666666667,\n",
       " 4.993666666666667,\n",
       " 4.963,\n",
       " 4.998333333333333,\n",
       " 4.931666666666667,\n",
       " 4.958,\n",
       " 4.994666666666666,\n",
       " 4.984,\n",
       " 4.92,\n",
       " 4.975666666666666,\n",
       " 5.002666666666666,\n",
       " 4.980666666666667,\n",
       " 4.982666666666667,\n",
       " 4.989333333333334,\n",
       " 4.989,\n",
       " 4.929666666666667,\n",
       " 4.968333333333334,\n",
       " 4.972333333333333,\n",
       " 4.981333333333334,\n",
       " 4.938666666666666,\n",
       " 5.01,\n",
       " 5.037333333333334,\n",
       " 4.9366666666666665,\n",
       " 4.976333333333334,\n",
       " 4.951,\n",
       " 4.943333333333333,\n",
       " 4.989333333333334,\n",
       " 4.964,\n",
       " 4.942333333333333,\n",
       " 4.946,\n",
       " 4.963,\n",
       " 4.993,\n",
       " 4.958,\n",
       " 4.977333333333333,\n",
       " 4.999333333333333,\n",
       " 4.946666666666666,\n",
       " 4.945333333333333,\n",
       " 4.937666666666667,\n",
       " 4.9816666666666665,\n",
       " 5.024666666666667,\n",
       " 4.985,\n",
       " 4.960666666666667,\n",
       " 4.926666666666667,\n",
       " 5.008333333333334,\n",
       " 4.972666666666667,\n",
       " 4.972333333333333,\n",
       " 5.004333333333333,\n",
       " 4.953333333333333,\n",
       " 4.9816666666666665,\n",
       " 4.959333333333333,\n",
       " 4.971666666666667,\n",
       " 4.974666666666667,\n",
       " 4.952333333333334,\n",
       " 5.008666666666667,\n",
       " 5.001333333333333,\n",
       " 4.958333333333333,\n",
       " 4.968666666666667,\n",
       " 5.009666666666667,\n",
       " 4.971333333333333,\n",
       " 5.005,\n",
       " 4.9463333333333335,\n",
       " 5.023333333333333,\n",
       " 5.003666666666667,\n",
       " 4.981333333333334,\n",
       " 4.955,\n",
       " 4.953333333333333,\n",
       " 4.9303333333333335,\n",
       " 4.991666666666666,\n",
       " 4.9543333333333335,\n",
       " 4.975,\n",
       " 4.993333333333333,\n",
       " 4.946666666666666,\n",
       " 4.967333333333333,\n",
       " 4.961,\n",
       " 4.947333333333333,\n",
       " 4.990666666666667,\n",
       " 4.926333333333333,\n",
       " 4.939,\n",
       " 4.996333333333333,\n",
       " 4.962,\n",
       " 4.971666666666667,\n",
       " 4.968333333333334,\n",
       " 4.935,\n",
       " 5.015,\n",
       " 4.959666666666666,\n",
       " 4.9543333333333335,\n",
       " 4.958333333333333,\n",
       " 5.005,\n",
       " 4.959,\n",
       " 4.972666666666667,\n",
       " 5.008,\n",
       " 4.956,\n",
       " 4.997333333333334,\n",
       " 4.951,\n",
       " 4.974333333333333,\n",
       " 5.002,\n",
       " 5.039333333333333,\n",
       " 4.974333333333333,\n",
       " 4.927333333333333,\n",
       " 4.965333333333334,\n",
       " 4.993666666666667,\n",
       " 4.955333333333333,\n",
       " 4.950666666666667,\n",
       " 4.960333333333334,\n",
       " 4.983,\n",
       " 5.015,\n",
       " 4.975,\n",
       " 4.921666666666667,\n",
       " 4.960333333333334,\n",
       " 4.964,\n",
       " 5.007,\n",
       " 4.9783333333333335,\n",
       " 4.988666666666667,\n",
       " 4.984333333333334,\n",
       " 4.908333333333333,\n",
       " 4.943666666666667,\n",
       " 4.960666666666667,\n",
       " 4.971666666666667,\n",
       " 4.971333333333333,\n",
       " 4.997333333333334,\n",
       " 4.929,\n",
       " 4.987,\n",
       " 4.9863333333333335,\n",
       " 4.964666666666667,\n",
       " 5.006333333333333,\n",
       " 4.917666666666666,\n",
       " 4.967666666666666,\n",
       " 5.004,\n",
       " 4.963666666666667,\n",
       " 4.973333333333334,\n",
       " 4.963,\n",
       " 5.017,\n",
       " 5.049,\n",
       " 4.955,\n",
       " 4.983333333333333,\n",
       " 4.9703333333333335,\n",
       " 4.958666666666667,\n",
       " 4.929333333333333,\n",
       " 4.968666666666667,\n",
       " 4.929666666666667,\n",
       " 4.931666666666667,\n",
       " 4.964666666666667,\n",
       " 5.009666666666667,\n",
       " 4.96,\n",
       " 5.009,\n",
       " 4.978666666666666,\n",
       " 4.947666666666667,\n",
       " 5.024333333333334,\n",
       " 4.971,\n",
       " 4.941333333333334,\n",
       " 4.941333333333334,\n",
       " 4.975,\n",
       " 4.974,\n",
       " 4.950666666666667,\n",
       " 4.984333333333334,\n",
       " 4.992666666666667,\n",
       " 4.972333333333333,\n",
       " 4.953,\n",
       " 4.938666666666666,\n",
       " 4.976,\n",
       " 4.969666666666667,\n",
       " 4.997,\n",
       " 4.878333333333333,\n",
       " 4.995,\n",
       " 4.967,\n",
       " 4.963666666666667,\n",
       " 4.981333333333334,\n",
       " 4.9896666666666665,\n",
       " 4.948,\n",
       " 4.941666666666666,\n",
       " 5.055,\n",
       " 5.017333333333333,\n",
       " 4.950666666666667,\n",
       " 4.94,\n",
       " 4.938666666666666,\n",
       " 4.931666666666667,\n",
       " 4.984,\n",
       " 4.966333333333333,\n",
       " 4.987666666666667,\n",
       " 4.944333333333334,\n",
       " 5.012666666666667,\n",
       " 5.002666666666666,\n",
       " 4.9526666666666666,\n",
       " 4.980666666666667,\n",
       " 5.015333333333333,\n",
       " 4.939,\n",
       " 4.968666666666667,\n",
       " 5.005333333333334,\n",
       " 5.001666666666667,\n",
       " 5.023333333333333,\n",
       " 4.967,\n",
       " 4.996,\n",
       " 4.937666666666667,\n",
       " 4.968333333333334,\n",
       " 4.961666666666667,\n",
       " 4.962666666666666,\n",
       " 4.995666666666667,\n",
       " 4.958,\n",
       " 4.999,\n",
       " 4.959333333333333,\n",
       " 4.9286666666666665,\n",
       " 5.016,\n",
       " 4.918,\n",
       " 4.946,\n",
       " 4.975,\n",
       " 4.962,\n",
       " 4.929,\n",
       " 4.964666666666667,\n",
       " 4.977,\n",
       " 4.955333333333333,\n",
       " 5.071666666666666,\n",
       " 4.959333333333333,\n",
       " 4.9896666666666665,\n",
       " 4.960333333333334,\n",
       " 5.001,\n",
       " 5.034666666666666,\n",
       " 4.991,\n",
       " 4.901,\n",
       " 5.007666666666666,\n",
       " 4.955666666666667,\n",
       " 4.941,\n",
       " 5.013333333333334,\n",
       " 5.032,\n",
       " 4.976666666666667,\n",
       " 4.983666666666666,\n",
       " 5.015666666666666,\n",
       " 4.9526666666666666,\n",
       " 4.990333333333333,\n",
       " 4.9943333333333335,\n",
       " 4.977666666666667,\n",
       " 4.954,\n",
       " 4.953666666666667,\n",
       " 4.940666666666667,\n",
       " 4.910666666666667,\n",
       " 4.957666666666666,\n",
       " 4.9783333333333335,\n",
       " 4.947666666666667,\n",
       " 4.923333333333333,\n",
       " 5.001333333333333,\n",
       " 4.989,\n",
       " 4.992,\n",
       " 5.015666666666666,\n",
       " 4.968,\n",
       " 4.968,\n",
       " 5.004333333333333,\n",
       " 4.987333333333333,\n",
       " 4.972333333333333,\n",
       " 4.988,\n",
       " 4.995,\n",
       " 4.945333333333333,\n",
       " 5.009333333333333,\n",
       " 4.999,\n",
       " 4.955333333333333,\n",
       " 5.004666666666667,\n",
       " 4.973333333333334,\n",
       " 5.011,\n",
       " 4.979666666666667,\n",
       " 5.002666666666666,\n",
       " 4.975333333333333,\n",
       " 4.978,\n",
       " 5.028333333333333,\n",
       " 4.94,\n",
       " 4.924666666666667,\n",
       " 4.985333333333333,\n",
       " 4.909666666666666,\n",
       " 5.012333333333333,\n",
       " 4.987333333333333,\n",
       " 4.967333333333333,\n",
       " 4.9286666666666665,\n",
       " 4.951666666666667,\n",
       " 4.9543333333333335,\n",
       " 4.995333333333333,\n",
       " 5.010666666666666,\n",
       " 4.943666666666667,\n",
       " 4.974333333333333,\n",
       " 4.9783333333333335,\n",
       " 4.929666666666667,\n",
       " 4.925333333333334,\n",
       " 4.923,\n",
       " 4.972333333333333,\n",
       " 4.971666666666667,\n",
       " 4.942333333333333,\n",
       " 4.998333333333333,\n",
       " 4.938666666666666,\n",
       " 5.007666666666666,\n",
       " 5.003,\n",
       " 5.043333333333333,\n",
       " 4.997,\n",
       " 4.965333333333334,\n",
       " 4.974,\n",
       " 4.984333333333334,\n",
       " 5.015333333333333,\n",
       " 4.953666666666667,\n",
       " 4.924333333333333,\n",
       " 4.929666666666667,\n",
       " 4.992,\n",
       " 5.006,\n",
       " 4.969,\n",
       " 4.967,\n",
       " 4.955333333333333,\n",
       " 4.972333333333333,\n",
       " 4.997333333333334,\n",
       " 4.957,\n",
       " 4.982333333333333,\n",
       " 4.999333333333333,\n",
       " 4.965,\n",
       " 4.9303333333333335,\n",
       " 4.986,\n",
       " 4.982,\n",
       " 4.959,\n",
       " 4.957,\n",
       " 4.963,\n",
       " 4.931333333333333,\n",
       " 4.962666666666666,\n",
       " 4.9463333333333335,\n",
       " 4.976,\n",
       " 5.028,\n",
       " 4.974,\n",
       " 4.940333333333333,\n",
       " 5.0,\n",
       " 4.978666666666666,\n",
       " 4.959666666666666,\n",
       " 4.995,\n",
       " 4.951333333333333,\n",
       " 4.979666666666667,\n",
       " 4.973333333333334,\n",
       " 4.974333333333333,\n",
       " 4.935,\n",
       " 5.008666666666667,\n",
       " 4.985666666666667,\n",
       " 4.920333333333334,\n",
       " 4.965333333333334,\n",
       " 4.987666666666667,\n",
       " 4.964,\n",
       " 5.000333333333334,\n",
       " 5.001666666666667,\n",
       " 4.946,\n",
       " 4.953,\n",
       " 5.006666666666667,\n",
       " 4.986666666666666,\n",
       " 4.9943333333333335,\n",
       " 4.994,\n",
       " 4.982333333333333,\n",
       " 5.002666666666666,\n",
       " 4.979,\n",
       " 4.977333333333333,\n",
       " 4.980333333333333,\n",
       " 4.909,\n",
       " 4.9303333333333335,\n",
       " 4.953666666666667,\n",
       " 4.974,\n",
       " 4.913,\n",
       " 4.982,\n",
       " 4.952333333333334,\n",
       " 4.976,\n",
       " 4.955666666666667,\n",
       " 4.958,\n",
       " 4.982333333333333,\n",
       " 4.968666666666667,\n",
       " 4.932666666666667,\n",
       " 4.973333333333334,\n",
       " 4.979,\n",
       " 4.982333333333333,\n",
       " 4.934333333333333,\n",
       " 4.947,\n",
       " 4.925,\n",
       " 4.975666666666666,\n",
       " 4.962666666666666,\n",
       " 5.013,\n",
       " 4.969,\n",
       " 4.987333333333333,\n",
       " 4.940666666666667,\n",
       " 4.966333333333333,\n",
       " 4.967666666666666,\n",
       " 4.9863333333333335,\n",
       " 5.002666666666666,\n",
       " 4.936,\n",
       " 4.969333333333333,\n",
       " 4.968333333333334,\n",
       " 4.980333333333333,\n",
       " 4.928333333333334,\n",
       " 5.006,\n",
       " 4.999333333333333,\n",
       " 4.948333333333333,\n",
       " 5.047666666666666,\n",
       " 5.012,\n",
       " 4.965333333333334,\n",
       " 5.000333333333334,\n",
       " 4.972333333333333,\n",
       " 4.9543333333333335,\n",
       " 5.011666666666667,\n",
       " 4.95,\n",
       " 4.941333333333334,\n",
       " ...]"
      ]
     },
     "execution_count": 98,
     "metadata": {},
     "output_type": "execute_result"
    }
   ],
   "source": [
    "mean_of_samples"
   ]
  },
  {
   "cell_type": "code",
   "execution_count": 99,
   "id": "9cc71629",
   "metadata": {},
   "outputs": [
    {
     "data": {
      "text/plain": [
       "(4.958414842751432, 4.983848383571201)"
      ]
     },
     "execution_count": 99,
     "metadata": {},
     "output_type": "execute_result"
    }
   ],
   "source": [
    "#confidence intervl\n",
    "np.mean(mean_of_samples)-margin_of_error, np.mean(mean_of_samples)+margin_of_error"
   ]
  },
  {
   "cell_type": "code",
   "execution_count": 110,
   "id": "7fb02b19",
   "metadata": {},
   "outputs": [
    {
     "data": {
      "text/plain": [
       "array([ 1.10214134e-01,  4.86946580e-02, -2.96654229e-01, -2.94359223e-01,\n",
       "       -1.30011777e+00,  5.43512856e-01,  2.21688977e-01,  5.82384399e-01,\n",
       "       -4.84512304e-01,  1.24035382e+00, -8.31994482e-01,  5.22872521e-01,\n",
       "       -4.22151626e-02,  1.01896055e+00,  2.22188900e+00, -3.21451127e-01,\n",
       "        4.77844588e-01, -1.34188025e+00, -4.18613384e-01, -1.75023897e-03,\n",
       "       -1.11316849e+00,  7.05115679e-03,  6.06349882e-02,  8.03021485e-01,\n",
       "       -2.45404747e+00,  2.47646669e-02, -3.19708304e-01,  2.07357318e-01,\n",
       "       -1.07053352e+00,  7.25161022e-01,  3.63539687e-01, -4.20492874e-01,\n",
       "        1.27775003e+00,  8.62929605e-01,  1.22588105e+00, -1.48120867e+00,\n",
       "       -8.81415465e-01, -1.31687646e-01, -5.16227676e-03, -1.00400692e+00,\n",
       "        8.04595947e-01,  6.03324750e-02,  5.98874771e-01, -6.36659154e-01,\n",
       "       -6.29048247e-02,  5.46569556e-01, -1.02716148e-01, -4.44960895e-01,\n",
       "        6.60956893e-01, -2.10351350e-01, -2.71967230e-01, -1.48211730e+00,\n",
       "        1.14435077e+00, -1.54108229e-01,  7.06372460e-01, -2.14694423e-01,\n",
       "       -4.67540997e-01,  7.07906503e-02,  2.59042460e-01,  1.48831586e+00,\n",
       "       -4.73264976e-01,  2.56892856e-01,  1.46231947e+00, -1.22809282e-01,\n",
       "        1.08589045e-01, -4.74757461e-01, -1.14611781e+00,  2.96119214e+00,\n",
       "        1.52711216e+00,  2.34816311e+00,  2.21679902e-01, -6.34582038e-01,\n",
       "       -6.48104635e-01, -4.51738084e-01, -2.12499021e-01, -8.88709422e-01,\n",
       "       -9.99746753e-01,  3.21682364e-01,  3.06782643e-01,  8.62760980e-01,\n",
       "        7.67835547e-01,  1.16531881e+00, -1.75942734e-01,  4.36710791e-01,\n",
       "       -1.97991660e+00, -1.14060595e+00,  1.42754995e+00,  4.18691329e-01,\n",
       "        3.60282177e-01,  6.31017451e-01, -4.35015251e-01,  2.09608086e-01,\n",
       "       -1.85018677e-01,  4.33247098e-01, -1.01892421e+00,  1.42307944e+00,\n",
       "        1.66447917e+00, -1.90760434e+00, -3.16089775e-01, -1.64004912e+00,\n",
       "        6.67394959e-01, -4.26897168e-01,  4.62034276e-01,  2.60072044e-01,\n",
       "        9.92748579e-01, -2.08942651e-01, -1.71234907e-01,  5.31333112e-01,\n",
       "       -1.60651482e+00,  1.70616989e-01,  8.46933838e-01,  1.35596680e-01,\n",
       "       -7.07571750e-01,  4.72999189e-01,  5.23606392e-01,  1.07827887e+00,\n",
       "       -2.03244347e-01, -1.59063613e+00, -5.91010430e-01, -1.87582729e-01,\n",
       "        4.91758015e-02,  9.47295102e-01, -5.28223277e-01, -1.52929071e+00,\n",
       "        6.64904903e-01, -1.82293242e-01, -1.36265073e+00, -2.38628056e+00,\n",
       "        7.78832233e-01, -1.21404024e+00,  6.26068184e-01,  8.09685325e-01,\n",
       "        1.12950108e+00,  1.99854482e+00,  2.35961389e+00, -4.80894220e-01,\n",
       "        9.72701115e-01, -1.61348569e+00,  2.10434899e-02,  1.83930844e-01,\n",
       "        6.22171096e-01,  7.63676608e-01, -1.10111567e+00, -2.16729223e-01,\n",
       "        5.85977304e-02, -1.03111945e-01, -1.00935649e+00, -1.83641332e+00,\n",
       "        8.95597212e-01, -3.47378364e-01, -8.78770419e-01,  8.71548781e-01,\n",
       "       -1.41514728e-01, -1.27347822e+00, -5.20168634e-01,  7.55942610e-01,\n",
       "        5.00065498e-01,  2.60079487e-01,  9.46976426e-01, -1.37287812e-01,\n",
       "       -8.99323090e-02,  5.38369829e-01, -3.31153363e-01, -4.55003362e-01,\n",
       "        1.88419046e-01,  4.04801613e-01, -5.20799783e-01,  9.05697600e-01,\n",
       "       -4.45034718e-01,  1.45315586e+00,  2.60945182e-01,  1.10658210e+00,\n",
       "        6.58294693e-01,  4.39401033e-01, -1.03405309e-01,  1.47671090e-01,\n",
       "        5.87568870e-01, -2.39101498e+00,  9.27187060e-01, -3.74011123e-01,\n",
       "       -6.19950946e-02,  8.65541970e-01,  7.95746772e-01, -4.16232643e-01,\n",
       "        1.85489936e+00, -3.44914274e-03, -3.81250159e-01, -3.20070421e-01,\n",
       "       -4.62185686e-02,  1.34188213e+00,  9.17384318e-01, -4.25516078e-01,\n",
       "       -1.88800190e+00, -6.80797837e-01, -1.24369420e+00,  2.28574240e+00,\n",
       "        1.31740127e+00,  9.83592152e-01,  1.90459551e-01, -1.81720646e+00,\n",
       "        1.48989426e+00,  7.32724331e-02, -2.40849275e-01, -4.00968504e-01,\n",
       "        1.31762860e+00, -3.92643075e-01,  3.72218387e-01,  3.84839895e-01,\n",
       "        5.20921659e-01,  1.53501175e-01, -2.02538977e+00,  1.95915822e-01,\n",
       "        5.92097328e-01,  5.37853228e-01, -3.97938509e-01,  1.48052435e+00,\n",
       "       -1.83696769e+00, -1.57215464e-01,  1.91867314e-01, -5.06795358e-01,\n",
       "       -1.21798278e+00,  8.66688258e-01,  1.95837766e-01, -5.66352270e-01,\n",
       "        6.61642386e-01, -1.71615703e-01, -3.26829013e-01,  1.33532438e-01,\n",
       "        1.10837727e+00, -4.52038071e-01,  1.04924618e-01,  8.54865569e-01,\n",
       "       -4.37774241e-01,  2.74891104e-01, -1.66037175e+00,  7.02086958e-01,\n",
       "       -1.54079313e+00,  1.39647594e-01, -7.58846704e-01, -1.06347679e+00,\n",
       "       -1.64235786e+00, -9.26456913e-01,  6.94251086e-01, -1.27781372e+00,\n",
       "        1.37861139e+00, -1.01516963e+00,  2.79027446e-02,  9.22365843e-01,\n",
       "        7.01442441e-01,  4.36316274e-01, -8.47769216e-01,  1.64315701e+00,\n",
       "        4.28315227e-01, -1.27482566e+00,  1.43696137e+00,  7.69606593e-01,\n",
       "       -5.13526338e-01, -4.59605860e-01, -8.48104861e-01,  1.38879828e-02,\n",
       "        1.00520540e+00,  1.05822955e+00, -3.17222583e-01,  5.54911053e-01,\n",
       "        3.95455815e-01,  6.11449102e-01,  6.44056127e-01,  1.58858281e+00,\n",
       "       -3.94269343e-01, -8.46841872e-01, -6.72009776e-01,  3.64994598e-01,\n",
       "       -5.38386360e-01,  2.06983493e+00,  5.42962017e-01, -1.15016255e+00,\n",
       "        1.27824006e-01,  1.28269662e+00,  6.39171863e-01, -7.21471900e-01,\n",
       "        3.26246344e-01, -2.22671347e+00,  1.19046101e+00,  4.67759096e-01,\n",
       "       -5.53908081e-01, -3.32030934e-01,  6.25809031e-01,  1.07644218e+00,\n",
       "       -1.84741246e+00,  1.55756580e+00, -7.51581360e-01,  4.52087223e-01,\n",
       "        1.27758781e-01,  2.04484643e-01, -1.77938995e-01, -1.01366595e+00,\n",
       "       -1.03293158e+00, -2.62305323e-02,  3.61680152e-01,  4.02772494e-01,\n",
       "        1.16815275e+00, -3.16951938e-02,  1.07891088e+00, -2.16907052e-01,\n",
       "       -2.09567446e+00,  9.37331590e-01, -9.03674615e-01,  7.12301336e-02,\n",
       "        1.17913332e+00, -7.41123591e-01,  1.25064349e-01,  7.48416993e-01,\n",
       "        9.95294030e-01,  2.93179163e-01, -7.69913978e-01, -3.30199200e-01,\n",
       "       -5.66832216e-01,  5.09496735e-01,  7.07692511e-01, -1.57862145e+00,\n",
       "       -6.55227999e-01,  1.54907723e+00, -1.64678361e+00,  2.16094031e+00,\n",
       "       -1.19089895e+00, -3.97928056e-01,  9.31756050e-01, -1.33174677e+00,\n",
       "       -1.14774769e+00, -1.07010327e+00,  8.78481374e-01, -5.87247313e-01,\n",
       "        7.58950063e-01,  2.74568292e-01, -4.33473300e-01,  1.84326949e-01,\n",
       "       -1.19701451e+00, -1.69188872e+00, -2.39572158e-01, -1.21380313e+00,\n",
       "       -3.78726953e-01,  5.56322341e-01, -6.57996768e-01, -1.14115738e+00,\n",
       "       -1.60874138e-01, -1.06883093e+00, -1.91865200e+00,  9.96554902e-01,\n",
       "        2.90294665e-02, -2.22373686e+00, -1.53300237e+00,  1.32941414e+00,\n",
       "       -2.01345706e-01, -4.73572883e-02,  2.44617219e-01,  6.74802069e-01,\n",
       "        1.32038084e-01, -2.11610440e+00, -1.93811769e-01, -5.46115731e-01,\n",
       "       -2.13722398e-02,  2.63046191e-01,  6.56953128e-02,  1.91854571e-01,\n",
       "       -1.05151025e+00,  1.29472651e+00,  3.63834832e-01,  1.95818998e-01,\n",
       "       -4.15533323e-01,  2.06056199e-01, -7.89480955e-01,  1.53250600e-01,\n",
       "        1.47327340e+00,  7.22064193e-01, -1.35085554e+00, -1.89689151e+00,\n",
       "        8.50411588e-01, -6.35265957e-01,  2.75176359e-01,  9.85559806e-01,\n",
       "       -3.91015427e-01, -4.93678249e-01,  5.98127888e-01, -1.32130066e+00,\n",
       "        2.65430621e-01,  1.20994154e+00, -1.63876147e-01, -7.60174235e-02,\n",
       "        7.49174273e-01,  8.41743500e-01, -4.10217025e-01, -8.63969206e-01,\n",
       "       -4.38392205e-01, -1.30670455e+00, -6.08381664e-01, -4.47795963e-01,\n",
       "        1.28044527e+00, -1.63864436e+00, -6.57159588e-01,  1.01833020e-01,\n",
       "        5.26392740e-01,  6.81632053e-01,  2.01402924e+00, -7.72690307e-03,\n",
       "        2.06492173e-01,  3.01529288e-01,  6.08604276e-01,  4.75127014e-01,\n",
       "       -3.69470985e-01, -1.39943185e+00,  9.35947680e-01, -8.90644087e-01,\n",
       "        4.09397384e-01,  1.21289955e+00,  8.67309583e-01, -1.01626282e+00,\n",
       "       -1.07859500e+00,  5.87153631e-01, -5.58083054e-01,  5.13104199e-01,\n",
       "        2.37375138e-01, -7.69479100e-01,  9.89409725e-01,  2.21482331e+00,\n",
       "        2.78358024e-01, -1.72059255e+00,  7.40870425e-01, -5.78784036e-01,\n",
       "       -7.71903026e-02,  7.25784848e-01,  8.71474264e-01,  1.03230212e+00,\n",
       "       -1.52959500e+00,  2.03684648e-01,  5.99273890e-01,  3.39946512e-01,\n",
       "       -4.35176801e-01, -1.23212364e+00,  2.29592679e-01, -9.58778975e-02,\n",
       "        1.88047765e+00, -5.59797238e-01, -7.18219359e-02,  4.88678480e-01,\n",
       "       -2.09025726e+00, -4.20809311e-01, -1.87561184e-01,  1.08887638e+00,\n",
       "        9.33350579e-01, -7.45148402e-01,  2.50291758e-01,  2.53325515e+00,\n",
       "       -9.82540471e-02, -1.38448322e+00, -1.84171592e-02,  1.34059160e+00,\n",
       "        1.84079975e+00,  9.03847971e-01,  1.15847224e-01,  2.09104174e-01,\n",
       "       -1.05391890e+00, -1.18282219e+00,  8.20449915e-01, -9.91536300e-02,\n",
       "        5.09263756e-01, -5.42582207e-01, -4.14795586e-01, -1.80172185e+00,\n",
       "       -3.17856855e-02,  3.57220662e-01,  1.34369317e+00,  1.31518780e+00,\n",
       "       -8.21695375e-01,  1.37334169e+00, -4.48794286e-01, -4.65221629e-01,\n",
       "       -5.13793530e-01,  3.31994115e-01,  5.28861294e-01,  5.79552032e-01,\n",
       "       -1.34141803e+00, -7.63904011e-01, -2.05404262e-01, -5.27312410e-02,\n",
       "        7.00606905e-01,  1.55754081e+00, -5.17150991e-01,  5.11095422e-01,\n",
       "        1.08744818e+00, -1.06444703e-01, -2.33121065e-03,  2.20639133e-01,\n",
       "        6.28275997e-01,  1.93321681e+00, -8.35938029e-02,  1.23961008e+00,\n",
       "       -1.18523878e+00,  1.42828510e-01, -4.12109846e-01, -1.51072032e+00,\n",
       "       -1.36239398e+00,  3.22485293e-01,  6.35212541e-01,  4.19389690e-01,\n",
       "        1.83696014e+00, -1.09218244e+00,  1.20662723e+00,  7.70851927e-01,\n",
       "       -5.87717905e-02,  2.70102385e-01, -6.08303416e-01, -7.71179147e-01,\n",
       "        2.43397356e-01, -4.41840760e-01,  3.63620855e-01,  1.12728819e+00,\n",
       "       -3.35271837e-01,  8.40065661e-01,  2.29473358e-01,  3.64884345e-01,\n",
       "       -1.29919363e+00, -7.95346047e-02,  2.15315347e+00, -6.14424221e-01,\n",
       "        1.14300493e+00,  1.08629025e+00,  7.51868609e-01,  2.38576193e-01,\n",
       "        1.17429369e+00,  5.35509895e-01,  3.70941272e-01,  5.77190182e-01,\n",
       "       -2.83609398e-01,  8.91793261e-02, -7.66949541e-01, -6.10536746e-01,\n",
       "       -3.82643309e-01,  1.82203873e+00, -1.75751959e-01, -1.20632736e+00,\n",
       "        1.83182993e-01, -1.00339045e+00,  3.39789510e-01, -1.37656034e-01,\n",
       "       -3.29253066e-03, -2.28970824e-01,  3.19505438e-01,  5.02074537e-01,\n",
       "       -9.54387519e-01,  8.23099825e-01, -9.63124398e-01,  1.78108518e+00,\n",
       "       -2.33209556e+00, -4.64450703e-02,  4.57667047e-02,  1.52671299e+00,\n",
       "        9.98337377e-01,  1.06881781e+00,  4.32615463e-01, -9.96080802e-01,\n",
       "       -7.29245263e-01,  1.60780079e+00,  7.13010804e-01, -2.71293122e-01,\n",
       "       -4.89030879e-01,  6.26860876e-01, -8.97685463e-01, -1.45687161e+00,\n",
       "        1.14376210e+00, -7.54125476e-01, -7.25583918e-01, -1.03098921e+00,\n",
       "       -6.16253328e-02,  3.92499316e-01,  3.32096478e-01, -7.01836756e-01,\n",
       "        1.25585820e+00,  7.22544604e-01,  9.12126179e-01, -2.77287771e-01,\n",
       "        8.78905116e-01,  1.72547979e+00, -2.09408064e+00,  7.73288898e-01,\n",
       "        4.53257953e-01, -9.02204150e-01, -1.13168017e+00, -2.57761740e-02,\n",
       "        5.54725881e-01, -1.07156018e+00, -1.39121860e-01, -6.86718976e-01,\n",
       "       -5.27752816e-01,  1.47648458e+00, -6.81533271e-01, -2.84613808e+00,\n",
       "        4.35855032e-01, -5.91821727e-01,  3.52191966e-01, -8.45430229e-02,\n",
       "        2.42995249e+00,  4.82604973e-01, -6.87010859e-02,  2.59450634e-01,\n",
       "        3.31775038e-01,  1.70231722e+00,  5.82510613e-01, -1.82749485e-01,\n",
       "        1.63480452e+00, -9.37170761e-01,  5.47983851e-01,  4.91931472e-01,\n",
       "       -6.04681107e-01,  4.25897951e-01,  1.69781306e-01,  2.62521120e+00,\n",
       "       -4.06754367e-01, -6.33747311e-01,  1.33280705e+00,  3.06123048e-01,\n",
       "        1.88938433e+00,  3.90622984e-01, -1.73138713e+00, -1.58586709e-01,\n",
       "        2.31707927e+00, -1.81023362e+00, -1.82204260e-01,  1.10918176e+00,\n",
       "       -7.02981100e-01,  3.66377119e-01,  1.48286017e-01,  8.99876342e-01,\n",
       "       -2.43251686e-01,  2.15682092e-02, -1.27715698e+00, -2.17914532e-01,\n",
       "       -2.57861167e-01,  4.51211375e-01,  1.85008339e+00, -4.78090087e-01,\n",
       "        1.66531603e+00, -9.47651541e-01, -8.45018681e-01,  3.97351058e-02,\n",
       "        8.26581050e-01,  2.43413875e-01,  1.04418231e+00, -7.86658581e-01,\n",
       "       -5.63770828e-01,  8.82830023e-01,  1.40419558e+00, -1.76285607e+00,\n",
       "       -9.74945005e-01, -4.94009357e-01,  5.91280695e-01, -1.02631054e-01,\n",
       "       -1.22432335e-01, -2.32706439e-01,  1.89374228e-01, -1.77884038e-01,\n",
       "        1.18717287e+00, -1.60700009e-01,  3.83025458e-01, -1.14515561e+00,\n",
       "        2.34604834e-01,  1.27334592e+00, -2.29757596e-01, -5.57657754e-01,\n",
       "        1.89006743e-02, -2.31814663e+00,  9.38882954e-03, -2.33770237e+00,\n",
       "        2.09960325e-02, -9.94689679e-01, -2.56507358e-01,  2.22319244e-02,\n",
       "       -9.00155315e-01,  6.12792095e-01,  6.91223611e-01,  8.93278368e-01,\n",
       "        4.72395362e-02, -8.60574654e-01, -8.74763557e-01, -2.99333303e-01,\n",
       "        8.94855264e-01, -6.85100552e-01, -3.98044507e-01,  1.70233307e+00,\n",
       "        1.58247912e-02,  4.76566883e-01, -2.48968952e-01, -3.28301783e-01,\n",
       "       -8.16265798e-01,  1.93231160e-02, -3.75099739e-01, -1.61876495e+00,\n",
       "       -1.36021687e+00, -2.46128740e+00,  1.98556340e-01, -1.71849270e-01,\n",
       "        4.59900113e-01,  1.06662976e+00, -1.75516458e+00, -1.72453908e-01,\n",
       "        1.44016186e+00, -3.14595274e-01, -9.29147626e-01,  2.49656993e-01,\n",
       "       -7.84410725e-01, -3.30166853e-01,  9.18922441e-01, -2.28511336e-01,\n",
       "       -4.79371126e-02,  4.09194137e-01, -8.20902627e-02, -6.37487456e-01,\n",
       "        2.55927579e-01, -4.02138775e-01, -1.62164367e+00, -4.07673769e-01,\n",
       "        9.82234504e-01,  1.40946538e+00, -3.70606612e-01, -1.20605624e+00,\n",
       "       -2.28761432e-01, -7.62178296e-01,  2.57460478e-01,  7.60139879e-01,\n",
       "       -1.41877280e+00, -2.58049267e-01,  6.49422190e-02, -1.20956682e+00,\n",
       "        1.58164691e+00,  1.51633500e+00, -6.04874213e-01, -1.16784192e+00,\n",
       "        6.35438086e-01, -7.61323749e-01,  1.02110471e+00, -1.01036837e+00,\n",
       "       -4.84998589e-01,  9.30037417e-01, -3.48956763e-01, -9.27957217e-01,\n",
       "       -1.09126742e+00,  1.49278182e+00,  3.90823952e-02,  1.76787897e-01,\n",
       "       -7.36328449e-01,  8.61788677e-01,  7.71722272e-01, -6.21640725e-01,\n",
       "        5.27887453e-01,  6.07173621e-01, -2.11288828e-01,  1.02128652e+00,\n",
       "        5.08145426e-02,  5.09011947e-01,  1.42170086e+00,  5.53127355e-01,\n",
       "       -9.23354409e-01, -4.02542355e-01,  3.36238774e-01, -2.37488611e-01,\n",
       "       -5.59340349e-01,  2.04517410e+00,  6.00904849e-01, -1.20174403e+00,\n",
       "       -9.03266543e-02,  1.04938077e+00, -4.14003647e-01,  5.67831262e-01,\n",
       "       -2.08507233e-01,  1.62653085e-01,  4.07485637e-01,  7.83049805e-01,\n",
       "        7.31053699e-01,  7.43227771e-01, -5.52890938e-01,  1.89758195e+00,\n",
       "        4.90500533e-01, -4.01835479e-01, -9.12260717e-01, -1.85198808e-01,\n",
       "        5.57701299e-01,  1.55467428e+00, -6.58783485e-01,  1.01739270e+00,\n",
       "        9.65566671e-01,  1.66474649e+00, -4.33200672e-01, -3.52006428e-01,\n",
       "        2.87728853e-01, -2.13944831e+00,  3.98390199e-01,  7.38606963e-01,\n",
       "        2.52789260e+00,  1.67458689e+00,  2.60976916e+00,  2.44671805e-01,\n",
       "       -2.56733252e-01,  7.36279670e-01, -4.42697494e-01,  1.98933940e-01,\n",
       "       -9.55891587e-01, -1.01445027e+00, -5.47950984e-01, -1.80060632e-01,\n",
       "       -1.57979618e+00,  1.23108390e+00, -6.29838102e-01, -1.78202305e-01,\n",
       "       -1.38233286e+00,  3.03546079e+00,  1.96515044e+00, -3.59645718e-01,\n",
       "        2.81856763e-01,  5.21341228e-02, -2.04697165e-01,  3.81286558e-01,\n",
       "        2.14832862e+00,  1.58249072e+00,  1.21163152e-01,  1.72952714e-01,\n",
       "        1.19171523e+00, -1.77074759e+00, -1.04004719e+00,  1.60769379e-02,\n",
       "       -2.72923158e-02, -6.87470728e-03, -8.16204131e-01,  4.76721897e-01,\n",
       "        6.42121083e-01, -1.36481918e+00, -1.16870468e+00,  1.17403303e+00,\n",
       "        3.99364637e-01, -7.78511663e-01, -1.10735594e-01, -1.37268806e+00,\n",
       "        2.35968533e-01, -9.78810358e-01,  3.85832772e-01,  7.97856357e-02,\n",
       "       -6.88852342e-01, -6.17096799e-01,  3.83745688e-01, -1.70622109e+00,\n",
       "       -1.05617495e+00,  6.18278794e-01,  6.91860063e-01,  7.89073124e-03,\n",
       "       -7.75239433e-01,  7.95593989e-01,  4.54413352e-02, -8.74518088e-02,\n",
       "        3.89489947e-01,  5.89765710e-01,  8.42175800e-01, -1.53471144e+00,\n",
       "        6.70586825e-01,  5.52197488e-01,  2.44126345e-01,  8.51965673e-01,\n",
       "        2.35725123e-01, -1.02498588e+00,  5.06559912e-01, -4.07154623e-01,\n",
       "       -5.81121938e-01, -1.45309899e+00,  1.26112277e+00,  5.92728736e-02,\n",
       "       -5.98889974e-02, -7.30106020e-01, -9.03740128e-01, -4.26890438e-01,\n",
       "       -5.08196105e-01, -1.08576935e+00, -1.12978801e+00, -1.43894222e+00,\n",
       "        2.21157816e-01, -6.23096041e-02, -1.43402853e+00,  2.42128263e-01,\n",
       "        1.13882557e+00,  1.04857318e+00, -3.88941786e-01,  1.72163244e+00,\n",
       "       -1.14455924e+00, -1.80496248e+00,  1.91097539e+00,  1.05386124e+00,\n",
       "        9.42679324e-01,  1.52544911e-01,  1.15084322e+00,  9.14660727e-01,\n",
       "        4.89782256e-01, -5.76431784e-01,  1.38407520e+00,  2.17247476e-01,\n",
       "        5.35547449e-01,  1.23570264e+00,  1.13191203e+00,  8.75744100e-01,\n",
       "        1.06911290e+00, -4.46941465e-01, -1.15247258e+00, -6.37122253e-02,\n",
       "        8.06410657e-01,  1.90995148e+00,  6.16492632e-02, -1.85687563e-01,\n",
       "        7.96833484e-01, -6.66834345e-02, -1.36924476e+00, -7.77162782e-01,\n",
       "        1.16222439e+00, -5.20529732e-01, -3.11609752e-01,  5.87047349e-01,\n",
       "        1.14837522e+00,  1.45231463e+00,  1.50336538e-02,  1.06717244e+00,\n",
       "        8.40632021e-01, -1.23599790e+00,  8.18353811e-01, -6.78179619e-01,\n",
       "       -5.44950916e-02,  1.39239199e+00,  1.06693931e+00, -1.16840348e+00,\n",
       "        1.24407764e+00, -9.67128643e-01,  8.74577047e-01,  2.63756286e-01,\n",
       "       -1.17524061e+00,  1.34455836e+00,  1.49522806e+00,  2.02510835e+00,\n",
       "        1.45569985e+00,  1.22205188e-01, -3.02113286e-01, -1.01653962e-01,\n",
       "       -3.39560308e-01,  3.21393366e-01, -1.01592091e+00, -1.56962493e+00,\n",
       "        7.97778422e-01, -6.70408935e-02, -2.11900709e+00,  3.97153165e-01,\n",
       "        5.43826012e-01, -2.22807238e-01,  1.66393618e+00,  6.04673298e-01,\n",
       "        1.10783314e+00, -1.10995524e-01,  1.51751875e-01,  3.10987193e-01,\n",
       "        3.97946890e-01,  7.31529602e-01, -4.07921638e-01,  8.81600612e-01,\n",
       "        6.98075729e-01,  1.53825742e+00, -7.70884596e-01,  1.97620988e+00,\n",
       "       -4.03796540e-01,  2.58205402e-01, -5.84650706e-01, -2.97758308e-02,\n",
       "        1.71634804e+00,  4.61703472e-01, -1.10953048e-01, -7.15004144e-02,\n",
       "       -1.80746513e-01, -1.18260901e+00,  3.67048743e-01,  1.55615631e+00,\n",
       "       -6.94226136e-01,  4.66213436e-01,  1.07809598e+00,  1.40627460e+00,\n",
       "       -1.09864856e+00,  1.40772302e+00, -1.08900778e-01,  1.24083976e+00,\n",
       "       -7.13152067e-01, -1.58292005e+00, -1.36529308e+00, -2.20417133e+00,\n",
       "        9.16215677e-01,  9.11671801e-01,  8.41754626e-01,  5.44447254e-01,\n",
       "        7.91412544e-01, -7.64992981e-01, -4.32499019e-01, -3.57039962e-01])"
      ]
     },
     "execution_count": 110,
     "metadata": {},
     "output_type": "execute_result"
    }
   ],
   "source": [
    "#Ztest\n",
    "population = np.random.randn(1000)\n",
    "population"
   ]
  },
  {
   "cell_type": "code",
   "execution_count": 111,
   "id": "13862526",
   "metadata": {},
   "outputs": [
    {
     "name": "stderr",
     "output_type": "stream",
     "text": [
      "C:\\Users\\ajayk\\AppData\\Local\\Temp\\ipykernel_3508\\2958836585.py:1: UserWarning: \n",
      "\n",
      "`distplot` is a deprecated function and will be removed in seaborn v0.14.0.\n",
      "\n",
      "Please adapt your code to use either `displot` (a figure-level function with\n",
      "similar flexibility) or `histplot` (an axes-level function for histograms).\n",
      "\n",
      "For a guide to updating your code to use the new functions, please see\n",
      "https://gist.github.com/mwaskom/de44147ed2974457ad6372750bbe5751\n",
      "\n",
      "  sns.distplot(population)\n",
      "C:\\Users\\ajayk\\anaconda3\\Lib\\site-packages\\seaborn\\_oldcore.py:1119: FutureWarning: use_inf_as_na option is deprecated and will be removed in a future version. Convert inf values to NaN before operating instead.\n",
      "  with pd.option_context('mode.use_inf_as_na', True):\n"
     ]
    },
    {
     "data": {
      "text/plain": [
       "<Axes: ylabel='Density'>"
      ]
     },
     "execution_count": 111,
     "metadata": {},
     "output_type": "execute_result"
    },
    {
     "data": {
      "image/png": "[encoded data removed]",
      "text/plain": [
       "<Figure size 640x480 with 1 Axes>"
      ]
     },
     "metadata": {},
     "output_type": "display_data"
    }
   ],
   "source": [
    "sns.distplot(population)"
   ]
  },
  {
   "cell_type": "code",
   "execution_count": 112,
   "id": "d00e7460",
   "metadata": {},
   "outputs": [
    {
     "data": {
      "text/plain": [
       "(0.057219012491105774, 0.9509825224652075)"
      ]
     },
     "execution_count": 112,
     "metadata": {},
     "output_type": "execute_result"
    }
   ],
   "source": [
    "np.mean(population), np.std(population)"
   ]
  },
  {
   "cell_type": "code",
   "execution_count": 115,
   "id": "31d00228",
   "metadata": {},
   "outputs": [],
   "source": [
    "null_mean = 0.05 #claim\n",
    "#if pvalue <= 0.05 -- reject null hypothesis\n",
    "#if p value > 0.05 -- fail to reject null hypothesis\n",
    "\n",
    "\n",
    "from statsmodels.stats.weightstats import ztest"
   ]
  },
  {
   "cell_type": "code",
   "execution_count": 117,
   "id": "1ecfe957",
   "metadata": {},
   "outputs": [],
   "source": [
    "zscore, pvalue = ztest(population, value = null_mean, alternative = 'larger') #here alternative means, mean is greater than null mean"
   ]
  },
  {
   "cell_type": "code",
   "execution_count": 118,
   "id": "c3df70f6",
   "metadata": {},
   "outputs": [
    {
     "data": {
      "text/plain": [
       "0.239931904889215"
      ]
     },
     "execution_count": 118,
     "metadata": {},
     "output_type": "execute_result"
    }
   ],
   "source": [
    "zscore"
   ]
  },
  {
   "cell_type": "code",
   "execution_count": 119,
   "id": "57da2a68",
   "metadata": {},
   "outputs": [
    {
     "data": {
      "text/plain": [
       "0.40519152331421676"
      ]
     },
     "execution_count": 119,
     "metadata": {},
     "output_type": "execute_result"
    }
   ],
   "source": [
    "pvalue"
   ]
  },
  {
   "cell_type": "code",
   "execution_count": 121,
   "id": "f0961ffb",
   "metadata": {},
   "outputs": [
    {
     "name": "stdout",
     "output_type": "stream",
     "text": [
      "fail to reject the H0\n"
     ]
    }
   ],
   "source": [
    "if pvalue <= 0.05:\n",
    "    print(\"Reject the H0\")\n",
    "else:\n",
    "    print(\"fail to reject the H0\")"
   ]
  },
  {
   "cell_type": "raw",
   "id": "bce771b3",
   "metadata": {},
   "source": [
    "#A school calculated iq scores of 50 students, the average iq  turned out to be 100. the mean of population iq is 90 \n",
    "#and the std deviation 16. \\\n",
    "#state whether the claim by school \n",
    "#that IQ increases if student study more than avg of school with 5% of significance level\n",
    "\n",
    "#null hypothesis : mean_iq = 90\n",
    "#Alternate: mean_iq > 90"
   ]
  },
  {
   "cell_type": "code",
   "execution_count": 122,
   "id": "b9d7efd3",
   "metadata": {},
   "outputs": [],
   "source": [
    "#zcritical approach\n",
    "import scipy.stats as stats\n",
    "\n",
    "sample_mean = 100\n",
    "population_mean = 90\n",
    "population_std = 16\n",
    "sample_size = 50\n",
    "alpha = 0.05"
   ]
  },
  {
   "cell_type": "code",
   "execution_count": 123,
   "id": "63b64208",
   "metadata": {},
   "outputs": [],
   "source": [
    "zscore = (sample_mean - population_mean)/(population_std/np.sqrt(sample_size))"
   ]
  },
  {
   "cell_type": "code",
   "execution_count": 124,
   "id": "325385a5",
   "metadata": {},
   "outputs": [
    {
     "data": {
      "text/plain": [
       "4.419417382415922"
      ]
     },
     "execution_count": 124,
     "metadata": {},
     "output_type": "execute_result"
    }
   ],
   "source": [
    "zscore"
   ]
  },
  {
   "cell_type": "code",
   "execution_count": 126,
   "id": "b7e72746",
   "metadata": {},
   "outputs": [],
   "source": [
    "#stats module in scipy>>zcritical\n",
    "#percent point function>>inverse of cdf\n",
    "zcritical = stats.norm.ppf(1-alpha)"
   ]
  },
  {
   "cell_type": "code",
   "execution_count": 127,
   "id": "200af89f",
   "metadata": {},
   "outputs": [
    {
     "data": {
      "text/plain": [
       "1.6448536269514722"
      ]
     },
     "execution_count": 127,
     "metadata": {},
     "output_type": "execute_result"
    }
   ],
   "source": [
    "zcritical"
   ]
  },
  {
   "cell_type": "code",
   "execution_count": 128,
   "id": "f3b4ba91",
   "metadata": {},
   "outputs": [
    {
     "name": "stdout",
     "output_type": "stream",
     "text": [
      "Reject the h0\n"
     ]
    }
   ],
   "source": [
    "if zscore >= zcritical:\n",
    "    print(\"Reject the h0\")\n",
    "else:\n",
    "    print(\"fail to reject the h0\")"
   ]
  },
  {
   "cell_type": "code",
   "execution_count": 129,
   "id": "10b1bf37",
   "metadata": {},
   "outputs": [
    {
     "data": {
      "text/plain": [
       "4.948367312573865e-06"
      ]
     },
     "execution_count": 129,
     "metadata": {},
     "output_type": "execute_result"
    }
   ],
   "source": [
    "#pvalue approach using scipy\n",
    "\n",
    "pvalue = 1-stats.norm.cdf(zscore)\n",
    "pvalue"
   ]
  },
  {
   "cell_type": "code",
   "execution_count": 130,
   "id": "65ea3093",
   "metadata": {},
   "outputs": [
    {
     "name": "stdout",
     "output_type": "stream",
     "text": [
      "Reject the H0\n"
     ]
    }
   ],
   "source": [
    "if pvalue <= alpha:\n",
    "    print(\"Reject the H0\")\n",
    "else:\n",
    "    print(\"Fail to reject H0\")"
   ]
  },
  {
   "cell_type": "code",
   "execution_count": null,
   "id": "92d0dbb4",
   "metadata": {},
   "outputs": [],
   "source": [
    "#how to know if the given data is normally distributed or not\n",
    "#distribution plot, q-q plot\n",
    "#statistical test"
   ]
  },
  {
   "cell_type": "code",
   "execution_count": 155,
   "id": "f124b7f2",
   "metadata": {},
   "outputs": [],
   "source": [
    "data = pd.read_csv(\"https://raw.githubusercontent.com/shrikant-temburwar/Wine-Quality-Dataset/master/winequality-red.csv\", sep = \";\")"
   ]
  },
  {
   "cell_type": "code",
   "execution_count": 156,
   "id": "6801450d",
   "metadata": {},
   "outputs": [
    {
     "data": {
      "text/html": [
       "<div>\n",
       "<style scoped>\n",
       "    .dataframe tbody tr th:only-of-type {\n",
       "        vertical-align: middle;\n",
       "    }\n",
       "\n",
       "    .dataframe tbody tr th {\n",
       "        vertical-align: top;\n",
       "    }\n",
       "\n",
       "    .dataframe thead th {\n",
       "        text-align: right;\n",
       "    }\n",
       "</style>\n",
       "<table border=\"1\" class=\"dataframe\">\n",
       "  <thead>\n",
       "    <tr style=\"text-align: right;\">\n",
       "      <th></th>\n",
       "      <th>fixed acidity</th>\n",
       "      <th>volatile acidity</th>\n",
       "      <th>citric acid</th>\n",
       "      <th>residual sugar</th>\n",
       "      <th>chlorides</th>\n",
       "      <th>free sulfur dioxide</th>\n",
       "      <th>total sulfur dioxide</th>\n",
       "      <th>density</th>\n",
       "      <th>pH</th>\n",
       "      <th>sulphates</th>\n",
       "      <th>alcohol</th>\n",
       "      <th>quality</th>\n",
       "    </tr>\n",
       "  </thead>\n",
       "  <tbody>\n",
       "    <tr>\n",
       "      <th>0</th>\n",
       "      <td>7.4</td>\n",
       "      <td>0.700</td>\n",
       "      <td>0.00</td>\n",
       "      <td>1.9</td>\n",
       "      <td>0.076</td>\n",
       "      <td>11.0</td>\n",
       "      <td>34.0</td>\n",
       "      <td>0.99780</td>\n",
       "      <td>3.51</td>\n",
       "      <td>0.56</td>\n",
       "      <td>9.4</td>\n",
       "      <td>5</td>\n",
       "    </tr>\n",
       "    <tr>\n",
       "      <th>1</th>\n",
       "      <td>7.8</td>\n",
       "      <td>0.880</td>\n",
       "      <td>0.00</td>\n",
       "      <td>2.6</td>\n",
       "      <td>0.098</td>\n",
       "      <td>25.0</td>\n",
       "      <td>67.0</td>\n",
       "      <td>0.99680</td>\n",
       "      <td>3.20</td>\n",
       "      <td>0.68</td>\n",
       "      <td>9.8</td>\n",
       "      <td>5</td>\n",
       "    </tr>\n",
       "    <tr>\n",
       "      <th>2</th>\n",
       "      <td>7.8</td>\n",
       "      <td>0.760</td>\n",
       "      <td>0.04</td>\n",
       "      <td>2.3</td>\n",
       "      <td>0.092</td>\n",
       "      <td>15.0</td>\n",
       "      <td>54.0</td>\n",
       "      <td>0.99700</td>\n",
       "      <td>3.26</td>\n",
       "      <td>0.65</td>\n",
       "      <td>9.8</td>\n",
       "      <td>5</td>\n",
       "    </tr>\n",
       "    <tr>\n",
       "      <th>3</th>\n",
       "      <td>11.2</td>\n",
       "      <td>0.280</td>\n",
       "      <td>0.56</td>\n",
       "      <td>1.9</td>\n",
       "      <td>0.075</td>\n",
       "      <td>17.0</td>\n",
       "      <td>60.0</td>\n",
       "      <td>0.99800</td>\n",
       "      <td>3.16</td>\n",
       "      <td>0.58</td>\n",
       "      <td>9.8</td>\n",
       "      <td>6</td>\n",
       "    </tr>\n",
       "    <tr>\n",
       "      <th>4</th>\n",
       "      <td>7.4</td>\n",
       "      <td>0.700</td>\n",
       "      <td>0.00</td>\n",
       "      <td>1.9</td>\n",
       "      <td>0.076</td>\n",
       "      <td>11.0</td>\n",
       "      <td>34.0</td>\n",
       "      <td>0.99780</td>\n",
       "      <td>3.51</td>\n",
       "      <td>0.56</td>\n",
       "      <td>9.4</td>\n",
       "      <td>5</td>\n",
       "    </tr>\n",
       "    <tr>\n",
       "      <th>...</th>\n",
       "      <td>...</td>\n",
       "      <td>...</td>\n",
       "      <td>...</td>\n",
       "      <td>...</td>\n",
       "      <td>...</td>\n",
       "      <td>...</td>\n",
       "      <td>...</td>\n",
       "      <td>...</td>\n",
       "      <td>...</td>\n",
       "      <td>...</td>\n",
       "      <td>...</td>\n",
       "      <td>...</td>\n",
       "    </tr>\n",
       "    <tr>\n",
       "      <th>1594</th>\n",
       "      <td>6.2</td>\n",
       "      <td>0.600</td>\n",
       "      <td>0.08</td>\n",
       "      <td>2.0</td>\n",
       "      <td>0.090</td>\n",
       "      <td>32.0</td>\n",
       "      <td>44.0</td>\n",
       "      <td>0.99490</td>\n",
       "      <td>3.45</td>\n",
       "      <td>0.58</td>\n",
       "      <td>10.5</td>\n",
       "      <td>5</td>\n",
       "    </tr>\n",
       "    <tr>\n",
       "      <th>1595</th>\n",
       "      <td>5.9</td>\n",
       "      <td>0.550</td>\n",
       "      <td>0.10</td>\n",
       "      <td>2.2</td>\n",
       "      <td>0.062</td>\n",
       "      <td>39.0</td>\n",
       "      <td>51.0</td>\n",
       "      <td>0.99512</td>\n",
       "      <td>3.52</td>\n",
       "      <td>0.76</td>\n",
       "      <td>11.2</td>\n",
       "      <td>6</td>\n",
       "    </tr>\n",
       "    <tr>\n",
       "      <th>1596</th>\n",
       "      <td>6.3</td>\n",
       "      <td>0.510</td>\n",
       "      <td>0.13</td>\n",
       "      <td>2.3</td>\n",
       "      <td>0.076</td>\n",
       "      <td>29.0</td>\n",
       "      <td>40.0</td>\n",
       "      <td>0.99574</td>\n",
       "      <td>3.42</td>\n",
       "      <td>0.75</td>\n",
       "      <td>11.0</td>\n",
       "      <td>6</td>\n",
       "    </tr>\n",
       "    <tr>\n",
       "      <th>1597</th>\n",
       "      <td>5.9</td>\n",
       "      <td>0.645</td>\n",
       "      <td>0.12</td>\n",
       "      <td>2.0</td>\n",
       "      <td>0.075</td>\n",
       "      <td>32.0</td>\n",
       "      <td>44.0</td>\n",
       "      <td>0.99547</td>\n",
       "      <td>3.57</td>\n",
       "      <td>0.71</td>\n",
       "      <td>10.2</td>\n",
       "      <td>5</td>\n",
       "    </tr>\n",
       "    <tr>\n",
       "      <th>1598</th>\n",
       "      <td>6.0</td>\n",
       "      <td>0.310</td>\n",
       "      <td>0.47</td>\n",
       "      <td>3.6</td>\n",
       "      <td>0.067</td>\n",
       "      <td>18.0</td>\n",
       "      <td>42.0</td>\n",
       "      <td>0.99549</td>\n",
       "      <td>3.39</td>\n",
       "      <td>0.66</td>\n",
       "      <td>11.0</td>\n",
       "      <td>6</td>\n",
       "    </tr>\n",
       "  </tbody>\n",
       "</table>\n",
       "<p>1599 rows × 12 columns</p>\n",
       "</div>"
      ],
      "text/plain": [
       "      fixed acidity  volatile acidity  citric acid  residual sugar  chlorides  \\\n",
       "0               7.4             0.700         0.00             1.9      0.076   \n",
       "1               7.8             0.880         0.00             2.6      0.098   \n",
       "2               7.8             0.760         0.04             2.3      0.092   \n",
       "3              11.2             0.280         0.56             1.9      0.075   \n",
       "4               7.4             0.700         0.00             1.9      0.076   \n",
       "...             ...               ...          ...             ...        ...   \n",
       "1594            6.2             0.600         0.08             2.0      0.090   \n",
       "1595            5.9             0.550         0.10             2.2      0.062   \n",
       "1596            6.3             0.510         0.13             2.3      0.076   \n",
       "1597            5.9             0.645         0.12             2.0      0.075   \n",
       "1598            6.0             0.310         0.47             3.6      0.067   \n",
       "\n",
       "      free sulfur dioxide  total sulfur dioxide  density    pH  sulphates  \\\n",
       "0                    11.0                  34.0  0.99780  3.51       0.56   \n",
       "1                    25.0                  67.0  0.99680  3.20       0.68   \n",
       "2                    15.0                  54.0  0.99700  3.26       0.65   \n",
       "3                    17.0                  60.0  0.99800  3.16       0.58   \n",
       "4                    11.0                  34.0  0.99780  3.51       0.56   \n",
       "...                   ...                   ...      ...   ...        ...   \n",
       "1594                 32.0                  44.0  0.99490  3.45       0.58   \n",
       "1595                 39.0                  51.0  0.99512  3.52       0.76   \n",
       "1596                 29.0                  40.0  0.99574  3.42       0.75   \n",
       "1597                 32.0                  44.0  0.99547  3.57       0.71   \n",
       "1598                 18.0                  42.0  0.99549  3.39       0.66   \n",
       "\n",
       "      alcohol  quality  \n",
       "0         9.4        5  \n",
       "1         9.8        5  \n",
       "2         9.8        5  \n",
       "3         9.8        6  \n",
       "4         9.4        5  \n",
       "...       ...      ...  \n",
       "1594     10.5        5  \n",
       "1595     11.2        6  \n",
       "1596     11.0        6  \n",
       "1597     10.2        5  \n",
       "1598     11.0        6  \n",
       "\n",
       "[1599 rows x 12 columns]"
      ]
     },
     "execution_count": 156,
     "metadata": {},
     "output_type": "execute_result"
    }
   ],
   "source": [
    "data"
   ]
  },
  {
   "cell_type": "code",
   "execution_count": 159,
   "id": "49beff4a",
   "metadata": {},
   "outputs": [
    {
     "name": "stderr",
     "output_type": "stream",
     "text": [
      "C:\\Users\\ajayk\\AppData\\Local\\Temp\\ipykernel_3508\\2270182375.py:2: UserWarning: \n",
      "\n",
      "`distplot` is a deprecated function and will be removed in seaborn v0.14.0.\n",
      "\n",
      "Please adapt your code to use either `displot` (a figure-level function with\n",
      "similar flexibility) or `histplot` (an axes-level function for histograms).\n",
      "\n",
      "For a guide to updating your code to use the new functions, please see\n",
      "https://gist.github.com/mwaskom/de44147ed2974457ad6372750bbe5751\n",
      "\n",
      "  sns.distplot(pop)\n",
      "C:\\Users\\ajayk\\anaconda3\\Lib\\site-packages\\seaborn\\_oldcore.py:1119: FutureWarning: use_inf_as_na option is deprecated and will be removed in a future version. Convert inf values to NaN before operating instead.\n",
      "  with pd.option_context('mode.use_inf_as_na', True):\n"
     ]
    },
    {
     "data": {
      "text/plain": [
       "<Axes: ylabel='Density'>"
      ]
     },
     "execution_count": 159,
     "metadata": {},
     "output_type": "execute_result"
    },
    {
     "data": {
      "image/png": "[encoded data removed]",
      "text/plain": [
       "<Figure size 640x480 with 1 Axes>"
      ]
     },
     "metadata": {},
     "output_type": "display_data"
    }
   ],
   "source": [
    "pop = np.random.randn(100000)\n",
    "sns.distplot(pop)"
   ]
  },
  {
   "cell_type": "code",
   "execution_count": 160,
   "id": "c4efff59",
   "metadata": {},
   "outputs": [
    {
     "data": {
      "text/plain": [
       "ShapiroResult(statistic=0.9557748436927795, pvalue=0.05917328596115112)"
      ]
     },
     "execution_count": 160,
     "metadata": {},
     "output_type": "execute_result"
    }
   ],
   "source": [
    "from scipy import stats\n",
    "stats.shapiro(population)"
   ]
  },
  {
   "cell_type": "code",
   "execution_count": 162,
   "id": "416ba9af",
   "metadata": {},
   "outputs": [
    {
     "name": "stderr",
     "output_type": "stream",
     "text": [
      "C:\\Users\\ajayk\\AppData\\Local\\Temp\\ipykernel_3508\\3678522696.py:1: UserWarning: \n",
      "\n",
      "`distplot` is a deprecated function and will be removed in seaborn v0.14.0.\n",
      "\n",
      "Please adapt your code to use either `displot` (a figure-level function with\n",
      "similar flexibility) or `histplot` (an axes-level function for histograms).\n",
      "\n",
      "For a guide to updating your code to use the new functions, please see\n",
      "https://gist.github.com/mwaskom/de44147ed2974457ad6372750bbe5751\n",
      "\n",
      "  sns.distplot(data['citric acid'])\n",
      "C:\\Users\\ajayk\\anaconda3\\Lib\\site-packages\\seaborn\\_oldcore.py:1119: FutureWarning: use_inf_as_na option is deprecated and will be removed in a future version. Convert inf values to NaN before operating instead.\n",
      "  with pd.option_context('mode.use_inf_as_na', True):\n"
     ]
    },
    {
     "data": {
      "text/plain": [
       "<Axes: xlabel='citric acid', ylabel='Density'>"
      ]
     },
     "execution_count": 162,
     "metadata": {},
     "output_type": "execute_result"
    },
    {
     "data": {
      "image/png": "[encoded data removed]",
      "text/plain": [
       "<Figure size 640x480 with 1 Axes>"
      ]
     },
     "metadata": {},
     "output_type": "display_data"
    }
   ],
   "source": [
    "sns.distplot(data['citric acid'])"
   ]
  },
  {
   "cell_type": "code",
   "execution_count": 163,
   "id": "af280b33",
   "metadata": {},
   "outputs": [
    {
     "data": {
      "text/plain": [
       "ShapiroResult(statistic=0.955294668674469, pvalue=1.0233944777578548e-21)"
      ]
     },
     "execution_count": 163,
     "metadata": {},
     "output_type": "execute_result"
    }
   ],
   "source": [
    "stats.shapiro(data['citric acid'])"
   ]
  },
  {
   "cell_type": "raw",
   "id": "bcd332d1",
   "metadata": {},
   "source": [
    "#pvalue is less than 0.05 and hence reject the h0 that the sample is drawn from a normal dist population"
   ]
  },
  {
   "cell_type": "code",
   "execution_count": 131,
   "id": "d6f69e0b",
   "metadata": {},
   "outputs": [],
   "source": [
    "#T test >> ss < 30 or sigma of pop is not given\n",
    "#one sample t test (wrt one independent sample)\n",
    "#two sample t test (wrt two independent sample)\n",
    "#paired t test(two samples from same population from different time interval)"
   ]
  },
  {
   "cell_type": "code",
   "execution_count": null,
   "id": "e973da2e",
   "metadata": {},
   "outputs": [],
   "source": [
    "#one sample t test"
   ]
  },
  {
   "cell_type": "code",
   "execution_count": 133,
   "id": "fe5beed6",
   "metadata": {},
   "outputs": [],
   "source": [
    "population = np.random.randint(10, 50, 50)"
   ]
  },
  {
   "cell_type": "code",
   "execution_count": 134,
   "id": "00a24dca",
   "metadata": {},
   "outputs": [
    {
     "data": {
      "text/plain": [
       "array([38, 31, 44, 26, 16, 13, 10, 12, 30, 25, 46, 39, 19, 10, 16, 22, 27,\n",
       "       40, 44, 37, 45, 16, 32, 26, 31, 29, 23, 27, 38, 36, 46, 23, 40, 29,\n",
       "       47, 42, 38, 26, 19, 28, 40, 17, 34, 31, 45, 41, 35, 28, 10, 18])"
      ]
     },
     "execution_count": 134,
     "metadata": {},
     "output_type": "execute_result"
    }
   ],
   "source": [
    "population"
   ]
  },
  {
   "cell_type": "code",
   "execution_count": 135,
   "id": "09ea332d",
   "metadata": {},
   "outputs": [],
   "source": [
    "sample = np.random.choice(population, 20)"
   ]
  },
  {
   "cell_type": "code",
   "execution_count": 136,
   "id": "5adbcc7e",
   "metadata": {},
   "outputs": [
    {
     "data": {
      "text/plain": [
       "30.15"
      ]
     },
     "execution_count": 136,
     "metadata": {},
     "output_type": "execute_result"
    }
   ],
   "source": [
    "np.mean(sample)"
   ]
  },
  {
   "cell_type": "code",
   "execution_count": 139,
   "id": "ff2d01e9",
   "metadata": {},
   "outputs": [
    {
     "data": {
      "text/plain": [
       "TtestResult(statistic=2.371173802824698, pvalue=0.02845782106543041, df=19)"
      ]
     },
     "execution_count": 139,
     "metadata": {},
     "output_type": "execute_result"
    }
   ],
   "source": [
    "null_value = 25 #(the mean of population is 25)\n",
    "import scipy\n",
    "scipy.stats.ttest_1samp(sample, null_value)"
   ]
  },
  {
   "cell_type": "code",
   "execution_count": 140,
   "id": "2c3e6c28",
   "metadata": {},
   "outputs": [],
   "source": [
    "#if pvalue>0.05, fail to reject the ho"
   ]
  },
  {
   "cell_type": "code",
   "execution_count": null,
   "id": "7f78b02c",
   "metadata": {},
   "outputs": [],
   "source": [
    "#two sample t test"
   ]
  },
  {
   "cell_type": "code",
   "execution_count": 141,
   "id": "6d14db3f",
   "metadata": {},
   "outputs": [],
   "source": [
    "virat_kohli_score = np.random.choice(population, 20)"
   ]
  },
  {
   "cell_type": "code",
   "execution_count": 142,
   "id": "cb268d5d",
   "metadata": {},
   "outputs": [
    {
     "data": {
      "text/plain": [
       "array([13, 10, 41, 37, 25, 13, 19, 35, 44, 44, 28, 32, 27, 13, 41, 10, 19,\n",
       "       45, 36, 38])"
      ]
     },
     "execution_count": 142,
     "metadata": {},
     "output_type": "execute_result"
    }
   ],
   "source": [
    "virat_kohli_score"
   ]
  },
  {
   "cell_type": "code",
   "execution_count": 143,
   "id": "6fa425e9",
   "metadata": {},
   "outputs": [],
   "source": [
    "rohit_sharma_score = [13, 25, 48, 28, 19, 12, 13, 18, 98, 40, 18, 23, 34, 33, 45, 58, 46, 27, 50, 49]"
   ]
  },
  {
   "cell_type": "code",
   "execution_count": 145,
   "id": "4e67295e",
   "metadata": {},
   "outputs": [
    {
     "data": {
      "text/plain": [
       "(34.85, 28.5)"
      ]
     },
     "execution_count": 145,
     "metadata": {},
     "output_type": "execute_result"
    }
   ],
   "source": [
    "np.mean(rohit_sharma_score), np.mean(virat_kohli_score)"
   ]
  },
  {
   "cell_type": "code",
   "execution_count": 146,
   "id": "eb9b20b5",
   "metadata": {},
   "outputs": [
    {
     "data": {
      "text/plain": [
       "Ttest_indResult(statistic=-1.1820893752079311, pvalue=0.24451464544917395)"
      ]
     },
     "execution_count": 146,
     "metadata": {},
     "output_type": "execute_result"
    }
   ],
   "source": [
    "scipy.stats.ttest_ind(virat_kohli_score, rohit_sharma_score)"
   ]
  },
  {
   "cell_type": "code",
   "execution_count": 147,
   "id": "eb9a5172",
   "metadata": {},
   "outputs": [],
   "source": [
    "#if pvalue > 0.05, fail to reject the h0"
   ]
  },
  {
   "cell_type": "code",
   "execution_count": 148,
   "id": "a56f73f9",
   "metadata": {},
   "outputs": [],
   "source": [
    "#paired t test >> two sample from same population at different time interval"
   ]
  },
  {
   "cell_type": "code",
   "execution_count": 149,
   "id": "1980bbd2",
   "metadata": {},
   "outputs": [],
   "source": [
    "rohit_score_first_inning = [31, 36, 46, 24, 48, 46, 47, 47, 16, 35, 45, 37, 24, 29, 27, 42, 49, 37, 47, 46]\n",
    "rohit_score_second_inning = [31, 76, 46, 24, 48, 23, 49, 47, 37, 35, 45, 37, 74, 39, 27, 42, 49, 37, 47, 46]"
   ]
  },
  {
   "cell_type": "code",
   "execution_count": 150,
   "id": "a07e0f3b",
   "metadata": {},
   "outputs": [
    {
     "data": {
      "text/plain": [
       "(37.95, 42.95)"
      ]
     },
     "execution_count": 150,
     "metadata": {},
     "output_type": "execute_result"
    }
   ],
   "source": [
    "np.mean(rohit_score_first_inning), np.mean(rohit_score_second_inning)"
   ]
  },
  {
   "cell_type": "code",
   "execution_count": 151,
   "id": "e0e5d10a",
   "metadata": {},
   "outputs": [
    {
     "data": {
      "text/plain": [
       "TtestResult(statistic=-1.4256648712805027, pvalue=0.17018806846147658, df=19)"
      ]
     },
     "execution_count": 151,
     "metadata": {},
     "output_type": "execute_result"
    }
   ],
   "source": [
    "scipy.stats.ttest_rel(rohit_score_first_inning, rohit_score_second_inning)"
   ]
  },
  {
   "cell_type": "code",
   "execution_count": null,
   "id": "fea0eb79",
   "metadata": {},
   "outputs": [],
   "source": []
  }
 ],
 "metadata": {
  "kernelspec": {
   "display_name": "Python 3 (ipykernel)",
   "language": "python",
   "name": "python3"
  },
  "language_info": {
   "codemirror_mode": {
    "name": "ipython",
    "version": 3
   },
   "file_extension": ".py",
   "mimetype": "text/x-python",
   "name": "python",
   "nbconvert_exporter": "python",
   "pygments_lexer": "ipython3",
   "version": "3.11.4"
  }
 },
 "nbformat": 4,
 "nbformat_minor": 5
}
