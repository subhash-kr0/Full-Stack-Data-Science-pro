{
  "nbformat": 4,
  "nbformat_minor": 0,
  "metadata": {
    "colab": {
      "provenance": []
    },
    "kernelspec": {
      "name": "python3",
      "display_name": "Python 3"
    },
    "language_info": {
      "name": "python"
    }
  },
  "cells": [
    {
      "cell_type": "code",
      "execution_count": null,
      "metadata": {
        "id": "lywh1N00FWgt"
      },
      "outputs": [],
      "source": [
        "class TreeNode :\n",
        "  def __init__(self, data):\n",
        "    self.data = data\n",
        "    self.left = None #represents the left child\n",
        "    self.right = None # represents the right child\n",
        "\n",
        "  def setData(self, data):\n",
        "\n",
        "     self.data = data\n",
        "\n",
        "\n",
        "  def getData(self):\n",
        "    return self.data\n",
        "\n",
        "  def setLeft(self, node):\n",
        "    self.left = node\n",
        "  def getLeft(self):\n",
        "    return self.left\n",
        "  def setRight(self,node):\n",
        "    self.right = node\n",
        "  def getRight(self):\n",
        "    return self.right"
      ]
    },
    {
      "cell_type": "code",
      "source": [
        "# Constructing the tree\n",
        "root = TreeNode(1)\n",
        "\n",
        "#Left SubTree\n",
        "leftR = TreeNode(2)\n",
        "leftR.setLeft(TreeNode(3))\n",
        "leftR.setRight(TreeNode(4))\n",
        "root.setLeft(leftR)\n",
        "\n",
        "#Right SubTree\n",
        "rightR = TreeNode(5)\n",
        "rightR.setLeft(TreeNode(6))\n",
        "rightR.setRight(TreeNode(7))\n",
        "root.setRight(rightR)\n",
        "\n",
        "#rightR.getRight().setLeft(TreeNode(8))"
      ],
      "metadata": {
        "id": "7i1iK9EEHiqW"
      },
      "execution_count": null,
      "outputs": []
    },
    {
      "cell_type": "code",
      "source": [
        "# Pre Order Traversal\n",
        "\n",
        "def preOrder(root):\n",
        "  #Base condition\n",
        "  if not root :\n",
        "    return\n",
        "  print(root.getData(), end=\"->\")\n",
        "  #preOrder traversal of left subtree\n",
        "  preOrder(root.getLeft())\n",
        "  #preOrder traversal of right subtree\n",
        "  preOrder(root.getRight())\n"
      ],
      "metadata": {
        "id": "tkOkr_HUJ9VA"
      },
      "execution_count": null,
      "outputs": []
    },
    {
      "cell_type": "code",
      "source": [
        "preOrder(root)"
      ],
      "metadata": {
        "colab": {
          "base_uri": "https://localhost:8080/"
        },
        "id": "Yu9LpVtiNw8A",
        "outputId": "b30bdd60-b645-4efe-9f52-ac4d165d3b4d"
      },
      "execution_count": null,
      "outputs": [
        {
          "output_type": "stream",
          "name": "stdout",
          "text": [
            "1->2->3->4->5->6->7->"
          ]
        }
      ]
    },
    {
      "cell_type": "code",
      "source": [
        "def inOrder(root):\n",
        "  #Base condition\n",
        "  if not root :\n",
        "    return\n",
        "\n",
        "  #traverse the left subtree\n",
        "  inOrder(root.getLeft())\n",
        "\n",
        "  #Print the root\n",
        "  print(root.getData(), end=\"->\")\n",
        "\n",
        "  #Traverse the right subtree\n",
        "  inOrder(root.getRight())\n"
      ],
      "metadata": {
        "id": "e1ql1GoNP64G"
      },
      "execution_count": null,
      "outputs": []
    },
    {
      "cell_type": "code",
      "source": [
        "inOrder(root)"
      ],
      "metadata": {
        "colab": {
          "base_uri": "https://localhost:8080/"
        },
        "id": "6sWKfxOHRhu8",
        "outputId": "31641d15-4270-40b3-c7ae-b55015c545bb"
      },
      "execution_count": null,
      "outputs": [
        {
          "output_type": "stream",
          "name": "stdout",
          "text": [
            "3->2->4->1->6->5->7->"
          ]
        }
      ]
    },
    {
      "cell_type": "code",
      "source": [
        "def postOrder(root):\n",
        "  if not root :\n",
        "    return\n",
        "  #traverse first LST\n",
        "  postOrder(root.getLeft())\n",
        "  #traverse the RST\n",
        "  postOrder(root.getRight())\n",
        "  print(root.getData(),end=\"->\")"
      ],
      "metadata": {
        "id": "T8vDCMnxTmHg"
      },
      "execution_count": null,
      "outputs": []
    },
    {
      "cell_type": "code",
      "source": [
        "postOrder(root)"
      ],
      "metadata": {
        "colab": {
          "base_uri": "https://localhost:8080/"
        },
        "id": "N82n5BdzT4qL",
        "outputId": "ea6bc2e2-3b14-4fee-c4b8-6ffa4f625f2f"
      },
      "execution_count": null,
      "outputs": [
        {
          "output_type": "stream",
          "name": "stdout",
          "text": [
            "3->4->2->6->7->5->1->"
          ]
        }
      ]
    },
    {
      "cell_type": "code",
      "source": [
        "class Node :\n",
        "\n",
        "  def __init__(self, data, next=None):\n",
        "    self.data = data\n",
        "    self.next = next\n",
        "\n",
        "  def getData(self):\n",
        "    return self.data\n",
        "\n",
        "  def setData(self, data):\n",
        "    self.data = data\n",
        "\n",
        "  def setNext(self, next):\n",
        "    self.next = next\n",
        "\n",
        "  def getNext(self):\n",
        "    return self.next"
      ],
      "metadata": {
        "id": "SPnepHIAe0ov"
      },
      "execution_count": null,
      "outputs": []
    },
    {
      "cell_type": "code",
      "source": [
        "class QueueLL :\n",
        "  def __init__(self):\n",
        "    self.head = None\n",
        "    self.tail = None\n",
        "    self.size =0\n",
        "\n",
        "  def isEmpty(self):\n",
        "    return self.head == None # self.tail == None\n",
        "\n",
        "  def enQue(self, data):\n",
        "    node = Node(data)\n",
        "\n",
        "    if self.isEmpty():\n",
        "      self.head = node\n",
        "      self.tail = node\n",
        "    else :\n",
        "      self.tail.setNext(node)\n",
        "      self.tail = self.tail.getNext()\n",
        "    self.size +=1\n",
        "\n",
        "  def deQueue(self):\n",
        "    if self.isEmpty():\n",
        "      print(\"Queue underflow\")\n",
        "      return\n",
        "    data = self.head.getData()\n",
        "\n",
        "    #chek if it's the only element\n",
        "    if(self.head == self.tail):\n",
        "      self.head = None\n",
        "      self.tail= None #Becase after deQue, Queue will be empty\n",
        "    else:\n",
        "      self.head = self.head.getNext()\n",
        "    self.size -= 1\n",
        "    return data\n",
        "\n",
        "  def traverse(self):\n",
        "    temp = self.head\n",
        "    while(temp ):\n",
        "      print(temp.getData(), end=\"->\")\n",
        "      temp = temp.getNext()\n",
        "    print()\n",
        "\n"
      ],
      "metadata": {
        "id": "ozsDta63eHER"
      },
      "execution_count": null,
      "outputs": []
    },
    {
      "cell_type": "code",
      "source": [
        "def levelOrder(root):\n",
        "  if not root :\n",
        "    return\n",
        "  q = QueueLL()\n",
        "  q.enQue(root)\n",
        "  while not q.isEmpty():\n",
        "    #Deque the element from the queue\n",
        "    temp = q.deQueue()\n",
        "    print(temp.getData(), end=\"->\")\n",
        "\n",
        "    if temp.getLeft():\n",
        "      q.enQue(temp.getLeft())\n",
        "    if temp.getRight():\n",
        "      q.enQue(temp.getRight())"
      ],
      "metadata": {
        "id": "-zGCf1sZd-xe"
      },
      "execution_count": null,
      "outputs": []
    },
    {
      "cell_type": "code",
      "source": [
        "levelOrder(root)"
      ],
      "metadata": {
        "colab": {
          "base_uri": "https://localhost:8080/"
        },
        "id": "9ET3RbYietUd",
        "outputId": "3060cc18-aeac-45f8-d212-dfc6017568b8"
      },
      "execution_count": null,
      "outputs": [
        {
          "output_type": "stream",
          "name": "stdout",
          "text": [
            "1->2->5->3->4->6->7->"
          ]
        }
      ]
    },
    {
      "cell_type": "code",
      "source": [
        "def maximum(a,b,c):\n",
        "  if a>=b :\n",
        "    if a>=c :\n",
        "      return a\n",
        "    else :\n",
        "      return c\n",
        "  else :\n",
        "    if b >=c :\n",
        "      return b\n",
        "    else :\n",
        "      return c"
      ],
      "metadata": {
        "id": "xxfHoDsvlMzN"
      },
      "execution_count": null,
      "outputs": []
    },
    {
      "cell_type": "code",
      "source": [
        "def max(root):\n",
        "  if not root :\n",
        "    return float('-inf') # represents the num smaller than all other numbers\n",
        "\n",
        "  max_left = max(root.getLeft())\n",
        "  max_right = max(root.getRight())\n",
        "  return maximum(max_left, max_right, root.getData())\n"
      ],
      "metadata": {
        "id": "RPo5psU8ktn4"
      },
      "execution_count": null,
      "outputs": []
    },
    {
      "cell_type": "code",
      "source": [
        "max(root)"
      ],
      "metadata": {
        "colab": {
          "base_uri": "https://localhost:8080/"
        },
        "id": "qoR-52eSlcON",
        "outputId": "e96e65be-b651-44f2-a98f-901c5f261e4b"
      },
      "execution_count": null,
      "outputs": [
        {
          "output_type": "execute_result",
          "data": {
            "text/plain": [
              "7"
            ]
          },
          "metadata": {},
          "execution_count": 29
        }
      ]
    },
    {
      "cell_type": "code",
      "source": [
        "def minimum(a,b,c):\n",
        "  if a<=b:\n",
        "    if a<=c:\n",
        "      return a\n",
        "    else:\n",
        "      return c\n",
        "  else:\n",
        "    if b<=c:\n",
        "      return b\n",
        "    else:\n",
        "      return c\n"
      ],
      "metadata": {
        "id": "Zc4fS1CT26xb"
      },
      "execution_count": null,
      "outputs": []
    },
    {
      "cell_type": "code",
      "source": [],
      "metadata": {
        "id": "cE0kE1QC3al-"
      },
      "execution_count": null,
      "outputs": []
    },
    {
      "cell_type": "code",
      "source": [
        "def min(root):\n",
        "  if not root:\n",
        "    return float('inf')\n",
        "\n",
        "  min_left = min(root.getLeft())\n",
        "  min_right = min(root.getRight())\n",
        "  return minimum(min_left, min_right, root.getData())"
      ],
      "metadata": {
        "id": "HuNv7goZ22sv"
      },
      "execution_count": null,
      "outputs": []
    },
    {
      "cell_type": "code",
      "source": [
        "print(min(root))"
      ],
      "metadata": {
        "colab": {
          "base_uri": "https://localhost:8080/"
        },
        "id": "jCOkXaPY3DoT",
        "outputId": "95b3ba9a-b9ea-40d3-9738-473974142008"
      },
      "execution_count": null,
      "outputs": [
        {
          "output_type": "stream",
          "name": "stdout",
          "text": [
            "1\n"
          ]
        }
      ]
    },
    {
      "cell_type": "code",
      "source": [],
      "metadata": {
        "id": "5P8MY9kc3uNc"
      },
      "execution_count": null,
      "outputs": []
    }
  ]
}