{
  "nbformat": 4,
  "nbformat_minor": 0,
  "metadata": {
    "colab": {
      "provenance": []
    },
    "kernelspec": {
      "name": "python3",
      "display_name": "Python 3"
    },
    "language_info": {
      "name": "python"
    }
  },
  "cells": [
    {
      "cell_type": "code",
      "execution_count": null,
      "metadata": {
        "colab": {
          "base_uri": "https://localhost:8080/"
        },
        "id": "_g2kQ44PPt1j",
        "outputId": "822041d9-8600-4561-c9db-142fe545be8a"
      },
      "outputs": [
        {
          "output_type": "stream",
          "name": "stdout",
          "text": [
            "[[7, 2, 1], [4, 5, 6], [9, 8, 3]]\n",
            "[[7, 4, 1], [8, 5, 2], [9, 6, 3]]\n",
            "[[7, 4, 1], [8, 5, 2], [9, 6, 3]]\n"
          ]
        }
      ],
      "source": [
        "\n",
        "def rotate(matrix, n):\n",
        "  circle = 0\n",
        "  i,j=0,0 #This indicates the first element\n",
        "  while(circle< n/2):\n",
        "    no_elements_tobe_rotated = n-2*circle-1\n",
        "\n",
        "    elements_rotated = 0\n",
        "    while(elements_rotated < no_elements_tobe_rotated) :\n",
        "      #Logic to rotate the elements\n",
        "      temp =matrix[i][j+elements_rotated]\n",
        "      matrix[i][j+elements_rotated] = matrix[i+no_elements_tobe_rotated - elements_rotated][j]\n",
        "      matrix[i+no_elements_tobe_rotated - elements_rotated][j] = matrix[i+no_elements_tobe_rotated][j+no_elements_tobe_rotated- elements_rotated]\n",
        "      matrix[i+no_elements_tobe_rotated][j+no_elements_tobe_rotated - elements_rotated] = matrix[i+ elements_rotated][j+no_elements_tobe_rotated]\n",
        "      matrix[i+elements_rotated][j+no_elements_tobe_rotated] = temp\n",
        "      print(matrix)\n",
        "      elements_rotated +=1\n",
        "\n",
        "    i +=1\n",
        "    j +=1\n",
        "    circle +=1\n",
        "\n",
        "matrix = [[1,2,3],[4,5,6],[7,8,9]]\n",
        "rotate(matrix,3)\n",
        "print(matrix)"
      ]
    },
    {
      "cell_type": "code",
      "source": [],
      "metadata": {
        "id": "JwZUSwCxhFPB"
      },
      "execution_count": null,
      "outputs": []
    },
    {
      "cell_type": "code",
      "source": [
        "print(0.9 -0.3*3)"
      ],
      "metadata": {
        "colab": {
          "base_uri": "https://localhost:8080/"
        },
        "id": "aNC3czTWfMt3",
        "outputId": "c98d1d2c-07b9-4da9-a60d-200d6deb4c05"
      },
      "execution_count": null,
      "outputs": [
        {
          "output_type": "stream",
          "name": "stdout",
          "text": [
            "1.1102230246251565e-16\n"
          ]
        }
      ]
    },
    {
      "cell_type": "code",
      "source": [
        "def count_sort(input_arr):\n",
        "\n",
        "  M = max(input_arr)\n",
        "\n",
        "  #Create a new list of the size M+1\n",
        "  count_arr = [0]*(M+1)\n",
        "\n",
        "  for num in input_arr :\n",
        "    count_arr[num] += 1\n",
        "\n",
        "  # We need to find the prefix sum\n",
        "  for i in range(1, M+1):\n",
        "    count_arr[i] +=count_arr[i-1]\n",
        "\n",
        "  #Create a final output array\n",
        "  out_arr = [0]*len(input_arr)\n",
        "\n",
        "  for i in range(len(input_arr)-1, -1, -1):\n",
        "    out_arr[count_arr[input_arr[i]]-1] = input_arr[i]\n",
        "    count_arr[input_arr[i]] -=1\n",
        "\n",
        "  return out_arr\n",
        "\n",
        "\n",
        "print(count_sort([4,3,1,1,7,8,6]))"
      ],
      "metadata": {
        "colab": {
          "base_uri": "https://localhost:8080/"
        },
        "id": "irmAaX7il7S1",
        "outputId": "9e18530a-2e1e-453d-9bf6-e20b5b6289de"
      },
      "execution_count": null,
      "outputs": [
        {
          "output_type": "stream",
          "name": "stdout",
          "text": [
            "[1, 1, 3, 4, 6, 7, 8]\n"
          ]
        }
      ]
    }
  ]
}