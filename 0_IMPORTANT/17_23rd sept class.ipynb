{
 "cells": [
  {
   "cell_type": "code",
   "execution_count": null,
   "id": "d32a8ee4-6970-4b9e-a704-2a14b77ae3e3",
   "metadata": {},
   "outputs": [],
   "source": [
    "while True :\n",
    "    print(\"this is my first while loop\")"
   ]
  },
  {
   "cell_type": "code",
   "execution_count": 2,
   "id": "52c40eac-3821-4ede-bb47-3465f6fe113a",
   "metadata": {},
   "outputs": [
    {
     "name": "stdout",
     "output_type": "stream",
     "text": [
      "10\n",
      "9\n",
      "8\n",
      "7\n",
      "6\n",
      "5\n",
      "4\n",
      "3\n",
      "2\n",
      "1\n"
     ]
    }
   ],
   "source": [
    "a = 10\n",
    "while a>=1 :\n",
    "    print(a)\n",
    "    a = a-1"
   ]
  },
  {
   "cell_type": "code",
   "execution_count": 7,
   "id": "9a72e661-404d-46fd-95cb-f2bc7456315d",
   "metadata": {},
   "outputs": [
    {
     "name": "stdout",
     "output_type": "stream",
     "text": [
      "15\n"
     ]
    }
   ],
   "source": [
    "s = 0\n",
    "n = 1 \n",
    "t = 5\n",
    "while n <= t :\n",
    "    s = s+n\n",
    "    n = n+1\n",
    "print(s)"
   ]
  },
  {
   "cell_type": "code",
   "execution_count": 8,
   "id": "29ea147c-8b7a-41c9-905d-2e1c12d575ec",
   "metadata": {},
   "outputs": [
    {
     "name": "stdout",
     "output_type": "stream",
     "text": [
      "120\n"
     ]
    }
   ],
   "source": [
    "s = 1\n",
    "n = 1 \n",
    "t = 5\n",
    "while n <= t :\n",
    "    s = s*n\n",
    "    n = n+1\n",
    "print(s)"
   ]
  },
  {
   "cell_type": "code",
   "execution_count": 9,
   "id": "34aa7abf-adf2-4b5e-9992-d07176167ab7",
   "metadata": {},
   "outputs": [
    {
     "name": "stdin",
     "output_type": "stream",
     "text": [
      "enter a number for which you are looking for table  19\n"
     ]
    },
    {
     "name": "stdout",
     "output_type": "stream",
     "text": [
      "19  *  1 = 19\n",
      "19  *  2 = 38\n",
      "19  *  3 = 57\n",
      "19  *  4 = 76\n",
      "19  *  5 = 95\n",
      "19  *  6 = 114\n",
      "19  *  7 = 133\n",
      "19  *  8 = 152\n",
      "19  *  9 = 171\n",
      "19  *  10 = 190\n"
     ]
    }
   ],
   "source": [
    "n = int(input(\"enter a number for which you are looking for table \"))\n",
    "i = 1 \n",
    "while i <= 10 :\n",
    "    product = n * i\n",
    "    print(n ,' * ' , i , '=' , product )\n",
    "    i = i + 1 "
   ]
  },
  {
   "cell_type": "code",
   "execution_count": 12,
   "id": "6472886e-809d-411a-94ba-588865eda50a",
   "metadata": {},
   "outputs": [
    {
     "name": "stdout",
     "output_type": "stream",
     "text": [
      "50\n",
      "49\n",
      "48\n",
      "47\n",
      "46\n",
      "45\n",
      "44\n",
      "43\n",
      "42\n",
      "41\n",
      "40\n",
      "39\n",
      "38\n",
      "37\n",
      "36\n",
      "35\n",
      "34\n",
      "33\n",
      "32\n",
      "31\n",
      "30\n",
      "29\n",
      "28\n",
      "27\n",
      "26\n",
      "25\n",
      "24\n",
      "23\n",
      "22\n",
      "21\n",
      "20\n",
      "19\n",
      "18\n",
      "17\n",
      "16\n",
      "15\n",
      "14\n",
      "13\n",
      "12\n",
      "11\n",
      "10\n",
      "9\n",
      "8\n",
      "7\n",
      "6\n",
      "5\n",
      "4\n",
      "3\n",
      "2\n",
      "1\n",
      "break time is over\n"
     ]
    }
   ],
   "source": [
    "import time \n",
    "s = 50 \n",
    "while s > 0 :\n",
    "    print(s)\n",
    "    time.sleep(1)\n",
    "    s = s-1\n",
    "print(\"break time is over\")"
   ]
  },
  {
   "cell_type": "code",
   "execution_count": 13,
   "id": "01a58651-afb5-4172-9169-ca30b764cb01",
   "metadata": {},
   "outputs": [
    {
     "name": "stdout",
     "output_type": "stream",
     "text": [
      "20\n"
     ]
    },
    {
     "name": "stdin",
     "output_type": "stream",
     "text": [
      "enter your choice(1.biscuit , 2.chips , 3.redbull 4.coke) 2\n"
     ]
    },
    {
     "name": "stdout",
     "output_type": "stream",
     "text": [
      "take your chips\n",
      "15\n"
     ]
    },
    {
     "name": "stdin",
     "output_type": "stream",
     "text": [
      "enter your choice(1.biscuit , 2.chips , 3.redbull 4.coke) 3\n"
     ]
    },
    {
     "name": "stdout",
     "output_type": "stream",
     "text": [
      "take your redbull\n",
      "5\n"
     ]
    },
    {
     "name": "stdin",
     "output_type": "stream",
     "text": [
      "enter your choice(1.biscuit , 2.chips , 3.redbull 4.coke) 1\n"
     ]
    },
    {
     "name": "stdout",
     "output_type": "stream",
     "text": [
      "take your biscuit\n",
      "you dont have enough balance in you wallet\n"
     ]
    }
   ],
   "source": [
    "money_in_hand = 20 \n",
    "while money_in_hand >= 4 :\n",
    "    print(money_in_hand)\n",
    "    choice = int(input(\"enter your choice(1.biscuit , 2.chips , 3.redbull 4.coke)\"))\n",
    "    if choice == 1 :\n",
    "        print(\"take your biscuit\")\n",
    "        money_in_hand = money_in_hand - 4 \n",
    "    elif choice == 2 :\n",
    "        print(\"take your chips\")\n",
    "        money_in_hand = money_in_hand - 5\n",
    "        \n",
    "    elif choice == 3 :\n",
    "        print(\"take your redbull\")\n",
    "        money_in_hand = money_in_hand - 10 \n",
    "    elif choice ==4 :\n",
    "        print(\"take uyou coke\")\n",
    "        money_in_hand = money_in_hand - 8 \n",
    "    else :\n",
    "        print(\"you have not entered the correct choice\")\n",
    "print(\"you dont have enough balance in you wallet\")"
   ]
  },
  {
   "cell_type": "code",
   "execution_count": 14,
   "id": "b68600ee-b814-41c5-bff7-4b520bcc342c",
   "metadata": {},
   "outputs": [
    {
     "name": "stdout",
     "output_type": "stream",
     "text": [
      "5\n",
      "4\n",
      "3\n",
      "2\n",
      "1\n",
      "break time is over\n"
     ]
    }
   ],
   "source": [
    "import time \n",
    "s = 5 \n",
    "while s > 0 :\n",
    "    print(s)\n",
    "    time.sleep(1)\n",
    "    s = s-1\n",
    "print(\"break time is over\")"
   ]
  },
  {
   "cell_type": "code",
   "execution_count": 17,
   "id": "b96aa692-5c69-4c85-9fb6-ddebde3d9512",
   "metadata": {},
   "outputs": [
    {
     "name": "stdout",
     "output_type": "stream",
     "text": [
      "enter s to stop the timer\n"
     ]
    },
    {
     "name": "stdin",
     "output_type": "stream",
     "text": [
      "enter s for stop g\n"
     ]
    },
    {
     "name": "stdout",
     "output_type": "stream",
     "text": [
      "enter s to stop the timer\n"
     ]
    },
    {
     "name": "stdin",
     "output_type": "stream",
     "text": [
      "enter s for stop g\n"
     ]
    },
    {
     "name": "stdout",
     "output_type": "stream",
     "text": [
      "enter s to stop the timer\n"
     ]
    },
    {
     "name": "stdin",
     "output_type": "stream",
     "text": [
      "enter s for stop h\n"
     ]
    },
    {
     "name": "stdout",
     "output_type": "stream",
     "text": [
      "enter s to stop the timer\n"
     ]
    },
    {
     "name": "stdin",
     "output_type": "stream",
     "text": [
      "enter s for stop 9\n"
     ]
    },
    {
     "name": "stdout",
     "output_type": "stream",
     "text": [
      "enter s to stop the timer\n"
     ]
    },
    {
     "name": "stdin",
     "output_type": "stream",
     "text": [
      "enter s for stop s\n"
     ]
    },
    {
     "name": "stdout",
     "output_type": "stream",
     "text": [
      "start the class break is over\n"
     ]
    }
   ],
   "source": [
    "import time \n",
    "stop = False \n",
    "while not stop:\n",
    "    print(\"enter s to stop the timer\")\n",
    "    time.sleep(1)\n",
    "    press_stop= input(\"enter s for stop\")\n",
    "    \n",
    "    if press_stop.lower() == 's' :\n",
    "        stop = True\n",
    "print(\"start the class break is over\")       "
   ]
  },
  {
   "cell_type": "code",
   "execution_count": 18,
   "id": "9c8e16b1-01ba-4fec-b308-cbce1826410f",
   "metadata": {},
   "outputs": [
    {
     "name": "stdout",
     "output_type": "stream",
     "text": [
      "Count: 0\n"
     ]
    },
    {
     "name": "stdin",
     "output_type": "stream",
     "text": [
      "Enter 'start' to resume counting, 'stop' to pause, or 'exit' to quit:  start\n"
     ]
    },
    {
     "name": "stdout",
     "output_type": "stream",
     "text": [
      "Count: 1\n"
     ]
    },
    {
     "name": "stdin",
     "output_type": "stream",
     "text": [
      "Enter 'start' to resume counting, 'stop' to pause, or 'exit' to quit:  exit\n"
     ]
    }
   ],
   "source": [
    "import time\n",
    "counter = 0\n",
    "counting = True\n",
    "\n",
    "while True:\n",
    "    if counting:\n",
    "        print(f\"Count: {counter}\")\n",
    "        counter += 1\n",
    "    time.sleep(1)\n",
    "    command = input(\"Enter 'start' to resume counting, 'stop' to pause, or 'exit' to quit: \").lower()\n",
    "\n",
    "    if command == 'start':\n",
    "        counting = True\n",
    "    elif command == 'stop':\n",
    "        counting = False\n",
    "    elif command == 'exit':\n",
    "        break\n",
    "    else:\n",
    "        print(\"Invalid command. Please enter 'start', 'stop', or 'exit'.\")\n"
   ]
  },
  {
   "cell_type": "code",
   "execution_count": 19,
   "id": "3954f75c-5ed1-4e16-99f6-156ae82642ea",
   "metadata": {},
   "outputs": [
    {
     "name": "stdout",
     "output_type": "stream",
     "text": [
      "5\n"
     ]
    },
    {
     "name": "stdin",
     "output_type": "stream",
     "text": [
      "enter anything to stop k\n"
     ]
    },
    {
     "name": "stdout",
     "output_type": "stream",
     "text": [
      "break time is over\n"
     ]
    }
   ],
   "source": [
    "import time \n",
    "s=5 \n",
    "while s>0:\n",
    "    print(s)\n",
    "    time.sleep(1) \n",
    "    i=input('enter anything to stop')\n",
    "    if i:\n",
    "        break\n",
    "    s-=1\n",
    "print('break time is over')\n"
   ]
  },
  {
   "cell_type": "code",
   "execution_count": 20,
   "id": "55410252-d077-453f-8270-5c0d65b14d3a",
   "metadata": {},
   "outputs": [
    {
     "name": "stdout",
     "output_type": "stream",
     "text": [
      "300\n",
      "299\n",
      "298\n",
      "297\n",
      "296\n",
      "295\n",
      "294\n",
      "293\n",
      "292\n",
      "291\n",
      "290\n",
      "289\n",
      "288\n",
      "287\n",
      "286\n",
      "285\n",
      "284\n",
      "283\n",
      "282\n",
      "281\n",
      "280\n",
      "279\n",
      "278\n",
      "277\n",
      "276\n",
      "275\n",
      "274\n",
      "273\n",
      "272\n",
      "271\n",
      "270\n",
      "269\n",
      "268\n",
      "267\n",
      "266\n",
      "265\n",
      "264\n",
      "263\n",
      "262\n",
      "261\n",
      "260\n",
      "259\n",
      "258\n",
      "257\n",
      "256\n",
      "255\n",
      "254\n",
      "253\n",
      "252\n",
      "251\n",
      "250\n",
      "249\n",
      "248\n",
      "247\n",
      "246\n",
      "245\n",
      "244\n",
      "243\n",
      "242\n",
      "241\n",
      "240\n",
      "239\n",
      "238\n",
      "237\n",
      "236\n",
      "235\n",
      "234\n",
      "233\n",
      "232\n",
      "231\n",
      "230\n",
      "229\n",
      "228\n",
      "227\n",
      "226\n",
      "225\n",
      "224\n",
      "223\n",
      "222\n",
      "221\n",
      "220\n",
      "219\n",
      "218\n",
      "217\n",
      "216\n",
      "215\n",
      "214\n",
      "213\n",
      "212\n",
      "211\n",
      "210\n",
      "209\n",
      "208\n",
      "207\n",
      "206\n",
      "205\n",
      "204\n",
      "203\n",
      "202\n",
      "201\n",
      "200\n",
      "199\n",
      "198\n",
      "197\n",
      "196\n",
      "195\n",
      "194\n",
      "193\n",
      "192\n",
      "191\n",
      "190\n",
      "189\n",
      "188\n",
      "187\n",
      "186\n",
      "185\n",
      "184\n",
      "183\n",
      "182\n",
      "181\n",
      "180\n",
      "179\n",
      "178\n",
      "177\n",
      "176\n",
      "175\n",
      "174\n",
      "173\n",
      "172\n",
      "171\n",
      "170\n",
      "169\n",
      "168\n",
      "167\n",
      "166\n",
      "165\n",
      "164\n",
      "163\n",
      "162\n",
      "161\n",
      "160\n",
      "159\n",
      "158\n",
      "157\n",
      "156\n",
      "155\n",
      "154\n",
      "153\n",
      "152\n",
      "151\n",
      "150\n",
      "149\n",
      "148\n",
      "147\n",
      "146\n",
      "145\n",
      "144\n",
      "143\n",
      "142\n",
      "141\n",
      "140\n",
      "139\n",
      "138\n",
      "137\n",
      "136\n",
      "135\n",
      "134\n",
      "133\n",
      "132\n",
      "131\n",
      "130\n",
      "129\n",
      "128\n",
      "127\n",
      "126\n",
      "125\n",
      "124\n",
      "123\n",
      "122\n",
      "121\n",
      "120\n",
      "119\n",
      "118\n",
      "117\n",
      "116\n",
      "115\n",
      "114\n",
      "113\n",
      "112\n",
      "111\n",
      "110\n",
      "109\n",
      "108\n",
      "107\n",
      "106\n",
      "105\n",
      "104\n",
      "103\n",
      "102\n",
      "101\n",
      "100\n",
      "99\n",
      "98\n",
      "97\n",
      "96\n",
      "95\n",
      "94\n",
      "93\n",
      "92\n",
      "91\n",
      "90\n",
      "89\n",
      "88\n",
      "87\n",
      "86\n",
      "85\n",
      "84\n",
      "83\n",
      "82\n",
      "81\n",
      "80\n",
      "79\n",
      "78\n",
      "77\n",
      "76\n",
      "75\n",
      "74\n",
      "73\n",
      "72\n",
      "71\n",
      "70\n",
      "69\n",
      "68\n",
      "67\n",
      "66\n",
      "65\n",
      "64\n",
      "63\n",
      "62\n",
      "61\n",
      "60\n",
      "59\n",
      "58\n",
      "57\n",
      "56\n",
      "55\n",
      "54\n",
      "53\n",
      "52\n",
      "51\n",
      "50\n",
      "49\n",
      "48\n",
      "47\n",
      "46\n",
      "45\n",
      "44\n",
      "43\n",
      "42\n",
      "41\n",
      "40\n",
      "39\n",
      "38\n",
      "37\n",
      "36\n",
      "35\n",
      "34\n",
      "33\n",
      "32\n",
      "31\n",
      "30\n",
      "29\n",
      "28\n",
      "27\n",
      "26\n",
      "25\n",
      "24\n",
      "23\n",
      "22\n",
      "21\n",
      "20\n",
      "19\n",
      "18\n",
      "17\n",
      "16\n",
      "15\n",
      "14\n",
      "13\n",
      "12\n",
      "11\n",
      "10\n",
      "9\n",
      "8\n",
      "7\n",
      "6\n",
      "5\n",
      "4\n",
      "3\n",
      "2\n",
      "1\n",
      "break time is over\n"
     ]
    }
   ],
   "source": [
    "import time \n",
    "s = 300\n",
    "while s > 0 :\n",
    "    print(s)\n",
    "    time.sleep(1)\n",
    "    s = s-1\n",
    "print(\"break time is over\")"
   ]
  },
  {
   "cell_type": "code",
   "execution_count": 28,
   "id": "559d4ea2-c999-42ba-82ad-3ab5a13b6368",
   "metadata": {},
   "outputs": [
    {
     "name": "stdin",
     "output_type": "stream",
     "text": [
      "enter your user id for account fddfsfss\n"
     ]
    },
    {
     "name": "stdout",
     "output_type": "stream",
     "text": [
      "your user id is incorrect try again\n"
     ]
    }
   ],
   "source": [
    "user_id = \"sudhanshu\"\n",
    "password = \"sudhanshu@123\"\n",
    "counter = 1\n",
    "user_id_check = False\n",
    "userid = input(\"enter your user id for account\")\n",
    "while counter <=3 :\n",
    "    \n",
    "    if userid == user_id :\n",
    "        user_id_check = True\n",
    "    else :\n",
    "        print(\"your user id is incorrect try again\")\n",
    "        break\n",
    "    if user_id_check == True :\n",
    "        pswd = input(\"enter your password for respective user id \")\n",
    "        if pswd == password :\n",
    "            print(\"you have logged in succefully\")\n",
    "            break\n",
    "        counter = counter + 1\n",
    "if counter > 3 :\n",
    "    print(\"you have attempted maximum times and your account is locked \") "
   ]
  },
  {
   "cell_type": "code",
   "execution_count": 30,
   "id": "8a049b6d-c2cd-41ad-b832-291138440870",
   "metadata": {},
   "outputs": [
    {
     "name": "stdin",
     "output_type": "stream",
     "text": [
      "enter your todo task take class\n",
      "enter n id you want to add in todo list or enter y if you dont want to add n\n",
      "enter your todo task eat\n",
      "enter n id you want to add in todo list or enter y if you dont want to add y\n"
     ]
    },
    {
     "name": "stdout",
     "output_type": "stream",
     "text": [
      "my todo list is  ['take class', 'eat']\n"
     ]
    }
   ],
   "source": [
    "todo_list = []\n",
    "end_of_todo = 'n'\n",
    "while end_of_todo != 'y':\n",
    "    todo_item = input(\"enter your todo task\")\n",
    "    todo_list.append(todo_item)\n",
    "    end_of_todo = input(\"enter n id you want to add in todo list or enter y if you dont want to add\")\n",
    "print(\"my todo list is \" , todo_list)"
   ]
  },
  {
   "cell_type": "code",
   "execution_count": null,
   "id": "b49dbc92-f862-4f21-ab38-22092fa5e61f",
   "metadata": {},
   "outputs": [],
   "source": []
  },
  {
   "cell_type": "code",
   "execution_count": 32,
   "id": "cf3640fc-e27b-4b01-8d97-fcb61e548e41",
   "metadata": {},
   "outputs": [],
   "source": [
    "def fact(n):\n",
    "    if n == 0 :\n",
    "        return 1\n",
    "    else :\n",
    "        return n*fact(n-1)"
   ]
  },
  {
   "cell_type": "code",
   "execution_count": 44,
   "id": "d42dda88-9293-486e-b41f-38916a9c941f",
   "metadata": {},
   "outputs": [],
   "source": [
    "b = fact(5)"
   ]
  },
  {
   "cell_type": "code",
   "execution_count": 45,
   "id": "f3457b11-adee-4acf-b3ff-935dbf1822fd",
   "metadata": {},
   "outputs": [
    {
     "data": {
      "text/plain": [
       "120"
      ]
     },
     "execution_count": 45,
     "metadata": {},
     "output_type": "execute_result"
    }
   ],
   "source": [
    "b"
   ]
  },
  {
   "cell_type": "code",
   "execution_count": 40,
   "id": "c3f0c5fc-1100-4a69-96b0-25ce12a45ac5",
   "metadata": {},
   "outputs": [],
   "source": [
    "def fib(n):\n",
    "    if n<=1:\n",
    "        return n \n",
    "    else :\n",
    "        return fib(n-2) + fib(n-1)"
   ]
  },
  {
   "cell_type": "code",
   "execution_count": 43,
   "id": "c8446129-1045-42c1-baf0-b937c5b14609",
   "metadata": {},
   "outputs": [
    {
     "data": {
      "text/plain": [
       "5"
      ]
     },
     "execution_count": 43,
     "metadata": {},
     "output_type": "execute_result"
    }
   ],
   "source": [
    "fib(5)"
   ]
  },
  {
   "cell_type": "code",
   "execution_count": 46,
   "id": "0cf58ad0-79b6-4499-b99f-d897ddb868a7",
   "metadata": {},
   "outputs": [
    {
     "data": {
      "text/plain": [
       "123121"
      ]
     },
     "execution_count": 46,
     "metadata": {},
     "output_type": "execute_result"
    }
   ],
   "source": [
    "123121"
   ]
  },
  {
   "cell_type": "code",
   "execution_count": 47,
   "id": "4f02a9a3-aea8-41f9-b1b2-d02138789d68",
   "metadata": {},
   "outputs": [
    {
     "data": {
      "text/plain": [
       "6"
      ]
     },
     "execution_count": 47,
     "metadata": {},
     "output_type": "execute_result"
    }
   ],
   "source": [
    "def sum_of_digit(n):\n",
    "    sum=0\n",
    "    while n!=0:\n",
    "        d=n%10\n",
    "        sum=sum+d\n",
    "        n=n//10\n",
    "    return sum\n",
    "sum_of_digit(123)\n"
   ]
  },
  {
   "cell_type": "code",
   "execution_count": 48,
   "id": "f5bd1771-43fa-4db4-9285-7121d18ff0c5",
   "metadata": {},
   "outputs": [],
   "source": [
    "def get_Sum(n):\n",
    "    \n",
    "    sum = 0\n",
    "    for digit in str(n): \n",
    "      sum += int(digit)      \n",
    "    return sum\n"
   ]
  },
  {
   "cell_type": "code",
   "execution_count": 49,
   "id": "fa560796-d9c0-4ce4-952a-71891f659b02",
   "metadata": {},
   "outputs": [
    {
     "data": {
      "text/plain": [
       "9"
      ]
     },
     "execution_count": 49,
     "metadata": {},
     "output_type": "execute_result"
    }
   ],
   "source": [
    "get_Sum(234)"
   ]
  },
  {
   "cell_type": "code",
   "execution_count": 50,
   "id": "d31af367-c516-461e-afe7-6790b0ee7d54",
   "metadata": {},
   "outputs": [
    {
     "data": {
      "text/plain": [
       "12"
      ]
     },
     "execution_count": 50,
     "metadata": {},
     "output_type": "execute_result"
    }
   ],
   "source": [
    "123//10"
   ]
  },
  {
   "cell_type": "code",
   "execution_count": 51,
   "id": "70f5e02e-13b0-4ccd-8add-39396f85032e",
   "metadata": {},
   "outputs": [
    {
     "data": {
      "text/plain": [
       "12.3"
      ]
     },
     "execution_count": 51,
     "metadata": {},
     "output_type": "execute_result"
    }
   ],
   "source": [
    "123/10"
   ]
  },
  {
   "cell_type": "code",
   "execution_count": 52,
   "id": "04a7ef6b-85db-42c8-b9ec-4cc13f9a042a",
   "metadata": {},
   "outputs": [],
   "source": [
    "def sum_digit(n):\n",
    "    if n <= 9:\n",
    "        return n \n",
    "    else :\n",
    "        return n % 10 + sum_digit(n//10)\n",
    "        "
   ]
  },
  {
   "cell_type": "code",
   "execution_count": 53,
   "id": "2ed2aa59-94c5-40bd-962e-da47900c7a8b",
   "metadata": {},
   "outputs": [
    {
     "data": {
      "text/plain": [
       "12"
      ]
     },
     "execution_count": 53,
     "metadata": {},
     "output_type": "execute_result"
    }
   ],
   "source": [
    "sum_digit(345)"
   ]
  },
  {
   "cell_type": "code",
   "execution_count": 54,
   "id": "e57fbc7a-c9b9-4680-978e-438d06b86672",
   "metadata": {},
   "outputs": [],
   "source": [
    "l = [3,4,5,6,76]"
   ]
  },
  {
   "cell_type": "code",
   "execution_count": 55,
   "id": "d48ffcd7-1310-47cb-bf79-516797132e9d",
   "metadata": {},
   "outputs": [
    {
     "data": {
      "text/plain": [
       "76"
      ]
     },
     "execution_count": 55,
     "metadata": {},
     "output_type": "execute_result"
    }
   ],
   "source": [
    " max(l)"
   ]
  },
  {
   "cell_type": "code",
   "execution_count": 56,
   "id": "22c64f9c-65ea-474e-ae94-57b5ff14e8af",
   "metadata": {},
   "outputs": [],
   "source": [
    "def max_find(l):\n",
    "    if len(l) == 1:\n",
    "        return l[0]\n",
    "    else :\n",
    "        return max(l[0],max_find(l[1:]))\n",
    "        "
   ]
  },
  {
   "cell_type": "code",
   "execution_count": 57,
   "id": "c677edf9-40f8-426e-8adf-36274a9e9058",
   "metadata": {},
   "outputs": [
    {
     "data": {
      "text/plain": [
       "90"
      ]
     },
     "execution_count": 57,
     "metadata": {},
     "output_type": "execute_result"
    }
   ],
   "source": [
    "max_find([4,5,6,6,7,3,4,5,6,90])"
   ]
  },
  {
   "cell_type": "code",
   "execution_count": 58,
   "id": "3b592a7d-53d2-40d1-a20c-6c4193ddf53a",
   "metadata": {},
   "outputs": [
    {
     "data": {
      "text/plain": [
       "25"
      ]
     },
     "execution_count": 58,
     "metadata": {},
     "output_type": "execute_result"
    }
   ],
   "source": [
    "5**2"
   ]
  },
  {
   "cell_type": "code",
   "execution_count": 59,
   "id": "011c5616-6c40-481d-8aa1-e7909e12b55b",
   "metadata": {},
   "outputs": [
    {
     "data": {
      "text/plain": [
       "3125"
      ]
     },
     "execution_count": 59,
     "metadata": {},
     "output_type": "execute_result"
    }
   ],
   "source": [
    "5**5"
   ]
  },
  {
   "cell_type": "code",
   "execution_count": 60,
   "id": "c133c3fb-f1c4-4625-9ec4-cc818ef52dbf",
   "metadata": {},
   "outputs": [
    {
     "data": {
      "text/plain": [
       "3125"
      ]
     },
     "execution_count": 60,
     "metadata": {},
     "output_type": "execute_result"
    }
   ],
   "source": [
    "pow(5,5)"
   ]
  },
  {
   "cell_type": "code",
   "execution_count": 66,
   "id": "b6a3f51e-e214-4593-8c34-689a779bbb97",
   "metadata": {},
   "outputs": [],
   "source": [
    "def power_fun(n , k) :\n",
    "    if k == 0 :\n",
    "        return 0\n",
    "    else :\n",
    "        return n * power_fun(n ,k-1)"
   ]
  },
  {
   "cell_type": "code",
   "execution_count": 67,
   "id": "21e39a32-476d-4590-a24a-047cb90f92ba",
   "metadata": {},
   "outputs": [
    {
     "data": {
      "text/plain": [
       "0"
      ]
     },
     "execution_count": 67,
     "metadata": {},
     "output_type": "execute_result"
    }
   ],
   "source": [
    "power_fun(2,4)"
   ]
  },
  {
   "cell_type": "code",
   "execution_count": 71,
   "id": "ffafb025-b388-464b-9190-2aa38c7ba4be",
   "metadata": {},
   "outputs": [
    {
     "name": "stdin",
     "output_type": "stream",
     "text": [
      "enter yes or No yes\n",
      "enter your to_do_list sdfasfd\n"
     ]
    },
    {
     "name": "stdout",
     "output_type": "stream",
     "text": [
      "['sdfasfd']\n"
     ]
    }
   ],
   "source": [
    "to_do_list=input(\"enter yes or No\")\n",
    "My_to_do_list=[]\n",
    "\n",
    "while to_do_list !=\"no\":\n",
    "    if to_do_list==\"no\":\n",
    "        print(\"Invalid\")\n",
    "    \n",
    "    else:\n",
    "       \n",
    "        W=input(\"enter your to_do_list\")\n",
    "        My_to_do_list.append(W)\n",
    "        \n",
    "    break\n",
    "print(My_to_do_list)\n"
   ]
  },
  {
   "cell_type": "code",
   "execution_count": 69,
   "id": "8cb731d2-4a23-4488-8fac-66b475dae0c0",
   "metadata": {},
   "outputs": [
    {
     "data": {
      "text/plain": [
       "['teaching']"
      ]
     },
     "execution_count": 69,
     "metadata": {},
     "output_type": "execute_result"
    }
   ],
   "source": [
    "My_to_do_list"
   ]
  },
  {
   "cell_type": "code",
   "execution_count": 81,
   "id": "d5ed2717-bb0a-4fc8-b70b-5911cd541d1f",
   "metadata": {},
   "outputs": [
    {
     "name": "stdin",
     "output_type": "stream",
     "text": [
      "enter your user id: sananda\n",
      "Enter your password: sananda13\n"
     ]
    },
    {
     "name": "stdout",
     "output_type": "stream",
     "text": [
      "you have logged in succesfully\n"
     ]
    }
   ],
   "source": [
    "user_id = \"sananda\"\n",
    "password= \"sananda13\"\n",
    "counter = 1\n",
    "user_id_check = False\n",
    "userid = input(\"enter your user id:\")\n",
    "while counter <= 3:\n",
    "\n",
    "    if userid == user_id:\n",
    "\n",
    "        user_id_check = True\n",
    "    if user_id_check == True:\n",
    "  \n",
    "        pswd = input(\"Enter your password:\")\n",
    "        if pswd == password :\n",
    "            print(\"you have logged in succesfully\")\n",
    "            break\n",
    "        counter = counter +1\n",
    "if counter >3:\n",
    "    print(\"you have attented max time,account locked\")\n"
   ]
  },
  {
   "cell_type": "code",
   "execution_count": 83,
   "id": "9a099b44-d0b6-4fe1-9a87-65630c92373c",
   "metadata": {},
   "outputs": [
    {
     "name": "stdout",
     "output_type": "stream",
     "text": [
      "enter s to stop the timer\n"
     ]
    },
    {
     "name": "stdin",
     "output_type": "stream",
     "text": [
      "enter s for stop s\n"
     ]
    },
    {
     "name": "stdout",
     "output_type": "stream",
     "text": [
      "start the class,break is over\n"
     ]
    }
   ],
   "source": [
    "import time\n",
    "stop = False\n",
    "while not stop:\n",
    "    print(\"enter s to stop the timer\")\n",
    "    time.sleep(1)\n",
    "    press_stop = input(\"enter s for stop\")\n",
    "    if press_stop.lower == \"s\" :\n",
    "        stop = True\n",
    "    break\n",
    "print(\"start the class,break is over\")\n"
   ]
  },
  {
   "cell_type": "code",
   "execution_count": null,
   "id": "1fa6664c-4690-4eb0-b100-b3b53726392c",
   "metadata": {},
   "outputs": [],
   "source": [
    "s1='my name is rahul'\n",
    "s1=s1.replace('n','a')\n",
    "print(s1)\n"
   ]
  }
 ],
 "metadata": {
  "kernelspec": {
   "display_name": "Python 3 (ipykernel)",
   "language": "python",
   "name": "python3"
  },
  "language_info": {
   "codemirror_mode": {
    "name": "ipython",
    "version": 3
   },
   "file_extension": ".py",
   "mimetype": "text/x-python",
   "name": "python",
   "nbconvert_exporter": "python",
   "pygments_lexer": "ipython3",
   "version": "3.10.8"
  }
 },
 "nbformat": 4,
 "nbformat_minor": 5
}
