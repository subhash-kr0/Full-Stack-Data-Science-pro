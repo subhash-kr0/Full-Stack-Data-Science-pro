{
  "nbformat": 4,
  "nbformat_minor": 0,
  "metadata": {
    "colab": {
      "provenance": []
    },
    "kernelspec": {
      "name": "python3",
      "display_name": "Python 3"
    },
    "language_info": {
      "name": "python"
    }
  },
  "cells": [
    {
      "cell_type": "code",
      "execution_count": null,
      "metadata": {
        "id": "J3wbgkgnZf-n"
      },
      "outputs": [],
      "source": [
        "class Node :\n",
        "  def __init__(self, data, next= None , prev = None):\n",
        "    self.__data = data\n",
        "    self.__prev = prev\n",
        "    self.__next = next\n",
        "\n",
        "  def getData(self):\n",
        "    return self.__data\n",
        "  def setData(self, data):\n",
        "    self.__data = data\n",
        "\n",
        "  def getNext(self):\n",
        "    return self.__next\n",
        "  def setNext(self, next):\n",
        "    self.__next = next\n",
        "\n",
        "  def getPrev(self):\n",
        "    return self.__prev\n",
        "  def setPrev(self, prev):\n",
        "    self.__prev = prev\n"
      ]
    },
    {
      "cell_type": "code",
      "source": [
        "head = Node(1)\n",
        "node1 = Node(2)\n",
        "node2 =Node(3)\n",
        "node3 = Node(4)\n",
        "node4 = Node(5)\n",
        "\n",
        "head.setNext(node1)\n",
        "node1.setNext(node2)\n",
        "node1.setPrev(head)\n",
        "node2.setNext(node3)\n",
        "node2.setPrev(node1)\n",
        "node3.setNext(node4)\n",
        "node3.setPrev(node2)\n",
        "node4.setPrev(node3)\n",
        "\n"
      ],
      "metadata": {
        "id": "nEs-ge0aZ_pQ"
      },
      "execution_count": null,
      "outputs": []
    },
    {
      "cell_type": "code",
      "source": [
        "def traverse(head):\n",
        "  temp = head\n",
        "  while (temp):\n",
        "    print(temp.getData(), end=\"->\")\n",
        "    temp = temp.getNext()\n",
        "  print()\n",
        "\n",
        "traverse(head)\n"
      ],
      "metadata": {
        "colab": {
          "base_uri": "https://localhost:8080/"
        },
        "id": "lcDdWZVje4c9",
        "outputId": "011dcd43-349f-47d9-9e44-495344294c1b"
      },
      "execution_count": null,
      "outputs": [
        {
          "output_type": "stream",
          "name": "stdout",
          "text": [
            "1->2->3->4->5->\n"
          ]
        }
      ]
    },
    {
      "cell_type": "code",
      "source": [
        "class CNode :\n",
        "  def __init__(self, data, next= None):\n",
        "    self.__data = data\n",
        "    self.__next = next\n",
        "\n",
        "  def getData(self):\n",
        "    return self.__data\n",
        "  def setData(self, data):\n",
        "    self.__data = data\n",
        "\n",
        "  def getNext(self):\n",
        "    return self.__next\n",
        "  def setNext(self, next):\n",
        "    self.__next = next\n",
        "\n"
      ],
      "metadata": {
        "id": "OXDYzKhwf96q"
      },
      "execution_count": null,
      "outputs": []
    },
    {
      "cell_type": "code",
      "source": [
        "head = CNode(1)\n",
        "node2 = CNode(2)\n",
        "node3 = CNode(3)\n",
        "node4 = CNode(4)\n",
        "\n",
        "head.setNext(node2)\n",
        "node2.setNext(node3)\n",
        "node3.setNext(node4)\n",
        "node4.setNext(head)"
      ],
      "metadata": {
        "id": "iB7H8SRJgfsQ"
      },
      "execution_count": null,
      "outputs": []
    },
    {
      "cell_type": "code",
      "source": [
        "def traverseCLL(head):\n",
        "  temp = head.getNext()\n",
        "  print(head.getData(), end=\"->\")\n",
        "  while(temp != head):\n",
        "    print(temp.getData(), end=\"->\")\n",
        "    temp = temp.getNext()"
      ],
      "metadata": {
        "id": "nCfg6bhvhXsC"
      },
      "execution_count": null,
      "outputs": []
    },
    {
      "cell_type": "code",
      "source": [
        "traverseCLL(head)"
      ],
      "metadata": {
        "colab": {
          "base_uri": "https://localhost:8080/"
        },
        "id": "-cwfZ3qPhjR5",
        "outputId": "16f2927a-fd16-4e28-cf2c-5d90829f4191"
      },
      "execution_count": null,
      "outputs": [
        {
          "output_type": "stream",
          "name": "stdout",
          "text": [
            "1->2->3->4->"
          ]
        }
      ]
    },
    {
      "cell_type": "code",
      "source": [
        "def deleteHead(head):\n",
        "  #jump to the tail\n",
        "  tail = head.getNext()\n",
        "\n",
        "  while(tail and tail.getNext() !=head):\n",
        "    tail = tail.getNext()\n",
        "\n",
        "  newHead = head.getNext()\n",
        "  tail.setNext(newHead)\n",
        "  return newHead"
      ],
      "metadata": {
        "id": "FLVSHQlmjlKV"
      },
      "execution_count": null,
      "outputs": []
    }
  ]
}