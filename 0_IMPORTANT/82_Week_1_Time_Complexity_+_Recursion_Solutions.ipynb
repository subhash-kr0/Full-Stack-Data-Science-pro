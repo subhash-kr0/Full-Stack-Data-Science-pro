{
  "nbformat": 4,
  "nbformat_minor": 0,
  "metadata": {
    "colab": {
      "provenance": []
    },
    "kernelspec": {
      "name": "python3",
      "display_name": "Python 3"
    },
    "language_info": {
      "name": "python"
    }
  },
  "cells": [
    {
      "cell_type": "code",
      "source": [
        "#Problem 1\n",
        "\n",
        "'''\n",
        "   Worst case TC : O(n2)\n",
        "'''"
      ],
      "metadata": {
        "id": "7wclpUrulsLT"
      },
      "execution_count": null,
      "outputs": []
    },
    {
      "cell_type": "code",
      "source": [
        "#Problem 2\n",
        "\n",
        "'''\n",
        "   Worst case TC : O(n2)\n",
        "\n",
        "'''"
      ],
      "metadata": {
        "id": "G5-8f6C9lzk3"
      },
      "execution_count": null,
      "outputs": []
    },
    {
      "cell_type": "code",
      "source": [
        "#Problem 3\n",
        "\n",
        "'''\n",
        "   Worst case TC : O(n)\n",
        "\n",
        "'''"
      ],
      "metadata": {
        "id": "1neE1H9jmIZ-"
      },
      "execution_count": null,
      "outputs": []
    },
    {
      "cell_type": "code",
      "source": [
        "#Problem 4\n",
        "\n",
        "'''\n",
        "   Worst case TC : O(n2)\n",
        "\n",
        "'''"
      ],
      "metadata": {
        "id": "ViiI23O6mN26"
      },
      "execution_count": null,
      "outputs": []
    },
    {
      "cell_type": "code",
      "source": [
        "# Problem 5\n",
        "'''\n",
        "   Worst case TC : O(n2)\n",
        "\n",
        "'''"
      ],
      "metadata": {
        "id": "FtOQ35KDmThy"
      },
      "execution_count": null,
      "outputs": []
    },
    {
      "cell_type": "code",
      "source": [
        "# Problem 6 : Sum of Digits\n",
        "\n",
        "def sum_of_digit( n ):\n",
        "    if n == 0:\n",
        "        return 0\n",
        "    return (n % 10 + sum_of_digit(int(n / 10)))\n",
        "\n",
        "num = 12345\n",
        "result = sum_of_digit(num)\n",
        "print(\"Sum of digits in\",num,\"is\", result)"
      ],
      "metadata": {
        "colab": {
          "base_uri": "https://localhost:8080/"
        },
        "id": "lkOPSOVRmh9D",
        "outputId": "8c869ebd-46f3-40fc-fcc1-1b3176624634"
      },
      "execution_count": null,
      "outputs": [
        {
          "output_type": "stream",
          "name": "stdout",
          "text": [
            "Sum of digits in 12345 is 15\n"
          ]
        }
      ]
    },
    {
      "cell_type": "code",
      "source": [
        "# Problem 7: Fibonacci Series\n",
        "def fibonacci_numbers(num):\n",
        "    if num == 0:\n",
        "        return 0\n",
        "    elif num == 1:\n",
        "        return 1\n",
        "    else:\n",
        "        # printing fibonacci numbers\n",
        "        return fibonacci_numbers(num-2)+fibonacci_numbers(num-1)\n",
        "\n",
        "n = 7\n",
        "for i in range(0, n):\n",
        "    print(fibonacci_numbers(i), end=\" \")"
      ],
      "metadata": {
        "colab": {
          "base_uri": "https://localhost:8080/"
        },
        "id": "TwTBYuwZm5sa",
        "outputId": "d39bbf28-51e4-407d-d666-170cd4e4ce6b"
      },
      "execution_count": null,
      "outputs": [
        {
          "output_type": "stream",
          "name": "stdout",
          "text": [
            "0 1 1 2 3 5 8 "
          ]
        }
      ]
    },
    {
      "cell_type": "code",
      "source": [
        "# Problem 8 : Subset Sum\n",
        "def isSubsetSum(set, n, sum):\n",
        "\n",
        "    # Base Cases\n",
        "    if (sum == 0):\n",
        "        return True\n",
        "    if (n == 0):\n",
        "        return False\n",
        "\n",
        "    # If last element is greater than\n",
        "    # sum, then ignore it\n",
        "    if (set[n - 1] > sum):\n",
        "        return isSubsetSum(set, n - 1, sum)\n",
        "\n",
        "    # Else, check if sum can be obtained\n",
        "    # by any of the following\n",
        "    # (a) including the last element\n",
        "    # (b) excluding the last element\n",
        "    return isSubsetSum(\n",
        "        set, n-1, sum) or isSubsetSum(\n",
        "        set, n-1, sum-set[n-1])\n",
        "\n",
        "print(isSubsetSum([3, 34, 4, 12, 5, 2], 6 , 101))"
      ],
      "metadata": {
        "colab": {
          "base_uri": "https://localhost:8080/"
        },
        "id": "OcR3CuDAnH5K",
        "outputId": "0bf549e5-51da-445e-b9af-4db103359bbc"
      },
      "execution_count": null,
      "outputs": [
        {
          "output_type": "stream",
          "name": "stdout",
          "text": [
            "False\n"
          ]
        }
      ]
    },
    {
      "cell_type": "code",
      "source": [
        "# Problem 9: Word Break\n",
        "\n",
        "def wordBreak(wordList, word):\n",
        "    if word == '':\n",
        "        return True\n",
        "    else:\n",
        "        wordLen = len(word)\n",
        "        for i in range(1,wordLen+1):\n",
        "          if word[:i] in wordList and wordBreak(wordList, word[i:]):\n",
        "            return True\n",
        "        return False\n",
        "\n",
        "print(wordBreak( [\"leet\", \"code\"], \"leetcode\"))\n"
      ],
      "metadata": {
        "colab": {
          "base_uri": "https://localhost:8080/"
        },
        "id": "Z-ftI4gHnf6s",
        "outputId": "f281cf35-9215-4995-fbfe-2b77baa2809b"
      },
      "execution_count": null,
      "outputs": [
        {
          "output_type": "stream",
          "name": "stdout",
          "text": [
            "True\n"
          ]
        }
      ]
    },
    {
      "cell_type": "code",
      "execution_count": null,
      "metadata": {
        "colab": {
          "base_uri": "https://localhost:8080/"
        },
        "id": "ZZaLf8iOFt5e",
        "outputId": "bf695ef5-cf56-416b-dee7-a4b8c2c8aa01"
      },
      "outputs": [
        {
          "output_type": "stream",
          "name": "stdout",
          "text": [
            ". . Q . \n",
            "Q . . . \n",
            ". . . Q \n",
            ". Q . . \n"
          ]
        }
      ],
      "source": [
        "# Problem 10 : N-Queens\n",
        "global N\n",
        "N = 4\n",
        "\n",
        "\n",
        "def printSolution(board):\n",
        "    for i in range(N):\n",
        "        for j in range(N):\n",
        "            if board[i][j] == 1:\n",
        "                print(\"Q\",end=\" \")\n",
        "            else:\n",
        "                print(\".\",end=\" \")\n",
        "        print()\n",
        "\n",
        "\n",
        "def isSafe(board, row, col):\n",
        "\n",
        "    # Check this row on left side\n",
        "    for i in range(col):\n",
        "        if board[row][i] == 1:\n",
        "            return False\n",
        "\n",
        "    # Check upper diagonal on left side\n",
        "    for i, j in zip(range(row, -1, -1),\n",
        "                    range(col, -1, -1)):\n",
        "        if board[i][j] == 1:\n",
        "            return False\n",
        "\n",
        "    # Check lower diagonal on left side\n",
        "    for i, j in zip(range(row, N, 1),\n",
        "                    range(col, -1, -1)):\n",
        "        if board[i][j] == 1:\n",
        "            return False\n",
        "\n",
        "    return True\n",
        "\n",
        "\n",
        "def solveNQUtil(board, col):\n",
        "\n",
        "    # Base case: If all queens are placed\n",
        "    # then return true\n",
        "    if col >= N:\n",
        "        return True\n",
        "\n",
        "    # Consider this column and try placing\n",
        "    # this queen in all rows one by one\n",
        "    for i in range(N):\n",
        "\n",
        "        if isSafe(board, i, col):\n",
        "\n",
        "            # Place this queen in board[i][col]\n",
        "            board[i][col] = 1\n",
        "\n",
        "            # Recur to place rest of the queens\n",
        "            if solveNQUtil(board, col + 1) :\n",
        "                return True\n",
        "\n",
        "            # If placing queen in board[i][col\n",
        "            # doesn't lead to a solution, then\n",
        "            # queen from board[i][col]\n",
        "            board[i][col] = 0\n",
        "\n",
        "    # If the queen can not be placed in any row in\n",
        "    # this column col then return false\n",
        "    return False\n",
        "\n",
        "\n",
        "# This function solves the N Queen problem using\n",
        "# Backtracking. It mainly uses solveNQUtil() to\n",
        "# solve the problem. It returns false if queens\n",
        "# cannot be placed, otherwise return true and\n",
        "# placement of queens in the form of 1s.\n",
        "# note that there may be more than one\n",
        "# solutions, this function prints one of the\n",
        "# feasible solutions.\n",
        "def solveNQ():\n",
        "    board = [[0, 0, 0, 0],\n",
        "             [0, 0, 0, 0],\n",
        "             [0, 0, 0, 0],\n",
        "             [0, 0, 0, 0]]\n",
        "\n",
        "    if not solveNQUtil(board, 0) :\n",
        "        print(\"Solution does not exist\")\n",
        "        return\n",
        "\n",
        "    printSolution(board)\n",
        "\n",
        "\n",
        "\n",
        "solveNQ()\n"
      ]
    }
  ]
}