{
 "cells": [
  {
   "cell_type": "code",
   "execution_count": 7,
   "id": "771aea9e-c2cc-4e3e-a9db-ba0cb792bac5",
   "metadata": {},
   "outputs": [
    {
     "name": "stdin",
     "output_type": "stream",
     "text": [
      "enter a value for a  6\n",
      "enter a value for b 0\n"
     ]
    }
   ],
   "source": [
    "a=int(input(\"enter a value for a \"))\n",
    "b = int(input(\"enter a value for b\"))"
   ]
  },
  {
   "cell_type": "code",
   "execution_count": 8,
   "id": "e01dd2d6-74a2-4c12-9cae-045c9181ef65",
   "metadata": {},
   "outputs": [
    {
     "data": {
      "text/plain": [
       "0"
      ]
     },
     "execution_count": 8,
     "metadata": {},
     "output_type": "execute_result"
    }
   ],
   "source": [
    "a*b"
   ]
  },
  {
   "cell_type": "code",
   "execution_count": 11,
   "id": "575a67b7-a834-4162-a81a-bc52013912ad",
   "metadata": {},
   "outputs": [
    {
     "ename": "ZeroDivisionError",
     "evalue": "division by zero",
     "output_type": "error",
     "traceback": [
      "\u001b[0;31m---------------------------------------------------------------------------\u001b[0m",
      "\u001b[0;31mZeroDivisionError\u001b[0m                         Traceback (most recent call last)",
      "Cell \u001b[0;32mIn[11], line 1\u001b[0m\n\u001b[0;32m----> 1\u001b[0m \u001b[43ma\u001b[49m\u001b[38;5;241;43m/\u001b[39;49m\u001b[43mb\u001b[49m\n\u001b[1;32m      2\u001b[0m \u001b[38;5;28mprint\u001b[39m(\u001b[38;5;124m\"\u001b[39m\u001b[38;5;124mprint something\u001b[39m\u001b[38;5;124m\"\u001b[39m)\n",
      "\u001b[0;31mZeroDivisionError\u001b[0m: division by zero"
     ]
    }
   ],
   "source": [
    "a/b\n",
    "print(\"print something\")"
   ]
  },
  {
   "cell_type": "code",
   "execution_count": 10,
   "id": "e5ee1c15-4ce1-4551-95dd-81228519b569",
   "metadata": {},
   "outputs": [
    {
     "data": {
      "text/plain": [
       "6"
      ]
     },
     "execution_count": 10,
     "metadata": {},
     "output_type": "execute_result"
    }
   ],
   "source": [
    "a+b"
   ]
  },
  {
   "cell_type": "code",
   "execution_count": 32,
   "id": "d5b00013-1d75-4844-90a3-6ca81aa793f8",
   "metadata": {},
   "outputs": [],
   "source": [
    "l = [4,5,6,7,8,9,0]\n",
    "l1 = []\n",
    "def even_parser(l):\n",
    "    for i in l :\n",
    "        if i%2 == 0 :\n",
    "            l1.append(i)\n",
    "    return l1 \n"
   ]
  },
  {
   "cell_type": "code",
   "execution_count": 19,
   "id": "69dd5785-c570-4cd4-8e59-73b3b61a547b",
   "metadata": {},
   "outputs": [
    {
     "ename": "TypeError",
     "evalue": "not all arguments converted during string formatting",
     "output_type": "error",
     "traceback": [
      "\u001b[0;31m---------------------------------------------------------------------------\u001b[0m",
      "\u001b[0;31mTypeError\u001b[0m                                 Traceback (most recent call last)",
      "Cell \u001b[0;32mIn[19], line 1\u001b[0m\n\u001b[0;32m----> 1\u001b[0m \u001b[43meven_parser\u001b[49m\u001b[43m(\u001b[49m\u001b[38;5;124;43m\"\u001b[39;49m\u001b[38;5;124;43msudh\u001b[39;49m\u001b[38;5;124;43m\"\u001b[39;49m\u001b[43m)\u001b[49m\n\u001b[1;32m      2\u001b[0m \u001b[38;5;28mprint\u001b[39m(\u001b[38;5;124m\"\u001b[39m\u001b[38;5;124mprint something\u001b[39m\u001b[38;5;124m\"\u001b[39m)\n",
      "Cell \u001b[0;32mIn[14], line 5\u001b[0m, in \u001b[0;36meven_parser\u001b[0;34m(l)\u001b[0m\n\u001b[1;32m      3\u001b[0m \u001b[38;5;28;01mdef\u001b[39;00m \u001b[38;5;21meven_parser\u001b[39m(l):\n\u001b[1;32m      4\u001b[0m     \u001b[38;5;28;01mfor\u001b[39;00m i \u001b[38;5;129;01min\u001b[39;00m l :\n\u001b[0;32m----> 5\u001b[0m         \u001b[38;5;28;01mif\u001b[39;00m \u001b[43mi\u001b[49m\u001b[38;5;241;43m%\u001b[39;49m\u001b[38;5;241;43m2\u001b[39;49m \u001b[38;5;241m==\u001b[39m \u001b[38;5;241m0\u001b[39m :\n\u001b[1;32m      6\u001b[0m             l1\u001b[38;5;241m.\u001b[39mappend(i)\n\u001b[1;32m      7\u001b[0m     \u001b[38;5;28;01mreturn\u001b[39;00m l1\n",
      "\u001b[0;31mTypeError\u001b[0m: not all arguments converted during string formatting"
     ]
    }
   ],
   "source": [
    "even_parser(\"sudh\")\n",
    "print(\"print something\")"
   ]
  },
  {
   "cell_type": "code",
   "execution_count": 26,
   "id": "d59f8a0d-b088-4511-89b5-8f85adde1638",
   "metadata": {},
   "outputs": [
    {
     "name": "stdin",
     "output_type": "stream",
     "text": [
      "enter a value for a  sudh\n"
     ]
    },
    {
     "name": "stdout",
     "output_type": "stream",
     "text": [
      "print something\n"
     ]
    }
   ],
   "source": [
    "try :\n",
    "    a=int(input(\"enter a value for a \"))\n",
    "    b = int(input(\"enter a value for b\"))\n",
    "    c = a/b\n",
    "    print(c)\n",
    "except : \n",
    "    pass\n",
    "print(\"print something\")    "
   ]
  },
  {
   "cell_type": "code",
   "execution_count": 27,
   "id": "40ac0701-2c8d-4eff-b682-5c7c25c08d28",
   "metadata": {},
   "outputs": [
    {
     "name": "stdin",
     "output_type": "stream",
     "text": [
      "enter a value for a  sudh\n"
     ]
    },
    {
     "ename": "ValueError",
     "evalue": "invalid literal for int() with base 10: 'sudh'",
     "output_type": "error",
     "traceback": [
      "\u001b[0;31m---------------------------------------------------------------------------\u001b[0m",
      "\u001b[0;31mValueError\u001b[0m                                Traceback (most recent call last)",
      "Cell \u001b[0;32mIn[27], line 1\u001b[0m\n\u001b[0;32m----> 1\u001b[0m a\u001b[38;5;241m=\u001b[39m\u001b[38;5;28;43mint\u001b[39;49m\u001b[43m(\u001b[49m\u001b[38;5;28;43minput\u001b[39;49m\u001b[43m(\u001b[49m\u001b[38;5;124;43m\"\u001b[39;49m\u001b[38;5;124;43menter a value for a \u001b[39;49m\u001b[38;5;124;43m\"\u001b[39;49m\u001b[43m)\u001b[49m\u001b[43m)\u001b[49m\n",
      "\u001b[0;31mValueError\u001b[0m: invalid literal for int() with base 10: 'sudh'"
     ]
    }
   ],
   "source": [
    "a=int(input(\"enter a value for a \"))"
   ]
  },
  {
   "cell_type": "code",
   "execution_count": 35,
   "id": "8cbf8f66-ac7c-48b3-8775-babbee8252e2",
   "metadata": {},
   "outputs": [],
   "source": [
    "l = [4,5,6,7,8,9,0]\n",
    "l1 = []\n",
    "def even_parser1(l):\n",
    "    try :\n",
    "        for i in l :\n",
    "            if i%2 == 0 :\n",
    "                l1.append(i)\n",
    "        return l1 \n",
    "    except :\n",
    "        pass\n"
   ]
  },
  {
   "cell_type": "code",
   "execution_count": 36,
   "id": "c4bb3e35-5189-4348-83dd-1e0dc22967bf",
   "metadata": {},
   "outputs": [
    {
     "ename": "TypeError",
     "evalue": "'int' object is not iterable",
     "output_type": "error",
     "traceback": [
      "\u001b[0;31m---------------------------------------------------------------------------\u001b[0m",
      "\u001b[0;31mTypeError\u001b[0m                                 Traceback (most recent call last)",
      "Cell \u001b[0;32mIn[36], line 1\u001b[0m\n\u001b[0;32m----> 1\u001b[0m \u001b[43meven_parser\u001b[49m\u001b[43m(\u001b[49m\u001b[38;5;241;43m5\u001b[39;49m\u001b[43m)\u001b[49m\n",
      "Cell \u001b[0;32mIn[32], line 4\u001b[0m, in \u001b[0;36meven_parser\u001b[0;34m(l)\u001b[0m\n\u001b[1;32m      3\u001b[0m \u001b[38;5;28;01mdef\u001b[39;00m \u001b[38;5;21meven_parser\u001b[39m(l):\n\u001b[0;32m----> 4\u001b[0m     \u001b[38;5;28;01mfor\u001b[39;00m i \u001b[38;5;129;01min\u001b[39;00m l :\n\u001b[1;32m      5\u001b[0m         \u001b[38;5;28;01mif\u001b[39;00m i\u001b[38;5;241m%\u001b[39m\u001b[38;5;241m2\u001b[39m \u001b[38;5;241m==\u001b[39m \u001b[38;5;241m0\u001b[39m :\n\u001b[1;32m      6\u001b[0m             l1\u001b[38;5;241m.\u001b[39mappend(i)\n",
      "\u001b[0;31mTypeError\u001b[0m: 'int' object is not iterable"
     ]
    }
   ],
   "source": [
    "even_parser(5)"
   ]
  },
  {
   "cell_type": "code",
   "execution_count": 38,
   "id": "aa064927-1d54-422e-a376-24b659dafdd3",
   "metadata": {},
   "outputs": [
    {
     "name": "stdout",
     "output_type": "stream",
     "text": [
      "fsdfsfsd \n"
     ]
    }
   ],
   "source": [
    "even_parser1(5)\n",
    "print(\"fsdfsfsd \")"
   ]
  },
  {
   "cell_type": "code",
   "execution_count": 42,
   "id": "d1c69992-f301-44cb-a9d5-a1ac309e45e2",
   "metadata": {},
   "outputs": [
    {
     "name": "stdin",
     "output_type": "stream",
     "text": [
      " 3\n",
      " 0\n"
     ]
    },
    {
     "name": "stdout",
     "output_type": "stream",
     "text": [
      "division by zero\n"
     ]
    }
   ],
   "source": [
    "try :\n",
    "    a = int(input())\n",
    "    b = int(input())\n",
    "    c = a/b\n",
    "except Exception as e :\n",
    "    print(e)"
   ]
  },
  {
   "cell_type": "code",
   "execution_count": 40,
   "id": "307105d3-44c3-472f-9721-2014743ffe99",
   "metadata": {},
   "outputs": [
    {
     "ename": "ZeroDivisionError",
     "evalue": "division by zero",
     "output_type": "error",
     "traceback": [
      "\u001b[0;31m---------------------------------------------------------------------------\u001b[0m",
      "\u001b[0;31mZeroDivisionError\u001b[0m                         Traceback (most recent call last)",
      "Cell \u001b[0;32mIn[40], line 1\u001b[0m\n\u001b[0;32m----> 1\u001b[0m c \u001b[38;5;241m=\u001b[39m \u001b[38;5;241;43m6\u001b[39;49m\u001b[38;5;241;43m/\u001b[39;49m\u001b[38;5;241;43m0\u001b[39;49m\n",
      "\u001b[0;31mZeroDivisionError\u001b[0m: division by zero"
     ]
    }
   ],
   "source": [
    "c = 6/0"
   ]
  },
  {
   "cell_type": "code",
   "execution_count": 45,
   "id": "85e888ae-25c8-4069-9ed0-96caabaa03db",
   "metadata": {},
   "outputs": [
    {
     "name": "stdin",
     "output_type": "stream",
     "text": [
      " sudh\n"
     ]
    },
    {
     "name": "stdout",
     "output_type": "stream",
     "text": [
      "invalid literal for int() with base 10: 'sudh'\n"
     ]
    }
   ],
   "source": [
    "try :\n",
    "    a = int(input())\n",
    "    b = int(input())\n",
    "    c = a/b\n",
    "except TypeError as t  :\n",
    "    print(t)\n",
    "except ZeroDivisionError as z :\n",
    "    print(z)\n",
    "except ValueError as v :\n",
    "    print(v)\n"
   ]
  },
  {
   "cell_type": "code",
   "execution_count": 47,
   "id": "16162898-b027-4d1a-8bf8-2cc4cb63d7e3",
   "metadata": {},
   "outputs": [
    {
     "name": "stdout",
     "output_type": "stream",
     "text": [
      "division by zero\n",
      "invalid literal for int() with base 10: 'sudh'\n"
     ]
    }
   ],
   "source": [
    "try :\n",
    "    x = 5/0\n",
    "except ZeroDivisionError as z :\n",
    "    print(z)\n",
    "    try : \n",
    "        y = int(\"sudh\")\n",
    "    except ValueError as v :\n",
    "        print(v)\n",
    "    "
   ]
  },
  {
   "cell_type": "code",
   "execution_count": 51,
   "id": "3a96341e-357f-4c34-bda0-5ffe9ff8bc11",
   "metadata": {},
   "outputs": [
    {
     "name": "stdout",
     "output_type": "stream",
     "text": [
      "division by zero\n",
      "this will be executed always\n"
     ]
    }
   ],
   "source": [
    "try :\n",
    "    x = 5/0\n",
    "except ZeroDivisionError as z :\n",
    "    print(z)\n",
    "else:\n",
    "    print(\"this will execute itself once try will execute without and error\")\n",
    "finally : \n",
    "    print(\"this will be executed always\")"
   ]
  },
  {
   "cell_type": "code",
   "execution_count": 56,
   "id": "c18ccfcd-0a28-4a8f-8606-70da33df0be8",
   "metadata": {},
   "outputs": [
    {
     "name": "stdout",
     "output_type": "stream",
     "text": [
      "this is a keyerror\n"
     ]
    }
   ],
   "source": [
    "try:\n",
    "    d = {\"name\" : \"sudh\" , \"mobile_no\" : 234242 , \"email_id\": \"sudh@gmail.com\"}\n",
    "    d[\"course\"]\n",
    "except Exception  :\n",
    "    print(\"this is a keyerror\")"
   ]
  },
  {
   "cell_type": "code",
   "execution_count": 53,
   "id": "78074d56-f85f-4267-ad8b-fa6bc919fe94",
   "metadata": {},
   "outputs": [
    {
     "data": {
      "text/plain": [
       "{'name': 'sudh', 'mobile_no': 234242, 'email_id': 'sudh@gmail.com'}"
      ]
     },
     "execution_count": 53,
     "metadata": {},
     "output_type": "execute_result"
    }
   ],
   "source": [
    "d"
   ]
  },
  {
   "cell_type": "code",
   "execution_count": 59,
   "id": "d8b83944-2569-453d-bb83-e1fc45a421d1",
   "metadata": {},
   "outputs": [
    {
     "name": "stdout",
     "output_type": "stream",
     "text": [
      "list index out of range\n"
     ]
    }
   ],
   "source": [
    "try:\n",
    "    l = [4,5,6,7,7,8]\n",
    "    l[10]\n",
    "except Exception as e :\n",
    "    print(e)"
   ]
  },
  {
   "cell_type": "code",
   "execution_count": 61,
   "id": "8ee57660-379a-4572-b6d8-03d3d65c6064",
   "metadata": {},
   "outputs": [
    {
     "name": "stdout",
     "output_type": "stream",
     "text": [
      "invalid literal for int() with base 10: 'sudh'\n"
     ]
    }
   ],
   "source": [
    "try :\n",
    "    \n",
    "    a = \"sudh\"\n",
    "    int(a)\n",
    "except Exception as e :\n",
    "    print(e)"
   ]
  },
  {
   "cell_type": "code",
   "execution_count": 66,
   "id": "e084195b-0728-4cc2-bddc-aee78a880e94",
   "metadata": {},
   "outputs": [
    {
     "name": "stdout",
     "output_type": "stream",
     "text": [
      "total 36\n",
      "-rw-r--r-- 1 jovyan users 16581 Sep 30 05:22 'Exception handling and logging.ipynb'\n",
      "drwxr-xr-x 3 jovyan users  4096 Sep 30 05:21  \u001b[0m\u001b[01;34mpro\u001b[0m/\n",
      "-rw-r--r-- 1 jovyan users   198 Sep 30 03:44  README.md\n",
      "-rw-r--r-- 1 jovyan users  3151 Sep 30 03:44  sample-code.ipynb\n",
      "drwxr-xr-x 2 jovyan users  4096 Sep 30 05:20 \u001b[01;34m'Untitled Folder'\u001b[0m/\n"
     ]
    }
   ],
   "source": [
    "ls -l"
   ]
  },
  {
   "cell_type": "code",
   "execution_count": 67,
   "id": "708deb2f-8f46-4a24-ab49-38f27749525d",
   "metadata": {},
   "outputs": [
    {
     "data": {
      "text/plain": [
       "'/home/jovyan/work'"
      ]
     },
     "execution_count": 67,
     "metadata": {},
     "output_type": "execute_result"
    }
   ],
   "source": [
    "pwd"
   ]
  },
  {
   "cell_type": "code",
   "execution_count": 68,
   "id": "e79d3f92-14b0-41a5-bbc8-c998a4293741",
   "metadata": {},
   "outputs": [
    {
     "data": {
      "text/plain": [
       "'asdfsafsf\\nasdfasd\\nfas\\nfas\\nfas\\nfasd\\nfas\\nfasd\\nfasd\\nfasd\\nfasd\\nfas\\nf'"
      ]
     },
     "execution_count": 68,
     "metadata": {},
     "output_type": "execute_result"
    }
   ],
   "source": [
    "file_name = \"/home/jovyan/work/pro/test.txt\"\n",
    "f = open(file_name)\n",
    "f.read()"
   ]
  },
  {
   "cell_type": "code",
   "execution_count": null,
   "id": "06dd1ea7-31d2-458b-970a-8e780d9e9617",
   "metadata": {},
   "outputs": [],
   "source": [
    "try :\n",
    "    file_name = \"D':/Data Science/Python Coding/Class/test.txt\"\n",
    "    f = open (file_name)\n",
    "    f.read()\n",
    "except Exception as e :\n",
    "    print(e)\n"
   ]
  },
  {
   "cell_type": "code",
   "execution_count": null,
   "id": "84513302-e0fc-40fc-be2a-f118c735f2aa",
   "metadata": {},
   "outputs": [],
   "source": [
    "file=\"C:\\\\Users\\\\anil_\\\\OneDrive\\\\Documents\\\\Book1.txt\"\n",
    "d = open(file)\n",
    "d.read()\n"
   ]
  },
  {
   "cell_type": "code",
   "execution_count": 71,
   "id": "ad4da6a8-8551-4d2c-a04d-8a1f8f316370",
   "metadata": {},
   "outputs": [
    {
     "data": {
      "text/plain": [
       "<_io.TextIOWrapper name='/home/jovyan/work/pro/pro1/pro2/test.txt' mode='r' encoding='UTF-8'>"
      ]
     },
     "execution_count": 71,
     "metadata": {},
     "output_type": "execute_result"
    }
   ],
   "source": [
    "open('/home/jovyan/work/pro/pro1/pro2/test.txt')"
   ]
  },
  {
   "cell_type": "code",
   "execution_count": 72,
   "id": "8246a652-5fea-4b90-969b-2bfeae1e567c",
   "metadata": {},
   "outputs": [
    {
     "name": "stdout",
     "output_type": "stream",
     "text": [
      "/home/jovyan/work/pro\n"
     ]
    }
   ],
   "source": [
    "cd pro"
   ]
  },
  {
   "cell_type": "code",
   "execution_count": 74,
   "id": "75227ced-677e-492b-8cb6-adc3ce95433b",
   "metadata": {},
   "outputs": [
    {
     "data": {
      "text/plain": [
       "'/home/jovyan/work/pro'"
      ]
     },
     "execution_count": 74,
     "metadata": {},
     "output_type": "execute_result"
    }
   ],
   "source": [
    "pwd"
   ]
  },
  {
   "cell_type": "code",
   "execution_count": 75,
   "id": "6a246da2-e8a7-41f8-b0d0-736bf142c649",
   "metadata": {},
   "outputs": [
    {
     "name": "stdout",
     "output_type": "stream",
     "text": [
      "\u001b[0m\u001b[01;34mpro1\u001b[0m/\n"
     ]
    }
   ],
   "source": [
    "ls"
   ]
  },
  {
   "cell_type": "code",
   "execution_count": 76,
   "id": "2070367a-1e54-498d-abfc-b16c36075308",
   "metadata": {},
   "outputs": [
    {
     "name": "stdout",
     "output_type": "stream",
     "text": [
      "/home/jovyan/work/pro/pro1\n"
     ]
    }
   ],
   "source": [
    "cd pro1"
   ]
  },
  {
   "cell_type": "code",
   "execution_count": 77,
   "id": "6af302b7-576a-4ebf-ade5-756e11029ba7",
   "metadata": {},
   "outputs": [
    {
     "name": "stdout",
     "output_type": "stream",
     "text": [
      "/home/jovyan/work/pro/pro1/pro2\n"
     ]
    }
   ],
   "source": [
    "cd pro2/"
   ]
  },
  {
   "cell_type": "code",
   "execution_count": 78,
   "id": "350e13ec-c7e3-4240-8c51-ec93d031731d",
   "metadata": {},
   "outputs": [
    {
     "name": "stdout",
     "output_type": "stream",
     "text": [
      "test.txt\n"
     ]
    }
   ],
   "source": [
    "ls"
   ]
  },
  {
   "cell_type": "code",
   "execution_count": 79,
   "id": "71f457cf-7e29-496f-aff0-19b21696b662",
   "metadata": {},
   "outputs": [
    {
     "data": {
      "text/plain": [
       "<_io.TextIOWrapper name='test.txt' mode='r' encoding='UTF-8'>"
      ]
     },
     "execution_count": 79,
     "metadata": {},
     "output_type": "execute_result"
    }
   ],
   "source": [
    "open('test.txt')"
   ]
  },
  {
   "cell_type": "code",
   "execution_count": 80,
   "id": "b9ac69f2-f6f1-4e3c-a2d1-c61c70c8fc92",
   "metadata": {},
   "outputs": [
    {
     "data": {
      "text/plain": [
       "'/home/jovyan/work/pro/pro1/pro2'"
      ]
     },
     "execution_count": 80,
     "metadata": {},
     "output_type": "execute_result"
    }
   ],
   "source": [
    "pwd"
   ]
  },
  {
   "cell_type": "code",
   "execution_count": 81,
   "id": "83c4bf79-8957-4973-92a0-0499c6b2611e",
   "metadata": {},
   "outputs": [
    {
     "name": "stdout",
     "output_type": "stream",
     "text": [
      "/home/jovyan/work/pro/pro1\n"
     ]
    }
   ],
   "source": [
    "cd ..\n"
   ]
  },
  {
   "cell_type": "code",
   "execution_count": 82,
   "id": "57b26e73-47d8-4f43-b8ef-48268f8f05f7",
   "metadata": {},
   "outputs": [
    {
     "name": "stdout",
     "output_type": "stream",
     "text": [
      "/home/jovyan/work/pro\n"
     ]
    }
   ],
   "source": [
    "cd .."
   ]
  },
  {
   "cell_type": "code",
   "execution_count": 83,
   "id": "66cb6a25-3240-445c-bed1-22a01b1f5c5f",
   "metadata": {},
   "outputs": [
    {
     "name": "stdout",
     "output_type": "stream",
     "text": [
      "/home/jovyan/work\n"
     ]
    }
   ],
   "source": [
    "cd .."
   ]
  },
  {
   "cell_type": "code",
   "execution_count": 85,
   "id": "de35cd13-e00b-45df-bc98-16f1000094e6",
   "metadata": {},
   "outputs": [
    {
     "name": "stdout",
     "output_type": "stream",
     "text": [
      "'Exception handling and logging.ipynb'   README.md          \u001b[0m\u001b[01;34m'Untitled Folder'\u001b[0m/\n",
      " \u001b[01;34mpro\u001b[0m/                                    sample-code.ipynb\n"
     ]
    }
   ],
   "source": [
    "ls"
   ]
  },
  {
   "cell_type": "code",
   "execution_count": 86,
   "id": "cf535a08-cb56-459e-843a-5a9c4cbfe7b3",
   "metadata": {},
   "outputs": [
    {
     "data": {
      "text/plain": [
       "<_io.TextIOWrapper name='/home/jovyan/work/pro/pro1/pro2/test.txt' mode='r' encoding='UTF-8'>"
      ]
     },
     "execution_count": 86,
     "metadata": {},
     "output_type": "execute_result"
    }
   ],
   "source": [
    "open(\"/home/jovyan/work/pro/pro1/pro2/test.txt\")"
   ]
  },
  {
   "cell_type": "code",
   "execution_count": 92,
   "id": "a433a7df-38f7-4cfb-94ff-96b4241f8017",
   "metadata": {},
   "outputs": [
    {
     "name": "stdin",
     "output_type": "stream",
     "text": [
      "enter a number fsdfasfas\n"
     ]
    },
    {
     "name": "stdout",
     "output_type": "stream",
     "text": [
      "user has entered invalid input \n"
     ]
    }
   ],
   "source": [
    "try :\n",
    "    \n",
    "    n = int(input(\"enter a number\"))\n",
    "    div  = 342/n\n",
    "    print(div)\n",
    "except ValueError :\n",
    "    print(\"user has entered invalid input \")\n",
    "except ZeroDivisionError :\n",
    "    print(\"user has entered zero\")"
   ]
  },
  {
   "cell_type": "code",
   "execution_count": 93,
   "id": "cc14c0d9-f36a-44ae-a8f0-21f7212df2a2",
   "metadata": {},
   "outputs": [
    {
     "name": "stdin",
     "output_type": "stream",
     "text": [
      "enter a number fsfda\n"
     ]
    },
    {
     "name": "stdout",
     "output_type": "stream",
     "text": [
      "user has entered finvalid input or may b zero\n"
     ]
    }
   ],
   "source": [
    "try :\n",
    "    \n",
    "    n = int(input(\"enter a number\"))\n",
    "    div  = 342/n\n",
    "    print(div)\n",
    "except (ValueError,ZeroDivisionError) :\n",
    "    print(\"user has entered finvalid input or may b zero\")"
   ]
  },
  {
   "cell_type": "code",
   "execution_count": 96,
   "id": "615bb57c-aad9-4907-aa53-9271337ea3bd",
   "metadata": {},
   "outputs": [
    {
     "name": "stdin",
     "output_type": "stream",
     "text": [
      "enter a number fsdfasdfasfadasasf\n"
     ]
    },
    {
     "name": "stdout",
     "output_type": "stream",
     "text": [
      "user has entered invalid input\n"
     ]
    }
   ],
   "source": [
    "try :\n",
    "    try :\n",
    "        n = int(input(\"enter a number\"))\n",
    "        div  = 342/n\n",
    "        print(div)\n",
    "    except ZeroDivisionError :\n",
    "        print(\"user has entered zero\")\n",
    "except ValueError :\n",
    "    print(\"user has entered invalid input\")"
   ]
  },
  {
   "cell_type": "code",
   "execution_count": 98,
   "id": "04af3237-e5e2-4898-bdd6-66c6022af93a",
   "metadata": {},
   "outputs": [
    {
     "name": "stdin",
     "output_type": "stream",
     "text": [
      "enter a number 0\n"
     ]
    },
    {
     "name": "stdout",
     "output_type": "stream",
     "text": [
      "user has entered finvalid input or may b zero\n"
     ]
    }
   ],
   "source": [
    "try :\n",
    "    \n",
    "    n = int(input(\"enter a number\"))\n",
    "    div  = 342/n\n",
    "    print(div)\n",
    "except Exception :\n",
    "    print(\"user has entered finvalid input or may b zero\")"
   ]
  },
  {
   "cell_type": "code",
   "execution_count": 100,
   "id": "38a4c71f-088d-4079-a2d0-b3a9f292cd8d",
   "metadata": {},
   "outputs": [
    {
     "name": "stdin",
     "output_type": "stream",
     "text": [
      "enter a number gfsdsd\n"
     ]
    },
    {
     "name": "stdout",
     "output_type": "stream",
     "text": [
      "user has entered finvalid input or may b zero\n"
     ]
    }
   ],
   "source": [
    "try :\n",
    "    \n",
    "    n = int(input(\"enter a number\"))\n",
    "    div  = 342/n\n",
    "    print(div)\n",
    "except Exception :\n",
    "    print(\"user has entered finvalid input or may b zero\")\n",
    "else :\n",
    "    print(div)"
   ]
  },
  {
   "cell_type": "code",
   "execution_count": 2,
   "id": "f9c3fa37-cf40-46d9-a1c4-51b4f3667db2",
   "metadata": {},
   "outputs": [
    {
     "name": "stdout",
     "output_type": "stream",
     "text": [
      "there is soeme issue \n",
      "file closed\n"
     ]
    }
   ],
   "source": [
    "try :\n",
    "    f = open(\"/home/jovyan/work/pro/pro1/pro2/test.txt\")\n",
    "    data = f.write()\n",
    "except Exception :\n",
    "    print(\"there is soeme issue \")\n",
    "else :\n",
    "    print(data)\n",
    "finally : \n",
    "    try :\n",
    "        print(data)\n",
    "    except :\n",
    "        pass\n",
    "    f.close()\n",
    "    print(\"file closed\")"
   ]
  },
  {
   "cell_type": "code",
   "execution_count": 102,
   "id": "9cfea09e-8913-41ba-b8b4-647156411b3e",
   "metadata": {},
   "outputs": [
    {
     "data": {
      "text/plain": [
       "<_io.TextIOWrapper name='/home/jovyan/work/pro/pro1/pro2/test.txt' mode='r' encoding='UTF-8'>"
      ]
     },
     "execution_count": 102,
     "metadata": {},
     "output_type": "execute_result"
    }
   ],
   "source": [
    "f"
   ]
  },
  {
   "cell_type": "code",
   "execution_count": 7,
   "id": "6251b1fa-40ee-4061-b30b-9e430486bfd7",
   "metadata": {},
   "outputs": [
    {
     "name": "stdin",
     "output_type": "stream",
     "text": [
      "enter hight of the wall -34\n"
     ]
    },
    {
     "name": "stdout",
     "output_type": "stream",
     "text": [
      "enter hight is negative\n"
     ]
    }
   ],
   "source": [
    "try :\n",
    "    a = int(input(\"enter hight of the wall\"))\n",
    "    if a <0 :\n",
    "        raise ValueError(\"enter hight is negative\")\n",
    "except ValueError as v :\n",
    "    print(v)"
   ]
  },
  {
   "cell_type": "code",
   "execution_count": 19,
   "id": "5f0caed1-6733-49d1-bb99-61256d0db2ba",
   "metadata": {},
   "outputs": [
    {
     "name": "stdin",
     "output_type": "stream",
     "text": [
      "enter your age -45325\n"
     ]
    },
    {
     "name": "stdout",
     "output_type": "stream",
     "text": [
      "user has entered a negative age which is not valid\n"
     ]
    }
   ],
   "source": [
    "try :\n",
    "    age = int(input(\"enter your age\"))\n",
    "    if age < 0 :\n",
    "        raise ValueError(\"user has entered a negative age which is not valid\")\n",
    "    elif age<18 : \n",
    "        raise Exception(\"user is underage\")\n",
    "    else : \n",
    "        print(\"valid user\")\n",
    "except Exception as e :\n",
    "    print(e)"
   ]
  },
  {
   "cell_type": "code",
   "execution_count": 1,
   "id": "92e8b55c-2425-4f64-8a5b-1754c3aa9217",
   "metadata": {},
   "outputs": [],
   "source": [
    "import logging as log"
   ]
  },
  {
   "cell_type": "code",
   "execution_count": 2,
   "id": "97567701-b5be-4290-82eb-ba315312a9ab",
   "metadata": {},
   "outputs": [],
   "source": [
    "log.basicConfig(filename = 'test.log' , level = log.INFO)"
   ]
  },
  {
   "cell_type": "code",
   "execution_count": 3,
   "id": "fe7447b6-8b6d-4524-8385-cfda94098a76",
   "metadata": {},
   "outputs": [],
   "source": [
    "log.info(\"store a msg\")"
   ]
  },
  {
   "cell_type": "code",
   "execution_count": 5,
   "id": "109151fd-3452-4128-b710-fdcfae3b3c83",
   "metadata": {},
   "outputs": [],
   "source": [
    "log.debug(\"this is a debug msg\")"
   ]
  },
  {
   "cell_type": "code",
   "execution_count": 6,
   "id": "b240da4b-a73d-45ea-b7d2-19dea2fc25bb",
   "metadata": {},
   "outputs": [],
   "source": [
    "log.warning(\"this is my warning\")"
   ]
  },
  {
   "cell_type": "code",
   "execution_count": 7,
   "id": "301781d7-9b19-4666-aa69-06c7c7653f5d",
   "metadata": {},
   "outputs": [],
   "source": [
    "log.error(\"tihs is a error msg\")"
   ]
  },
  {
   "cell_type": "code",
   "execution_count": 8,
   "id": "f2f9425d-5635-4066-a9af-f139189e1ecc",
   "metadata": {},
   "outputs": [],
   "source": [
    "log.critical(\"this is a critical msg\")"
   ]
  },
  {
   "cell_type": "code",
   "execution_count": null,
   "id": "2a7564f1-8cd6-4f62-8b68-f368c8c6e685",
   "metadata": {},
   "outputs": [],
   "source": []
  },
  {
   "cell_type": "code",
   "execution_count": 1,
   "id": "61ce9731-8265-434e-907e-58218b0ca9b7",
   "metadata": {},
   "outputs": [
    {
     "name": "stdin",
     "output_type": "stream",
     "text": [
      "enter your age 345\\\n"
     ]
    }
   ],
   "source": [
    "import logging \n",
    "logging.basicConfig(filename = 'trytest.log', level = logging.DEBUG , format = '%(asctime)s- %(levelname)s - %(message)s')\n",
    "try :\n",
    "    logging.info(\"this is a start of my prog\")\n",
    "    logging.info(\"asking user to enter age\")\n",
    "    age = int(input(\"enter your age\"))\n",
    "    logging.info(\"user has entered the age = %d\",age)\n",
    "    if age < 0 :\n",
    "        logging.info(\"i am checking negative condition\")\n",
    "        raise ValueError(\"user has entered a negative age which is not valid\")\n",
    "    elif age<18 : \n",
    "        logging.info(\"i am trying to check underage contion\")\n",
    "        raise Exception(\"user is underage\")\n",
    "    else : \n",
    "        logging.info(\"valid user\")\n",
    "except Exception as e :\n",
    "    logging.error(e)"
   ]
  },
  {
   "cell_type": "code",
   "execution_count": 1,
   "id": "b4da82a8-c42e-4788-a7bf-eab22a6ef3a0",
   "metadata": {},
   "outputs": [],
   "source": [
    "import logging \n",
    "logging.basicConfig(filename = 'even_parse.log', level = logging.DEBUG , format = '%(asctime)s- %(levelname)s - %(message)s')\n",
    "l = [4,5,6,7,8,9,0]\n",
    "logging.info(l)\n",
    "l1 = []\n",
    "def even_parser(l):\n",
    "    try:\n",
    "        logging.info(\"inside try block\")\n",
    "        for i in l :\n",
    "            logging.info(\"inside for loop i = %d\",i)\n",
    "            if i%2 == 0 :\n",
    "                logging.info(\"checking the valur of i \")\n",
    "                l1.append(i)\n",
    "                logging.info(\"appending the value i = %d\" , i)\n",
    "        return l1 \n",
    "    except Exception as e :\n",
    "        logging.error(e)"
   ]
  },
  {
   "cell_type": "code",
   "execution_count": 2,
   "id": "9d18d682-86fc-40dd-8e1f-096813cd7d40",
   "metadata": {},
   "outputs": [
    {
     "data": {
      "text/plain": [
       "[4, 6, 8, 0]"
      ]
     },
     "execution_count": 2,
     "metadata": {},
     "output_type": "execute_result"
    }
   ],
   "source": [
    "even_parser(l)"
   ]
  },
  {
   "cell_type": "code",
   "execution_count": null,
   "id": "1cacb8a1-893a-45c7-9941-187c33029636",
   "metadata": {},
   "outputs": [],
   "source": []
  }
 ],
 "metadata": {
  "kernelspec": {
   "display_name": "Python 3 (ipykernel)",
   "language": "python",
   "name": "python3"
  },
  "language_info": {
   "codemirror_mode": {
    "name": "ipython",
    "version": 3
   },
   "file_extension": ".py",
   "mimetype": "text/x-python",
   "name": "python",
   "nbconvert_exporter": "python",
   "pygments_lexer": "ipython3",
   "version": "3.10.8"
  }
 },
 "nbformat": 4,
 "nbformat_minor": 5
}
