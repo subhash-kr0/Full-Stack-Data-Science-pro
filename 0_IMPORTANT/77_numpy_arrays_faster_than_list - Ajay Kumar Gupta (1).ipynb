{
 "cells": [
  {
   "cell_type": "raw",
   "id": "adc019bd",
   "metadata": {},
   "source": [
    "For matrices, the dot product represents a more generalized operation. If A is an \n",
    "m×n matrix and B is an  n×p matrix, the dot product (matrix multiplication) results in an \n",
    "m×p matrix. In NumPy, this can be computed using the np.dot function or the @ operator for matrix multiplication.\n",
    "\n",
    "For two vectors, A and B, with elements A[0], A[1], ..., A[n-1] and B[0], B[1], ..., B[n-1], the dot product (also known as the inner product or scalar product) is calculated as follows:\n",
    "\n",
    "dot product=A[0]×B[0]+A[1]×B[1]+…+A[n−1]×B[n−1]"
   ]
  },
  {
   "cell_type": "code",
   "execution_count": 1,
   "id": "4e666c26",
   "metadata": {},
   "outputs": [
    {
     "name": "stdout",
     "output_type": "stream",
     "text": [
      "Matrix product using np.dot:\n",
      " [[19 22]\n",
      " [43 50]]\n",
      "Matrix product using @ operator:\n",
      " [[19 22]\n",
      " [43 50]]\n"
     ]
    }
   ],
   "source": [
    "\n",
    "import numpy as np\n",
    "\n",
    "# Example matrices\n",
    "A = np.array([[1, 2], [3, 4]])\n",
    "B = np.array([[5, 6], [7, 8]])\n",
    "\n",
    "# Using np.dot for matrix multiplication\n",
    "matrix_product = np.dot(A, B)\n",
    "print(\"Matrix product using np.dot:\\n\", matrix_product)\n",
    "\n",
    "# Using @ operator for matrix multiplication (Python 3.5 and later)\n",
    "matrix_product = A @ B\n",
    "print(\"Matrix product using @ operator:\\n\", matrix_product)\n"
   ]
  },
  {
   "cell_type": "code",
   "execution_count": 2,
   "id": "17868e2b",
   "metadata": {},
   "outputs": [
    {
     "name": "stdout",
     "output_type": "stream",
     "text": [
      "Time taken for vectorized calculation: 13.105154037475586 milliseconds\n",
      "Time taken for calculation using a for loop: 735.1412773132324 milliseconds\n"
     ]
    }
   ],
   "source": [
    "import numpy as np\n",
    "import time\n",
    "\n",
    "# Generate two random NumPy arrays with one million elements each\n",
    "array1 = np.random.rand(1000000)\n",
    "array2 = np.random.rand(1000000)\n",
    "\n",
    "# Measure time for the vectorized version using np.dot\n",
    "start_time_vectorized = time.time()\n",
    "result_vectorized = np.dot(array1, array2)\n",
    "end_time_vectorized = time.time()\n",
    "\n",
    "# Print the time taken for the vectorized version\n",
    "print(\"Time taken for vectorized calculation: \" + str(1000 * (end_time_vectorized - start_time_vectorized)) + \" milliseconds\")\n",
    "\n",
    "# Reset result_vectorized to 0\n",
    "result_vectorized = 0\n",
    "\n",
    "# Measure time for the version using a for loop\n",
    "start_time_for_loop = time.time()\n",
    "for index in range(1000000):\n",
    "    result_vectorized += array1[index] * array2[index]\n",
    "end_time_for_loop = time.time()\n",
    "\n",
    "# Print the time taken for the for loop version\n",
    "print(\"Time taken for calculation using a for loop: \" + str(1000 * (end_time_for_loop - start_time_for_loop)) + \" milliseconds\")\n"
   ]
  },
  {
   "cell_type": "code",
   "execution_count": 28,
   "id": "a8391622",
   "metadata": {},
   "outputs": [
    {
     "data": {
      "text/plain": [
       "array([[1, 2],\n",
       "       [5, 6]])"
      ]
     },
     "execution_count": 28,
     "metadata": {},
     "output_type": "execute_result"
    }
   ],
   "source": [
    "np.array(np.matrix([[1, 2], [5, 6]]))"
   ]
  },
  {
   "cell_type": "code",
   "execution_count": 13,
   "id": "207f56a8",
   "metadata": {},
   "outputs": [],
   "source": [
    "arr = np.array([[1, 2, 3], [4, 5, 6]])"
   ]
  },
  {
   "cell_type": "code",
   "execution_count": 23,
   "id": "1737d14a",
   "metadata": {},
   "outputs": [
    {
     "data": {
      "text/plain": [
       "6"
      ]
     },
     "execution_count": 23,
     "metadata": {},
     "output_type": "execute_result"
    }
   ],
   "source": [
    "np.count_nonzero(arr)"
   ]
  },
  {
   "cell_type": "code",
   "execution_count": 29,
   "id": "b928405a",
   "metadata": {},
   "outputs": [
    {
     "name": "stdout",
     "output_type": "stream",
     "text": [
      "Input  scalar :  12\n",
      "output array from input scalar :  12\n",
      "<class 'numpy.ndarray'>\n"
     ]
    }
   ],
   "source": [
    "import numpy as geek \n",
    "  \n",
    "my_scalar = 12\n",
    "   \n",
    "print (\"Input  scalar : \", my_scalar) \n",
    "    \n",
    "out_arr = geek.asanyarray(my_scalar)  \n",
    "print (\"output array from input scalar : \", out_arr)  \n",
    "print(type(out_arr)) "
   ]
  },
  {
   "cell_type": "code",
   "execution_count": null,
   "id": "c65965d1",
   "metadata": {},
   "outputs": [],
   "source": []
  }
 ],
 "metadata": {
  "kernelspec": {
   "display_name": "Python 3 (ipykernel)",
   "language": "python",
   "name": "python3"
  },
  "language_info": {
   "codemirror_mode": {
    "name": "ipython",
    "version": 3
   },
   "file_extension": ".py",
   "mimetype": "text/x-python",
   "name": "python",
   "nbconvert_exporter": "python",
   "pygments_lexer": "ipython3",
   "version": "3.11.4"
  }
 },
 "nbformat": 4,
 "nbformat_minor": 5
}
