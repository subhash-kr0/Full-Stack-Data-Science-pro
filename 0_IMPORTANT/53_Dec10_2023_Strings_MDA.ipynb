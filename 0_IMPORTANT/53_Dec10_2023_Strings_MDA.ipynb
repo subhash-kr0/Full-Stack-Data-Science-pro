{
  "nbformat": 4,
  "nbformat_minor": 0,
  "metadata": {
    "colab": {
      "provenance": []
    },
    "kernelspec": {
      "name": "python3",
      "display_name": "Python 3"
    },
    "language_info": {
      "name": "python"
    }
  },
  "cells": [
    {
      "cell_type": "code",
      "execution_count": null,
      "metadata": {
        "id": "yAAinIfh3cLB"
      },
      "outputs": [],
      "source": [
        "str = \"Python\"\n",
        "#String is basically a collection of words\n",
        "\n",
        "#Python doesn't support character -> 'a' is considered as string of length 1"
      ]
    },
    {
      "cell_type": "code",
      "source": [
        "print(str[0])"
      ],
      "metadata": {
        "colab": {
          "base_uri": "https://localhost:8080/"
        },
        "id": "PnvNSv-736CQ",
        "outputId": "b5c7af80-d28a-4f97-dff7-91a1a8ac5377"
      },
      "execution_count": null,
      "outputs": [
        {
          "output_type": "stream",
          "name": "stdout",
          "text": [
            "P\n"
          ]
        }
      ]
    },
    {
      "cell_type": "code",
      "source": [
        "print(str[-1])"
      ],
      "metadata": {
        "colab": {
          "base_uri": "https://localhost:8080/"
        },
        "id": "Ha826p0t4GNe",
        "outputId": "5dab34f5-301c-4e09-ded6-f82e5300eb53"
      },
      "execution_count": null,
      "outputs": [
        {
          "output_type": "stream",
          "name": "stdout",
          "text": [
            "n\n"
          ]
        }
      ]
    },
    {
      "cell_type": "code",
      "source": [
        "print(str[10])"
      ],
      "metadata": {
        "colab": {
          "base_uri": "https://localhost:8080/",
          "height": 176
        },
        "id": "iwUaksEx4Jl1",
        "outputId": "422178c9-417c-4419-ad67-52f476aa1e6f"
      },
      "execution_count": null,
      "outputs": [
        {
          "output_type": "error",
          "ename": "IndexError",
          "evalue": "ignored",
          "traceback": [
            "\u001b[0;31m---------------------------------------------------------------------------\u001b[0m",
            "\u001b[0;31mIndexError\u001b[0m                                Traceback (most recent call last)",
            "\u001b[0;32m<ipython-input-22-34eb7c44a5a1>\u001b[0m in \u001b[0;36m<cell line: 1>\u001b[0;34m()\u001b[0m\n\u001b[0;32m----> 1\u001b[0;31m \u001b[0mprint\u001b[0m\u001b[0;34m(\u001b[0m\u001b[0mstr\u001b[0m\u001b[0;34m[\u001b[0m\u001b[0;36m10\u001b[0m\u001b[0;34m]\u001b[0m\u001b[0;34m)\u001b[0m\u001b[0;34m\u001b[0m\u001b[0;34m\u001b[0m\u001b[0m\n\u001b[0m",
            "\u001b[0;31mIndexError\u001b[0m: string index out of range"
          ]
        }
      ]
    },
    {
      "cell_type": "code",
      "source": [
        "print(str[2:4])"
      ],
      "metadata": {
        "colab": {
          "base_uri": "https://localhost:8080/"
        },
        "id": "ArJN3uUt4OFO",
        "outputId": "df093ab3-72e8-483f-b11d-5ab5ffb1bf5f"
      },
      "execution_count": null,
      "outputs": [
        {
          "output_type": "stream",
          "name": "stdout",
          "text": [
            "th\n"
          ]
        }
      ]
    },
    {
      "cell_type": "code",
      "source": [
        "print(str[-1:1:-1])"
      ],
      "metadata": {
        "colab": {
          "base_uri": "https://localhost:8080/"
        },
        "id": "qUb75ehE4Ur5",
        "outputId": "43481643-eb4c-4192-fb0b-646724d6f28c"
      },
      "execution_count": null,
      "outputs": [
        {
          "output_type": "stream",
          "name": "stdout",
          "text": [
            "noht\n"
          ]
        }
      ]
    },
    {
      "cell_type": "code",
      "source": [
        "print(str[-2:2:-1])"
      ],
      "metadata": {
        "colab": {
          "base_uri": "https://localhost:8080/"
        },
        "id": "NRsjxczhKrox",
        "outputId": "b09fcea4-4b76-40ef-8a56-dab7d25246c0"
      },
      "execution_count": null,
      "outputs": [
        {
          "output_type": "stream",
          "name": "stdout",
          "text": [
            "oh\n"
          ]
        }
      ]
    },
    {
      "cell_type": "code",
      "source": [
        "#Something which is not same as an array\n",
        "\n",
        "str= \"Python\"\n",
        "str[0] = \"R\" #This is not allowed"
      ],
      "metadata": {
        "colab": {
          "base_uri": "https://localhost:8080/",
          "height": 210
        },
        "id": "Thm3Zx-y4-Iu",
        "outputId": "f00e3a47-515b-442a-a68a-83f1963a7388"
      },
      "execution_count": null,
      "outputs": [
        {
          "output_type": "error",
          "ename": "TypeError",
          "evalue": "ignored",
          "traceback": [
            "\u001b[0;31m---------------------------------------------------------------------------\u001b[0m",
            "\u001b[0;31mTypeError\u001b[0m                                 Traceback (most recent call last)",
            "\u001b[0;32m<ipython-input-26-8de4bfe05161>\u001b[0m in \u001b[0;36m<cell line: 4>\u001b[0;34m()\u001b[0m\n\u001b[1;32m      2\u001b[0m \u001b[0;34m\u001b[0m\u001b[0m\n\u001b[1;32m      3\u001b[0m \u001b[0mstr\u001b[0m\u001b[0;34m=\u001b[0m \u001b[0;34m\"Python\"\u001b[0m\u001b[0;34m\u001b[0m\u001b[0;34m\u001b[0m\u001b[0m\n\u001b[0;32m----> 4\u001b[0;31m \u001b[0mstr\u001b[0m\u001b[0;34m[\u001b[0m\u001b[0;36m0\u001b[0m\u001b[0;34m]\u001b[0m \u001b[0;34m=\u001b[0m \u001b[0;34m\"R\"\u001b[0m \u001b[0;31m#This is not allowed\u001b[0m\u001b[0;34m\u001b[0m\u001b[0;34m\u001b[0m\u001b[0m\n\u001b[0m",
            "\u001b[0;31mTypeError\u001b[0m: 'str' object does not support item assignment"
          ]
        }
      ]
    },
    {
      "cell_type": "code",
      "source": [
        "#Iterate through the string the same way\n",
        "\n",
        "for c in str :\n",
        "  print(c)"
      ],
      "metadata": {
        "colab": {
          "base_uri": "https://localhost:8080/"
        },
        "id": "_vPRuNp_5Qk7",
        "outputId": "97f1ad23-63b7-497c-f87a-c2c7a4397a05"
      },
      "execution_count": null,
      "outputs": [
        {
          "output_type": "stream",
          "name": "stdout",
          "text": [
            "P\n",
            "y\n",
            "t\n",
            "h\n",
            "o\n",
            "n\n"
          ]
        }
      ]
    },
    {
      "cell_type": "code",
      "source": [
        "#Convert the string to the character array\n",
        "\n",
        "str = \"Hello Students\"\n",
        "str_arr = [char for char in str]\n",
        "print(str_arr)\n",
        "\n",
        "str_list = list(str)\n",
        "print(str_arr)"
      ],
      "metadata": {
        "colab": {
          "base_uri": "https://localhost:8080/"
        },
        "id": "DqP85MIe5iuZ",
        "outputId": "d6c7119d-02c7-4adb-daea-32df46b8db44"
      },
      "execution_count": null,
      "outputs": [
        {
          "output_type": "stream",
          "name": "stdout",
          "text": [
            "['H', 'e', 'l', 'l', 'o', ' ', 'S', 't', 'u', 'd', 'e', 'n', 't', 's']\n",
            "['H', 'e', 'l', 'l', 'o', ' ', 'S', 't', 'u', 'd', 'e', 'n', 't', 's']\n"
          ]
        }
      ]
    },
    {
      "cell_type": "code",
      "source": [
        "#Converting the list to string\n",
        "\n",
        "chr_list = ['H','E','L','L','O']\n",
        "\n",
        "print(chr_list)\n",
        "\n",
        "str = \"\".join(chr_list)\n",
        "\n",
        "print(str)\n"
      ],
      "metadata": {
        "colab": {
          "base_uri": "https://localhost:8080/"
        },
        "id": "_R89fFae-Dmp",
        "outputId": "1f098ed6-3b05-4c36-b56e-ea72de1dbda5"
      },
      "execution_count": null,
      "outputs": [
        {
          "output_type": "stream",
          "name": "stdout",
          "text": [
            "['H', 'E', 'L', 'L', 'O']\n",
            "HELLO\n"
          ]
        }
      ]
    },
    {
      "cell_type": "markdown",
      "source": [
        "Permutations of given String\n",
        "\n",
        "A permutation also called an “arrangement number” or “order,” is a rearrangement of the elements of an ordered list S into a one-to-one correspondence with S itself. A string of length N has N! permutations.\n",
        "\n",
        "Input: S = “ABC”\n",
        "Output: “ABC”, “ACB”, “BAC”, “BCA”, “CBA”, “CAB”\n"
      ],
      "metadata": {
        "id": "Q7vIIQV06ZIS"
      }
    },
    {
      "cell_type": "code",
      "source": [
        "def permute(chr_arr,left, right):\n",
        "  #Base condition\n",
        "  if left ==right :\n",
        "    print(\"\".join(chr_arr))\n",
        "    return\n",
        "  else :\n",
        "    for i in range(left,right+1):\n",
        "       chr_arr[left], chr_arr[i] = chr_arr[i],chr_arr[left]\n",
        "       permute(chr_arr,left+1,right)\n",
        "       chr_arr[left], chr_arr[i] = chr_arr[i],chr_arr[left] #Go to the previous stage BackTracking\n",
        "\n",
        "permute(list(\"ABCD\"),0,3)\n"
      ],
      "metadata": {
        "colab": {
          "base_uri": "https://localhost:8080/"
        },
        "id": "VkgYxXQs6X_-",
        "outputId": "1b72b657-9e91-4cab-daac-ddd322aa69e1"
      },
      "execution_count": null,
      "outputs": [
        {
          "output_type": "stream",
          "name": "stdout",
          "text": [
            "ABCD\n",
            "ABDC\n",
            "ACBD\n",
            "ACDB\n",
            "ADCB\n",
            "ADBC\n",
            "BACD\n",
            "BADC\n",
            "BCAD\n",
            "BCDA\n",
            "BDCA\n",
            "BDAC\n",
            "CBAD\n",
            "CBDA\n",
            "CABD\n",
            "CADB\n",
            "CDAB\n",
            "CDBA\n",
            "DBCA\n",
            "DBAC\n",
            "DCBA\n",
            "DCAB\n",
            "DACB\n",
            "DABC\n"
          ]
        }
      ]
    }
  ]
}