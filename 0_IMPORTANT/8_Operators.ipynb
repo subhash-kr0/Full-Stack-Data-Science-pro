{
 "cells": [
  {
   "cell_type": "code",
   "execution_count": null,
   "id": "1a4eec1e-7381-4990-b0ad-f64e43fadde1",
   "metadata": {},
   "outputs": [],
   "source": [
    "and\n",
    "or\n",
    "not\n",
    "\n",
    "# Logical Operator "
   ]
  },
  {
   "cell_type": "code",
   "execution_count": null,
   "id": "9d093b25-1ac0-413a-ba70-212d7976a95b",
   "metadata": {},
   "outputs": [],
   "source": []
  },
  {
   "cell_type": "code",
   "execution_count": 1,
   "id": "2b5af212-78a5-4395-917c-6afcc28a1aa7",
   "metadata": {},
   "outputs": [],
   "source": [
    "a=10\n",
    "b=20"
   ]
  },
  {
   "cell_type": "code",
   "execution_count": 3,
   "id": "e9e54b04-0870-45c2-9c5e-f44e02cd69ab",
   "metadata": {},
   "outputs": [
    {
     "data": {
      "text/plain": [
       "True"
      ]
     },
     "execution_count": 3,
     "metadata": {},
     "output_type": "execute_result"
    }
   ],
   "source": [
    "((a>6) and (b>7))"
   ]
  },
  {
   "cell_type": "code",
   "execution_count": 7,
   "id": "5b298ec1-ddad-42b5-810a-1624ca182f46",
   "metadata": {},
   "outputs": [
    {
     "data": {
      "text/plain": [
       "True"
      ]
     },
     "execution_count": 7,
     "metadata": {},
     "output_type": "execute_result"
    }
   ],
   "source": [
    "((a>10) or (b>7))"
   ]
  },
  {
   "cell_type": "code",
   "execution_count": 5,
   "id": "4fec6833-34ce-4dfe-9c3f-d2953c371ddd",
   "metadata": {},
   "outputs": [
    {
     "name": "stdout",
     "output_type": "stream",
     "text": [
      "False\n"
     ]
    }
   ],
   "source": [
    "print( True and False)"
   ]
  },
  {
   "cell_type": "code",
   "execution_count": 8,
   "id": "a0bd0835-ce0a-4b5c-bd29-ab52c9c743fe",
   "metadata": {},
   "outputs": [
    {
     "name": "stdout",
     "output_type": "stream",
     "text": [
      "False\n"
     ]
    }
   ],
   "source": [
    "print( False or False)"
   ]
  },
  {
   "cell_type": "code",
   "execution_count": null,
   "id": "9cc96cc2-c445-4849-8747-d692c73675dc",
   "metadata": {},
   "outputs": [],
   "source": [
    "1 1 1\n",
    "1 0 0\n",
    "0 1 0\n",
    "0 0 0\n",
    "\n",
    "#and"
   ]
  },
  {
   "cell_type": "code",
   "execution_count": null,
   "id": "20ef6570-5b13-49e7-855e-e1c52a824cfb",
   "metadata": {},
   "outputs": [],
   "source": [
    "1 1 1\n",
    "1 0 1\n",
    "0 1 1\n",
    "0 0 0\n",
    "\n",
    "#or"
   ]
  },
  {
   "cell_type": "code",
   "execution_count": 11,
   "id": "58a3221f-012b-4382-b5a1-77ddd2711334",
   "metadata": {},
   "outputs": [],
   "source": [
    "a = False"
   ]
  },
  {
   "cell_type": "code",
   "execution_count": 12,
   "id": "87fc91f9-a0ff-497d-a2be-e536a80d7843",
   "metadata": {},
   "outputs": [
    {
     "data": {
      "text/plain": [
       "True"
      ]
     },
     "execution_count": 12,
     "metadata": {},
     "output_type": "execute_result"
    }
   ],
   "source": [
    "not(a)"
   ]
  },
  {
   "cell_type": "code",
   "execution_count": null,
   "id": "4fdb489f-b102-4ae9-a097-5217314e5e31",
   "metadata": {},
   "outputs": [],
   "source": [
    "& --- and \n",
    "| --- or\n",
    "^ --- xor\n",
    "~ ----negation\n",
    "\n",
    "<< ---left shit\n",
    "\n",
    ">> --- right shit"
   ]
  },
  {
   "cell_type": "code",
   "execution_count": 17,
   "id": "ec1bad23-ac7a-4fb1-a411-a41f40ceac8f",
   "metadata": {},
   "outputs": [],
   "source": [
    "a= 10\n",
    "b=4"
   ]
  },
  {
   "cell_type": "code",
   "execution_count": 14,
   "id": "780b526a-e1b4-4653-a523-1fe7c6a324e9",
   "metadata": {},
   "outputs": [
    {
     "data": {
      "text/plain": [
       "'0b1010'"
      ]
     },
     "execution_count": 14,
     "metadata": {},
     "output_type": "execute_result"
    }
   ],
   "source": [
    "bin(a)\n",
    "#1010"
   ]
  },
  {
   "cell_type": "code",
   "execution_count": null,
   "id": "33939a10-27e4-4c07-a3f1-68e2300f7af1",
   "metadata": {},
   "outputs": [],
   "source": []
  },
  {
   "cell_type": "code",
   "execution_count": 15,
   "id": "6679e1b5-9c0a-4681-95e8-cc52579188f5",
   "metadata": {},
   "outputs": [
    {
     "data": {
      "text/plain": [
       "'0b100'"
      ]
     },
     "execution_count": 15,
     "metadata": {},
     "output_type": "execute_result"
    }
   ],
   "source": [
    "bin(b)"
   ]
  },
  {
   "cell_type": "code",
   "execution_count": null,
   "id": "1ca0e718-474b-4b58-9c30-41b921486e27",
   "metadata": {},
   "outputs": [],
   "source": [
    "8421\n",
    "0100\n"
   ]
  },
  {
   "cell_type": "code",
   "execution_count": 16,
   "id": "485f3207-c1f9-4d2b-9565-f623026481cf",
   "metadata": {},
   "outputs": [
    {
     "data": {
      "text/plain": [
       "0"
      ]
     },
     "execution_count": 16,
     "metadata": {},
     "output_type": "execute_result"
    }
   ],
   "source": [
    "a & b"
   ]
  },
  {
   "cell_type": "code",
   "execution_count": 18,
   "id": "12c77ab0-e732-4382-a2f6-0adb46c863d2",
   "metadata": {},
   "outputs": [
    {
     "data": {
      "text/plain": [
       "14"
      ]
     },
     "execution_count": 18,
     "metadata": {},
     "output_type": "execute_result"
    }
   ],
   "source": [
    "a | b"
   ]
  },
  {
   "cell_type": "code",
   "execution_count": 19,
   "id": "c9704c16-8b04-4e77-820f-e11e6d378013",
   "metadata": {},
   "outputs": [
    {
     "data": {
      "text/plain": [
       "14"
      ]
     },
     "execution_count": 19,
     "metadata": {},
     "output_type": "execute_result"
    }
   ],
   "source": [
    "a ^ b"
   ]
  },
  {
   "cell_type": "code",
   "execution_count": null,
   "id": "a60a7069-32f8-4d4c-a729-ebceab3af3e1",
   "metadata": {},
   "outputs": [],
   "source": [
    "1 1 0\n",
    "1 0 1\n",
    "0 1 1\n",
    "0 0 0\n",
    "\n",
    "# xor"
   ]
  },
  {
   "cell_type": "code",
   "execution_count": 20,
   "id": "abc01776-8afb-4dc2-85ba-0621e7d06151",
   "metadata": {},
   "outputs": [],
   "source": [
    "a= 10"
   ]
  },
  {
   "cell_type": "code",
   "execution_count": 21,
   "id": "56cc9910-a31f-4f8c-a2d7-db6b0d91ed56",
   "metadata": {},
   "outputs": [
    {
     "data": {
      "text/plain": [
       "-11"
      ]
     },
     "execution_count": 21,
     "metadata": {},
     "output_type": "execute_result"
    }
   ],
   "source": [
    "~a"
   ]
  },
  {
   "cell_type": "code",
   "execution_count": 22,
   "id": "864bcd2d-3b88-4a21-b436-400a92713931",
   "metadata": {},
   "outputs": [],
   "source": [
    "a=8"
   ]
  },
  {
   "cell_type": "code",
   "execution_count": 23,
   "id": "1a51d3cc-17f9-4759-aef9-3ec291f941ea",
   "metadata": {},
   "outputs": [
    {
     "data": {
      "text/plain": [
       "-9"
      ]
     },
     "execution_count": 23,
     "metadata": {},
     "output_type": "execute_result"
    }
   ],
   "source": [
    "~a"
   ]
  },
  {
   "cell_type": "code",
   "execution_count": 24,
   "id": "1b4145a1-8f47-40fe-9453-925273af9a57",
   "metadata": {},
   "outputs": [],
   "source": [
    "a=-12"
   ]
  },
  {
   "cell_type": "code",
   "execution_count": 25,
   "id": "ba45caea-4490-447f-9fde-5f469a94e1f3",
   "metadata": {},
   "outputs": [
    {
     "data": {
      "text/plain": [
       "11"
      ]
     },
     "execution_count": 25,
     "metadata": {},
     "output_type": "execute_result"
    }
   ],
   "source": [
    "~a"
   ]
  },
  {
   "cell_type": "code",
   "execution_count": 26,
   "id": "d3bea730-f7a8-4c14-9561-632134d883b0",
   "metadata": {},
   "outputs": [],
   "source": [
    "x=[1,2,3,4,5]"
   ]
  },
  {
   "cell_type": "code",
   "execution_count": 27,
   "id": "261fcb73-8bf5-4a22-9c1e-60df1e1e56e2",
   "metadata": {},
   "outputs": [
    {
     "data": {
      "text/plain": [
       "True"
      ]
     },
     "execution_count": 27,
     "metadata": {},
     "output_type": "execute_result"
    }
   ],
   "source": [
    "2 in x"
   ]
  },
  {
   "cell_type": "code",
   "execution_count": 28,
   "id": "a3b80927-b199-424d-9a84-7f4cd5adb0f3",
   "metadata": {},
   "outputs": [
    {
     "data": {
      "text/plain": [
       "False"
      ]
     },
     "execution_count": 28,
     "metadata": {},
     "output_type": "execute_result"
    }
   ],
   "source": [
    "7 in x"
   ]
  },
  {
   "cell_type": "code",
   "execution_count": 29,
   "id": "bf8d995d-1484-4501-9dee-57ea26fef649",
   "metadata": {},
   "outputs": [],
   "source": [
    "a=10"
   ]
  },
  {
   "cell_type": "code",
   "execution_count": 30,
   "id": "a2045fd4-c5fa-4f59-a90f-ef6d1ab90c43",
   "metadata": {},
   "outputs": [
    {
     "data": {
      "text/plain": [
       "20"
      ]
     },
     "execution_count": 30,
     "metadata": {},
     "output_type": "execute_result"
    }
   ],
   "source": [
    "a << 1"
   ]
  },
  {
   "cell_type": "code",
   "execution_count": 31,
   "id": "7158deb1-5f80-4864-8732-a1518b1bff92",
   "metadata": {},
   "outputs": [
    {
     "data": {
      "text/plain": [
       "40"
      ]
     },
     "execution_count": 31,
     "metadata": {},
     "output_type": "execute_result"
    }
   ],
   "source": [
    "a << 2"
   ]
  },
  {
   "cell_type": "code",
   "execution_count": 32,
   "id": "ccc07cbb-2fe1-4aa0-877c-2157dfb4c690",
   "metadata": {},
   "outputs": [
    {
     "data": {
      "text/plain": [
       "80"
      ]
     },
     "execution_count": 32,
     "metadata": {},
     "output_type": "execute_result"
    }
   ],
   "source": [
    "a << 3"
   ]
  },
  {
   "cell_type": "code",
   "execution_count": 33,
   "id": "562d8642-3bc4-4c4c-bbb8-cb81d875517e",
   "metadata": {},
   "outputs": [
    {
     "data": {
      "text/plain": [
       "5"
      ]
     },
     "execution_count": 33,
     "metadata": {},
     "output_type": "execute_result"
    }
   ],
   "source": [
    "a >> 1"
   ]
  },
  {
   "cell_type": "code",
   "execution_count": null,
   "id": "d51ff6c2-54d4-4e52-8efe-39571cf4e4aa",
   "metadata": {},
   "outputs": [],
   "source": []
  }
 ],
 "metadata": {
  "kernelspec": {
   "display_name": "Python 3 (ipykernel)",
   "language": "python",
   "name": "python3"
  },
  "language_info": {
   "codemirror_mode": {
    "name": "ipython",
    "version": 3
   },
   "file_extension": ".py",
   "mimetype": "text/x-python",
   "name": "python",
   "nbconvert_exporter": "python",
   "pygments_lexer": "ipython3",
   "version": "3.10.8"
  }
 },
 "nbformat": 4,
 "nbformat_minor": 5
}
