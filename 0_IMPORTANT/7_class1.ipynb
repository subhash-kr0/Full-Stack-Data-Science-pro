{
 "cells": [
  {
   "cell_type": "code",
   "execution_count": 1,
   "id": "b3f12a8a-be7d-49cc-8ef7-20be1602900a",
   "metadata": {},
   "outputs": [],
   "source": [
    "# HIIIIIII"
   ]
  },
  {
   "cell_type": "code",
   "execution_count": null,
   "id": "78ecc30b-f365-4df8-9fa6-bba502c92237",
   "metadata": {},
   "outputs": [],
   "source": [
    "1. NUMERIC --- INT,FLOAT,COMPLEX\n",
    "2. STRING - STR\n",
    "3. LIST\n",
    "TUPLE\n",
    "DICT\n",
    "SETS"
   ]
  },
  {
   "cell_type": "code",
   "execution_count": 2,
   "id": "f79f28d0-4ea0-4706-b296-dcc70cea7558",
   "metadata": {},
   "outputs": [],
   "source": [
    "x=10"
   ]
  },
  {
   "cell_type": "code",
   "execution_count": 3,
   "id": "df6a4322-9174-44cf-ad66-2b63bd298bfb",
   "metadata": {},
   "outputs": [],
   "source": [
    "x=1.34"
   ]
  },
  {
   "cell_type": "code",
   "execution_count": 4,
   "id": "d0e9f54c-6c06-4690-9c7b-02d9ec108b97",
   "metadata": {},
   "outputs": [],
   "source": [
    "x=\"imran\""
   ]
  },
  {
   "cell_type": "code",
   "execution_count": 5,
   "id": "4dac4362-727f-4b6b-b7d5-3267244fe58c",
   "metadata": {},
   "outputs": [],
   "source": [
    "x=['hi',4,3.14]"
   ]
  },
  {
   "cell_type": "code",
   "execution_count": 6,
   "id": "32aceda8-497a-4bf1-a21d-9420f5798172",
   "metadata": {},
   "outputs": [],
   "source": [
    "y={'name':'imran'}"
   ]
  },
  {
   "cell_type": "code",
   "execution_count": 7,
   "id": "a5add821-d2ba-4cee-b17e-aaeb0f8908ce",
   "metadata": {},
   "outputs": [],
   "source": [
    "h=(1,2,3,5)"
   ]
  },
  {
   "cell_type": "code",
   "execution_count": 8,
   "id": "f250183b-3372-40f9-8149-b372f2831250",
   "metadata": {},
   "outputs": [
    {
     "data": {
      "text/plain": [
       "dict"
      ]
     },
     "execution_count": 8,
     "metadata": {},
     "output_type": "execute_result"
    }
   ],
   "source": [
    "type(y)"
   ]
  },
  {
   "cell_type": "code",
   "execution_count": 9,
   "id": "df580999-21ee-49ff-be32-4b2dd37c2b58",
   "metadata": {},
   "outputs": [
    {
     "name": "stdin",
     "output_type": "stream",
     "text": [
      " \"hi\"\n"
     ]
    }
   ],
   "source": [
    "x=input()"
   ]
  },
  {
   "cell_type": "code",
   "execution_count": 10,
   "id": "e3dee209-363c-4d4b-82da-dd4f6161cd14",
   "metadata": {},
   "outputs": [
    {
     "data": {
      "text/plain": [
       "'\"hi\"'"
      ]
     },
     "execution_count": 10,
     "metadata": {},
     "output_type": "execute_result"
    }
   ],
   "source": [
    "x"
   ]
  },
  {
   "cell_type": "code",
   "execution_count": 11,
   "id": "026fd3fc-1dec-46c6-837d-fc769708328f",
   "metadata": {},
   "outputs": [
    {
     "name": "stdin",
     "output_type": "stream",
     "text": [
      " 5\n"
     ]
    }
   ],
   "source": [
    "y=input()"
   ]
  },
  {
   "cell_type": "code",
   "execution_count": null,
   "id": "b940476c-d758-488d-968c-8d217ca97e05",
   "metadata": {},
   "outputs": [],
   "source": [
    "fhfh"
   ]
  },
  {
   "cell_type": "code",
   "execution_count": 12,
   "id": "046f0d64-582e-4a09-85a7-ad36b77dc8e0",
   "metadata": {},
   "outputs": [
    {
     "name": "stdin",
     "output_type": "stream",
     "text": [
      "enter your name imran\n"
     ]
    }
   ],
   "source": [
    "w=input(\"enter your name\")"
   ]
  },
  {
   "cell_type": "code",
   "execution_count": 13,
   "id": "b88bd8ba-ca37-4d9e-8c4a-fbe80b292ad2",
   "metadata": {},
   "outputs": [
    {
     "data": {
      "text/plain": [
       "'imran'"
      ]
     },
     "execution_count": 13,
     "metadata": {},
     "output_type": "execute_result"
    }
   ],
   "source": [
    "w"
   ]
  },
  {
   "cell_type": "code",
   "execution_count": 14,
   "id": "a68d7b14-fc94-48d5-b8ba-a2231f57c356",
   "metadata": {},
   "outputs": [
    {
     "name": "stdout",
     "output_type": "stream",
     "text": [
      "hi\n"
     ]
    }
   ],
   "source": [
    "print(\"hi\")"
   ]
  },
  {
   "cell_type": "code",
   "execution_count": 15,
   "id": "de7cd57a-d9cc-4248-b8ef-698e69699f44",
   "metadata": {},
   "outputs": [
    {
     "name": "stdin",
     "output_type": "stream",
     "text": [
      "enter your name pwskills\n"
     ]
    },
    {
     "name": "stdout",
     "output_type": "stream",
     "text": [
      "pwskills\n"
     ]
    }
   ],
   "source": [
    "x=input(\"enter your name\")\n",
    "print(x)"
   ]
  },
  {
   "cell_type": "code",
   "execution_count": 16,
   "id": "9856a852-fafa-4094-88f7-4bea945b65ae",
   "metadata": {},
   "outputs": [
    {
     "name": "stdin",
     "output_type": "stream",
     "text": [
      "enter your age 67\n"
     ]
    },
    {
     "name": "stdout",
     "output_type": "stream",
     "text": [
      "my age is 67\n"
     ]
    }
   ],
   "source": [
    "y=input(\"enter your age\")\n",
    "print(\"my age is \" + y)"
   ]
  },
  {
   "cell_type": "code",
   "execution_count": 17,
   "id": "98e46d66-d97a-4864-9a82-35a29105b216",
   "metadata": {},
   "outputs": [
    {
     "name": "stdout",
     "output_type": "stream",
     "text": [
      "40\n"
     ]
    }
   ],
   "source": [
    "x=10\n",
    "y=30\n",
    "print(x+y)"
   ]
  },
  {
   "cell_type": "code",
   "execution_count": 19,
   "id": "ea7203d7-812c-4903-bd48-c6b6ea3538da",
   "metadata": {},
   "outputs": [
    {
     "name": "stdin",
     "output_type": "stream",
     "text": [
      "enter first number 8\n",
      "enter second number 8\n"
     ]
    },
    {
     "name": "stdout",
     "output_type": "stream",
     "text": [
      "16\n"
     ]
    }
   ],
   "source": [
    "b =int(input(\"enter first number\"))\n",
    "c = int(input(\"enter second number\"))\n",
    "print(b+c)\n"
   ]
  },
  {
   "cell_type": "code",
   "execution_count": 21,
   "id": "9809de27-7337-4e1a-a4e7-9b843e2d04cd",
   "metadata": {},
   "outputs": [
    {
     "name": "stdin",
     "output_type": "stream",
     "text": [
      "enter any number 1\n"
     ]
    },
    {
     "name": "stdout",
     "output_type": "stream",
     "text": [
      "1\n"
     ]
    }
   ],
   "source": [
    "x=int(input(\"enter any number\"))\n",
    "print(x)"
   ]
  },
  {
   "cell_type": "code",
   "execution_count": 22,
   "id": "fb9cf2d4-af8b-43ea-a245-f8b4989c1d99",
   "metadata": {},
   "outputs": [
    {
     "name": "stdout",
     "output_type": "stream",
     "text": [
      "pwskills\n"
     ]
    }
   ],
   "source": [
    "print(\"pwskills\")"
   ]
  },
  {
   "cell_type": "code",
   "execution_count": 24,
   "id": "4fc0b210-fc27-441b-87af-f4dc412feb1a",
   "metadata": {},
   "outputs": [
    {
     "name": "stdout",
     "output_type": "stream",
     "text": [
      "hi ok  pwskills\n"
     ]
    }
   ],
   "source": [
    "x=\"hi\"\n",
    "y=\"pwskills\"\n",
    "\n",
    "print(f\"{x} ok  {y}\")"
   ]
  },
  {
   "cell_type": "code",
   "execution_count": 25,
   "id": "9bf9b6df-5a91-422f-9a2d-ffbb9c082c97",
   "metadata": {},
   "outputs": [
    {
     "name": "stdout",
     "output_type": "stream",
     "text": [
      "pw\n"
     ]
    }
   ],
   "source": [
    "print(\"pw\")"
   ]
  },
  {
   "cell_type": "code",
   "execution_count": 26,
   "id": "ab44862c-ae3c-4aec-b150-ea79ae308828",
   "metadata": {},
   "outputs": [
    {
     "name": "stdout",
     "output_type": "stream",
     "text": [
      "5\n"
     ]
    }
   ],
   "source": [
    "print(\"5\")"
   ]
  },
  {
   "cell_type": "code",
   "execution_count": 31,
   "id": "602de39a-9a54-4ea7-b8de-d39de1467cb5",
   "metadata": {},
   "outputs": [
    {
     "name": "stdout",
     "output_type": "stream",
     "text": [
      "ineuron and pw and ineuron \n"
     ]
    }
   ],
   "source": [
    "print(\"{2} and {0} and {2} \".format(\"pw\",\"skills\",\"ineuron\"))"
   ]
  },
  {
   "cell_type": "code",
   "execution_count": 32,
   "id": "e46ed8f2-901a-4181-9254-fc84829863df",
   "metadata": {},
   "outputs": [
    {
     "name": "stdout",
     "output_type": "stream",
     "text": [
      "89074562\n",
      "Hii!!\n",
      "$$Howareyou??\n",
      "10*10 = 100\n",
      "(12 > 10) and True\n",
      "I am here to learn \"python\n",
      "\n"
     ]
    }
   ],
   "source": [
    "print(\"\"\"89074562\n",
    "Hii!!\n",
    "$$Howareyou??\n",
    "10*10 = 100\n",
    "(12 > 10) and True\n",
    "I am here to learn \"python\n",
    "\"\"\")\n"
   ]
  },
  {
   "cell_type": "code",
   "execution_count": 33,
   "id": "885a4076-d03a-4aff-9770-99dc9ab0393c",
   "metadata": {},
   "outputs": [
    {
     "name": "stdout",
     "output_type": "stream",
     "text": [
      "$\n",
      "$ $ \n",
      "$ $ $\n",
      "$ $ $ $\n",
      "$ $ $ $ $\n",
      "\n"
     ]
    }
   ],
   "source": [
    "print(\"\"\"$\n",
    "$ $ \n",
    "$ $ $\n",
    "$ $ $ $\n",
    "$ $ $ $ $\n",
    "\"\"\")\n"
   ]
  },
  {
   "cell_type": "code",
   "execution_count": 34,
   "id": "e99664f8-f129-4f37-bd71-b8fec821e178",
   "metadata": {},
   "outputs": [
    {
     "name": "stdin",
     "output_type": "stream",
     "text": [
      "enter the string imran\n"
     ]
    },
    {
     "name": "stdout",
     "output_type": "stream",
     "text": [
      "!imran!\n"
     ]
    }
   ],
   "source": [
    "x=input('enter the string')\n",
    "y=x\n",
    "z=\"!\" + x + \"!\"\n",
    "print(z)\n"
   ]
  },
  {
   "cell_type": "code",
   "execution_count": 35,
   "id": "4b9fde0d-6fd7-4602-80b1-b2b1ed471e01",
   "metadata": {},
   "outputs": [],
   "source": [
    "a=10\n",
    "b=20"
   ]
  },
  {
   "cell_type": "code",
   "execution_count": 36,
   "id": "ff299200-13ff-47f4-9529-76ff1688ba3d",
   "metadata": {},
   "outputs": [
    {
     "data": {
      "text/plain": [
       "30"
      ]
     },
     "execution_count": 36,
     "metadata": {},
     "output_type": "execute_result"
    }
   ],
   "source": [
    "a+b"
   ]
  },
  {
   "cell_type": "code",
   "execution_count": 37,
   "id": "b45499ad-b74d-44d9-844d-53dc138ef374",
   "metadata": {},
   "outputs": [
    {
     "data": {
      "text/plain": [
       "10"
      ]
     },
     "execution_count": 37,
     "metadata": {},
     "output_type": "execute_result"
    }
   ],
   "source": [
    "b-a"
   ]
  },
  {
   "cell_type": "code",
   "execution_count": 38,
   "id": "0cc3de56-2479-497c-8ffe-b82b12a0f0d6",
   "metadata": {},
   "outputs": [
    {
     "data": {
      "text/plain": [
       "200"
      ]
     },
     "execution_count": 38,
     "metadata": {},
     "output_type": "execute_result"
    }
   ],
   "source": [
    "a * b"
   ]
  },
  {
   "cell_type": "code",
   "execution_count": 40,
   "id": "f0f5c191-75cb-48ff-b053-53256507cc18",
   "metadata": {},
   "outputs": [
    {
     "data": {
      "text/plain": [
       "2.0"
      ]
     },
     "execution_count": 40,
     "metadata": {},
     "output_type": "execute_result"
    }
   ],
   "source": [
    "b/a"
   ]
  },
  {
   "cell_type": "code",
   "execution_count": 41,
   "id": "f66126a8-270d-49b7-9bb1-8e666d3a956d",
   "metadata": {},
   "outputs": [
    {
     "data": {
      "text/plain": [
       "0"
      ]
     },
     "execution_count": 41,
     "metadata": {},
     "output_type": "execute_result"
    }
   ],
   "source": [
    "b%a"
   ]
  },
  {
   "cell_type": "code",
   "execution_count": 42,
   "id": "f217d457-5462-4976-91c1-7f037a36cd91",
   "metadata": {},
   "outputs": [],
   "source": [
    "a =10"
   ]
  },
  {
   "cell_type": "code",
   "execution_count": 43,
   "id": "b8161af1-0d3e-4405-9a14-96b7fb9f0da3",
   "metadata": {},
   "outputs": [],
   "source": [
    "b=10"
   ]
  },
  {
   "cell_type": "code",
   "execution_count": 44,
   "id": "62e3f74e-6d0d-4626-9b85-b55f182481e9",
   "metadata": {},
   "outputs": [
    {
     "data": {
      "text/plain": [
       "True"
      ]
     },
     "execution_count": 44,
     "metadata": {},
     "output_type": "execute_result"
    }
   ],
   "source": [
    "a==b"
   ]
  },
  {
   "cell_type": "code",
   "execution_count": 46,
   "id": "17109110-d371-4ba4-a121-1ffc2ff615c7",
   "metadata": {},
   "outputs": [
    {
     "data": {
      "text/plain": [
       "True"
      ]
     },
     "execution_count": 46,
     "metadata": {},
     "output_type": "execute_result"
    }
   ],
   "source": [
    "a is b # identity operator"
   ]
  },
  {
   "cell_type": "code",
   "execution_count": 48,
   "id": "a483a752-56af-44df-8c4f-a431e42b06d9",
   "metadata": {},
   "outputs": [],
   "source": [
    "a = 20"
   ]
  },
  {
   "cell_type": "code",
   "execution_count": 49,
   "id": "3027e69e-7396-4e61-bb56-6295604a1ef6",
   "metadata": {},
   "outputs": [],
   "source": [
    "b = 30"
   ]
  },
  {
   "cell_type": "code",
   "execution_count": 50,
   "id": "0bb163df-c7c4-4b90-9721-595d1e0051d4",
   "metadata": {},
   "outputs": [
    {
     "data": {
      "text/plain": [
       "False"
      ]
     },
     "execution_count": 50,
     "metadata": {},
     "output_type": "execute_result"
    }
   ],
   "source": [
    "a is b "
   ]
  },
  {
   "cell_type": "code",
   "execution_count": 51,
   "id": "7eda19c6-0b8d-4f99-b8a1-6037793221c2",
   "metadata": {},
   "outputs": [
    {
     "data": {
      "text/plain": [
       "False"
      ]
     },
     "execution_count": 51,
     "metadata": {},
     "output_type": "execute_result"
    }
   ],
   "source": [
    "a == b "
   ]
  },
  {
   "cell_type": "code",
   "execution_count": 52,
   "id": "51c7aa59-4973-470c-9ded-8a8a93097fb6",
   "metadata": {},
   "outputs": [
    {
     "data": {
      "text/plain": [
       "139719936869200"
      ]
     },
     "execution_count": 52,
     "metadata": {},
     "output_type": "execute_result"
    }
   ],
   "source": [
    "id(a)"
   ]
  },
  {
   "cell_type": "code",
   "execution_count": 53,
   "id": "e49619b0-bd70-40eb-bc55-59b1b7906033",
   "metadata": {},
   "outputs": [
    {
     "data": {
      "text/plain": [
       "139719936869520"
      ]
     },
     "execution_count": 53,
     "metadata": {},
     "output_type": "execute_result"
    }
   ],
   "source": [
    "id(b)"
   ]
  },
  {
   "cell_type": "code",
   "execution_count": 54,
   "id": "fe2e6e82-8294-49b0-bd59-0cd61b196c0c",
   "metadata": {},
   "outputs": [
    {
     "data": {
      "text/plain": [
       "False"
      ]
     },
     "execution_count": 54,
     "metadata": {},
     "output_type": "execute_result"
    }
   ],
   "source": [
    "a is b"
   ]
  },
  {
   "cell_type": "code",
   "execution_count": 55,
   "id": "c0345155-5fd8-4b17-b08c-1c8b257da602",
   "metadata": {},
   "outputs": [
    {
     "data": {
      "text/plain": [
       "True"
      ]
     },
     "execution_count": 55,
     "metadata": {},
     "output_type": "execute_result"
    }
   ],
   "source": [
    " a!= b"
   ]
  },
  {
   "cell_type": "code",
   "execution_count": 56,
   "id": "1ca26537-09f0-46c8-88ce-9a65efe8e4e7",
   "metadata": {},
   "outputs": [],
   "source": [
    "a = [1,2,3]"
   ]
  },
  {
   "cell_type": "code",
   "execution_count": 57,
   "id": "4d460b05-97ce-4fdb-97d6-7aa0ba40146a",
   "metadata": {},
   "outputs": [],
   "source": [
    "b = [1,2,3]"
   ]
  },
  {
   "cell_type": "code",
   "execution_count": 58,
   "id": "0ee11fd1-0db6-4888-9e7e-4403bff3261f",
   "metadata": {},
   "outputs": [
    {
     "data": {
      "text/plain": [
       "True"
      ]
     },
     "execution_count": 58,
     "metadata": {},
     "output_type": "execute_result"
    }
   ],
   "source": [
    "a == b"
   ]
  },
  {
   "cell_type": "code",
   "execution_count": 59,
   "id": "bbb893e4-3c2a-4c77-8592-790caf7cd0f6",
   "metadata": {},
   "outputs": [
    {
     "data": {
      "text/plain": [
       "False"
      ]
     },
     "execution_count": 59,
     "metadata": {},
     "output_type": "execute_result"
    }
   ],
   "source": [
    "a is b "
   ]
  },
  {
   "cell_type": "code",
   "execution_count": 60,
   "id": "97e1b3a1-59cb-489f-b161-49af0b264781",
   "metadata": {},
   "outputs": [
    {
     "data": {
      "text/plain": [
       "139719587465088"
      ]
     },
     "execution_count": 60,
     "metadata": {},
     "output_type": "execute_result"
    }
   ],
   "source": [
    "id(a)"
   ]
  },
  {
   "cell_type": "code",
   "execution_count": 61,
   "id": "702df503-9935-4eb6-a81a-2f7ff00d119a",
   "metadata": {},
   "outputs": [
    {
     "data": {
      "text/plain": [
       "139719587849216"
      ]
     },
     "execution_count": 61,
     "metadata": {},
     "output_type": "execute_result"
    }
   ],
   "source": [
    "id(b)"
   ]
  },
  {
   "cell_type": "code",
   "execution_count": 62,
   "id": "f4046891-8814-4bec-a154-3f806c5ffdc6",
   "metadata": {},
   "outputs": [],
   "source": [
    "a=[1,2,3]"
   ]
  },
  {
   "cell_type": "code",
   "execution_count": 63,
   "id": "e830a239-122c-4df9-b9f8-c5bd30226cb2",
   "metadata": {},
   "outputs": [],
   "source": [
    "b=a"
   ]
  },
  {
   "cell_type": "code",
   "execution_count": 64,
   "id": "d847c6cc-aea1-4ba9-a1da-f4f89e3f7364",
   "metadata": {},
   "outputs": [
    {
     "data": {
      "text/plain": [
       "True"
      ]
     },
     "execution_count": 64,
     "metadata": {},
     "output_type": "execute_result"
    }
   ],
   "source": [
    "a is b"
   ]
  },
  {
   "cell_type": "code",
   "execution_count": 65,
   "id": "b8ab1f60-b79e-42e3-87c1-672d63b42248",
   "metadata": {},
   "outputs": [
    {
     "data": {
      "text/plain": [
       "True"
      ]
     },
     "execution_count": 65,
     "metadata": {},
     "output_type": "execute_result"
    }
   ],
   "source": [
    "a == b"
   ]
  },
  {
   "cell_type": "code",
   "execution_count": 70,
   "id": "5d5eb164-6a09-474f-9819-722d1a6fbb64",
   "metadata": {},
   "outputs": [
    {
     "name": "stdin",
     "output_type": "stream",
     "text": [
      "Enter an integer:  10\n"
     ]
    },
    {
     "name": "stdout",
     "output_type": "stream",
     "text": [
      "5003154509899970\n"
     ]
    }
   ],
   "source": [
    "x = int(input(\"Enter an integer: \"))\n",
    "y=3**35//x\n",
    "print(y)\n"
   ]
  },
  {
   "cell_type": "code",
   "execution_count": 67,
   "id": "9b3c18b2-0f33-4625-9763-563fc28469d6",
   "metadata": {},
   "outputs": [
    {
     "data": {
      "text/plain": [
       "4"
      ]
     },
     "execution_count": 67,
     "metadata": {},
     "output_type": "execute_result"
    }
   ],
   "source": [
    "2**2"
   ]
  },
  {
   "cell_type": "code",
   "execution_count": 71,
   "id": "a203026f-5230-4712-aa59-0f146e7ed074",
   "metadata": {},
   "outputs": [],
   "source": [
    "a = 10"
   ]
  },
  {
   "cell_type": "code",
   "execution_count": 72,
   "id": "3a8b07e1-6514-4853-ac8d-4f933e683d90",
   "metadata": {},
   "outputs": [],
   "source": [
    "b=20"
   ]
  },
  {
   "cell_type": "code",
   "execution_count": 73,
   "id": "ac81a075-03d9-4fdb-9d78-b3ad2056154a",
   "metadata": {},
   "outputs": [
    {
     "data": {
      "text/plain": [
       "False"
      ]
     },
     "execution_count": 73,
     "metadata": {},
     "output_type": "execute_result"
    }
   ],
   "source": [
    "a > b"
   ]
  },
  {
   "cell_type": "code",
   "execution_count": 74,
   "id": "b1395022-58a2-4561-985f-e19abf7c42df",
   "metadata": {},
   "outputs": [
    {
     "data": {
      "text/plain": [
       "True"
      ]
     },
     "execution_count": 74,
     "metadata": {},
     "output_type": "execute_result"
    }
   ],
   "source": [
    "a < b"
   ]
  },
  {
   "cell_type": "code",
   "execution_count": 76,
   "id": "6ffb27bf-e4e5-420f-bba5-a3ec5f1af1b3",
   "metadata": {},
   "outputs": [
    {
     "data": {
      "text/plain": [
       "2"
      ]
     },
     "execution_count": 76,
     "metadata": {},
     "output_type": "execute_result"
    }
   ],
   "source": [
    "5%3\n"
   ]
  },
  {
   "cell_type": "code",
   "execution_count": 75,
   "id": "afd9b277-7f0f-4026-81ff-281525b89dad",
   "metadata": {},
   "outputs": [
    {
     "data": {
      "text/plain": [
       "2"
      ]
     },
     "execution_count": 75,
     "metadata": {},
     "output_type": "execute_result"
    }
   ],
   "source": [
    "5%3\n"
   ]
  },
  {
   "cell_type": "code",
   "execution_count": 77,
   "id": "02287fb0-409c-4f69-a55d-4c00153b9831",
   "metadata": {},
   "outputs": [],
   "source": [
    "a = 10"
   ]
  },
  {
   "cell_type": "code",
   "execution_count": 78,
   "id": "16aa6418-c331-4902-8743-d2b0db6a8337",
   "metadata": {},
   "outputs": [],
   "source": [
    "b = 4"
   ]
  },
  {
   "cell_type": "code",
   "execution_count": 79,
   "id": "6060ed48-2769-4717-a36a-9a597af28f39",
   "metadata": {},
   "outputs": [
    {
     "data": {
      "text/plain": [
       "'0b1010'"
      ]
     },
     "execution_count": 79,
     "metadata": {},
     "output_type": "execute_result"
    }
   ],
   "source": [
    "bin(a)"
   ]
  },
  {
   "cell_type": "code",
   "execution_count": 80,
   "id": "bdbd58ce-8fc4-4bd4-b88f-d7f604b79382",
   "metadata": {},
   "outputs": [
    {
     "data": {
      "text/plain": [
       "'0b100'"
      ]
     },
     "execution_count": 80,
     "metadata": {},
     "output_type": "execute_result"
    }
   ],
   "source": [
    "bin(b)"
   ]
  },
  {
   "cell_type": "code",
   "execution_count": 81,
   "id": "0850b285-c117-48bd-a081-91a7c310d324",
   "metadata": {},
   "outputs": [
    {
     "data": {
      "text/plain": [
       "0"
      ]
     },
     "execution_count": 81,
     "metadata": {},
     "output_type": "execute_result"
    }
   ],
   "source": [
    "a & b \n",
    "# and operator "
   ]
  },
  {
   "cell_type": "code",
   "execution_count": 82,
   "id": "b0e5602f-d12b-4258-8fa1-135527beca78",
   "metadata": {},
   "outputs": [
    {
     "data": {
      "text/plain": [
       "14"
      ]
     },
     "execution_count": 82,
     "metadata": {},
     "output_type": "execute_result"
    }
   ],
   "source": [
    "a | b \n",
    "# or "
   ]
  },
  {
   "cell_type": "code",
   "execution_count": 85,
   "id": "bf4ae149-a5c7-4a40-ab65-4a748f66dc4f",
   "metadata": {},
   "outputs": [
    {
     "data": {
      "text/plain": [
       "10"
      ]
     },
     "execution_count": 85,
     "metadata": {},
     "output_type": "execute_result"
    }
   ],
   "source": [
    "a"
   ]
  },
  {
   "cell_type": "code",
   "execution_count": 86,
   "id": "ac2ff05b-7d78-4977-a427-55f10b81ae0e",
   "metadata": {},
   "outputs": [
    {
     "data": {
      "text/plain": [
       "-11"
      ]
     },
     "execution_count": 86,
     "metadata": {},
     "output_type": "execute_result"
    }
   ],
   "source": [
    "~a"
   ]
  },
  {
   "cell_type": "code",
   "execution_count": 87,
   "id": "7899d78d-8334-4772-a0a5-3eddb0656da9",
   "metadata": {},
   "outputs": [
    {
     "data": {
      "text/plain": [
       "14"
      ]
     },
     "execution_count": 87,
     "metadata": {},
     "output_type": "execute_result"
    }
   ],
   "source": [
    "a ^ b"
   ]
  },
  {
   "cell_type": "code",
   "execution_count": 88,
   "id": "3b8ced6f-fd70-4aaa-9b7e-0c6ccabee8da",
   "metadata": {},
   "outputs": [],
   "source": [
    "a = 10"
   ]
  },
  {
   "cell_type": "code",
   "execution_count": 89,
   "id": "487e0774-a031-46b1-926a-dc6d71a3617b",
   "metadata": {},
   "outputs": [],
   "source": [
    "b = 4"
   ]
  },
  {
   "cell_type": "code",
   "execution_count": 90,
   "id": "a09428ff-69c8-4688-b7b7-2534d1c9cb59",
   "metadata": {},
   "outputs": [
    {
     "data": {
      "text/plain": [
       "'0b1010'"
      ]
     },
     "execution_count": 90,
     "metadata": {},
     "output_type": "execute_result"
    }
   ],
   "source": [
    "bin(a)"
   ]
  },
  {
   "cell_type": "code",
   "execution_count": 91,
   "id": "89794a0c-6b02-40a6-8943-55cc0927b793",
   "metadata": {},
   "outputs": [
    {
     "data": {
      "text/plain": [
       "'0b100'"
      ]
     },
     "execution_count": 91,
     "metadata": {},
     "output_type": "execute_result"
    }
   ],
   "source": [
    "bin(b)"
   ]
  },
  {
   "cell_type": "code",
   "execution_count": 92,
   "id": "9caefef8-69e2-4f37-8b43-22493ba55e47",
   "metadata": {},
   "outputs": [
    {
     "data": {
      "text/plain": [
       "14"
      ]
     },
     "execution_count": 92,
     "metadata": {},
     "output_type": "execute_result"
    }
   ],
   "source": [
    "a ^ b "
   ]
  },
  {
   "cell_type": "code",
   "execution_count": null,
   "id": "eb538116-accc-4583-b03a-37c4b038fb82",
   "metadata": {},
   "outputs": [],
   "source": [
    "1010\n",
    "0100\n",
    "-----\n",
    "1110"
   ]
  },
  {
   "cell_type": "code",
   "execution_count": 93,
   "id": "cf2d236c-c0f5-4cb8-889c-939af7e13c57",
   "metadata": {},
   "outputs": [],
   "source": [
    "a = 10"
   ]
  },
  {
   "cell_type": "code",
   "execution_count": 94,
   "id": "537161ee-3da2-47cb-83b2-56d5ca2bef16",
   "metadata": {},
   "outputs": [
    {
     "data": {
      "text/plain": [
       "5"
      ]
     },
     "execution_count": 94,
     "metadata": {},
     "output_type": "execute_result"
    }
   ],
   "source": [
    "a >> 1"
   ]
  },
  {
   "cell_type": "code",
   "execution_count": 95,
   "id": "e3077f2a-e681-4f8d-a686-6b82603b5d50",
   "metadata": {},
   "outputs": [],
   "source": [
    "a = 10"
   ]
  },
  {
   "cell_type": "code",
   "execution_count": 96,
   "id": "f66f6374-2a70-445c-9054-ec47916e96df",
   "metadata": {},
   "outputs": [
    {
     "data": {
      "text/plain": [
       "20"
      ]
     },
     "execution_count": 96,
     "metadata": {},
     "output_type": "execute_result"
    }
   ],
   "source": [
    "a << 1"
   ]
  },
  {
   "cell_type": "code",
   "execution_count": 99,
   "id": "fabf557c-8bf3-4d38-82a1-b8d3f6ef9cf6",
   "metadata": {},
   "outputs": [],
   "source": [
    "a = 10"
   ]
  },
  {
   "cell_type": "code",
   "execution_count": 100,
   "id": "9dbcb5e0-270f-418e-b787-666ec3b57b3c",
   "metadata": {},
   "outputs": [
    {
     "data": {
      "text/plain": [
       "-11"
      ]
     },
     "execution_count": 100,
     "metadata": {},
     "output_type": "execute_result"
    }
   ],
   "source": [
    "~a"
   ]
  },
  {
   "cell_type": "code",
   "execution_count": 101,
   "id": "d31566b2-f7b7-4839-9522-466e5cd0b33c",
   "metadata": {},
   "outputs": [],
   "source": [
    "a= 10"
   ]
  },
  {
   "cell_type": "code",
   "execution_count": 102,
   "id": "42e82c5c-3422-408f-8b42-a540d14a1f3c",
   "metadata": {},
   "outputs": [],
   "source": [
    "a = a+ 1"
   ]
  },
  {
   "cell_type": "code",
   "execution_count": 103,
   "id": "9433c282-30ef-45d3-9c97-698cb3bd53b1",
   "metadata": {},
   "outputs": [
    {
     "data": {
      "text/plain": [
       "11"
      ]
     },
     "execution_count": 103,
     "metadata": {},
     "output_type": "execute_result"
    }
   ],
   "source": [
    "a "
   ]
  },
  {
   "cell_type": "code",
   "execution_count": null,
   "id": "5d120f59-7b26-4a5f-b10a-a8cd025f8469",
   "metadata": {},
   "outputs": [],
   "source": [
    "a+="
   ]
  },
  {
   "cell_type": "code",
   "execution_count": null,
   "id": "555287b5-725c-4b73-8bdd-c3efa57b6e12",
   "metadata": {},
   "outputs": [],
   "source": [
    "a = a+ 1"
   ]
  },
  {
   "cell_type": "code",
   "execution_count": 104,
   "id": "2dd5b1d8-72ac-4ba1-8372-08c09fa6c08d",
   "metadata": {},
   "outputs": [],
   "source": [
    "a= 10"
   ]
  },
  {
   "cell_type": "code",
   "execution_count": 105,
   "id": "bf68cc36-d10e-4506-9a56-95505ec7a129",
   "metadata": {},
   "outputs": [],
   "source": [
    "a+=3\n",
    "a+*"
   ]
  },
  {
   "cell_type": "code",
   "execution_count": 106,
   "id": "d43cb400-bc17-486f-ad4e-f9a75ee403bc",
   "metadata": {},
   "outputs": [
    {
     "data": {
      "text/plain": [
       "13"
      ]
     },
     "execution_count": 106,
     "metadata": {},
     "output_type": "execute_result"
    }
   ],
   "source": [
    "a"
   ]
  },
  {
   "cell_type": "code",
   "execution_count": null,
   "id": "cf9a2b6d-7c38-477b-a40f-a35e55181b3c",
   "metadata": {},
   "outputs": [],
   "source": [
    "a = a+3"
   ]
  }
 ],
 "metadata": {
  "kernelspec": {
   "display_name": "Python 3 (ipykernel)",
   "language": "python",
   "name": "python3"
  },
  "language_info": {
   "codemirror_mode": {
    "name": "ipython",
    "version": 3
   },
   "file_extension": ".py",
   "mimetype": "text/x-python",
   "name": "python",
   "nbconvert_exporter": "python",
   "pygments_lexer": "ipython3",
   "version": "3.10.8"
  }
 },
 "nbformat": 4,
 "nbformat_minor": 5
}
