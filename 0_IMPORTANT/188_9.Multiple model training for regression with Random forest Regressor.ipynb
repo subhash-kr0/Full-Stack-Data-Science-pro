{
 "cells": [
  {
   "cell_type": "markdown",
   "id": "320bbbc1-a537-4e21-803b-bd9e7592f6f2",
   "metadata": {},
   "source": [
    "Multiple models with Pipeline and ColumnTransformer"
   ]
  },
  {
   "cell_type": "code",
   "execution_count": 35,
   "id": "c67a61e9-8df1-4987-b79d-4ad5758ee8e5",
   "metadata": {},
   "outputs": [],
   "source": [
    "import pandas as pd\n",
    "import numpy as np\n",
    "import matplotlib.pyplot as plt\n",
    "import seaborn as sns\n",
    "\n",
    "import warnings\n",
    "warnings.filterwarnings(\"ignore\")"
   ]
  },
  {
   "cell_type": "code",
   "execution_count": 36,
   "id": "57268c60-f26a-484e-97ab-b9de5179f483",
   "metadata": {},
   "outputs": [
    {
     "data": {
      "text/html": [
       "<div>\n",
       "<style scoped>\n",
       "    .dataframe tbody tr th:only-of-type {\n",
       "        vertical-align: middle;\n",
       "    }\n",
       "\n",
       "    .dataframe tbody tr th {\n",
       "        vertical-align: top;\n",
       "    }\n",
       "\n",
       "    .dataframe thead th {\n",
       "        text-align: right;\n",
       "    }\n",
       "</style>\n",
       "<table border=\"1\" class=\"dataframe\">\n",
       "  <thead>\n",
       "    <tr style=\"text-align: right;\">\n",
       "      <th></th>\n",
       "      <th>total_bill</th>\n",
       "      <th>tip</th>\n",
       "      <th>sex</th>\n",
       "      <th>smoker</th>\n",
       "      <th>day</th>\n",
       "      <th>time</th>\n",
       "      <th>size</th>\n",
       "    </tr>\n",
       "  </thead>\n",
       "  <tbody>\n",
       "    <tr>\n",
       "      <th>0</th>\n",
       "      <td>16.99</td>\n",
       "      <td>1.01</td>\n",
       "      <td>Female</td>\n",
       "      <td>No</td>\n",
       "      <td>Sun</td>\n",
       "      <td>Dinner</td>\n",
       "      <td>2</td>\n",
       "    </tr>\n",
       "    <tr>\n",
       "      <th>1</th>\n",
       "      <td>10.34</td>\n",
       "      <td>1.66</td>\n",
       "      <td>Male</td>\n",
       "      <td>No</td>\n",
       "      <td>Sun</td>\n",
       "      <td>Dinner</td>\n",
       "      <td>3</td>\n",
       "    </tr>\n",
       "    <tr>\n",
       "      <th>2</th>\n",
       "      <td>21.01</td>\n",
       "      <td>3.50</td>\n",
       "      <td>Male</td>\n",
       "      <td>No</td>\n",
       "      <td>Sun</td>\n",
       "      <td>Dinner</td>\n",
       "      <td>3</td>\n",
       "    </tr>\n",
       "    <tr>\n",
       "      <th>3</th>\n",
       "      <td>23.68</td>\n",
       "      <td>3.31</td>\n",
       "      <td>Male</td>\n",
       "      <td>No</td>\n",
       "      <td>Sun</td>\n",
       "      <td>Dinner</td>\n",
       "      <td>2</td>\n",
       "    </tr>\n",
       "    <tr>\n",
       "      <th>4</th>\n",
       "      <td>24.59</td>\n",
       "      <td>3.61</td>\n",
       "      <td>Female</td>\n",
       "      <td>No</td>\n",
       "      <td>Sun</td>\n",
       "      <td>Dinner</td>\n",
       "      <td>4</td>\n",
       "    </tr>\n",
       "  </tbody>\n",
       "</table>\n",
       "</div>"
      ],
      "text/plain": [
       "   total_bill   tip     sex smoker  day    time  size\n",
       "0       16.99  1.01  Female     No  Sun  Dinner     2\n",
       "1       10.34  1.66    Male     No  Sun  Dinner     3\n",
       "2       21.01  3.50    Male     No  Sun  Dinner     3\n",
       "3       23.68  3.31    Male     No  Sun  Dinner     2\n",
       "4       24.59  3.61  Female     No  Sun  Dinner     4"
      ]
     },
     "execution_count": 36,
     "metadata": {},
     "output_type": "execute_result"
    }
   ],
   "source": [
    "df = sns.load_dataset(\"tips\")\n",
    "df.head()"
   ]
  },
  {
   "cell_type": "code",
   "execution_count": 37,
   "id": "6262fbba-51ac-4ccb-a3f0-1134c2924e59",
   "metadata": {},
   "outputs": [
    {
     "data": {
      "text/plain": [
       "['Dinner', 'Lunch']\n",
       "Categories (2, object): ['Lunch', 'Dinner']"
      ]
     },
     "execution_count": 37,
     "metadata": {},
     "output_type": "execute_result"
    }
   ],
   "source": [
    "#predictthe total_bill? total_bill is target variables\n",
    "df.time.unique()"
   ]
  },
  {
   "cell_type": "code",
   "execution_count": 38,
   "id": "8bd4da43-840a-4435-8f6d-eb97c969b325",
   "metadata": {},
   "outputs": [
    {
     "name": "stdout",
     "output_type": "stream",
     "text": [
      "<class 'pandas.core.frame.DataFrame'>\n",
      "RangeIndex: 244 entries, 0 to 243\n",
      "Data columns (total 7 columns):\n",
      " #   Column      Non-Null Count  Dtype   \n",
      "---  ------      --------------  -----   \n",
      " 0   total_bill  244 non-null    float64 \n",
      " 1   tip         244 non-null    float64 \n",
      " 2   sex         244 non-null    category\n",
      " 3   smoker      244 non-null    category\n",
      " 4   day         244 non-null    category\n",
      " 5   time        244 non-null    category\n",
      " 6   size        244 non-null    int64   \n",
      "dtypes: category(4), float64(2), int64(1)\n",
      "memory usage: 7.4 KB\n"
     ]
    }
   ],
   "source": [
    "#EDA>> subjective\n",
    "#encoding, missing value treatiment, scaling>> automate\n",
    "df.info()"
   ]
  },
  {
   "cell_type": "code",
   "execution_count": 39,
   "id": "9cd46c0e-9a63-4cf5-93da-42bb82026d97",
   "metadata": {},
   "outputs": [],
   "source": [
    "X = df.drop('total_bill', axis =1)\n",
    "y = df['total_bill']"
   ]
  },
  {
   "cell_type": "code",
   "execution_count": 40,
   "id": "5f6f6c78-8ebb-4f61-ab86-7be087c9f499",
   "metadata": {},
   "outputs": [
    {
     "data": {
      "text/html": [
       "<div>\n",
       "<style scoped>\n",
       "    .dataframe tbody tr th:only-of-type {\n",
       "        vertical-align: middle;\n",
       "    }\n",
       "\n",
       "    .dataframe tbody tr th {\n",
       "        vertical-align: top;\n",
       "    }\n",
       "\n",
       "    .dataframe thead th {\n",
       "        text-align: right;\n",
       "    }\n",
       "</style>\n",
       "<table border=\"1\" class=\"dataframe\">\n",
       "  <thead>\n",
       "    <tr style=\"text-align: right;\">\n",
       "      <th></th>\n",
       "      <th>tip</th>\n",
       "      <th>sex</th>\n",
       "      <th>smoker</th>\n",
       "      <th>day</th>\n",
       "      <th>time</th>\n",
       "      <th>size</th>\n",
       "    </tr>\n",
       "  </thead>\n",
       "  <tbody>\n",
       "    <tr>\n",
       "      <th>0</th>\n",
       "      <td>1.01</td>\n",
       "      <td>Female</td>\n",
       "      <td>No</td>\n",
       "      <td>Sun</td>\n",
       "      <td>Dinner</td>\n",
       "      <td>2</td>\n",
       "    </tr>\n",
       "    <tr>\n",
       "      <th>1</th>\n",
       "      <td>1.66</td>\n",
       "      <td>Male</td>\n",
       "      <td>No</td>\n",
       "      <td>Sun</td>\n",
       "      <td>Dinner</td>\n",
       "      <td>3</td>\n",
       "    </tr>\n",
       "    <tr>\n",
       "      <th>2</th>\n",
       "      <td>3.50</td>\n",
       "      <td>Male</td>\n",
       "      <td>No</td>\n",
       "      <td>Sun</td>\n",
       "      <td>Dinner</td>\n",
       "      <td>3</td>\n",
       "    </tr>\n",
       "    <tr>\n",
       "      <th>3</th>\n",
       "      <td>3.31</td>\n",
       "      <td>Male</td>\n",
       "      <td>No</td>\n",
       "      <td>Sun</td>\n",
       "      <td>Dinner</td>\n",
       "      <td>2</td>\n",
       "    </tr>\n",
       "    <tr>\n",
       "      <th>4</th>\n",
       "      <td>3.61</td>\n",
       "      <td>Female</td>\n",
       "      <td>No</td>\n",
       "      <td>Sun</td>\n",
       "      <td>Dinner</td>\n",
       "      <td>4</td>\n",
       "    </tr>\n",
       "    <tr>\n",
       "      <th>...</th>\n",
       "      <td>...</td>\n",
       "      <td>...</td>\n",
       "      <td>...</td>\n",
       "      <td>...</td>\n",
       "      <td>...</td>\n",
       "      <td>...</td>\n",
       "    </tr>\n",
       "    <tr>\n",
       "      <th>239</th>\n",
       "      <td>5.92</td>\n",
       "      <td>Male</td>\n",
       "      <td>No</td>\n",
       "      <td>Sat</td>\n",
       "      <td>Dinner</td>\n",
       "      <td>3</td>\n",
       "    </tr>\n",
       "    <tr>\n",
       "      <th>240</th>\n",
       "      <td>2.00</td>\n",
       "      <td>Female</td>\n",
       "      <td>Yes</td>\n",
       "      <td>Sat</td>\n",
       "      <td>Dinner</td>\n",
       "      <td>2</td>\n",
       "    </tr>\n",
       "    <tr>\n",
       "      <th>241</th>\n",
       "      <td>2.00</td>\n",
       "      <td>Male</td>\n",
       "      <td>Yes</td>\n",
       "      <td>Sat</td>\n",
       "      <td>Dinner</td>\n",
       "      <td>2</td>\n",
       "    </tr>\n",
       "    <tr>\n",
       "      <th>242</th>\n",
       "      <td>1.75</td>\n",
       "      <td>Male</td>\n",
       "      <td>No</td>\n",
       "      <td>Sat</td>\n",
       "      <td>Dinner</td>\n",
       "      <td>2</td>\n",
       "    </tr>\n",
       "    <tr>\n",
       "      <th>243</th>\n",
       "      <td>3.00</td>\n",
       "      <td>Female</td>\n",
       "      <td>No</td>\n",
       "      <td>Thur</td>\n",
       "      <td>Dinner</td>\n",
       "      <td>2</td>\n",
       "    </tr>\n",
       "  </tbody>\n",
       "</table>\n",
       "<p>244 rows × 6 columns</p>\n",
       "</div>"
      ],
      "text/plain": [
       "      tip     sex smoker   day    time  size\n",
       "0    1.01  Female     No   Sun  Dinner     2\n",
       "1    1.66    Male     No   Sun  Dinner     3\n",
       "2    3.50    Male     No   Sun  Dinner     3\n",
       "3    3.31    Male     No   Sun  Dinner     2\n",
       "4    3.61  Female     No   Sun  Dinner     4\n",
       "..    ...     ...    ...   ...     ...   ...\n",
       "239  5.92    Male     No   Sat  Dinner     3\n",
       "240  2.00  Female    Yes   Sat  Dinner     2\n",
       "241  2.00    Male    Yes   Sat  Dinner     2\n",
       "242  1.75    Male     No   Sat  Dinner     2\n",
       "243  3.00  Female     No  Thur  Dinner     2\n",
       "\n",
       "[244 rows x 6 columns]"
      ]
     },
     "execution_count": 40,
     "metadata": {},
     "output_type": "execute_result"
    }
   ],
   "source": [
    "X"
   ]
  },
  {
   "cell_type": "code",
   "execution_count": 41,
   "id": "f588eea6-5055-411b-8952-bbd82769d735",
   "metadata": {},
   "outputs": [
    {
     "data": {
      "text/plain": [
       "0      16.99\n",
       "1      10.34\n",
       "2      21.01\n",
       "3      23.68\n",
       "4      24.59\n",
       "       ...  \n",
       "239    29.03\n",
       "240    27.18\n",
       "241    22.67\n",
       "242    17.82\n",
       "243    18.78\n",
       "Name: total_bill, Length: 244, dtype: float64"
      ]
     },
     "execution_count": 41,
     "metadata": {},
     "output_type": "execute_result"
    }
   ],
   "source": [
    "y"
   ]
  },
  {
   "cell_type": "code",
   "execution_count": 43,
   "id": "daee5059-9941-4ebf-80a6-b8b0799a7c5e",
   "metadata": {},
   "outputs": [],
   "source": [
    "from sklearn.model_selection import train_test_split\n",
    "X_train, X_test, y_train, y_test = train_test_split(X, y, test_size=0.20, random_state=1)"
   ]
  },
  {
   "cell_type": "code",
   "execution_count": 44,
   "id": "a19e629a-2c93-41df-941a-8913139ea0fa",
   "metadata": {},
   "outputs": [
    {
     "data": {
      "text/html": [
       "<div>\n",
       "<style scoped>\n",
       "    .dataframe tbody tr th:only-of-type {\n",
       "        vertical-align: middle;\n",
       "    }\n",
       "\n",
       "    .dataframe tbody tr th {\n",
       "        vertical-align: top;\n",
       "    }\n",
       "\n",
       "    .dataframe thead th {\n",
       "        text-align: right;\n",
       "    }\n",
       "</style>\n",
       "<table border=\"1\" class=\"dataframe\">\n",
       "  <thead>\n",
       "    <tr style=\"text-align: right;\">\n",
       "      <th></th>\n",
       "      <th>tip</th>\n",
       "      <th>sex</th>\n",
       "      <th>smoker</th>\n",
       "      <th>day</th>\n",
       "      <th>time</th>\n",
       "      <th>size</th>\n",
       "    </tr>\n",
       "  </thead>\n",
       "  <tbody>\n",
       "    <tr>\n",
       "      <th>0</th>\n",
       "      <td>1.01</td>\n",
       "      <td>Female</td>\n",
       "      <td>No</td>\n",
       "      <td>Sun</td>\n",
       "      <td>Dinner</td>\n",
       "      <td>2</td>\n",
       "    </tr>\n",
       "    <tr>\n",
       "      <th>154</th>\n",
       "      <td>2.00</td>\n",
       "      <td>Male</td>\n",
       "      <td>No</td>\n",
       "      <td>Sun</td>\n",
       "      <td>Dinner</td>\n",
       "      <td>4</td>\n",
       "    </tr>\n",
       "    <tr>\n",
       "      <th>167</th>\n",
       "      <td>4.50</td>\n",
       "      <td>Male</td>\n",
       "      <td>No</td>\n",
       "      <td>Sun</td>\n",
       "      <td>Dinner</td>\n",
       "      <td>4</td>\n",
       "    </tr>\n",
       "    <tr>\n",
       "      <th>110</th>\n",
       "      <td>3.00</td>\n",
       "      <td>Male</td>\n",
       "      <td>No</td>\n",
       "      <td>Sat</td>\n",
       "      <td>Dinner</td>\n",
       "      <td>2</td>\n",
       "    </tr>\n",
       "    <tr>\n",
       "      <th>225</th>\n",
       "      <td>2.50</td>\n",
       "      <td>Female</td>\n",
       "      <td>Yes</td>\n",
       "      <td>Fri</td>\n",
       "      <td>Lunch</td>\n",
       "      <td>2</td>\n",
       "    </tr>\n",
       "  </tbody>\n",
       "</table>\n",
       "</div>"
      ],
      "text/plain": [
       "      tip     sex smoker  day    time  size\n",
       "0    1.01  Female     No  Sun  Dinner     2\n",
       "154  2.00    Male     No  Sun  Dinner     4\n",
       "167  4.50    Male     No  Sun  Dinner     4\n",
       "110  3.00    Male     No  Sat  Dinner     2\n",
       "225  2.50  Female    Yes  Fri   Lunch     2"
      ]
     },
     "execution_count": 44,
     "metadata": {},
     "output_type": "execute_result"
    }
   ],
   "source": [
    "X_train.head()"
   ]
  },
  {
   "cell_type": "code",
   "execution_count": 45,
   "id": "d433edbd-4f13-4431-851c-4af0d135ec1b",
   "metadata": {},
   "outputs": [
    {
     "data": {
      "text/plain": [
       "total_bill    0\n",
       "tip           0\n",
       "sex           0\n",
       "smoker        0\n",
       "day           0\n",
       "time          0\n",
       "size          0\n",
       "dtype: int64"
      ]
     },
     "execution_count": 45,
     "metadata": {},
     "output_type": "execute_result"
    }
   ],
   "source": [
    "df.isna().sum()"
   ]
  },
  {
   "cell_type": "code",
   "execution_count": 46,
   "id": "e5b84c9e-ee08-4c22-a1f4-22209321407e",
   "metadata": {},
   "outputs": [],
   "source": [
    "#Handling the missing value\n",
    "#data encoding\n",
    "#feature scaling\n",
    "\n",
    "from sklearn.impute import SimpleImputer #for missing vlaue\n",
    "from sklearn.preprocessing import OneHotEncoder #for encoding\n",
    "from sklearn.preprocessing import StandardScaler #for scaling\n",
    "\n",
    "from sklearn.pipeline import Pipeline #A sequence of data transformers \n",
    "from sklearn.compose import ColumnTransformer #Groups all the pipeline steps for each of the clumns"
   ]
  },
  {
   "cell_type": "code",
   "execution_count": 47,
   "id": "64090c79-4f5a-4aa6-abda-17b05660119d",
   "metadata": {},
   "outputs": [],
   "source": [
    "cat_cols = [\"sex\", \"smoker\", \"day\", \"time\"]\n",
    "num_cols = [\"tip\", \"size\"]"
   ]
  },
  {
   "cell_type": "code",
   "execution_count": 48,
   "id": "1714dc5a-9e29-49e3-a058-91a07f6ae35a",
   "metadata": {},
   "outputs": [],
   "source": [
    "#feature engineering automation using pipeline and columntransformer\n",
    "\n",
    "num_pipeline = Pipeline(steps = [('imputation', SimpleImputer(strategy = \"median\")),\n",
    "                                ('scaling', StandardScaler())])\n",
    "cat_pipeline = Pipeline(steps = [('imputation', SimpleImputer(strategy = \"most_frequent\")),\n",
    "                                ('encoding', OneHotEncoder())])"
   ]
  },
  {
   "cell_type": "code",
   "execution_count": 49,
   "id": "161fd070-bda4-4399-abce-734aa444221f",
   "metadata": {},
   "outputs": [],
   "source": [
    "preprocessor = ColumnTransformer([(\"num_pipeline\", num_pipeline, num_cols),\n",
    "                  (\"cat_pipeline\", cat_pipeline, cat_cols)])"
   ]
  },
  {
   "cell_type": "code",
   "execution_count": 50,
   "id": "9b820b26-81dc-4230-8c00-437ff076570d",
   "metadata": {},
   "outputs": [],
   "source": [
    "X_train = preprocessor.fit_transform(X_train)\n",
    "X_test = preprocessor.transform(X_test)"
   ]
  },
  {
   "cell_type": "code",
   "execution_count": 51,
   "id": "020df14f-e357-4511-9c8f-7aa71d53ff07",
   "metadata": {},
   "outputs": [
    {
     "data": {
      "text/plain": [
       "array([[-1.47443803, -0.57766863,  1.        , ...,  0.        ,\n",
       "         1.        ,  0.        ],\n",
       "       [-0.71612531,  1.47042924,  0.        , ...,  0.        ,\n",
       "         1.        ,  0.        ],\n",
       "       [ 1.19880579,  1.47042924,  0.        , ...,  0.        ,\n",
       "         1.        ,  0.        ],\n",
       "       ...,\n",
       "       [ 0.43283335, -0.57766863,  1.        , ...,  1.        ,\n",
       "         0.        ,  1.        ],\n",
       "       [-1.29060464, -0.57766863,  0.        , ...,  0.        ,\n",
       "         1.        ,  0.        ],\n",
       "       [ 0.1034652 ,  0.44638031,  1.        , ...,  0.        ,\n",
       "         1.        ,  0.        ]])"
      ]
     },
     "execution_count": 51,
     "metadata": {},
     "output_type": "execute_result"
    }
   ],
   "source": [
    "X_train"
   ]
  },
  {
   "cell_type": "code",
   "execution_count": 19,
   "id": "e17fea17-5e7e-40dc-b97a-acbec0733dee",
   "metadata": {},
   "outputs": [],
   "source": [
    "# X_test"
   ]
  },
  {
   "cell_type": "code",
   "execution_count": 52,
   "id": "46cfefd6-cc74-489d-b457-77c7e4138aa3",
   "metadata": {},
   "outputs": [],
   "source": [
    "from sklearn.tree import DecisionTreeRegressor\n",
    "from sklearn.svm import SVR\n",
    "from sklearn.linear_model import LinearRegression\n",
    "from sklearn.ensemble import RandomForestRegressor"
   ]
  },
  {
   "cell_type": "code",
   "execution_count": 53,
   "id": "bf23b672-faf4-416c-8d74-f33fcae30dca",
   "metadata": {},
   "outputs": [],
   "source": [
    "models = {\"support vector Regressor\": SVR(),\n",
    "         \"DT Regressor\": DecisionTreeRegressor(),\n",
    "          \"Multiple Linear regression\": LinearRegression(),\n",
    "         \"Random_forest_Regressor\": RandomForestRegressor()}"
   ]
  },
  {
   "cell_type": "code",
   "execution_count": 54,
   "id": "828f0c54-62df-4fbb-8aaa-b6a0b9cf6df8",
   "metadata": {},
   "outputs": [],
   "source": [
    "from sklearn.metrics import r2_score\n",
    "def model_train_eval(X_train, y_train, X_test, y_test, models):\n",
    "    evaluation = {}\n",
    "    for i in range(len(models)):\n",
    "        model = list(models.values())[i]\n",
    "        model.fit(X_train, y_train)\n",
    "        y_pred = model.predict(X_test)\n",
    "        model_score = r2_score(y_test, y_pred)\n",
    "        evaluation[list(models.keys())[i]] = model_score\n",
    "    return evaluation"
   ]
  },
  {
   "cell_type": "code",
   "execution_count": 55,
   "id": "081152c0-d041-4918-9861-1f4b439516a2",
   "metadata": {},
   "outputs": [
    {
     "data": {
      "text/plain": [
       "{'support vector Regressor': 0.4069433055293954,\n",
       " 'DT Regressor': 0.148273719426101,\n",
       " 'Multiple Linear regression': 0.6719006761625261,\n",
       " 'Random_forest_Regressor': 0.6344196825893511}"
      ]
     },
     "execution_count": 55,
     "metadata": {},
     "output_type": "execute_result"
    }
   ],
   "source": [
    "model_train_eval(X_train, y_train, X_test, y_test, models)"
   ]
  },
  {
   "cell_type": "code",
   "execution_count": 24,
   "id": "b71a9156-c990-40ff-b4a5-eeab2c67ce99",
   "metadata": {},
   "outputs": [],
   "source": [
    "from sklearn.ensemble import RandomForestRegressor"
   ]
  },
  {
   "cell_type": "code",
   "execution_count": 25,
   "id": "34a2ae1f-49b1-4233-99f3-42ff9ebb4c88",
   "metadata": {},
   "outputs": [],
   "source": [
    "rfr = RandomForestRegressor(oob_score=True)"
   ]
  },
  {
   "cell_type": "code",
   "execution_count": 26,
   "id": "c623341a-6052-4aa3-ab18-531239aab553",
   "metadata": {},
   "outputs": [
    {
     "data": {
      "text/html": [
       "<style>#sk-container-id-1 {color: black;background-color: white;}#sk-container-id-1 pre{padding: 0;}#sk-container-id-1 div.sk-toggleable {background-color: white;}#sk-container-id-1 label.sk-toggleable__label {cursor: pointer;display: block;width: 100%;margin-bottom: 0;padding: 0.3em;box-sizing: border-box;text-align: center;}#sk-container-id-1 label.sk-toggleable__label-arrow:before {content: \"▸\";float: left;margin-right: 0.25em;color: #696969;}#sk-container-id-1 label.sk-toggleable__label-arrow:hover:before {color: black;}#sk-container-id-1 div.sk-estimator:hover label.sk-toggleable__label-arrow:before {color: black;}#sk-container-id-1 div.sk-toggleable__content {max-height: 0;max-width: 0;overflow: hidden;text-align: left;background-color: #f0f8ff;}#sk-container-id-1 div.sk-toggleable__content pre {margin: 0.2em;color: black;border-radius: 0.25em;background-color: #f0f8ff;}#sk-container-id-1 input.sk-toggleable__control:checked~div.sk-toggleable__content {max-height: 200px;max-width: 100%;overflow: auto;}#sk-container-id-1 input.sk-toggleable__control:checked~label.sk-toggleable__label-arrow:before {content: \"▾\";}#sk-container-id-1 div.sk-estimator input.sk-toggleable__control:checked~label.sk-toggleable__label {background-color: #d4ebff;}#sk-container-id-1 div.sk-label input.sk-toggleable__control:checked~label.sk-toggleable__label {background-color: #d4ebff;}#sk-container-id-1 input.sk-hidden--visually {border: 0;clip: rect(1px 1px 1px 1px);clip: rect(1px, 1px, 1px, 1px);height: 1px;margin: -1px;overflow: hidden;padding: 0;position: absolute;width: 1px;}#sk-container-id-1 div.sk-estimator {font-family: monospace;background-color: #f0f8ff;border: 1px dotted black;border-radius: 0.25em;box-sizing: border-box;margin-bottom: 0.5em;}#sk-container-id-1 div.sk-estimator:hover {background-color: #d4ebff;}#sk-container-id-1 div.sk-parallel-item::after {content: \"\";width: 100%;border-bottom: 1px solid gray;flex-grow: 1;}#sk-container-id-1 div.sk-label:hover label.sk-toggleable__label {background-color: #d4ebff;}#sk-container-id-1 div.sk-serial::before {content: \"\";position: absolute;border-left: 1px solid gray;box-sizing: border-box;top: 0;bottom: 0;left: 50%;z-index: 0;}#sk-container-id-1 div.sk-serial {display: flex;flex-direction: column;align-items: center;background-color: white;padding-right: 0.2em;padding-left: 0.2em;position: relative;}#sk-container-id-1 div.sk-item {position: relative;z-index: 1;}#sk-container-id-1 div.sk-parallel {display: flex;align-items: stretch;justify-content: center;background-color: white;position: relative;}#sk-container-id-1 div.sk-item::before, #sk-container-id-1 div.sk-parallel-item::before {content: \"\";position: absolute;border-left: 1px solid gray;box-sizing: border-box;top: 0;bottom: 0;left: 50%;z-index: -1;}#sk-container-id-1 div.sk-parallel-item {display: flex;flex-direction: column;z-index: 1;position: relative;background-color: white;}#sk-container-id-1 div.sk-parallel-item:first-child::after {align-self: flex-end;width: 50%;}#sk-container-id-1 div.sk-parallel-item:last-child::after {align-self: flex-start;width: 50%;}#sk-container-id-1 div.sk-parallel-item:only-child::after {width: 0;}#sk-container-id-1 div.sk-dashed-wrapped {border: 1px dashed gray;margin: 0 0.4em 0.5em 0.4em;box-sizing: border-box;padding-bottom: 0.4em;background-color: white;}#sk-container-id-1 div.sk-label label {font-family: monospace;font-weight: bold;display: inline-block;line-height: 1.2em;}#sk-container-id-1 div.sk-label-container {text-align: center;}#sk-container-id-1 div.sk-container {/* jupyter's `normalize.less` sets `[hidden] { display: none; }` but bootstrap.min.css set `[hidden] { display: none !important; }` so we also need the `!important` here to be able to override the default hidden behavior on the sphinx rendered scikit-learn.org. See: https://github.com/scikit-learn/scikit-learn/issues/21755 */display: inline-block !important;position: relative;}#sk-container-id-1 div.sk-text-repr-fallback {display: none;}</style><div id=\"sk-container-id-1\" class=\"sk-top-container\"><div class=\"sk-text-repr-fallback\"><pre>RandomForestRegressor(oob_score=True)</pre><b>In a Jupyter environment, please rerun this cell to show the HTML representation or trust the notebook. <br />On GitHub, the HTML representation is unable to render, please try loading this page with nbviewer.org.</b></div><div class=\"sk-container\" hidden><div class=\"sk-item\"><div class=\"sk-estimator sk-toggleable\"><input class=\"sk-toggleable__control sk-hidden--visually\" id=\"sk-estimator-id-1\" type=\"checkbox\" checked><label for=\"sk-estimator-id-1\" class=\"sk-toggleable__label sk-toggleable__label-arrow\">RandomForestRegressor</label><div class=\"sk-toggleable__content\"><pre>RandomForestRegressor(oob_score=True)</pre></div></div></div></div></div>"
      ],
      "text/plain": [
       "RandomForestRegressor(oob_score=True)"
      ]
     },
     "execution_count": 26,
     "metadata": {},
     "output_type": "execute_result"
    }
   ],
   "source": [
    "rfr"
   ]
  },
  {
   "cell_type": "code",
   "execution_count": 27,
   "id": "ba96624b-f455-4309-bb94-7454e707854a",
   "metadata": {},
   "outputs": [],
   "source": [
    "# X_train, X_test"
   ]
  },
  {
   "cell_type": "code",
   "execution_count": 28,
   "id": "89a2e28f-4d90-4190-8bb5-4d350d75beeb",
   "metadata": {},
   "outputs": [],
   "source": [
    "from sklearn.model_selection import RandomizedSearchCV\n",
    "params={'max_depth':[1,50, 100, 150,200],\n",
    "        'n_estimators':[50, 100,200]}"
   ]
  },
  {
   "cell_type": "code",
   "execution_count": 29,
   "id": "6ee61fae-44d2-41eb-9a1a-36582d61a28b",
   "metadata": {},
   "outputs": [
    {
     "data": {
      "text/plain": [
       "{'max_depth': [1, 50, 100, 150, 200], 'n_estimators': [50, 100, 200]}"
      ]
     },
     "execution_count": 29,
     "metadata": {},
     "output_type": "execute_result"
    }
   ],
   "source": [
    "params"
   ]
  },
  {
   "cell_type": "code",
   "execution_count": 30,
   "id": "9fa0a9fc-9f25-40b1-853f-513faa26fd91",
   "metadata": {},
   "outputs": [],
   "source": [
    "reg = RandomizedSearchCV(rfr, param_distributions=params, cv = 5, verbose =3, scoring = 'r2')"
   ]
  },
  {
   "cell_type": "code",
   "execution_count": 31,
   "id": "7c949e4e-ae12-49b1-a7d2-0d72088d883c",
   "metadata": {},
   "outputs": [
    {
     "data": {
      "text/html": [
       "<style>#sk-container-id-2 {color: black;background-color: white;}#sk-container-id-2 pre{padding: 0;}#sk-container-id-2 div.sk-toggleable {background-color: white;}#sk-container-id-2 label.sk-toggleable__label {cursor: pointer;display: block;width: 100%;margin-bottom: 0;padding: 0.3em;box-sizing: border-box;text-align: center;}#sk-container-id-2 label.sk-toggleable__label-arrow:before {content: \"▸\";float: left;margin-right: 0.25em;color: #696969;}#sk-container-id-2 label.sk-toggleable__label-arrow:hover:before {color: black;}#sk-container-id-2 div.sk-estimator:hover label.sk-toggleable__label-arrow:before {color: black;}#sk-container-id-2 div.sk-toggleable__content {max-height: 0;max-width: 0;overflow: hidden;text-align: left;background-color: #f0f8ff;}#sk-container-id-2 div.sk-toggleable__content pre {margin: 0.2em;color: black;border-radius: 0.25em;background-color: #f0f8ff;}#sk-container-id-2 input.sk-toggleable__control:checked~div.sk-toggleable__content {max-height: 200px;max-width: 100%;overflow: auto;}#sk-container-id-2 input.sk-toggleable__control:checked~label.sk-toggleable__label-arrow:before {content: \"▾\";}#sk-container-id-2 div.sk-estimator input.sk-toggleable__control:checked~label.sk-toggleable__label {background-color: #d4ebff;}#sk-container-id-2 div.sk-label input.sk-toggleable__control:checked~label.sk-toggleable__label {background-color: #d4ebff;}#sk-container-id-2 input.sk-hidden--visually {border: 0;clip: rect(1px 1px 1px 1px);clip: rect(1px, 1px, 1px, 1px);height: 1px;margin: -1px;overflow: hidden;padding: 0;position: absolute;width: 1px;}#sk-container-id-2 div.sk-estimator {font-family: monospace;background-color: #f0f8ff;border: 1px dotted black;border-radius: 0.25em;box-sizing: border-box;margin-bottom: 0.5em;}#sk-container-id-2 div.sk-estimator:hover {background-color: #d4ebff;}#sk-container-id-2 div.sk-parallel-item::after {content: \"\";width: 100%;border-bottom: 1px solid gray;flex-grow: 1;}#sk-container-id-2 div.sk-label:hover label.sk-toggleable__label {background-color: #d4ebff;}#sk-container-id-2 div.sk-serial::before {content: \"\";position: absolute;border-left: 1px solid gray;box-sizing: border-box;top: 0;bottom: 0;left: 50%;z-index: 0;}#sk-container-id-2 div.sk-serial {display: flex;flex-direction: column;align-items: center;background-color: white;padding-right: 0.2em;padding-left: 0.2em;position: relative;}#sk-container-id-2 div.sk-item {position: relative;z-index: 1;}#sk-container-id-2 div.sk-parallel {display: flex;align-items: stretch;justify-content: center;background-color: white;position: relative;}#sk-container-id-2 div.sk-item::before, #sk-container-id-2 div.sk-parallel-item::before {content: \"\";position: absolute;border-left: 1px solid gray;box-sizing: border-box;top: 0;bottom: 0;left: 50%;z-index: -1;}#sk-container-id-2 div.sk-parallel-item {display: flex;flex-direction: column;z-index: 1;position: relative;background-color: white;}#sk-container-id-2 div.sk-parallel-item:first-child::after {align-self: flex-end;width: 50%;}#sk-container-id-2 div.sk-parallel-item:last-child::after {align-self: flex-start;width: 50%;}#sk-container-id-2 div.sk-parallel-item:only-child::after {width: 0;}#sk-container-id-2 div.sk-dashed-wrapped {border: 1px dashed gray;margin: 0 0.4em 0.5em 0.4em;box-sizing: border-box;padding-bottom: 0.4em;background-color: white;}#sk-container-id-2 div.sk-label label {font-family: monospace;font-weight: bold;display: inline-block;line-height: 1.2em;}#sk-container-id-2 div.sk-label-container {text-align: center;}#sk-container-id-2 div.sk-container {/* jupyter's `normalize.less` sets `[hidden] { display: none; }` but bootstrap.min.css set `[hidden] { display: none !important; }` so we also need the `!important` here to be able to override the default hidden behavior on the sphinx rendered scikit-learn.org. See: https://github.com/scikit-learn/scikit-learn/issues/21755 */display: inline-block !important;position: relative;}#sk-container-id-2 div.sk-text-repr-fallback {display: none;}</style><div id=\"sk-container-id-2\" class=\"sk-top-container\"><div class=\"sk-text-repr-fallback\"><pre>RandomizedSearchCV(cv=5, estimator=RandomForestRegressor(oob_score=True),\n",
       "                   param_distributions={&#x27;max_depth&#x27;: [1, 50, 100, 150, 200],\n",
       "                                        &#x27;n_estimators&#x27;: [50, 100, 200]},\n",
       "                   scoring=&#x27;r2&#x27;, verbose=3)</pre><b>In a Jupyter environment, please rerun this cell to show the HTML representation or trust the notebook. <br />On GitHub, the HTML representation is unable to render, please try loading this page with nbviewer.org.</b></div><div class=\"sk-container\" hidden><div class=\"sk-item sk-dashed-wrapped\"><div class=\"sk-label-container\"><div class=\"sk-label sk-toggleable\"><input class=\"sk-toggleable__control sk-hidden--visually\" id=\"sk-estimator-id-2\" type=\"checkbox\" ><label for=\"sk-estimator-id-2\" class=\"sk-toggleable__label sk-toggleable__label-arrow\">RandomizedSearchCV</label><div class=\"sk-toggleable__content\"><pre>RandomizedSearchCV(cv=5, estimator=RandomForestRegressor(oob_score=True),\n",
       "                   param_distributions={&#x27;max_depth&#x27;: [1, 50, 100, 150, 200],\n",
       "                                        &#x27;n_estimators&#x27;: [50, 100, 200]},\n",
       "                   scoring=&#x27;r2&#x27;, verbose=3)</pre></div></div></div><div class=\"sk-parallel\"><div class=\"sk-parallel-item\"><div class=\"sk-item\"><div class=\"sk-label-container\"><div class=\"sk-label sk-toggleable\"><input class=\"sk-toggleable__control sk-hidden--visually\" id=\"sk-estimator-id-3\" type=\"checkbox\" ><label for=\"sk-estimator-id-3\" class=\"sk-toggleable__label sk-toggleable__label-arrow\">estimator: RandomForestRegressor</label><div class=\"sk-toggleable__content\"><pre>RandomForestRegressor(oob_score=True)</pre></div></div></div><div class=\"sk-serial\"><div class=\"sk-item\"><div class=\"sk-estimator sk-toggleable\"><input class=\"sk-toggleable__control sk-hidden--visually\" id=\"sk-estimator-id-4\" type=\"checkbox\" ><label for=\"sk-estimator-id-4\" class=\"sk-toggleable__label sk-toggleable__label-arrow\">RandomForestRegressor</label><div class=\"sk-toggleable__content\"><pre>RandomForestRegressor(oob_score=True)</pre></div></div></div></div></div></div></div></div></div></div>"
      ],
      "text/plain": [
       "RandomizedSearchCV(cv=5, estimator=RandomForestRegressor(oob_score=True),\n",
       "                   param_distributions={'max_depth': [1, 50, 100, 150, 200],\n",
       "                                        'n_estimators': [50, 100, 200]},\n",
       "                   scoring='r2', verbose=3)"
      ]
     },
     "execution_count": 31,
     "metadata": {},
     "output_type": "execute_result"
    }
   ],
   "source": [
    "reg"
   ]
  },
  {
   "cell_type": "code",
   "execution_count": 32,
   "id": "521e96c5-c75a-4cf0-918d-1e670a499228",
   "metadata": {},
   "outputs": [
    {
     "name": "stdout",
     "output_type": "stream",
     "text": [
      "Fitting 5 folds for each of 10 candidates, totalling 50 fits\n",
      "[CV 1/5] END .....max_depth=1, n_estimators=100;, score=0.234 total time=   0.2s\n",
      "[CV 2/5] END .....max_depth=1, n_estimators=100;, score=0.249 total time=   0.2s\n",
      "[CV 3/5] END .....max_depth=1, n_estimators=100;, score=0.437 total time=   0.2s\n",
      "[CV 4/5] END .....max_depth=1, n_estimators=100;, score=0.485 total time=   0.2s\n",
      "[CV 5/5] END .....max_depth=1, n_estimators=100;, score=0.399 total time=   0.2s\n",
      "[CV 1/5] END ....max_depth=100, n_estimators=50;, score=0.278 total time=   0.1s\n",
      "[CV 2/5] END ....max_depth=100, n_estimators=50;, score=0.464 total time=   0.1s\n",
      "[CV 3/5] END ....max_depth=100, n_estimators=50;, score=0.225 total time=   0.1s\n",
      "[CV 4/5] END ....max_depth=100, n_estimators=50;, score=0.545 total time=   0.1s\n",
      "[CV 5/5] END ....max_depth=100, n_estimators=50;, score=0.356 total time=   0.1s\n",
      "[CV 1/5] END ...max_depth=200, n_estimators=200;, score=0.289 total time=   0.5s\n",
      "[CV 2/5] END ...max_depth=200, n_estimators=200;, score=0.494 total time=   0.4s\n",
      "[CV 3/5] END ...max_depth=200, n_estimators=200;, score=0.175 total time=   0.4s\n",
      "[CV 4/5] END ...max_depth=200, n_estimators=200;, score=0.587 total time=   0.4s\n",
      "[CV 5/5] END ...max_depth=200, n_estimators=200;, score=0.366 total time=   0.4s\n",
      "[CV 1/5] END ....max_depth=200, n_estimators=50;, score=0.293 total time=   0.1s\n",
      "[CV 2/5] END ....max_depth=200, n_estimators=50;, score=0.458 total time=   0.1s\n",
      "[CV 3/5] END ....max_depth=200, n_estimators=50;, score=0.225 total time=   0.1s\n",
      "[CV 4/5] END ....max_depth=200, n_estimators=50;, score=0.662 total time=   0.1s\n",
      "[CV 5/5] END ....max_depth=200, n_estimators=50;, score=0.400 total time=   0.1s\n",
      "[CV 1/5] END ...max_depth=150, n_estimators=100;, score=0.306 total time=   0.2s\n",
      "[CV 2/5] END ...max_depth=150, n_estimators=100;, score=0.499 total time=   0.2s\n",
      "[CV 3/5] END ...max_depth=150, n_estimators=100;, score=0.201 total time=   0.2s\n",
      "[CV 4/5] END ...max_depth=150, n_estimators=100;, score=0.549 total time=   0.2s\n",
      "[CV 5/5] END ...max_depth=150, n_estimators=100;, score=0.341 total time=   0.2s\n",
      "[CV 1/5] END ....max_depth=50, n_estimators=100;, score=0.312 total time=   0.2s\n",
      "[CV 2/5] END ....max_depth=50, n_estimators=100;, score=0.483 total time=   0.2s\n",
      "[CV 3/5] END ....max_depth=50, n_estimators=100;, score=0.242 total time=   0.2s\n",
      "[CV 4/5] END ....max_depth=50, n_estimators=100;, score=0.629 total time=   0.2s\n",
      "[CV 5/5] END ....max_depth=50, n_estimators=100;, score=0.359 total time=   0.2s\n",
      "[CV 1/5] END ...max_depth=100, n_estimators=200;, score=0.300 total time=   0.4s\n",
      "[CV 2/5] END ...max_depth=100, n_estimators=200;, score=0.489 total time=   0.4s\n",
      "[CV 3/5] END ...max_depth=100, n_estimators=200;, score=0.219 total time=   0.5s\n",
      "[CV 4/5] END ...max_depth=100, n_estimators=200;, score=0.565 total time=   0.4s\n",
      "[CV 5/5] END ...max_depth=100, n_estimators=200;, score=0.346 total time=   0.4s\n",
      "[CV 1/5] END ...max_depth=200, n_estimators=100;, score=0.310 total time=   0.2s\n",
      "[CV 2/5] END ...max_depth=200, n_estimators=100;, score=0.488 total time=   0.2s\n",
      "[CV 3/5] END ...max_depth=200, n_estimators=100;, score=0.251 total time=   0.2s\n",
      "[CV 4/5] END ...max_depth=200, n_estimators=100;, score=0.623 total time=   0.2s\n",
      "[CV 5/5] END ...max_depth=200, n_estimators=100;, score=0.382 total time=   0.2s\n",
      "[CV 1/5] END ......max_depth=1, n_estimators=50;, score=0.242 total time=   0.1s\n",
      "[CV 2/5] END ......max_depth=1, n_estimators=50;, score=0.261 total time=   0.1s\n",
      "[CV 3/5] END ......max_depth=1, n_estimators=50;, score=0.408 total time=   0.1s\n",
      "[CV 4/5] END ......max_depth=1, n_estimators=50;, score=0.463 total time=   0.1s\n",
      "[CV 5/5] END ......max_depth=1, n_estimators=50;, score=0.384 total time=   0.1s\n",
      "[CV 1/5] END .....max_depth=1, n_estimators=200;, score=0.227 total time=   0.4s\n",
      "[CV 2/5] END .....max_depth=1, n_estimators=200;, score=0.241 total time=   0.4s\n",
      "[CV 3/5] END .....max_depth=1, n_estimators=200;, score=0.409 total time=   0.4s\n",
      "[CV 4/5] END .....max_depth=1, n_estimators=200;, score=0.467 total time=   0.4s\n",
      "[CV 5/5] END .....max_depth=1, n_estimators=200;, score=0.397 total time=   0.4s\n"
     ]
    },
    {
     "data": {
      "text/html": [
       "<style>#sk-container-id-3 {color: black;background-color: white;}#sk-container-id-3 pre{padding: 0;}#sk-container-id-3 div.sk-toggleable {background-color: white;}#sk-container-id-3 label.sk-toggleable__label {cursor: pointer;display: block;width: 100%;margin-bottom: 0;padding: 0.3em;box-sizing: border-box;text-align: center;}#sk-container-id-3 label.sk-toggleable__label-arrow:before {content: \"▸\";float: left;margin-right: 0.25em;color: #696969;}#sk-container-id-3 label.sk-toggleable__label-arrow:hover:before {color: black;}#sk-container-id-3 div.sk-estimator:hover label.sk-toggleable__label-arrow:before {color: black;}#sk-container-id-3 div.sk-toggleable__content {max-height: 0;max-width: 0;overflow: hidden;text-align: left;background-color: #f0f8ff;}#sk-container-id-3 div.sk-toggleable__content pre {margin: 0.2em;color: black;border-radius: 0.25em;background-color: #f0f8ff;}#sk-container-id-3 input.sk-toggleable__control:checked~div.sk-toggleable__content {max-height: 200px;max-width: 100%;overflow: auto;}#sk-container-id-3 input.sk-toggleable__control:checked~label.sk-toggleable__label-arrow:before {content: \"▾\";}#sk-container-id-3 div.sk-estimator input.sk-toggleable__control:checked~label.sk-toggleable__label {background-color: #d4ebff;}#sk-container-id-3 div.sk-label input.sk-toggleable__control:checked~label.sk-toggleable__label {background-color: #d4ebff;}#sk-container-id-3 input.sk-hidden--visually {border: 0;clip: rect(1px 1px 1px 1px);clip: rect(1px, 1px, 1px, 1px);height: 1px;margin: -1px;overflow: hidden;padding: 0;position: absolute;width: 1px;}#sk-container-id-3 div.sk-estimator {font-family: monospace;background-color: #f0f8ff;border: 1px dotted black;border-radius: 0.25em;box-sizing: border-box;margin-bottom: 0.5em;}#sk-container-id-3 div.sk-estimator:hover {background-color: #d4ebff;}#sk-container-id-3 div.sk-parallel-item::after {content: \"\";width: 100%;border-bottom: 1px solid gray;flex-grow: 1;}#sk-container-id-3 div.sk-label:hover label.sk-toggleable__label {background-color: #d4ebff;}#sk-container-id-3 div.sk-serial::before {content: \"\";position: absolute;border-left: 1px solid gray;box-sizing: border-box;top: 0;bottom: 0;left: 50%;z-index: 0;}#sk-container-id-3 div.sk-serial {display: flex;flex-direction: column;align-items: center;background-color: white;padding-right: 0.2em;padding-left: 0.2em;position: relative;}#sk-container-id-3 div.sk-item {position: relative;z-index: 1;}#sk-container-id-3 div.sk-parallel {display: flex;align-items: stretch;justify-content: center;background-color: white;position: relative;}#sk-container-id-3 div.sk-item::before, #sk-container-id-3 div.sk-parallel-item::before {content: \"\";position: absolute;border-left: 1px solid gray;box-sizing: border-box;top: 0;bottom: 0;left: 50%;z-index: -1;}#sk-container-id-3 div.sk-parallel-item {display: flex;flex-direction: column;z-index: 1;position: relative;background-color: white;}#sk-container-id-3 div.sk-parallel-item:first-child::after {align-self: flex-end;width: 50%;}#sk-container-id-3 div.sk-parallel-item:last-child::after {align-self: flex-start;width: 50%;}#sk-container-id-3 div.sk-parallel-item:only-child::after {width: 0;}#sk-container-id-3 div.sk-dashed-wrapped {border: 1px dashed gray;margin: 0 0.4em 0.5em 0.4em;box-sizing: border-box;padding-bottom: 0.4em;background-color: white;}#sk-container-id-3 div.sk-label label {font-family: monospace;font-weight: bold;display: inline-block;line-height: 1.2em;}#sk-container-id-3 div.sk-label-container {text-align: center;}#sk-container-id-3 div.sk-container {/* jupyter's `normalize.less` sets `[hidden] { display: none; }` but bootstrap.min.css set `[hidden] { display: none !important; }` so we also need the `!important` here to be able to override the default hidden behavior on the sphinx rendered scikit-learn.org. See: https://github.com/scikit-learn/scikit-learn/issues/21755 */display: inline-block !important;position: relative;}#sk-container-id-3 div.sk-text-repr-fallback {display: none;}</style><div id=\"sk-container-id-3\" class=\"sk-top-container\"><div class=\"sk-text-repr-fallback\"><pre>RandomizedSearchCV(cv=5, estimator=RandomForestRegressor(oob_score=True),\n",
       "                   param_distributions={&#x27;max_depth&#x27;: [1, 50, 100, 150, 200],\n",
       "                                        &#x27;n_estimators&#x27;: [50, 100, 200]},\n",
       "                   scoring=&#x27;r2&#x27;, verbose=3)</pre><b>In a Jupyter environment, please rerun this cell to show the HTML representation or trust the notebook. <br />On GitHub, the HTML representation is unable to render, please try loading this page with nbviewer.org.</b></div><div class=\"sk-container\" hidden><div class=\"sk-item sk-dashed-wrapped\"><div class=\"sk-label-container\"><div class=\"sk-label sk-toggleable\"><input class=\"sk-toggleable__control sk-hidden--visually\" id=\"sk-estimator-id-5\" type=\"checkbox\" ><label for=\"sk-estimator-id-5\" class=\"sk-toggleable__label sk-toggleable__label-arrow\">RandomizedSearchCV</label><div class=\"sk-toggleable__content\"><pre>RandomizedSearchCV(cv=5, estimator=RandomForestRegressor(oob_score=True),\n",
       "                   param_distributions={&#x27;max_depth&#x27;: [1, 50, 100, 150, 200],\n",
       "                                        &#x27;n_estimators&#x27;: [50, 100, 200]},\n",
       "                   scoring=&#x27;r2&#x27;, verbose=3)</pre></div></div></div><div class=\"sk-parallel\"><div class=\"sk-parallel-item\"><div class=\"sk-item\"><div class=\"sk-label-container\"><div class=\"sk-label sk-toggleable\"><input class=\"sk-toggleable__control sk-hidden--visually\" id=\"sk-estimator-id-6\" type=\"checkbox\" ><label for=\"sk-estimator-id-6\" class=\"sk-toggleable__label sk-toggleable__label-arrow\">estimator: RandomForestRegressor</label><div class=\"sk-toggleable__content\"><pre>RandomForestRegressor(oob_score=True)</pre></div></div></div><div class=\"sk-serial\"><div class=\"sk-item\"><div class=\"sk-estimator sk-toggleable\"><input class=\"sk-toggleable__control sk-hidden--visually\" id=\"sk-estimator-id-7\" type=\"checkbox\" ><label for=\"sk-estimator-id-7\" class=\"sk-toggleable__label sk-toggleable__label-arrow\">RandomForestRegressor</label><div class=\"sk-toggleable__content\"><pre>RandomForestRegressor(oob_score=True)</pre></div></div></div></div></div></div></div></div></div></div>"
      ],
      "text/plain": [
       "RandomizedSearchCV(cv=5, estimator=RandomForestRegressor(oob_score=True),\n",
       "                   param_distributions={'max_depth': [1, 50, 100, 150, 200],\n",
       "                                        'n_estimators': [50, 100, 200]},\n",
       "                   scoring='r2', verbose=3)"
      ]
     },
     "execution_count": 32,
     "metadata": {},
     "output_type": "execute_result"
    }
   ],
   "source": [
    "reg.fit(X_train, y_train)"
   ]
  },
  {
   "cell_type": "code",
   "execution_count": 33,
   "id": "ee1f971a-6241-4e83-bc60-de87d4a2d59c",
   "metadata": {},
   "outputs": [
    {
     "data": {
      "text/plain": [
       "{'n_estimators': 100, 'max_depth': 200}"
      ]
     },
     "execution_count": 33,
     "metadata": {},
     "output_type": "execute_result"
    }
   ],
   "source": [
    "reg.best_params_"
   ]
  },
  {
   "cell_type": "code",
   "execution_count": 34,
   "id": "f1b0a76c-af69-478f-bbb4-546fee60e3a2",
   "metadata": {},
   "outputs": [
    {
     "data": {
      "text/plain": [
       "0.4106241440107194"
      ]
     },
     "execution_count": 34,
     "metadata": {},
     "output_type": "execute_result"
    }
   ],
   "source": [
    "reg.best_score_"
   ]
  },
  {
   "cell_type": "code",
   "execution_count": null,
   "id": "99722c51-5400-4d8a-a816-40362b60560f",
   "metadata": {},
   "outputs": [],
   "source": []
  }
 ],
 "metadata": {
  "kernelspec": {
   "display_name": "Python 3 (ipykernel)",
   "language": "python",
   "name": "python3"
  },
  "language_info": {
   "codemirror_mode": {
    "name": "ipython",
    "version": 3
   },
   "file_extension": ".py",
   "mimetype": "text/x-python",
   "name": "python",
   "nbconvert_exporter": "python",
   "pygments_lexer": "ipython3",
   "version": "3.10.8"
  }
 },
 "nbformat": 4,
 "nbformat_minor": 5
}
