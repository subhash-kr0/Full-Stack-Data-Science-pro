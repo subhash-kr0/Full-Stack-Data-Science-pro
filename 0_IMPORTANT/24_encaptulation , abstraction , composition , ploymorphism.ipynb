{
 "cells": [
  {
   "cell_type": "code",
   "execution_count": 1,
   "id": "37acacdb-a634-434b-b358-50cb9fe0ecca",
   "metadata": {},
   "outputs": [],
   "source": [
    "#polymorphism"
   ]
  },
  {
   "cell_type": "code",
   "execution_count": 2,
   "id": "1c2bb1f0-cac4-4d32-8e58-16029af57475",
   "metadata": {},
   "outputs": [],
   "source": [
    "def test(a,b):\n",
    "    return a+b"
   ]
  },
  {
   "cell_type": "code",
   "execution_count": 3,
   "id": "17abea90-a310-415e-8a0a-cddf742e295d",
   "metadata": {},
   "outputs": [
    {
     "data": {
      "text/plain": [
       "7"
      ]
     },
     "execution_count": 3,
     "metadata": {},
     "output_type": "execute_result"
    }
   ],
   "source": [
    "test(3,4)"
   ]
  },
  {
   "cell_type": "code",
   "execution_count": 4,
   "id": "ded878d7-5a0e-42d6-9aff-9f0923a142e7",
   "metadata": {},
   "outputs": [
    {
     "data": {
      "text/plain": [
       "'sudhkumar'"
      ]
     },
     "execution_count": 4,
     "metadata": {},
     "output_type": "execute_result"
    }
   ],
   "source": [
    "test(\"sudh\" , \"kumar\")"
   ]
  },
  {
   "cell_type": "code",
   "execution_count": 5,
   "id": "e32a2b56-c47d-4176-b9c3-c2384b23ce92",
   "metadata": {},
   "outputs": [
    {
     "name": "stdout",
     "output_type": "stream",
     "text": [
      "this will give me a detials about data science student\n",
      "this will give me a details about big data student \n"
     ]
    }
   ],
   "source": [
    "class pwskills:\n",
    "    def student(self):\n",
    "        pass\n",
    "    \n",
    "class datascience(pwskills):\n",
    "    def student(self):\n",
    "        print(\"this will give me a detials about data science student\")\n",
    "        \n",
    "class bigdata(pwskills):\n",
    "    def student(self):\n",
    "        print(\"this will give me a details about big data student \")\n",
    "    \n",
    "yash = datascience()\n",
    "farhana = bigdata()\n",
    "yash.student()\n",
    "farhana.student()"
   ]
  },
  {
   "cell_type": "code",
   "execution_count": 7,
   "id": "c572687d-dd80-4d2c-93f6-dd85a698e63d",
   "metadata": {},
   "outputs": [],
   "source": [
    "pw = pwskills()\n",
    "pw.student()"
   ]
  },
  {
   "cell_type": "code",
   "execution_count": 12,
   "id": "a6b26ff9-f7eb-4eca-84bd-e5b20663b729",
   "metadata": {},
   "outputs": [
    {
     "name": "stdout",
     "output_type": "stream",
     "text": [
      "5 34\n"
     ]
    }
   ],
   "source": [
    "class bigdata:\n",
    "    def __init__(self , number_of_class , number_of_studnet):\n",
    "        self.number_of_class = number_of_class\n",
    "        self.number_of_studnet = number_of_studnet\n",
    "        \n",
    "    def __add__(self , other):\n",
    "        return bigdata(self.number_of_class + other.number_of_class , self.number_of_studnet+ other.number_of_studnet)\n",
    "    \n",
    "c1 = bigdata(1,10)\n",
    "c2 = bigdata(2,12)\n",
    "#bigdata(3 , 22)\n",
    "c3 = bigdata(2,12)\n",
    "result = c1+c2 + c3\n",
    "print(result.number_of_class , result.number_of_studnet)\n",
    "        "
   ]
  },
  {
   "cell_type": "code",
   "execution_count": 9,
   "id": "6d979c09-e070-47e2-a6ad-45bc7060fa70",
   "metadata": {},
   "outputs": [
    {
     "name": "stdout",
     "output_type": "stream",
     "text": [
      "<__main__.bigdata object at 0x7f0f654f3e20>\n"
     ]
    }
   ],
   "source": [
    "print(c1)"
   ]
  },
  {
   "cell_type": "code",
   "execution_count": 10,
   "id": "abbc6628-5a35-404e-ac53-c53616974da0",
   "metadata": {},
   "outputs": [
    {
     "name": "stdout",
     "output_type": "stream",
     "text": [
      "<__main__.bigdata object at 0x7f0f654f3ca0>\n"
     ]
    }
   ],
   "source": [
    "print(c2)"
   ]
  },
  {
   "cell_type": "code",
   "execution_count": 11,
   "id": "59d0c965-a2dd-42c0-bf1c-1e651b3c1908",
   "metadata": {},
   "outputs": [
    {
     "name": "stdout",
     "output_type": "stream",
     "text": [
      "<__main__.bigdata object at 0x7f0f654f0250>\n"
     ]
    }
   ],
   "source": [
    "print(result)"
   ]
  },
  {
   "cell_type": "code",
   "execution_count": 13,
   "id": "8e37f328-d01e-419e-9d94-67405e65e57f",
   "metadata": {},
   "outputs": [],
   "source": [
    "class datascience:\n",
    "    def student(self):\n",
    "        print(\"this will give me a detials about data science student\")\n",
    "        "
   ]
  },
  {
   "cell_type": "code",
   "execution_count": 14,
   "id": "dfd7b929-41e9-4c42-985b-bd669f068ca7",
   "metadata": {},
   "outputs": [
    {
     "ename": "TypeError",
     "evalue": "unsupported operand type(s) for +: 'datascience' and 'datascience'",
     "output_type": "error",
     "traceback": [
      "\u001b[0;31m---------------------------------------------------------------------------\u001b[0m",
      "\u001b[0;31mTypeError\u001b[0m                                 Traceback (most recent call last)",
      "Cell \u001b[0;32mIn[14], line 4\u001b[0m\n\u001b[1;32m      2\u001b[0m o2 \u001b[38;5;241m=\u001b[39m datascience()\n\u001b[1;32m      3\u001b[0m o3 \u001b[38;5;241m=\u001b[39m datascience()\n\u001b[0;32m----> 4\u001b[0m r \u001b[38;5;241m=\u001b[39m \u001b[43mo1\u001b[49m\u001b[38;5;241;43m+\u001b[39;49m\u001b[43m \u001b[49m\u001b[43mo2\u001b[49m\u001b[38;5;241m+\u001b[39mo3\n",
      "\u001b[0;31mTypeError\u001b[0m: unsupported operand type(s) for +: 'datascience' and 'datascience'"
     ]
    }
   ],
   "source": [
    "o1 = datascience()\n",
    "o2 = datascience()\n",
    "o3 = datascience()\n",
    "r = o1+ o2+o3"
   ]
  },
  {
   "cell_type": "code",
   "execution_count": 15,
   "id": "85868b52-91ab-4ff7-a88b-595215d39fdf",
   "metadata": {},
   "outputs": [],
   "source": [
    "class datascience:\n",
    "    def student(self):\n",
    "        print(\"this will give me a detials about data science student\")\n",
    "        \n",
    "class bigdata:\n",
    "    def student(self):\n",
    "        print(\"this will give me a details about big data student \")\n",
    "        \n",
    "def output_class(class_obj):\n",
    "    return class_obj.student()"
   ]
  },
  {
   "cell_type": "code",
   "execution_count": 16,
   "id": "685b54ae-d193-4d7f-b189-9963994c4ce7",
   "metadata": {},
   "outputs": [],
   "source": [
    "sesha = datascience()\n",
    "sashi= bigdata()"
   ]
  },
  {
   "cell_type": "code",
   "execution_count": 17,
   "id": "59a6a5c7-f513-4634-b662-abc488ffed5b",
   "metadata": {},
   "outputs": [
    {
     "name": "stdout",
     "output_type": "stream",
     "text": [
      "this will give me a detials about data science student\n"
     ]
    }
   ],
   "source": [
    "output_class(sesha)"
   ]
  },
  {
   "cell_type": "code",
   "execution_count": 18,
   "id": "30fd60f1-e9d5-4389-aa90-68af3311e188",
   "metadata": {},
   "outputs": [
    {
     "name": "stdout",
     "output_type": "stream",
     "text": [
      "this will give me a details about big data student \n"
     ]
    }
   ],
   "source": [
    "output_class(sashi)"
   ]
  },
  {
   "cell_type": "code",
   "execution_count": 19,
   "id": "f3477af0-7b16-4c70-b94f-8fa53ab7fd7c",
   "metadata": {},
   "outputs": [],
   "source": [
    "class pwskills:\n",
    "    def student(self):\n",
    "        return \"this is a pwskills student\"\n",
    "    \n",
    "class datascience(pwskills):\n",
    "    def student(self):\n",
    "        print(\"this will give me a detials about data science student\")"
   ]
  },
  {
   "cell_type": "code",
   "execution_count": 20,
   "id": "c9d0c849-03f5-4632-9c33-6c828f3752a7",
   "metadata": {},
   "outputs": [
    {
     "name": "stdout",
     "output_type": "stream",
     "text": [
      "this will give me a detials about data science student\n"
     ]
    }
   ],
   "source": [
    "ujwal = datascience()\n",
    "ujwal.student()"
   ]
  },
  {
   "cell_type": "code",
   "execution_count": 21,
   "id": "0e78152f-d35d-4c86-856e-30f30c32ac3b",
   "metadata": {},
   "outputs": [
    {
     "data": {
      "text/plain": [
       "4"
      ]
     },
     "execution_count": 21,
     "metadata": {},
     "output_type": "execute_result"
    }
   ],
   "source": [
    "len(\"sudh\")"
   ]
  },
  {
   "cell_type": "code",
   "execution_count": 22,
   "id": "9a717682-d8da-4095-8545-bdaf1eaf9656",
   "metadata": {},
   "outputs": [
    {
     "data": {
      "text/plain": [
       "5"
      ]
     },
     "execution_count": 22,
     "metadata": {},
     "output_type": "execute_result"
    }
   ],
   "source": [
    "len([2,3,4,5,6])"
   ]
  },
  {
   "cell_type": "code",
   "execution_count": null,
   "id": "607b6eed-7d98-419f-881f-eafe4b746f35",
   "metadata": {},
   "outputs": [],
   "source": [
    "#Encapsulation"
   ]
  },
  {
   "cell_type": "code",
   "execution_count": 60,
   "id": "1472a46e-bcd5-466b-ba04-781ad3fb1cc9",
   "metadata": {},
   "outputs": [],
   "source": [
    "class test:\n",
    "    def __init__(self) :\n",
    "        self._x = \"sudh\"\n",
    "        self.y = \"kumar\"\n",
    "        self.z = \"pwskills\"\n",
    "        \n",
    "    def __test_meth(self):\n",
    "        return \"this is just a test\"\n",
    "    \n",
    "    def access_var(self):\n",
    "        return self._x\n",
    "    \n",
    "    def update_var(self , data):\n",
    "        self._x = data"
   ]
  },
  {
   "cell_type": "code",
   "execution_count": 61,
   "id": "d4bba687-c8a9-42f3-9ee4-79843803824a",
   "metadata": {},
   "outputs": [],
   "source": [
    "t1 = test()\n",
    "t1.update_var(23432424)"
   ]
  },
  {
   "cell_type": "code",
   "execution_count": 62,
   "id": "918a370a-a454-464e-baa6-4f8589144040",
   "metadata": {},
   "outputs": [
    {
     "data": {
      "text/plain": [
       "23432424"
      ]
     },
     "execution_count": 62,
     "metadata": {},
     "output_type": "execute_result"
    }
   ],
   "source": [
    "t1.access_var()"
   ]
  },
  {
   "cell_type": "code",
   "execution_count": 51,
   "id": "5149c7c9-e695-4724-af27-112261731442",
   "metadata": {},
   "outputs": [
    {
     "data": {
      "text/plain": [
       "'this is just a test'"
      ]
     },
     "execution_count": 51,
     "metadata": {},
     "output_type": "execute_result"
    }
   ],
   "source": [
    "t1._test__test_meth()"
   ]
  },
  {
   "cell_type": "code",
   "execution_count": 64,
   "id": "18fe5d22-dda2-45a1-932e-d5eb31d4f307",
   "metadata": {},
   "outputs": [
    {
     "data": {
      "text/plain": [
       "34554"
      ]
     },
     "execution_count": 64,
     "metadata": {},
     "output_type": "execute_result"
    }
   ],
   "source": [
    "class bank :\n",
    "    def __init__(self,account_number , balance) :\n",
    "        self._account_number = account_number\n",
    "        self.__balance = balance\n",
    "    def check_balance(self, password):\n",
    "        if password == \"mysecurepass\":\n",
    "            return self.__balance\n",
    "        else :\n",
    "            return \"incorrect passord\"\n",
    "        \n",
    "sudh = bank(23442 , 34554)\n",
    "sudh.check_balance(\"mysecurepass\")\n",
    "    "
   ]
  },
  {
   "cell_type": "code",
   "execution_count": 70,
   "id": "acf80897-df44-49d6-8d1c-6a7782585ce3",
   "metadata": {},
   "outputs": [],
   "source": [
    "class queue:\n",
    "    def __init__(self) :\n",
    "        self._queue = []\n",
    "        \n",
    "    def enqueue(self, data) :\n",
    "        self._queue.append(data)\n",
    "        \n",
    "    def dequeue(self):\n",
    "        if self._queue :\n",
    "            return self._queue.pop(0)\n",
    "        else :\n",
    "            print(\"its empty\")\n",
    "    \n",
    "    def showdata(self):\n",
    "        return self._queue"
   ]
  },
  {
   "cell_type": "code",
   "execution_count": 73,
   "id": "e7c90f83-7843-4b34-bb8f-45f1302d7a4b",
   "metadata": {},
   "outputs": [],
   "source": [
    "q = queue()"
   ]
  },
  {
   "cell_type": "code",
   "execution_count": 74,
   "id": "6fa426ef-622e-4790-8abf-d6008a8ed045",
   "metadata": {},
   "outputs": [
    {
     "name": "stdout",
     "output_type": "stream",
     "text": [
      "its empty\n"
     ]
    }
   ],
   "source": [
    "q.dequeue()"
   ]
  },
  {
   "cell_type": "code",
   "execution_count": 75,
   "id": "8eb70eff-e4ae-4269-80bb-f6d724ecdc5b",
   "metadata": {},
   "outputs": [],
   "source": [
    "q.enqueue(40)"
   ]
  },
  {
   "cell_type": "code",
   "execution_count": 76,
   "id": "f312a588-7906-48a3-9fe3-a5e901294d46",
   "metadata": {},
   "outputs": [
    {
     "data": {
      "text/plain": [
       "[40]"
      ]
     },
     "execution_count": 76,
     "metadata": {},
     "output_type": "execute_result"
    }
   ],
   "source": [
    "q.showdata()"
   ]
  },
  {
   "cell_type": "code",
   "execution_count": null,
   "id": "de311ec6-a63d-476a-ad0d-2e752cdd71f8",
   "metadata": {},
   "outputs": [],
   "source": []
  },
  {
   "cell_type": "code",
   "execution_count": 78,
   "id": "44249148-59c9-4265-a816-ef9ed7b69c2a",
   "metadata": {},
   "outputs": [],
   "source": [
    "l= [3,4,5,6]"
   ]
  },
  {
   "cell_type": "code",
   "execution_count": 79,
   "id": "6e408be7-1b8f-440d-990d-f4177b607777",
   "metadata": {},
   "outputs": [
    {
     "data": {
      "text/plain": [
       "6"
      ]
     },
     "execution_count": 79,
     "metadata": {},
     "output_type": "execute_result"
    }
   ],
   "source": [
    "l.pop()"
   ]
  },
  {
   "cell_type": "code",
   "execution_count": 80,
   "id": "b3c15db5-069e-467e-bb33-82201c944797",
   "metadata": {},
   "outputs": [],
   "source": [
    "#abstraction"
   ]
  },
  {
   "cell_type": "code",
   "execution_count": null,
   "id": "a7da20d7-c3ee-4610-95b3-285db829b206",
   "metadata": {},
   "outputs": [],
   "source": [
    "class pwskills:\n",
    "    def stdent_detials(self) :\n",
    "        return \"this will give you a studnet details\" "
   ]
  },
  {
   "cell_type": "code",
   "execution_count": 111,
   "id": "4c7da409-b6ec-4e00-b7da-fd3c6a0d3e56",
   "metadata": {},
   "outputs": [],
   "source": [
    "from abc import ABC , abstractmethod\n",
    "class pwskills(ABC):\n",
    "    \n",
    "    @abstractmethod\n",
    "    def databaseconnect(self):\n",
    "        pass\n",
    "    @abstractmethod\n",
    "    def checkuserenrollment(self, user_mailid):\n",
    "        pass\n",
    "    @abstractmethod\n",
    "    def check_completed_lecture(self, user_id , class_id):\n",
    "        pass\n",
    "    @abstractmethod\n",
    "    def check_lab_usases(self, user_id):\n",
    "        pass\n",
    "    @abstractmethod\n",
    "    def check_internship(self,user_id):\n",
    "        pass"
   ]
  },
  {
   "cell_type": "code",
   "execution_count": 116,
   "id": "0d01bf50-2888-4cb7-a75f-9fdcddeac95b",
   "metadata": {},
   "outputs": [],
   "source": [
    "class databaseconnect(pwskills):\n",
    "    def databaseconnect(self):\n",
    "        print(\"thhis is a implementation of database connect\")\n",
    "    \n",
    "    def checkuserenrollment(self, user_mailid):\n",
    "        return \"test\"\n",
    "    \n",
    "    def check_completed_lecture(self, user_id , class_id):\n",
    "        return \"test\"\n",
    "    \n",
    "    def check_lab_usases(self, user_id):\n",
    "        return \"test\"\n",
    "    \n",
    "    def check_internship(self,user_id):\n",
    "        return \"test\""
   ]
  },
  {
   "cell_type": "code",
   "execution_count": 117,
   "id": "7cdeff1f-9e13-4125-b1a7-d9dbbe33b57b",
   "metadata": {},
   "outputs": [],
   "source": [
    "db1 = databaseconnect()"
   ]
  },
  {
   "cell_type": "code",
   "execution_count": 118,
   "id": "52012491-acef-44a0-8a82-9f36d75289df",
   "metadata": {},
   "outputs": [
    {
     "name": "stdout",
     "output_type": "stream",
     "text": [
      "thhis is a implementation of database connect\n"
     ]
    }
   ],
   "source": [
    "db1.databaseconnect()"
   ]
  },
  {
   "cell_type": "code",
   "execution_count": 131,
   "id": "e6091fec-14e2-4761-8e92-c75a46deaef1",
   "metadata": {},
   "outputs": [],
   "source": [
    "class calculation:\n",
    "    \n",
    "    @staticmethod\n",
    "    def add(x,y):\n",
    "        return x+y\n",
    "    \n",
    "    @staticmethod\n",
    "    def sub(x,y):\n",
    "        return x-y\n",
    "    \n",
    "    def div(self,x,y):\n",
    "        return x/y"
   ]
  },
  {
   "cell_type": "code",
   "execution_count": 138,
   "id": "14f67456-4790-4a28-926d-850da40c66db",
   "metadata": {},
   "outputs": [],
   "source": [
    "class cal(calculation):\n",
    "    def add(x,y):\n",
    "        return x*y"
   ]
  },
  {
   "cell_type": "code",
   "execution_count": 139,
   "id": "a0383d99-5a50-4498-800f-82946ccfbded",
   "metadata": {},
   "outputs": [
    {
     "data": {
      "text/plain": [
       "20"
      ]
     },
     "execution_count": 139,
     "metadata": {},
     "output_type": "execute_result"
    }
   ],
   "source": [
    "cal.add(4,5)"
   ]
  },
  {
   "cell_type": "code",
   "execution_count": null,
   "id": "9350cf1c-1208-46e7-8e92-05102f912c54",
   "metadata": {},
   "outputs": [],
   "source": []
  },
  {
   "cell_type": "code",
   "execution_count": 140,
   "id": "b3a80eea-ec67-4f1b-8f0d-58524ba4e87c",
   "metadata": {},
   "outputs": [
    {
     "ename": "TypeError",
     "evalue": "cal.add() takes 2 positional arguments but 3 were given",
     "output_type": "error",
     "traceback": [
      "\u001b[0;31m---------------------------------------------------------------------------\u001b[0m",
      "\u001b[0;31mTypeError\u001b[0m                                 Traceback (most recent call last)",
      "Cell \u001b[0;32mIn[140], line 2\u001b[0m\n\u001b[1;32m      1\u001b[0m c1 \u001b[38;5;241m=\u001b[39m cal()\n\u001b[0;32m----> 2\u001b[0m \u001b[43mc1\u001b[49m\u001b[38;5;241;43m.\u001b[39;49m\u001b[43madd\u001b[49m\u001b[43m(\u001b[49m\u001b[38;5;241;43m3\u001b[39;49m\u001b[43m,\u001b[49m\u001b[38;5;241;43m4\u001b[39;49m\u001b[43m)\u001b[49m\n",
      "\u001b[0;31mTypeError\u001b[0m: cal.add() takes 2 positional arguments but 3 were given"
     ]
    }
   ],
   "source": [
    "c1 = cal()\n",
    "c1.add(3,4)"
   ]
  },
  {
   "cell_type": "code",
   "execution_count": 132,
   "id": "283dbe27-cab6-4f44-9cf1-cca90dadb64f",
   "metadata": {},
   "outputs": [
    {
     "data": {
      "text/plain": [
       "7"
      ]
     },
     "execution_count": 132,
     "metadata": {},
     "output_type": "execute_result"
    }
   ],
   "source": [
    "calculation.add(3,4)"
   ]
  },
  {
   "cell_type": "code",
   "execution_count": 133,
   "id": "ee903a4d-82cd-451b-8343-e3bac74e2214",
   "metadata": {},
   "outputs": [
    {
     "data": {
      "text/plain": [
       "0.8"
      ]
     },
     "execution_count": 133,
     "metadata": {},
     "output_type": "execute_result"
    }
   ],
   "source": [
    "calculation.div(_,4,5)"
   ]
  },
  {
   "cell_type": "code",
   "execution_count": 134,
   "id": "0bd5ee31-ffb9-4dc1-ad08-8132aecf3915",
   "metadata": {},
   "outputs": [
    {
     "data": {
      "text/plain": [
       "0.8333333333333334"
      ]
     },
     "execution_count": 134,
     "metadata": {},
     "output_type": "execute_result"
    }
   ],
   "source": [
    "a = calculation()\n",
    "a.div(5,6)"
   ]
  },
  {
   "cell_type": "code",
   "execution_count": 124,
   "id": "bcc9cb8b-9d6d-4be3-9522-9c9c1b9d0547",
   "metadata": {},
   "outputs": [
    {
     "data": {
      "text/plain": [
       "0.5714285714285714"
      ]
     },
     "execution_count": 124,
     "metadata": {},
     "output_type": "execute_result"
    }
   ],
   "source": [
    "b= calculation()\n",
    "b.div(4,7)"
   ]
  },
  {
   "cell_type": "code",
   "execution_count": 142,
   "id": "7c317659-1f15-41d2-935e-e9e9d16070f2",
   "metadata": {},
   "outputs": [],
   "source": [
    "class file_ops :\n",
    "    def __init__(self, filename):\n",
    "        self.filename = filename\n",
    "        \n",
    "    def read_file(self):\n",
    "        with open(self.filename , 'r') as file :\n",
    "            return file.read()\n",
    "        \n",
    "    def write_file(self , data) : \n",
    "        with open(self.filename , 'w') as file :\n",
    "            file.write(data ) "
   ]
  },
  {
   "cell_type": "code",
   "execution_count": 144,
   "id": "28596c05-3d7e-4820-b112-f94dbe1d3f3a",
   "metadata": {},
   "outputs": [],
   "source": [
    "sudh_op_file =file_ops('sudhfile.txt')\n",
    "sudh_op_file.write_file(\"fsdfsfdsfsddfs sdfsf \")\n"
   ]
  },
  {
   "cell_type": "code",
   "execution_count": 145,
   "id": "88c332d1-3308-41b9-82c1-9276fb58de4f",
   "metadata": {},
   "outputs": [],
   "source": [
    "kapil = file_ops('kapil.txt')\n",
    "kapil.write_file(\"this is kapil file \")"
   ]
  },
  {
   "cell_type": "code",
   "execution_count": 146,
   "id": "fa4b5cae-4368-4996-8582-30f0164446a1",
   "metadata": {},
   "outputs": [],
   "source": [
    "sachin = file_ops(\"sachin.txt\")\n",
    "sachin.write_file(\"this is sachin data\")"
   ]
  },
  {
   "cell_type": "code",
   "execution_count": 147,
   "id": "4e1493d3-cefb-4c10-9568-6c1eeb53bdf4",
   "metadata": {},
   "outputs": [],
   "source": [
    "#composition"
   ]
  },
  {
   "cell_type": "code",
   "execution_count": 148,
   "id": "55a37cff-bbe3-4108-a7ef-2a50066b5120",
   "metadata": {},
   "outputs": [],
   "source": [
    "class pwskills :\n",
    "    def student(self):\n",
    "        return \"student details\"\n",
    "    \n",
    "class datascience:\n",
    "    def __init__(self):\n",
    "        self.student= pwskills()"
   ]
  },
  {
   "cell_type": "code",
   "execution_count": 149,
   "id": "cc875069-92ef-4b33-81c9-de7cd5baca01",
   "metadata": {},
   "outputs": [],
   "source": [
    "ds = datascience()"
   ]
  },
  {
   "cell_type": "code",
   "execution_count": 151,
   "id": "5169e7f1-3333-4ed3-87f0-41be963985ea",
   "metadata": {},
   "outputs": [
    {
     "data": {
      "text/plain": [
       "'student details'"
      ]
     },
     "execution_count": 151,
     "metadata": {},
     "output_type": "execute_result"
    }
   ],
   "source": [
    "ds.student.student()"
   ]
  },
  {
   "cell_type": "code",
   "execution_count": 152,
   "id": "b590cc00-f3df-4550-a0f4-43688594f9e5",
   "metadata": {},
   "outputs": [],
   "source": [
    "class data:\n",
    "    def __init__(self,mentor_name) :\n",
    "        self.mentor_name = mentor_name\n",
    "        \n",
    "class webdev :\n",
    "    def __init__(self,mentor , lecture_name):\n",
    "        self.mentor = mentor\n",
    "        self.lecture_name = lecture_name"
   ]
  },
  {
   "cell_type": "code",
   "execution_count": 156,
   "id": "2cae4acf-b7ce-4a6d-944e-623adc239655",
   "metadata": {},
   "outputs": [],
   "source": [
    "d = data(\"sudh\")\n",
    "w = webdev(d , 'css')"
   ]
  },
  {
   "cell_type": "code",
   "execution_count": 157,
   "id": "002c81ea-5ad4-4436-bbd0-8d548e881433",
   "metadata": {},
   "outputs": [
    {
     "data": {
      "text/plain": [
       "'sudh'"
      ]
     },
     "execution_count": 157,
     "metadata": {},
     "output_type": "execute_result"
    }
   ],
   "source": [
    "d.mentor_name"
   ]
  },
  {
   "cell_type": "code",
   "execution_count": 159,
   "id": "042a5b89-b77b-4237-8fd6-b5fdf0cf0bb7",
   "metadata": {},
   "outputs": [
    {
     "data": {
      "text/plain": [
       "'sudh'"
      ]
     },
     "execution_count": 159,
     "metadata": {},
     "output_type": "execute_result"
    }
   ],
   "source": [
    "w.mentor.mentor_name\n"
   ]
  },
  {
   "cell_type": "code",
   "execution_count": 166,
   "id": "ee082e5a-0fdb-4014-9182-c5abcb19071f",
   "metadata": {},
   "outputs": [],
   "source": [
    "l  = (3,4,5,6)\n",
    "l1 = [4,5,6,7,87]\n",
    "l3 = [\"sudh\",\"kumar\" , \"pwskills\" , \"krish\"]"
   ]
  },
  {
   "cell_type": "code",
   "execution_count": 167,
   "id": "955c2f05-9e9e-4c0f-919e-c9e52d9d0922",
   "metadata": {},
   "outputs": [
    {
     "data": {
      "text/plain": [
       "[(3, 4, 'sudh'), (4, 5, 'kumar'), (5, 6, 'pwskills'), (6, 7, 'krish')]"
      ]
     },
     "execution_count": 167,
     "metadata": {},
     "output_type": "execute_result"
    }
   ],
   "source": [
    "list(zip(l,l1,l3))"
   ]
  },
  {
   "cell_type": "code",
   "execution_count": 169,
   "id": "6b75615e-983c-4cfe-b026-f33d6470ef8b",
   "metadata": {},
   "outputs": [
    {
     "data": {
      "text/plain": [
       "['sudh', 'kumar', 'pwskills', 'krish']"
      ]
     },
     "execution_count": 169,
     "metadata": {},
     "output_type": "execute_result"
    }
   ],
   "source": [
    "l3"
   ]
  },
  {
   "cell_type": "code",
   "execution_count": 170,
   "id": "3d993416-23db-4e1f-8e61-57c67b431741",
   "metadata": {},
   "outputs": [
    {
     "name": "stdout",
     "output_type": "stream",
     "text": [
      "0   sudh\n",
      "1   kumar\n",
      "2   pwskills\n",
      "3   krish\n"
     ]
    }
   ],
   "source": [
    "for index , data in enumerate(l3):\n",
    "    print(index , \" \" , data)"
   ]
  },
  {
   "cell_type": "code",
   "execution_count": 5,
   "id": "0c85b52e-83d9-487c-a141-a353fef8fd0b",
   "metadata": {},
   "outputs": [],
   "source": [
    "import logging\n",
    "m=[3,4,[5,6],8,10,[24,65]]\n",
    "logging.basicConfig(filename= 'test.log' , level=logging.INFO)\n",
    "logging.info(\"start of my prog\")\n",
    "logging.info(m)\n",
    "for i in m :\n",
    "    logging.info(i)\n",
    "logging.info(\"end of prog\")"
   ]
  },
  {
   "cell_type": "code",
   "execution_count": null,
   "id": "9713bd8b-177c-47da-a899-9cf0cf29b9ec",
   "metadata": {},
   "outputs": [],
   "source": []
  }
 ],
 "metadata": {
  "kernelspec": {
   "display_name": "Python 3 (ipykernel)",
   "language": "python",
   "name": "python3"
  },
  "language_info": {
   "codemirror_mode": {
    "name": "ipython",
    "version": 3
   },
   "file_extension": ".py",
   "mimetype": "text/x-python",
   "name": "python",
   "nbconvert_exporter": "python",
   "pygments_lexer": "ipython3",
   "version": "3.10.8"
  }
 },
 "nbformat": 4,
 "nbformat_minor": 5
}
