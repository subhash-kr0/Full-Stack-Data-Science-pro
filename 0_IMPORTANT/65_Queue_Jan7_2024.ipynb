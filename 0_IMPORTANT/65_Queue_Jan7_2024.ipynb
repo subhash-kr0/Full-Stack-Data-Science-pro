{
  "nbformat": 4,
  "nbformat_minor": 0,
  "metadata": {
    "colab": {
      "provenance": []
    },
    "kernelspec": {
      "name": "python3",
      "display_name": "Python 3"
    },
    "language_info": {
      "name": "python"
    }
  },
  "cells": [
    {
      "cell_type": "code",
      "execution_count": null,
      "metadata": {
        "id": "2JqGvyW5jjKE"
      },
      "outputs": [],
      "source": [
        "class Queue :\n",
        "  def __init__(self, capacity):\n",
        "    self.arr = [None]*capacity\n",
        "    self.capacity = capacity\n",
        "    self.front = -1\n",
        "    self.rear = -1 #in the begining both front and rear should be -1\n",
        "    self.size =0\n",
        "\n",
        "  def isEmpty(self):\n",
        "    return self.front == -1\n",
        "\n",
        "  def isFull(self):\n",
        "    return (self.front +1)%self.capacity == self.rear\n",
        "\n",
        "  def enQueue(self, data):\n",
        "    if self.isFull() :\n",
        "      print(\"Queue overflow\")\n",
        "      return\n",
        "    #Move the front to the right one position\n",
        "    self.front = (self.front + 1) % self.capacity # ensure index is correct\n",
        "    self.arr[self.front]=data\n",
        "\n",
        "    if self.rear == -1:  #when the first element is inserted\n",
        "      self.rear =0\n",
        "    self.size +=1\n",
        "\n",
        "  def deQueue(self):\n",
        "    if self.isEmpty():\n",
        "      print(\"Queue underflow\")\n",
        "      return\n",
        "    data = self.arr[self.rear]\n",
        "    #Check if this was the only element\n",
        "    if self.rear == self.front:\n",
        "      self.rear = -1\n",
        "      self.front = -1\n",
        "      #Because it was the only element, and after removal it's empty\n",
        "    else :\n",
        "      self.rear = (self.rear+1)%self.capacity #ensure we are in correct index range\n",
        "    self.size -=1\n",
        "    return data\n",
        "\n",
        "  def length(self):\n",
        "    return self.size\n",
        "\n",
        "  def traverse(self):\n",
        "    for i in range(self.size):\n",
        "      print(self.arr[(self.rear+i)%self.capacity], end=\" , \")\n",
        "\n",
        "\n"
      ]
    },
    {
      "cell_type": "code",
      "source": [
        "q = Queue(5)"
      ],
      "metadata": {
        "id": "PI13MOIfkv4Z"
      },
      "execution_count": null,
      "outputs": []
    },
    {
      "cell_type": "code",
      "source": [
        "print(q.isEmpty())"
      ],
      "metadata": {
        "colab": {
          "base_uri": "https://localhost:8080/"
        },
        "id": "nvQRiCr0tByw",
        "outputId": "0ddd66a7-f392-4302-c50b-c1be6387ea3f"
      },
      "execution_count": null,
      "outputs": [
        {
          "output_type": "stream",
          "name": "stdout",
          "text": [
            "True\n"
          ]
        }
      ]
    },
    {
      "cell_type": "code",
      "source": [
        "print(q.isFull())"
      ],
      "metadata": {
        "colab": {
          "base_uri": "https://localhost:8080/"
        },
        "id": "Vv7Bf3aWtHJX",
        "outputId": "6f3fe89b-6c02-412e-b4ea-f6a7996407cc"
      },
      "execution_count": null,
      "outputs": [
        {
          "output_type": "stream",
          "name": "stdout",
          "text": [
            "False\n"
          ]
        }
      ]
    },
    {
      "cell_type": "code",
      "source": [
        "q.enQueue(4)\n",
        "q.enQueue(5)\n",
        "q.enQueue(3)"
      ],
      "metadata": {
        "id": "B87qS61KtKOJ"
      },
      "execution_count": null,
      "outputs": []
    },
    {
      "cell_type": "code",
      "source": [
        "q.traverse()"
      ],
      "metadata": {
        "colab": {
          "base_uri": "https://localhost:8080/"
        },
        "id": "l8GtsrPgtWrE",
        "outputId": "e869a197-aa56-4c7e-ffb6-1344b931206e"
      },
      "execution_count": null,
      "outputs": [
        {
          "output_type": "stream",
          "name": "stdout",
          "text": [
            "4 , 5 , 3 , "
          ]
        }
      ]
    },
    {
      "cell_type": "code",
      "source": [
        "print(q.deQueue())"
      ],
      "metadata": {
        "colab": {
          "base_uri": "https://localhost:8080/"
        },
        "id": "a1HDrknGudlA",
        "outputId": "a56c2925-56d1-418f-c953-25040634a11a"
      },
      "execution_count": null,
      "outputs": [
        {
          "output_type": "stream",
          "name": "stdout",
          "text": [
            "3\n"
          ]
        }
      ]
    },
    {
      "cell_type": "code",
      "source": [
        "class Node :\n",
        "\n",
        "  def __init__(self, data, next=None):\n",
        "    self.data = data\n",
        "    self.next = next\n",
        "\n",
        "  def getData(self):\n",
        "    return self.data\n",
        "\n",
        "  def setData(self, data):\n",
        "    self.data = data\n",
        "\n",
        "  def setNext(self, next):\n",
        "    self.next = next\n",
        "\n",
        "  def getNext(self):\n",
        "    return self.next"
      ],
      "metadata": {
        "id": "SmTCwiutxkz5"
      },
      "execution_count": null,
      "outputs": []
    },
    {
      "cell_type": "code",
      "source": [
        "class QueueLL :\n",
        "  def __init__(self):\n",
        "    self.head = None\n",
        "    self.tail = None\n",
        "    self.size =0\n",
        "\n",
        "  def isEmpty(self):\n",
        "    return self.head == None # self.tail == None\n",
        "\n",
        "  def enQue(self, data):\n",
        "    node = Node(data)\n",
        "\n",
        "    if self.isEmpty():\n",
        "      self.head = node\n",
        "      self.tail = node\n",
        "    else :\n",
        "      self.tail.setNext(node)\n",
        "      self.tail = self.tail.getNext()\n",
        "    self.size +=1\n",
        "\n",
        "  def deQueue(self):\n",
        "    if self.isEmpty():\n",
        "      print(\"Queue underflow\")\n",
        "      return\n",
        "    data = self.head.getData()\n",
        "\n",
        "    #chek if it's the only element\n",
        "    if(self.head == self.tail):\n",
        "      self.head = None\n",
        "      self.tail= None #Becase after deQue, Queue will be empty\n",
        "    else:\n",
        "      self.head = self.head.getNext()\n",
        "    self.size -= 1\n",
        "    return data\n",
        "\n",
        "  def traverse(self):\n",
        "    temp = self.head\n",
        "    while(temp ):\n",
        "      print(temp.getData(), end=\"->\")\n",
        "      temp = temp.getNext()\n",
        "    print()\n",
        "\n",
        "\n",
        "\n",
        "\n"
      ],
      "metadata": {
        "id": "78HGIzLwxnT8"
      },
      "execution_count": null,
      "outputs": []
    },
    {
      "cell_type": "markdown",
      "source": [
        "1. Revise Recursion\n",
        "\n",
        "2. Implement Stack using Queue\n",
        "\n",
        "2. Implement Queue using Stack"
      ],
      "metadata": {
        "id": "_qOwsHgpzuVB"
      }
    },
    {
      "cell_type": "code",
      "source": [],
      "metadata": {
        "id": "B1qPqV68ztxz"
      },
      "execution_count": null,
      "outputs": []
    }
  ]
}