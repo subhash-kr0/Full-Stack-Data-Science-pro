{
 "cells": [
  {
   "cell_type": "code",
   "execution_count": null,
   "id": "4c224d2f",
   "metadata": {},
   "outputs": [],
   "source": [
    "if \n",
    "if else\n",
    "if elif else"
   ]
  },
  {
   "cell_type": "code",
   "execution_count": 6,
   "id": "e365ec13",
   "metadata": {},
   "outputs": [
    {
     "data": {
      "text/plain": [
       "100"
      ]
     },
     "execution_count": 6,
     "metadata": {},
     "output_type": "execute_result"
    }
   ],
   "source": [
    "a = 100\n",
    "a"
   ]
  },
  {
   "cell_type": "code",
   "execution_count": 7,
   "id": "9f1930d3",
   "metadata": {},
   "outputs": [
    {
     "name": "stdout",
     "output_type": "stream",
     "text": [
      "The no is greater than 10\n"
     ]
    }
   ],
   "source": [
    "if a > 10:\n",
    "    print(\"The no is greater than 10\")"
   ]
  },
  {
   "cell_type": "code",
   "execution_count": 8,
   "id": "d797bf5b",
   "metadata": {},
   "outputs": [
    {
     "data": {
      "text/plain": [
       "True"
      ]
     },
     "execution_count": 8,
     "metadata": {},
     "output_type": "execute_result"
    }
   ],
   "source": [
    "a > 10"
   ]
  },
  {
   "cell_type": "code",
   "execution_count": 10,
   "id": "17ecafa7",
   "metadata": {},
   "outputs": [],
   "source": [
    "a = 4\n",
    "if a > 10:\n",
    "    print(\"greater\")"
   ]
  },
  {
   "cell_type": "code",
   "execution_count": 11,
   "id": "75ce6cf7",
   "metadata": {},
   "outputs": [
    {
     "data": {
      "text/plain": [
       "False"
      ]
     },
     "execution_count": 11,
     "metadata": {},
     "output_type": "execute_result"
    }
   ],
   "source": [
    "a > 10"
   ]
  },
  {
   "cell_type": "code",
   "execution_count": 12,
   "id": "5c5de4fe",
   "metadata": {},
   "outputs": [],
   "source": [
    "if a > 10:\n",
    "    print(\"it will enter inside this block\")"
   ]
  },
  {
   "cell_type": "code",
   "execution_count": 15,
   "id": "44a58b13",
   "metadata": {},
   "outputs": [
    {
     "name": "stdout",
     "output_type": "stream",
     "text": [
      "go to sleep\n"
     ]
    }
   ],
   "source": [
    "weather = \"rainy\"\n",
    "if weather == \"sunny\":\n",
    "    print(\"go to play cricket\")\n",
    "else:\n",
    "    print(\"go to sleep\")"
   ]
  },
  {
   "cell_type": "code",
   "execution_count": 17,
   "id": "75aca429",
   "metadata": {},
   "outputs": [
    {
     "name": "stdout",
     "output_type": "stream",
     "text": [
      "go for hiking\n"
     ]
    }
   ],
   "source": [
    "weather = \"spring\"\n",
    "if weather == \"sunny\":\n",
    "    print(\"go to play cricket\")\n",
    "elif weather == \"rainy\":\n",
    "    print(\"go to play football\")\n",
    "elif weather == \"spring\":\n",
    "    print(\"go for hiking\")\n",
    "else:\n",
    "    print(\"go to sleep\")"
   ]
  },
  {
   "cell_type": "code",
   "execution_count": 20,
   "id": "e82d44eb",
   "metadata": {},
   "outputs": [],
   "source": [
    "weather = \"spring\"\n",
    "if weather == \"sunny\":\n",
    "    print(\"go to play cricket\")\n",
    "elif weather == \"rainy\":\n",
    "    print(\"go to play football\")"
   ]
  },
  {
   "cell_type": "code",
   "execution_count": 31,
   "id": "842a7a43",
   "metadata": {},
   "outputs": [
    {
     "name": "stdout",
     "output_type": "stream",
     "text": [
      "enter a number100\n",
      "the no is equals to 100\n"
     ]
    }
   ],
   "source": [
    "a = int(input(\"enter a number\"))\n",
    "if a  > 100:\n",
    "    print(\"a greater than 100\")\n",
    "elif a == 100:\n",
    "    print(\"the no is equals to 100\")\n",
    "else:\n",
    "    print(\"no is less than 100\")"
   ]
  },
  {
   "cell_type": "code",
   "execution_count": 33,
   "id": "3b935a9a",
   "metadata": {},
   "outputs": [
    {
     "name": "stdout",
     "output_type": "stream",
     "text": [
      "The grade is B\n"
     ]
    }
   ],
   "source": [
    "score = 85\n",
    "sports = \"True\"\n",
    "if score >= 90:\n",
    "    print(\"The grade is A+\")\n",
    "elif score>=80 and score<90:\n",
    "    print(\"The grade is B\")\n",
    "\n",
    "else:\n",
    "    print(\"you are fail\")"
   ]
  },
  {
   "cell_type": "code",
   "execution_count": 36,
   "id": "aedd6a9a",
   "metadata": {},
   "outputs": [
    {
     "name": "stdout",
     "output_type": "stream",
     "text": [
      "You are fail\n"
     ]
    }
   ],
   "source": [
    "score = 85\n",
    "sports = \"False\"\n",
    "if score >=90:\n",
    "    print(\"The grade is A+\")\n",
    "elif (score >=80) and (score <90) and (sports == \"True\"):\n",
    "    print(\"The grade is B\")\n",
    "else:\n",
    "    print(\"You are fail\")\n"
   ]
  },
  {
   "cell_type": "code",
   "execution_count": 37,
   "id": "ffdf4028",
   "metadata": {},
   "outputs": [
    {
     "name": "stdout",
     "output_type": "stream",
     "text": [
      "night\n"
     ]
    }
   ],
   "source": [
    "t = 0\n",
    "if t< 0:\n",
    "    print(\"invalid\")\n",
    "elif 0<=t<5:\n",
    "    print(\"night\")\n",
    "elif 6<=t<=11:\n",
    "    print(\"morning\")\n",
    "elif 12<=t<=17:\n",
    "    print(\"afternoon\")\n",
    "elif 18<=t<=23:\n",
    "    print(\"night\")\n",
    "else:\n",
    "    print(\"invalid\")\n"
   ]
  },
  {
   "cell_type": "code",
   "execution_count": null,
   "id": "d9cb69bf",
   "metadata": {},
   "outputs": [],
   "source": [
    "#Find the largest number of given three numbers"
   ]
  },
  {
   "cell_type": "code",
   "execution_count": 38,
   "id": "29dc2b36",
   "metadata": {},
   "outputs": [
    {
     "name": "stdout",
     "output_type": "stream",
     "text": [
      "Enter the first number: 1\n",
      "Enter the second number: 2\n",
      "Enter the third number: 3\n",
      "The largest number is: 3\n"
     ]
    }
   ],
   "source": [
    "num1 = int(input(\"Enter the first number: \"))\n",
    "num2 = int(input(\"Enter the second number: \"))\n",
    "num3 = int(input(\"Enter the third number: \"))\n",
    "\n",
    "if (num1 > num2) and (num1 > num3):\n",
    "    largest_number = num1\n",
    "elif (num2 > num1) and (num2 > num3):\n",
    "    largest_number = num2\n",
    "else:\n",
    "    largest_number = num3\n",
    "\n",
    "print(\"The largest number is:\", largest_number)\n"
   ]
  },
  {
   "cell_type": "code",
   "execution_count": 3,
   "id": "809670de",
   "metadata": {},
   "outputs": [
    {
     "name": "stdout",
     "output_type": "stream",
     "text": [
      "the first if condition is satisfied\n",
      "first if is true but second of not true thatswhy in else block it means that no is not 10\n"
     ]
    }
   ],
   "source": [
    "num = 50\n",
    "\n",
    "if (num >= 10):\n",
    "    print(\"the first if condition is satisfied\")\n",
    "    if (num == 10) :\n",
    "        print(\"First if is true and 2nd if is also true >> it means number is 10\")\n",
    "    else:\n",
    "        print(\"first if is true but second of not true thatswhy in else block it means that no is not 10\")\n",
    "else:\n",
    "    print(\"The first if is not satisfied>>it means the number is less than 10\")"
   ]
  },
  {
   "cell_type": "code",
   "execution_count": null,
   "id": "ac85dc5a",
   "metadata": {},
   "outputs": [],
   "source": []
  },
  {
   "cell_type": "code",
   "execution_count": null,
   "id": "08f18073",
   "metadata": {},
   "outputs": [],
   "source": []
  },
  {
   "cell_type": "code",
   "execution_count": 28,
   "id": "3860c90d",
   "metadata": {},
   "outputs": [
    {
     "data": {
      "text/plain": [
       "str"
      ]
     },
     "execution_count": 28,
     "metadata": {},
     "output_type": "execute_result"
    }
   ],
   "source": [
    "type(a)"
   ]
  },
  {
   "cell_type": "code",
   "execution_count": null,
   "id": "5dc5ad9e",
   "metadata": {},
   "outputs": [],
   "source": []
  },
  {
   "cell_type": "code",
   "execution_count": null,
   "id": "b2304114",
   "metadata": {},
   "outputs": [],
   "source": []
  }
 ],
 "metadata": {
  "kernelspec": {
   "display_name": "Python 3 (ipykernel)",
   "language": "python",
   "name": "python3"
  },
  "language_info": {
   "codemirror_mode": {
    "name": "ipython",
    "version": 3
   },
   "file_extension": ".py",
   "mimetype": "text/x-python",
   "name": "python",
   "nbconvert_exporter": "python",
   "pygments_lexer": "ipython3",
   "version": "3.11.4"
  }
 },
 "nbformat": 4,
 "nbformat_minor": 5
}
