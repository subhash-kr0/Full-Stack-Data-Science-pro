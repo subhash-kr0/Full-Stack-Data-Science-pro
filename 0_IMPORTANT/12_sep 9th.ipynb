{
 "cells": [
  {
   "cell_type": "code",
   "execution_count": 3,
   "id": "1e3b397b-2cc2-4302-9eb4-494130734223",
   "metadata": {},
   "outputs": [
    {
     "name": "stdout",
     "output_type": "stream",
     "text": [
      "negative number\n",
      "this is always prints\n"
     ]
    }
   ],
   "source": [
    "number = -1\n",
    "\n",
    "if number > 0:\n",
    "    print(\"positive number\")\n",
    "elif number == 0:\n",
    "    print(\"zer0\")\n",
    "else:\n",
    "    print(\"negative number\")\n",
    "    \n",
    "print(\"this is always prints\")"
   ]
  },
  {
   "cell_type": "code",
   "execution_count": 5,
   "id": "9f38e075-5444-49a8-bf5e-046aa86f7c5f",
   "metadata": {},
   "outputs": [
    {
     "name": "stdout",
     "output_type": "stream",
     "text": [
      "0\n",
      "1\n",
      "2\n",
      "3\n",
      "4\n"
     ]
    }
   ],
   "source": [
    "for i in range(5):\n",
    "    print(i)"
   ]
  },
  {
   "cell_type": "code",
   "execution_count": 7,
   "id": "d0041729-2f3b-4f9c-9465-959b9cf92a95",
   "metadata": {},
   "outputs": [
    {
     "name": "stdout",
     "output_type": "stream",
     "text": [
      "today is mon\n",
      "today is tue\n",
      "today is wed\n",
      "today is thu\n",
      "today is fri\n",
      "today is sat\n",
      "today is sun\n"
     ]
    }
   ],
   "source": [
    "days=0\n",
    "week=['mon','tue','wed','thu','fri','sat','sun']\n",
    "\n",
    "while days<7:\n",
    "    print(\"today is \" + week[days])\n",
    "    days +=1\n",
    "    # days= days+1"
   ]
  },
  {
   "cell_type": "code",
   "execution_count": null,
   "id": "28d480ec-244d-477c-81dd-85fe3d4a5bdd",
   "metadata": {},
   "outputs": [],
   "source": [
    "week[0]"
   ]
  },
  {
   "cell_type": "code",
   "execution_count": null,
   "id": "a0cb7f8f-b6d1-489a-b47b-5d619b34db20",
   "metadata": {},
   "outputs": [],
   "source": [
    "# split"
   ]
  },
  {
   "cell_type": "code",
   "execution_count": 8,
   "id": "d18920dc-18db-4b29-801d-dd3ff73e4bb4",
   "metadata": {},
   "outputs": [
    {
     "data": {
      "text/plain": [
       "['i', 'write', 'code']"
      ]
     },
     "execution_count": 8,
     "metadata": {},
     "output_type": "execute_result"
    }
   ],
   "source": [
    "text=\" i write code\"\n",
    "\n",
    "text.split()"
   ]
  },
  {
   "cell_type": "code",
   "execution_count": 9,
   "id": "7b8cbeca-e429-4872-8c34-d95aca8d951c",
   "metadata": {},
   "outputs": [
    {
     "data": {
      "text/plain": [
       "['i', 'love', 'python']"
      ]
     },
     "execution_count": 9,
     "metadata": {},
     "output_type": "execute_result"
    }
   ],
   "source": [
    "text='i love python'\n",
    "\n",
    "text.split()"
   ]
  },
  {
   "cell_type": "code",
   "execution_count": 10,
   "id": "f8d39a12-9bb5-47ed-9fe7-d65e8bb2e1e3",
   "metadata": {},
   "outputs": [
    {
     "name": "stdin",
     "output_type": "stream",
     "text": [
      "enter 3 word message welocme to pwskills\n"
     ]
    }
   ],
   "source": [
    "x = input(\"enter 3 word message\")\n",
    "\n",
    "\n"
   ]
  },
  {
   "cell_type": "code",
   "execution_count": 11,
   "id": "848584fc-3ebf-42c7-a8c2-37303301a707",
   "metadata": {},
   "outputs": [],
   "source": [
    "y=1"
   ]
  },
  {
   "cell_type": "code",
   "execution_count": 12,
   "id": "6b85770e-f1d0-4e69-8ada-c510d47dc571",
   "metadata": {},
   "outputs": [],
   "source": [
    "y,w=2,3"
   ]
  },
  {
   "cell_type": "code",
   "execution_count": 13,
   "id": "e94dd25b-1f38-477e-a763-20654f3bffe2",
   "metadata": {},
   "outputs": [],
   "source": [
    "word1,word2,word3=x.split()"
   ]
  },
  {
   "cell_type": "code",
   "execution_count": 14,
   "id": "24ee1c5b-fe22-40f1-b1b8-46e0a42fe9cd",
   "metadata": {},
   "outputs": [
    {
     "data": {
      "text/plain": [
       "'welocme'"
      ]
     },
     "execution_count": 14,
     "metadata": {},
     "output_type": "execute_result"
    }
   ],
   "source": [
    "word1"
   ]
  },
  {
   "cell_type": "code",
   "execution_count": 15,
   "id": "0fa10f8b-71fc-426e-8513-179668437074",
   "metadata": {},
   "outputs": [
    {
     "data": {
      "text/plain": [
       "'to'"
      ]
     },
     "execution_count": 15,
     "metadata": {},
     "output_type": "execute_result"
    }
   ],
   "source": [
    "word2"
   ]
  },
  {
   "cell_type": "code",
   "execution_count": 16,
   "id": "1a8c75a7-c6e5-46bb-9b41-0a9030ca3966",
   "metadata": {},
   "outputs": [
    {
     "data": {
      "text/plain": [
       "'pwskills'"
      ]
     },
     "execution_count": 16,
     "metadata": {},
     "output_type": "execute_result"
    }
   ],
   "source": [
    "word3"
   ]
  },
  {
   "cell_type": "code",
   "execution_count": 18,
   "id": "b94c6902-8ada-48f4-a264-b34366f75f77",
   "metadata": {},
   "outputs": [
    {
     "name": "stdin",
     "output_type": "stream",
     "text": [
      "enter 1st number 2\n",
      "enter 2nd number 4\n"
     ]
    },
    {
     "name": "stdout",
     "output_type": "stream",
     "text": [
      "6\n"
     ]
    }
   ],
   "source": [
    "a = int(input(\"enter 1st number\"))\n",
    "b = int(input(\"enter 2nd number\"))\n",
    "print(a+b)"
   ]
  },
  {
   "cell_type": "code",
   "execution_count": 19,
   "id": "9aa3388e-bbf0-4cdb-9157-dbe3967d135b",
   "metadata": {},
   "outputs": [
    {
     "name": "stdin",
     "output_type": "stream",
     "text": [
      "enter two number 2 3\n"
     ]
    },
    {
     "name": "stdout",
     "output_type": "stream",
     "text": [
      "5\n"
     ]
    }
   ],
   "source": [
    "a,b= input(\"enter two number\").split()\n",
    "c= int(a)+int(b)\n",
    "\n",
    "print(c)"
   ]
  },
  {
   "cell_type": "code",
   "execution_count": 21,
   "id": "82490984-f95e-4911-98b8-57f531685c49",
   "metadata": {},
   "outputs": [
    {
     "name": "stdin",
     "output_type": "stream",
     "text": [
      "enter two number sepreated by spaces 3 6\n"
     ]
    },
    {
     "name": "stdout",
     "output_type": "stream",
     "text": [
      "9\n"
     ]
    }
   ],
   "source": [
    "x = input(\"enter two number sepreated by spaces\")\n",
    "sum = int(x.split()[0]) + int(x.split()[1])\n",
    "print(sum)\n"
   ]
  },
  {
   "cell_type": "code",
   "execution_count": 24,
   "id": "af8af6d2-3656-46a5-bd2e-0ef282a4d714",
   "metadata": {},
   "outputs": [
    {
     "name": "stdin",
     "output_type": "stream",
     "text": [
      "enter roll no, name and percentage 34 pw 56\n"
     ]
    },
    {
     "name": "stdout",
     "output_type": "stream",
     "text": [
      "34\n",
      "pw\n",
      "56\n"
     ]
    }
   ],
   "source": [
    "s= input(\"enter roll no, name and percentage\")\n",
    "roll,name,percent=s.split()\n",
    "print(roll)\n",
    "print(name)\n",
    "print(percent)"
   ]
  },
  {
   "cell_type": "code",
   "execution_count": 28,
   "id": "620009cf-225b-4d18-91f4-8bdee1a7fb3e",
   "metadata": {},
   "outputs": [
    {
     "name": "stdout",
     "output_type": "stream",
     "text": [
      "['A', 'B', 'C', 'D E F']\n"
     ]
    }
   ],
   "source": [
    "s1=\"A B C D E F\"\n",
    "print(s1.split(' ',3))"
   ]
  },
  {
   "cell_type": "code",
   "execution_count": 30,
   "id": "4e1c506f-7616-4e05-8bb3-31e202620634",
   "metadata": {},
   "outputs": [
    {
     "data": {
      "text/plain": [
       "['HI', 'HI', 'HI@HI@HI']"
      ]
     },
     "execution_count": 30,
     "metadata": {},
     "output_type": "execute_result"
    }
   ],
   "source": [
    "s1=\"HI@HI@HI@HI@HI\"\n",
    "\n",
    "s1.split('@',2)"
   ]
  },
  {
   "cell_type": "code",
   "execution_count": 31,
   "id": "8eaaf304-887b-4391-8ea1-ebcabd187c9b",
   "metadata": {},
   "outputs": [
    {
     "name": "stdout",
     "output_type": "stream",
     "text": [
      "letter p\n",
      "letter w\n",
      "letter s\n",
      "letter k\n",
      "letter i\n",
      "letter l\n",
      "letter l\n",
      "letter s\n"
     ]
    }
   ],
   "source": [
    "for letter in \"pwskills\":\n",
    "    print('letter', letter)"
   ]
  },
  {
   "cell_type": "code",
   "execution_count": 32,
   "id": "5ac9715b-6c72-47af-8b43-0a81fe79968f",
   "metadata": {},
   "outputs": [
    {
     "name": "stdout",
     "output_type": "stream",
     "text": [
      "letter p\n",
      "letter w\n",
      "letter s\n",
      "letter k\n",
      "letter i\n"
     ]
    }
   ],
   "source": [
    "for letter in \"pwskills\":\n",
    "    if letter == \"l\":\n",
    "        break\n",
    "    print('letter', letter)"
   ]
  },
  {
   "cell_type": "code",
   "execution_count": 33,
   "id": "3ba6676b-a4da-4b5a-a84b-d844a13038d7",
   "metadata": {},
   "outputs": [
    {
     "name": "stdout",
     "output_type": "stream",
     "text": [
      "0\n",
      "1\n",
      "2\n"
     ]
    }
   ],
   "source": [
    "for i in range(5):\n",
    "    if i==3:\n",
    "        break\n",
    "    print(i)"
   ]
  },
  {
   "cell_type": "code",
   "execution_count": 35,
   "id": "def1f291-9fb5-47e1-a492-a4a900bf0224",
   "metadata": {},
   "outputs": [
    {
     "data": {
      "text/plain": [
       "[0, 1, 2, 3, 4]"
      ]
     },
     "execution_count": 35,
     "metadata": {},
     "output_type": "execute_result"
    }
   ],
   "source": [
    "list(range(5))"
   ]
  },
  {
   "cell_type": "code",
   "execution_count": 36,
   "id": "72b9b3c4-96c6-4ddb-ad22-92c2040fa811",
   "metadata": {},
   "outputs": [
    {
     "name": "stdout",
     "output_type": "stream",
     "text": [
      "1\n",
      "2\n",
      "3\n",
      "4\n",
      "5\n"
     ]
    }
   ],
   "source": [
    "i = 1\n",
    "\n",
    "while i<=10:\n",
    "    print(i)\n",
    "    \n",
    "    if i >=5:\n",
    "        break\n",
    "    i=i+1"
   ]
  },
  {
   "cell_type": "code",
   "execution_count": 37,
   "id": "12d7c31e-64b8-40e9-9fed-001c32f70e8d",
   "metadata": {},
   "outputs": [
    {
     "name": "stdout",
     "output_type": "stream",
     "text": [
      "10\n",
      "20\n",
      "30\n",
      "40\n"
     ]
    }
   ],
   "source": [
    "numbers = [10,20,30,40,120,230]\n",
    "\n",
    "for i in numbers:\n",
    "    if i>100:\n",
    "        break\n",
    "    print(i)"
   ]
  },
  {
   "cell_type": "code",
   "execution_count": 38,
   "id": "7b4d43eb-f7e3-4947-803c-1a4ea12e509d",
   "metadata": {},
   "outputs": [
    {
     "name": "stdout",
     "output_type": "stream",
     "text": [
      "h\n",
      "e\n",
      "l\n",
      "l\n",
      "o\n",
      ",\n"
     ]
    }
   ],
   "source": [
    "s= \"hello, world\"\n",
    "for char in s:\n",
    "    print(char)\n",
    "    if char == ',':\n",
    "        break"
   ]
  },
  {
   "cell_type": "code",
   "execution_count": 40,
   "id": "6019e9ee-4eb4-432a-b9e6-f004be19c61c",
   "metadata": {},
   "outputs": [
    {
     "name": "stdout",
     "output_type": "stream",
     "text": [
      "p\n",
      "w\n",
      "s\n",
      "k\n",
      "i\n",
      "s\n"
     ]
    }
   ],
   "source": [
    "for letter in \"pwskills\":\n",
    "    if letter == 'l':\n",
    "        continue\n",
    "    print(letter)"
   ]
  },
  {
   "cell_type": "code",
   "execution_count": 41,
   "id": "a970ee8f-983f-411b-87df-bd0b9f67e0b1",
   "metadata": {},
   "outputs": [
    {
     "name": "stdout",
     "output_type": "stream",
     "text": [
      "0\n",
      "1\n",
      "2\n",
      "4\n"
     ]
    }
   ],
   "source": [
    "for i in range(5):\n",
    "    if i ==3:\n",
    "        continue\n",
    "    print(i)\n",
    "    \n",
    "    \n",
    "# break --- end the loop\n",
    "# continue -- skip the loop"
   ]
  },
  {
   "cell_type": "code",
   "execution_count": null,
   "id": "fd3478f5-8d69-49b4-9a16-49077af1ab44",
   "metadata": {},
   "outputs": [],
   "source": [
    "# write a program to print odd number from 1 to 10"
   ]
  },
  {
   "cell_type": "code",
   "execution_count": 42,
   "id": "43fecdf5-3309-44e4-bdba-cb4ad26029ee",
   "metadata": {},
   "outputs": [
    {
     "name": "stdout",
     "output_type": "stream",
     "text": [
      "1\n",
      "3\n",
      "5\n",
      "7\n",
      "9\n"
     ]
    }
   ],
   "source": [
    "for i in range (1,11):\n",
    "    if i%2==0:\n",
    "        continue\n",
    "    print(i)\n"
   ]
  },
  {
   "cell_type": "code",
   "execution_count": 43,
   "id": "65c8737e-c11f-48c4-8f42-32b788153a9f",
   "metadata": {},
   "outputs": [
    {
     "name": "stdout",
     "output_type": "stream",
     "text": [
      "1\n",
      "3\n",
      "5\n",
      "7\n",
      "9\n"
     ]
    }
   ],
   "source": [
    "for i in range(1,11):\n",
    "    if i%2!=0:\n",
    "        print(i)\n",
    "    else:\n",
    "        continue\n"
   ]
  },
  {
   "cell_type": "code",
   "execution_count": 44,
   "id": "a6ed787f-b4cd-4828-82a8-4a4815452d6c",
   "metadata": {},
   "outputs": [
    {
     "name": "stdout",
     "output_type": "stream",
     "text": [
      "1\n",
      "3\n",
      "5\n",
      "7\n",
      "9\n"
     ]
    }
   ],
   "source": [
    "# write a program to print odd numbers from 1 to 10\n",
    "for i in range(1,11):\n",
    "    if i % 2 == 0:\n",
    "        continue\n",
    "    print(i)\n"
   ]
  },
  {
   "cell_type": "code",
   "execution_count": 47,
   "id": "594b9098-4e3b-4782-9ef6-d139fcdfd5c8",
   "metadata": {},
   "outputs": [
    {
     "name": "stdout",
     "output_type": "stream",
     "text": [
      "hello\n"
     ]
    }
   ],
   "source": [
    "n=10\n",
    "\n",
    "if n > 10:\n",
    "    pass\n",
    "\n",
    "print('hello')"
   ]
  },
  {
   "cell_type": "code",
   "execution_count": 48,
   "id": "db02daeb-fa71-4b3c-8e6c-8477083e53e4",
   "metadata": {},
   "outputs": [],
   "source": [
    "for i in range(5):\n",
    "    pass\n"
   ]
  },
  {
   "cell_type": "code",
   "execution_count": 46,
   "id": "ef18a6ca-ce4a-47a4-9312-37847a13f957",
   "metadata": {},
   "outputs": [
    {
     "ename": "SyntaxError",
     "evalue": "incomplete input (3139233531.py, line 3)",
     "output_type": "error",
     "traceback": [
      "\u001b[0;36m  Cell \u001b[0;32mIn[46], line 3\u001b[0;36m\u001b[0m\n\u001b[0;31m    \u001b[0m\n\u001b[0m    ^\u001b[0m\n\u001b[0;31mSyntaxError\u001b[0m\u001b[0;31m:\u001b[0m incomplete input\n"
     ]
    }
   ],
   "source": [
    "if n>45:\n",
    "    \n",
    "    "
   ]
  },
  {
   "cell_type": "code",
   "execution_count": 50,
   "id": "89726fcd-2518-470c-a617-24d42add2280",
   "metadata": {},
   "outputs": [
    {
     "name": "stdout",
     "output_type": "stream",
     "text": [
      "p\n",
      "w\n",
      "s\n",
      "k\n",
      "i\n",
      "l\n",
      "l\n",
      "s\n"
     ]
    }
   ],
   "source": [
    "for letter in \"pwskills\":\n",
    "    if letter == 'i':\n",
    "        pass\n",
    "    \n",
    "    print(letter)"
   ]
  },
  {
   "cell_type": "code",
   "execution_count": null,
   "id": "99f5aaf8-3c38-4ff4-862b-3f3a470dd276",
   "metadata": {},
   "outputs": [],
   "source": [
    "# Functions"
   ]
  },
  {
   "cell_type": "code",
   "execution_count": 51,
   "id": "7656b108-0afd-4d5d-be42-f8917b85345d",
   "metadata": {},
   "outputs": [
    {
     "name": "stdout",
     "output_type": "stream",
     "text": [
      "30\n"
     ]
    }
   ],
   "source": [
    "a=10\n",
    "b=20\n",
    "print(a+b)"
   ]
  },
  {
   "cell_type": "code",
   "execution_count": 52,
   "id": "545e081f-1ed9-4388-9aaf-f2365747709a",
   "metadata": {},
   "outputs": [
    {
     "name": "stdout",
     "output_type": "stream",
     "text": [
      "114\n"
     ]
    }
   ],
   "source": [
    "a=80\n",
    "b=34\n",
    "print(a+b)"
   ]
  },
  {
   "cell_type": "code",
   "execution_count": 53,
   "id": "158d9f5a-077e-4ed7-af72-67c37da3235b",
   "metadata": {},
   "outputs": [
    {
     "name": "stdout",
     "output_type": "stream",
     "text": [
      "47\n"
     ]
    }
   ],
   "source": [
    "a=45\n",
    "b=2\n",
    "print(a+b)"
   ]
  },
  {
   "cell_type": "code",
   "execution_count": null,
   "id": "ddcb4a98-1a97-4dab-b096-780c5417f972",
   "metadata": {},
   "outputs": [],
   "source": [
    "def add_nums(a, b):\n",
    "    return a + b\n"
   ]
  },
  {
   "cell_type": "code",
   "execution_count": null,
   "id": "3f38cdb2-0688-4a4e-b856-1aad2482815c",
   "metadata": {},
   "outputs": [],
   "source": [
    "Create a function\n",
    "\n",
    "def functionname(arguments):\n",
    "    # function body\n",
    "    \n",
    "    return\n",
    "-------------------------------------\n",
    "call a function\n",
    "\n",
    "functionname()\n"
   ]
  },
  {
   "cell_type": "code",
   "execution_count": 55,
   "id": "188a1d71-c79e-4c9f-a113-550fb0f52532",
   "metadata": {},
   "outputs": [],
   "source": [
    "x=10"
   ]
  },
  {
   "cell_type": "code",
   "execution_count": 56,
   "id": "b8817b90-fd7e-4b7d-86fc-4f72168768f3",
   "metadata": {},
   "outputs": [],
   "source": [
    "def greet():\n",
    "    print(\"hello wolrd\")"
   ]
  },
  {
   "cell_type": "code",
   "execution_count": 57,
   "id": "0082099a-73fc-4558-8b28-335376674af6",
   "metadata": {},
   "outputs": [
    {
     "name": "stdout",
     "output_type": "stream",
     "text": [
      "hello wolrd\n"
     ]
    }
   ],
   "source": [
    "greet()"
   ]
  },
  {
   "cell_type": "code",
   "execution_count": 58,
   "id": "aea23da9-5d2c-44ee-85b2-21b6d8345c25",
   "metadata": {},
   "outputs": [],
   "source": [
    "def addnum():\n",
    "    a=100\n",
    "    b=233\n",
    "    c=a+b\n",
    "    print(c)"
   ]
  },
  {
   "cell_type": "code",
   "execution_count": 59,
   "id": "afde3e95-1a25-4327-b0c0-c96fb24349b1",
   "metadata": {},
   "outputs": [
    {
     "name": "stdout",
     "output_type": "stream",
     "text": [
      "333\n"
     ]
    }
   ],
   "source": [
    "addnum()"
   ]
  },
  {
   "cell_type": "code",
   "execution_count": 60,
   "id": "f02d5bcd-f1d1-48c9-8cb4-ebdf66c86748",
   "metadata": {},
   "outputs": [
    {
     "name": "stdout",
     "output_type": "stream",
     "text": [
      "333\n"
     ]
    }
   ],
   "source": [
    "addnum()"
   ]
  },
  {
   "cell_type": "code",
   "execution_count": 63,
   "id": "eda65f08-f0f4-40de-8005-831656140ef2",
   "metadata": {},
   "outputs": [],
   "source": [
    "def addtwonumbers():\n",
    "    a=input(\"enter first number\")\n",
    "    b=input(\"enter second number\")\n",
    "    c=int(a)+int(b)\n",
    "    print(c)"
   ]
  },
  {
   "cell_type": "code",
   "execution_count": 64,
   "id": "fbc8fea0-5ec8-4dac-8f0b-adcc9e9d48d2",
   "metadata": {},
   "outputs": [
    {
     "name": "stdin",
     "output_type": "stream",
     "text": [
      "enter first number 5\n",
      "enter second number 8\n"
     ]
    },
    {
     "name": "stdout",
     "output_type": "stream",
     "text": [
      "13\n"
     ]
    }
   ],
   "source": [
    "addtwonumbers()"
   ]
  },
  {
   "cell_type": "code",
   "execution_count": 65,
   "id": "b5086e25-b465-4adc-83ce-80b65d64d3ff",
   "metadata": {},
   "outputs": [
    {
     "name": "stdin",
     "output_type": "stream",
     "text": [
      "enter first number 4\n",
      "enter second number 9\n"
     ]
    },
    {
     "name": "stdout",
     "output_type": "stream",
     "text": [
      "13\n"
     ]
    }
   ],
   "source": [
    "addtwonumbers()"
   ]
  },
  {
   "cell_type": "code",
   "execution_count": 66,
   "id": "bb5e96d1-28f5-4c3e-9d71-9a01d30024d2",
   "metadata": {},
   "outputs": [],
   "source": [
    "def multwonumbers(x,y):\n",
    "    a=x\n",
    "    b=y\n",
    "    c=a*b\n",
    "    print(c)"
   ]
  },
  {
   "cell_type": "code",
   "execution_count": 68,
   "id": "36635ca0-a7bf-45d3-ad50-062cbd902536",
   "metadata": {},
   "outputs": [
    {
     "name": "stdout",
     "output_type": "stream",
     "text": [
      "8\n"
     ]
    }
   ],
   "source": [
    "multwonumbers(2,4)"
   ]
  },
  {
   "cell_type": "code",
   "execution_count": 69,
   "id": "0af263fc-b1dc-4b9d-a96a-d033d2c47b79",
   "metadata": {},
   "outputs": [],
   "source": [
    "def introduction(name):\n",
    "    print(\"hi\",name)"
   ]
  },
  {
   "cell_type": "code",
   "execution_count": 71,
   "id": "c8d1df0c-bd83-464b-8844-28ac52c44385",
   "metadata": {},
   "outputs": [
    {
     "name": "stdout",
     "output_type": "stream",
     "text": [
      "hi pwskills\n"
     ]
    }
   ],
   "source": [
    "introduction('pwskills')"
   ]
  },
  {
   "cell_type": "code",
   "execution_count": 73,
   "id": "7e7cc4d7-6eda-4e93-b736-0a8d1026f5f0",
   "metadata": {},
   "outputs": [],
   "source": [
    "def introduction(name,lastname):\n",
    "    print(\"hi\", name+lastname)\n"
   ]
  },
  {
   "cell_type": "code",
   "execution_count": 74,
   "id": "66ed2297-7ca1-4b0a-bd0e-dbc5f2675e34",
   "metadata": {},
   "outputs": [
    {
     "name": "stdout",
     "output_type": "stream",
     "text": [
      "hi pwskills\n"
     ]
    }
   ],
   "source": [
    "introduction(\"pw\",\"skills\")"
   ]
  },
  {
   "cell_type": "code",
   "execution_count": null,
   "id": "a6648a0e-fde3-4801-a0a6-f81cede1bcf2",
   "metadata": {},
   "outputs": [],
   "source": [
    "-21   21\n"
   ]
  },
  {
   "cell_type": "code",
   "execution_count": 75,
   "id": "bd44ce31-32e0-4855-ac1f-4bc959b434b9",
   "metadata": {},
   "outputs": [],
   "source": [
    "def absolute(n):\n",
    "    if n>0:\n",
    "        print(n)\n",
    "    else:\n",
    "        print(-n)"
   ]
  },
  {
   "cell_type": "code",
   "execution_count": 78,
   "id": "f86f8182-91fc-4d86-bd1e-9d547f0ba903",
   "metadata": {},
   "outputs": [
    {
     "name": "stdout",
     "output_type": "stream",
     "text": [
      "85\n"
     ]
    }
   ],
   "source": [
    "absolute(-85)"
   ]
  },
  {
   "cell_type": "code",
   "execution_count": 102,
   "id": "f093d5dc-542b-491f-833f-974191990c39",
   "metadata": {},
   "outputs": [],
   "source": [
    "def fullname(a,b):\n",
    "    c=a+b\n",
    "    return (c)"
   ]
  },
  {
   "cell_type": "code",
   "execution_count": 103,
   "id": "08ada7cf-ed6d-47b4-af1a-a539329e32f5",
   "metadata": {},
   "outputs": [],
   "source": [
    "x=fullname('pw','skills')"
   ]
  },
  {
   "cell_type": "code",
   "execution_count": 104,
   "id": "743f6429-be46-43fb-8dbb-c3bc162f3ca5",
   "metadata": {},
   "outputs": [
    {
     "data": {
      "text/plain": [
       "str"
      ]
     },
     "execution_count": 104,
     "metadata": {},
     "output_type": "execute_result"
    }
   ],
   "source": [
    "type(x)"
   ]
  },
  {
   "cell_type": "code",
   "execution_count": 105,
   "id": "2f7d4fcf-2826-4add-af1d-bc2da5f7d670",
   "metadata": {},
   "outputs": [
    {
     "data": {
      "text/plain": [
       "'pwskills'"
      ]
     },
     "execution_count": 105,
     "metadata": {},
     "output_type": "execute_result"
    }
   ],
   "source": [
    "x"
   ]
  },
  {
   "cell_type": "code",
   "execution_count": 118,
   "id": "67f7bba1-449a-4bb2-aa9a-d6a8e4d59027",
   "metadata": {},
   "outputs": [],
   "source": [
    "def fullname(a,b):\n",
    "    c=a+b\n",
    "    print(c)"
   ]
  },
  {
   "cell_type": "code",
   "execution_count": null,
   "id": "680c17b5-ad01-489a-81d1-6428edec5de5",
   "metadata": {},
   "outputs": [],
   "source": []
  },
  {
   "cell_type": "code",
   "execution_count": 119,
   "id": "f8961ee0-9a0c-4e8c-a264-7fd6ee5ad111",
   "metadata": {},
   "outputs": [
    {
     "name": "stdout",
     "output_type": "stream",
     "text": [
      "pwskills\n"
     ]
    }
   ],
   "source": [
    "x=fullname('pw','skills')"
   ]
  },
  {
   "cell_type": "code",
   "execution_count": null,
   "id": "5eeb0354-651c-42d2-85f5-5bad16e6a883",
   "metadata": {},
   "outputs": [],
   "source": []
  },
  {
   "cell_type": "code",
   "execution_count": 120,
   "id": "96db6848-568f-491e-b185-f262d38fbc5d",
   "metadata": {},
   "outputs": [
    {
     "data": {
      "text/plain": [
       "NoneType"
      ]
     },
     "execution_count": 120,
     "metadata": {},
     "output_type": "execute_result"
    }
   ],
   "source": [
    "type(x)"
   ]
  },
  {
   "cell_type": "code",
   "execution_count": 111,
   "id": "6fe6f4a5-833c-43de-8bf3-59eb95af3764",
   "metadata": {},
   "outputs": [],
   "source": [
    "def fullname(a,b):\n",
    "    c=a+b\n",
    "    return (c)"
   ]
  },
  {
   "cell_type": "code",
   "execution_count": 112,
   "id": "7fd857b3-d13d-42b4-98c4-aa0005fa3cf3",
   "metadata": {},
   "outputs": [],
   "source": [
    "y=fullname('pw','skills')"
   ]
  },
  {
   "cell_type": "code",
   "execution_count": 113,
   "id": "1ae09954-2b48-43d7-9a8b-3848a044795b",
   "metadata": {},
   "outputs": [
    {
     "data": {
      "text/plain": [
       "'pwskills'"
      ]
     },
     "execution_count": 113,
     "metadata": {},
     "output_type": "execute_result"
    }
   ],
   "source": [
    "y"
   ]
  },
  {
   "cell_type": "code",
   "execution_count": 114,
   "id": "fa3b6645-692d-47c0-a2e4-1640ac53c37b",
   "metadata": {},
   "outputs": [],
   "source": [
    "def fullname(a,b):\n",
    "    c=a+b\n",
    "    return"
   ]
  },
  {
   "cell_type": "code",
   "execution_count": 115,
   "id": "f5ab794c-c4ca-48ab-b0b2-edccfac309fe",
   "metadata": {},
   "outputs": [],
   "source": [
    "w=fullname('pw','skills')"
   ]
  },
  {
   "cell_type": "code",
   "execution_count": 117,
   "id": "c0affe13-a691-4102-aeb4-5df9ad60213f",
   "metadata": {},
   "outputs": [
    {
     "data": {
      "text/plain": [
       "NoneType"
      ]
     },
     "execution_count": 117,
     "metadata": {},
     "output_type": "execute_result"
    }
   ],
   "source": [
    "type(w)"
   ]
  },
  {
   "cell_type": "code",
   "execution_count": 128,
   "id": "8a889e06-1788-4cd1-beb7-a510e124d93f",
   "metadata": {},
   "outputs": [],
   "source": [
    "def calculator(a,b):\n",
    "    c=a+b\n",
    "    d=a-b\n",
    "    e=a*b\n",
    "    return c,d,e\n"
   ]
  },
  {
   "cell_type": "code",
   "execution_count": 129,
   "id": "638e077d-d0d7-4851-ada0-e275d7fc0384",
   "metadata": {},
   "outputs": [],
   "source": [
    "x=calculator(3,4)"
   ]
  },
  {
   "cell_type": "code",
   "execution_count": 130,
   "id": "ac16c44c-4cb5-4185-9ea6-dacf33dbf7c6",
   "metadata": {},
   "outputs": [
    {
     "data": {
      "text/plain": [
       "tuple"
      ]
     },
     "execution_count": 130,
     "metadata": {},
     "output_type": "execute_result"
    }
   ],
   "source": [
    "type(x)"
   ]
  },
  {
   "cell_type": "code",
   "execution_count": 126,
   "id": "cee361f6-474e-4474-906c-74a11f1655ad",
   "metadata": {},
   "outputs": [],
   "source": [
    "def calculator():\n",
    "    a = int(input(\"enter first number: \"))\n",
    "    b = int(input(\"enter second number: \"))\n",
    "    summ = a + b\n",
    "    subtract = a - b\n",
    "    divide = a // b\n",
    "    return summ, subtract, divide\n"
   ]
  },
  {
   "cell_type": "code",
   "execution_count": null,
   "id": "a5f9be24-5ff2-492d-aedf-337a472e2e80",
   "metadata": {},
   "outputs": [],
   "source": []
  },
  {
   "cell_type": "code",
   "execution_count": 127,
   "id": "bbe62a8d-c0cf-4e15-97a7-3aff332b2da7",
   "metadata": {},
   "outputs": [
    {
     "name": "stdin",
     "output_type": "stream",
     "text": [
      "enter first number:  5\n",
      "enter second number:  2\n"
     ]
    },
    {
     "data": {
      "text/plain": [
       "(7, 3, 2)"
      ]
     },
     "execution_count": 127,
     "metadata": {},
     "output_type": "execute_result"
    }
   ],
   "source": [
    "calculator()"
   ]
  },
  {
   "cell_type": "code",
   "execution_count": 131,
   "id": "dc9d2a7b-583a-49c1-a882-b610963e936a",
   "metadata": {},
   "outputs": [],
   "source": [
    "def cal(a,b):\n",
    "    oper = input(\"enter a operator\")\n",
    "    if(oper == \"add\"):\n",
    "        return a+b\n",
    "    elif(oper == \"sub\"):\n",
    "        return a-b\n",
    "    elif(oper == \"mul\"):\n",
    "        return a*b\n",
    "    else:\n",
    "        return a/b\n"
   ]
  },
  {
   "cell_type": "code",
   "execution_count": 132,
   "id": "4412071e-1c2c-44bd-bf79-eefba198cfac",
   "metadata": {},
   "outputs": [
    {
     "name": "stdin",
     "output_type": "stream",
     "text": [
      "enter a operator add\n"
     ]
    },
    {
     "data": {
      "text/plain": [
       "13"
      ]
     },
     "execution_count": 132,
     "metadata": {},
     "output_type": "execute_result"
    }
   ],
   "source": [
    "cal(6,7)"
   ]
  },
  {
   "cell_type": "code",
   "execution_count": null,
   "id": "84286d85-4fcb-49b1-ae18-62c51ba07f64",
   "metadata": {},
   "outputs": [],
   "source": [
    "find area of circle ------ 3.14*r*r\n",
    "find area of rec ------ l*b\n",
    "find area of triangle- 1/2*b*h "
   ]
  },
  {
   "cell_type": "code",
   "execution_count": 135,
   "id": "5ef3ef2a-93da-4281-aa78-de4c2aa71942",
   "metadata": {},
   "outputs": [],
   "source": [
    "def area(radius):\n",
    "    return 3.14*radius*radius\n"
   ]
  },
  {
   "cell_type": "code",
   "execution_count": 136,
   "id": "c26fa23d-1118-4030-ba39-fea698ef5d21",
   "metadata": {},
   "outputs": [
    {
     "data": {
      "text/plain": [
       "28.259999999999998"
      ]
     },
     "execution_count": 136,
     "metadata": {},
     "output_type": "execute_result"
    }
   ],
   "source": [
    "area(3)"
   ]
  },
  {
   "cell_type": "code",
   "execution_count": 137,
   "id": "fcad8297-73e8-4ae0-9807-ce83abd01a39",
   "metadata": {},
   "outputs": [],
   "source": [
    "def area_rect(l,b):\n",
    "    area = l*b\n",
    "    return area\n"
   ]
  },
  {
   "cell_type": "code",
   "execution_count": 138,
   "id": "fac22a55-af7b-48e0-848b-96d45593e08d",
   "metadata": {},
   "outputs": [
    {
     "data": {
      "text/plain": [
       "12"
      ]
     },
     "execution_count": 138,
     "metadata": {},
     "output_type": "execute_result"
    }
   ],
   "source": [
    "area_rect(3,4)"
   ]
  },
  {
   "cell_type": "code",
   "execution_count": 139,
   "id": "5e502f88-9172-4dab-8648-7fcbc81d1455",
   "metadata": {},
   "outputs": [],
   "source": [
    "def area(b,h):\n",
    "    return 0.5*b*h\n"
   ]
  },
  {
   "cell_type": "code",
   "execution_count": 140,
   "id": "281e76c8-55e5-423e-8caf-b42182bb140d",
   "metadata": {},
   "outputs": [
    {
     "data": {
      "text/plain": [
       "6.0"
      ]
     },
     "execution_count": 140,
     "metadata": {},
     "output_type": "execute_result"
    }
   ],
   "source": [
    "area(3,4)"
   ]
  },
  {
   "cell_type": "code",
   "execution_count": null,
   "id": "2d20bcf5-ae63-4a34-9ba3-88734f3f9175",
   "metadata": {},
   "outputs": [],
   "source": [
    "1. Print the first 5 positive integers in ascending order with one number \n",
    "in each line"
   ]
  },
  {
   "cell_type": "code",
   "execution_count": 141,
   "id": "bba9d681-1ee7-42ff-ab1c-79cd3810c95c",
   "metadata": {},
   "outputs": [],
   "source": [
    "def numbers():\n",
    "    for i in range(6):\n",
    "        print(i)\n"
   ]
  },
  {
   "cell_type": "code",
   "execution_count": 142,
   "id": "13750cc3-da14-4f04-82f1-c12a159239de",
   "metadata": {},
   "outputs": [
    {
     "name": "stdout",
     "output_type": "stream",
     "text": [
      "0\n",
      "1\n",
      "2\n",
      "3\n",
      "4\n",
      "5\n"
     ]
    }
   ],
   "source": [
    "numbers()"
   ]
  },
  {
   "cell_type": "code",
   "execution_count": 143,
   "id": "5008179a-7a9b-4efa-9424-7c977af126ba",
   "metadata": {},
   "outputs": [
    {
     "name": "stdout",
     "output_type": "stream",
     "text": [
      "0\n",
      "1\n",
      "2\n",
      "3\n",
      "4\n",
      "5\n"
     ]
    }
   ],
   "source": [
    "for i in range(6):\n",
    "    print(i)\n"
   ]
  },
  {
   "cell_type": "code",
   "execution_count": null,
   "id": "a2a3aead-f849-4deb-bdc1-2e1027e90154",
   "metadata": {},
   "outputs": [],
   "source": [
    "3. Accept an integer as input and print its square as output."
   ]
  },
  {
   "cell_type": "code",
   "execution_count": 144,
   "id": "45e577e8-f84d-4e03-9deb-4e4c856ab70b",
   "metadata": {},
   "outputs": [],
   "source": [
    "def sq():\n",
    "    a=int(input(\"Enter the number\"))\n",
    "    return a*a\n"
   ]
  },
  {
   "cell_type": "code",
   "execution_count": 145,
   "id": "f24b5c49-f73a-4057-a060-f8df25bcb2ca",
   "metadata": {},
   "outputs": [
    {
     "name": "stdin",
     "output_type": "stream",
     "text": [
      "Enter the number 2\n"
     ]
    },
    {
     "data": {
      "text/plain": [
       "4"
      ]
     },
     "execution_count": 145,
     "metadata": {},
     "output_type": "execute_result"
    }
   ],
   "source": [
    "sq()"
   ]
  },
  {
   "cell_type": "code",
   "execution_count": 146,
   "id": "b7010703-33e8-410e-88cf-39f5def43023",
   "metadata": {},
   "outputs": [
    {
     "name": "stdin",
     "output_type": "stream",
     "text": [
      "Enter the number 3\n"
     ]
    },
    {
     "name": "stdout",
     "output_type": "stream",
     "text": [
      "9\n"
     ]
    }
   ],
   "source": [
    "a=int(input(\"Enter the number\"))\n",
    "print(a*a)\n"
   ]
  },
  {
   "cell_type": "code",
   "execution_count": null,
   "id": "b7275fdc-8cd7-4e52-b406-378666d95025",
   "metadata": {},
   "outputs": [],
   "source": [
    "4.Accept two integers as input and print their sum as output."
   ]
  },
  {
   "cell_type": "code",
   "execution_count": 147,
   "id": "7ab97eb1-cdae-4df3-ba9d-ad1365d672e9",
   "metadata": {},
   "outputs": [
    {
     "name": "stdin",
     "output_type": "stream",
     "text": [
      "Enter the first number:  3\n",
      "Enter the second number:  9\n"
     ]
    },
    {
     "name": "stdout",
     "output_type": "stream",
     "text": [
      "The sum of 3 and 9 is 12: \n"
     ]
    }
   ],
   "source": [
    "num1 = int(input(\"Enter the first number: \"))\n",
    "num2 = int(input(\"Enter the second number: \"))\n",
    "num3 = num1 + num2\n",
    "print(f\"The sum of {num1} and {num2} is {num3}: \". format(num1, num2, num3))\n"
   ]
  },
  {
   "cell_type": "code",
   "execution_count": null,
   "id": "962252b4-a0e8-4ead-bc52-b4373d30af2f",
   "metadata": {},
   "outputs": [],
   "source": [
    "5. Accept two words as input and print the two words after adding a \n",
    "space between them"
   ]
  },
  {
   "cell_type": "code",
   "execution_count": 148,
   "id": "ddca740d-8c10-4c48-adaf-612a2c7710f2",
   "metadata": {},
   "outputs": [],
   "source": [
    "def fullname(first ,second):\n",
    "    print(first ,\" \",second)\n"
   ]
  },
  {
   "cell_type": "code",
   "execution_count": 149,
   "id": "1102a0b3-6326-4fac-913f-9e758a2876fd",
   "metadata": {},
   "outputs": [
    {
     "name": "stdout",
     "output_type": "stream",
     "text": [
      "pw   skills\n"
     ]
    }
   ],
   "source": [
    "fullname(\"pw\",\"skills\")"
   ]
  },
  {
   "cell_type": "code",
   "execution_count": null,
   "id": "202ae45f-cdd3-4c52-aa12-e982c1056f85",
   "metadata": {},
   "outputs": [],
   "source": [
    "create a python program that includes a user-defined function called print_even_number().\n",
    "the function should prompt the user to set a range limit before printing\n",
    "all even numbers upto that limit"
   ]
  },
  {
   "cell_type": "code",
   "execution_count": 154,
   "id": "6409df99-d038-45b5-a25a-cc4113c80734",
   "metadata": {},
   "outputs": [],
   "source": [
    "def print_even_number():\n",
    "    limit1=int(input('Enter the first limit of even numbers'))\n",
    "    limit2=int(input('Enter the second limit of even numbers'))\n",
    "    for i in range(limit1,limit2+1):\n",
    "        if i%2==0:\n",
    "            print(i,end=' ')\n"
   ]
  },
  {
   "cell_type": "code",
   "execution_count": 155,
   "id": "d033f8f8-9c0e-4c1c-952b-982888d6f2a8",
   "metadata": {},
   "outputs": [
    {
     "name": "stdin",
     "output_type": "stream",
     "text": [
      "Enter the first limit of even numbers 2\n",
      "Enter the second limit of even numbers 50\n"
     ]
    },
    {
     "name": "stdout",
     "output_type": "stream",
     "text": [
      "2468101214161820222426283032343638404244464850"
     ]
    }
   ],
   "source": [
    "print_even_number()"
   ]
  },
  {
   "cell_type": "code",
   "execution_count": 1,
   "id": "a8c59c10-a9bf-4605-8bb9-0a4d45353c97",
   "metadata": {},
   "outputs": [
    {
     "name": "stdin",
     "output_type": "stream",
     "text": [
      "Enter 2 numbers between which you want the even number 2 5\n"
     ]
    },
    {
     "name": "stdout",
     "output_type": "stream",
     "text": [
      "2\n",
      "4\n"
     ]
    }
   ],
   "source": [
    "def print_even_numbers():\n",
    "    a , b = input(\"Enter 2 numbers between which you want the even number\").split()\n",
    "    \n",
    "    for i in range( int(a), int(b)):\n",
    "        if i%2 == 0:\n",
    "            print(i)\n",
    "            \n",
    "print_even_numbers()\n"
   ]
  },
  {
   "cell_type": "code",
   "execution_count": null,
   "id": "d6202773-5632-45fc-872d-26e99cf6d4a0",
   "metadata": {},
   "outputs": [],
   "source": [
    "13. Accept three positive integers as input and check if they form the \n",
    "sides of a right triangle. Print YES if they form one, and NO is they do \n",
    "not. The input will have three lines, with one integer on each line. \n",
    "The output should be a single line containing one of these two \n",
    "strings: YES or NO."
   ]
  },
  {
   "cell_type": "code",
   "execution_count": 162,
   "id": "65525449-fe48-4f87-a9e9-d9b97a178c0e",
   "metadata": {},
   "outputs": [
    {
     "name": "stdin",
     "output_type": "stream",
     "text": [
      "Enter a side 1 of right triangle 5\n",
      "Enter a side 2 of right triangle 8\n",
      "Enter a side 3 of right triangle 2\n"
     ]
    },
    {
     "name": "stdout",
     "output_type": "stream",
     "text": [
      "NO\n"
     ]
    }
   ],
   "source": [
    "a = int(input(\"Enter a side 1 of right triangle\"))\n",
    "b = int(input(\"Enter a side 2 of right triangle\"))\n",
    "c = int(input(\"Enter a side 3 of right triangle\"))\n",
    "\n",
    "\n",
    "hyp = a\n",
    "side1 = b\n",
    "side2 = c\n",
    "\n",
    "if b > hyp :\n",
    "    hyp,side1=b,hyp\n",
    "\n",
    "if c > hyp:\n",
    "    hyp,side1,side2=c,hyp,side1\n",
    "\n",
    "elif c>side1 :\n",
    "    b,c = side2,side1\n",
    "        \n",
    "if hyp*hyp==side1*side1+side2*side2:\n",
    "    print(\"YES\")\n",
    "else:\n",
    "    print(\"NO\")\n"
   ]
  },
  {
   "cell_type": "code",
   "execution_count": 164,
   "id": "1cb9f527-8e1b-4b99-9da1-ceb63deec443",
   "metadata": {},
   "outputs": [
    {
     "name": "stdin",
     "output_type": "stream",
     "text": [
      "Enter the first side of triangle :  3\n",
      "Enter the second side of triangle :  9\n",
      "Enter the third side of triangle :  2\n"
     ]
    },
    {
     "name": "stdout",
     "output_type": "stream",
     "text": [
      "It is not a right angled triangle\n"
     ]
    }
   ],
   "source": [
    "def checkRightTriangle(a,b,c):\n",
    "    if a**2 == b**2 + c**2 or b**2 == c**2 + a**2 or c**2 == a**2 + b**2:\n",
    "        print('It is a right angled triangle')\n",
    "    else:\n",
    "        print('It is not a right angled triangle')\n",
    "a = int(input('Enter the first side of triangle : '))\n",
    "b = int(input('Enter the second side of triangle : '))\n",
    "c = int(input('Enter the third side of triangle : '))\n",
    "checkRightTriangle(a,b,c)\n"
   ]
  },
  {
   "cell_type": "code",
   "execution_count": null,
   "id": "fec514a6-dc99-4a6a-a3a4-bf3ea7d3b8fe",
   "metadata": {},
   "outputs": [],
   "source": [
    "17.Accept a string as input. Your task is to determine if the input string is a valid password or not. For a \n",
    "string to be a valid password, it must satisfy all the conditions given below:\n",
    "(1) It should have at least 8 and at most 32 characters\n",
    "(2) It should start with an uppercase or lowercase letter\n",
    "(3) It should not have any of these characters: / \\ = ' \"\n",
    "(4) It should not have spaces\n",
    "It could have any character that is not mentioned in the list of characters to be avoided (points 3 and \n",
    "4). Output True if the string forms a valid password and False otherwise"
   ]
  }
 ],
 "metadata": {
  "kernelspec": {
   "display_name": "Python 3 (ipykernel)",
   "language": "python",
   "name": "python3"
  },
  "language_info": {
   "codemirror_mode": {
    "name": "ipython",
    "version": 3
   },
   "file_extension": ".py",
   "mimetype": "text/x-python",
   "name": "python",
   "nbconvert_exporter": "python",
   "pygments_lexer": "ipython3",
   "version": "3.10.8"
  }
 },
 "nbformat": 4,
 "nbformat_minor": 5
}
