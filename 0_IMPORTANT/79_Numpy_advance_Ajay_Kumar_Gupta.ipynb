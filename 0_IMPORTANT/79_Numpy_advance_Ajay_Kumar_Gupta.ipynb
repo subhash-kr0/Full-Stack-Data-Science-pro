{
  "cells": [
    {
      "cell_type": "code",
      "execution_count": null,
      "id": "6d2c5c80",
      "metadata": {
        "id": "6d2c5c80"
      },
      "outputs": [],
      "source": [
        "import numpy as np\n",
        "arr = np.ones((3, 4))"
      ]
    },
    {
      "cell_type": "code",
      "execution_count": null,
      "id": "0cf245ff",
      "metadata": {
        "id": "0cf245ff",
        "outputId": "bf4bd280-f07e-4ba8-b7e9-e28cd7f24b09"
      },
      "outputs": [
        {
          "data": {
            "text/plain": [
              "array([[1., 1., 1., 1.],\n",
              "       [1., 1., 1., 1.],\n",
              "       [1., 1., 1., 1.]])"
            ]
          },
          "execution_count": 4,
          "metadata": {},
          "output_type": "execute_result"
        }
      ],
      "source": [
        "arr"
      ]
    },
    {
      "cell_type": "code",
      "execution_count": null,
      "id": "3e3453da",
      "metadata": {
        "id": "3e3453da",
        "outputId": "9fbba004-f925-487d-838f-bf8dac8a4147"
      },
      "outputs": [
        {
          "data": {
            "text/plain": [
              "array([[6., 6., 6., 6.],\n",
              "       [6., 6., 6., 6.],\n",
              "       [6., 6., 6., 6.]])"
            ]
          },
          "execution_count": 5,
          "metadata": {},
          "output_type": "execute_result"
        }
      ],
      "source": [
        "arr + 5"
      ]
    },
    {
      "cell_type": "code",
      "execution_count": null,
      "id": "d8ee1828",
      "metadata": {
        "id": "d8ee1828",
        "outputId": "f8820185-0de9-4446-d3ab-f474b190996b"
      },
      "outputs": [
        {
          "data": {
            "text/plain": [
              "array([[5., 5., 5., 5.],\n",
              "       [5., 5., 5., 5.],\n",
              "       [5., 5., 5., 5.]])"
            ]
          },
          "execution_count": 6,
          "metadata": {},
          "output_type": "execute_result"
        }
      ],
      "source": [
        "arr*5"
      ]
    },
    {
      "cell_type": "code",
      "execution_count": null,
      "id": "780a18b9",
      "metadata": {
        "id": "780a18b9",
        "outputId": "497bfbc6-2444-4b4b-a58c-042ea758af7f"
      },
      "outputs": [
        {
          "data": {
            "text/plain": [
              "array([[5., 5., 5., 5.],\n",
              "       [5., 5., 5., 5.],\n",
              "       [5., 5., 5., 5.]])"
            ]
          },
          "execution_count": 15,
          "metadata": {},
          "output_type": "execute_result"
        }
      ],
      "source": [
        "np.empty((3, 4))"
      ]
    },
    {
      "cell_type": "code",
      "execution_count": null,
      "id": "5276a22f",
      "metadata": {
        "id": "5276a22f",
        "outputId": "0d2af900-3093-4996-8e75-bc463cf61d06"
      },
      "outputs": [
        {
          "data": {
            "text/plain": [
              "array([[1, 0, 0],\n",
              "       [0, 1, 0],\n",
              "       [0, 0, 1]])"
            ]
          },
          "execution_count": 22,
          "metadata": {},
          "output_type": "execute_result"
        }
      ],
      "source": [
        "np.eye(3, dtype = int) #n*n matrix #tO calculate inverse of matroix"
      ]
    },
    {
      "cell_type": "code",
      "execution_count": null,
      "id": "fa09cc61",
      "metadata": {
        "id": "fa09cc61",
        "outputId": "0ffc5639-75f2-4d4b-8fa6-caa9b5a731a1"
      },
      "outputs": [
        {
          "data": {
            "text/plain": [
              "array([[1., 1., 1., 1.],\n",
              "       [1., 1., 1., 1.],\n",
              "       [1., 1., 1., 1.]])"
            ]
          },
          "execution_count": 23,
          "metadata": {},
          "output_type": "execute_result"
        }
      ],
      "source": [
        "arr"
      ]
    },
    {
      "cell_type": "code",
      "execution_count": null,
      "id": "cf144ec0",
      "metadata": {
        "id": "cf144ec0",
        "outputId": "6a116876-3552-4397-8ed7-08beb691463e"
      },
      "outputs": [
        {
          "data": {
            "text/html": [
              "<div>\n",
              "<style scoped>\n",
              "    .dataframe tbody tr th:only-of-type {\n",
              "        vertical-align: middle;\n",
              "    }\n",
              "\n",
              "    .dataframe tbody tr th {\n",
              "        vertical-align: top;\n",
              "    }\n",
              "\n",
              "    .dataframe thead th {\n",
              "        text-align: right;\n",
              "    }\n",
              "</style>\n",
              "<table border=\"1\" class=\"dataframe\">\n",
              "  <thead>\n",
              "    <tr style=\"text-align: right;\">\n",
              "      <th></th>\n",
              "      <th>0</th>\n",
              "      <th>1</th>\n",
              "      <th>2</th>\n",
              "      <th>3</th>\n",
              "    </tr>\n",
              "  </thead>\n",
              "  <tbody>\n",
              "    <tr>\n",
              "      <th>0</th>\n",
              "      <td>1.0</td>\n",
              "      <td>1.0</td>\n",
              "      <td>1.0</td>\n",
              "      <td>1.0</td>\n",
              "    </tr>\n",
              "    <tr>\n",
              "      <th>1</th>\n",
              "      <td>1.0</td>\n",
              "      <td>1.0</td>\n",
              "      <td>1.0</td>\n",
              "      <td>1.0</td>\n",
              "    </tr>\n",
              "    <tr>\n",
              "      <th>2</th>\n",
              "      <td>1.0</td>\n",
              "      <td>1.0</td>\n",
              "      <td>1.0</td>\n",
              "      <td>1.0</td>\n",
              "    </tr>\n",
              "  </tbody>\n",
              "</table>\n",
              "</div>"
            ],
            "text/plain": [
              "     0    1    2    3\n",
              "0  1.0  1.0  1.0  1.0\n",
              "1  1.0  1.0  1.0  1.0\n",
              "2  1.0  1.0  1.0  1.0"
            ]
          },
          "execution_count": 24,
          "metadata": {},
          "output_type": "execute_result"
        }
      ],
      "source": [
        "#optional\n",
        "\n",
        "import pandas as pd\n",
        "pd.DataFrame(arr)"
      ]
    },
    {
      "cell_type": "code",
      "execution_count": null,
      "id": "09bf2be2",
      "metadata": {
        "id": "09bf2be2",
        "outputId": "b5edf8e0-c4be-4e64-dfe4-fe885fbb779d"
      },
      "outputs": [
        {
          "data": {
            "text/plain": [
              "'j'"
            ]
          },
          "execution_count": 43,
          "metadata": {},
          "output_type": "execute_result"
        }
      ],
      "source": [
        "#extra topics\n",
        "import random\n",
        "random.choice((1, 2, 3, 4, 5, 6))\n",
        "\n",
        "random.choice('Ajay')\n",
        "random.randrange(1, 10)\n",
        "random.random() # a random no is generated between o (included), 1 will be excluded\n",
        "\n",
        "lis = [1, 2, 3, 4, 5]\n",
        "random.shuffle(lis)\n",
        "\n",
        "random.uniform(7, 14) #a no between 7 and 14"
      ]
    },
    {
      "cell_type": "code",
      "execution_count": null,
      "id": "8c35d578",
      "metadata": {
        "id": "8c35d578"
      },
      "outputs": [],
      "source": [
        "np.array([])"
      ]
    },
    {
      "cell_type": "code",
      "execution_count": null,
      "id": "1112871e",
      "metadata": {
        "id": "1112871e",
        "outputId": "7379b0a3-7597-4399-c748-504e5466bfce"
      },
      "outputs": [
        {
          "data": {
            "text/plain": [
              "0.9211111156563901"
            ]
          },
          "execution_count": 287,
          "metadata": {},
          "output_type": "execute_result"
        }
      ],
      "source": [
        "np.random.random_sample()"
      ]
    },
    {
      "cell_type": "code",
      "execution_count": null,
      "id": "cc3c3603",
      "metadata": {
        "id": "cc3c3603",
        "outputId": "679e3286-8d34-4ec5-e5ad-552be37c0fe0"
      },
      "outputs": [
        {
          "data": {
            "text/plain": [
              "float"
            ]
          },
          "execution_count": 279,
          "metadata": {},
          "output_type": "execute_result"
        }
      ],
      "source": [
        "type(np.random.random_sample())"
      ]
    },
    {
      "cell_type": "code",
      "execution_count": null,
      "id": "6515618a",
      "metadata": {
        "id": "6515618a",
        "outputId": "aad2ccd4-8fa4-40dd-b276-5e2dbf6eb45d"
      },
      "outputs": [
        {
          "data": {
            "text/plain": [
              "array([0.90202035, 0.60630875, 0.15373777, 0.86313403, 0.42078372])"
            ]
          },
          "execution_count": 280,
          "metadata": {},
          "output_type": "execute_result"
        }
      ],
      "source": [
        "np.random.random_sample((5,))"
      ]
    },
    {
      "cell_type": "code",
      "execution_count": null,
      "id": "f016851d",
      "metadata": {
        "id": "f016851d",
        "outputId": "3f43190f-35ff-4e7d-ee1c-8a00f754e379"
      },
      "outputs": [
        {
          "data": {
            "text/plain": [
              "array([0.11447432])"
            ]
          },
          "execution_count": 47,
          "metadata": {},
          "output_type": "execute_result"
        }
      ],
      "source": [
        "np.random.rand(1)"
      ]
    },
    {
      "cell_type": "code",
      "execution_count": null,
      "id": "b406c5cf",
      "metadata": {
        "id": "b406c5cf",
        "outputId": "99566212-f6f9-4138-c67e-aaf5c5cd675a"
      },
      "outputs": [
        {
          "data": {
            "text/plain": [
              "array([[0.36447448, 0.62336784, 0.83770828],\n",
              "       [0.96798408, 0.50156134, 0.91970993]])"
            ]
          },
          "execution_count": 44,
          "metadata": {},
          "output_type": "execute_result"
        }
      ],
      "source": [
        "np.random.rand(2, 3)"
      ]
    },
    {
      "cell_type": "code",
      "execution_count": null,
      "id": "cf700afb",
      "metadata": {
        "id": "cf700afb",
        "outputId": "1074aec1-1741-44fb-8e97-d4a4d09a9403"
      },
      "outputs": [
        {
          "data": {
            "text/plain": [
              "array([[ 0.6934026 , -0.40988039, -0.29346066],\n",
              "       [ 0.00731871,  1.51932967, -0.41561844]])"
            ]
          },
          "execution_count": 49,
          "metadata": {},
          "output_type": "execute_result"
        }
      ],
      "source": [
        "np.random.randn(2, 3)"
      ]
    },
    {
      "cell_type": "code",
      "execution_count": null,
      "id": "d299b157",
      "metadata": {
        "id": "d299b157",
        "outputId": "9583abdf-ddb4-4346-87e2-9add2030a906"
      },
      "outputs": [
        {
          "data": {
            "text/plain": [
              "0.13122192085217144"
            ]
          },
          "execution_count": 50,
          "metadata": {},
          "output_type": "execute_result"
        }
      ],
      "source": [
        "np.random.random_sample()"
      ]
    },
    {
      "cell_type": "code",
      "execution_count": null,
      "id": "c3c0f7ec",
      "metadata": {
        "id": "c3c0f7ec",
        "outputId": "9d92724d-81ee-476d-eecc-121ac21d91df"
      },
      "outputs": [
        {
          "data": {
            "text/plain": [
              "array([[1, 2, 3, 3],\n",
              "       [2, 4, 1, 4],\n",
              "       [1, 4, 4, 4]])"
            ]
          },
          "execution_count": 51,
          "metadata": {},
          "output_type": "execute_result"
        }
      ],
      "source": [
        "np.random.randint(1, 5, size = (3, 4))"
      ]
    },
    {
      "cell_type": "code",
      "execution_count": null,
      "id": "630208a5",
      "metadata": {
        "id": "630208a5"
      },
      "outputs": [],
      "source": [
        "arr = np.random.randint(1, 5, size = (3, 4))"
      ]
    },
    {
      "cell_type": "code",
      "execution_count": null,
      "id": "90051fcc",
      "metadata": {
        "id": "90051fcc",
        "outputId": "e16137ef-1265-4d73-9c2e-9206cc1c5ed6"
      },
      "outputs": [
        {
          "data": {
            "text/plain": [
              "array([[4, 1, 1, 2],\n",
              "       [3, 2, 3, 4],\n",
              "       [4, 1, 3, 1]])"
            ]
          },
          "execution_count": 53,
          "metadata": {},
          "output_type": "execute_result"
        }
      ],
      "source": [
        "arr"
      ]
    },
    {
      "cell_type": "code",
      "execution_count": null,
      "id": "304d2c66",
      "metadata": {
        "id": "304d2c66",
        "outputId": "98379b9e-7fac-4d58-fb86-89c3f2a4fd83"
      },
      "outputs": [
        {
          "data": {
            "text/plain": [
              "12"
            ]
          },
          "execution_count": 54,
          "metadata": {},
          "output_type": "execute_result"
        }
      ],
      "source": [
        "arr.size"
      ]
    },
    {
      "cell_type": "code",
      "execution_count": null,
      "id": "0a04274b",
      "metadata": {
        "id": "0a04274b",
        "outputId": "808203b0-691d-448f-a721-91a5449dbeb5"
      },
      "outputs": [
        {
          "data": {
            "text/plain": [
              "(3, 4)"
            ]
          },
          "execution_count": 55,
          "metadata": {},
          "output_type": "execute_result"
        }
      ],
      "source": [
        "arr.shape"
      ]
    },
    {
      "cell_type": "code",
      "execution_count": null,
      "id": "69d6405a",
      "metadata": {
        "id": "69d6405a",
        "outputId": "c62595a8-3824-4171-c05e-4302907a99ff"
      },
      "outputs": [
        {
          "data": {
            "text/plain": [
              "2"
            ]
          },
          "execution_count": 56,
          "metadata": {},
          "output_type": "execute_result"
        }
      ],
      "source": [
        "arr.ndim"
      ]
    },
    {
      "cell_type": "code",
      "execution_count": null,
      "id": "c0267eb1",
      "metadata": {
        "id": "c0267eb1",
        "outputId": "442f62cf-5926-4323-977b-5e61ff89010b"
      },
      "outputs": [
        {
          "data": {
            "text/plain": [
              "array([[4, 1, 1, 2],\n",
              "       [3, 2, 3, 4],\n",
              "       [4, 1, 3, 1]])"
            ]
          },
          "execution_count": 57,
          "metadata": {},
          "output_type": "execute_result"
        }
      ],
      "source": [
        "arr"
      ]
    },
    {
      "cell_type": "code",
      "execution_count": null,
      "id": "cc0a7eef",
      "metadata": {
        "id": "cc0a7eef",
        "outputId": "a9af6dd2-a974-4f76-f741-79b8a54e116f"
      },
      "outputs": [
        {
          "data": {
            "text/plain": [
              "array([[4, 1, 1, 2, 3, 2],\n",
              "       [3, 4, 4, 1, 3, 1]])"
            ]
          },
          "execution_count": 60,
          "metadata": {},
          "output_type": "execute_result"
        }
      ],
      "source": [
        "arr.reshape(2, 6) #array size can not change, multiples of array size"
      ]
    },
    {
      "cell_type": "code",
      "execution_count": null,
      "id": "4111d896",
      "metadata": {
        "id": "4111d896",
        "outputId": "7d736a8f-ab63-4865-a775-25d867ef50e5"
      },
      "outputs": [
        {
          "data": {
            "text/plain": [
              "array([[4, 1],\n",
              "       [1, 2],\n",
              "       [3, 2],\n",
              "       [3, 4],\n",
              "       [4, 1],\n",
              "       [3, 1]])"
            ]
          },
          "execution_count": 61,
          "metadata": {},
          "output_type": "execute_result"
        }
      ],
      "source": [
        "arr.reshape(6, 2)"
      ]
    },
    {
      "cell_type": "code",
      "execution_count": null,
      "id": "7d982323",
      "metadata": {
        "id": "7d982323",
        "outputId": "f58e7f0e-9d03-4129-fe37-97d6ae9277f1"
      },
      "outputs": [
        {
          "data": {
            "text/plain": [
              "array([4, 1, 1, 2, 3, 2, 3, 4, 4, 1, 3, 1])"
            ]
          },
          "execution_count": 64,
          "metadata": {},
          "output_type": "execute_result"
        }
      ],
      "source": [
        "arr.reshape(12,)"
      ]
    },
    {
      "cell_type": "code",
      "execution_count": null,
      "id": "e2a4ab22",
      "metadata": {
        "id": "e2a4ab22",
        "outputId": "fc2b8bcb-07c1-40e3-adcb-a82f051a0b6f"
      },
      "outputs": [
        {
          "data": {
            "text/plain": [
              "array([[4],\n",
              "       [1],\n",
              "       [1],\n",
              "       [2],\n",
              "       [3],\n",
              "       [2],\n",
              "       [3],\n",
              "       [4],\n",
              "       [4],\n",
              "       [1],\n",
              "       [3],\n",
              "       [1]])"
            ]
          },
          "execution_count": 65,
          "metadata": {},
          "output_type": "execute_result"
        }
      ],
      "source": [
        "arr.reshape(12, 1)"
      ]
    },
    {
      "cell_type": "code",
      "execution_count": null,
      "id": "dd8a93d2",
      "metadata": {
        "id": "dd8a93d2",
        "outputId": "0b60d332-9e94-4944-a5da-1d26a3dbc427"
      },
      "outputs": [
        {
          "ename": "ValueError",
          "evalue": "cannot reshape array of size 12 into shape (12,2)",
          "output_type": "error",
          "traceback": [
            "\u001b[1;31m---------------------------------------------------------------------------\u001b[0m",
            "\u001b[1;31mValueError\u001b[0m                                Traceback (most recent call last)",
            "Cell \u001b[1;32mIn[66], line 1\u001b[0m\n\u001b[1;32m----> 1\u001b[0m arr\u001b[38;5;241m.\u001b[39mreshape(\u001b[38;5;241m12\u001b[39m,\u001b[38;5;241m2\u001b[39m)\n",
            "\u001b[1;31mValueError\u001b[0m: cannot reshape array of size 12 into shape (12,2)"
          ]
        }
      ],
      "source": [
        "arr.reshape(12,2)"
      ]
    },
    {
      "cell_type": "code",
      "execution_count": null,
      "id": "d27d2db9",
      "metadata": {
        "id": "d27d2db9",
        "outputId": "71f339e2-3fff-476f-fcae-f492d520c75a"
      },
      "outputs": [
        {
          "data": {
            "text/plain": [
              "array([[4, 1, 1],\n",
              "       [2, 3, 2],\n",
              "       [3, 4, 4],\n",
              "       [1, 3, 1]])"
            ]
          },
          "execution_count": 67,
          "metadata": {},
          "output_type": "execute_result"
        }
      ],
      "source": [
        "arr.reshape(4, 3)"
      ]
    },
    {
      "cell_type": "code",
      "execution_count": null,
      "id": "88985273",
      "metadata": {
        "id": "88985273",
        "outputId": "23b7b482-09e2-4ab5-f79e-85e764f9a81d"
      },
      "outputs": [
        {
          "data": {
            "text/plain": [
              "array([[4, 1, 1, 2],\n",
              "       [3, 2, 3, 4],\n",
              "       [4, 1, 3, 1]])"
            ]
          },
          "execution_count": 68,
          "metadata": {},
          "output_type": "execute_result"
        }
      ],
      "source": [
        "arr.reshape(3,4)"
      ]
    },
    {
      "cell_type": "code",
      "execution_count": null,
      "id": "b1b1e75c",
      "metadata": {
        "id": "b1b1e75c",
        "outputId": "adbf8e57-7ec6-47b9-f3b2-ed2f24a51fdf"
      },
      "outputs": [
        {
          "data": {
            "text/plain": [
              "array([[4, 1, 1, 2],\n",
              "       [3, 2, 3, 4],\n",
              "       [4, 1, 3, 1]])"
            ]
          },
          "execution_count": 69,
          "metadata": {},
          "output_type": "execute_result"
        }
      ],
      "source": [
        "arr"
      ]
    },
    {
      "cell_type": "code",
      "execution_count": null,
      "id": "9b4a7848",
      "metadata": {
        "id": "9b4a7848",
        "outputId": "b68f1e10-7041-4132-d5ea-c78f1fc00ae5"
      },
      "outputs": [
        {
          "data": {
            "text/plain": [
              "array([[4, 1, 1],\n",
              "       [2, 3, 2],\n",
              "       [3, 4, 4],\n",
              "       [1, 3, 1]])"
            ]
          },
          "execution_count": 73,
          "metadata": {},
          "output_type": "execute_result"
        }
      ],
      "source": [
        "arr.reshape(4, -1)"
      ]
    },
    {
      "cell_type": "code",
      "execution_count": null,
      "id": "e906e39e",
      "metadata": {
        "id": "e906e39e",
        "outputId": "07db05e4-c522-4085-d637-08f132f1fb07"
      },
      "outputs": [
        {
          "data": {
            "text/plain": [
              "array([[4, 1, 1],\n",
              "       [2, 3, 2],\n",
              "       [3, 4, 4],\n",
              "       [1, 3, 1]])"
            ]
          },
          "execution_count": 74,
          "metadata": {},
          "output_type": "execute_result"
        }
      ],
      "source": [
        "arr.reshape(4, -100)"
      ]
    },
    {
      "cell_type": "code",
      "execution_count": null,
      "id": "2bff1250",
      "metadata": {
        "id": "2bff1250",
        "outputId": "3a4d0050-e9a6-4557-a1da-d3608e33e936"
      },
      "outputs": [
        {
          "data": {
            "text/plain": [
              "array([[4, 1, 1, 2],\n",
              "       [3, 2, 3, 4],\n",
              "       [4, 1, 3, 1]])"
            ]
          },
          "execution_count": 75,
          "metadata": {},
          "output_type": "execute_result"
        }
      ],
      "source": [
        "arr.reshape(3, -100)"
      ]
    },
    {
      "cell_type": "code",
      "execution_count": null,
      "id": "a068091e",
      "metadata": {
        "id": "a068091e",
        "outputId": "4b2ff2dc-7f87-48b2-d7c6-ef943eb92c6a"
      },
      "outputs": [
        {
          "data": {
            "text/plain": [
              "array([[4, 1, 1, 2],\n",
              "       [3, 2, 3, 4],\n",
              "       [4, 1, 3, 1]])"
            ]
          },
          "execution_count": 81,
          "metadata": {},
          "output_type": "execute_result"
        }
      ],
      "source": [
        "arr.reshape(-1, 4)"
      ]
    },
    {
      "cell_type": "code",
      "execution_count": null,
      "id": "5ff5cb0a",
      "metadata": {
        "id": "5ff5cb0a",
        "outputId": "535c4451-265a-47ac-9bd0-aa5e559c3daa"
      },
      "outputs": [
        {
          "data": {
            "text/plain": [
              "array([[4, 1, 1, 2],\n",
              "       [3, 2, 3, 4],\n",
              "       [4, 1, 3, 1]])"
            ]
          },
          "execution_count": 87,
          "metadata": {},
          "output_type": "execute_result"
        }
      ],
      "source": [
        "arr"
      ]
    },
    {
      "cell_type": "code",
      "execution_count": null,
      "id": "6c443454",
      "metadata": {
        "id": "6c443454",
        "outputId": "a7cbdaf3-fba7-454a-f322-483474f4f7ec"
      },
      "outputs": [
        {
          "data": {
            "text/plain": [
              "array([[4, 1, 1, 2],\n",
              "       [3, 2, 3, 4],\n",
              "       [4, 1, 3, 1]])"
            ]
          },
          "execution_count": 89,
          "metadata": {},
          "output_type": "execute_result"
        }
      ],
      "source": [
        "arr.reshape(12, ).base"
      ]
    },
    {
      "cell_type": "code",
      "execution_count": null,
      "id": "4f705183",
      "metadata": {
        "id": "4f705183",
        "outputId": "b090f4ab-7500-4d30-9c64-96c01f3ddd1d"
      },
      "outputs": [
        {
          "data": {
            "text/plain": [
              "array([[4, 1, 1, 2],\n",
              "       [3, 2, 3, 4],\n",
              "       [4, 1, 3, 1]])"
            ]
          },
          "execution_count": 90,
          "metadata": {},
          "output_type": "execute_result"
        }
      ],
      "source": [
        "arr"
      ]
    },
    {
      "cell_type": "code",
      "execution_count": null,
      "id": "0774e249",
      "metadata": {
        "id": "0774e249",
        "outputId": "584f8593-8aa8-42f4-b303-3589a3a4e094"
      },
      "outputs": [
        {
          "data": {
            "text/plain": [
              "12"
            ]
          },
          "execution_count": 91,
          "metadata": {},
          "output_type": "execute_result"
        }
      ],
      "source": [
        "arr.size"
      ]
    },
    {
      "cell_type": "code",
      "execution_count": null,
      "id": "d8f1159c",
      "metadata": {
        "id": "d8f1159c",
        "outputId": "42e3e51c-35cd-45b7-bfe7-e99e7c9537ed"
      },
      "outputs": [
        {
          "data": {
            "text/plain": [
              "array([[[4, 1, 1],\n",
              "        [2, 3, 2]],\n",
              "\n",
              "       [[3, 4, 4],\n",
              "        [1, 3, 1]]])"
            ]
          },
          "execution_count": 92,
          "metadata": {},
          "output_type": "execute_result"
        }
      ],
      "source": [
        "arr.reshape(2, 2, 3)"
      ]
    },
    {
      "cell_type": "code",
      "execution_count": null,
      "id": "c91113ad",
      "metadata": {
        "id": "c91113ad",
        "outputId": "8aa27469-a9fe-4545-e89c-cb22a6ab3abe"
      },
      "outputs": [
        {
          "data": {
            "text/plain": [
              "array([[[[4, 1, 1],\n",
              "         [2, 3, 2]],\n",
              "\n",
              "        [[3, 4, 4],\n",
              "         [1, 3, 1]]]])"
            ]
          },
          "execution_count": 93,
          "metadata": {},
          "output_type": "execute_result"
        }
      ],
      "source": [
        "arr.reshape(1, 2, 2, 3)"
      ]
    },
    {
      "cell_type": "code",
      "execution_count": null,
      "id": "a561838c",
      "metadata": {
        "id": "a561838c",
        "outputId": "cc3df217-060e-4eb8-ea5c-809f4e4f051c"
      },
      "outputs": [
        {
          "data": {
            "text/plain": [
              "array([[[4],\n",
              "        [1],\n",
              "        [1]],\n",
              "\n",
              "       [[2],\n",
              "        [3],\n",
              "        [2]],\n",
              "\n",
              "       [[3],\n",
              "        [4],\n",
              "        [4]],\n",
              "\n",
              "       [[1],\n",
              "        [3],\n",
              "        [1]]])"
            ]
          },
          "execution_count": 94,
          "metadata": {},
          "output_type": "execute_result"
        }
      ],
      "source": [
        "arr.reshape(4, 3, 1)"
      ]
    },
    {
      "cell_type": "code",
      "execution_count": null,
      "id": "a1b34382",
      "metadata": {
        "id": "a1b34382",
        "outputId": "c2cb376d-95b5-4f8b-9a07-3b36405d8af2"
      },
      "outputs": [
        {
          "data": {
            "text/plain": [
              "array([[[[[[[[[[[[4, 1, 1],\n",
              "                 [2, 3, 2]],\n",
              "\n",
              "                [[3, 4, 4],\n",
              "                 [1, 3, 1]]]]]]]]]]]])"
            ]
          },
          "execution_count": 96,
          "metadata": {},
          "output_type": "execute_result"
        }
      ],
      "source": [
        "arr.reshape(1, 1, 1, 1, 1, 1, 1, 1, 1, 2, 2, 3)"
      ]
    },
    {
      "cell_type": "code",
      "execution_count": null,
      "id": "ca5d4613",
      "metadata": {
        "id": "ca5d4613"
      },
      "outputs": [],
      "source": [
        "lis = [1, 2, 3, 4]\n",
        "arr = np.array(lis)"
      ]
    },
    {
      "cell_type": "code",
      "execution_count": null,
      "id": "c11b423b",
      "metadata": {
        "id": "c11b423b",
        "outputId": "73eb66c6-25dc-4b9f-db6b-da06847cd32f"
      },
      "outputs": [
        {
          "data": {
            "text/plain": [
              "array([1, 2, 3, 4])"
            ]
          },
          "execution_count": 99,
          "metadata": {},
          "output_type": "execute_result"
        }
      ],
      "source": [
        "arr"
      ]
    },
    {
      "cell_type": "code",
      "execution_count": null,
      "id": "2264e026",
      "metadata": {
        "id": "2264e026",
        "outputId": "af202350-c56c-4cde-ace9-5a85e75e2b4f"
      },
      "outputs": [
        {
          "data": {
            "text/plain": [
              "1"
            ]
          },
          "execution_count": 100,
          "metadata": {},
          "output_type": "execute_result"
        }
      ],
      "source": [
        "arr.ndim"
      ]
    },
    {
      "cell_type": "code",
      "execution_count": null,
      "id": "ae1b54a7",
      "metadata": {
        "id": "ae1b54a7",
        "outputId": "3742c57d-c761-4493-9007-7f724e33296c"
      },
      "outputs": [
        {
          "data": {
            "text/plain": [
              "array([[2, 3],\n",
              "       [4, 5]])"
            ]
          },
          "execution_count": 102,
          "metadata": {},
          "output_type": "execute_result"
        }
      ],
      "source": [
        "arr2 = np.array([[2, 3], [4, 5]])\n",
        "arr2"
      ]
    },
    {
      "cell_type": "code",
      "execution_count": null,
      "id": "8399c0c7",
      "metadata": {
        "id": "8399c0c7",
        "outputId": "208d5f92-f87e-4f22-d417-ccb9c909c4d1"
      },
      "outputs": [
        {
          "data": {
            "text/plain": [
              "2"
            ]
          },
          "execution_count": 103,
          "metadata": {},
          "output_type": "execute_result"
        }
      ],
      "source": [
        "arr2.ndim"
      ]
    },
    {
      "cell_type": "code",
      "execution_count": null,
      "id": "3f743f0d",
      "metadata": {
        "id": "3f743f0d",
        "outputId": "2cb51786-67bb-4086-cede-08e36dac44ca"
      },
      "outputs": [
        {
          "data": {
            "text/plain": [
              "array([[0., 0., 0., 0.],\n",
              "       [0., 0., 0., 0.],\n",
              "       [0., 0., 0., 0.]])"
            ]
          },
          "execution_count": 105,
          "metadata": {},
          "output_type": "execute_result"
        }
      ],
      "source": [
        "arr2 = np.zeros((3, 4))\n",
        "arr2"
      ]
    },
    {
      "cell_type": "code",
      "execution_count": null,
      "id": "dbfe0fe6",
      "metadata": {
        "id": "dbfe0fe6",
        "outputId": "a27ff3ed-e7cc-42ff-ec9c-d2f2bc49e478"
      },
      "outputs": [
        {
          "data": {
            "text/plain": [
              "2"
            ]
          },
          "execution_count": 106,
          "metadata": {},
          "output_type": "execute_result"
        }
      ],
      "source": [
        "arr2.ndim"
      ]
    },
    {
      "cell_type": "code",
      "execution_count": null,
      "id": "f98f0ec1",
      "metadata": {
        "id": "f98f0ec1",
        "outputId": "719424ba-af69-4438-c230-cc2f59f16997"
      },
      "outputs": [
        {
          "data": {
            "text/plain": [
              "array([[[0., 0., 0., 0.],\n",
              "        [0., 0., 0., 0.],\n",
              "        [0., 0., 0., 0.]]])"
            ]
          },
          "execution_count": 107,
          "metadata": {},
          "output_type": "execute_result"
        }
      ],
      "source": [
        "arr3 = np.zeros((1, 3, 4)) # 3 rows, 4 columns >> 2d array + 1d\n",
        "arr3"
      ]
    },
    {
      "cell_type": "code",
      "execution_count": null,
      "id": "23160134",
      "metadata": {
        "id": "23160134",
        "outputId": "0b8a8688-1ea1-4b35-abf6-0c99796d2edf"
      },
      "outputs": [
        {
          "data": {
            "text/plain": [
              "3"
            ]
          },
          "execution_count": 108,
          "metadata": {},
          "output_type": "execute_result"
        }
      ],
      "source": [
        "arr3.ndim"
      ]
    },
    {
      "cell_type": "code",
      "execution_count": null,
      "id": "07f9c9ca",
      "metadata": {
        "id": "07f9c9ca",
        "outputId": "24daf912-1d17-4e85-9baa-7d22a98cc647"
      },
      "outputs": [
        {
          "data": {
            "text/plain": [
              "(1, 3, 4)"
            ]
          },
          "execution_count": 109,
          "metadata": {},
          "output_type": "execute_result"
        }
      ],
      "source": [
        "arr3.shape"
      ]
    },
    {
      "cell_type": "code",
      "execution_count": null,
      "id": "288b7fab",
      "metadata": {
        "id": "288b7fab",
        "outputId": "ef4906d9-0b59-4015-c2f8-d6295f1fdc23"
      },
      "outputs": [
        {
          "data": {
            "text/plain": [
              "array([[[[0., 0., 0., 0.],\n",
              "         [0., 0., 0., 0.],\n",
              "         [0., 0., 0., 0.]]]])"
            ]
          },
          "execution_count": 110,
          "metadata": {},
          "output_type": "execute_result"
        }
      ],
      "source": [
        "arr4 = np.zeros((1, 1, 3, 4)) # 3 rows, 4 columns >> 2d array + 1d +1d\n",
        "arr4"
      ]
    },
    {
      "cell_type": "code",
      "execution_count": null,
      "id": "108874e3",
      "metadata": {
        "id": "108874e3",
        "outputId": "d17096da-f051-4c90-a720-39a258900bce"
      },
      "outputs": [
        {
          "data": {
            "text/plain": [
              "4"
            ]
          },
          "execution_count": 111,
          "metadata": {},
          "output_type": "execute_result"
        }
      ],
      "source": [
        "arr4.ndim"
      ]
    },
    {
      "cell_type": "code",
      "execution_count": null,
      "id": "4908b59b",
      "metadata": {
        "id": "4908b59b",
        "outputId": "001c9454-81e1-47fd-8f58-539426d99299"
      },
      "outputs": [
        {
          "data": {
            "text/plain": [
              "(1, 1, 3, 4)"
            ]
          },
          "execution_count": 112,
          "metadata": {},
          "output_type": "execute_result"
        }
      ],
      "source": [
        "arr4.shape"
      ]
    },
    {
      "cell_type": "code",
      "execution_count": null,
      "id": "239ee299",
      "metadata": {
        "id": "239ee299",
        "outputId": "07be0b71-be72-4f80-942f-bfaf5da78886"
      },
      "outputs": [
        {
          "data": {
            "text/plain": [
              "array([[[0., 0., 0., 0.],\n",
              "        [0., 0., 0., 0.],\n",
              "        [0., 0., 0., 0.]],\n",
              "\n",
              "       [[0., 0., 0., 0.],\n",
              "        [0., 0., 0., 0.],\n",
              "        [0., 0., 0., 0.]],\n",
              "\n",
              "       [[0., 0., 0., 0.],\n",
              "        [0., 0., 0., 0.],\n",
              "        [0., 0., 0., 0.]]])"
            ]
          },
          "execution_count": 120,
          "metadata": {},
          "output_type": "execute_result"
        }
      ],
      "source": [
        "arr3 = np.zeros((3, 3, 4))\n",
        "arr3"
      ]
    },
    {
      "cell_type": "code",
      "execution_count": null,
      "id": "f0858ac2",
      "metadata": {
        "id": "f0858ac2",
        "outputId": "89ddd8c1-39ae-4a6d-9ca0-5417dc4f4ec4"
      },
      "outputs": [
        {
          "data": {
            "text/plain": [
              "3"
            ]
          },
          "execution_count": 117,
          "metadata": {},
          "output_type": "execute_result"
        }
      ],
      "source": [
        "arr3.ndim"
      ]
    },
    {
      "cell_type": "code",
      "execution_count": null,
      "id": "7789f2cc",
      "metadata": {
        "id": "7789f2cc",
        "outputId": "5a725d21-c4b8-4731-9817-8308f196e2c8"
      },
      "outputs": [
        {
          "data": {
            "text/plain": [
              "(3, 3, 4)"
            ]
          },
          "execution_count": 121,
          "metadata": {},
          "output_type": "execute_result"
        }
      ],
      "source": [
        "arr3.shape"
      ]
    },
    {
      "cell_type": "code",
      "execution_count": null,
      "id": "bd85dfdc",
      "metadata": {
        "id": "bd85dfdc"
      },
      "outputs": [],
      "source": [
        "arr1 = np.random.randint(1, 10, (5, 6))"
      ]
    },
    {
      "cell_type": "code",
      "execution_count": null,
      "id": "c6cb842b",
      "metadata": {
        "id": "c6cb842b",
        "outputId": "3deb87d5-c4b6-4d7e-c4c9-71af4669aee9"
      },
      "outputs": [
        {
          "data": {
            "text/plain": [
              "array([[2, 7, 4, 4, 8, 3],\n",
              "       [6, 4, 8, 4, 4, 2],\n",
              "       [3, 7, 5, 7, 2, 3],\n",
              "       [7, 4, 3, 5, 6, 8],\n",
              "       [5, 9, 4, 8, 4, 4]])"
            ]
          },
          "execution_count": 258,
          "metadata": {},
          "output_type": "execute_result"
        }
      ],
      "source": [
        "arr1"
      ]
    },
    {
      "cell_type": "code",
      "execution_count": null,
      "id": "d7604706",
      "metadata": {
        "id": "d7604706",
        "outputId": "c55ce2db-cc51-4667-82d4-da39474c03c8"
      },
      "outputs": [
        {
          "data": {
            "text/plain": [
              "array([[False,  True, False, False,  True, False],\n",
              "       [ True, False,  True, False, False, False],\n",
              "       [False,  True, False,  True, False, False],\n",
              "       [ True, False, False, False,  True,  True],\n",
              "       [False,  True, False,  True, False, False]])"
            ]
          },
          "execution_count": 259,
          "metadata": {},
          "output_type": "execute_result"
        }
      ],
      "source": [
        "arr1 > 5"
      ]
    },
    {
      "cell_type": "code",
      "execution_count": null,
      "id": "3ef7c073",
      "metadata": {
        "id": "3ef7c073",
        "outputId": "95736aff-5a4a-47fd-e8fd-3272e954887e"
      },
      "outputs": [
        {
          "data": {
            "text/plain": [
              "array([7, 8, 6, 8, 7, 7, 7, 6, 8, 9, 8])"
            ]
          },
          "execution_count": 260,
          "metadata": {},
          "output_type": "execute_result"
        }
      ],
      "source": [
        "arr1[arr1 > 5]"
      ]
    },
    {
      "cell_type": "code",
      "execution_count": null,
      "id": "1d34ad7c",
      "metadata": {
        "id": "1d34ad7c",
        "outputId": "6e4203e9-eff7-4e1a-db7a-b4063564a606"
      },
      "outputs": [
        {
          "data": {
            "text/plain": [
              "array([2, 4, 4, 3, 4, 4, 4, 2, 3, 2, 3, 4, 3, 4, 4, 4])"
            ]
          },
          "execution_count": 261,
          "metadata": {},
          "output_type": "execute_result"
        }
      ],
      "source": [
        "arr1[arr1 < 5]"
      ]
    },
    {
      "cell_type": "code",
      "execution_count": null,
      "id": "73ed1e20",
      "metadata": {
        "id": "73ed1e20",
        "outputId": "537fbf86-f039-4db7-dc1b-e4a375d4ecff"
      },
      "outputs": [
        {
          "data": {
            "text/plain": [
              "array([[2, 7, 4, 4, 8, 3],\n",
              "       [6, 4, 8, 4, 4, 2],\n",
              "       [3, 7, 5, 7, 2, 3],\n",
              "       [7, 4, 3, 5, 6, 8],\n",
              "       [5, 9, 4, 8, 4, 4]])"
            ]
          },
          "execution_count": 262,
          "metadata": {},
          "output_type": "execute_result"
        }
      ],
      "source": [
        "arr1"
      ]
    },
    {
      "cell_type": "code",
      "execution_count": null,
      "id": "a2564283",
      "metadata": {
        "id": "a2564283",
        "outputId": "2f9b5bb2-8cbc-4b1c-8bda-fb96e30e985f"
      },
      "outputs": [
        {
          "data": {
            "text/plain": [
              "array([[0., 0., 0., 0.],\n",
              "       [0., 0., 0., 0.],\n",
              "       [0., 0., 0., 0.]])"
            ]
          },
          "execution_count": 265,
          "metadata": {},
          "output_type": "execute_result"
        }
      ],
      "source": [
        "arr"
      ]
    },
    {
      "cell_type": "code",
      "execution_count": null,
      "id": "5adb3a1f",
      "metadata": {
        "id": "5adb3a1f",
        "outputId": "a73f9f93-8451-42eb-a214-1edf74344d07"
      },
      "outputs": [
        {
          "data": {
            "text/plain": [
              "array([0., 0., 0., 0.])"
            ]
          },
          "execution_count": 266,
          "metadata": {},
          "output_type": "execute_result"
        }
      ],
      "source": [
        "arr[0]"
      ]
    },
    {
      "cell_type": "code",
      "execution_count": null,
      "id": "5da9d061",
      "metadata": {
        "id": "5da9d061",
        "outputId": "2fa8149f-7d0c-4037-9e28-e72592e376ca"
      },
      "outputs": [
        {
          "data": {
            "text/plain": [
              "array([0., 0., 0., 0.])"
            ]
          },
          "execution_count": 268,
          "metadata": {},
          "output_type": "execute_result"
        }
      ],
      "source": [
        "arr[0]"
      ]
    },
    {
      "cell_type": "code",
      "execution_count": null,
      "id": "427f6fa8",
      "metadata": {
        "id": "427f6fa8",
        "outputId": "d054b30c-94e3-4f58-f192-5147b331e5c4"
      },
      "outputs": [
        {
          "data": {
            "text/plain": [
              "array([[2, 7, 4, 4, 8, 3],\n",
              "       [6, 4, 8, 4, 4, 2],\n",
              "       [3, 7, 5, 7, 2, 3],\n",
              "       [7, 4, 3, 5, 6, 8],\n",
              "       [5, 9, 4, 8, 4, 4]])"
            ]
          },
          "execution_count": 269,
          "metadata": {},
          "output_type": "execute_result"
        }
      ],
      "source": [
        "arr1"
      ]
    },
    {
      "cell_type": "code",
      "execution_count": null,
      "id": "c155e215",
      "metadata": {
        "id": "c155e215",
        "outputId": "89c540b5-db28-45fa-9f35-594c0dcc01b5"
      },
      "outputs": [
        {
          "data": {
            "text/plain": [
              "array([[2, 4],\n",
              "       [6, 8]])"
            ]
          },
          "execution_count": 276,
          "metadata": {},
          "output_type": "execute_result"
        }
      ],
      "source": [
        "arr1[0:2, [0,2]] #0th - 1st row in continuation and 0th and 2nd column"
      ]
    },
    {
      "cell_type": "code",
      "execution_count": null,
      "id": "6a55275e",
      "metadata": {
        "id": "6a55275e",
        "outputId": "bd7ef4f8-795c-4131-d132-d0b0cf525ece"
      },
      "outputs": [
        {
          "data": {
            "text/plain": [
              "array([[7, 4],\n",
              "       [4, 8]])"
            ]
          },
          "execution_count": 277,
          "metadata": {},
          "output_type": "execute_result"
        }
      ],
      "source": [
        "#slicing on both rows and column\n",
        "arr1[0:2, 1:3]"
      ]
    },
    {
      "cell_type": "code",
      "execution_count": null,
      "id": "fae3b9a8",
      "metadata": {
        "id": "fae3b9a8",
        "outputId": "491e66dc-7f45-40d0-8c29-c2c0e45688d3"
      },
      "outputs": [
        {
          "data": {
            "text/plain": [
              "array([[2, 7],\n",
              "       [6, 4]])"
            ]
          },
          "execution_count": 272,
          "metadata": {},
          "output_type": "execute_result"
        }
      ],
      "source": [
        "arr1[0:2, [0, 1]]"
      ]
    },
    {
      "cell_type": "code",
      "execution_count": null,
      "id": "ee573a81",
      "metadata": {
        "id": "ee573a81"
      },
      "outputs": [],
      "source": [
        "arr"
      ]
    },
    {
      "cell_type": "code",
      "execution_count": null,
      "id": "397dc291",
      "metadata": {
        "id": "397dc291",
        "outputId": "ca2c3651-a53a-4c49-ad6c-667f79d7370e"
      },
      "outputs": [
        {
          "data": {
            "text/plain": [
              "array([7, 1])"
            ]
          },
          "execution_count": 145,
          "metadata": {},
          "output_type": "execute_result"
        }
      ],
      "source": [
        "arr1[0, [1,3]]"
      ]
    },
    {
      "cell_type": "code",
      "execution_count": null,
      "id": "6c42bcde",
      "metadata": {
        "id": "6c42bcde",
        "outputId": "e52a3fd1-9535-4836-d5e8-ab3fbc40277d"
      },
      "outputs": [
        {
          "data": {
            "text/plain": [
              "array([[2, 4],\n",
              "       [2, 9]])"
            ]
          },
          "execution_count": 154,
          "metadata": {},
          "output_type": "execute_result"
        }
      ],
      "source": [
        "arr1[2:4, [0, 2]]"
      ]
    },
    {
      "cell_type": "code",
      "execution_count": null,
      "id": "df6ece94",
      "metadata": {
        "id": "df6ece94",
        "outputId": "ca0a1df3-8577-4b33-a092-a0cd2b3bed69"
      },
      "outputs": [
        {
          "data": {
            "text/plain": [
              "array([[3, 7, 7, 1, 5, 2],\n",
              "       [6, 1, 5, 6, 6, 8],\n",
              "       [2, 8, 4, 2, 9, 3],\n",
              "       [2, 1, 9, 5, 8, 7],\n",
              "       [6, 2, 7, 6, 6, 1]])"
            ]
          },
          "execution_count": 156,
          "metadata": {},
          "output_type": "execute_result"
        }
      ],
      "source": [
        "arr1"
      ]
    },
    {
      "cell_type": "code",
      "execution_count": null,
      "id": "ab3e293d",
      "metadata": {
        "id": "ab3e293d",
        "outputId": "1967a62b-ffc4-4f25-ff74-e87c1a997868"
      },
      "outputs": [
        {
          "data": {
            "text/plain": [
              "array([[2, 8, 4, 2, 9, 3],\n",
              "       [2, 1, 9, 5, 8, 7],\n",
              "       [6, 2, 7, 6, 6, 1]])"
            ]
          },
          "execution_count": 160,
          "metadata": {},
          "output_type": "execute_result"
        }
      ],
      "source": [
        "arr1[2:5]"
      ]
    },
    {
      "cell_type": "code",
      "execution_count": null,
      "id": "5b0571f2",
      "metadata": {
        "id": "5b0571f2",
        "outputId": "894eb70b-22d7-4c6c-d032-7b673d7c5d0a"
      },
      "outputs": [
        {
          "data": {
            "text/plain": [
              "array([[2, 8],\n",
              "       [2, 1],\n",
              "       [6, 2]])"
            ]
          },
          "execution_count": 164,
          "metadata": {},
          "output_type": "execute_result"
        }
      ],
      "source": [
        "arr1[2:5, 0:2] #slicing"
      ]
    },
    {
      "cell_type": "code",
      "execution_count": null,
      "id": "bd8c1e41",
      "metadata": {
        "id": "bd8c1e41",
        "outputId": "ec4ef28e-87c3-493f-d339-404c451f9379"
      },
      "outputs": [
        {
          "data": {
            "text/plain": [
              "array([[2, 4],\n",
              "       [2, 9],\n",
              "       [6, 7]])"
            ]
          },
          "execution_count": 167,
          "metadata": {},
          "output_type": "execute_result"
        }
      ],
      "source": [
        "arr1[2:5, [0, 2]]"
      ]
    },
    {
      "cell_type": "code",
      "execution_count": null,
      "id": "fc7dfcac",
      "metadata": {
        "id": "fc7dfcac",
        "outputId": "115d5c6a-dd30-484f-d673-1d77b80d0f86"
      },
      "outputs": [
        {
          "data": {
            "text/plain": [
              "array([[2, 8, 4, 2, 9, 3],\n",
              "       [6, 2, 7, 6, 6, 1]])"
            ]
          },
          "execution_count": 170,
          "metadata": {},
          "output_type": "execute_result"
        }
      ],
      "source": [
        "arr1[[2,4]]"
      ]
    },
    {
      "cell_type": "code",
      "execution_count": null,
      "id": "64b48050",
      "metadata": {
        "id": "64b48050",
        "outputId": "c43a6245-034e-48ce-8572-4737454bae53"
      },
      "outputs": [
        {
          "data": {
            "text/plain": [
              "array([[3, 7, 7, 1, 5, 2],\n",
              "       [6, 1, 5, 6, 6, 8],\n",
              "       [2, 8, 4, 2, 9, 3],\n",
              "       [2, 1, 9, 5, 8, 7],\n",
              "       [6, 2, 7, 6, 6, 1]])"
            ]
          },
          "execution_count": 171,
          "metadata": {},
          "output_type": "execute_result"
        }
      ],
      "source": [
        "arr1"
      ]
    },
    {
      "cell_type": "code",
      "execution_count": null,
      "id": "dd6ab048",
      "metadata": {
        "id": "dd6ab048",
        "outputId": "5409393b-e59d-4d58-804d-a95f1d096951"
      },
      "outputs": [
        {
          "data": {
            "text/plain": [
              "array([[3, 7, 7, 1, 5, 2],\n",
              "       [6, 1, 5, 6, 6, 8],\n",
              "       [2, 8, 4, 2, 9, 3],\n",
              "       [2, 1, 9, 5, 8, 7],\n",
              "       [6, 2, 7, 6, 6, 1]])"
            ]
          },
          "execution_count": 172,
          "metadata": {},
          "output_type": "execute_result"
        }
      ],
      "source": [
        "arr1"
      ]
    },
    {
      "cell_type": "code",
      "execution_count": null,
      "id": "d0b255b1",
      "metadata": {
        "id": "d0b255b1",
        "outputId": "fbb02a1d-8485-4082-f0a4-45600d4e797f"
      },
      "outputs": [
        {
          "data": {
            "text/plain": [
              "array([[2, 8, 4, 2, 9, 3],\n",
              "       [6, 2, 7, 6, 6, 1]])"
            ]
          },
          "execution_count": 175,
          "metadata": {},
          "output_type": "execute_result"
        }
      ],
      "source": [
        "arr1[[2, 4]] #selecting specific column"
      ]
    },
    {
      "cell_type": "code",
      "execution_count": null,
      "id": "da01af1e",
      "metadata": {
        "id": "da01af1e",
        "outputId": "da073d98-622d-438e-859f-83d6b3d581a5"
      },
      "outputs": [
        {
          "data": {
            "text/plain": [
              "array([[2, 8, 4, 2, 9, 3],\n",
              "       [2, 1, 9, 5, 8, 7]])"
            ]
          },
          "execution_count": 177,
          "metadata": {},
          "output_type": "execute_result"
        }
      ],
      "source": [
        "arr1[2 : 4] #slicing"
      ]
    },
    {
      "cell_type": "code",
      "execution_count": null,
      "id": "b7176e43",
      "metadata": {
        "id": "b7176e43",
        "outputId": "9f086510-7596-4496-8710-c02129602531"
      },
      "outputs": [
        {
          "data": {
            "text/plain": [
              "array([[3, 7, 7, 1, 5, 2],\n",
              "       [6, 1, 5, 6, 6, 8],\n",
              "       [2, 8, 4, 2, 9, 3],\n",
              "       [2, 1, 9, 5, 8, 7],\n",
              "       [6, 2, 7, 6, 6, 1]])"
            ]
          },
          "execution_count": 179,
          "metadata": {},
          "output_type": "execute_result"
        }
      ],
      "source": [
        "arr1"
      ]
    },
    {
      "cell_type": "code",
      "execution_count": null,
      "id": "623d223c",
      "metadata": {
        "id": "623d223c",
        "outputId": "6c276f5c-b0a3-4987-a84d-4e0bc49393ca"
      },
      "outputs": [
        {
          "data": {
            "text/plain": [
              "array([[8, 2],\n",
              "       [1, 5]])"
            ]
          },
          "execution_count": 182,
          "metadata": {},
          "output_type": "execute_result"
        }
      ],
      "source": [
        "arr1[2:4, [1, 3]]"
      ]
    },
    {
      "cell_type": "code",
      "execution_count": null,
      "id": "15556875",
      "metadata": {
        "id": "15556875"
      },
      "outputs": [],
      "source": [
        "arr1 = np.random.randint(1, 3, (3,3))\n",
        "arr2 = np.random.randint(1, 3, (3,3))"
      ]
    },
    {
      "cell_type": "code",
      "execution_count": null,
      "id": "3843c982",
      "metadata": {
        "id": "3843c982",
        "outputId": "2d4b6e6a-5ace-414c-ea79-44bec23cd43f"
      },
      "outputs": [
        {
          "data": {
            "text/plain": [
              "array([[1, 2, 2],\n",
              "       [2, 2, 1],\n",
              "       [2, 1, 1]])"
            ]
          },
          "execution_count": 184,
          "metadata": {},
          "output_type": "execute_result"
        }
      ],
      "source": [
        "arr1"
      ]
    },
    {
      "cell_type": "markdown",
      "id": "5078fe84",
      "metadata": {
        "id": "5078fe84"
      },
      "source": [
        "##"
      ]
    },
    {
      "cell_type": "code",
      "execution_count": null,
      "id": "41c381ed",
      "metadata": {
        "id": "41c381ed",
        "outputId": "d26b1816-5920-4ed6-8a11-d989fa20cea3"
      },
      "outputs": [
        {
          "data": {
            "text/plain": [
              "array([[2, 1, 1],\n",
              "       [1, 1, 1],\n",
              "       [2, 1, 2]])"
            ]
          },
          "execution_count": 185,
          "metadata": {},
          "output_type": "execute_result"
        }
      ],
      "source": [
        "arr2"
      ]
    },
    {
      "cell_type": "code",
      "execution_count": null,
      "id": "10b0c059",
      "metadata": {
        "id": "10b0c059",
        "outputId": "8b3a427d-e765-4b9c-eab9-6063e7c816d4"
      },
      "outputs": [
        {
          "data": {
            "text/plain": [
              "array([[3, 3, 3],\n",
              "       [3, 3, 2],\n",
              "       [4, 2, 3]])"
            ]
          },
          "execution_count": 186,
          "metadata": {},
          "output_type": "execute_result"
        }
      ],
      "source": [
        "arr1 + arr2"
      ]
    },
    {
      "cell_type": "code",
      "execution_count": null,
      "id": "2378ec63",
      "metadata": {
        "id": "2378ec63",
        "outputId": "c0bab9b6-bb3e-4631-b053-4a362afad653"
      },
      "outputs": [
        {
          "data": {
            "text/plain": [
              "array([[-1,  1,  1],\n",
              "       [ 1,  1,  0],\n",
              "       [ 0,  0, -1]])"
            ]
          },
          "execution_count": 187,
          "metadata": {},
          "output_type": "execute_result"
        }
      ],
      "source": [
        "arr1 - arr2"
      ]
    },
    {
      "cell_type": "code",
      "execution_count": null,
      "id": "e47ef821",
      "metadata": {
        "id": "e47ef821",
        "outputId": "6195eea4-cdce-488b-973b-9fa04f648f8a"
      },
      "outputs": [
        {
          "data": {
            "text/plain": [
              "array([[2, 2, 2],\n",
              "       [2, 2, 1],\n",
              "       [4, 1, 2]])"
            ]
          },
          "execution_count": 188,
          "metadata": {},
          "output_type": "execute_result"
        }
      ],
      "source": [
        "arr1 * arr2"
      ]
    },
    {
      "cell_type": "code",
      "execution_count": null,
      "id": "5deffbb2",
      "metadata": {
        "id": "5deffbb2",
        "outputId": "a757cef6-7122-4b0a-b5a0-cb01d2ab0776"
      },
      "outputs": [
        {
          "data": {
            "text/plain": [
              "array([[1, 2, 2],\n",
              "       [2, 2, 1],\n",
              "       [2, 1, 1]])"
            ]
          },
          "execution_count": 189,
          "metadata": {},
          "output_type": "execute_result"
        }
      ],
      "source": [
        "#matrix multiplication\n",
        "\n",
        "\n",
        "arr1"
      ]
    },
    {
      "cell_type": "code",
      "execution_count": null,
      "id": "7c831294",
      "metadata": {
        "id": "7c831294",
        "outputId": "f750eea1-f526-4d27-9051-36de131e14ee"
      },
      "outputs": [
        {
          "data": {
            "text/plain": [
              "array([[2, 1, 1],\n",
              "       [1, 1, 1],\n",
              "       [2, 1, 2]])"
            ]
          },
          "execution_count": 190,
          "metadata": {},
          "output_type": "execute_result"
        }
      ],
      "source": [
        "arr2"
      ]
    },
    {
      "cell_type": "code",
      "execution_count": null,
      "id": "c3c78008",
      "metadata": {
        "id": "c3c78008",
        "outputId": "57b72efb-f257-4e9f-ea94-f1823cf953c3"
      },
      "outputs": [
        {
          "data": {
            "text/plain": [
              "array([[8, 5, 7],\n",
              "       [8, 5, 6],\n",
              "       [7, 4, 5]])"
            ]
          },
          "execution_count": 191,
          "metadata": {},
          "output_type": "execute_result"
        }
      ],
      "source": [
        "arr1 @ arr2"
      ]
    },
    {
      "cell_type": "code",
      "execution_count": null,
      "id": "c69beefc",
      "metadata": {
        "id": "c69beefc",
        "outputId": "d370aaa1-8537-4499-b556-ad83132ae67b"
      },
      "outputs": [
        {
          "data": {
            "text/plain": [
              "array([[1, 2, 2],\n",
              "       [2, 2, 1],\n",
              "       [2, 1, 1]])"
            ]
          },
          "execution_count": 192,
          "metadata": {},
          "output_type": "execute_result"
        }
      ],
      "source": [
        "arr1"
      ]
    },
    {
      "cell_type": "code",
      "execution_count": null,
      "id": "7a2660f8",
      "metadata": {
        "id": "7a2660f8",
        "outputId": "f584fa97-20d1-4273-83ce-5c0adce3e444"
      },
      "outputs": [
        {
          "data": {
            "text/plain": [
              "array([[2, 1, 1],\n",
              "       [1, 1, 1],\n",
              "       [2, 1, 2]])"
            ]
          },
          "execution_count": 193,
          "metadata": {},
          "output_type": "execute_result"
        }
      ],
      "source": [
        "arr2"
      ]
    },
    {
      "cell_type": "code",
      "execution_count": null,
      "id": "0d4823ce",
      "metadata": {
        "id": "0d4823ce",
        "outputId": "5a1596c4-175a-4f36-c38b-8dd2c325c8d9"
      },
      "outputs": [
        {
          "data": {
            "text/plain": [
              "array([[0.5, 2. , 2. ],\n",
              "       [2. , 2. , 1. ],\n",
              "       [1. , 1. , 0.5]])"
            ]
          },
          "execution_count": 194,
          "metadata": {},
          "output_type": "execute_result"
        }
      ],
      "source": [
        "arr1 / arr2 #index wise divison"
      ]
    },
    {
      "cell_type": "code",
      "execution_count": null,
      "id": "d83ad767",
      "metadata": {
        "id": "d83ad767",
        "outputId": "9725622f-8b44-489c-c614-23769494203d"
      },
      "outputs": [
        {
          "data": {
            "text/plain": [
              "array([[1, 2, 2],\n",
              "       [2, 2, 1],\n",
              "       [2, 1, 1]])"
            ]
          },
          "execution_count": 196,
          "metadata": {},
          "output_type": "execute_result"
        }
      ],
      "source": [
        "arr1"
      ]
    },
    {
      "cell_type": "code",
      "execution_count": null,
      "id": "f28fff19",
      "metadata": {
        "id": "f28fff19",
        "outputId": "dc693535-e6c2-4b15-dd97-0a60741aac85"
      },
      "outputs": [
        {
          "name": "stderr",
          "output_type": "stream",
          "text": [
            "C:\\Users\\ajayk\\AppData\\Local\\Temp\\ipykernel_12284\\824215542.py:1: RuntimeWarning: divide by zero encountered in divide\n",
            "  arr1 / 0\n"
          ]
        },
        {
          "data": {
            "text/plain": [
              "array([[inf, inf, inf],\n",
              "       [inf, inf, inf],\n",
              "       [inf, inf, inf]])"
            ]
          },
          "execution_count": 197,
          "metadata": {},
          "output_type": "execute_result"
        }
      ],
      "source": [
        "arr1 / 0"
      ]
    },
    {
      "cell_type": "code",
      "execution_count": null,
      "id": "b5ded093",
      "metadata": {
        "id": "b5ded093"
      },
      "outputs": [],
      "source": [
        "#Broad casting"
      ]
    },
    {
      "cell_type": "code",
      "execution_count": null,
      "id": "b0e00c9a",
      "metadata": {
        "id": "b0e00c9a"
      },
      "outputs": [],
      "source": [
        "arr = np.zeros((3, 4))"
      ]
    },
    {
      "cell_type": "code",
      "execution_count": null,
      "id": "55b7bd96",
      "metadata": {
        "id": "55b7bd96",
        "outputId": "c6392782-90d0-4abd-da5b-0de2db9e23b0"
      },
      "outputs": [
        {
          "data": {
            "text/plain": [
              "array([[0., 0., 0., 0.],\n",
              "       [0., 0., 0., 0.],\n",
              "       [0., 0., 0., 0.]])"
            ]
          },
          "execution_count": 199,
          "metadata": {},
          "output_type": "execute_result"
        }
      ],
      "source": [
        "arr"
      ]
    },
    {
      "cell_type": "code",
      "execution_count": null,
      "id": "47898885",
      "metadata": {
        "id": "47898885",
        "outputId": "6f4f34d5-3d74-4986-978d-2b247b6e73b5"
      },
      "outputs": [
        {
          "data": {
            "text/plain": [
              "array([[5., 5., 5., 5.],\n",
              "       [5., 5., 5., 5.],\n",
              "       [5., 5., 5., 5.]])"
            ]
          },
          "execution_count": 200,
          "metadata": {},
          "output_type": "execute_result"
        }
      ],
      "source": [
        "arr + 5"
      ]
    },
    {
      "cell_type": "code",
      "execution_count": null,
      "id": "3e50be88",
      "metadata": {
        "id": "3e50be88",
        "outputId": "82b8e8fc-2e24-48b2-cd5c-3a2258cbb121"
      },
      "outputs": [
        {
          "data": {
            "text/plain": [
              "array([[0., 0., 0., 0.],\n",
              "       [0., 0., 0., 0.],\n",
              "       [0., 0., 0., 0.]])"
            ]
          },
          "execution_count": 253,
          "metadata": {},
          "output_type": "execute_result"
        }
      ],
      "source": [
        "arr"
      ]
    },
    {
      "cell_type": "code",
      "execution_count": null,
      "id": "c978f4d8",
      "metadata": {
        "id": "c978f4d8"
      },
      "outputs": [],
      "source": [
        "a = np.array([1, 2, 3, 4])"
      ]
    },
    {
      "cell_type": "code",
      "execution_count": null,
      "id": "3169f1ae",
      "metadata": {
        "id": "3169f1ae",
        "outputId": "3888dac6-0d4a-44d4-e182-964b80db2157"
      },
      "outputs": [
        {
          "data": {
            "text/plain": [
              "(4,)"
            ]
          },
          "execution_count": 255,
          "metadata": {},
          "output_type": "execute_result"
        }
      ],
      "source": [
        "a.shape"
      ]
    },
    {
      "cell_type": "code",
      "execution_count": null,
      "id": "55b0c659",
      "metadata": {
        "id": "55b0c659",
        "outputId": "dd4a6c09-2f5f-490f-80ed-9bc2988d4f7f"
      },
      "outputs": [
        {
          "data": {
            "text/plain": [
              "array([1, 2, 3, 4])"
            ]
          },
          "execution_count": 256,
          "metadata": {},
          "output_type": "execute_result"
        }
      ],
      "source": [
        "a"
      ]
    },
    {
      "cell_type": "code",
      "execution_count": null,
      "id": "0299ce78",
      "metadata": {
        "id": "0299ce78",
        "outputId": "842f741c-0aad-441b-ee36-114f7de0c7ff"
      },
      "outputs": [
        {
          "data": {
            "text/plain": [
              "array([[1., 2., 3., 4.],\n",
              "       [1., 2., 3., 4.],\n",
              "       [1., 2., 3., 4.]])"
            ]
          },
          "execution_count": 204,
          "metadata": {},
          "output_type": "execute_result"
        }
      ],
      "source": [
        "arr + a"
      ]
    },
    {
      "cell_type": "code",
      "execution_count": null,
      "id": "034c58d9",
      "metadata": {
        "id": "034c58d9",
        "outputId": "01d9fe5f-3586-4778-b88f-653716cc3ca8"
      },
      "outputs": [
        {
          "data": {
            "text/plain": [
              "array([[0., 0., 0., 0.],\n",
              "       [0., 0., 0., 0.],\n",
              "       [0., 0., 0., 0.]])"
            ]
          },
          "execution_count": 207,
          "metadata": {},
          "output_type": "execute_result"
        }
      ],
      "source": [
        "arr"
      ]
    },
    {
      "cell_type": "code",
      "execution_count": null,
      "id": "5a2fe461",
      "metadata": {
        "id": "5a2fe461",
        "outputId": "344dc232-4812-4dfa-be5e-399769097395"
      },
      "outputs": [
        {
          "data": {
            "text/plain": [
              "array([1, 2, 3])"
            ]
          },
          "execution_count": 208,
          "metadata": {},
          "output_type": "execute_result"
        }
      ],
      "source": [
        "a"
      ]
    },
    {
      "cell_type": "code",
      "execution_count": null,
      "id": "a2c96ff1",
      "metadata": {
        "id": "a2c96ff1"
      },
      "outputs": [],
      "source": [
        "a = np.array([1, 2, 3])"
      ]
    },
    {
      "cell_type": "code",
      "execution_count": null,
      "id": "718a6a3a",
      "metadata": {
        "id": "718a6a3a"
      },
      "outputs": [],
      "source": [
        "a = np.array([[1, 2, 3]])"
      ]
    },
    {
      "cell_type": "code",
      "execution_count": null,
      "id": "200aab46",
      "metadata": {
        "id": "200aab46",
        "outputId": "126b6d70-2ef0-4067-e644-660c18bd1c97"
      },
      "outputs": [
        {
          "data": {
            "text/plain": [
              "array([[1],\n",
              "       [2],\n",
              "       [3]])"
            ]
          },
          "execution_count": 212,
          "metadata": {},
          "output_type": "execute_result"
        }
      ],
      "source": [
        "a.T"
      ]
    },
    {
      "cell_type": "code",
      "execution_count": null,
      "id": "f2be4d51",
      "metadata": {
        "id": "f2be4d51",
        "outputId": "e0d9f9c2-6542-4025-ce84-a5b2208294ce"
      },
      "outputs": [
        {
          "data": {
            "text/plain": [
              "array([[0., 0., 0., 0.],\n",
              "       [0., 0., 0., 0.],\n",
              "       [0., 0., 0., 0.]])"
            ]
          },
          "execution_count": 214,
          "metadata": {},
          "output_type": "execute_result"
        }
      ],
      "source": [
        "arr"
      ]
    },
    {
      "cell_type": "code",
      "execution_count": null,
      "id": "c1d91aa4",
      "metadata": {
        "id": "c1d91aa4",
        "outputId": "038f682c-9214-4a05-c405-db06bd237a86"
      },
      "outputs": [
        {
          "data": {
            "text/plain": [
              "array([[1, 2, 3]])"
            ]
          },
          "execution_count": 215,
          "metadata": {},
          "output_type": "execute_result"
        }
      ],
      "source": [
        "a"
      ]
    },
    {
      "cell_type": "code",
      "execution_count": null,
      "id": "81197e9e",
      "metadata": {
        "id": "81197e9e",
        "outputId": "75f6100d-6271-4573-f514-f8d8e98f8e25"
      },
      "outputs": [
        {
          "data": {
            "text/plain": [
              "array([[1., 1., 1., 1.],\n",
              "       [2., 2., 2., 2.],\n",
              "       [3., 3., 3., 3.]])"
            ]
          },
          "execution_count": 216,
          "metadata": {},
          "output_type": "execute_result"
        }
      ],
      "source": [
        "arr + a.T"
      ]
    },
    {
      "cell_type": "code",
      "execution_count": null,
      "id": "53c8e788",
      "metadata": {
        "id": "53c8e788",
        "outputId": "95cbf401-5e0a-497f-8554-a0e3429017e1"
      },
      "outputs": [
        {
          "data": {
            "text/plain": [
              "array([[1],\n",
              "       [2],\n",
              "       [3]])"
            ]
          },
          "execution_count": 217,
          "metadata": {},
          "output_type": "execute_result"
        }
      ],
      "source": [
        "a.T"
      ]
    },
    {
      "cell_type": "code",
      "execution_count": null,
      "id": "86439d80",
      "metadata": {
        "id": "86439d80",
        "outputId": "10779c8e-3612-4d5b-fafe-880a48245424"
      },
      "outputs": [
        {
          "data": {
            "text/plain": [
              "array([1, 2, 3])"
            ]
          },
          "execution_count": 218,
          "metadata": {},
          "output_type": "execute_result"
        }
      ],
      "source": [
        "a = np.array([1, 2, 3])\n",
        "a.T"
      ]
    },
    {
      "cell_type": "code",
      "execution_count": null,
      "id": "9a3d6d14",
      "metadata": {
        "id": "9a3d6d14",
        "outputId": "380289ac-2b85-4e2f-ea4b-57ebc997f207"
      },
      "outputs": [
        {
          "data": {
            "text/plain": [
              "array([[1, 2, 2],\n",
              "       [2, 2, 1],\n",
              "       [2, 1, 1]])"
            ]
          },
          "execution_count": 219,
          "metadata": {},
          "output_type": "execute_result"
        }
      ],
      "source": [
        "arr1"
      ]
    },
    {
      "cell_type": "code",
      "execution_count": null,
      "id": "82b980a2",
      "metadata": {
        "id": "82b980a2",
        "outputId": "71b20fdf-1fb8-4370-ccc0-09460359233c"
      },
      "outputs": [
        {
          "data": {
            "text/plain": [
              "array([[1.        , 1.41421356, 1.41421356],\n",
              "       [1.41421356, 1.41421356, 1.        ],\n",
              "       [1.41421356, 1.        , 1.        ]])"
            ]
          },
          "execution_count": 220,
          "metadata": {},
          "output_type": "execute_result"
        }
      ],
      "source": [
        "np.sqrt(arr1)"
      ]
    },
    {
      "cell_type": "code",
      "execution_count": null,
      "id": "7dd0a1a0",
      "metadata": {
        "id": "7dd0a1a0",
        "outputId": "cb1ef8f4-db70-4dae-9995-87d26a1324e5"
      },
      "outputs": [
        {
          "data": {
            "text/plain": [
              "array([[0.     , 0.30103, 0.30103],\n",
              "       [0.30103, 0.30103, 0.     ],\n",
              "       [0.30103, 0.     , 0.     ]])"
            ]
          },
          "execution_count": 221,
          "metadata": {},
          "output_type": "execute_result"
        }
      ],
      "source": [
        "np.log10(arr1)"
      ]
    },
    {
      "cell_type": "code",
      "execution_count": null,
      "id": "6aa90ca6",
      "metadata": {
        "id": "6aa90ca6",
        "outputId": "641502a9-ab54-4d89-b396-b6477a3ef298"
      },
      "outputs": [
        {
          "data": {
            "text/plain": [
              "array([[2.71828183, 7.3890561 , 7.3890561 ],\n",
              "       [7.3890561 , 7.3890561 , 2.71828183],\n",
              "       [7.3890561 , 2.71828183, 2.71828183]])"
            ]
          },
          "execution_count": 222,
          "metadata": {},
          "output_type": "execute_result"
        }
      ],
      "source": [
        "np.exp(arr1)"
      ]
    },
    {
      "cell_type": "code",
      "execution_count": null,
      "id": "0f87492c",
      "metadata": {
        "id": "0f87492c",
        "outputId": "ec15ca7a-83d9-4bd9-ff2d-61f4f3c76f5c"
      },
      "outputs": [
        {
          "data": {
            "text/plain": [
              "array([1, 2, 3])"
            ]
          },
          "execution_count": 225,
          "metadata": {},
          "output_type": "execute_result"
        }
      ],
      "source": [
        "a"
      ]
    },
    {
      "cell_type": "code",
      "execution_count": null,
      "id": "854f7be9",
      "metadata": {
        "id": "854f7be9",
        "outputId": "669956c6-6b3e-4d7c-a37a-0e1430c0edc8"
      },
      "outputs": [
        {
          "data": {
            "text/plain": [
              "1"
            ]
          },
          "execution_count": 224,
          "metadata": {},
          "output_type": "execute_result"
        }
      ],
      "source": [
        "np.min(a)"
      ]
    },
    {
      "cell_type": "code",
      "execution_count": null,
      "id": "a6029775",
      "metadata": {
        "id": "a6029775",
        "outputId": "e9992cbc-5e42-4ac3-8e1f-6cbf81d56c5c"
      },
      "outputs": [
        {
          "data": {
            "text/plain": [
              "array([[1, 2, 2],\n",
              "       [2, 2, 1],\n",
              "       [2, 1, 1]])"
            ]
          },
          "execution_count": 226,
          "metadata": {},
          "output_type": "execute_result"
        }
      ],
      "source": [
        "arr1"
      ]
    },
    {
      "cell_type": "code",
      "execution_count": null,
      "id": "1f91f13b",
      "metadata": {
        "id": "1f91f13b",
        "outputId": "b5dc02f1-8678-4f5f-ed41-f4933d316379"
      },
      "outputs": [
        {
          "data": {
            "text/plain": [
              "1"
            ]
          },
          "execution_count": 227,
          "metadata": {},
          "output_type": "execute_result"
        }
      ],
      "source": [
        "np.min(arr1)"
      ]
    },
    {
      "cell_type": "code",
      "execution_count": null,
      "id": "87265817",
      "metadata": {
        "id": "87265817",
        "outputId": "6bd6d240-7d6f-4f21-9cb6-b5041704d69d"
      },
      "outputs": [
        {
          "data": {
            "text/plain": [
              "2"
            ]
          },
          "execution_count": 228,
          "metadata": {},
          "output_type": "execute_result"
        }
      ],
      "source": [
        "np.max(arr1)"
      ]
    },
    {
      "cell_type": "code",
      "execution_count": null,
      "id": "41e1309e",
      "metadata": {
        "id": "41e1309e",
        "outputId": "ab4d636a-2dba-4970-b442-6e52a9b1ff56"
      },
      "outputs": [
        {
          "data": {
            "text/plain": [
              "array([[1, 2, 2],\n",
              "       [2, 2, 1],\n",
              "       [2, 1, 1]])"
            ]
          },
          "execution_count": 229,
          "metadata": {},
          "output_type": "execute_result"
        }
      ],
      "source": [
        "arr1"
      ]
    },
    {
      "cell_type": "code",
      "execution_count": null,
      "id": "f63f6a3b",
      "metadata": {
        "id": "f63f6a3b",
        "outputId": "e5ff46a0-eba1-4d6d-e9d3-1842a5596feb"
      },
      "outputs": [
        {
          "data": {
            "text/plain": [
              "array([[1, 2, 2],\n",
              "       [2, 2, 1],\n",
              "       [2, 1, 1]])"
            ]
          },
          "execution_count": 230,
          "metadata": {},
          "output_type": "execute_result"
        }
      ],
      "source": [
        "arr1.T"
      ]
    },
    {
      "cell_type": "code",
      "execution_count": null,
      "id": "e2a97e60",
      "metadata": {
        "id": "e2a97e60",
        "outputId": "47b70ba3-35da-4293-a581-e2612ee57e9a"
      },
      "outputs": [
        {
          "data": {
            "text/plain": [
              "array([1, 2, 2, 2, 2, 1, 2, 1, 1])"
            ]
          },
          "execution_count": 231,
          "metadata": {},
          "output_type": "execute_result"
        }
      ],
      "source": [
        "arr1.flatten() #reduce higher dimension to 1 d"
      ]
    },
    {
      "cell_type": "code",
      "execution_count": null,
      "id": "2fa0bd02",
      "metadata": {
        "id": "2fa0bd02"
      },
      "outputs": [],
      "source": [
        "#expand_dims >>  expands the array by inserting a new axis"
      ]
    },
    {
      "cell_type": "code",
      "execution_count": null,
      "id": "48a65036",
      "metadata": {
        "id": "48a65036"
      },
      "outputs": [],
      "source": [
        "arr = np.array([[1, 2, 3], [4, 5, 6], [1, 2, 3]])"
      ]
    },
    {
      "cell_type": "code",
      "execution_count": null,
      "id": "d68d5563",
      "metadata": {
        "id": "d68d5563",
        "outputId": "2e59c2f2-2a11-4762-8d41-d67e6f50a713"
      },
      "outputs": [
        {
          "data": {
            "text/plain": [
              "array([[1, 2, 3],\n",
              "       [4, 5, 6],\n",
              "       [1, 2, 3]])"
            ]
          },
          "execution_count": 236,
          "metadata": {},
          "output_type": "execute_result"
        }
      ],
      "source": [
        "arr"
      ]
    },
    {
      "cell_type": "code",
      "execution_count": null,
      "id": "e13ccc5e",
      "metadata": {
        "id": "e13ccc5e",
        "outputId": "9d11f57f-3878-42fd-b947-afb6ee997a89"
      },
      "outputs": [
        {
          "data": {
            "text/plain": [
              "27"
            ]
          },
          "execution_count": 237,
          "metadata": {},
          "output_type": "execute_result"
        }
      ],
      "source": [
        "np.sum(arr)"
      ]
    },
    {
      "cell_type": "code",
      "execution_count": null,
      "id": "f19cc723",
      "metadata": {
        "id": "f19cc723",
        "outputId": "80bb48db-c763-4f2d-9ef2-b2965d030e0b"
      },
      "outputs": [
        {
          "data": {
            "text/plain": [
              "array([ 6,  9, 12])"
            ]
          },
          "execution_count": 238,
          "metadata": {},
          "output_type": "execute_result"
        }
      ],
      "source": [
        "np.sum(arr, axis = 0)"
      ]
    },
    {
      "cell_type": "code",
      "execution_count": null,
      "id": "0bccd187",
      "metadata": {
        "id": "0bccd187",
        "outputId": "26b70078-aba6-4e4b-c82d-c1291dfb8182"
      },
      "outputs": [
        {
          "data": {
            "text/plain": [
              "array([ 6, 15,  6])"
            ]
          },
          "execution_count": 239,
          "metadata": {},
          "output_type": "execute_result"
        }
      ],
      "source": [
        "np.sum(arr, axis = 1)"
      ]
    },
    {
      "cell_type": "code",
      "execution_count": null,
      "id": "cb8dd6cc",
      "metadata": {
        "id": "cb8dd6cc",
        "outputId": "ea9e86b8-706e-4066-c720-0aaea21f52df"
      },
      "outputs": [
        {
          "data": {
            "text/plain": [
              "array([1, 2, 3, 4])"
            ]
          },
          "execution_count": 240,
          "metadata": {},
          "output_type": "execute_result"
        }
      ],
      "source": [
        "#expand_dims >>expand the dimension of array\n",
        "arr = np.array([1, 2, 3, 4])\n",
        "arr"
      ]
    },
    {
      "cell_type": "code",
      "execution_count": null,
      "id": "8dac2abb",
      "metadata": {
        "id": "8dac2abb",
        "outputId": "2f4d7e7f-a678-4cca-a715-5a1ce3bf9f78"
      },
      "outputs": [
        {
          "data": {
            "text/plain": [
              "1"
            ]
          },
          "execution_count": 241,
          "metadata": {},
          "output_type": "execute_result"
        }
      ],
      "source": [
        "arr.ndim"
      ]
    },
    {
      "cell_type": "code",
      "execution_count": null,
      "id": "d2c32faa",
      "metadata": {
        "id": "d2c32faa",
        "outputId": "7967a6f5-f9fb-4a77-b842-adb8601e0d2f"
      },
      "outputs": [
        {
          "data": {
            "text/plain": [
              "array([[1, 2, 3, 4]])"
            ]
          },
          "execution_count": 242,
          "metadata": {},
          "output_type": "execute_result"
        }
      ],
      "source": [
        "arr1 = np.expand_dims(arr, axis = 0)\n",
        "arr1"
      ]
    },
    {
      "cell_type": "code",
      "execution_count": null,
      "id": "16c72f70",
      "metadata": {
        "id": "16c72f70",
        "outputId": "c4c70fa7-007b-4f2d-a08f-ac25aec1f07a"
      },
      "outputs": [
        {
          "data": {
            "text/plain": [
              "2"
            ]
          },
          "execution_count": 243,
          "metadata": {},
          "output_type": "execute_result"
        }
      ],
      "source": [
        "arr1.ndim"
      ]
    },
    {
      "cell_type": "code",
      "execution_count": null,
      "id": "aee06f68",
      "metadata": {
        "id": "aee06f68",
        "outputId": "a4af556e-eb16-4c4f-f62f-4efde2bba9a8"
      },
      "outputs": [
        {
          "data": {
            "text/plain": [
              "array([[[1, 2, 3, 4]]])"
            ]
          },
          "execution_count": 244,
          "metadata": {},
          "output_type": "execute_result"
        }
      ],
      "source": [
        "arr2 = np.expand_dims(arr1, axis = 0)\n",
        "arr2"
      ]
    },
    {
      "cell_type": "code",
      "execution_count": null,
      "id": "6b0d0564",
      "metadata": {
        "id": "6b0d0564",
        "outputId": "bae7105c-fc3b-4a7e-d52a-f4cb9fdf2563"
      },
      "outputs": [
        {
          "data": {
            "text/plain": [
              "(1, 1, 4)"
            ]
          },
          "execution_count": 245,
          "metadata": {},
          "output_type": "execute_result"
        }
      ],
      "source": [
        "arr2.shape"
      ]
    },
    {
      "cell_type": "code",
      "execution_count": null,
      "id": "0e2c334a",
      "metadata": {
        "id": "0e2c334a",
        "outputId": "00a0ce75-6f0d-4cde-dd7f-3864fb3be4fc"
      },
      "outputs": [
        {
          "data": {
            "text/plain": [
              "array([1, 2, 3, 4])"
            ]
          },
          "execution_count": 246,
          "metadata": {},
          "output_type": "execute_result"
        }
      ],
      "source": [
        "arr"
      ]
    },
    {
      "cell_type": "code",
      "execution_count": null,
      "id": "776f2f79",
      "metadata": {
        "id": "776f2f79",
        "outputId": "a55585da-f3f3-4aa1-8df0-27a17b02ed3e"
      },
      "outputs": [
        {
          "data": {
            "text/plain": [
              "array([[1],\n",
              "       [2],\n",
              "       [3],\n",
              "       [4]])"
            ]
          },
          "execution_count": 247,
          "metadata": {},
          "output_type": "execute_result"
        }
      ],
      "source": [
        "arr1 = np.expand_dims(arr, axis = 1)\n",
        "arr1"
      ]
    },
    {
      "cell_type": "code",
      "execution_count": null,
      "id": "5355ca8f",
      "metadata": {
        "id": "5355ca8f"
      },
      "outputs": [],
      "source": [
        "arr = np.zeros((3, 4))"
      ]
    },
    {
      "cell_type": "code",
      "execution_count": null,
      "id": "94077756",
      "metadata": {
        "id": "94077756",
        "outputId": "6a043c89-cec4-4f1e-a373-2b453a1ec25b"
      },
      "outputs": [
        {
          "data": {
            "text/plain": [
              "array([[0., 0., 0., 0.],\n",
              "       [0., 0., 0., 0.],\n",
              "       [0., 0., 0., 0.]])"
            ]
          },
          "execution_count": 249,
          "metadata": {},
          "output_type": "execute_result"
        }
      ],
      "source": [
        "arr"
      ]
    },
    {
      "cell_type": "code",
      "execution_count": null,
      "id": "3d3e77d7",
      "metadata": {
        "id": "3d3e77d7",
        "outputId": "fad8ddac-34e1-49e0-84a6-bebbd9ab63de"
      },
      "outputs": [
        {
          "data": {
            "text/plain": [
              "array([[[0., 0., 0., 0.]],\n",
              "\n",
              "       [[0., 0., 0., 0.]],\n",
              "\n",
              "       [[0., 0., 0., 0.]]])"
            ]
          },
          "execution_count": 251,
          "metadata": {},
          "output_type": "execute_result"
        }
      ],
      "source": [
        "arr1 = np.expand_dims(arr, axis = 1)\n",
        "arr1"
      ]
    },
    {
      "cell_type": "code",
      "execution_count": null,
      "id": "5b28036c",
      "metadata": {
        "id": "5b28036c",
        "outputId": "b5ef7bf3-c9ea-4ba4-f937-b2e258f63360"
      },
      "outputs": [
        {
          "data": {
            "text/plain": [
              "array([[[0., 0., 0., 0.],\n",
              "        [0., 0., 0., 0.],\n",
              "        [0., 0., 0., 0.]]])"
            ]
          },
          "execution_count": 252,
          "metadata": {},
          "output_type": "execute_result"
        }
      ],
      "source": [
        "arr1 = np.expand_dims(arr, axis = 0)\n",
        "arr1"
      ]
    },
    {
      "cell_type": "code",
      "execution_count": null,
      "id": "f7f66d49",
      "metadata": {
        "id": "f7f66d49"
      },
      "outputs": [],
      "source": []
    }
  ],
  "metadata": {
    "kernelspec": {
      "display_name": "Python 3 (ipykernel)",
      "language": "python",
      "name": "python3"
    },
    "language_info": {
      "codemirror_mode": {
        "name": "ipython",
        "version": 3
      },
      "file_extension": ".py",
      "mimetype": "text/x-python",
      "name": "python",
      "nbconvert_exporter": "python",
      "pygments_lexer": "ipython3",
      "version": "3.11.4"
    },
    "colab": {
      "provenance": []
    }
  },
  "nbformat": 4,
  "nbformat_minor": 5
}