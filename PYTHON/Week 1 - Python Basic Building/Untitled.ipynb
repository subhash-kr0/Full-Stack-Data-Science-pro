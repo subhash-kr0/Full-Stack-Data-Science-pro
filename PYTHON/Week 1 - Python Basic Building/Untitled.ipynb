{
 "cells": [
  {
   "cell_type": "code",
   "execution_count": null,
   "id": "d944ead5-23b9-4d05-9f82-a6d06a3b4316",
   "metadata": {},
   "outputs": [],
   "source": [
    "if\n",
    "if else\n",
    "if elif else\n"
   ]
  },
  {
   "cell_type": "code",
   "execution_count": 8,
   "id": "a34751cd-e602-4b7d-a5e0-72d7faba2c37",
   "metadata": {},
   "outputs": [],
   "source": [
    "age=16"
   ]
  },
  {
   "cell_type": "code",
   "execution_count": 10,
   "id": "68fc92f8-8036-4927-8de8-0c213c347a92",
   "metadata": {},
   "outputs": [
    {
     "name": "stdout",
     "output_type": "stream",
     "text": [
      "you cannot drive\n"
     ]
    }
   ],
   "source": [
    "if age>=18:\n",
    "    print(\"you can drive\")\n",
    "else:\n",
    "    print(\"you cannot drive\")\n",
    "\n",
    "    \n",
    "         "
   ]
  },
  {
   "cell_type": "code",
   "execution_count": 7,
   "id": "73a47689-c829-4352-8c74-45f10dd56020",
   "metadata": {},
   "outputs": [],
   "source": [
    "x=2\n",
    "if x>=23:\n",
    "    print(\"your are inside the if block\")"
   ]
  },
  {
   "cell_type": "code",
   "execution_count": 12,
   "id": "cb9bc683-3a30-4e5e-b491-60addbe37b00",
   "metadata": {},
   "outputs": [
    {
     "name": "stdout",
     "output_type": "stream",
     "text": [
      "excellent performance your grade is c\n"
     ]
    }
   ],
   "source": [
    "score=35\n",
    "\n",
    "if score >=90:\n",
    "    print(\"excellent performance your grade is A+\")\n",
    "elif score >=80:\n",
    "    print(\"excellent performance your grade is A\")\n",
    "elif score >=70:\n",
    "    print(\"excellent performance your grade is B\")\n",
    "else:\n",
    "    print(\"excellent performance your grade is c\")\n"
   ]
  },
  {
   "cell_type": "code",
   "execution_count": 16,
   "id": "fdb4cee1-35c8-45d1-b490-78f47cfc95c7",
   "metadata": {},
   "outputs": [
    {
     "name": "stdin",
     "output_type": "stream",
     "text": [
      "Please enter the time  20\n"
     ]
    },
    {
     "name": "stdout",
     "output_type": "stream",
     "text": [
      "Evening\n"
     ]
    }
   ],
   "source": [
    "time = int(input(\"Please enter the time \"))\n",
    "    \n",
    "if time < 0:\n",
    "           print(\"Invalid\")\n",
    "elif 0 <= time <= 5:\n",
    "           print(\"Night\")\n",
    "elif 6<= time <= 11:\n",
    "           print(\"Morning\")\n",
    "elif 12 <= time <= 17:\n",
    "           print(\"Afternoon\")\n",
    "elif 18 <= time <= 23:\n",
    "           print(\"Evening\")\n",
    "else:\n",
    "           print(\"Invalid\")\n"
   ]
  },
  {
   "cell_type": "code",
   "execution_count": 17,
   "id": "4ae956c8-ff4e-4b99-9d9a-3c20a46daa37",
   "metadata": {},
   "outputs": [],
   "source": [
    "# find largest number from 3 given numbers"
   ]
  },
  {
   "cell_type": "code",
   "execution_count": 18,
   "id": "412cdcc1-ff77-429b-b6d5-def1422c9704",
   "metadata": {},
   "outputs": [
    {
     "name": "stdout",
     "output_type": "stream",
     "text": [
      "largest number is 30\n"
     ]
    }
   ],
   "source": [
    "num1=10\n",
    "num2=20\n",
    "num3=30\n",
    "\n",
    "\n",
    "if (num1>=num2) and (num1>=num3):\n",
    "    largest=num1\n",
    "    print(\"largest number is\",largest)\n",
    "elif (num2>=num1) and (num2>=num3):\n",
    "    largest=num2\n",
    "    print(\"largest number is\",largest)\n",
    "else:\n",
    "    largest=num3\n",
    "    print(\"largest number is\",largest)"
   ]
  },
  {
   "cell_type": "code",
   "execution_count": null,
   "id": "0e56ecb9-852c-41c3-876f-e98500ea626a",
   "metadata": {},
   "outputs": [],
   "source": [
    "add,sub,mul,div"
   ]
  },
  {
   "cell_type": "code",
   "execution_count": 19,
   "id": "d6a42446-f19e-4955-9429-e9bb2b868550",
   "metadata": {},
   "outputs": [
    {
     "name": "stdin",
     "output_type": "stream",
     "text": [
      "enter first number : 2\n",
      "enter operator (+,-,*,/,%) :  +\n",
      "enter second number : 5\n"
     ]
    },
    {
     "name": "stdout",
     "output_type": "stream",
     "text": [
      "7\n"
     ]
    }
   ],
   "source": [
    "first = input(\"enter first number :\")\n",
    "operator = input(\"enter operator (+,-,*,/,%) : \")\n",
    "second = input(\"enter second number :\")\n",
    "\n",
    "first = int(first)\n",
    "second =  int(second)\n",
    "\n",
    "if operator ==  \"+\":\n",
    "    print(first+second)\n",
    "elif operator == \"-\":\n",
    "    print(first-second)\n",
    "elif operator == \"*\":\n",
    "    print(first*second)\n",
    "elif operator == \"/\":\n",
    "    print(first/second)\n",
    "elif operator == \"%\":\n",
    "    print(first%second)\n",
    "\n",
    "else:\n",
    "    print(\"invalid operation\")\n"
   ]
  },
  {
   "cell_type": "code",
   "execution_count": 20,
   "id": "9db1d5cd-d8ec-404f-a886-ecd03cc46539",
   "metadata": {},
   "outputs": [
    {
     "name": "stdin",
     "output_type": "stream",
     "text": [
      "enter number1: 3\n",
      "enter number2: 5\n",
      "enter op: *\n"
     ]
    },
    {
     "name": "stdout",
     "output_type": "stream",
     "text": [
      "15\n"
     ]
    }
   ],
   "source": [
    "num1=int(input(\"enter number1:\"))\n",
    "num2=int(input(\"enter number2:\"))\n",
    "op=input(\"enter op:\")\n",
    "         \n",
    "if op =='+':\n",
    "         print(num1+num2)\n",
    "elif op =='-':\n",
    "         print(num1-num2)\n",
    "elif op=='*':\n",
    "         print(num1*num2)\n",
    "elif op =='/':\n",
    "         print(num1/num2)\n",
    "else:\n",
    "         print(\"Invalid op:\")\n"
   ]
  },
  {
   "cell_type": "code",
   "execution_count": null,
   "id": "294d881e-48e5-4520-a14a-f2d1c688697a",
   "metadata": {},
   "outputs": [
    {
     "name": "stdout",
     "output_type": "stream",
     "text": [
      "number is negitive\n"
     ]
    }
   ],
   "source": [
    "num=-1\n",
    "\n",
    "if (num >= 0):\n",
    "    if num == 0:\n",
    "        print(\"number is 0\")\n",
    "    else:\n",
    "        print(\"number is positive\")\n",
    "else:\n",
    "    print(\"number is negitive\")"
   ]
  },
  {
   "cell_type": "code",
   "execution_count": 29,
   "id": "d80600bc-cc1a-4058-9aa3-417132401fbf",
   "metadata": {},
   "outputs": [
    {
     "data": {
      "text/plain": [
       "range(0, 5)"
      ]
     },
     "execution_count": 29,
     "metadata": {},
     "output_type": "execute_result"
    }
   ],
   "source": [
    "range(5)"
   ]
  },
  {
   "cell_type": "code",
   "execution_count": null,
   "id": "46ca7ed5-50a8-4fdb-87ec-b37d2183c5aa",
   "metadata": {},
   "outputs": [],
   "source": [
    "range(start,stop,step)"
   ]
  },
  {
   "cell_type": "code",
   "execution_count": 25,
   "id": "396e279d-47a4-4719-b16d-fe598bfac07f",
   "metadata": {},
   "outputs": [
    {
     "data": {
      "text/plain": [
       "[0, 1, 2, 3, 4]"
      ]
     },
     "execution_count": 25,
     "metadata": {},
     "output_type": "execute_result"
    }
   ],
   "source": [
    "list(range(5))"
   ]
  },
  {
   "cell_type": "code",
   "execution_count": 26,
   "id": "a75a0931-3c29-45c4-af9c-e65ca4892971",
   "metadata": {},
   "outputs": [
    {
     "data": {
      "text/plain": [
       "[0, 1, 2, 3, 4, 5, 6, 7, 8, 9]"
      ]
     },
     "execution_count": 26,
     "metadata": {},
     "output_type": "execute_result"
    }
   ],
   "source": [
    "list(range(10))"
   ]
  },
  {
   "cell_type": "code",
   "execution_count": 27,
   "id": "ac797714-2419-445e-b49c-78304249b25a",
   "metadata": {},
   "outputs": [
    {
     "data": {
      "text/plain": [
       "[2, 3, 4, 5, 6, 7, 8, 9]"
      ]
     },
     "execution_count": 27,
     "metadata": {},
     "output_type": "execute_result"
    }
   ],
   "source": [
    "list(range(2,10))"
   ]
  },
  {
   "cell_type": "code",
   "execution_count": 31,
   "id": "7cab6206-7fbe-4cd2-8f1e-7666de58001d",
   "metadata": {},
   "outputs": [],
   "source": [
    "#list(range(45,78))"
   ]
  },
  {
   "cell_type": "code",
   "execution_count": 30,
   "id": "915e7e73-266a-4fff-840a-6630c9a95988",
   "metadata": {},
   "outputs": [
    {
     "data": {
      "text/plain": [
       "[2, 4, 6, 8, 10]"
      ]
     },
     "execution_count": 30,
     "metadata": {},
     "output_type": "execute_result"
    }
   ],
   "source": [
    "list(range(2,12,2))"
   ]
  },
  {
   "cell_type": "code",
   "execution_count": 32,
   "id": "c548e808-0462-493a-ba93-fc3ea345d87b",
   "metadata": {},
   "outputs": [
    {
     "name": "stdout",
     "output_type": "stream",
     "text": [
      "0\n",
      "1\n",
      "2\n",
      "3\n",
      "4\n"
     ]
    }
   ],
   "source": [
    "for i in range(5):\n",
    "    print(i)"
   ]
  },
  {
   "cell_type": "code",
   "execution_count": 33,
   "id": "3792d68f-57bb-4c89-a747-e24e8b4c3b88",
   "metadata": {},
   "outputs": [
    {
     "name": "stdout",
     "output_type": "stream",
     "text": [
      "0\n",
      "1\n",
      "2\n"
     ]
    }
   ],
   "source": [
    "for i in range(3):\n",
    "    print(i)"
   ]
  },
  {
   "cell_type": "code",
   "execution_count": 36,
   "id": "fed4c5c7-759a-4ca5-add2-ad96f3a6ac1f",
   "metadata": {},
   "outputs": [
    {
     "name": "stdout",
     "output_type": "stream",
     "text": [
      "a\n",
      "b\n",
      "c\n"
     ]
    }
   ],
   "source": [
    "for l in [\"a\",\"b\",\"c\"]:\n",
    "    print(l)"
   ]
  },
  {
   "cell_type": "code",
   "execution_count": 37,
   "id": "62eaa8f1-9847-4ea9-ac78-990717088e74",
   "metadata": {},
   "outputs": [
    {
     "name": "stdout",
     "output_type": "stream",
     "text": [
      "p\n",
      "w\n",
      "s\n",
      "k\n",
      "i\n",
      "l\n",
      "l\n",
      "s\n"
     ]
    }
   ],
   "source": [
    "for i in \"pwskills\":\n",
    "    print(i)"
   ]
  },
  {
   "cell_type": "code",
   "execution_count": 38,
   "id": "ca4893f5-4d1e-4af8-b12b-73433e0e8c51",
   "metadata": {},
   "outputs": [
    {
     "ename": "TypeError",
     "evalue": "'int' object is not iterable",
     "output_type": "error",
     "traceback": [
      "\u001b[0;31m---------------------------------------------------------------------------\u001b[0m",
      "\u001b[0;31mTypeError\u001b[0m                                 Traceback (most recent call last)",
      "Cell \u001b[0;32mIn[38], line 1\u001b[0m\n\u001b[0;32m----> 1\u001b[0m \u001b[38;5;28;01mfor\u001b[39;00m i \u001b[38;5;129;01min\u001b[39;00m \u001b[38;5;241m23\u001b[39m:\n\u001b[1;32m      2\u001b[0m     \u001b[38;5;28mprint\u001b[39m(i)\n",
      "\u001b[0;31mTypeError\u001b[0m: 'int' object is not iterable"
     ]
    }
   ],
   "source": [
    "for i in 23:\n",
    "    print(i)"
   ]
  },
  {
   "cell_type": "code",
   "execution_count": 39,
   "id": "0bec29c2-917b-4b94-863a-2f0fc58adc43",
   "metadata": {},
   "outputs": [],
   "source": [
    "x={\"name\":\"imran\",\"city\":\"bangalore\"}"
   ]
  },
  {
   "cell_type": "code",
   "execution_count": 41,
   "id": "abff7043-509b-434b-b21d-8b64f4a03631",
   "metadata": {},
   "outputs": [
    {
     "name": "stdout",
     "output_type": "stream",
     "text": [
      "imran\n",
      "bangalore\n"
     ]
    }
   ],
   "source": [
    "for i in x.values():\n",
    "    print(i)"
   ]
  },
  {
   "cell_type": "code",
   "execution_count": null,
   "id": "670a1980-d280-4690-ad10-6da705cf6408",
   "metadata": {},
   "outputs": [],
   "source": []
  },
  {
   "cell_type": "code",
   "execution_count": 42,
   "id": "554a61fe-77be-4dd1-8226-fef69006d94d",
   "metadata": {},
   "outputs": [
    {
     "data": {
      "text/plain": [
       "range(0, 4)"
      ]
     },
     "execution_count": 42,
     "metadata": {},
     "output_type": "execute_result"
    }
   ],
   "source": [
    "range(4)"
   ]
  },
  {
   "cell_type": "code",
   "execution_count": 43,
   "id": "f7170cee-c07a-4e46-88d1-7533767cff21",
   "metadata": {},
   "outputs": [
    {
     "data": {
      "text/plain": [
       "[0, 1, 2, 3]"
      ]
     },
     "execution_count": 43,
     "metadata": {},
     "output_type": "execute_result"
    }
   ],
   "source": [
    "list(range(4))"
   ]
  },
  {
   "cell_type": "code",
   "execution_count": null,
   "id": "cb6cc3db-eae5-4ce9-bd21-95645b4b6103",
   "metadata": {},
   "outputs": [],
   "source": [
    "range(start,stop,step)"
   ]
  },
  {
   "cell_type": "code",
   "execution_count": 45,
   "id": "ff9390ab-14b7-4e2d-b217-d5c4c9d1954b",
   "metadata": {},
   "outputs": [
    {
     "data": {
      "text/plain": [
       "[2, 3, 4]"
      ]
     },
     "execution_count": 45,
     "metadata": {},
     "output_type": "execute_result"
    }
   ],
   "source": [
    "list(range(2,5))"
   ]
  },
  {
   "cell_type": "code",
   "execution_count": 47,
   "id": "5f1ef7e5-ea29-49de-83fc-321d365b362c",
   "metadata": {},
   "outputs": [
    {
     "name": "stdout",
     "output_type": "stream",
     "text": [
      "2\n",
      "5\n",
      "8\n"
     ]
    }
   ],
   "source": [
    "for i in range(2,9,3):\n",
    "    print(i)"
   ]
  },
  {
   "cell_type": "code",
   "execution_count": 49,
   "id": "8ca1de14-8d99-405e-90c1-5792ffe79a22",
   "metadata": {},
   "outputs": [
    {
     "name": "stdout",
     "output_type": "stream",
     "text": [
      "india\n",
      "uk\n",
      "germenry\n"
     ]
    }
   ],
   "source": [
    "country=[\"india\",\"uk\",\"germenry\"]\n",
    "\n",
    "for ct in country:\n",
    "    print(ct)"
   ]
  },
  {
   "cell_type": "code",
   "execution_count": 50,
   "id": "ac3696fa-8420-45c4-824f-06723d0b8aec",
   "metadata": {},
   "outputs": [
    {
     "name": "stdout",
     "output_type": "stream",
     "text": [
      "india\n",
      "uk\n",
      "germenry\n"
     ]
    }
   ],
   "source": [
    "country=[\"india\",\"uk\",\"germenry\"]\n",
    "\n",
    "\n",
    "for index in range(len(country)):\n",
    "    print(country[index])"
   ]
  },
  {
   "cell_type": "code",
   "execution_count": 51,
   "id": "c66e9600-8deb-4ab1-9271-30aa66df5d8f",
   "metadata": {},
   "outputs": [],
   "source": [
    "dict1={\"x1\":1,\"x2\":2,\"x3\":3}"
   ]
  },
  {
   "cell_type": "code",
   "execution_count": 54,
   "id": "79d6e811-45e4-4fce-93da-5493f21c008b",
   "metadata": {},
   "outputs": [
    {
     "data": {
      "text/plain": [
       "dict_keys(['x1', 'x2', 'x3'])"
      ]
     },
     "execution_count": 54,
     "metadata": {},
     "output_type": "execute_result"
    }
   ],
   "source": [
    "dict1.keys()"
   ]
  },
  {
   "cell_type": "code",
   "execution_count": 56,
   "id": "95d28630-d2b2-4d8e-ae42-ee67671aa7eb",
   "metadata": {},
   "outputs": [
    {
     "data": {
      "text/plain": [
       "dict_values([1, 2, 3])"
      ]
     },
     "execution_count": 56,
     "metadata": {},
     "output_type": "execute_result"
    }
   ],
   "source": [
    "dict1.values()"
   ]
  },
  {
   "cell_type": "code",
   "execution_count": 58,
   "id": "c5c7480f-fbc9-4b8a-bae1-3606b9306936",
   "metadata": {},
   "outputs": [
    {
     "name": "stdout",
     "output_type": "stream",
     "text": [
      "x1 1\n",
      "x2 2\n",
      "x3 3\n"
     ]
    }
   ],
   "source": [
    "for key in dict1:\n",
    "    print(key, dict1[key])"
   ]
  },
  {
   "cell_type": "code",
   "execution_count": 59,
   "id": "b9866ea5-b546-4ed8-a29e-e8954cbabb60",
   "metadata": {},
   "outputs": [
    {
     "data": {
      "text/plain": [
       "1"
      ]
     },
     "execution_count": 59,
     "metadata": {},
     "output_type": "execute_result"
    }
   ],
   "source": [
    "dict1['x1']\n"
   ]
  },
  {
   "cell_type": "code",
   "execution_count": 61,
   "id": "1e94027c-65f1-48eb-96cd-4994ef5b8227",
   "metadata": {},
   "outputs": [
    {
     "name": "stdout",
     "output_type": "stream",
     "text": [
      "x1\n",
      "x2\n",
      "x3\n"
     ]
    }
   ],
   "source": [
    "for i in dict1:\n",
    "    print(i)"
   ]
  },
  {
   "cell_type": "code",
   "execution_count": 62,
   "id": "760e004b-bf13-4cd3-845c-dc278238dda0",
   "metadata": {},
   "outputs": [
    {
     "name": "stdout",
     "output_type": "stream",
     "text": [
      "1\n",
      "2\n",
      "3\n"
     ]
    }
   ],
   "source": [
    "for i in dict1.values():\n",
    "    print(i)"
   ]
  },
  {
   "cell_type": "code",
   "execution_count": 63,
   "id": "faea5ae0-6072-4a20-bbf6-1f078d068aa8",
   "metadata": {},
   "outputs": [
    {
     "name": "stdout",
     "output_type": "stream",
     "text": [
      "1\n",
      "2\n",
      "3\n"
     ]
    }
   ],
   "source": [
    "for i in (1,2,3):\n",
    "    print(i)"
   ]
  },
  {
   "cell_type": "code",
   "execution_count": 64,
   "id": "4199586d-4fd1-42bf-a493-1f95ad5ebeb4",
   "metadata": {},
   "outputs": [
    {
     "name": "stdout",
     "output_type": "stream",
     "text": [
      "1\n",
      "2\n",
      "3\n"
     ]
    }
   ],
   "source": [
    "for i in {1,2,3}:\n",
    "    print(i)"
   ]
  },
  {
   "cell_type": "code",
   "execution_count": 65,
   "id": "2a883bf6-4e94-44e1-b937-e376aad0f17b",
   "metadata": {},
   "outputs": [
    {
     "name": "stdout",
     "output_type": "stream",
     "text": [
      "p\n",
      "w\n",
      "s\n",
      "k\n",
      "i\n",
      "l\n",
      "l\n",
      "s\n"
     ]
    }
   ],
   "source": [
    "x=\"pwskills\"\n",
    "\n",
    "for i in x:\n",
    "    print(i)"
   ]
  },
  {
   "cell_type": "code",
   "execution_count": 68,
   "id": "42f62134-9629-437c-ab66-4f7819c9369e",
   "metadata": {},
   "outputs": [
    {
     "name": "stdout",
     "output_type": "stream",
     "text": [
      "[0, 1, 2, 3, 4, 5, 6, 7, 8, 9]\n"
     ]
    }
   ],
   "source": [
    "print(list(range(10)))"
   ]
  },
  {
   "cell_type": "code",
   "execution_count": 72,
   "id": "394de535-ba1b-4f8f-bcf7-3aa82879e5e5",
   "metadata": {},
   "outputs": [
    {
     "name": "stdout",
     "output_type": "stream",
     "text": [
      "hi @pw@ skills @ineuron @"
     ]
    }
   ],
   "source": [
    "print(\"hi\",end = ' @' )\n",
    "print(\"pw\", end='@ ')\n",
    "print(\"skills\",end = ' @')\n",
    "print(\"ineuron\",end=' @')"
   ]
  },
  {
   "cell_type": "code",
   "execution_count": 77,
   "id": "20230d8c-522f-4893-a2cd-062c457d6f6c",
   "metadata": {},
   "outputs": [
    {
     "name": "stdout",
     "output_type": "stream",
     "text": [
      "0 1 2 3 4 5 6 7 8 9 "
     ]
    }
   ],
   "source": [
    "for i in range(10):\n",
    "    print(i,end=' ')"
   ]
  },
  {
   "cell_type": "code",
   "execution_count": 79,
   "id": "a9b805eb-de37-4a5a-b8d8-534a5136b325",
   "metadata": {},
   "outputs": [
    {
     "name": "stdout",
     "output_type": "stream",
     "text": [
      "0\n",
      "1\n",
      "2\n",
      "3\n",
      "4\n",
      "done\n"
     ]
    }
   ],
   "source": [
    "for i in range(5):\n",
    "    print(i)\n",
    "else:\n",
    "    print(\"done\")"
   ]
  },
  {
   "cell_type": "code",
   "execution_count": 84,
   "id": "e3b61934-5e33-4b10-95b0-5448230d2477",
   "metadata": {},
   "outputs": [
    {
     "name": "stdout",
     "output_type": "stream",
     "text": [
      "* \n",
      "* * \n",
      "* * * \n",
      "* * * * \n",
      "* * * * * \n"
     ]
    }
   ],
   "source": [
    "for i in range(5):\n",
    "    for j in range(i+1):\n",
    "        print(\"*\",end=' ')\n",
    "    print()\n",
    "    "
   ]
  },
  {
   "cell_type": "code",
   "execution_count": 85,
   "id": "434d7627-cde9-4136-b0e2-bed3824f191f",
   "metadata": {},
   "outputs": [
    {
     "name": "stdout",
     "output_type": "stream",
     "text": [
      "* * * * * \n",
      "* * * * \n",
      "* * * \n",
      "* * \n",
      "* \n"
     ]
    }
   ],
   "source": [
    "for i in range(5,0,-1):\n",
    "    for j in range(i,0,-1):\n",
    "        print(\"*\", end = \" \")\n",
    "    print()\n"
   ]
  },
  {
   "cell_type": "code",
   "execution_count": 87,
   "id": "c3c2f923-cff4-496d-9240-efe37a06e8db",
   "metadata": {},
   "outputs": [
    {
     "name": "stdout",
     "output_type": "stream",
     "text": [
      "1 2 3 4 5 \n",
      "2 4 6 8 10 \n",
      "3 6 9 12 15 \n",
      "4 8 12 16 20 \n",
      "5 10 15 20 25 \n"
     ]
    }
   ],
   "source": [
    "for i in range(1,6): \n",
    "    for j in range(1,6):\n",
    "        print(i*j,end=' ')\n",
    "    print()\n"
   ]
  },
  {
   "cell_type": "code",
   "execution_count": 88,
   "id": "3888083b-8ae1-4319-a90b-006cfe66a7fd",
   "metadata": {},
   "outputs": [
    {
     "name": "stdout",
     "output_type": "stream",
     "text": [
      "1\n",
      "2\n",
      "3\n",
      "4\n",
      "5\n"
     ]
    }
   ],
   "source": [
    "count=1\n",
    "\n",
    "while count<=5:\n",
    "    print(count)\n",
    "    count +=1\n",
    "    #count=count+1"
   ]
  },
  {
   "cell_type": "code",
   "execution_count": 90,
   "id": "58dff442-81f2-48cd-9845-416518267e9b",
   "metadata": {},
   "outputs": [
    {
     "name": "stdin",
     "output_type": "stream",
     "text": [
      "enter a word i\n"
     ]
    },
    {
     "name": "stdout",
     "output_type": "stream",
     "text": [
      "You entered  i\n"
     ]
    },
    {
     "name": "stdin",
     "output_type": "stream",
     "text": [
      "enter a word o\n"
     ]
    },
    {
     "name": "stdout",
     "output_type": "stream",
     "text": [
      "You entered  o\n"
     ]
    },
    {
     "name": "stdin",
     "output_type": "stream",
     "text": [
      "enter a word p\n"
     ]
    },
    {
     "name": "stdout",
     "output_type": "stream",
     "text": [
      "You entered  p\n"
     ]
    },
    {
     "name": "stdin",
     "output_type": "stream",
     "text": [
      "enter a word a\n"
     ]
    },
    {
     "name": "stdout",
     "output_type": "stream",
     "text": [
      "You entered  a\n"
     ]
    },
    {
     "name": "stdin",
     "output_type": "stream",
     "text": [
      "enter a word quit\n"
     ]
    },
    {
     "name": "stdout",
     "output_type": "stream",
     "text": [
      "You entered  quit\n"
     ]
    }
   ],
   "source": [
    "text = \" \"\n",
    "\n",
    "while text != \"quit\":\n",
    "    text= input(\"enter a word\")\n",
    "    print(\"You entered \", text)"
   ]
  },
  {
   "cell_type": "code",
   "execution_count": null,
   "id": "a7e23998-8bdf-4a06-bf9c-4c05c4de4f34",
   "metadata": {},
   "outputs": [],
   "source": []
  },
  {
   "cell_type": "code",
   "execution_count": null,
   "id": "556e5655-aaad-4049-bc54-ae9358d68f8e",
   "metadata": {},
   "outputs": [],
   "source": [
    "if you know how times you will iterate go with for loop\n",
    "if you dont know how times you will iterate go with while loop"
   ]
  },
  {
   "cell_type": "code",
   "execution_count": 91,
   "id": "20828f9b-e95d-453b-8acb-9cea4da2acad",
   "metadata": {},
   "outputs": [
    {
     "name": "stdin",
     "output_type": "stream",
     "text": [
      "enter the age 45\n"
     ]
    },
    {
     "name": "stdout",
     "output_type": "stream",
     "text": [
      "you entered  45\n"
     ]
    },
    {
     "name": "stdin",
     "output_type": "stream",
     "text": [
      "enter the age 67\n"
     ]
    },
    {
     "name": "stdout",
     "output_type": "stream",
     "text": [
      "you entered  67\n"
     ]
    },
    {
     "name": "stdin",
     "output_type": "stream",
     "text": [
      "enter the age 78\n"
     ]
    },
    {
     "name": "stdout",
     "output_type": "stream",
     "text": [
      "you entered  78\n"
     ]
    },
    {
     "name": "stdin",
     "output_type": "stream",
     "text": [
      "enter the age 23\n"
     ]
    },
    {
     "name": "stdout",
     "output_type": "stream",
     "text": [
      "you entered  23\n"
     ]
    }
   ],
   "source": [
    "\n",
    "# guess the age\n",
    "\n",
    "age = 0\n",
    "\n",
    "while age!=23:\n",
    "    age = int(input('enter the age'))\n",
    "    print('you entered ',age)\n",
    "\n"
   ]
  },
  {
   "cell_type": "code",
   "execution_count": 92,
   "id": "ab067039-2212-4927-9850-aab8fbf71dfd",
   "metadata": {},
   "outputs": [
    {
     "name": "stdin",
     "output_type": "stream",
     "text": [
      "Enter Your age  56\n"
     ]
    },
    {
     "name": "stdout",
     "output_type": "stream",
     "text": [
      "invalid age\n"
     ]
    },
    {
     "name": "stdin",
     "output_type": "stream",
     "text": [
      "Enter Your age  45\n"
     ]
    },
    {
     "name": "stdout",
     "output_type": "stream",
     "text": [
      "invalid age\n"
     ]
    },
    {
     "name": "stdin",
     "output_type": "stream",
     "text": [
      "Enter Your age  23\n"
     ]
    },
    {
     "name": "stdout",
     "output_type": "stream",
     "text": [
      "invalid age\n",
      "Age is  from list\n"
     ]
    }
   ],
   "source": [
    "list1=[23,23,22,21,20]\n",
    "age=0;\n",
    "while age not in list1:\n",
    "    age = int(input(\"Enter Your age \"))\n",
    "    print(\"invalid age\")\n",
    "else:\n",
    "    print(\"Age is  from list\");\n"
   ]
  }
 ],
 "metadata": {
  "kernelspec": {
   "display_name": "Python 3 (ipykernel)",
   "language": "python",
   "name": "python3"
  },
  "language_info": {
   "codemirror_mode": {
    "name": "ipython",
    "version": 3
   },
   "file_extension": ".py",
   "mimetype": "text/x-python",
   "name": "python",
   "nbconvert_exporter": "python",
   "pygments_lexer": "ipython3",
   "version": "3.10.8"
  }
 },
 "nbformat": 4,
 "nbformat_minor": 5
}
