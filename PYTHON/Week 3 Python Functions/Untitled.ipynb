{
 "cells": [
  {
   "cell_type": "code",
   "execution_count": null,
   "id": "f1208d9c-0a15-4f5d-8555-cfe718a4107b",
   "metadata": {},
   "outputs": [],
   "source": [
    "17.Accept a string as input. Your task is to determine if the input string is a valid password or not. For a \n",
    "string to be a valid password, it must satisfy all the conditions given below:\n",
    "(1) It should have at least 8 and at most 32 characters\n",
    "(2) It should start with an uppercase or lowercase letter\n",
    "(3) It should not have any of these characters: / \\ = ' \"\n",
    "(4) It should not have spaces\n",
    "It could have any character that is not mentioned in the list of characters to be avoided (points 3 and \n",
    "4). Output True if the string forms a valid password and False otherwise"
   ]
  },
  {
   "cell_type": "code",
   "execution_count": 1,
   "id": "ee4c8995-7d33-4be7-abeb-2c0ba05bd2aa",
   "metadata": {},
   "outputs": [],
   "source": [
    "def validPassword(pwd: str):\n",
    "    if 8 <= len(pwd) <= 32 and pwd[0].isalpha() and all(char not in pwd for char in [\" \", \"'\", \"/\", \"=\", '\"', '\\\\']):\n",
    "        return True\n",
    "    else:\n",
    "        return False\n"
   ]
  },
  {
   "cell_type": "code",
   "execution_count": 3,
   "id": "9dabbfa8-6b28-4e01-a768-f13a29c16463",
   "metadata": {},
   "outputs": [
    {
     "data": {
      "text/plain": [
       "False"
      ]
     },
     "execution_count": 3,
     "metadata": {},
     "output_type": "execute_result"
    }
   ],
   "source": [
    "validPassword('123hggkhG')"
   ]
  },
  {
   "cell_type": "code",
   "execution_count": 4,
   "id": "9c1e2215-e45a-4f54-84d5-8dd05fd4c7e6",
   "metadata": {},
   "outputs": [],
   "source": [
    "def greet():\n",
    "    \n",
    "    message='Hello'\n",
    "    \n",
    "    print(\"local\",message)"
   ]
  },
  {
   "cell_type": "code",
   "execution_count": null,
   "id": "9ae945d1-4b65-4ca5-a1c6-cd9959c47d8a",
   "metadata": {},
   "outputs": [],
   "source": []
  },
  {
   "cell_type": "code",
   "execution_count": 5,
   "id": "c296fd6f-81e5-40c0-86ab-4950b6cb7e96",
   "metadata": {},
   "outputs": [
    {
     "name": "stdout",
     "output_type": "stream",
     "text": [
      "local Hello\n"
     ]
    }
   ],
   "source": [
    "greet()"
   ]
  },
  {
   "cell_type": "code",
   "execution_count": 7,
   "id": "b38712f4-30e3-4e02-96ef-f2c7ac69316e",
   "metadata": {},
   "outputs": [
    {
     "ename": "NameError",
     "evalue": "name 'message' is not defined",
     "output_type": "error",
     "traceback": [
      "\u001b[0;31m---------------------------------------------------------------------------\u001b[0m",
      "\u001b[0;31mNameError\u001b[0m                                 Traceback (most recent call last)",
      "Cell \u001b[0;32mIn[7], line 7\u001b[0m\n\u001b[1;32m      3\u001b[0m     message\u001b[38;5;241m=\u001b[39m\u001b[38;5;124m'\u001b[39m\u001b[38;5;124mHello\u001b[39m\u001b[38;5;124m'\u001b[39m\n\u001b[1;32m      5\u001b[0m     \u001b[38;5;28mprint\u001b[39m(\u001b[38;5;124m\"\u001b[39m\u001b[38;5;124mlocal\u001b[39m\u001b[38;5;124m\"\u001b[39m,message)\n\u001b[0;32m----> 7\u001b[0m \u001b[38;5;28mprint\u001b[39m(\u001b[43mmessage\u001b[49m)\n\u001b[1;32m      8\u001b[0m \u001b[38;5;66;03m#greet()\u001b[39;00m\n",
      "\u001b[0;31mNameError\u001b[0m: name 'message' is not defined"
     ]
    }
   ],
   "source": [
    "def greet():\n",
    "    \n",
    "    message='Hello'\n",
    "    \n",
    "    print(\"local\",message)\n",
    "    \n",
    "print(message)\n",
    "#greet()"
   ]
  },
  {
   "cell_type": "code",
   "execution_count": 9,
   "id": "6e26a30c-8726-4bdb-ba27-677fcf0729a3",
   "metadata": {},
   "outputs": [
    {
     "ename": "NameError",
     "evalue": "name 'x' is not defined",
     "output_type": "error",
     "traceback": [
      "\u001b[0;31m---------------------------------------------------------------------------\u001b[0m",
      "\u001b[0;31mNameError\u001b[0m                                 Traceback (most recent call last)",
      "Cell \u001b[0;32mIn[9], line 5\u001b[0m\n\u001b[1;32m      3\u001b[0m     y\u001b[38;5;241m=\u001b[39m\u001b[38;5;241m30\u001b[39m\n\u001b[1;32m      4\u001b[0m     \u001b[38;5;28mprint\u001b[39m(x\u001b[38;5;241m+\u001b[39my)\n\u001b[0;32m----> 5\u001b[0m \u001b[38;5;28mprint\u001b[39m(\u001b[43mx\u001b[49m)\n\u001b[1;32m      6\u001b[0m \u001b[38;5;28mprint\u001b[39m(y)\n",
      "\u001b[0;31mNameError\u001b[0m: name 'x' is not defined"
     ]
    }
   ],
   "source": [
    "def add():\n",
    "    x=20\n",
    "    y=30\n",
    "    print(x+y)\n",
    "print(x)\n",
    "print(y)"
   ]
  },
  {
   "cell_type": "code",
   "execution_count": 11,
   "id": "e7d65514-a90d-4239-b61a-f669c16febd9",
   "metadata": {},
   "outputs": [
    {
     "name": "stdout",
     "output_type": "stream",
     "text": [
      "python is fantastic\n",
      "awesome\n"
     ]
    }
   ],
   "source": [
    "x= \"awesome\"\n",
    "#global scope\n",
    "\n",
    "def myfunc():\n",
    "    x=\"fantastic\"\n",
    "    #local scope\n",
    "    print(\"python is \" + x)\n",
    "    \n",
    "myfunc()\n",
    "print(x)"
   ]
  },
  {
   "cell_type": "code",
   "execution_count": 12,
   "id": "0e614f79-a80d-48b9-b453-60898ee29301",
   "metadata": {},
   "outputs": [],
   "source": [
    "x=20\n",
    "\n",
    "def add():\n",
    "    \n",
    "    y=30\n",
    "    print(\"local variable y=\",y)\n",
    "    \n",
    "    print(\"global variable x=\", x)\n",
    "    \n",
    "    z= x+y\n",
    "    print(z)"
   ]
  },
  {
   "cell_type": "code",
   "execution_count": 13,
   "id": "2126da9d-b059-4c5e-aeb2-dca5c5172b07",
   "metadata": {},
   "outputs": [
    {
     "name": "stdout",
     "output_type": "stream",
     "text": [
      "local variable y= 30\n",
      "global variable x= 20\n",
      "50\n"
     ]
    }
   ],
   "source": [
    "add()"
   ]
  },
  {
   "cell_type": "code",
   "execution_count": null,
   "id": "8c59a842-eca0-49a6-8858-ef7b4ba5a90e",
   "metadata": {},
   "outputs": [],
   "source": [
    "## Python Function Arguments"
   ]
  },
  {
   "cell_type": "code",
   "execution_count": 29,
   "id": "0b4e5d56-180b-41dc-8fa5-ef3568b1b99b",
   "metadata": {},
   "outputs": [],
   "source": [
    "# positional arguments\n",
    "def add_numbers(a,b):\n",
    "    sum = a+b\n",
    "    print(\"sum\",sum)\n",
    "    "
   ]
  },
  {
   "cell_type": "code",
   "execution_count": 31,
   "id": "e582a1af-2248-4ef0-90c4-8de968059cdf",
   "metadata": {},
   "outputs": [
    {
     "name": "stdout",
     "output_type": "stream",
     "text": [
      "sum 6\n"
     ]
    }
   ],
   "source": [
    "add_numbers(2,4)"
   ]
  },
  {
   "cell_type": "code",
   "execution_count": 18,
   "id": "e7c0a7dc-2fbd-4049-8dd2-747d42cf64a9",
   "metadata": {},
   "outputs": [],
   "source": [
    "def emp_name(name):\n",
    "    print(\"my name is \",name)"
   ]
  },
  {
   "cell_type": "code",
   "execution_count": 20,
   "id": "2d14fd7d-0b7b-4069-85ee-c266535279e9",
   "metadata": {},
   "outputs": [
    {
     "name": "stdout",
     "output_type": "stream",
     "text": [
      "my name is  imran\n"
     ]
    }
   ],
   "source": [
    "emp_name('imran')"
   ]
  },
  {
   "cell_type": "code",
   "execution_count": 32,
   "id": "f0863849-df07-4796-85d5-e9033ea24336",
   "metadata": {},
   "outputs": [],
   "source": [
    "#default arguments\n",
    "def add_numbers(a=4,b=8):\n",
    "    sum = a+b\n",
    "    print(\"sum\",sum)\n",
    "    "
   ]
  },
  {
   "cell_type": "code",
   "execution_count": 33,
   "id": "030cab7c-7c96-41eb-8fa2-fc76456f76a8",
   "metadata": {},
   "outputs": [
    {
     "name": "stdout",
     "output_type": "stream",
     "text": [
      "sum 12\n"
     ]
    }
   ],
   "source": [
    "add_numbers()"
   ]
  },
  {
   "cell_type": "code",
   "execution_count": 23,
   "id": "83ef410a-8665-4db3-ab1b-266fa4b5e8ac",
   "metadata": {},
   "outputs": [
    {
     "name": "stdout",
     "output_type": "stream",
     "text": [
      "sum 12\n"
     ]
    }
   ],
   "source": [
    "add_numbers()"
   ]
  },
  {
   "cell_type": "code",
   "execution_count": 34,
   "id": "0c070143-c961-4b49-af43-3c1dc5492650",
   "metadata": {},
   "outputs": [
    {
     "name": "stdout",
     "output_type": "stream",
     "text": [
      "sum 10\n"
     ]
    }
   ],
   "source": [
    "add_numbers(2,8)"
   ]
  },
  {
   "cell_type": "code",
   "execution_count": 26,
   "id": "f77479f7-30eb-42be-ab72-ac6737cf7546",
   "metadata": {},
   "outputs": [],
   "source": [
    "def emp_name(name=\"pw skills\"):\n",
    "    print(\"my name is \",name)"
   ]
  },
  {
   "cell_type": "code",
   "execution_count": 28,
   "id": "3ec3c0bc-699f-4996-889d-58bb5286eaa9",
   "metadata": {},
   "outputs": [
    {
     "name": "stdout",
     "output_type": "stream",
     "text": [
      "my name is  imran\n"
     ]
    }
   ],
   "source": [
    "emp_name('imran')"
   ]
  },
  {
   "cell_type": "code",
   "execution_count": 35,
   "id": "d24765b8-bcd9-406e-b76d-b976c73e34e0",
   "metadata": {},
   "outputs": [],
   "source": [
    "# keyword arguments"
   ]
  },
  {
   "cell_type": "code",
   "execution_count": 36,
   "id": "43700f84-6502-476f-bd04-40bd0201a23d",
   "metadata": {},
   "outputs": [],
   "source": [
    "def display_info(first_name,last_name):\n",
    "    print(\"first name\",first_name)\n",
    "    print(\"last name\", last_name)"
   ]
  },
  {
   "cell_type": "code",
   "execution_count": 37,
   "id": "13f43d7a-4f64-4da6-8d90-2c54e3dcd7d5",
   "metadata": {},
   "outputs": [
    {
     "name": "stdout",
     "output_type": "stream",
     "text": [
      "first name pw\n",
      "last name skills\n"
     ]
    }
   ],
   "source": [
    "display_info(first_name='pw', last_name='skills')"
   ]
  },
  {
   "cell_type": "code",
   "execution_count": 38,
   "id": "3ada0aec-d3c7-42f7-97c2-d19c178a4e32",
   "metadata": {},
   "outputs": [
    {
     "name": "stdout",
     "output_type": "stream",
     "text": [
      "first name pw\n",
      "last name skills\n"
     ]
    }
   ],
   "source": [
    "display_info(last_name='skills',first_name='pw', )"
   ]
  },
  {
   "cell_type": "code",
   "execution_count": 39,
   "id": "ef094815-eef9-448f-91dd-722f29c5d503",
   "metadata": {},
   "outputs": [],
   "source": [
    "def add_numbers(a,b):\n",
    "    sum = a+b\n",
    "    print(\"sum\",sum)"
   ]
  },
  {
   "cell_type": "code",
   "execution_count": 40,
   "id": "f3e06ae0-8081-46ba-9c62-d81ee51be2bd",
   "metadata": {},
   "outputs": [
    {
     "name": "stdout",
     "output_type": "stream",
     "text": [
      "sum 11\n"
     ]
    }
   ],
   "source": [
    "add_numbers(a=4,b=7)"
   ]
  },
  {
   "cell_type": "code",
   "execution_count": 41,
   "id": "f67800d0-0c5a-4c28-979a-c8c2bb24254e",
   "metadata": {},
   "outputs": [
    {
     "name": "stdout",
     "output_type": "stream",
     "text": [
      "sum 11\n"
     ]
    }
   ],
   "source": [
    "add_numbers(b=4,a=7)"
   ]
  },
  {
   "cell_type": "code",
   "execution_count": 54,
   "id": "57903fa8-4904-44b7-a873-e6bc9b250f39",
   "metadata": {},
   "outputs": [],
   "source": [
    "def add_numbers(a,b,c,d):\n",
    "    sum = a+b+c+d\n",
    "    print(\"sum\",sum)"
   ]
  },
  {
   "cell_type": "code",
   "execution_count": 55,
   "id": "508d0a7c-ef5b-4fcc-97bb-2d3946952fee",
   "metadata": {},
   "outputs": [
    {
     "name": "stdout",
     "output_type": "stream",
     "text": [
      "sum 10\n"
     ]
    }
   ],
   "source": [
    "add_numbers(1,2,3,4)"
   ]
  },
  {
   "cell_type": "code",
   "execution_count": null,
   "id": "9e7cee07-7b79-419a-a81e-c670ee134110",
   "metadata": {},
   "outputs": [],
   "source": [
    "# *args and **kargs"
   ]
  },
  {
   "cell_type": "code",
   "execution_count": 48,
   "id": "9f1e175b-fde2-4d12-a5b2-49ba812f96d7",
   "metadata": {},
   "outputs": [],
   "source": [
    "def find_sum(*numbers):\n",
    "    result=0\n",
    "    \n",
    "    for num in numbers:\n",
    "        result = result+num\n",
    "    print(\"sum\",result)"
   ]
  },
  {
   "cell_type": "code",
   "execution_count": 49,
   "id": "32a534f5-eb4c-4e62-ac87-23fe9dc0b3fe",
   "metadata": {},
   "outputs": [
    {
     "name": "stdout",
     "output_type": "stream",
     "text": [
      "sum 0\n"
     ]
    }
   ],
   "source": [
    "find_sum()"
   ]
  },
  {
   "cell_type": "code",
   "execution_count": 50,
   "id": "def80881-1bb1-4a97-91b7-b9a90984b4fe",
   "metadata": {},
   "outputs": [
    {
     "name": "stdout",
     "output_type": "stream",
     "text": [
      "sum 6\n"
     ]
    }
   ],
   "source": [
    "find_sum(1,2,3)"
   ]
  },
  {
   "cell_type": "code",
   "execution_count": 51,
   "id": "43a1466b-1636-4d2f-bd50-710c890c8d17",
   "metadata": {},
   "outputs": [
    {
     "name": "stdout",
     "output_type": "stream",
     "text": [
      "sum 36\n"
     ]
    }
   ],
   "source": [
    "find_sum(1,2,3,4,5,6,7,8)"
   ]
  },
  {
   "cell_type": "code",
   "execution_count": 52,
   "id": "96db12ec-67be-453d-87a6-4538f25efef9",
   "metadata": {},
   "outputs": [
    {
     "name": "stdout",
     "output_type": "stream",
     "text": [
      "sum 55\n"
     ]
    }
   ],
   "source": [
    "find_sum(1,2,3,4,5,6,7,8,9,10)"
   ]
  },
  {
   "cell_type": "code",
   "execution_count": 56,
   "id": "a3bb37b1-29f1-409d-a9c4-b79cdfa6a384",
   "metadata": {},
   "outputs": [],
   "source": [
    "def simple(*x):\n",
    "    print(x)"
   ]
  },
  {
   "cell_type": "code",
   "execution_count": 57,
   "id": "966a260c-d77f-4133-8174-eeef2f680e90",
   "metadata": {},
   "outputs": [
    {
     "name": "stdout",
     "output_type": "stream",
     "text": [
      "()\n"
     ]
    }
   ],
   "source": [
    "simple()"
   ]
  },
  {
   "cell_type": "code",
   "execution_count": 58,
   "id": "c97277d1-26c1-4220-9dc9-8516571fb4a0",
   "metadata": {},
   "outputs": [
    {
     "name": "stdout",
     "output_type": "stream",
     "text": [
      "(1, 2, 3)\n"
     ]
    }
   ],
   "source": [
    "simple(1,2,3)"
   ]
  },
  {
   "cell_type": "code",
   "execution_count": 59,
   "id": "85c0949b-55b0-4928-94ff-761de9bfe2c2",
   "metadata": {},
   "outputs": [
    {
     "name": "stdout",
     "output_type": "stream",
     "text": [
      "(1, 2, 3, 4, 5, 6, 7)\n"
     ]
    }
   ],
   "source": [
    "simple(1,2,3,4,5,6,7)"
   ]
  },
  {
   "cell_type": "code",
   "execution_count": 68,
   "id": "05e63fea-436f-4ea9-9bb1-68eec0c64de4",
   "metadata": {},
   "outputs": [],
   "source": [
    "def intro(**data):\n",
    "    print(\"data type of argument\", type(data))\n",
    "          \n",
    "    for key,value in data.items():\n",
    "          print(key,value)"
   ]
  },
  {
   "cell_type": "code",
   "execution_count": 70,
   "id": "99e0e57f-f441-4aa7-ac14-4ca7c312e59c",
   "metadata": {},
   "outputs": [
    {
     "name": "stdout",
     "output_type": "stream",
     "text": [
      "data type of argument <class 'dict'>\n",
      "firstname pw\n",
      "lastname skills\n"
     ]
    }
   ],
   "source": [
    "intro(firstname='pw',lastname='skills')"
   ]
  },
  {
   "cell_type": "code",
   "execution_count": 65,
   "id": "368b2fea-4d1c-4fae-9f54-8aebff5162ba",
   "metadata": {},
   "outputs": [],
   "source": [
    "x={'a':1,'b':2}"
   ]
  },
  {
   "cell_type": "code",
   "execution_count": 66,
   "id": "cc78b275-d2bf-4f45-874f-5a72ae069a61",
   "metadata": {},
   "outputs": [
    {
     "data": {
      "text/plain": [
       "dict_items([('a', 1), ('b', 2)])"
      ]
     },
     "execution_count": 66,
     "metadata": {},
     "output_type": "execute_result"
    }
   ],
   "source": [
    "x.items()"
   ]
  },
  {
   "cell_type": "code",
   "execution_count": 63,
   "id": "42dcbb8f-2c5a-4b6c-aa84-8185b0fb3b16",
   "metadata": {},
   "outputs": [
    {
     "name": "stdout",
     "output_type": "stream",
     "text": [
      "a 1\n",
      "b 2\n"
     ]
    }
   ],
   "source": [
    "for keys,value in x.items():\n",
    "    print(keys,value)"
   ]
  },
  {
   "cell_type": "code",
   "execution_count": 71,
   "id": "494e8d48-d03e-490e-adda-697be84efbf1",
   "metadata": {},
   "outputs": [],
   "source": [
    "def simple(**x):\n",
    "    print(x)"
   ]
  },
  {
   "cell_type": "code",
   "execution_count": 73,
   "id": "a795e090-fc20-4170-b880-286c23f74ae8",
   "metadata": {},
   "outputs": [
    {
     "name": "stdout",
     "output_type": "stream",
     "text": [
      "{'name': 'imran', 'age': 24, 'id_no': 23}\n"
     ]
    }
   ],
   "source": [
    "simple(name='imran',age=24,id_no=23)"
   ]
  },
  {
   "cell_type": "code",
   "execution_count": 74,
   "id": "0980542e-41cb-4ca8-8a72-634ee519cd0f",
   "metadata": {},
   "outputs": [],
   "source": [
    "def simple1(*y):\n",
    "    print(y)"
   ]
  },
  {
   "cell_type": "code",
   "execution_count": 75,
   "id": "fe3ee2bd-5cb0-4896-b96b-91c4f1aaffc0",
   "metadata": {},
   "outputs": [
    {
     "name": "stdout",
     "output_type": "stream",
     "text": [
      "(2, 3)\n"
     ]
    }
   ],
   "source": [
    "simple1(2,3)"
   ]
  },
  {
   "cell_type": "code",
   "execution_count": 76,
   "id": "2290182b-a7ec-4a93-852c-ed6d8af413ed",
   "metadata": {},
   "outputs": [
    {
     "name": "stdout",
     "output_type": "stream",
     "text": [
      "(3, 5, 6)\n"
     ]
    }
   ],
   "source": [
    "simple1(3,5,6)"
   ]
  },
  {
   "cell_type": "code",
   "execution_count": 77,
   "id": "6b762d2d-196f-4735-b767-0a069346770c",
   "metadata": {},
   "outputs": [
    {
     "name": "stdout",
     "output_type": "stream",
     "text": [
      "(4, 5, 6, 7, 8, 9)\n"
     ]
    }
   ],
   "source": [
    "simple1(4,5,6,7,8,9)"
   ]
  },
  {
   "cell_type": "code",
   "execution_count": null,
   "id": "775201b8-c1db-43a3-9b32-db0fab862ef9",
   "metadata": {},
   "outputs": [],
   "source": [
    "def simple(**x):\n",
    "    print(x)"
   ]
  },
  {
   "cell_type": "code",
   "execution_count": 78,
   "id": "83f361cf-8968-4607-a1e9-3dca5424469d",
   "metadata": {},
   "outputs": [
    {
     "name": "stdout",
     "output_type": "stream",
     "text": [
      "{'name': 'imran'}\n"
     ]
    }
   ],
   "source": [
    "simple(name='imran')"
   ]
  },
  {
   "cell_type": "code",
   "execution_count": 79,
   "id": "0fe75729-8741-4182-9c04-099e72448688",
   "metadata": {},
   "outputs": [
    {
     "name": "stdout",
     "output_type": "stream",
     "text": [
      "{'name': 'imran', 'age': 45}\n"
     ]
    }
   ],
   "source": [
    "simple(name='imran',age=45)"
   ]
  },
  {
   "cell_type": "code",
   "execution_count": null,
   "id": "70e7b88d-96b6-49c3-a8b8-3ede756010dc",
   "metadata": {},
   "outputs": [],
   "source": []
  },
  {
   "cell_type": "code",
   "execution_count": null,
   "id": "c8cd45a5-9493-4e78-98b1-2cf46b05e329",
   "metadata": {},
   "outputs": [],
   "source": []
  },
  {
   "cell_type": "code",
   "execution_count": null,
   "id": "64dcd727-5892-403d-aa9a-efffb3518887",
   "metadata": {},
   "outputs": [],
   "source": []
  },
  {
   "cell_type": "code",
   "execution_count": null,
   "id": "f7c004d1-e966-4e16-9760-8dbb7936979c",
   "metadata": {},
   "outputs": [],
   "source": []
  },
  {
   "cell_type": "code",
   "execution_count": null,
   "id": "9f3bb2a5-6fe7-4d62-8f40-b60dcc772807",
   "metadata": {},
   "outputs": [],
   "source": []
  },
  {
   "cell_type": "code",
   "execution_count": null,
   "id": "1efbb1d9-aa78-40cc-bbff-2f91b7e61a62",
   "metadata": {},
   "outputs": [],
   "source": []
  },
  {
   "cell_type": "code",
   "execution_count": null,
   "id": "9cf374a1-2e49-4005-8693-7c133c372f35",
   "metadata": {},
   "outputs": [],
   "source": []
  },
  {
   "cell_type": "code",
   "execution_count": null,
   "id": "5feea595-1c1b-4cb2-805c-9ff3069b9c1e",
   "metadata": {},
   "outputs": [],
   "source": []
  },
  {
   "cell_type": "code",
   "execution_count": 80,
   "id": "e77f2971-76b1-4745-a715-2a59f1808aef",
   "metadata": {},
   "outputs": [],
   "source": [
    "def shownumbers(*args):\n",
    "    print(x)"
   ]
  },
  {
   "cell_type": "code",
   "execution_count": 81,
   "id": "7e169570-13a7-4867-a048-c01a4843f4f8",
   "metadata": {},
   "outputs": [
    {
     "name": "stdout",
     "output_type": "stream",
     "text": [
      "(1,)\n"
     ]
    }
   ],
   "source": [
    "shownumbers(1)"
   ]
  },
  {
   "cell_type": "code",
   "execution_count": 82,
   "id": "8be643e4-5e71-451b-8bbc-be97adcf2ccf",
   "metadata": {},
   "outputs": [
    {
     "name": "stdout",
     "output_type": "stream",
     "text": [
      "(2, 3, 4, 6)\n"
     ]
    }
   ],
   "source": [
    "shownumbers(2,3,4,6)"
   ]
  },
  {
   "cell_type": "code",
   "execution_count": 83,
   "id": "4284306c-314a-4cf3-99f2-1fe9257235e9",
   "metadata": {},
   "outputs": [],
   "source": [
    "def showkeyvale(**kwargs):\n",
    "    print(y)"
   ]
  },
  {
   "cell_type": "code",
   "execution_count": 84,
   "id": "b6d6c505-f300-460a-8adf-26c20768cc2a",
   "metadata": {},
   "outputs": [
    {
     "name": "stdout",
     "output_type": "stream",
     "text": [
      "{'x': 1, 'y': 2}\n"
     ]
    }
   ],
   "source": [
    "showkeyvale(x=1,y=2)"
   ]
  },
  {
   "cell_type": "code",
   "execution_count": 86,
   "id": "98d53c17-bd05-4453-8399-3f0784578177",
   "metadata": {},
   "outputs": [
    {
     "name": "stdout",
     "output_type": "stream",
     "text": [
      "{'x': 1, 'y': 2, 'w': 9, 'u': 'pw'}\n"
     ]
    }
   ],
   "source": [
    "showkeyvale(x=1,y=2,w=9,u=\"pw\")"
   ]
  },
  {
   "cell_type": "code",
   "execution_count": 95,
   "id": "2f402630-864b-4e14-9593-b359400cf704",
   "metadata": {},
   "outputs": [],
   "source": [
    "def showkeyvale(**kwargs):\n",
    "    print(kwargs)"
   ]
  },
  {
   "cell_type": "code",
   "execution_count": 96,
   "id": "a959cfbc-2773-4208-8923-6d687edec6ab",
   "metadata": {},
   "outputs": [
    {
     "name": "stdout",
     "output_type": "stream",
     "text": [
      "{'x': 2, 'u': 5}\n"
     ]
    }
   ],
   "source": [
    "showkeyvale(x=2,u=5)"
   ]
  },
  {
   "cell_type": "code",
   "execution_count": 98,
   "id": "b0c3a3ac-8804-405c-a475-080dddd83747",
   "metadata": {},
   "outputs": [],
   "source": [
    "# lambda functions"
   ]
  },
  {
   "cell_type": "code",
   "execution_count": 100,
   "id": "c76cd006-04e5-4ce5-b27e-19b7c1866e3f",
   "metadata": {},
   "outputs": [],
   "source": [
    "x=lambda : print(\"hello wolrd\")"
   ]
  },
  {
   "cell_type": "code",
   "execution_count": 101,
   "id": "42827c61-8c13-4d6c-a18e-8de05ccff5b4",
   "metadata": {},
   "outputs": [
    {
     "name": "stdout",
     "output_type": "stream",
     "text": [
      "hello wolrd\n"
     ]
    }
   ],
   "source": [
    "x()"
   ]
  },
  {
   "cell_type": "code",
   "execution_count": 103,
   "id": "49743fdf-45cd-4683-b1bf-778f76592797",
   "metadata": {},
   "outputs": [],
   "source": [
    "y=lambda : print(\"pw skills\")"
   ]
  },
  {
   "cell_type": "code",
   "execution_count": 104,
   "id": "373f4ee3-1e8b-4c67-83a8-0f15eca88593",
   "metadata": {},
   "outputs": [
    {
     "name": "stdout",
     "output_type": "stream",
     "text": [
      "pw skills\n"
     ]
    }
   ],
   "source": [
    "y()"
   ]
  },
  {
   "cell_type": "code",
   "execution_count": 106,
   "id": "af67ab4a-d91d-4464-b577-f77e8f48ce05",
   "metadata": {},
   "outputs": [],
   "source": [
    "addnum=lambda a,b:a+b"
   ]
  },
  {
   "cell_type": "code",
   "execution_count": 108,
   "id": "1a649604-954a-46ac-a066-17877cc49989",
   "metadata": {},
   "outputs": [
    {
     "data": {
      "text/plain": [
       "5"
      ]
     },
     "execution_count": 108,
     "metadata": {},
     "output_type": "execute_result"
    }
   ],
   "source": [
    "addnum(2,3)"
   ]
  },
  {
   "cell_type": "code",
   "execution_count": 109,
   "id": "79498693-fca8-4fad-a7cc-fad6b7d817dc",
   "metadata": {},
   "outputs": [],
   "source": [
    "multi = lambda a,b : a*b\n"
   ]
  },
  {
   "cell_type": "code",
   "execution_count": 110,
   "id": "5d4e5e47-a70b-4921-82c0-d1249dd9d0bf",
   "metadata": {},
   "outputs": [
    {
     "data": {
      "text/plain": [
       "8"
      ]
     },
     "execution_count": 110,
     "metadata": {},
     "output_type": "execute_result"
    }
   ],
   "source": [
    "multi(2,4)"
   ]
  },
  {
   "cell_type": "code",
   "execution_count": 112,
   "id": "032c6bc3-1dda-4785-86a3-75af125a4802",
   "metadata": {},
   "outputs": [
    {
     "name": "stdin",
     "output_type": "stream",
     "text": [
      "enter first number 2\n",
      "enter second number 3\n"
     ]
    },
    {
     "name": "stdout",
     "output_type": "stream",
     "text": [
      "(4, 9)\n"
     ]
    }
   ],
   "source": [
    "a= int(input(\"enter first number\"))\n",
    "b= int(input(\"enter second number\"))\n",
    "square=lambda a,b:(a**2,b**2)\n",
    "print(square(a,b))"
   ]
  },
  {
   "cell_type": "code",
   "execution_count": 113,
   "id": "24c4e4af-ce42-46f2-8df7-705ee7412c35",
   "metadata": {},
   "outputs": [],
   "source": [
    "def evenodd(n):\n",
    "    if n%2==0:\n",
    "        print(\"number is even\")\n",
    "    else:\n",
    "        print(\"number is odd\")"
   ]
  },
  {
   "cell_type": "code",
   "execution_count": 114,
   "id": "7697b3f4-e16b-45e4-abe6-f36d9bc8fe94",
   "metadata": {},
   "outputs": [
    {
     "name": "stdout",
     "output_type": "stream",
     "text": [
      "number is odd\n"
     ]
    }
   ],
   "source": [
    "evenodd(23)"
   ]
  },
  {
   "cell_type": "code",
   "execution_count": 119,
   "id": "8d919fcd-c08b-4357-b245-2e8e0ec6b83f",
   "metadata": {},
   "outputs": [],
   "source": [
    "x=lambda n: \"number is even\" if n%2==0 else \"number is odd\""
   ]
  },
  {
   "cell_type": "code",
   "execution_count": 120,
   "id": "2974f74f-cab5-4f7b-add2-b16535b24547",
   "metadata": {},
   "outputs": [
    {
     "data": {
      "text/plain": [
       "'number is odd'"
      ]
     },
     "execution_count": 120,
     "metadata": {},
     "output_type": "execute_result"
    }
   ],
   "source": [
    "x(3)"
   ]
  },
  {
   "cell_type": "code",
   "execution_count": null,
   "id": "4c6cdc6a-1b46-48b4-92ff-8305d8b606ba",
   "metadata": {},
   "outputs": [],
   "source": [
    "# write a lambda function that accespts 2 arguments and return the greater amongst them"
   ]
  },
  {
   "cell_type": "code",
   "execution_count": 121,
   "id": "8a61a0f8-55ee-40b8-bd76-5e778112311b",
   "metadata": {},
   "outputs": [],
   "source": [
    "greatest_num=lambda a,b: a if a>b else b"
   ]
  },
  {
   "cell_type": "code",
   "execution_count": 122,
   "id": "3a0b1bb1-bb5d-4d50-85cc-3145e8cff848",
   "metadata": {},
   "outputs": [
    {
     "data": {
      "text/plain": [
       "8"
      ]
     },
     "execution_count": 122,
     "metadata": {},
     "output_type": "execute_result"
    }
   ],
   "source": [
    "greatest_num(4,8)"
   ]
  },
  {
   "cell_type": "code",
   "execution_count": null,
   "id": "9854aa5b-5e00-4fdd-b748-4e0149db44bb",
   "metadata": {},
   "outputs": [],
   "source": [
    "# lambda fucntion to fing sum of numbers"
   ]
  },
  {
   "cell_type": "code",
   "execution_count": 125,
   "id": "9a7d50c2-4a61-4cde-810d-074c08cd0f40",
   "metadata": {},
   "outputs": [],
   "source": [
    "sum_of =lambda a,b,c: (a+b+c)\n"
   ]
  },
  {
   "cell_type": "code",
   "execution_count": 126,
   "id": "bcae0035-47e4-4428-b533-0535d261dcdc",
   "metadata": {},
   "outputs": [
    {
     "data": {
      "text/plain": [
       "6"
      ]
     },
     "execution_count": 126,
     "metadata": {},
     "output_type": "execute_result"
    }
   ],
   "source": [
    "sum_of(1,2,3)"
   ]
  },
  {
   "cell_type": "code",
   "execution_count": 127,
   "id": "218b7320-ba2b-4622-beb2-8e32e59bf3f2",
   "metadata": {},
   "outputs": [],
   "source": [
    "products = [\n",
    "    {'name':'product1','price':50},\n",
    "    {'name':'product2','price':40},\n",
    "    {'name':'product3','price':30},\n",
    "    {'name':'product4','price':80}\n",
    "]\n",
    "\n",
    "# sorted()\n",
    "\n",
    "sorted_products= sorted(products, key=lambda x:x['price'],reverse=True)\n",
    "    "
   ]
  },
  {
   "cell_type": "code",
   "execution_count": 128,
   "id": "d0b34f76-cf6b-44f7-814d-5da4369fa741",
   "metadata": {},
   "outputs": [
    {
     "name": "stdout",
     "output_type": "stream",
     "text": [
      "{'name': 'product3', 'price': 30}\n",
      "{'name': 'product2', 'price': 40}\n",
      "{'name': 'product1', 'price': 50}\n",
      "{'name': 'product4', 'price': 80}\n"
     ]
    }
   ],
   "source": [
    "for i in sorted_products:\n",
    "    print(i)"
   ]
  },
  {
   "cell_type": "code",
   "execution_count": 129,
   "id": "2445ef58-8ee3-480b-8864-e40e9d2df57d",
   "metadata": {},
   "outputs": [
    {
     "data": {
      "text/plain": [
       "[{'name': 'product3', 'price': 30},\n",
       " {'name': 'product2', 'price': 40},\n",
       " {'name': 'product1', 'price': 50},\n",
       " {'name': 'product4', 'price': 80}]"
      ]
     },
     "execution_count": 129,
     "metadata": {},
     "output_type": "execute_result"
    }
   ],
   "source": [
    "sorted_products"
   ]
  },
  {
   "cell_type": "code",
   "execution_count": 133,
   "id": "9bb37616-2a3a-4902-a055-bbbb8501aa6c",
   "metadata": {},
   "outputs": [],
   "source": [
    "x={'name':'product1','price':50}"
   ]
  },
  {
   "cell_type": "code",
   "execution_count": 131,
   "id": "0ffd1ba7-2610-4885-b5cd-b34b56e4d9fa",
   "metadata": {},
   "outputs": [],
   "source": [
    "key=lambda x:x['price']"
   ]
  },
  {
   "cell_type": "code",
   "execution_count": 132,
   "id": "a084a85f-4b2f-49a3-80d6-aa45c85de97b",
   "metadata": {},
   "outputs": [
    {
     "data": {
      "text/plain": [
       "<function __main__.<lambda>(x)>"
      ]
     },
     "execution_count": 132,
     "metadata": {},
     "output_type": "execute_result"
    }
   ],
   "source": [
    "key"
   ]
  },
  {
   "cell_type": "code",
   "execution_count": 134,
   "id": "dc4cedb3-b3dc-4847-b87e-fbab4da01b94",
   "metadata": {},
   "outputs": [
    {
     "data": {
      "text/plain": [
       "50"
      ]
     },
     "execution_count": 134,
     "metadata": {},
     "output_type": "execute_result"
    }
   ],
   "source": [
    "x['price']"
   ]
  },
  {
   "cell_type": "code",
   "execution_count": null,
   "id": "63a0bcf0-48f9-4ce9-b7b9-b91a38b0f276",
   "metadata": {},
   "outputs": [],
   "source": [
    "# wite a lambda expression that accepts a charater as argument and retun true if it is a volwel other flase\n",
    "# a e i o u\n",
    "# imran \n",
    "# i a"
   ]
  },
  {
   "cell_type": "code",
   "execution_count": null,
   "id": "01966b83-c5ff-4b79-87e0-f7f989b2d941",
   "metadata": {},
   "outputs": [],
   "source": [
    "# filter\n",
    "# map\n",
    "# reduce"
   ]
  },
  {
   "cell_type": "code",
   "execution_count": 139,
   "id": "22691a04-9042-4d9d-8efd-12ff810014b1",
   "metadata": {},
   "outputs": [
    {
     "name": "stdin",
     "output_type": "stream",
     "text": [
      "Enter a string:  imran\n"
     ]
    },
    {
     "data": {
      "text/plain": [
       "['i', 'a']"
      ]
     },
     "execution_count": 139,
     "metadata": {},
     "output_type": "execute_result"
    }
   ],
   "source": [
    "vowels = ['a','e','i','o','u','A','E','I','O','U']\n",
    "string = input(\"Enter a string: \")\n",
    "\n",
    "vowels_list = [string[i] for i in range(len(string)) if string[i] in vowels]\n",
    "vowels_list\n"
   ]
  },
  {
   "cell_type": "code",
   "execution_count": 140,
   "id": "a566dc5a-d70a-4904-a040-cc5912273398",
   "metadata": {},
   "outputs": [],
   "source": [
    "x=-10"
   ]
  },
  {
   "cell_type": "code",
   "execution_count": 141,
   "id": "7ef1c01e-2f39-4a85-9ac1-6b140ef7114b",
   "metadata": {},
   "outputs": [
    {
     "data": {
      "text/plain": [
       "10"
      ]
     },
     "execution_count": 141,
     "metadata": {},
     "output_type": "execute_result"
    }
   ],
   "source": [
    "abs(x)"
   ]
  },
  {
   "cell_type": "code",
   "execution_count": 142,
   "id": "fbfb8528-796f-49d0-b444-003f5ea2c8c1",
   "metadata": {},
   "outputs": [],
   "source": [
    "x=5"
   ]
  },
  {
   "cell_type": "code",
   "execution_count": 143,
   "id": "629263f9-376b-4577-8ae2-a0920d0d29ad",
   "metadata": {},
   "outputs": [
    {
     "data": {
      "text/plain": [
       "139859879395696"
      ]
     },
     "execution_count": 143,
     "metadata": {},
     "output_type": "execute_result"
    }
   ],
   "source": [
    "id(x)"
   ]
  },
  {
   "cell_type": "code",
   "execution_count": 144,
   "id": "b07ae3cb-5bb9-4f2b-9ba9-c95a13f1f249",
   "metadata": {},
   "outputs": [],
   "source": [
    "l=[1,2,3,4]"
   ]
  },
  {
   "cell_type": "code",
   "execution_count": 145,
   "id": "95be1090-d66b-4031-a8b2-ef9e34c79144",
   "metadata": {},
   "outputs": [
    {
     "data": {
      "text/plain": [
       "4"
      ]
     },
     "execution_count": 145,
     "metadata": {},
     "output_type": "execute_result"
    }
   ],
   "source": [
    "max(l)"
   ]
  },
  {
   "cell_type": "code",
   "execution_count": 147,
   "id": "50e27fae-c742-4df3-ba6f-1830b4ec6942",
   "metadata": {},
   "outputs": [],
   "source": [
    "x=2"
   ]
  },
  {
   "cell_type": "code",
   "execution_count": 148,
   "id": "bf5c657b-920d-436c-81f8-804a2f34be80",
   "metadata": {},
   "outputs": [],
   "source": [
    "y=str(x)"
   ]
  },
  {
   "cell_type": "code",
   "execution_count": 149,
   "id": "a51c8b24-91de-4c83-9c0a-45dfa62375c9",
   "metadata": {},
   "outputs": [
    {
     "data": {
      "text/plain": [
       "'2'"
      ]
     },
     "execution_count": 149,
     "metadata": {},
     "output_type": "execute_result"
    }
   ],
   "source": [
    "y"
   ]
  },
  {
   "cell_type": "code",
   "execution_count": 151,
   "id": "8ac7881f-eca9-4587-9c91-0a1ae9260ce0",
   "metadata": {},
   "outputs": [
    {
     "data": {
      "text/plain": [
       "str"
      ]
     },
     "execution_count": 151,
     "metadata": {},
     "output_type": "execute_result"
    }
   ],
   "source": [
    "type(y)"
   ]
  },
  {
   "cell_type": "code",
   "execution_count": 172,
   "id": "fe70309e-d654-4034-a545-531a317b828d",
   "metadata": {},
   "outputs": [],
   "source": [
    "language=['python','java','javascript']"
   ]
  },
  {
   "cell_type": "code",
   "execution_count": 173,
   "id": "0527acca-6c71-4bfe-8e35-50d57070c835",
   "metadata": {},
   "outputs": [],
   "source": [
    "enumerate_prime= enumerate(language,3)"
   ]
  },
  {
   "cell_type": "code",
   "execution_count": 174,
   "id": "edc67932-1761-4409-981d-f3cd9dc35453",
   "metadata": {},
   "outputs": [
    {
     "data": {
      "text/plain": [
       "[(3, 'python'), (4, 'java'), (5, 'javascript')]"
      ]
     },
     "execution_count": 174,
     "metadata": {},
     "output_type": "execute_result"
    }
   ],
   "source": [
    "list(enumerate_prime)"
   ]
  },
  {
   "cell_type": "code",
   "execution_count": 169,
   "id": "565ef69f-153c-4c88-9787-eb7fbb7365e7",
   "metadata": {},
   "outputs": [],
   "source": [
    "## List comprehension"
   ]
  },
  {
   "cell_type": "code",
   "execution_count": 176,
   "id": "a421dbd9-21c5-40cc-acd2-8398c3c0af75",
   "metadata": {},
   "outputs": [],
   "source": [
    "lst=[1,2,3,4,5,6,7,8,9,10]"
   ]
  },
  {
   "cell_type": "code",
   "execution_count": 177,
   "id": "c3db9570-6b86-4a55-a784-4f5fe7da55a3",
   "metadata": {},
   "outputs": [],
   "source": [
    "a=[x for x in lst]"
   ]
  },
  {
   "cell_type": "code",
   "execution_count": 178,
   "id": "9f1d8d66-42b1-4b3a-a787-70030044e283",
   "metadata": {},
   "outputs": [
    {
     "data": {
      "text/plain": [
       "[1, 2, 3, 4, 5, 6, 7, 8, 9, 10]"
      ]
     },
     "execution_count": 178,
     "metadata": {},
     "output_type": "execute_result"
    }
   ],
   "source": [
    "a"
   ]
  },
  {
   "cell_type": "code",
   "execution_count": 179,
   "id": "5f6baafc-d821-4131-b072-83ab64397cae",
   "metadata": {},
   "outputs": [
    {
     "name": "stdout",
     "output_type": "stream",
     "text": [
      "1\n",
      "2\n",
      "3\n",
      "4\n",
      "5\n",
      "6\n",
      "7\n",
      "8\n",
      "9\n",
      "10\n"
     ]
    }
   ],
   "source": [
    "for i in lst:\n",
    "    print(i)"
   ]
  },
  {
   "cell_type": "code",
   "execution_count": 181,
   "id": "9005ee53-ddf5-4335-9370-68ab5b01bc6a",
   "metadata": {},
   "outputs": [],
   "source": [
    "lst=[1,2,3,4,5,6,7,8,9,10]\n",
    "a=[x+1 for x in lst]"
   ]
  },
  {
   "cell_type": "code",
   "execution_count": 182,
   "id": "c5863c64-74f3-44e5-b5f7-22ce2ab1b446",
   "metadata": {},
   "outputs": [
    {
     "data": {
      "text/plain": [
       "[2, 3, 4, 5, 6, 7, 8, 9, 10, 11]"
      ]
     },
     "execution_count": 182,
     "metadata": {},
     "output_type": "execute_result"
    }
   ],
   "source": [
    "a"
   ]
  },
  {
   "cell_type": "code",
   "execution_count": 186,
   "id": "1c94409b-14a6-43e6-ae93-b2e66fc3c546",
   "metadata": {},
   "outputs": [],
   "source": [
    "lst=[1,2,3,4,5,6,7,8,9,10]\n",
    "a=[x*2 for x in lst]"
   ]
  },
  {
   "cell_type": "code",
   "execution_count": 187,
   "id": "3697561e-a106-4df9-a6ca-224ba2c5da1b",
   "metadata": {},
   "outputs": [
    {
     "data": {
      "text/plain": [
       "[2, 4, 6, 8, 10, 12, 14, 16, 18, 20]"
      ]
     },
     "execution_count": 187,
     "metadata": {},
     "output_type": "execute_result"
    }
   ],
   "source": [
    "a"
   ]
  },
  {
   "cell_type": "code",
   "execution_count": 188,
   "id": "bcaff278-72b9-4899-b1db-1d7f4bd9fca9",
   "metadata": {},
   "outputs": [],
   "source": [
    "lst=[1,2,3,4,5,6,7,8,9,10]\n",
    "\n",
    "c= [ x for x in lst if x>4]"
   ]
  },
  {
   "cell_type": "code",
   "execution_count": 189,
   "id": "4827a748-4bde-46eb-b74f-43458b39bcb3",
   "metadata": {},
   "outputs": [
    {
     "data": {
      "text/plain": [
       "[5, 6, 7, 8, 9, 10]"
      ]
     },
     "execution_count": 189,
     "metadata": {},
     "output_type": "execute_result"
    }
   ],
   "source": [
    "c"
   ]
  },
  {
   "cell_type": "code",
   "execution_count": 190,
   "id": "ed85b39a-3455-4eab-876a-74cbc567bcdf",
   "metadata": {},
   "outputs": [],
   "source": [
    "a=[]\n",
    "\n",
    "for x in lst:\n",
    "    if x>4:\n",
    "        a.append(x)"
   ]
  },
  {
   "cell_type": "code",
   "execution_count": 191,
   "id": "757e949d-fa4e-4625-91e4-f6c688a06f83",
   "metadata": {},
   "outputs": [
    {
     "data": {
      "text/plain": [
       "[5, 6, 7, 8, 9, 10]"
      ]
     },
     "execution_count": 191,
     "metadata": {},
     "output_type": "execute_result"
    }
   ],
   "source": [
    "a"
   ]
  },
  {
   "cell_type": "code",
   "execution_count": 192,
   "id": "722a46da-0497-48c9-a497-c7c901956536",
   "metadata": {},
   "outputs": [],
   "source": [
    "lst=[1,2,3,4,5,6,7,8,9,10]"
   ]
  },
  {
   "cell_type": "code",
   "execution_count": 193,
   "id": "7bcb9f52-5902-47e5-9b36-ebba2569cfca",
   "metadata": {},
   "outputs": [
    {
     "data": {
      "text/plain": [
       "[1, 3, 5, 7, 9]"
      ]
     },
     "execution_count": 193,
     "metadata": {},
     "output_type": "execute_result"
    }
   ],
   "source": [
    "l=[1,2,3,4,5,6,7,8,9,10]\n",
    "result=[i for i in l if i%2!=0]\n",
    "result\n"
   ]
  },
  {
   "cell_type": "code",
   "execution_count": 195,
   "id": "e714b75a-9f1c-4a88-a529-085aca407245",
   "metadata": {},
   "outputs": [
    {
     "data": {
      "text/plain": [
       "[2, 4, 6, 8, 10]"
      ]
     },
     "execution_count": 195,
     "metadata": {},
     "output_type": "execute_result"
    }
   ],
   "source": [
    "l=[1,2,3,4,5,6,7,8,9,10]\n",
    "result=[i for i in l if i%2==0]\n",
    "result"
   ]
  },
  {
   "cell_type": "code",
   "execution_count": 196,
   "id": "c41d7970-9917-4f7b-8ee0-4365a02e1cf8",
   "metadata": {},
   "outputs": [],
   "source": [
    "lst=[1,2,3,4,5,6,7,8,9,10]\n",
    "d=[x for x in lst if x>4 if x%2==0]"
   ]
  },
  {
   "cell_type": "code",
   "execution_count": 197,
   "id": "63791ce9-9172-4865-a301-58d6ba8aafcd",
   "metadata": {},
   "outputs": [
    {
     "data": {
      "text/plain": [
       "[6, 8, 10]"
      ]
     },
     "execution_count": 197,
     "metadata": {},
     "output_type": "execute_result"
    }
   ],
   "source": [
    "d"
   ]
  },
  {
   "cell_type": "code",
   "execution_count": null,
   "id": "87b43d02-e803-44bb-8dff-62d9f47c3922",
   "metadata": {},
   "outputs": [],
   "source": [
    "a=[]\n",
    "\n",
    "for x in lst:\n",
    "    if x>4:\n",
    "        a.append(x)"
   ]
  },
  {
   "cell_type": "code",
   "execution_count": 199,
   "id": "7e1fd85b-b191-4071-8fd9-888d8bf6d609",
   "metadata": {},
   "outputs": [],
   "source": [
    "lst=[1,2,3,4,5,6,7,8,9,10]\n",
    "e= [x if x>4 else 'lessthan 4' for x in lst]"
   ]
  },
  {
   "cell_type": "code",
   "execution_count": 200,
   "id": "04f5a4f7-7059-4950-8e2a-3a0af60dae92",
   "metadata": {},
   "outputs": [
    {
     "data": {
      "text/plain": [
       "['lessthan 4', 'lessthan 4', 'lessthan 4', 'lessthan 4', 5, 6, 7, 8, 9, 10]"
      ]
     },
     "execution_count": 200,
     "metadata": {},
     "output_type": "execute_result"
    }
   ],
   "source": [
    "e"
   ]
  },
  {
   "cell_type": "code",
   "execution_count": null,
   "id": "659e6f7b-1a70-42aa-9f65-7b9ba4b4887e",
   "metadata": {},
   "outputs": [],
   "source": [
    "a=[]\n",
    "\n",
    "for x in lst:\n",
    "    if x>4:\n",
    "        a.append(x)\n",
    "    else:\n",
    "        a.append(\"less than 4\")"
   ]
  },
  {
   "cell_type": "code",
   "execution_count": 205,
   "id": "99f3a3dd-8dff-4c22-bfb5-645e3dac1b01",
   "metadata": {},
   "outputs": [],
   "source": [
    "lst=[1,2,3,4,5,6,7,8,9,10]\n",
    "f=['two' if x%2==0 else 'three' if x%3==0 else 'not a & b' for x in lst]"
   ]
  },
  {
   "cell_type": "code",
   "execution_count": null,
   "id": "2fe835b5-d5c9-4cb2-bfe4-9862aea5ef2a",
   "metadata": {},
   "outputs": [],
   "source": [
    "list = [91, 12, 63, 5] \n",
    "f = lambda listx: [print(x) for x in listx]\n",
    "f(list)\n"
   ]
  },
  {
   "cell_type": "code",
   "execution_count": 206,
   "id": "2aaeb0e2-01b2-4a4b-83bf-f6da21937ff9",
   "metadata": {},
   "outputs": [
    {
     "data": {
      "text/plain": [
       "['not a & b',\n",
       " 'two',\n",
       " 'three',\n",
       " 'two',\n",
       " 'not a & b',\n",
       " 'two',\n",
       " 'not a & b',\n",
       " 'two',\n",
       " 'three',\n",
       " 'two']"
      ]
     },
     "execution_count": 206,
     "metadata": {},
     "output_type": "execute_result"
    }
   ],
   "source": [
    "f"
   ]
  },
  {
   "cell_type": "code",
   "execution_count": 203,
   "id": "96834840-eb67-4327-988c-6852369a0c20",
   "metadata": {},
   "outputs": [],
   "source": [
    "a=[]\n",
    "\n",
    "for x in lst:\n",
    "    if x%2==0:\n",
    "        a.append('two')\n",
    "    elif x%3==0:\n",
    "        a.append('three')\n",
    "    else:\n",
    "        a.append(\"not 2 & 3\")"
   ]
  },
  {
   "cell_type": "code",
   "execution_count": 204,
   "id": "3d8ce6ff-633e-4df5-b8a5-845fd09dbe7e",
   "metadata": {},
   "outputs": [
    {
     "data": {
      "text/plain": [
       "['not 2 & 3',\n",
       " 'two',\n",
       " 'three',\n",
       " 'two',\n",
       " 'not 2 & 3',\n",
       " 'two',\n",
       " 'not 2 & 3',\n",
       " 'two',\n",
       " 'three',\n",
       " 'two']"
      ]
     },
     "execution_count": 204,
     "metadata": {},
     "output_type": "execute_result"
    }
   ],
   "source": [
    "a"
   ]
  }
 ],
 "metadata": {
  "kernelspec": {
   "display_name": "Python 3 (ipykernel)",
   "language": "python",
   "name": "python3"
  },
  "language_info": {
   "codemirror_mode": {
    "name": "ipython",
    "version": 3
   },
   "file_extension": ".py",
   "mimetype": "text/x-python",
   "name": "python",
   "nbconvert_exporter": "python",
   "pygments_lexer": "ipython3",
   "version": "3.10.8"
  }
 },
 "nbformat": 4,
 "nbformat_minor": 5
}
