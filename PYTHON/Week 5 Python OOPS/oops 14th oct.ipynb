{
 "cells": [
  {
   "cell_type": "code",
   "execution_count": 1,
   "id": "d055f95f-a12c-4e50-bcc9-ba422dd1ca1a",
   "metadata": {},
   "outputs": [],
   "source": [
    "class pwskills :\n",
    "    \n",
    "    def __init__(self, mentor):\n",
    "        self.mentor = mentor \n",
    "        \n",
    "    def mentor_name(self):\n",
    "        print(self.mentor)\n",
    "        \n",
    "class datascience(pwskills):\n",
    "    def __init__(self, mentor ,mentor_mail_id):\n",
    "        self.mentor = mentor\n",
    "        self.mentor_mail_id = mentor_mail_id\n",
    "        \n",
    "    def show_info(self) :\n",
    "        print(self.mentor , self.mentor_mail_id)"
   ]
  },
  {
   "cell_type": "code",
   "execution_count": 3,
   "id": "abe1fbbc-6c02-4bda-9676-148f7cdcfec3",
   "metadata": {},
   "outputs": [],
   "source": [
    "python_basic = datascience(\"sudh\" , \"sdfdsf@gmail.com\")"
   ]
  },
  {
   "cell_type": "code",
   "execution_count": 4,
   "id": "2149b66d-03ca-4b05-94e9-2681bb08e216",
   "metadata": {},
   "outputs": [
    {
     "name": "stdout",
     "output_type": "stream",
     "text": [
      "sudh sdfdsf@gmail.com\n"
     ]
    }
   ],
   "source": [
    "python_basic.show_info()"
   ]
  },
  {
   "cell_type": "code",
   "execution_count": 5,
   "id": "3a096d31-564f-4ff8-9f6c-7ac10464d7bb",
   "metadata": {},
   "outputs": [
    {
     "name": "stdout",
     "output_type": "stream",
     "text": [
      "sudh\n"
     ]
    }
   ],
   "source": [
    "python_basic.mentor_name()"
   ]
  },
  {
   "cell_type": "code",
   "execution_count": 16,
   "id": "f96430f1-e580-4ccc-bb0c-28d01e738c0e",
   "metadata": {},
   "outputs": [],
   "source": [
    "class pwskills :\n",
    "    \n",
    "    def __init__(self, mentor):\n",
    "        self.mentor = mentor \n",
    "        \n",
    "    def mentor_name(self):\n",
    "        print(self.mentor)\n",
    "        \n",
    "class datascience(pwskills):\n",
    "    def __init__(self, mentor ,mentor_mail_id):\n",
    "        #self.mentor = mentor\n",
    "        super().__init__(mentor)\n",
    "        self.mentor_mail_id = mentor_mail_id\n",
    "        \n",
    "    def show_info(self) :\n",
    "        super().mentor_name()\n",
    "        print(self.mentor , self.mentor_mail_id)"
   ]
  },
  {
   "cell_type": "code",
   "execution_count": 17,
   "id": "fa9c4740-5123-47cd-b49e-985475696b1f",
   "metadata": {},
   "outputs": [],
   "source": [
    "python_basic = datascience(\"sudh\" , \"sdfdsf@gmail.com\")"
   ]
  },
  {
   "cell_type": "code",
   "execution_count": 18,
   "id": "c2c18032-e59c-4809-8044-118f9019a753",
   "metadata": {},
   "outputs": [
    {
     "name": "stdout",
     "output_type": "stream",
     "text": [
      "sudh\n",
      "sudh sdfdsf@gmail.com\n"
     ]
    }
   ],
   "source": [
    "python_basic.show_info()"
   ]
  },
  {
   "cell_type": "code",
   "execution_count": 9,
   "id": "41e41eec-e30b-4ee7-9a2b-b1af59af09aa",
   "metadata": {},
   "outputs": [
    {
     "name": "stdout",
     "output_type": "stream",
     "text": [
      "sudh\n"
     ]
    }
   ],
   "source": [
    "python_basic.mentor_name()"
   ]
  },
  {
   "cell_type": "code",
   "execution_count": 39,
   "id": "100917c8-ca36-4620-a5a7-072744e580f8",
   "metadata": {},
   "outputs": [],
   "source": [
    "class human:\n",
    "    def __init__(self) :\n",
    "        pass\n",
    "    \n",
    "    def eat(self):\n",
    "        print(\"print the eat method from human\")"
   ]
  },
  {
   "cell_type": "code",
   "execution_count": 49,
   "id": "ae48abc4-570b-45c3-8f77-6e2451985c85",
   "metadata": {},
   "outputs": [],
   "source": [
    "class male(human):\n",
    "    def __init__(self, name):\n",
    "        self.name = name\n",
    "    \n",
    "    def eat(self):\n",
    "        super().eat()\n",
    "        print(self.name)       "
   ]
  },
  {
   "cell_type": "code",
   "execution_count": 50,
   "id": "252a3c1e-5634-431b-9b8c-22689f567ae7",
   "metadata": {},
   "outputs": [],
   "source": [
    "sudh = male(\"sudhanshu\")"
   ]
  },
  {
   "cell_type": "code",
   "execution_count": 51,
   "id": "45427b40-1792-4b65-8fc4-8e3989f7add6",
   "metadata": {},
   "outputs": [
    {
     "name": "stdout",
     "output_type": "stream",
     "text": [
      "print the eat method from human\n",
      "sudhanshu\n"
     ]
    }
   ],
   "source": [
    "sudh.eat()"
   ]
  },
  {
   "cell_type": "code",
   "execution_count": 55,
   "id": "1f415eeb-dbd6-43d7-bebc-5c2da59be6c0",
   "metadata": {},
   "outputs": [],
   "source": [
    "class fileopener:\n",
    "    \n",
    "    def __init__(self,filename):\n",
    "        self.filename = filename\n",
    "        \n",
    "    def open_file(self):\n",
    "        print(\"this will open the file \" , self.filename)\n",
    "        \n",
    "    def __del__(self):\n",
    "        self.filename\n",
    "        "
   ]
  },
  {
   "cell_type": "code",
   "execution_count": 56,
   "id": "40ef0a9d-9e27-48a4-906e-d5543f88ba16",
   "metadata": {},
   "outputs": [],
   "source": [
    "f1 = fileopener(\"f1.txt\")"
   ]
  },
  {
   "cell_type": "code",
   "execution_count": 57,
   "id": "a9c9f903-fd3c-4bbf-8810-8e4bebd1b344",
   "metadata": {},
   "outputs": [
    {
     "name": "stdout",
     "output_type": "stream",
     "text": [
      "this will open the file  f1.txt\n"
     ]
    }
   ],
   "source": [
    "f1.open_file()"
   ]
  },
  {
   "cell_type": "code",
   "execution_count": 76,
   "id": "79242248-9b89-4744-a2fa-2304ebf61ddb",
   "metadata": {},
   "outputs": [],
   "source": [
    "import time \n",
    "class timer:\n",
    "    def __init__(self):\n",
    "        self.start_time = time.time()\n",
    "        \n",
    "    def task(self):\n",
    "        time_spent = time.time() - self.start_time\n",
    "        print(time_spent)\n",
    "        \n",
    "    def __del__(self):\n",
    "        print(\"\")\n",
    "        \n",
    "    def __str__(self) :\n",
    "        return \"this is my class timer\""
   ]
  },
  {
   "cell_type": "code",
   "execution_count": 77,
   "id": "ebb35fe6-c6b9-48ee-8858-afb59a7cbc2b",
   "metadata": {},
   "outputs": [
    {
     "name": "stdout",
     "output_type": "stream",
     "text": [
      "\n"
     ]
    }
   ],
   "source": [
    "t1 = timer()"
   ]
  },
  {
   "cell_type": "code",
   "execution_count": 78,
   "id": "b9446614-b63b-4b20-8357-755be927d952",
   "metadata": {},
   "outputs": [
    {
     "name": "stdout",
     "output_type": "stream",
     "text": [
      "0.2857837677001953\n"
     ]
    }
   ],
   "source": [
    "t1.task()"
   ]
  },
  {
   "cell_type": "code",
   "execution_count": 79,
   "id": "ff56a342-a58b-45e6-a2d3-9804beff4da8",
   "metadata": {},
   "outputs": [
    {
     "name": "stdout",
     "output_type": "stream",
     "text": [
      "this is my class timer\n"
     ]
    }
   ],
   "source": [
    "print(t1)"
   ]
  },
  {
   "cell_type": "code",
   "execution_count": 86,
   "id": "36a277d7-1ad6-4656-b422-89599b1b1279",
   "metadata": {},
   "outputs": [],
   "source": [
    "def test(func):\n",
    "    def inner_test():\n",
    "        print(\"this is the start of my inner test\")\n",
    "        func()\n",
    "        print(\"this the end of my inner test\")\n",
    "        \n",
    "    return inner_test\n",
    "\n",
    "@test\n",
    "def test1():\n",
    "    print(\"thsi is my test1\")   "
   ]
  },
  {
   "cell_type": "code",
   "execution_count": 87,
   "id": "f2f9207e-90b7-460d-8cf6-21a7fadf1de7",
   "metadata": {},
   "outputs": [
    {
     "name": "stdout",
     "output_type": "stream",
     "text": [
      "this is the start of my inner test\n",
      "thsi is my test1\n",
      "this the end of my inner test\n"
     ]
    }
   ],
   "source": [
    "test1()"
   ]
  },
  {
   "cell_type": "code",
   "execution_count": 88,
   "id": "891f4626-84d5-4716-8b25-a0ad6bffb3f2",
   "metadata": {},
   "outputs": [
    {
     "data": {
      "text/plain": [
       "<function __main__.test.<locals>.inner_test()>"
      ]
     },
     "execution_count": 88,
     "metadata": {},
     "output_type": "execute_result"
    }
   ],
   "source": [
    "test(test1)"
   ]
  },
  {
   "cell_type": "code",
   "execution_count": 93,
   "id": "21340ae8-c2e5-4be7-923f-088d73e51e30",
   "metadata": {},
   "outputs": [],
   "source": [
    "import time \n",
    "def print_list(l):\n",
    "    start_time = time.time()\n",
    "    for i in l :\n",
    "            print(i)\n",
    "    end_time = time.time()\n",
    "    total_time = end_time - start_time\n",
    "    print(total_time)"
   ]
  },
  {
   "cell_type": "code",
   "execution_count": 94,
   "id": "9c92cc22-7427-4014-b199-30f71d569c3f",
   "metadata": {},
   "outputs": [],
   "source": [
    "def print_key(d):\n",
    "    \n",
    "    print(d.keys())\n"
   ]
  },
  {
   "cell_type": "code",
   "execution_count": 104,
   "id": "60934a6e-3430-4b2e-b701-dd116efabd2d",
   "metadata": {},
   "outputs": [],
   "source": [
    "def find_time(func):\n",
    "    def cal_time(*args):\n",
    "        start_time = time.time()\n",
    "        func(*args)\n",
    "        end_time = time.time()\n",
    "        total_time = end_time - start_time\n",
    "        print(total_time)\n",
    "        \n",
    "    return cal_time"
   ]
  },
  {
   "cell_type": "code",
   "execution_count": 105,
   "id": "8108bfdb-3dc6-48b1-8755-58e88adfd21a",
   "metadata": {},
   "outputs": [],
   "source": [
    "@find_time\n",
    "def print_key(d):\n",
    "    \n",
    "    print(d.keys())"
   ]
  },
  {
   "cell_type": "code",
   "execution_count": 106,
   "id": "6a2fb53b-d8a4-4b63-ae82-ffc56589507c",
   "metadata": {},
   "outputs": [
    {
     "name": "stdout",
     "output_type": "stream",
     "text": [
      "dict_keys(['key', 'name'])\n",
      "6.0558319091796875e-05\n"
     ]
    }
   ],
   "source": [
    "print_key({\"key\":\"value\" ,\"name\" : \"sudh\"})"
   ]
  },
  {
   "cell_type": "code",
   "execution_count": 108,
   "id": "a732c7c0-6542-4e21-85ec-db96d4ffaafe",
   "metadata": {},
   "outputs": [],
   "source": [
    "@find_time\n",
    "def print_list(l):\n",
    "    for i in l :\n",
    "            print(i)"
   ]
  },
  {
   "cell_type": "code",
   "execution_count": 109,
   "id": "59c60708-9aa6-4b30-8d48-93dd943b6748",
   "metadata": {},
   "outputs": [
    {
     "name": "stdout",
     "output_type": "stream",
     "text": [
      "23\n",
      "4\n",
      "5\n",
      "5\n",
      "6\n",
      "67\n",
      "7\n",
      "8\n",
      "8.106231689453125e-05\n"
     ]
    }
   ],
   "source": [
    "print_list([23,4,5,5,6,67,7,8])"
   ]
  },
  {
   "cell_type": "code",
   "execution_count": 111,
   "id": "038a71e2-5fb4-411f-bbb3-9ce1e353de38",
   "metadata": {},
   "outputs": [],
   "source": [
    "import logging\n",
    "def log_fun(func):\n",
    "    def log_inner(*args):\n",
    "        logging.basicConfig(filename = \"test.log\" , level=logging.INFO)\n",
    "        logging.info(\"this is the a start of my func\")\n",
    "        func(*args)\n",
    "        logging.info(\"this is the a end of my func\")\n",
    "    return log_inner\n",
    "        "
   ]
  },
  {
   "cell_type": "code",
   "execution_count": 114,
   "id": "9157a39b-e229-4e98-830b-7786c907b11f",
   "metadata": {},
   "outputs": [],
   "source": [
    "@find_time\n",
    "@log_fun\n",
    "def print_list(l):\n",
    "    for i in l :\n",
    "            print(i)"
   ]
  },
  {
   "cell_type": "code",
   "execution_count": 115,
   "id": "23342cae-dc4e-43c1-a4de-b6ce90bf08f0",
   "metadata": {},
   "outputs": [
    {
     "name": "stdout",
     "output_type": "stream",
     "text": [
      "23\n",
      "4\n",
      "5\n",
      "5\n",
      "6\n",
      "67\n",
      "7\n",
      "8\n",
      "0.0006842613220214844\n"
     ]
    }
   ],
   "source": [
    "print_list([23,4,5,5,6,67,7,8])"
   ]
  },
  {
   "cell_type": "code",
   "execution_count": 121,
   "id": "fb75e2ad-30e2-4f61-bb05-6b7f40aefc93",
   "metadata": {},
   "outputs": [],
   "source": [
    "class sudh:\n",
    "    def __init__(self , subject):\n",
    "        self.__subject = subject\n",
    "        "
   ]
  },
  {
   "cell_type": "code",
   "execution_count": 122,
   "id": "e6ba544b-9969-4123-8d1d-9ff402adca46",
   "metadata": {},
   "outputs": [],
   "source": [
    "s1 = sudh(\"data science\")"
   ]
  },
  {
   "cell_type": "code",
   "execution_count": 126,
   "id": "3ccc3297-bbd5-41f1-9fbf-8b1665755064",
   "metadata": {},
   "outputs": [],
   "source": [
    "s1._sudh__subject = \"Big data\""
   ]
  },
  {
   "cell_type": "code",
   "execution_count": 127,
   "id": "f5b8e6f8-0b6f-4d21-932e-0ba33e319ff1",
   "metadata": {},
   "outputs": [
    {
     "data": {
      "text/plain": [
       "'Big data'"
      ]
     },
     "execution_count": 127,
     "metadata": {},
     "output_type": "execute_result"
    }
   ],
   "source": [
    "s1._sudh__subject"
   ]
  },
  {
   "cell_type": "code",
   "execution_count": 134,
   "id": "20070250-4ab6-443a-acb2-634490b797ae",
   "metadata": {},
   "outputs": [],
   "source": [
    "class sudh:\n",
    "    def __init__(self , subject):\n",
    "        self.__subject = subject\n",
    "        \n",
    "    @property\n",
    "    def subject1(self):\n",
    "        return self.__subject\n",
    "    \n",
    "    @subject1.setter\n",
    "    def subject1(self,subject):\n",
    "        self.__subject = subject\n",
    "    \n",
    "    @subject1.getter\n",
    "    def subject1(self):\n",
    "        return self.__subject"
   ]
  },
  {
   "cell_type": "code",
   "execution_count": 135,
   "id": "40fa2af6-0dd1-4a76-b035-c2ad022e07a4",
   "metadata": {},
   "outputs": [],
   "source": [
    "s2 = sudh(\"data analytics\")"
   ]
  },
  {
   "cell_type": "code",
   "execution_count": 137,
   "id": "d37b91f8-cdd5-49f1-a0e1-f119d0ee67bc",
   "metadata": {},
   "outputs": [
    {
     "data": {
      "text/plain": [
       "'data analytics'"
      ]
     },
     "execution_count": 137,
     "metadata": {},
     "output_type": "execute_result"
    }
   ],
   "source": [
    "s2.subject1"
   ]
  },
  {
   "cell_type": "code",
   "execution_count": 138,
   "id": "bedffdd8-77f2-48af-8a40-1625c8c859ab",
   "metadata": {},
   "outputs": [],
   "source": [
    "s2.subject1 = \"blockchain\""
   ]
  },
  {
   "cell_type": "code",
   "execution_count": 139,
   "id": "59af4a65-f5f2-4038-b00b-74594810a9ca",
   "metadata": {},
   "outputs": [
    {
     "data": {
      "text/plain": [
       "'blockchain'"
      ]
     },
     "execution_count": 139,
     "metadata": {},
     "output_type": "execute_result"
    }
   ],
   "source": [
    "s2.subject1"
   ]
  },
  {
   "cell_type": "code",
   "execution_count": null,
   "id": "1a5c7745-8e90-403b-8afd-3d239727141b",
   "metadata": {},
   "outputs": [],
   "source": []
  }
 ],
 "metadata": {
  "kernelspec": {
   "display_name": "Python 3 (ipykernel)",
   "language": "python",
   "name": "python3"
  },
  "language_info": {
   "codemirror_mode": {
    "name": "ipython",
    "version": 3
   },
   "file_extension": ".py",
   "mimetype": "text/x-python",
   "name": "python",
   "nbconvert_exporter": "python",
   "pygments_lexer": "ipython3",
   "version": "3.10.8"
  }
 },
 "nbformat": 4,
 "nbformat_minor": 5
}
